{
 "cells": [
  {
   "cell_type": "markdown",
   "metadata": {},
   "source": [
    "1. Даны 2 строки long_phrase и short_phrase. Напишите код, который проверяет действительно ли длинная фраза long_phrase длиннее короткой short_phrase. И выводит True или False в зависимости от результата сравнения.\n",
    "\n",
    "long_phrase = 'Насколько проще было бы писать программы, если бы не заказчики'\n",
    "short_phrase = '640Кб должно хватить для любых задач. Билл Гейтс (по легенде)'"
   ]
  },
  {
   "cell_type": "code",
   "execution_count": 3,
   "metadata": {},
   "outputs": [
    {
     "name": "stdout",
     "output_type": "stream",
     "text": [
      "My code is perfect\n",
      "My code is not as perfect as I wish it would be\n"
     ]
    },
    {
     "data": {
      "text/plain": [
       "False"
      ]
     },
     "execution_count": 3,
     "metadata": {},
     "output_type": "execute_result"
    }
   ],
   "source": [
    "def is_longer(long, short):\n",
    "    return len(long) > len(short)\n",
    "is_longer(input(), input())\n"
   ]
  },
  {
   "cell_type": "markdown",
   "metadata": {},
   "source": [
    "Тесты для первого задания:"
   ]
  },
  {
   "cell_type": "code",
   "execution_count": 12,
   "metadata": {},
   "outputs": [
    {
     "data": {
      "text/plain": [
       "\"But first, make Jupyter to display any variable or statement on it's own line without the need for a print statement.\""
      ]
     },
     "execution_count": 12,
     "metadata": {},
     "output_type": "execute_result"
    }
   ],
   "source": [
    "'''But first, make Jupyter to display any variable or statement on it's own line without the need for a print statement.'''\n",
    "from IPython.core.interactiveshell import InteractiveShell\n",
    "InteractiveShell.ast_node_interactivity = \"all\""
   ]
  },
  {
   "cell_type": "code",
   "execution_count": 11,
   "metadata": {},
   "outputs": [
    {
     "data": {
      "text/plain": [
       "True"
      ]
     },
     "execution_count": 11,
     "metadata": {},
     "output_type": "execute_result"
    },
    {
     "data": {
      "text/plain": [
       "True"
      ]
     },
     "execution_count": 11,
     "metadata": {},
     "output_type": "execute_result"
    },
    {
     "data": {
      "text/plain": [
       "False"
      ]
     },
     "execution_count": 11,
     "metadata": {},
     "output_type": "execute_result"
    },
    {
     "data": {
      "text/plain": [
       "True"
      ]
     },
     "execution_count": 11,
     "metadata": {},
     "output_type": "execute_result"
    }
   ],
   "source": [
    "is_longer('Hello','Hi')\n",
    "is_longer('123','1')\n",
    "is_longer('1','123')\n",
    "is_longer('HJkjhkjdfdKKJNnjNJNJ8789dsfdsfjk','nxcsdc')"
   ]
  },
  {
   "cell_type": "markdown",
   "metadata": {},
   "source": [
    "2. Дана строка text. Определите какая из двух букв встречается в нем чаще - 'а' или 'и'.\n",
    "text = 'Если программист в 9-00 утра на работе, значит, он там и ночевал'\n",
    "\n",
    "P. S. Вам может помочь метод replace."
   ]
  },
  {
   "cell_type": "code",
   "execution_count": 15,
   "metadata": {},
   "outputs": [],
   "source": [
    "def count_letter(text, letter_frst, letter_scnd):\n",
    "    print(letter_frst if len(text.lower().replace(letter_frst.lower(),'')) < len(text.lower().replace(letter_scnd.lower(), '')) else letter_scnd)\n",
    "    "
   ]
  },
  {
   "cell_type": "code",
   "execution_count": 16,
   "metadata": {},
   "outputs": [
    {
     "name": "stdout",
     "output_type": "stream",
     "text": [
      "а\n"
     ]
    }
   ],
   "source": [
    "count_letter( 'Если программист в 9-00 утра на работе, значит, он там и ночевал','а','и')"
   ]
  },
  {
   "cell_type": "markdown",
   "metadata": {},
   "source": [
    "Тесты для второго задания:"
   ]
  },
  {
   "cell_type": "code",
   "execution_count": 17,
   "metadata": {},
   "outputs": [
    {
     "name": "stdout",
     "output_type": "stream",
     "text": [
      "e\n",
      "e\n",
      "a\n"
     ]
    }
   ],
   "source": [
    "count_letter('Some text for testing','o','e')\n",
    "count_letter('SOme tExt for tEsting','O','e')\n",
    "count_letter('123321SignaAAaliing','a','i')"
   ]
  },
  {
   "cell_type": "markdown",
   "metadata": {},
   "source": [
    "3. Дано значение объема файла в байтах. Напишите перевод этого значения в мегабайты в формате:\n",
    "'Объем файла равен 213.68Mb'"
   ]
  },
  {
   "cell_type": "code",
   "execution_count": 30,
   "metadata": {},
   "outputs": [],
   "source": [
    "# reference: http://aldro.ru/science/22-bajty-bity-teoriya-i-perevod.html\n",
    "def convert_to_mb(num):\n",
    "    try:\n",
    "        print('Объем файла равен {:.2f}Mb'.format(num / 1048576))\n",
    "    except TypeError:\n",
    "        print('Wrong type of your number!')"
   ]
  },
  {
   "cell_type": "code",
   "execution_count": 31,
   "metadata": {},
   "outputs": [
    {
     "name": "stdout",
     "output_type": "stream",
     "text": [
      "Объем файла равен 213.68Mb\n"
     ]
    }
   ],
   "source": [
    "convert_to_mb(213.68 * 1048576)"
   ]
  },
  {
   "cell_type": "markdown",
   "metadata": {},
   "source": [
    "Тесты для третьего задания:"
   ]
  },
  {
   "cell_type": "code",
   "execution_count": 32,
   "metadata": {},
   "outputs": [
    {
     "name": "stdout",
     "output_type": "stream",
     "text": [
      "Объем файла равен 1.00Mb\n",
      "Объем файла равен 95.37Mb\n",
      "Объем файла равен 0.02Mb\n",
      "Объем файла равен 2.23Mb\n",
      "Wrong type of your number!\n",
      "Wrong type of your number!\n"
     ]
    }
   ],
   "source": [
    "convert_to_mb(1048576)\n",
    "convert_to_mb(100000000)\n",
    "convert_to_mb(23123)\n",
    "convert_to_mb(2341234)\n",
    "convert_to_mb('sdfsd')\n",
    "convert_to_mb('23423f')"
   ]
  },
  {
   "cell_type": "markdown",
   "metadata": {},
   "source": [
    "4. Выведите на экран значение синуса 30 градусов с помощью метода math.sin."
   ]
  },
  {
   "cell_type": "code",
   "execution_count": 37,
   "metadata": {},
   "outputs": [],
   "source": [
    "import math\n",
    "def sin(angle):\n",
    "    return math.sin(angle * math.pi / 180)"
   ]
  },
  {
   "cell_type": "code",
   "execution_count": 38,
   "metadata": {},
   "outputs": [
    {
     "data": {
      "text/plain": [
       "0.49999999999999994"
      ]
     },
     "execution_count": 38,
     "metadata": {},
     "output_type": "execute_result"
    }
   ],
   "source": [
    "sin(30)"
   ]
  },
  {
   "cell_type": "markdown",
   "metadata": {},
   "source": [
    "Тесты для четвертого задания:"
   ]
  },
  {
   "cell_type": "code",
   "execution_count": 39,
   "metadata": {},
   "outputs": [
    {
     "data": {
      "text/plain": [
       "0.7071067811865476"
      ]
     },
     "execution_count": 39,
     "metadata": {},
     "output_type": "execute_result"
    },
    {
     "data": {
      "text/plain": [
       "0.8660254037844386"
      ]
     },
     "execution_count": 39,
     "metadata": {},
     "output_type": "execute_result"
    },
    {
     "data": {
      "text/plain": [
       "1.0"
      ]
     },
     "execution_count": 39,
     "metadata": {},
     "output_type": "execute_result"
    },
    {
     "data": {
      "text/plain": [
       "0.25881904510252074"
      ]
     },
     "execution_count": 39,
     "metadata": {},
     "output_type": "execute_result"
    }
   ],
   "source": [
    "sin(45)\n",
    "sin(60)\n",
    "sin(90)\n",
    "sin(15)"
   ]
  },
  {
   "cell_type": "code",
   "execution_count": null,
   "metadata": {},
   "outputs": [],
   "source": []
  }
 ],
 "metadata": {
  "kernelspec": {
   "display_name": "Python 3",
   "language": "python",
   "name": "python3"
  },
  "language_info": {
   "codemirror_mode": {
    "name": "ipython",
    "version": 3
   },
   "file_extension": ".py",
   "mimetype": "text/x-python",
   "name": "python",
   "nbconvert_exporter": "python",
   "pygments_lexer": "ipython3",
   "version": "3.6.5"
  }
 },
 "nbformat": 4,
 "nbformat_minor": 2
}
