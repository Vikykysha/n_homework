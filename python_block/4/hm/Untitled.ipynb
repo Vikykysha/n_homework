{
 "cells": [
  {
   "cell_type": "markdown",
   "metadata": {},
   "source": [
    "### Задание 1\n",
    "Напишите функцию date_range, которая возвращает список дней между датами start_date и end_date. Даты должны вводиться в формате YYYY-MM-DD."
   ]
  },
  {
   "cell_type": "markdown",
   "metadata": {},
   "source": [
    "### Задание 2\n",
    "Дополните функцию из первого задания проверкой на корректность дат. В случае неверного формата или если start_date > end_date должен возвращаться пустой список."
   ]
  },
  {
   "cell_type": "code",
   "execution_count": 9,
   "metadata": {},
   "outputs": [],
   "source": [
    "from IPython.core.interactiveshell import InteractiveShell\n",
    "InteractiveShell.ast_node_interactivity = \"all\"\n",
    "\n",
    "from datetime import datetime, timedelta\n",
    "def date_range(start_date, end_date):\n",
    "    '''Возвращает список дней между двумя датами, не учитывая начальную или конечную дату'''\n",
    "    date_lst = []\n",
    "    try:\n",
    "        start_date = datetime.strptime(start_date, '%Y-%m-%d')\n",
    "        end_date = datetime.strptime(end_date, '%Y-%m-%d')\n",
    "    except ValueError:\n",
    "        return []\n",
    "    cur_date = start_date + timedelta(days = 1)\n",
    "    while cur_date < end_date:\n",
    "        date_lst.append(cur_date.day)\n",
    "        cur_date += timedelta(days = 1)\n",
    "    return date_lst"
   ]
  },
  {
   "cell_type": "code",
   "execution_count": 12,
   "metadata": {},
   "outputs": [
    {
     "data": {
      "text/plain": [
       "[2, 3]"
      ]
     },
     "execution_count": 12,
     "metadata": {},
     "output_type": "execute_result"
    },
    {
     "data": {
      "text/plain": [
       "[]"
      ]
     },
     "execution_count": 12,
     "metadata": {},
     "output_type": "execute_result"
    },
    {
     "data": {
      "text/plain": [
       "[]"
      ]
     },
     "execution_count": 12,
     "metadata": {},
     "output_type": "execute_result"
    },
    {
     "data": {
      "text/plain": [
       "[]"
      ]
     },
     "execution_count": 12,
     "metadata": {},
     "output_type": "execute_result"
    }
   ],
   "source": [
    "date_range('2018-09-01','2018-09-04')\n",
    "date_range('2018-09-01','T2018-10-01')\n",
    "date_range('2018-09-01','2018-01-01')\n",
    "date_range('2018-09-01T','2018-10-01')"
   ]
  },
  {
   "cell_type": "markdown",
   "metadata": {},
   "source": [
    "### Задание 3\n",
    "Дан поток дат в формате YYYY-MM-DD, в которых встречаются некорректные значения:\n",
    "stream = ['2018-04-02', '2018-02-29', '2018-19-02']\n",
    "\n",
    "Напишите функцию, которая проверяет эти даты на корректность. Т. е. для каждой даты возвращает True (дата корректна) или False (некорректная дата). "
   ]
  },
  {
   "cell_type": "code",
   "execution_count": 13,
   "metadata": {},
   "outputs": [],
   "source": [
    "def date_is_correct(dat):\n",
    "    '''Проверяет переданную дату на корректность'''\n",
    "    try:\n",
    "        dat = datetime.strptime(dat, '%Y-%m-%d')\n",
    "    except ValueError:\n",
    "        return False\n",
    "    return True"
   ]
  },
  {
   "cell_type": "code",
   "execution_count": 14,
   "metadata": {},
   "outputs": [
    {
     "data": {
      "text/plain": [
       "True"
      ]
     },
     "execution_count": 14,
     "metadata": {},
     "output_type": "execute_result"
    },
    {
     "data": {
      "text/plain": [
       "True"
      ]
     },
     "execution_count": 14,
     "metadata": {},
     "output_type": "execute_result"
    },
    {
     "data": {
      "text/plain": [
       "False"
      ]
     },
     "execution_count": 14,
     "metadata": {},
     "output_type": "execute_result"
    },
    {
     "data": {
      "text/plain": [
       "False"
      ]
     },
     "execution_count": 14,
     "metadata": {},
     "output_type": "execute_result"
    }
   ],
   "source": [
    "date_is_correct('2018-01-01')\n",
    "date_is_correct('2018-02-02')\n",
    "date_is_correct('2018-02-29')\n",
    "date_is_correct('2018-01-012')"
   ]
  },
  {
   "cell_type": "markdown",
   "metadata": {},
   "source": [
    "### Задание 4\n",
    "Напишите функцию, которая возвращает список дат с 1 по вчерашний день текущего месяца. Если дан 1 день месяца, то возвращается список дней прошлого месяца."
   ]
  },
  {
   "cell_type": "code",
   "execution_count": 39,
   "metadata": {},
   "outputs": [],
   "source": [
    "from datetime import datetime, timedelta\n",
    "def get_days():\n",
    "    '''Возвращает список дат с 1 по вчерашний день текущего месяца. \n",
    "    Если дан 1 день месяца, то возвращается список дней прошлого месяца.'''\n",
    "    now = datetime.now()\n",
    "    #now = datetime.strptime('2018-12-01','%Y-%m-%d') #для проверки случая с 1 днем\n",
    "    dates_lst= []\n",
    "    if now.day != 1:\n",
    "        first_day = datetime.strptime(now.strftime('%Y-%m-01'),'%Y-%m-%d')\n",
    "        while first_day < now:\n",
    "            dates_lst.append(first_day.strftime('%Y-%m-%d') )\n",
    "            first_day +=timedelta(days=1)\n",
    "    else:\n",
    "        first_day = datetime.strptime((now - timedelta(days=1)).strftime('%Y-%m-01'),'%Y-%m-%d')\n",
    "        last_date = datetime.strptime(now.strftime('%Y-%m-01'),'%Y-%m-%d')\n",
    "        while first_day < last_date:\n",
    "            dates_lst.append(first_day.strftime('%Y-%m-%d') )\n",
    "            first_day +=timedelta(days=1)\n",
    "    return dates_lst"
   ]
  },
  {
   "cell_type": "code",
   "execution_count": 40,
   "metadata": {},
   "outputs": [
    {
     "data": {
      "text/plain": [
       "['2018-12-01',\n",
       " '2018-12-02',\n",
       " '2018-12-03',\n",
       " '2018-12-04',\n",
       " '2018-12-05',\n",
       " '2018-12-06',\n",
       " '2018-12-07',\n",
       " '2018-12-08',\n",
       " '2018-12-09',\n",
       " '2018-12-10',\n",
       " '2018-12-11',\n",
       " '2018-12-12',\n",
       " '2018-12-13',\n",
       " '2018-12-14',\n",
       " '2018-12-15']"
      ]
     },
     "execution_count": 40,
     "metadata": {},
     "output_type": "execute_result"
    }
   ],
   "source": [
    "get_days()"
   ]
  },
  {
   "cell_type": "markdown",
   "metadata": {},
   "source": [
    "### Задание 5\n",
    "Напишите функцию, которая возвращает точную дату в формате YYYY-MM-DD по фразе:\n",
    "1. 'today' - сегодняшнюю дату\n",
    "2. 'last monday' -  прошлый понедельник\n",
    "3. 'last day' - Последний день текущего месяца"
   ]
  },
  {
   "cell_type": "code",
   "execution_count": 66,
   "metadata": {},
   "outputs": [],
   "source": [
    "from calendar import monthrange\n",
    "def today():\n",
    "    return datetime.now().strftime('%Y-%m-%d')\n",
    "def last_monday():\n",
    "    weekday_day = datetime.now().weekday()\n",
    "    return (datetime.now() - timedelta(days = weekday_day)).strftime(\"%Y-%m-%d\")\n",
    "def last_day():\n",
    "    dat = datetime.now()\n",
    "    return (dat).strftime('%Y-%m-{}'.format(monthrange(dat.year, dat.month)[1]))\n",
    "def get_date(dat = 'today'):\n",
    "    '''Возвращает дату, указанную в передаваемом параметре'''\n",
    "    dict_of_commands = {'today' : today, 'last monday' : last_monday, 'last_day' : last_day}\n",
    "    return dict_of_commands[dat]() if dat.lower() in dict_of_commands else 'wrong day!'"
   ]
  },
  {
   "cell_type": "code",
   "execution_count": 67,
   "metadata": {},
   "outputs": [
    {
     "data": {
      "text/plain": [
       "'2018-12-10'"
      ]
     },
     "execution_count": 67,
     "metadata": {},
     "output_type": "execute_result"
    }
   ],
   "source": [
    "get_date(dat = 'last monday')"
   ]
  },
  {
   "cell_type": "code",
   "execution_count": 68,
   "metadata": {},
   "outputs": [
    {
     "data": {
      "text/plain": [
       "'2018-12-15'"
      ]
     },
     "execution_count": 68,
     "metadata": {},
     "output_type": "execute_result"
    }
   ],
   "source": [
    "get_date()"
   ]
  },
  {
   "cell_type": "code",
   "execution_count": 69,
   "metadata": {},
   "outputs": [
    {
     "data": {
      "text/plain": [
       "'2018-12-31'"
      ]
     },
     "execution_count": 69,
     "metadata": {},
     "output_type": "execute_result"
    }
   ],
   "source": [
    "get_date('last_day')"
   ]
  },
  {
   "cell_type": "code",
   "execution_count": 70,
   "metadata": {},
   "outputs": [
    {
     "data": {
      "text/plain": [
       "'wrong day!'"
      ]
     },
     "execution_count": 70,
     "metadata": {},
     "output_type": "execute_result"
    }
   ],
   "source": [
    "get_date('some day')"
   ]
  },
  {
   "cell_type": "markdown",
   "metadata": {},
   "source": [
    "### Задание 6\n",
    "Напишите функцию, которая разбивает на недели с понедельника по воскресенье интервал дат между start_date и end_date. Считайте, что входные данные всегда корректны. В ответ должны входить только полные недели."
   ]
  },
  {
   "cell_type": "code",
   "execution_count": 6,
   "metadata": {},
   "outputs": [],
   "source": [
    "import calendar\n",
    "from datetime import timedelta, datetime"
   ]
  },
  {
   "cell_type": "code",
   "execution_count": 21,
   "metadata": {},
   "outputs": [],
   "source": [
    "def get_weeks(start_date, end_date, incl_dates = True):\n",
    "    '''Разбивает на недели с понедельника по воскресенье интервал дат между start_date и end_date\n",
    "    Если параметр incl_dates обозначен как True, итоговый список будет включать недели со start_date и end_date'''\n",
    "    if end_date < start_date:\n",
    "        start_date, end_date = end_date, start_date\n",
    "    lst_date = []\n",
    "    start = datetime.strptime(start_date,'%Y-%m-%d')\n",
    "    end = datetime.strptime(end_date,'%Y-%m-%d')\n",
    "    start_monday = start  - timedelta(days = start.weekday())\n",
    "    end_sunday = end  + timedelta(days = 6 - end.weekday()) # вообще будет работать, если мы просто оставим end как есть\n",
    "    cur_date = start_monday\n",
    "    while cur_date <= end_sunday:\n",
    "        lst = []\n",
    "        for _ in range(7):\n",
    "            lst.append(cur_date.strftime('%Y-%m-%d'))\n",
    "            cur_date += timedelta(days = 1)\n",
    "        lst_date.append(lst)\n",
    "    return lst_date if incl_dates else  lst_date[1:len(lst_date) - 1] if len(lst_date) > 1 else []"
   ]
  },
  {
   "cell_type": "code",
   "execution_count": 22,
   "metadata": {},
   "outputs": [
    {
     "data": {
      "text/plain": [
       "[]"
      ]
     },
     "execution_count": 22,
     "metadata": {},
     "output_type": "execute_result"
    }
   ],
   "source": [
    "get_weeks('2018-09-03', '2018-09-11', False) #случай, когда дни расположены в подряд идущих неделях, то есть полных недель между start_date и end_date нет"
   ]
  },
  {
   "cell_type": "code",
   "execution_count": 23,
   "metadata": {},
   "outputs": [
    {
     "data": {
      "text/plain": [
       "[['2018-09-03',\n",
       "  '2018-09-04',\n",
       "  '2018-09-05',\n",
       "  '2018-09-06',\n",
       "  '2018-09-07',\n",
       "  '2018-09-08',\n",
       "  '2018-09-09'],\n",
       " ['2018-09-10',\n",
       "  '2018-09-11',\n",
       "  '2018-09-12',\n",
       "  '2018-09-13',\n",
       "  '2018-09-14',\n",
       "  '2018-09-15',\n",
       "  '2018-09-16']]"
      ]
     },
     "execution_count": 23,
     "metadata": {},
     "output_type": "execute_result"
    }
   ],
   "source": [
    "get_weeks('2018-09-03', '2018-09-11')"
   ]
  },
  {
   "cell_type": "code",
   "execution_count": 24,
   "metadata": {},
   "outputs": [
    {
     "data": {
      "text/plain": [
       "[['2018-12-03',\n",
       "  '2018-12-04',\n",
       "  '2018-12-05',\n",
       "  '2018-12-06',\n",
       "  '2018-12-07',\n",
       "  '2018-12-08',\n",
       "  '2018-12-09'],\n",
       " ['2018-12-10',\n",
       "  '2018-12-11',\n",
       "  '2018-12-12',\n",
       "  '2018-12-13',\n",
       "  '2018-12-14',\n",
       "  '2018-12-15',\n",
       "  '2018-12-16'],\n",
       " ['2018-12-17',\n",
       "  '2018-12-18',\n",
       "  '2018-12-19',\n",
       "  '2018-12-20',\n",
       "  '2018-12-21',\n",
       "  '2018-12-22',\n",
       "  '2018-12-23']]"
      ]
     },
     "execution_count": 24,
     "metadata": {},
     "output_type": "execute_result"
    }
   ],
   "source": [
    "get_weeks('2018-12-03', '2018-12-17')"
   ]
  },
  {
   "cell_type": "code",
   "execution_count": 25,
   "metadata": {},
   "outputs": [
    {
     "data": {
      "text/plain": [
       "[['2018-11-26',\n",
       "  '2018-11-27',\n",
       "  '2018-11-28',\n",
       "  '2018-11-29',\n",
       "  '2018-11-30',\n",
       "  '2018-12-01',\n",
       "  '2018-12-02'],\n",
       " ['2018-12-03',\n",
       "  '2018-12-04',\n",
       "  '2018-12-05',\n",
       "  '2018-12-06',\n",
       "  '2018-12-07',\n",
       "  '2018-12-08',\n",
       "  '2018-12-09'],\n",
       " ['2018-12-10',\n",
       "  '2018-12-11',\n",
       "  '2018-12-12',\n",
       "  '2018-12-13',\n",
       "  '2018-12-14',\n",
       "  '2018-12-15',\n",
       "  '2018-12-16'],\n",
       " ['2018-12-17',\n",
       "  '2018-12-18',\n",
       "  '2018-12-19',\n",
       "  '2018-12-20',\n",
       "  '2018-12-21',\n",
       "  '2018-12-22',\n",
       "  '2018-12-23'],\n",
       " ['2018-12-24',\n",
       "  '2018-12-25',\n",
       "  '2018-12-26',\n",
       "  '2018-12-27',\n",
       "  '2018-12-28',\n",
       "  '2018-12-29',\n",
       "  '2018-12-30']]"
      ]
     },
     "execution_count": 25,
     "metadata": {},
     "output_type": "execute_result"
    }
   ],
   "source": [
    "get_weeks('2018-12-01', '2018-12-26')"
   ]
  }
 ],
 "metadata": {
  "kernelspec": {
   "display_name": "Python 3",
   "language": "python",
   "name": "python3"
  },
  "language_info": {
   "codemirror_mode": {
    "name": "ipython",
    "version": 3
   },
   "file_extension": ".py",
   "mimetype": "text/x-python",
   "name": "python",
   "nbconvert_exporter": "python",
   "pygments_lexer": "ipython3",
   "version": "3.6.5"
  }
 },
 "nbformat": 4,
 "nbformat_minor": 2
}
