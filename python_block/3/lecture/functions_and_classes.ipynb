{
 "cells": [
  {
   "cell_type": "markdown",
   "metadata": {},
   "source": [
    "# Функции и классы"
   ]
  },
  {
   "cell_type": "code",
   "execution_count": null,
   "metadata": {},
   "outputs": [],
   "source": [
    "i = 0\n",
    "with open('adult.csv', 'r') as f:\n",
    "    for line in f:\n",
    "        print(line)\n",
    "        \n",
    "        i += 1\n",
    "        if i > 5:\n",
    "            break"
   ]
  },
  {
   "cell_type": "markdown",
   "metadata": {},
   "source": [
    "Хотим классифицировать жителей в файле по возрастам:\n",
    "* до 18 лет - children \n",
    "* 19-65 - young\n",
    "* старше 65 - retiree"
   ]
  },
  {
   "cell_type": "code",
   "execution_count": null,
   "metadata": {},
   "outputs": [],
   "source": [
    "i = 0\n",
    "with open('adult.csv', 'r') as f:\n",
    "    for line in f:\n",
    "        age, *_ = line.strip().split(',')\n",
    "        \n",
    "        if i > 0:\n",
    "            print(age)\n",
    "        \n",
    "        i += 1\n",
    "        if i > 5:\n",
    "            break"
   ]
  },
  {
   "cell_type": "code",
   "execution_count": null,
   "metadata": {},
   "outputs": [],
   "source": [
    "i = 0\n",
    "with open('adult.csv', 'r') as f:\n",
    "    for line in f:\n",
    "        age, *_ = line.strip().split(',')\n",
    "        \n",
    "        if i > 0:\n",
    "            if int(age) <= 18:\n",
    "                age_group = 'children'\n",
    "\n",
    "            elif int(age) <= 60:\n",
    "                age_group = 'young'\n",
    "\n",
    "            else:\n",
    "                age_group = 'retiree'\n",
    "                \n",
    "            print(age, age_group)\n",
    "        \n",
    "        i += 1\n",
    "        if i > 10:\n",
    "            break"
   ]
  },
  {
   "cell_type": "markdown",
   "metadata": {},
   "source": [
    "Что тут нехорошо:\n",
    "* сложно потестировать все случаи (в нашем цикле нужных случаев может и не оказаться)\n",
    "* наш цикл стал довольно громоздким, а мы только начали\n",
    "* эта классификация может потребоваться еще в 100500 местах кода\n",
    "* данные могут быть кривыми и скрипт будет падать с ошибкой"
   ]
  },
  {
   "cell_type": "markdown",
   "metadata": {},
   "source": [
    "Условия вычисления возрастной группы:\n",
    "1. В строке 15 столбцов\n",
    "2. Столбец с возрастом первый по счету\n",
    "3. Возраст должен быть целым числом в адекватных пределах\n",
    "4. Могут добавиться еще требования, о которых мы пока не знаем"
   ]
  },
  {
   "cell_type": "code",
   "execution_count": null,
   "metadata": {},
   "outputs": [],
   "source": [
    "line = '25,Private,226802,11th,7,Never-married,Machine-op-inspct,Own-child,Black,Male,0,0,40,United-States,<=50K'"
   ]
  },
  {
   "cell_type": "code",
   "execution_count": null,
   "metadata": {},
   "outputs": [],
   "source": [
    "def line_is_correct(line):\n",
    "    \"\"\"\n",
    "    Проверка строки на корректность. Проверяются условия:\n",
    "    1. В строке 15 столбцов (пригодится с упражнения)\n",
    "    2. Столбец с возрастом первый по счету\n",
    "    3. Возраст должен быть целым числом в адекватных пределах\n",
    "    \"\"\"\n",
    "    age = line.strip().split(',')[0]\n",
    "    \n",
    "    if number_of_columns(line) == 15:\n",
    "        if age_is_correct(age):\n",
    "            return True\n",
    "    \n",
    "    return False"
   ]
  },
  {
   "cell_type": "code",
   "execution_count": null,
   "metadata": {},
   "outputs": [],
   "source": [
    "def number_of_columns(line, separator=','):\n",
    "    \"\"\"Возвращает количество столбцов в строке line с разделителем separator\"\"\"\n",
    "    \n",
    "    return len(line.split(separator))"
   ]
  },
  {
   "cell_type": "code",
   "execution_count": null,
   "metadata": {},
   "outputs": [],
   "source": [
    "def age_is_correct(age, lower_age = 0, upper_age = 120):\n",
    "    \"\"\"\n",
    "    Проверка корректности возраста age по следующим правилам:\n",
    "    1. Целое число\n",
    "    2. В адекватных пределах\n",
    "    \n",
    "    Возвращает True или False. Пример\n",
    "    age_is_correct(15)\n",
    "    True\n",
    "    \n",
    "    age_is_correct(121)\n",
    "    False\n",
    "    \n",
    "    age_is_correct(-5)\n",
    "    False\n",
    "    \"\"\"\n",
    "    \n",
    "    if str.isnumeric(age):\n",
    "        if lower_age <= int(age) <= upper_age:\n",
    "            return True\n",
    "    \n",
    "    return False"
   ]
  },
  {
   "cell_type": "markdown",
   "metadata": {},
   "source": [
    "### Добавляем функции проверки в наш цикл"
   ]
  },
  {
   "cell_type": "code",
   "execution_count": null,
   "metadata": {},
   "outputs": [],
   "source": [
    "i = 0\n",
    "with open('adult.csv', 'r') as f:\n",
    "    for line in f:\n",
    "        \n",
    "        if line_is_correct(line):\n",
    "            age, *_ = line.strip().split(',')\n",
    "            if int(age) <= 18:\n",
    "                age_group = 'children'\n",
    "\n",
    "            elif int(age) <= 60:\n",
    "                age_group = 'young'\n",
    "\n",
    "            else:\n",
    "                age_group = 'retiree'\n",
    "\n",
    "            print(age, age_group)\n",
    "        \n",
    "        i += 1\n",
    "        if i > 10:\n",
    "            break"
   ]
  },
  {
   "cell_type": "markdown",
   "metadata": {},
   "source": [
    "### Давайте вынесем классификацию возраста в отдельную функцию"
   ]
  },
  {
   "cell_type": "code",
   "execution_count": null,
   "metadata": {},
   "outputs": [],
   "source": [
    "def age_classification(age):\n",
    "    \"\"\"\n",
    "    Возвращает возрастную категорию для возраста age (можно передать как строку).\n",
    "    Классификация категорий:\n",
    "        - до 18 лет - children \n",
    "        - 19-60 - young\n",
    "        - старше 65 - retiree\n",
    "    \n",
    "    Пример\n",
    "    age_classification('18')\n",
    "    'children'\n",
    "    \n",
    "    age_classification(65)\n",
    "    'retiree'\n",
    "    \"\"\"\n",
    "    \n",
    "    if int(age) <= 18:\n",
    "        return 'children'\n",
    "    if int(age) <= 65:\n",
    "        return 'young'\n",
    "    if int(age) > 65:\n",
    "        return 'retiree'\n",
    "    return 'boom'"
   ]
  },
  {
   "cell_type": "code",
   "execution_count": null,
   "metadata": {},
   "outputs": [],
   "source": [
    "age_classification(61)"
   ]
  },
  {
   "cell_type": "code",
   "execution_count": null,
   "metadata": {},
   "outputs": [],
   "source": [
    "i = 0\n",
    "with open('adult.csv', 'r') as f:\n",
    "    for line in f:\n",
    "        if line_is_correct(line):\n",
    "            age, *_ = line.strip().split(',')\n",
    "            print(age, age_classification(age))\n",
    "        \n",
    "        i += 1\n",
    "        if i > 10:\n",
    "            break"
   ]
  },
  {
   "cell_type": "markdown",
   "metadata": {},
   "source": [
    "### Упражнение\n",
    "\n",
    "Напишите функцию, которая заменяет значения целевой переменной income с >50K и <=50K на 1 и 0.\n",
    "Добавьте проверку на корректность значения income"
   ]
  },
  {
   "cell_type": "code",
   "execution_count": 11,
   "metadata": {},
   "outputs": [],
   "source": [
    "def validate_inc(income):\n",
    "    if str.isnumeric(str(income)):\n",
    "                     if int(income) > 50000:\n",
    "                        income = 1\n",
    "                        return income\n",
    "                     elif int(income) <= 50000:\n",
    "                        income = 0\n",
    "                        return income\n",
    "    return 'Error'\n",
    "                     \n",
    "                     \n",
    "                     "
   ]
  },
  {
   "cell_type": "code",
   "execution_count": 12,
   "metadata": {},
   "outputs": [
    {
     "data": {
      "text/plain": [
       "0"
      ]
     },
     "execution_count": 12,
     "metadata": {},
     "output_type": "execute_result"
    }
   ],
   "source": [
    "validate_inc(45000)"
   ]
  },
  {
   "cell_type": "code",
   "execution_count": 13,
   "metadata": {},
   "outputs": [
    {
     "data": {
      "text/plain": [
       "'Error'"
      ]
     },
     "execution_count": 13,
     "metadata": {},
     "output_type": "execute_result"
    }
   ],
   "source": [
    "validate_inc('5000000')\n",
    "validate_inc('sdfs3df')"
   ]
  },
  {
   "cell_type": "markdown",
   "metadata": {},
   "source": [
    "### Map и lambda-функции"
   ]
  },
  {
   "cell_type": "code",
   "execution_count": 14,
   "metadata": {},
   "outputs": [],
   "source": [
    "nums = [ 1, 2, 3, 4, 5 ]"
   ]
  },
  {
   "cell_type": "code",
   "execution_count": 15,
   "metadata": {},
   "outputs": [],
   "source": [
    "only_odd_numbers = lambda x: x % 2 == 0"
   ]
  },
  {
   "cell_type": "code",
   "execution_count": 16,
   "metadata": {},
   "outputs": [
    {
     "data": {
      "text/plain": [
       "[2, 4]"
      ]
     },
     "execution_count": 16,
     "metadata": {},
     "output_type": "execute_result"
    }
   ],
   "source": [
    "[x for x in nums if only_odd_numbers(x)]"
   ]
  },
  {
   "cell_type": "code",
   "execution_count": 17,
   "metadata": {},
   "outputs": [],
   "source": [
    "def square(x):\n",
    "    return x**2"
   ]
  },
  {
   "cell_type": "code",
   "execution_count": 18,
   "metadata": {},
   "outputs": [
    {
     "data": {
      "text/plain": [
       "[1, 4, 9, 16, 25]"
      ]
     },
     "execution_count": 18,
     "metadata": {},
     "output_type": "execute_result"
    }
   ],
   "source": [
    "list( map(square, nums) )"
   ]
  },
  {
   "cell_type": "code",
   "execution_count": 19,
   "metadata": {},
   "outputs": [],
   "source": [
    "def cube(x):\n",
    "    return x**3"
   ]
  },
  {
   "cell_type": "code",
   "execution_count": 20,
   "metadata": {},
   "outputs": [
    {
     "name": "stdout",
     "output_type": "stream",
     "text": [
      "[1, 1]\n",
      "[4, 8]\n",
      "[9, 27]\n",
      "[16, 64]\n",
      "[25, 125]\n"
     ]
    }
   ],
   "source": [
    "for i in range(len(nums)):\n",
    "    print(list(map(lambda x: x(nums[i]), [square, cube])))"
   ]
  },
  {
   "cell_type": "markdown",
   "metadata": {},
   "source": [
    "###  Упражнение\n",
    "Дана статистика рекламных кампаний в формате дата - кампания - переходы.\n",
    "\n",
    "Напишите функцию vk_campaigns, которая фильтрует список ad_stats по кампании vk. А затем функцию, вычисляющую сумму переходов по кампаниям vk."
   ]
  },
  {
   "cell_type": "code",
   "execution_count": 3,
   "metadata": {},
   "outputs": [],
   "source": [
    "ad_stats = [\n",
    "    '2018-01-01,vk,43',\n",
    "    '2018-01-01,fb,775',\n",
    "    '2018-01-01,ya,64',\n",
    "    '2018-01-02,vk,1164',\n",
    "    '2018-01-02,fb,35',\n",
    "    '2018-01-02,ya,254',\n",
    "    '2018-01-02,ok,645',\n",
    "    '2018-01-03,vk,7754',\n",
    "    '2018-01-03,fb,654',\n",
    "    '2018-01-03,ya,4625',\n",
    "    '2018-01-03,ok,245',\n",
    "]"
   ]
  },
  {
   "cell_type": "code",
   "execution_count": 4,
   "metadata": {},
   "outputs": [],
   "source": [
    "'''\n",
    "def is_vk(s):\n",
    "    return s.strip().lower().split(',')[1] == 'vk' \n",
    "'''\n",
    "'''def is_vk(s):\n",
    "    return 'vk' in s.lower()'''\n",
    "is_vk = lambda s: 'vk' in s.lower()"
   ]
  },
  {
   "cell_type": "code",
   "execution_count": 5,
   "metadata": {},
   "outputs": [
    {
     "data": {
      "text/plain": [
       "8961"
      ]
     },
     "execution_count": 5,
     "metadata": {},
     "output_type": "execute_result"
    }
   ],
   "source": [
    "sum([int(line.split(',')[2]) for line in ad_stats if is_vk(line)])\n"
   ]
  },
  {
   "cell_type": "code",
   "execution_count": 40,
   "metadata": {},
   "outputs": [
    {
     "data": {
      "text/plain": [
       "8961"
      ]
     },
     "execution_count": 40,
     "metadata": {},
     "output_type": "execute_result"
    }
   ],
   "source": [
    "def sum_go(lst):\n",
    "    sum_ = 0\n",
    "    for line in lst:\n",
    "        if is_vk(line):\n",
    "            sum_ += int(line.split(',')[2])\n",
    "    return sum_\n",
    "sum_go(ad_stats)"
   ]
  },
  {
   "cell_type": "markdown",
   "metadata": {},
   "source": [
    "### Если аргументы функции заранее неизвестны"
   ]
  },
  {
   "cell_type": "markdown",
   "metadata": {},
   "source": [
    "Задача - посчитать уникальные элементы в столбцах большого файла"
   ]
  },
  {
   "cell_type": "code",
   "execution_count": 43,
   "metadata": {},
   "outputs": [],
   "source": [
    "def request(*args):\n",
    "    return args"
   ]
  },
  {
   "cell_type": "code",
   "execution_count": 44,
   "metadata": {},
   "outputs": [
    {
     "data": {
      "text/plain": [
       "{'2018-01-01', '2018-01-31'}"
      ]
     },
     "execution_count": 44,
     "metadata": {},
     "output_type": "execute_result"
    }
   ],
   "source": [
    "request('2018-01-01', '2018-01-31')"
   ]
  },
  {
   "cell_type": "code",
   "execution_count": 45,
   "metadata": {},
   "outputs": [],
   "source": [
    "def request(**kwargs):\n",
    "    return kwargs"
   ]
  },
  {
   "cell_type": "code",
   "execution_count": 46,
   "metadata": {},
   "outputs": [
    {
     "data": {
      "text/plain": [
       "{'date_from': '2018-01-01', 'date_to': '2018-01-31'}"
      ]
     },
     "execution_count": 46,
     "metadata": {},
     "output_type": "execute_result"
    }
   ],
   "source": [
    "request(date_from='2018-01-01', date_to='2018-01-31')"
   ]
  },
  {
   "cell_type": "markdown",
   "metadata": {},
   "source": [
    "### Упражнение\n",
    "Необходима функция, которая составляет запрос к API в следующем формате:\n",
    "\n",
    "https://api.service.ru/reports?date1=2018-01-01&date2=2018-01-31&accuracy=full&id=4721932\n",
    "\n",
    "Хост https://api.service.ru постоянен, название метода 'reports' и набор параметров date1, date2, accuracy, id может меняться и задается пользователем в качестве аргументов функции. В итоге функция должна возвращать URL для запроса к API с параметрами."
   ]
  },
  {
   "cell_type": "code",
   "execution_count": 19,
   "metadata": {},
   "outputs": [
    {
     "data": {
      "text/plain": [
       "'param1=foo&param2=bar'"
      ]
     },
     "execution_count": 19,
     "metadata": {},
     "output_type": "execute_result"
    }
   ],
   "source": [
    "# для перевода словаря в параметры URL можно использовать urlencode\n",
    "\n",
    "from urllib.parse import urlencode\n",
    "urlencode({'param1': 'foo', 'param2': 'bar'})"
   ]
  },
  {
   "cell_type": "code",
   "execution_count": 17,
   "metadata": {},
   "outputs": [],
   "source": [
    "def prep_request(method, **kwargs):\n",
    "    host = r'https://api.service.ru'\n",
    "    param = []\n",
    "    for key, value in kwargs.items():\n",
    "        param.append(key+'='+value)\n",
    "    return host + r'/?'  + '&'.join(param)"
   ]
  },
  {
   "cell_type": "code",
   "execution_count": 18,
   "metadata": {},
   "outputs": [
    {
     "data": {
      "text/plain": [
       "'https://api.service.ru/?date1=2018-01-01&date2=2018-01-31'"
      ]
     },
     "execution_count": 18,
     "metadata": {},
     "output_type": "execute_result"
    }
   ],
   "source": [
    "prep_request('reports',date1 = '2018-01-01', date2 = '2018-01-31')\n"
   ]
  },
  {
   "cell_type": "code",
   "execution_count": 24,
   "metadata": {},
   "outputs": [
    {
     "name": "stdout",
     "output_type": "stream",
     "text": [
      "https://api.service.ru/reports?date1=2018-01-01&date2=2018-01-31\n"
     ]
    }
   ],
   "source": [
    "#вариант с использоыванием библиотеки urllib\n",
    "from urllib.parse import urlencode\n",
    "def get_api(host = r'https://api.service.ru',method = r'reports',**params):\n",
    "    return '{}/{}?{}'.format(host,method,urlencode(params))\n",
    "print(get_api(date1 = '2018-01-01', date2 = '2018-01-31'))"
   ]
  },
  {
   "cell_type": "markdown",
   "metadata": {},
   "source": [
    "### Рекурсия"
   ]
  },
  {
   "cell_type": "code",
   "execution_count": null,
   "metadata": {},
   "outputs": [],
   "source": [
    "i = 10\n",
    "\n",
    "while i >= 1:\n",
    "    print(i)\n",
    "    i -=1"
   ]
  },
  {
   "cell_type": "code",
   "execution_count": null,
   "metadata": {},
   "outputs": [],
   "source": [
    "def decrease_and_print_i(i):\n",
    "    if i > 1:\n",
    "        print(i)\n",
    "        return decrease_and_print_i(i - 1)\n",
    "\n",
    "    else:\n",
    "        return 1"
   ]
  },
  {
   "cell_type": "code",
   "execution_count": null,
   "metadata": {},
   "outputs": [],
   "source": [
    "decrease_and_print_i(10)"
   ]
  },
  {
   "cell_type": "markdown",
   "metadata": {},
   "source": [
    "# Немного про тесты"
   ]
  },
  {
   "cell_type": "markdown",
   "metadata": {},
   "source": [
    "При необходимости функции удобно выносить в отдельные файлы. Смотрим validations.py и test_validations.py"
   ]
  },
  {
   "cell_type": "markdown",
   "metadata": {},
   "source": [
    "запуск тестов из командной строки:\n",
    "\n",
    "pytest test_validations.py"
   ]
  },
  {
   "cell_type": "code",
   "execution_count": 25,
   "metadata": {},
   "outputs": [
    {
     "ename": "ModuleNotFoundError",
     "evalue": "No module named 'validations'",
     "output_type": "error",
     "traceback": [
      "\u001b[1;31m---------------------------------------------------------------------------\u001b[0m",
      "\u001b[1;31mModuleNotFoundError\u001b[0m                       Traceback (most recent call last)",
      "\u001b[1;32m<ipython-input-25-1a12a554fe26>\u001b[0m in \u001b[0;36m<module>\u001b[1;34m()\u001b[0m\n\u001b[0;32m      2\u001b[0m \u001b[1;33m\u001b[0m\u001b[0m\n\u001b[0;32m      3\u001b[0m \u001b[1;32mimport\u001b[0m \u001b[0mpytest\u001b[0m\u001b[1;33m\u001b[0m\u001b[0m\n\u001b[1;32m----> 4\u001b[1;33m \u001b[1;32mfrom\u001b[0m \u001b[0mvalidations\u001b[0m \u001b[1;32mimport\u001b[0m \u001b[0mage_is_correct\u001b[0m\u001b[1;33m\u001b[0m\u001b[0m\n\u001b[0m\u001b[0;32m      5\u001b[0m \u001b[1;33m\u001b[0m\u001b[0m\n\u001b[0;32m      6\u001b[0m \u001b[1;33m\u001b[0m\u001b[0m\n",
      "\u001b[1;31mModuleNotFoundError\u001b[0m: No module named 'validations'"
     ]
    }
   ],
   "source": [
    "# coding: utf-8\n",
    "\n",
    "import pytest\n",
    "from validations import age_is_correct\n",
    "\n",
    "\n",
    "@pytest.mark.parametrize(\n",
    "\t'age,expected',\n",
    "\t[\n",
    "\t\t('15', True),\n",
    "\t\t('121', False),\n",
    "\t\t('-5', False),\n",
    "\t\tpytest.param(20, True, marks=pytest.mark.xfail(raises=TypeError)),\n",
    "\t])\n",
    "def test_age_is_correct(age, expected):\n",
    "\tassert expected == age_is_correct(age)"
   ]
  },
  {
   "cell_type": "markdown",
   "metadata": {},
   "source": [
    "# Классы"
   ]
  },
  {
   "cell_type": "markdown",
   "metadata": {},
   "source": [
    "### Задача\n",
    "Ваш скрипт использует данные по курсу евро на сегодня. Данные по курсам валют можно брать из открытых источников, например, отсюда https://www.cbr-xml-daily.ru/daily_json.js\n",
    "\n",
    "Грядущие проблемы:\n",
    "\n",
    "1. Аналогичный курс евро нужен еще нескольким отчетам и десятку ваших коллег\n",
    "\n",
    "2. С упомянутым сервисом может много чего случиться:\n",
    "    - временная недоступность\n",
    "    - изменение URL с данными\n",
    "    - изменение формата ответа\n",
    "    - закрытие сервиса\n",
    "    \n",
    "3. Со временем могут потребоваться данные не только евро, но и других валют. Также может потребоваться курс за период\n",
    "\n",
    "Во всех этих ситуациях формат возвращаемого курса должен оставаться постоянным, чтобы не переписывать уже написанные отчеты."
   ]
  },
  {
   "cell_type": "code",
   "execution_count": null,
   "metadata": {},
   "outputs": [],
   "source": [
    "import requests"
   ]
  },
  {
   "cell_type": "code",
   "execution_count": 26,
   "metadata": {},
   "outputs": [],
   "source": [
    "class Rate:\n",
    "    def __init__(self, format='value'):\n",
    "        self.format = format\n",
    "    \n",
    "    def exchange_rates(self):\n",
    "        \"\"\"\n",
    "        Возвращает ответ сервиса с информацией о валютах в виде:\n",
    "        \n",
    "        {\n",
    "            'AMD': {\n",
    "                'CharCode': 'AMD',\n",
    "                'ID': 'R01060',\n",
    "                'Name': 'Армянских драмов',\n",
    "                'Nominal': 100,\n",
    "                'NumCode': '051',\n",
    "                'Previous': 14.103,\n",
    "                'Value': 14.0879\n",
    "                },\n",
    "            ...\n",
    "        }\n",
    "        \"\"\"\n",
    "        r = requests.get('https://www.cbr-xml-daily.ru/daily_json.js')\n",
    "        return r.json()['Valute']\n",
    "    \n",
    "    def make_format(self, currency):\n",
    "        \"\"\"\n",
    "        Возвращает информацию о валюте currency в двух вариантах:\n",
    "        - полная информация о валюте при self.format = 'full':\n",
    "        Rate('full').make_format('EUR')\n",
    "        {\n",
    "            'CharCode': 'EUR',\n",
    "            'ID': 'R01239',\n",
    "            'Name': 'Евро',\n",
    "            'Nominal': 1,\n",
    "            'NumCode': '978',\n",
    "            'Previous': 79.6765,\n",
    "            'Value': 79.4966\n",
    "        }\n",
    "        \n",
    "        Rate('value').make_format('EUR')\n",
    "        79.4966\n",
    "        \"\"\"\n",
    "        response = self.exchange_rates()\n",
    "        \n",
    "        if currency in response:\n",
    "            if self.format == 'full':\n",
    "                return response[currency]\n",
    "            \n",
    "            if self.format == 'value':\n",
    "                return response[currency]['Value']\n",
    "        \n",
    "        return 'Error'\n",
    "    \n",
    "    def eur(self):\n",
    "        \"\"\"Возвращает курс евро на сегодня в формате self.format\"\"\"\n",
    "        return self.make_format('EUR')\n",
    "    \n",
    "    def usd(self):\n",
    "        \"\"\"Возвращает курс доллара на сегодня в формате self.format\"\"\"\n",
    "        return self.make_format('USD')"
   ]
  },
  {
   "cell_type": "markdown",
   "metadata": {},
   "source": [
    "для импорта внешних файлов импортируем библиотеку sys далее sys.path.append('путь_до_файла')"
   ]
  },
  {
   "cell_type": "markdown",
   "metadata": {},
   "source": [
    "### Упражнение на дом\n",
    "1. Добавьте в класс еще один формат, который возвращает название валюты (например, 'Евро').\n",
    "\n",
    "2. Добавьте в класс параметр diff (со значениями True или False), который в случае значения True в методах eur и usd будет возвращать не курс валюты, а изменение по сравнению в прошлым значением."
   ]
  },
  {
   "cell_type": "code",
   "execution_count": 30,
   "metadata": {},
   "outputs": [
    {
     "data": {
      "text/plain": [
       "{'AUD': {'ID': 'R01010',\n",
       "  'NumCode': '036',\n",
       "  'CharCode': 'AUD',\n",
       "  'Nominal': 1,\n",
       "  'Name': 'Австралийский доллар',\n",
       "  'Value': 47.8816,\n",
       "  'Previous': 47.8066},\n",
       " 'AZN': {'ID': 'R01020A',\n",
       "  'NumCode': '944',\n",
       "  'CharCode': 'AZN',\n",
       "  'Nominal': 1,\n",
       "  'Name': 'Азербайджанский манат',\n",
       "  'Value': 39.1996,\n",
       "  'Previous': 39.046},\n",
       " 'GBP': {'ID': 'R01035',\n",
       "  'NumCode': '826',\n",
       "  'CharCode': 'GBP',\n",
       "  'Nominal': 1,\n",
       "  'Name': 'Фунт стерлингов Соединенного королевства',\n",
       "  'Value': 83.8194,\n",
       "  'Previous': 84.2924},\n",
       " 'AMD': {'ID': 'R01060',\n",
       "  'NumCode': '051',\n",
       "  'CharCode': 'AMD',\n",
       "  'Nominal': 100,\n",
       "  'Name': 'Армянских драмов',\n",
       "  'Value': 13.692,\n",
       "  'Previous': 13.6722},\n",
       " 'BYN': {'ID': 'R01090B',\n",
       "  'NumCode': '933',\n",
       "  'CharCode': 'BYN',\n",
       "  'Nominal': 1,\n",
       "  'Name': 'Белорусский рубль',\n",
       "  'Value': 31.3128,\n",
       "  'Previous': 31.2269},\n",
       " 'BGN': {'ID': 'R01100',\n",
       "  'NumCode': '975',\n",
       "  'CharCode': 'BGN',\n",
       "  'Nominal': 1,\n",
       "  'Name': 'Болгарский лев',\n",
       "  'Value': 38.7001,\n",
       "  'Previous': 38.6857},\n",
       " 'BRL': {'ID': 'R01115',\n",
       "  'NumCode': '986',\n",
       "  'CharCode': 'BRL',\n",
       "  'Nominal': 1,\n",
       "  'Name': 'Бразильский реал',\n",
       "  'Value': 16.9731,\n",
       "  'Previous': 16.9524},\n",
       " 'HUF': {'ID': 'R01135',\n",
       "  'NumCode': '348',\n",
       "  'CharCode': 'HUF',\n",
       "  'Nominal': 100,\n",
       "  'Name': 'Венгерских форинтов',\n",
       "  'Value': 23.3998,\n",
       "  'Previous': 23.4144},\n",
       " 'HKD': {'ID': 'R01200',\n",
       "  'NumCode': '344',\n",
       "  'CharCode': 'HKD',\n",
       "  'Nominal': 10,\n",
       "  'Name': 'Гонконгских долларов',\n",
       "  'Value': 85.101,\n",
       "  'Previous': 84.7817},\n",
       " 'DKK': {'ID': 'R01215',\n",
       "  'NumCode': '208',\n",
       "  'CharCode': 'DKK',\n",
       "  'Nominal': 1,\n",
       "  'Name': 'Датская крона',\n",
       "  'Value': 10.1408,\n",
       "  'Previous': 10.1353},\n",
       " 'USD': {'ID': 'R01235',\n",
       "  'NumCode': '840',\n",
       "  'CharCode': 'USD',\n",
       "  'Nominal': 1,\n",
       "  'Name': 'Доллар США',\n",
       "  'Value': 66.5022,\n",
       "  'Previous': 66.2416},\n",
       " 'EUR': {'ID': 'R01239',\n",
       "  'NumCode': '978',\n",
       "  'CharCode': 'EUR',\n",
       "  'Nominal': 1,\n",
       "  'Name': 'Евро',\n",
       "  'Value': 75.6197,\n",
       "  'Previous': 75.7075},\n",
       " 'INR': {'ID': 'R01270',\n",
       "  'NumCode': '356',\n",
       "  'CharCode': 'INR',\n",
       "  'Nominal': 100,\n",
       "  'Name': 'Индийских рупий',\n",
       "  'Value': 92.5699,\n",
       "  'Previous': 92.9511},\n",
       " 'KZT': {'ID': 'R01335',\n",
       "  'NumCode': '398',\n",
       "  'CharCode': 'KZT',\n",
       "  'Nominal': 100,\n",
       "  'Name': 'Казахстанских тенге',\n",
       "  'Value': 17.9358,\n",
       "  'Previous': 17.9162},\n",
       " 'CAD': {'ID': 'R01350',\n",
       "  'NumCode': '124',\n",
       "  'CharCode': 'CAD',\n",
       "  'Nominal': 1,\n",
       "  'Name': 'Канадский доллар',\n",
       "  'Value': 49.5878,\n",
       "  'Previous': 49.7421},\n",
       " 'KGS': {'ID': 'R01370',\n",
       "  'NumCode': '417',\n",
       "  'CharCode': 'KGS',\n",
       "  'Nominal': 100,\n",
       "  'Name': 'Киргизских сомов',\n",
       "  'Value': 95.2754,\n",
       "  'Previous': 94.902},\n",
       " 'CNY': {'ID': 'R01375',\n",
       "  'NumCode': '156',\n",
       "  'CharCode': 'CNY',\n",
       "  'Nominal': 10,\n",
       "  'Name': 'Китайских юаней',\n",
       "  'Value': 96.394,\n",
       "  'Previous': 95.8079},\n",
       " 'MDL': {'ID': 'R01500',\n",
       "  'NumCode': '498',\n",
       "  'CharCode': 'MDL',\n",
       "  'Nominal': 10,\n",
       "  'Name': 'Молдавских леев',\n",
       "  'Value': 38.5744,\n",
       "  'Previous': 38.4567},\n",
       " 'NOK': {'ID': 'R01535',\n",
       "  'NumCode': '578',\n",
       "  'CharCode': 'NOK',\n",
       "  'Nominal': 10,\n",
       "  'Name': 'Норвежских крон',\n",
       "  'Value': 78.0158,\n",
       "  'Previous': 78.2258},\n",
       " 'PLN': {'ID': 'R01565',\n",
       "  'NumCode': '985',\n",
       "  'CharCode': 'PLN',\n",
       "  'Nominal': 1,\n",
       "  'Name': 'Польский злотый',\n",
       "  'Value': 17.6118,\n",
       "  'Previous': 17.6404},\n",
       " 'RON': {'ID': 'R01585F',\n",
       "  'NumCode': '946',\n",
       "  'CharCode': 'RON',\n",
       "  'Nominal': 1,\n",
       "  'Name': 'Румынский лей',\n",
       "  'Value': 16.2685,\n",
       "  'Previous': 16.2772},\n",
       " 'XDR': {'ID': 'R01589',\n",
       "  'NumCode': '960',\n",
       "  'CharCode': 'XDR',\n",
       "  'Nominal': 1,\n",
       "  'Name': 'СДР (специальные права заимствования)',\n",
       "  'Value': 92.1361,\n",
       "  'Previous': 91.7817},\n",
       " 'SGD': {'ID': 'R01625',\n",
       "  'NumCode': '702',\n",
       "  'CharCode': 'SGD',\n",
       "  'Nominal': 1,\n",
       "  'Name': 'Сингапурский доллар',\n",
       "  'Value': 48.4357,\n",
       "  'Previous': 48.3304},\n",
       " 'TJS': {'ID': 'R01670',\n",
       "  'NumCode': '972',\n",
       "  'CharCode': 'TJS',\n",
       "  'Nominal': 10,\n",
       "  'Name': 'Таджикских сомони',\n",
       "  'Value': 70.6343,\n",
       "  'Previous': 70.2747},\n",
       " 'TRY': {'ID': 'R01700J',\n",
       "  'NumCode': '949',\n",
       "  'CharCode': 'TRY',\n",
       "  'Nominal': 1,\n",
       "  'Name': 'Турецкая лира',\n",
       "  'Value': 12.3702,\n",
       "  'Previous': 12.5296},\n",
       " 'TMT': {'ID': 'R01710A',\n",
       "  'NumCode': '934',\n",
       "  'CharCode': 'TMT',\n",
       "  'Nominal': 1,\n",
       "  'Name': 'Новый туркменский манат',\n",
       "  'Value': 19.0278,\n",
       "  'Previous': 18.9532},\n",
       " 'UZS': {'ID': 'R01717',\n",
       "  'NumCode': '860',\n",
       "  'CharCode': 'UZS',\n",
       "  'Nominal': 10000,\n",
       "  'Name': 'Узбекских сумов',\n",
       "  'Value': 80.207,\n",
       "  'Previous': 79.6671},\n",
       " 'UAH': {'ID': 'R01720',\n",
       "  'NumCode': '980',\n",
       "  'CharCode': 'UAH',\n",
       "  'Nominal': 10,\n",
       "  'Name': 'Украинских гривен',\n",
       "  'Value': 23.987,\n",
       "  'Previous': 23.8322},\n",
       " 'CZK': {'ID': 'R01760',\n",
       "  'NumCode': '203',\n",
       "  'CharCode': 'CZK',\n",
       "  'Nominal': 10,\n",
       "  'Name': 'Чешских крон',\n",
       "  'Value': 29.2594,\n",
       "  'Previous': 29.2729},\n",
       " 'SEK': {'ID': 'R01770',\n",
       "  'NumCode': '752',\n",
       "  'CharCode': 'SEK',\n",
       "  'Nominal': 10,\n",
       "  'Name': 'Шведских крон',\n",
       "  'Value': 73.3817,\n",
       "  'Previous': 73.3426},\n",
       " 'CHF': {'ID': 'R01775',\n",
       "  'NumCode': '756',\n",
       "  'CharCode': 'CHF',\n",
       "  'Nominal': 1,\n",
       "  'Name': 'Швейцарский франк',\n",
       "  'Value': 67.344,\n",
       "  'Previous': 66.9919},\n",
       " 'ZAR': {'ID': 'R01810',\n",
       "  'NumCode': '710',\n",
       "  'CharCode': 'ZAR',\n",
       "  'Nominal': 10,\n",
       "  'Name': 'Южноафриканских рэндов',\n",
       "  'Value': 45.9851,\n",
       "  'Previous': 46.8904},\n",
       " 'KRW': {'ID': 'R01815',\n",
       "  'NumCode': '410',\n",
       "  'CharCode': 'KRW',\n",
       "  'Nominal': 1000,\n",
       "  'Name': 'Вон Республики Корея',\n",
       "  'Value': 58.7631,\n",
       "  'Previous': 58.7295},\n",
       " 'JPY': {'ID': 'R01820',\n",
       "  'NumCode': '392',\n",
       "  'CharCode': 'JPY',\n",
       "  'Nominal': 100,\n",
       "  'Name': 'Японских иен',\n",
       "  'Value': 58.8177,\n",
       "  'Previous': 58.8161}}"
      ]
     },
     "execution_count": 30,
     "metadata": {},
     "output_type": "execute_result"
    }
   ],
   "source": [
    "import requests\n",
    "s = Rate()\n",
    "s.exchange_rates()"
   ]
  },
  {
   "cell_type": "code",
   "execution_count": null,
   "metadata": {},
   "outputs": [],
   "source": []
  }
 ],
 "metadata": {
  "kernelspec": {
   "display_name": "Python 3",
   "language": "python",
   "name": "python3"
  },
  "language_info": {
   "codemirror_mode": {
    "name": "ipython",
    "version": 3
   },
   "file_extension": ".py",
   "mimetype": "text/x-python",
   "name": "python",
   "nbconvert_exporter": "python",
   "pygments_lexer": "ipython3",
   "version": "3.6.5"
  }
 },
 "nbformat": 4,
 "nbformat_minor": 2
}
