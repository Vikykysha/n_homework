{
 "cells": [
  {
   "cell_type": "code",
   "execution_count": null,
   "metadata": {},
   "outputs": [],
   "source": [
    "class Namespas():\n",
    "    def __init__(self, name, parent, cur_namespace_object):\n",
    "        self.name = name\n",
    "        self.parent = [parent]\n",
    "        self.vars = []\n",
    "        self.cur_namespace_object = cur_namespace_object\n",
    "    def add(self,var):\n",
    "        self.vars.append(var)\n",
    "    def get(self, var):\n",
    "        return var if var in self.vars else False\n",
    "    def isGlobal(self):\n",
    "        return self.name == 'global'\n",
    "def find_namespace(namespas, var):\n",
    "    if namespas == []:\n",
    "        return None\n",
    "    return namespas.name if namespas.get(var) else find_namespace(namespas.cur_namespace_object, var)\n",
    "current_namespace = Namespas('global','global',[])\n",
    "list_namespaces =  [current_namespace]\n",
    "for _ in range(int(input())):\n",
    "    command = [x.strip() for x in input().split()]\n",
    "    if command[0] == 'create':\n",
    "        list_namespaces.append(Namespas(command[1],command[2],current_namespace))\n",
    "        current_namespace = list_namespaces[-1]\n",
    "    elif command[0] == 'add':\n",
    "        if command[1] == list_namespaces[-1].name:\n",
    "            list_namespaces[-1].add(command[2])\n",
    "    else:\n",
    "        print(find_namespace(current_namespace, command[2]))"
   ]
  },
  {
   "cell_type": "code",
   "execution_count": null,
   "metadata": {},
   "outputs": [],
   "source": [
    "class Namespas():\n",
    "    def __init__(self, name, parent, cur_namespace_object):\n",
    "        self.name = name\n",
    "        self.parent = [parent]\n",
    "        self.vars = set()\n",
    "        self.cur_namespace_object = cur_namespace_object\n",
    "    def add(self,var):\n",
    "        self.vars.add(var)\n",
    "    def get(self, var):\n",
    "        return var if var in self.vars else False\n",
    "    def isGlobal(self):\n",
    "        return self.name == 'global'\n",
    "def find_namespace(namespas, var):\n",
    "    if namespas == []:\n",
    "        return None\n",
    "    return namespas.name if namespas.get(var) else find_namespace(namespas.cur_namespace_object, var)\n",
    "current_namespace = Namespas('global','global',[])\n",
    "list_namespaces =  [current_namespace]\n",
    "for _ in range(int(input())):\n",
    "    command = [x.strip() for x in input().split()]\n",
    "    if command[0] == 'create':\n",
    "        list_namespaces.append(Namespas(command[1],command[2],current_namespace))\n",
    "        current_namespace = list_namespaces[-1]\n",
    "    elif command[0] == 'add':\n",
    "        for nsps in list_namespaces:\n",
    "            if nsps.name = command[1]:\n",
    "                nsps.add(command[2])\n",
    "                break\n",
    "    else:\n",
    "        for nsps in list_namespaces:\n",
    "            if nsps.name = command[1]:\n",
    "                print(find_namespace(nsps, command[2]))"
   ]
  },
  {
   "cell_type": "code",
   "execution_count": null,
   "metadata": {},
   "outputs": [],
   "source": []
  }
 ],
 "metadata": {
  "kernelspec": {
   "display_name": "Python 3",
   "language": "python",
   "name": "python3"
  },
  "language_info": {
   "codemirror_mode": {
    "name": "ipython",
    "version": 3
   },
   "file_extension": ".py",
   "mimetype": "text/x-python",
   "name": "python",
   "nbconvert_exporter": "python",
   "pygments_lexer": "ipython3",
   "version": "3.6.5"
  }
 },
 "nbformat": 4,
 "nbformat_minor": 2
}
