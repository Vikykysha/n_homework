{
 "cells": [
  {
   "cell_type": "code",
   "execution_count": 55,
   "metadata": {},
   "outputs": [],
   "source": [
    "import pandas as pd\n",
    "from scipy import stats\n",
    "import numpy as np\n",
    "\n",
    "import seaborn as sns\n",
    "from sklearn import datasets\n",
    "from matplotlib import pyplot as plt\n",
    "from statsmodels.distributions.empirical_distribution import ECDF\n",
    "\n",
    "from collections import Counter"
   ]
  },
  {
   "cell_type": "markdown",
   "metadata": {},
   "source": [
    "### Упражнения"
   ]
  },
  {
   "cell_type": "markdown",
   "metadata": {},
   "source": [
    "\n",
    "#### Посчитать ДИ уровня доверия 95% и 99% для следующих данных"
   ]
  },
  {
   "cell_type": "code",
   "execution_count": 14,
   "metadata": {},
   "outputs": [],
   "source": [
    "data_x = np.array([84, 105, 98, 97, 108, 82, 99, 89, 93, 119, \n",
    "              99, 99, 97, 112, 100, 95, 114, 95, 116, 112])\n"
   ]
  },
  {
   "cell_type": "code",
   "execution_count": 15,
   "metadata": {},
   "outputs": [],
   "source": [
    "# your solution is here\n",
    "\n",
    "d = np.array(data_x)\n",
    "mean = d.mean()\n",
    "s = d.var()\n",
    "se = (s/len(d)) ** 0.5\n",
    "\n",
    "#95% интервал\n",
    "x_left = mean  - 2*se\n",
    "x_right = mean + 2*se\n",
    "#99% интервал\n",
    "x1_left = mean - 3*se\n",
    "x1_right = mean + 3*se"
   ]
  },
  {
   "cell_type": "markdown",
   "metadata": {},
   "source": [
    "#### Проверить $H_0: M_{data_x} = M_{data_y}$ с помощью критерия Манна-Уитни"
   ]
  },
  {
   "cell_type": "markdown",
   "metadata": {},
   "source": [
    "U-критерий Манна-Уитни используется для оценки различий между двумя малыми выборками  (n1,n2≥3 или n1=2, n2≥5) по уровню количественно измеряемого признака. При этом первой выборкой принято считать ту, где значение признака больше.\n",
    "Нулевая гипотеза H0={уровень признака во второй выборке не ниже уровня признака в первой выборке}; альтернативная гипотеза – H1={уровень признака во второй выборке ниже уровня признака в первой выборке}.\n",
    "Необходимо также будет задать уровень начимости и по этому уровню значимости смотрим в таблицу критических значений. Если рассчитанная статистика меньше критического значения, то отвергаем нулевую гипотезу."
   ]
  },
  {
   "cell_type": "markdown",
   "metadata": {},
   "source": [
    "пример расчета на python https://machinelearningmastery.com/nonparametric-statistical-significance-tests-in-python/"
   ]
  },
  {
   "cell_type": "code",
   "execution_count": 16,
   "metadata": {},
   "outputs": [],
   "source": [
    "data_y = np.array([57, 57, 104, 95, 90, 71, 84, 60, 76, 102,\n",
    "              69, 80, 69, 99, 76, 75, 56, 56, 69, 60])"
   ]
  },
  {
   "cell_type": "code",
   "execution_count": 17,
   "metadata": {},
   "outputs": [],
   "source": [
    "# your solution is here"
   ]
  },
  {
   "cell_type": "code",
   "execution_count": 21,
   "metadata": {},
   "outputs": [
    {
     "data": {
      "text/plain": [
       "2.0"
      ]
     },
     "execution_count": 21,
     "metadata": {},
     "output_type": "execute_result"
    }
   ],
   "source": [
    "data = list(enumerate(sorted(list(d) + list(data_y))))\n",
    "sum_x = sum_y = 0\n",
    "for elem in data:\n",
    "    if elem[1] in d:\n",
    "        sum_x += elem[0]\n",
    "    else:\n",
    "        sum_y += elem[0]\n",
    "#считаем статистику манна-уитни\n",
    "U = len(d)*len(data_y) + len(d)*(len(d)+1)/2 - sum_x\n",
    "U"
   ]
  },
  {
   "cell_type": "markdown",
   "metadata": {},
   "source": [
    "statistic : float\n",
    "The Mann-Whitney U statistic, equal to min(U for x, U for y) if alternative is equal to None (deprecated; exists for backward compatibility), and U for y otherwise.\n",
    "\n",
    "pvalue : float\n",
    "p-value assuming an asymptotic normal distribution. One-sided or two-sided, depending on the choice of alternative."
   ]
  },
  {
   "cell_type": "code",
   "execution_count": 22,
   "metadata": {},
   "outputs": [
    {
     "data": {
      "text/plain": [
       "MannwhitneyuResult(statistic=46.0, pvalue=1.6118034519385194e-05)"
      ]
     },
     "execution_count": 22,
     "metadata": {},
     "output_type": "execute_result"
    }
   ],
   "source": [
    "#Посчитаем автоматом\n",
    "stats.mannwhitneyu(d, data_y)"
   ]
  },
  {
   "cell_type": "code",
   "execution_count": 24,
   "metadata": {},
   "outputs": [],
   "source": [
    "# загружаем датасет Бостон\n",
    "data = datasets.load_boston()\n",
    "df = pd.DataFrame(data.data, columns=data.feature_names)"
   ]
  },
  {
   "cell_type": "code",
   "execution_count": 25,
   "metadata": {},
   "outputs": [
    {
     "data": {
      "text/html": [
       "<div>\n",
       "<style scoped>\n",
       "    .dataframe tbody tr th:only-of-type {\n",
       "        vertical-align: middle;\n",
       "    }\n",
       "\n",
       "    .dataframe tbody tr th {\n",
       "        vertical-align: top;\n",
       "    }\n",
       "\n",
       "    .dataframe thead th {\n",
       "        text-align: right;\n",
       "    }\n",
       "</style>\n",
       "<table border=\"1\" class=\"dataframe\">\n",
       "  <thead>\n",
       "    <tr style=\"text-align: right;\">\n",
       "      <th></th>\n",
       "      <th>CRIM</th>\n",
       "      <th>ZN</th>\n",
       "      <th>INDUS</th>\n",
       "      <th>CHAS</th>\n",
       "      <th>NOX</th>\n",
       "      <th>RM</th>\n",
       "      <th>AGE</th>\n",
       "      <th>DIS</th>\n",
       "      <th>RAD</th>\n",
       "      <th>TAX</th>\n",
       "      <th>PTRATIO</th>\n",
       "      <th>B</th>\n",
       "      <th>LSTAT</th>\n",
       "    </tr>\n",
       "  </thead>\n",
       "  <tbody>\n",
       "    <tr>\n",
       "      <th>0</th>\n",
       "      <td>0.00632</td>\n",
       "      <td>18.0</td>\n",
       "      <td>2.31</td>\n",
       "      <td>0.0</td>\n",
       "      <td>0.538</td>\n",
       "      <td>6.575</td>\n",
       "      <td>65.2</td>\n",
       "      <td>4.0900</td>\n",
       "      <td>1.0</td>\n",
       "      <td>296.0</td>\n",
       "      <td>15.3</td>\n",
       "      <td>396.90</td>\n",
       "      <td>4.98</td>\n",
       "    </tr>\n",
       "    <tr>\n",
       "      <th>1</th>\n",
       "      <td>0.02731</td>\n",
       "      <td>0.0</td>\n",
       "      <td>7.07</td>\n",
       "      <td>0.0</td>\n",
       "      <td>0.469</td>\n",
       "      <td>6.421</td>\n",
       "      <td>78.9</td>\n",
       "      <td>4.9671</td>\n",
       "      <td>2.0</td>\n",
       "      <td>242.0</td>\n",
       "      <td>17.8</td>\n",
       "      <td>396.90</td>\n",
       "      <td>9.14</td>\n",
       "    </tr>\n",
       "    <tr>\n",
       "      <th>2</th>\n",
       "      <td>0.02729</td>\n",
       "      <td>0.0</td>\n",
       "      <td>7.07</td>\n",
       "      <td>0.0</td>\n",
       "      <td>0.469</td>\n",
       "      <td>7.185</td>\n",
       "      <td>61.1</td>\n",
       "      <td>4.9671</td>\n",
       "      <td>2.0</td>\n",
       "      <td>242.0</td>\n",
       "      <td>17.8</td>\n",
       "      <td>392.83</td>\n",
       "      <td>4.03</td>\n",
       "    </tr>\n",
       "    <tr>\n",
       "      <th>3</th>\n",
       "      <td>0.03237</td>\n",
       "      <td>0.0</td>\n",
       "      <td>2.18</td>\n",
       "      <td>0.0</td>\n",
       "      <td>0.458</td>\n",
       "      <td>6.998</td>\n",
       "      <td>45.8</td>\n",
       "      <td>6.0622</td>\n",
       "      <td>3.0</td>\n",
       "      <td>222.0</td>\n",
       "      <td>18.7</td>\n",
       "      <td>394.63</td>\n",
       "      <td>2.94</td>\n",
       "    </tr>\n",
       "    <tr>\n",
       "      <th>4</th>\n",
       "      <td>0.06905</td>\n",
       "      <td>0.0</td>\n",
       "      <td>2.18</td>\n",
       "      <td>0.0</td>\n",
       "      <td>0.458</td>\n",
       "      <td>7.147</td>\n",
       "      <td>54.2</td>\n",
       "      <td>6.0622</td>\n",
       "      <td>3.0</td>\n",
       "      <td>222.0</td>\n",
       "      <td>18.7</td>\n",
       "      <td>396.90</td>\n",
       "      <td>5.33</td>\n",
       "    </tr>\n",
       "  </tbody>\n",
       "</table>\n",
       "</div>"
      ],
      "text/plain": [
       "      CRIM    ZN  INDUS  CHAS    NOX     RM   AGE     DIS  RAD    TAX  \\\n",
       "0  0.00632  18.0   2.31   0.0  0.538  6.575  65.2  4.0900  1.0  296.0   \n",
       "1  0.02731   0.0   7.07   0.0  0.469  6.421  78.9  4.9671  2.0  242.0   \n",
       "2  0.02729   0.0   7.07   0.0  0.469  7.185  61.1  4.9671  2.0  242.0   \n",
       "3  0.03237   0.0   2.18   0.0  0.458  6.998  45.8  6.0622  3.0  222.0   \n",
       "4  0.06905   0.0   2.18   0.0  0.458  7.147  54.2  6.0622  3.0  222.0   \n",
       "\n",
       "   PTRATIO       B  LSTAT  \n",
       "0     15.3  396.90   4.98  \n",
       "1     17.8  396.90   9.14  \n",
       "2     17.8  392.83   4.03  \n",
       "3     18.7  394.63   2.94  \n",
       "4     18.7  396.90   5.33  "
      ]
     },
     "execution_count": 25,
     "metadata": {},
     "output_type": "execute_result"
    }
   ],
   "source": [
    "df.head()"
   ]
  },
  {
   "cell_type": "markdown",
   "metadata": {},
   "source": [
    "#### Посчитать руками статистики $\\bar{X}, s^2, \\mu, MODE, X_{0.75} - X_{0.25}$ для поля LSTAT"
   ]
  },
  {
   "cell_type": "code",
   "execution_count": 27,
   "metadata": {},
   "outputs": [
    {
     "data": {
      "text/plain": [
       "12.653063241106722"
      ]
     },
     "execution_count": 27,
     "metadata": {},
     "output_type": "execute_result"
    }
   ],
   "source": [
    "#считаем среднее\n",
    "mean = df['LSTAT'].sum()/df['LSTAT'].count()\n",
    "mean"
   ]
  },
  {
   "cell_type": "code",
   "execution_count": 38,
   "metadata": {},
   "outputs": [
    {
     "data": {
      "text/plain": [
       "7.141061511348571"
      ]
     },
     "execution_count": 38,
     "metadata": {},
     "output_type": "execute_result"
    }
   ],
   "source": [
    "#считаем выборочную дисперсию\n",
    "lstat = np.array(df['LSTAT'])\n",
    "lenght = len(lstat) \n",
    "std = (sum((lstat - mean) ** 2)/(lenght - 1)) ** 0.5\n",
    "std"
   ]
  },
  {
   "cell_type": "code",
   "execution_count": 45,
   "metadata": {},
   "outputs": [
    {
     "data": {
      "text/plain": [
       "11.38"
      ]
     },
     "execution_count": 45,
     "metadata": {},
     "output_type": "execute_result"
    }
   ],
   "source": [
    "#считаем медиану\n",
    "srt_lstat = sorted(lstat)\n",
    "if lenght % 2 == 0:\n",
    "    med = srt_lstat[int(lenght/2)]\n",
    "else:\n",
    "    med = (srt_lstat[lenght//2] + srt_lstat[lenght//2 + 1])\n",
    "med"
   ]
  },
  {
   "cell_type": "code",
   "execution_count": 52,
   "metadata": {},
   "outputs": [
    {
     "data": {
      "text/plain": [
       "8.05"
      ]
     },
     "execution_count": 52,
     "metadata": {},
     "output_type": "execute_result"
    }
   ],
   "source": [
    "#считаем моду\n",
    "mod = Counter(lstat).most_common(1)\n",
    "mod[0][0]"
   ]
  },
  {
   "cell_type": "code",
   "execution_count": 74,
   "metadata": {},
   "outputs": [
    {
     "data": {
      "text/plain": [
       "array([ 6.95 , 16.955])"
      ]
     },
     "execution_count": 74,
     "metadata": {},
     "output_type": "execute_result"
    }
   ],
   "source": [
    "np.percentile(df['LSTAT'],[25,75])"
   ]
  },
  {
   "cell_type": "code",
   "execution_count": 75,
   "metadata": {},
   "outputs": [
    {
     "data": {
      "text/plain": [
       "16.96"
      ]
     },
     "execution_count": 75,
     "metadata": {},
     "output_type": "execute_result"
    }
   ],
   "source": [
    "#посчитаем вручную\n",
    "np.sort(df['LSTAT'])[3*len(df['LSTAT'])//4]"
   ]
  },
  {
   "cell_type": "code",
   "execution_count": 76,
   "metadata": {},
   "outputs": [
    {
     "data": {
      "text/plain": [
       "6.93"
      ]
     },
     "execution_count": 76,
     "metadata": {},
     "output_type": "execute_result"
    }
   ],
   "source": [
    "np.sort(df['LSTAT'])[len(df['LSTAT'])//4]"
   ]
  },
  {
   "cell_type": "code",
   "execution_count": 73,
   "metadata": {},
   "outputs": [
    {
     "data": {
      "text/plain": [
       "array([ 1.73,  1.92,  1.98,  2.47,  2.87,  2.88,  2.94,  2.96,  2.97,\n",
       "        2.98,  3.01,  3.11,  3.11,  3.13,  3.16,  3.16,  3.26,  3.32,\n",
       "        3.33,  3.53,  3.53,  3.54,  3.56,  3.57,  3.59,  3.7 ,  3.73,\n",
       "        3.76,  3.76,  3.81,  3.92,  3.95,  3.95,  4.03,  4.08,  4.14,\n",
       "        4.16,  4.21,  4.32,  4.38,  4.45,  4.45,  4.5 ,  4.54,  4.56,\n",
       "        4.56,  4.59,  4.59,  4.61,  4.63,  4.67,  4.69,  4.7 ,  4.73,\n",
       "        4.74,  4.81,  4.82,  4.84,  4.85,  4.86,  4.97,  4.98,  5.03,\n",
       "        5.04,  5.08,  5.1 ,  5.12,  5.19,  5.21,  5.25,  5.28,  5.29,\n",
       "        5.29,  5.33,  5.33,  5.39,  5.49,  5.49,  5.5 ,  5.5 ,  5.52,\n",
       "        5.57,  5.64,  5.68,  5.68,  5.7 ,  5.77,  5.81,  5.89,  5.9 ,\n",
       "        5.91,  5.98,  5.98,  5.99,  6.05,  6.07,  6.12,  6.15,  6.19,\n",
       "        6.21,  6.27,  6.29,  6.36,  6.36,  6.36,  6.43,  6.47,  6.48,\n",
       "        6.53,  6.56,  6.57,  6.58,  6.58,  6.59,  6.62,  6.65,  6.68,\n",
       "        6.72,  6.72,  6.73,  6.75,  6.78,  6.86,  6.87,  6.9 ,  6.92,\n",
       "        6.93,  7.01,  7.12,  7.14,  7.18,  7.19,  7.2 ,  7.22,  7.26,\n",
       "        7.34,  7.37,  7.39,  7.39,  7.43,  7.44,  7.44,  7.51,  7.53,\n",
       "        7.54,  7.56,  7.6 ,  7.6 ,  7.67,  7.7 ,  7.73,  7.74,  7.79,\n",
       "        7.79,  7.79,  7.83,  7.85,  7.88,  7.9 ,  8.01,  8.05,  8.05,\n",
       "        8.05,  8.1 ,  8.1 ,  8.16,  8.2 ,  8.23,  8.26,  8.43,  8.44,\n",
       "        8.47,  8.51,  8.58,  8.61,  8.65,  8.67,  8.77,  8.79,  8.81,\n",
       "        8.88,  8.93,  8.94,  9.04,  9.08,  9.09,  9.1 ,  9.14,  9.16,\n",
       "        9.22,  9.25,  9.28,  9.29,  9.38,  9.42,  9.43,  9.45,  9.47,\n",
       "        9.5 ,  9.5 ,  9.51,  9.52,  9.53,  9.54,  9.55,  9.59,  9.62,\n",
       "        9.64,  9.67,  9.68,  9.69,  9.71,  9.74,  9.8 ,  9.81,  9.88,\n",
       "        9.93,  9.97,  9.97, 10.11, 10.11, 10.13, 10.15, 10.16, 10.19,\n",
       "       10.21, 10.24, 10.26, 10.27, 10.29, 10.3 , 10.36, 10.4 , 10.42,\n",
       "       10.45, 10.45, 10.5 , 10.53, 10.56, 10.58, 10.59, 10.63, 10.74,\n",
       "       10.87, 10.88, 10.97, 11.1 , 11.12, 11.22, 11.25, 11.28, 11.32,\n",
       "       11.34, 11.38, 11.41, 11.45, 11.48, 11.5 , 11.64, 11.65, 11.66,\n",
       "       11.69, 11.72, 11.74, 11.97, 11.98, 12.01, 12.03, 12.03, 12.04,\n",
       "       12.12, 12.13, 12.14, 12.26, 12.27, 12.33, 12.34, 12.4 , 12.43,\n",
       "       12.43, 12.5 , 12.6 , 12.64, 12.67, 12.67, 12.73, 12.79, 12.8 ,\n",
       "       12.86, 12.87, 12.92, 12.93, 13.  , 13.  , 13.04, 13.09, 13.11,\n",
       "       13.15, 13.15, 13.22, 13.27, 13.27, 13.28, 13.33, 13.34, 13.35,\n",
       "       13.44, 13.44, 13.45, 13.51, 13.59, 13.61, 13.65, 13.83, 13.98,\n",
       "       13.99, 14.  , 14.09, 14.1 , 14.1 , 14.1 , 14.13, 14.15, 14.19,\n",
       "       14.27, 14.33, 14.36, 14.37, 14.43, 14.44, 14.52, 14.59, 14.64,\n",
       "       14.65, 14.66, 14.67, 14.69, 14.7 , 14.76, 14.79, 14.8 , 14.81,\n",
       "       14.81, 14.98, 15.02, 15.02, 15.03, 15.1 , 15.12, 15.17, 15.17,\n",
       "       15.37, 15.39, 15.55, 15.69, 15.7 , 15.71, 15.76, 15.79, 15.84,\n",
       "       15.94, 16.03, 16.14, 16.2 , 16.21, 16.22, 16.23, 16.29, 16.3 ,\n",
       "       16.35, 16.42, 16.44, 16.47, 16.51, 16.59, 16.65, 16.74, 16.9 ,\n",
       "       16.94, 16.96, 17.09, 17.1 , 17.11, 17.12, 17.15, 17.16, 17.19,\n",
       "       17.21, 17.27, 17.27, 17.28, 17.31, 17.44, 17.58, 17.6 , 17.6 ,\n",
       "       17.64, 17.73, 17.79, 17.92, 17.93, 18.03, 18.05, 18.06, 18.06,\n",
       "       18.07, 18.13, 18.13, 18.13, 18.14, 18.33, 18.34, 18.35, 18.46,\n",
       "       18.46, 18.66, 18.68, 18.71, 18.72, 18.76, 18.8 , 18.85, 19.01,\n",
       "       19.15, 19.31, 19.37, 19.52, 19.69, 19.77, 19.78, 19.88, 19.92,\n",
       "       20.08, 20.31, 20.32, 20.34, 20.45, 20.62, 20.85, 21.02, 21.08,\n",
       "       21.14, 21.22, 21.24, 21.32, 21.32, 21.45, 21.46, 21.52, 21.78,\n",
       "       22.11, 22.6 , 22.74, 22.88, 22.98, 23.09, 23.24, 23.27, 23.29,\n",
       "       23.34, 23.6 , 23.69, 23.79, 23.97, 23.98, 23.98, 24.08, 24.1 ,\n",
       "       24.16, 24.39, 24.56, 24.91, 25.41, 25.68, 25.79, 26.4 , 26.42,\n",
       "       26.45, 26.64, 26.77, 26.82, 27.26, 27.38, 27.71, 27.8 , 28.28,\n",
       "       28.32, 29.05, 29.29, 29.53, 29.55, 29.68, 29.93, 29.97, 30.59,\n",
       "       30.62, 30.63, 30.81, 30.81, 31.99, 34.02, 34.37, 34.41, 34.77,\n",
       "       36.98, 37.97])"
      ]
     },
     "execution_count": 73,
     "metadata": {},
     "output_type": "execute_result"
    }
   ],
   "source": [
    "np.sort(df['LSTAT'])"
   ]
  },
  {
   "cell_type": "code",
   "execution_count": 10,
   "metadata": {},
   "outputs": [
    {
     "data": {
      "text/html": [
       "<div>\n",
       "<style scoped>\n",
       "    .dataframe tbody tr th:only-of-type {\n",
       "        vertical-align: middle;\n",
       "    }\n",
       "\n",
       "    .dataframe tbody tr th {\n",
       "        vertical-align: top;\n",
       "    }\n",
       "\n",
       "    .dataframe thead th {\n",
       "        text-align: right;\n",
       "    }\n",
       "</style>\n",
       "<table border=\"1\" class=\"dataframe\">\n",
       "  <thead>\n",
       "    <tr style=\"text-align: right;\">\n",
       "      <th></th>\n",
       "      <th>CRIM</th>\n",
       "      <th>ZN</th>\n",
       "      <th>INDUS</th>\n",
       "      <th>CHAS</th>\n",
       "      <th>NOX</th>\n",
       "      <th>RM</th>\n",
       "      <th>AGE</th>\n",
       "      <th>DIS</th>\n",
       "      <th>RAD</th>\n",
       "      <th>TAX</th>\n",
       "      <th>PTRATIO</th>\n",
       "      <th>B</th>\n",
       "      <th>LSTAT</th>\n",
       "    </tr>\n",
       "  </thead>\n",
       "  <tbody>\n",
       "    <tr>\n",
       "      <th>count</th>\n",
       "      <td>506.000000</td>\n",
       "      <td>506.000000</td>\n",
       "      <td>506.000000</td>\n",
       "      <td>506.000000</td>\n",
       "      <td>506.000000</td>\n",
       "      <td>506.000000</td>\n",
       "      <td>506.000000</td>\n",
       "      <td>506.000000</td>\n",
       "      <td>506.000000</td>\n",
       "      <td>506.000000</td>\n",
       "      <td>506.000000</td>\n",
       "      <td>506.000000</td>\n",
       "      <td>506.000000</td>\n",
       "    </tr>\n",
       "    <tr>\n",
       "      <th>mean</th>\n",
       "      <td>3.593761</td>\n",
       "      <td>11.363636</td>\n",
       "      <td>11.136779</td>\n",
       "      <td>0.069170</td>\n",
       "      <td>0.554695</td>\n",
       "      <td>6.284634</td>\n",
       "      <td>68.574901</td>\n",
       "      <td>3.795043</td>\n",
       "      <td>9.549407</td>\n",
       "      <td>408.237154</td>\n",
       "      <td>18.455534</td>\n",
       "      <td>356.674032</td>\n",
       "      <td>12.653063</td>\n",
       "    </tr>\n",
       "    <tr>\n",
       "      <th>std</th>\n",
       "      <td>8.596783</td>\n",
       "      <td>23.322453</td>\n",
       "      <td>6.860353</td>\n",
       "      <td>0.253994</td>\n",
       "      <td>0.115878</td>\n",
       "      <td>0.702617</td>\n",
       "      <td>28.148861</td>\n",
       "      <td>2.105710</td>\n",
       "      <td>8.707259</td>\n",
       "      <td>168.537116</td>\n",
       "      <td>2.164946</td>\n",
       "      <td>91.294864</td>\n",
       "      <td>7.141062</td>\n",
       "    </tr>\n",
       "    <tr>\n",
       "      <th>min</th>\n",
       "      <td>0.006320</td>\n",
       "      <td>0.000000</td>\n",
       "      <td>0.460000</td>\n",
       "      <td>0.000000</td>\n",
       "      <td>0.385000</td>\n",
       "      <td>3.561000</td>\n",
       "      <td>2.900000</td>\n",
       "      <td>1.129600</td>\n",
       "      <td>1.000000</td>\n",
       "      <td>187.000000</td>\n",
       "      <td>12.600000</td>\n",
       "      <td>0.320000</td>\n",
       "      <td>1.730000</td>\n",
       "    </tr>\n",
       "    <tr>\n",
       "      <th>25%</th>\n",
       "      <td>0.082045</td>\n",
       "      <td>0.000000</td>\n",
       "      <td>5.190000</td>\n",
       "      <td>0.000000</td>\n",
       "      <td>0.449000</td>\n",
       "      <td>5.885500</td>\n",
       "      <td>45.025000</td>\n",
       "      <td>2.100175</td>\n",
       "      <td>4.000000</td>\n",
       "      <td>279.000000</td>\n",
       "      <td>17.400000</td>\n",
       "      <td>375.377500</td>\n",
       "      <td>6.950000</td>\n",
       "    </tr>\n",
       "    <tr>\n",
       "      <th>50%</th>\n",
       "      <td>0.256510</td>\n",
       "      <td>0.000000</td>\n",
       "      <td>9.690000</td>\n",
       "      <td>0.000000</td>\n",
       "      <td>0.538000</td>\n",
       "      <td>6.208500</td>\n",
       "      <td>77.500000</td>\n",
       "      <td>3.207450</td>\n",
       "      <td>5.000000</td>\n",
       "      <td>330.000000</td>\n",
       "      <td>19.050000</td>\n",
       "      <td>391.440000</td>\n",
       "      <td>11.360000</td>\n",
       "    </tr>\n",
       "    <tr>\n",
       "      <th>75%</th>\n",
       "      <td>3.647423</td>\n",
       "      <td>12.500000</td>\n",
       "      <td>18.100000</td>\n",
       "      <td>0.000000</td>\n",
       "      <td>0.624000</td>\n",
       "      <td>6.623500</td>\n",
       "      <td>94.075000</td>\n",
       "      <td>5.188425</td>\n",
       "      <td>24.000000</td>\n",
       "      <td>666.000000</td>\n",
       "      <td>20.200000</td>\n",
       "      <td>396.225000</td>\n",
       "      <td>16.955000</td>\n",
       "    </tr>\n",
       "    <tr>\n",
       "      <th>max</th>\n",
       "      <td>88.976200</td>\n",
       "      <td>100.000000</td>\n",
       "      <td>27.740000</td>\n",
       "      <td>1.000000</td>\n",
       "      <td>0.871000</td>\n",
       "      <td>8.780000</td>\n",
       "      <td>100.000000</td>\n",
       "      <td>12.126500</td>\n",
       "      <td>24.000000</td>\n",
       "      <td>711.000000</td>\n",
       "      <td>22.000000</td>\n",
       "      <td>396.900000</td>\n",
       "      <td>37.970000</td>\n",
       "    </tr>\n",
       "  </tbody>\n",
       "</table>\n",
       "</div>"
      ],
      "text/plain": [
       "             CRIM          ZN       INDUS        CHAS         NOX          RM  \\\n",
       "count  506.000000  506.000000  506.000000  506.000000  506.000000  506.000000   \n",
       "mean     3.593761   11.363636   11.136779    0.069170    0.554695    6.284634   \n",
       "std      8.596783   23.322453    6.860353    0.253994    0.115878    0.702617   \n",
       "min      0.006320    0.000000    0.460000    0.000000    0.385000    3.561000   \n",
       "25%      0.082045    0.000000    5.190000    0.000000    0.449000    5.885500   \n",
       "50%      0.256510    0.000000    9.690000    0.000000    0.538000    6.208500   \n",
       "75%      3.647423   12.500000   18.100000    0.000000    0.624000    6.623500   \n",
       "max     88.976200  100.000000   27.740000    1.000000    0.871000    8.780000   \n",
       "\n",
       "              AGE         DIS         RAD         TAX     PTRATIO           B  \\\n",
       "count  506.000000  506.000000  506.000000  506.000000  506.000000  506.000000   \n",
       "mean    68.574901    3.795043    9.549407  408.237154   18.455534  356.674032   \n",
       "std     28.148861    2.105710    8.707259  168.537116    2.164946   91.294864   \n",
       "min      2.900000    1.129600    1.000000  187.000000   12.600000    0.320000   \n",
       "25%     45.025000    2.100175    4.000000  279.000000   17.400000  375.377500   \n",
       "50%     77.500000    3.207450    5.000000  330.000000   19.050000  391.440000   \n",
       "75%     94.075000    5.188425   24.000000  666.000000   20.200000  396.225000   \n",
       "max    100.000000   12.126500   24.000000  711.000000   22.000000  396.900000   \n",
       "\n",
       "            LSTAT  \n",
       "count  506.000000  \n",
       "mean    12.653063  \n",
       "std      7.141062  \n",
       "min      1.730000  \n",
       "25%      6.950000  \n",
       "50%     11.360000  \n",
       "75%     16.955000  \n",
       "max     37.970000  "
      ]
     },
     "execution_count": 10,
     "metadata": {},
     "output_type": "execute_result"
    }
   ],
   "source": [
    "df.describe()"
   ]
  },
  {
   "cell_type": "markdown",
   "metadata": {},
   "source": [
    "#### С помощью seaborn найти пару наиболее зависимых и независимых признаков среди первых 5"
   ]
  },
  {
   "cell_type": "code",
   "execution_count": 77,
   "metadata": {},
   "outputs": [],
   "source": [
    "# your solution is here"
   ]
  },
  {
   "cell_type": "code",
   "execution_count": 82,
   "metadata": {},
   "outputs": [
    {
     "data": {
      "text/html": [
       "<div>\n",
       "<style scoped>\n",
       "    .dataframe tbody tr th:only-of-type {\n",
       "        vertical-align: middle;\n",
       "    }\n",
       "\n",
       "    .dataframe tbody tr th {\n",
       "        vertical-align: top;\n",
       "    }\n",
       "\n",
       "    .dataframe thead th {\n",
       "        text-align: right;\n",
       "    }\n",
       "</style>\n",
       "<table border=\"1\" class=\"dataframe\">\n",
       "  <thead>\n",
       "    <tr style=\"text-align: right;\">\n",
       "      <th></th>\n",
       "      <th>CRIM</th>\n",
       "      <th>ZN</th>\n",
       "      <th>INDUS</th>\n",
       "      <th>CHAS</th>\n",
       "      <th>NOX</th>\n",
       "    </tr>\n",
       "  </thead>\n",
       "  <tbody>\n",
       "    <tr>\n",
       "      <th>CRIM</th>\n",
       "      <td>1.000000</td>\n",
       "      <td>-0.199458</td>\n",
       "      <td>0.404471</td>\n",
       "      <td>-0.055295</td>\n",
       "      <td>0.417521</td>\n",
       "    </tr>\n",
       "    <tr>\n",
       "      <th>ZN</th>\n",
       "      <td>-0.199458</td>\n",
       "      <td>1.000000</td>\n",
       "      <td>-0.533828</td>\n",
       "      <td>-0.042697</td>\n",
       "      <td>-0.516604</td>\n",
       "    </tr>\n",
       "    <tr>\n",
       "      <th>INDUS</th>\n",
       "      <td>0.404471</td>\n",
       "      <td>-0.533828</td>\n",
       "      <td>1.000000</td>\n",
       "      <td>0.062938</td>\n",
       "      <td>0.763651</td>\n",
       "    </tr>\n",
       "    <tr>\n",
       "      <th>CHAS</th>\n",
       "      <td>-0.055295</td>\n",
       "      <td>-0.042697</td>\n",
       "      <td>0.062938</td>\n",
       "      <td>1.000000</td>\n",
       "      <td>0.091203</td>\n",
       "    </tr>\n",
       "    <tr>\n",
       "      <th>NOX</th>\n",
       "      <td>0.417521</td>\n",
       "      <td>-0.516604</td>\n",
       "      <td>0.763651</td>\n",
       "      <td>0.091203</td>\n",
       "      <td>1.000000</td>\n",
       "    </tr>\n",
       "  </tbody>\n",
       "</table>\n",
       "</div>"
      ],
      "text/plain": [
       "           CRIM        ZN     INDUS      CHAS       NOX\n",
       "CRIM   1.000000 -0.199458  0.404471 -0.055295  0.417521\n",
       "ZN    -0.199458  1.000000 -0.533828 -0.042697 -0.516604\n",
       "INDUS  0.404471 -0.533828  1.000000  0.062938  0.763651\n",
       "CHAS  -0.055295 -0.042697  0.062938  1.000000  0.091203\n",
       "NOX    0.417521 -0.516604  0.763651  0.091203  1.000000"
      ]
     },
     "execution_count": 82,
     "metadata": {},
     "output_type": "execute_result"
    }
   ],
   "source": [
    "df_c = df.iloc[:,:5]\n",
    "corr = df_c.corr()\n",
    "corr"
   ]
  },
  {
   "cell_type": "markdown",
   "metadata": {},
   "source": [
    "#### С помощью матрицы корреляций найти пару наиболее зависимых и независимых признаков среди первых 5"
   ]
  },
  {
   "cell_type": "code",
   "execution_count": 7,
   "metadata": {},
   "outputs": [],
   "source": [
    "# your solution is here"
   ]
  },
  {
   "cell_type": "markdown",
   "metadata": {},
   "source": [
    "#### Проверить руками гипотезу $H_0: M_{AGE} = 75$ "
   ]
  },
  {
   "cell_type": "code",
   "execution_count": 87,
   "metadata": {},
   "outputs": [
    {
     "data": {
      "text/plain": [
       "Ttest_1sampResult(statistic=-5.134453640225091, pvalue=4.0460707422681943e-07)"
      ]
     },
     "execution_count": 87,
     "metadata": {},
     "output_type": "execute_result"
    }
   ],
   "source": [
    "# your solution is here\n",
    "stats.ttest_1samp(df['AGE'], 75)"
   ]
  },
  {
   "cell_type": "code",
   "execution_count": 90,
   "metadata": {},
   "outputs": [
    {
     "data": {
      "text/plain": [
       "-5.134453640225065"
      ]
     },
     "execution_count": 90,
     "metadata": {},
     "output_type": "execute_result"
    }
   ],
   "source": [
    "sample_mean = df['AGE'].mean()\n",
    "t = (sample_mean - 75) / (df['AGE'].var()/len(df['AGE']))**0.5\n",
    "t"
   ]
  },
  {
   "cell_type": "code",
   "execution_count": null,
   "metadata": {},
   "outputs": [],
   "source": [
    "t статистика меньше -1.96 (уровень значимости 5%), что говорим нам о том, что мы имеем достаточно оснований отклонить нулевую гипотезу"
   ]
  },
  {
   "cell_type": "code",
   "execution_count": 92,
   "metadata": {},
   "outputs": [
    {
     "data": {
      "text/plain": [
       "68.57490118577078"
      ]
     },
     "execution_count": 92,
     "metadata": {},
     "output_type": "execute_result"
    }
   ],
   "source": [
    "df['AGE'].mean()"
   ]
  },
  {
   "cell_type": "markdown",
   "metadata": {},
   "source": [
    "#### Нарисовать распределение признака TAX с помощью\n",
    "- диаграммы\n",
    "- qq-plot\n",
    "- эмпирическая ф.р."
   ]
  },
  {
   "cell_type": "code",
   "execution_count": 99,
   "metadata": {},
   "outputs": [
    {
     "data": {
      "image/png": "[encoded data removed]",
      "text/plain": [
       "<Figure size 432x288 with 1 Axes>"
      ]
     },
     "metadata": {},
     "output_type": "display_data"
    }
   ],
   "source": [
    "# your solution is here\n",
    "df['AGE'].hist(density=True)\n",
    "x = np.random.normal(45,5,100)\n",
    "sp =np.linspace(0, 100, 200)\n",
    "pdf = stats.norm(x.mean(), x.var()).pdf(sp)\n",
    "plt.plot(sp, pdf);"
   ]
  },
  {
   "cell_type": "code",
   "execution_count": 95,
   "metadata": {},
   "outputs": [
    {
     "data": {
      "image/png": "[encoded data removed]",
      "text/plain": [
       "<Figure size 432x288 with 1 Axes>"
      ]
     },
     "metadata": {},
     "output_type": "display_data"
    }
   ],
   "source": [
    "x = df['AGE']\n",
    "res = stats.probplot(x, plot=plt)"
   ]
  },
  {
   "cell_type": "markdown",
   "metadata": {},
   "source": [
    "можем видеть, что распределение признака не подходит под нормальное"
   ]
  },
  {
   "cell_type": "markdown",
   "metadata": {},
   "source": [
    "#### Применить критерий Пирсона\n",
    "\n",
    "Есть данные о продаже литров молока в магазине по дня недели \n",
    "\n",
    "ПН – 36, ВТ – 53, СР – 35, ЧТ – 26, ПТ – 30, СБ – 44, ВС – 28.\n"
   ]
  },
  {
   "cell_type": "code",
   "execution_count": null,
   "metadata": {},
   "outputs": [],
   "source": []
  },
  {
   "cell_type": "markdown",
   "metadata": {},
   "source": [
    "Статистика **хи-квадрат**: \n",
    "$$\\hat \\chi = \\sum_{j=1}^{m} \\dfrac{(\\mu_j - np_j^0)^2}{np_j^0},$$\n",
    "\n",
    "\n",
    "где $\\mu_j = \\displaystyle \\sum_{i=1}^{n} I\\{X_i = a_j\\}$ --- число выпадений $j-$го исхода$"
   ]
  },
  {
   "cell_type": "code",
   "execution_count": 6,
   "metadata": {},
   "outputs": [],
   "source": [
    "# your solution is here\n",
    "mu = [36,53,35,26,30,44,28]\n",
    "p = 1/7 #вероятность , которую мы предполагаем\n",
    "n = sum(mu)\n",
    "chi = sum([(mu[i] - n*p)**2 / (n*p) for i in range(len(mu))])"
   ]
  },
  {
   "cell_type": "code",
   "execution_count": 7,
   "metadata": {},
   "outputs": [
    {
     "data": {
      "text/plain": [
       "15.388888888888893"
      ]
     },
     "execution_count": 7,
     "metadata": {},
     "output_type": "execute_result"
    }
   ],
   "source": [
    "chi"
   ]
  },
  {
   "cell_type": "code",
   "execution_count": null,
   "metadata": {},
   "outputs": [],
   "source": []
  }
 ],
 "metadata": {
  "kernelspec": {
   "display_name": "Python 3",
   "language": "python",
   "name": "python3"
  },
  "language_info": {
   "codemirror_mode": {
    "name": "ipython",
    "version": 3
   },
   "file_extension": ".py",
   "mimetype": "text/x-python",
   "name": "python",
   "nbconvert_exporter": "python",
   "pygments_lexer": "ipython3",
   "version": "3.6.5"
  }
 },
 "nbformat": 4,
 "nbformat_minor": 2
}
