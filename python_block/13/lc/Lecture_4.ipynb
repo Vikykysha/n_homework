{
 "cells": [
  {
   "cell_type": "code",
   "execution_count": 1,
   "metadata": {
    "slideshow": {
     "slide_type": "skip"
    }
   },
   "outputs": [],
   "source": [
    "import pandas as pd\n",
    "from scipy import stats\n",
    "import numpy as np\n",
    "\n",
    "import seaborn as sns\n",
    "from sklearn import datasets\n",
    "from matplotlib import pyplot as plt\n",
    "from statsmodels.distributions.empirical_distribution import ECDF"
   ]
  },
  {
   "cell_type": "markdown",
   "metadata": {
    "slideshow": {
     "slide_type": "slide"
    }
   },
   "source": [
    "## Занятие 4\n",
    "\n",
    "### Критерии проверки гипотез (продолжение)"
   ]
  },
  {
   "cell_type": "markdown",
   "metadata": {
    "slideshow": {
     "slide_type": "slide"
    }
   },
   "source": [
    "### QQ-Plot"
   ]
  },
  {
   "cell_type": "markdown",
   "metadata": {
    "slideshow": {
     "slide_type": "fragment"
    }
   },
   "source": [
    "**Квантиль-квантиль плот**\n",
    "\n",
    "Используется для визуальной проверки принадлежности выборки распределению.\n",
    "\n",
    "В основном, когда выборка небольшого размера."
   ]
  },
  {
   "cell_type": "code",
   "execution_count": 13,
   "metadata": {
    "slideshow": {
     "slide_type": "slide"
    }
   },
   "outputs": [
    {
     "data": {
      "text/plain": [
       "Text(0.5,0,'$x$')"
      ]
     },
     "execution_count": 13,
     "metadata": {},
     "output_type": "execute_result"
    },
    {
     "data": {
      "image/png": "[encoded data removed]",
      "text/plain": [
       "<Figure size 432x288 with 1 Axes>"
      ]
     },
     "metadata": {},
     "output_type": "display_data"
    }
   ],
   "source": [
    "x = np.random.normal(8,2,100)\n",
    "sp =np.linspace(2, 15, 200)\n",
    "pdf = stats.norm(x.mean(), x.var()).pdf(sp)\n",
    "plt.hist(x, density=True)\n",
    "plt.plot(sp, pdf)\n",
    "plt.ylabel('fraction of samples')\n",
    "plt.xlabel('$x$')"
   ]
  },
  {
   "cell_type": "code",
   "execution_count": 3,
   "metadata": {
    "slideshow": {
     "slide_type": "fragment"
    }
   },
   "outputs": [
    {
     "data": {
      "image/png": "[encoded data removed]",
      "text/plain": [
       "<Figure size 432x288 with 1 Axes>"
      ]
     },
     "metadata": {},
     "output_type": "display_data"
    }
   ],
   "source": [
    "data = datasets.load_boston()\n",
    "df = pd.DataFrame(data.data, columns=data.feature_names)\n",
    "x = df['RM']\n",
    "res = stats.probplot(x, plot=plt)\n"
   ]
  },
  {
   "cell_type": "markdown",
   "metadata": {
    "slideshow": {
     "slide_type": "slide"
    }
   },
   "source": [
    "### Проверяем данные на нормальность, зачем?"
   ]
  },
  {
   "cell_type": "markdown",
   "metadata": {
    "slideshow": {
     "slide_type": "fragment"
    }
   },
   "source": [
    "#### Пример\n",
    "\n",
    "$M_1 = 89.9,  s = 11.3, n=20$\n",
    "$M_2 = 80.7,  s = 11.7, n=20$\n",
    "\n",
    "$$H_0: M_1 = M_2$$"
   ]
  },
  {
   "cell_type": "markdown",
   "metadata": {
    "slideshow": {
     "slide_type": "fragment"
    }
   },
   "source": [
    "Используя $t-$критерий получим"
   ]
  },
  {
   "cell_type": "markdown",
   "metadata": {
    "slideshow": {
     "slide_type": "fragment"
    }
   },
   "source": [
    "$$t = 2.5 \\Rightarrow p < 0.05$$"
   ]
  },
  {
   "cell_type": "markdown",
   "metadata": {
    "slideshow": {
     "slide_type": "fragment"
    }
   },
   "source": [
    "Если добавим по выбросу в каждую выборку и посчитав значения, получим\n",
    "\n",
    "$$t= 0.03, p=0.97$$"
   ]
  },
  {
   "cell_type": "markdown",
   "metadata": {
    "slideshow": {
     "slide_type": "slide"
    }
   },
   "source": [
    "#### Как бороться с выбросами?"
   ]
  },
  {
   "cell_type": "markdown",
   "metadata": {
    "slideshow": {
     "slide_type": "fragment"
    }
   },
   "source": [
    "Использовать ранговые критерии:\n",
    "\n",
    "$$X_{(1)} \\le ... \\le X_{(n)}$$"
   ]
  },
  {
   "cell_type": "markdown",
   "metadata": {
    "slideshow": {
     "slide_type": "fragment"
    }
   },
   "source": [
    "### Критерий Манна-Уитни\n",
    "\n",
    "Пусть $n_1, n_2$ -- размер 1-й и второй выборок соответственно. $N = n_1 + n_2$\n",
    "- объединим обе выборки и произведем ранжирование\n",
    "- посчитаем сумму рангов для каждой выборки\n",
    "- $T_x \\text{наибольшая из них, соответствующая выборке } n_x$ \n",
    "\n",
    "$$U = n_1 \\cdot n_2 + \\frac{n_x(n_x + 1)}{2} - T_x$$\n",
    "\n",
    "Рассматриваем $U$ как p-value"
   ]
  },
  {
   "cell_type": "markdown",
   "metadata": {
    "slideshow": {
     "slide_type": "slide"
    }
   },
   "source": [
    "## Критерий $\\chi^2$"
   ]
  },
  {
   "cell_type": "markdown",
   "metadata": {
    "slideshow": {
     "slide_type": "fragment"
    }
   },
   "source": [
    "Пусть $X_1, ..., X_n$ --- выборка из схемы Бернулли с $m \\ge 2$ исходами $a_1, ..., a_m$ --- исходы и $P(X_i = a_j) = p_j$\n",
    "\n",
    "$$H_0 : p_j = p_j^0, j=1,...m$$"
   ]
  },
  {
   "cell_type": "markdown",
   "metadata": {
    "slideshow": {
     "slide_type": "fragment"
    }
   },
   "source": [
    "Статистика **хи-квадрат**: \n",
    "$$\\hat \\chi = \\sum_{j=1}^{m} \\dfrac{(\\mu_j - np_j^0)^2}{np_j^0},$$\n",
    "\n",
    "\n",
    "где $\\mu_j = \\displaystyle \\sum_{i=1}^{n} I\\{X_i = a_j\\}$ --- число выпадений $j-$го исхода$"
   ]
  },
  {
   "cell_type": "markdown",
   "metadata": {
    "slideshow": {
     "slide_type": "slide"
    }
   },
   "source": [
    "Теорема Пирсона утверждает, что в условиях гипотезы $H_0$:\n",
    "\n",
    "\n",
    "$$\\hat \\chi \\rightarrow^d \\chi^2_{m-1}$$"
   ]
  },
  {
   "cell_type": "markdown",
   "metadata": {
    "slideshow": {
     "slide_type": "fragment"
    }
   },
   "source": [
    "### Критерий Пирсона\n",
    "\n",
    "Если $\\hat \\chi > u_{1-\\alpha}$, где $u_{1-\\alpha}$ --- $(1-\\alpha)$-квантиль распределения $\\chi^2_{m-1}$, то отвергаем $H_0$\n"
   ]
  },
  {
   "cell_type": "markdown",
   "metadata": {
    "slideshow": {
     "slide_type": "slide"
    }
   },
   "source": [
    "#### Пример\n",
    "\n",
    "Есть данные о продаже литров молока в магазине по дня недели \n",
    "\n",
    "ПН – 36, ВТ – 53, СР – 35, ЧТ – 26, ПТ – 30, СБ – 44, ВС – 28.\n",
    "\n",
    "**Гипотеза?**"
   ]
  },
  {
   "cell_type": "markdown",
   "metadata": {
    "slideshow": {
     "slide_type": "fragment"
    }
   },
   "source": [
    "$$ H_0 : \\text{продажа молока не зависит от дня недели}$$\n",
    "\n",
    "Проверить эту гипотезу на уровне $0.95$ и $0.99$"
   ]
  }
 ],
 "metadata": {
  "celltoolbar": "Slideshow",
  "kernelspec": {
   "display_name": "Python 3",
   "language": "python",
   "name": "python3"
  },
  "language_info": {
   "codemirror_mode": {
    "name": "ipython",
    "version": 3
   },
   "file_extension": ".py",
   "mimetype": "text/x-python",
   "name": "python",
   "nbconvert_exporter": "python",
   "pygments_lexer": "ipython3",
   "version": "3.6.5"
  }
 },
 "nbformat": 4,
 "nbformat_minor": 2
}
