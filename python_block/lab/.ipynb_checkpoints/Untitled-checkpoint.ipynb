{
 "cells": [
  {
   "cell_type": "markdown",
   "metadata": {},
   "source": [
    "### 1. Дан произвольный список, содержащий только числа. Выведите результат сложения всех чисел больше 10. "
   ]
  },
  {
   "cell_type": "code",
   "execution_count": 4,
   "metadata": {},
   "outputs": [],
   "source": [
    "def sum_gr_ten(lst):\n",
    "    '''find sum of elems using extra list and list comprehensions. not efficient for the large lists'''\n",
    "    return sum([x for x in lst if x > 10])"
   ]
  },
  {
   "cell_type": "code",
   "execution_count": 5,
   "metadata": {},
   "outputs": [],
   "source": [
    "def sum_gr_ten_v2(lst):\n",
    "    '''find sum of elems using generator expressions. a good use for the large lists'''\n",
    "    return sum(x for x in lst if x > 10)"
   ]
  },
  {
   "cell_type": "code",
   "execution_count": 6,
   "metadata": {},
   "outputs": [
    {
     "data": {
      "text/plain": [
       "23"
      ]
     },
     "execution_count": 6,
     "metadata": {},
     "output_type": "execute_result"
    }
   ],
   "source": [
    "sum_gr_ten_v2([2,11,12,1,-1])"
   ]
  },
  {
   "cell_type": "markdown",
   "metadata": {},
   "source": [
    "### 2. Пусть задан список, содержащий строки. Выведите все строки, заканчивающиеся буквой r."
   ]
  },
  {
   "cell_type": "code",
   "execution_count": 10,
   "metadata": {},
   "outputs": [],
   "source": [
    "def print_r_str(lst):\n",
    "    '''find strings that ends with r using endswith() function'''\n",
    "    lst_str = (x for x in lst if x.endswith('r',-1))\n",
    "    for x in lst_str:\n",
    "        print(x)"
   ]
  },
  {
   "cell_type": "code",
   "execution_count": 11,
   "metadata": {},
   "outputs": [
    {
     "name": "stdout",
     "output_type": "stream",
     "text": [
      "asddsr\n",
      "qr\n"
     ]
    }
   ],
   "source": [
    "print_r_str(['asdasdas','asdasdaq','12','asddsr','qweR','qr'])"
   ]
  },
  {
   "cell_type": "code",
   "execution_count": 15,
   "metadata": {},
   "outputs": [],
   "source": [
    "def print_r_str(lst):\n",
    "    '''find strings using list slicing.a less elegant way'''\n",
    "    for x in lst:\n",
    "        if x[-1] == 'r':\n",
    "            print(x)"
   ]
  },
  {
   "cell_type": "code",
   "execution_count": 16,
   "metadata": {},
   "outputs": [
    {
     "name": "stdout",
     "output_type": "stream",
     "text": [
      "asddsr\n",
      "qr\n"
     ]
    }
   ],
   "source": [
    "print_r_str(['asdasdas','asdasdaq','12','asddsr','qweR','qr'])"
   ]
  },
  {
   "cell_type": "markdown",
   "metadata": {},
   "source": [
    "### 3. Сгенерируйте и выведите cлучайную строку размером 6 символов, содержащую только цифры. Строка должна содержать хотя бы одну цифру 3."
   ]
  },
  {
   "cell_type": "code",
   "execution_count": 63,
   "metadata": {},
   "outputs": [],
   "source": [
    "import string\n",
    "import random\n",
    "def get_random_str(size = 6, chars = string.digits):\n",
    "    '''generate a string of digits using random choices function in random module'''\n",
    "    s = random.choices(chars,k=size)\n",
    "    s[random.randint(0,size -1)] = '3'\n",
    "    return ''.join(s)"
   ]
  },
  {
   "cell_type": "code",
   "execution_count": 64,
   "metadata": {},
   "outputs": [
    {
     "name": "stdout",
     "output_type": "stream",
     "text": [
      "033598\n",
      "072203\n",
      "307337\n",
      "649939\n",
      "543296\n",
      "842183\n",
      "450346\n",
      "380646\n",
      "847838\n",
      "330767\n"
     ]
    }
   ],
   "source": [
    "for x in range(10):\n",
    "    print(get_random_str())"
   ]
  },
  {
   "cell_type": "markdown",
   "metadata": {},
   "source": [
    "### 4. Пусть дана строка произвольной длины. Выведите информацию о том, сколько в ней символов и сколько слов"
   ]
  },
  {
   "cell_type": "code",
   "execution_count": 110,
   "metadata": {},
   "outputs": [
    {
     "data": {
      "text/plain": [
       "(11, 84)"
      ]
     },
     "execution_count": 110,
     "metadata": {},
     "output_type": "execute_result"
    }
   ],
   "source": [
    "import re\n",
    "def str_info(some_str):\n",
    "    str_info = re.split(r'(?:;|,|\\s|\\t|\\?|\\!|\\'|\\\"|\\n|\\.|\\#|\\{|\\}|\\(|\\)|~|@|\\$|\\%|\\^|\\*|&|\\-|=|\\\\|/)\\s*', some_str)\n",
    "    return (sum(1 for x in str_info if x != ''),len(some_str))\n",
    "str_info('Hey! I\\'m Viktoriya, ,,,, \\t\\t\\t ??? trying to\\\\\\ \\/ learn Python     !\\n blablabla bla b!')"
   ]
  },
  {
   "cell_type": "markdown",
   "metadata": {},
   "source": [
    "### 1. Пусть дана матрица чисел размером NхN. Представьте данную матрицу в виде списка. Выведите результат сложения всех элементов матрицы."
   ]
  },
  {
   "cell_type": "code",
   "execution_count": 123,
   "metadata": {},
   "outputs": [],
   "source": [
    "def is_int(val):\n",
    "    try:\n",
    "        x = int(val)\n",
    "        return True\n",
    "    except ValueError:\n",
    "        return False\n",
    "def find_sum_of_lines(matrix):\n",
    "    for x in matrix:\n",
    "        s = sum(int(elem) for elem in x if is_int(elem))\n",
    "        yield s\n",
    "def find_total_sum(matrix):\n",
    "    return sum(find_sum_of_lines(matrix))"
   ]
  },
  {
   "cell_type": "code",
   "execution_count": 125,
   "metadata": {},
   "outputs": [
    {
     "data": {
      "text/plain": [
       "13"
      ]
     },
     "execution_count": 125,
     "metadata": {},
     "output_type": "execute_result"
    }
   ],
   "source": [
    "find_total_sum([[1,2,3],[3,4,3],[1,'2','s']])"
   ]
  },
  {
   "cell_type": "markdown",
   "metadata": {},
   "source": [
    "### 2. Пусть дана матрица чисел размером NхM. Найти столбец матрицы с максимальной суммой элементов."
   ]
  },
  {
   "cell_type": "code",
   "execution_count": 243,
   "metadata": {},
   "outputs": [],
   "source": [
    "from operator import add\n",
    "def find_col_sum(matrix):\n",
    "    '''returns list of index of the columns with max sum'''\n",
    "    n = len(matrix)\n",
    "    m = len(matrix[0])\n",
    "    sum_clo = [0] * m\n",
    "    for x in matrix:\n",
    "        sum_clo = list(map(add,sum_clo,x))\n",
    "    #if the number of max columns is more than one \n",
    "    max_sum = max(sum_clo)\n",
    "    return list((x[0] for x in enumerate(sum_clo) if  x[1] == max_sum))"
   ]
  },
  {
   "cell_type": "code",
   "execution_count": 244,
   "metadata": {},
   "outputs": [
    {
     "data": {
      "text/plain": [
       "[2]"
      ]
     },
     "execution_count": 244,
     "metadata": {},
     "output_type": "execute_result"
    }
   ],
   "source": [
    "find_col_sum([[1,2,3],[1,2,3]])"
   ]
  },
  {
   "cell_type": "code",
   "execution_count": 245,
   "metadata": {},
   "outputs": [
    {
     "data": {
      "text/plain": [
       "[0, 1, 2]"
      ]
     },
     "execution_count": 245,
     "metadata": {},
     "output_type": "execute_result"
    }
   ],
   "source": [
    "find_col_sum([[1,1,1],[1,1,1],[1,1,1]])"
   ]
  },
  {
   "cell_type": "markdown",
   "metadata": {},
   "source": [
    "### 1. Пусть список студентов представлен в виде структуры [[No, ФИО, Возраст,Группа],[No, ФИО, Возраст, Группа],[No, ФИО,Возраст, Группа]]. Преобразуйте список в словарь вида: {No: [ФИО, Возраст, Группа], No:[....], No: [....]}\n"
   ]
  },
  {
   "cell_type": "code",
   "execution_count": 246,
   "metadata": {},
   "outputs": [],
   "source": [
    "from collections import defaultdict\n",
    "def make_dict(lst_of_students):\n",
    "    d = defaultdict(list)\n",
    "    for student in lst_of_students:\n",
    "        d[student[0]] = student[1:]\n",
    "    return dict(d)"
   ]
  },
  {
   "cell_type": "code",
   "execution_count": 247,
   "metadata": {},
   "outputs": [
    {
     "data": {
      "text/plain": [
       "{0: ['Kate', 21, 1], 1: ['Dmitry', 20, 2]}"
      ]
     },
     "execution_count": 247,
     "metadata": {},
     "output_type": "execute_result"
    }
   ],
   "source": [
    "make_dict([[0,\"Kate\",21,1],[1,\"Dmitry\",20,2]])"
   ]
  },
  {
   "cell_type": "markdown",
   "metadata": {},
   "source": [
    "### 2. Добавьте к задаче No6 для словаря возможность (без преобразования словаря обратно в список) изменить группу студента. Поиск по «ФИО» («ФИО» студента и новый номер группы необходимо ввести с клавиатуры)."
   ]
  },
  {
   "cell_type": "code",
   "execution_count": 248,
   "metadata": {},
   "outputs": [],
   "source": [
    "from operator import itemgetter\n",
    "def change_group(d,name, num_gr):\n",
    "    for key, value  in  d.items():\n",
    "        if name in value:\n",
    "            d[key][2] = num_gr\n",
    "\n"
   ]
  },
  {
   "cell_type": "code",
   "execution_count": 249,
   "metadata": {},
   "outputs": [
    {
     "name": "stdout",
     "output_type": "stream",
     "text": [
      "Kate\n",
      "3\n"
     ]
    }
   ],
   "source": [
    "d = {1: ['Kate', 2, 1], 2: ['Viktor', 4, 12]}\n",
    "name = input()\n",
    "group =int(input())\n",
    "change_group(d,name,group)"
   ]
  },
  {
   "cell_type": "code",
   "execution_count": 250,
   "metadata": {},
   "outputs": [
    {
     "data": {
      "text/plain": [
       "{1: ['Kate', 2, 3], 2: ['Viktor', 4, 12]}"
      ]
     },
     "execution_count": 250,
     "metadata": {},
     "output_type": "execute_result"
    }
   ],
   "source": [
    "d"
   ]
  },
  {
   "cell_type": "markdown",
   "metadata": {},
   "source": [
    "### 3. Добавьте к задаче No6 для словаря возможность (без преобразования словаря обратно в список) изменить возраст студента. "
   ]
  },
  {
   "cell_type": "code",
   "execution_count": 240,
   "metadata": {},
   "outputs": [],
   "source": [
    "from operator import itemgetter\n",
    "def change_age(d, name, age):\n",
    "    for key, value  in  d.items():\n",
    "        if name in value:\n",
    "            d[key][1] = age"
   ]
  },
  {
   "cell_type": "code",
   "execution_count": 241,
   "metadata": {},
   "outputs": [
    {
     "name": "stdout",
     "output_type": "stream",
     "text": [
      "Viktor\n",
      "5\n"
     ]
    }
   ],
   "source": [
    "d = {1: ['Kate', 2, 1], 2: ['Viktor', 4, 12]}\n",
    "name = input()\n",
    "age =int(input())\n",
    "change_age(d,name,age)"
   ]
  },
  {
   "cell_type": "code",
   "execution_count": 242,
   "metadata": {},
   "outputs": [
    {
     "data": {
      "text/plain": [
       "{1: ['Kate', 2, 1], 2: ['Viktor', 5, 12]}"
      ]
     },
     "execution_count": 242,
     "metadata": {},
     "output_type": "execute_result"
    }
   ],
   "source": [
    "d"
   ]
  }
 ],
 "metadata": {
  "kernelspec": {
   "display_name": "Python 3",
   "language": "python",
   "name": "python3"
  },
  "language_info": {
   "codemirror_mode": {
    "name": "ipython",
    "version": 3
   },
   "file_extension": ".py",
   "mimetype": "text/x-python",
   "name": "python",
   "nbconvert_exporter": "python",
   "pygments_lexer": "ipython3",
   "version": "3.6.5"
  }
 },
 "nbformat": 4,
 "nbformat_minor": 2
}
