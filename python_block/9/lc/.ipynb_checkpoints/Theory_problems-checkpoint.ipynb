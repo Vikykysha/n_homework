{
 "cells": [
  {
   "cell_type": "code",
   "execution_count": null,
   "metadata": {},
   "outputs": [],
   "source": [
    "Пусть было проведено 100 подбрасываний кубика\n",
    "\n",
    "1 - 20\n",
    "2 - 18\n",
    "3 - 14\n",
    "4 - 15\n",
    "5 - 20\n",
    "6 - 11\n",
    "\n",
    "Чему равна вероятность выпадения нечетного числа?\n",
    "(20 + 14 + 20) / 100"
   ]
  },
  {
   "cell_type": "markdown",
   "metadata": {},
   "source": [
    "Статистика: когда у нас есть данные и мы пытаемся узнать распределение этих данных "
   ]
  },
  {
   "cell_type": "markdown",
   "metadata": {},
   "source": [
    "Пусть бросили кубик 3 раза\n",
    "Какая вероятность того, что все 3 раза выпала 6-ка?"
   ]
  },
  {
   "cell_type": "code",
   "execution_count": 1,
   "metadata": {},
   "outputs": [
    {
     "data": {
      "text/plain": [
       "216"
      ]
     },
     "execution_count": 1,
     "metadata": {},
     "output_type": "execute_result"
    }
   ],
   "source": [
    "6**3"
   ]
  },
  {
   "cell_type": "code",
   "execution_count": null,
   "metadata": {},
   "outputs": [],
   "source": [
    "Пусть бросили кубик 3 раза\n",
    "Какая вероятность того, что все 3 раза выпала одна и та же цифра?"
   ]
  },
  {
   "cell_type": "markdown",
   "metadata": {},
   "source": [
    "Пусть бросили кубик 3 раза\n",
    "Какая вероятность того, что не было 3 одинаковых цифр?"
   ]
  },
  {
   "cell_type": "markdown",
   "metadata": {},
   "source": [
    "1 - P(A) = 1 - 6 / 6**3"
   ]
  },
  {
   "cell_type": "markdown",
   "metadata": {},
   "source": [
    "Киоск с мороженым\n",
    "P(подойдет парень) = 1/2\n",
    "P(девушка) = 1/2\n",
    "P(парень купит мороженое) = 1/5\n",
    "p(девушка купит) = 1/4\n",
    "\n",
    "С какой вероятностью у нас купят мороженое?"
   ]
  },
  {
   "cell_type": "code",
   "execution_count": null,
   "metadata": {},
   "outputs": [],
   "source": [
    "P(парень) * P(парень купит) + P(девушка) * P(девушка купит) = "
   ]
  },
  {
   "cell_type": "code",
   "execution_count": 2,
   "metadata": {},
   "outputs": [
    {
     "data": {
      "text/plain": [
       "0.225"
      ]
     },
     "execution_count": 2,
     "metadata": {},
     "output_type": "execute_result"
    }
   ],
   "source": [
    "1/2 * 1/5 + 1/2 * 1/4"
   ]
  },
  {
   "cell_type": "code",
   "execution_count": null,
   "metadata": {},
   "outputs": [],
   "source": [
    "1/5 = P(купит | подойдет парень)"
   ]
  },
  {
   "cell_type": "code",
   "execution_count": null,
   "metadata": {},
   "outputs": [],
   "source": [
    "A - купить мороженое\n",
    "B - подойдет парень\n",
    "C - девушка\n",
    "P(A) = P(A|B)P(B) + P(A|C)P(C) ##формула полной вероятности"
   ]
  },
  {
   "cell_type": "markdown",
   "metadata": {},
   "source": [
    "P(все числа выпали разные) = P(все числа разные при 1 броске) * P(при двух бросках) * P(при трех бросках) = 6/6 * 5/6 * 4/6 "
   ]
  },
  {
   "cell_type": "markdown",
   "metadata": {},
   "source": [
    "Формула Байеса"
   ]
  },
  {
   "cell_type": "code",
   "execution_count": null,
   "metadata": {},
   "outputs": [],
   "source": [
    "A - купить мороженое\n",
    "B - подойдет парень\n",
    "C - подойдет девушка\n",
    "\n",
    "Вероятность того, что мороженое купил парень\n",
    "P(B | A) = P(A|B)*P(B) / "
   ]
  },
  {
   "cell_type": "markdown",
   "metadata": {},
   "source": [
    "$\\int_a^b p(x) dx = P(x \\in [a, b])$\n"
   ]
  },
  {
   "cell_type": "markdown",
   "metadata": {},
   "source": [
    "p - плотность вероятности\n",
    "P - распределение"
   ]
  },
  {
   "cell_type": "code",
   "execution_count": null,
   "metadata": {},
   "outputs": [],
   "source": []
  }
 ],
 "metadata": {
  "kernelspec": {
   "display_name": "Python 3",
   "language": "python",
   "name": "python3"
  },
  "language_info": {
   "codemirror_mode": {
    "name": "ipython",
    "version": 3
   },
   "file_extension": ".py",
   "mimetype": "text/x-python",
   "name": "python",
   "nbconvert_exporter": "python",
   "pygments_lexer": "ipython3",
   "version": "3.6.5"
  }
 },
 "nbformat": 4,
 "nbformat_minor": 2
}
