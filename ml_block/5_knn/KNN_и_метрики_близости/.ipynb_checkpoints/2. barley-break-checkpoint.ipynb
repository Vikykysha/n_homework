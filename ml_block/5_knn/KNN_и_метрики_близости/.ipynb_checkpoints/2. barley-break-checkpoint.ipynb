{
 "cells": [
  {
   "cell_type": "markdown",
   "metadata": {},
   "source": [
    "## Подсчет манхэттенского расстояния в игре \"Пятнашки\""
   ]
  },
  {
   "cell_type": "code",
   "execution_count": 8,
   "metadata": {},
   "outputs": [],
   "source": [
    "correct_position = [\n",
    "    [1, 2, 3, 4],\n",
    "    [5, 6, 7, 8],\n",
    "    [9, 10, 11, 12],\n",
    "    [13, 14, 15, 0],\n",
    "]"
   ]
  },
  {
   "cell_type": "code",
   "execution_count": 9,
   "metadata": {},
   "outputs": [],
   "source": [
    "current_position = [\n",
    "    [1, 2, 3, 4],\n",
    "    [5, 6, 7, 8],\n",
    "    [9, 10, 11, 12],\n",
    "    [13, 0, 14, 15],\n",
    "]"
   ]
  },
  {
   "cell_type": "code",
   "execution_count": 10,
   "metadata": {},
   "outputs": [],
   "source": [
    "def make_positions_dict(position):\n",
    "    \"\"\"\n",
    "    Формирование словаря координат чисел.\n",
    "    \n",
    "    Пример\n",
    "    make_positions_dict(correct_position)\n",
    "    \n",
    "    {\n",
    "        1: [1, 1],\n",
    "        2: [1, 2],\n",
    "        ...\n",
    "        14: [4, 2],\n",
    "        15: [4, 3]\n",
    "    }\n",
    "    \"\"\"\n",
    "    \n",
    "    position_dict = {}\n",
    "\n",
    "    row_number = 1\n",
    "    for row_list in position:\n",
    "\n",
    "        column_number = 1\n",
    "        for column in row_list:\n",
    "            if column != 0:\n",
    "                position_dict[column] = [row_number, column_number]\n",
    "            \n",
    "            column_number += 1\n",
    "\n",
    "        row_number += 1\n",
    "    \n",
    "    return position_dict"
   ]
  },
  {
   "cell_type": "code",
   "execution_count": 11,
   "metadata": {},
   "outputs": [
    {
     "data": {
      "text/plain": [
       "{1: [1, 1],\n",
       " 2: [1, 2],\n",
       " 3: [1, 3],\n",
       " 4: [1, 4],\n",
       " 5: [2, 1],\n",
       " 6: [2, 2],\n",
       " 7: [2, 3],\n",
       " 8: [2, 4],\n",
       " 9: [3, 1],\n",
       " 10: [3, 2],\n",
       " 11: [3, 3],\n",
       " 12: [3, 4],\n",
       " 13: [4, 1],\n",
       " 14: [4, 2],\n",
       " 15: [4, 3]}"
      ]
     },
     "execution_count": 11,
     "metadata": {},
     "output_type": "execute_result"
    }
   ],
   "source": [
    "correct_dict = make_positions_dict(correct_position)\n",
    "correct_dict"
   ]
  },
  {
   "cell_type": "code",
   "execution_count": 12,
   "metadata": {},
   "outputs": [
    {
     "data": {
      "text/plain": [
       "{1: [1, 1],\n",
       " 2: [1, 2],\n",
       " 3: [1, 3],\n",
       " 4: [1, 4],\n",
       " 5: [2, 1],\n",
       " 6: [2, 2],\n",
       " 7: [2, 3],\n",
       " 8: [2, 4],\n",
       " 9: [3, 1],\n",
       " 10: [3, 2],\n",
       " 11: [3, 3],\n",
       " 12: [3, 4],\n",
       " 13: [4, 1],\n",
       " 14: [4, 3],\n",
       " 15: [4, 4]}"
      ]
     },
     "execution_count": 12,
     "metadata": {},
     "output_type": "execute_result"
    }
   ],
   "source": [
    "current_dict = make_positions_dict(current_position)\n",
    "current_dict"
   ]
  },
  {
   "cell_type": "markdown",
   "metadata": {},
   "source": [
    "### Упражнение\n",
    "Посчитайте манхэттенское расстояние для этих позиций"
   ]
  },
  {
   "cell_type": "code",
   "execution_count": 21,
   "metadata": {},
   "outputs": [],
   "source": [
    "positions_manh = {}\n",
    "#считает расстояние от каждой конкретной точки до всех точек\n",
    "for z in range(1,len(correct_dict) + 1):\n",
    "    lengths = []\n",
    "    x_cur, y_cur = current_dict[z]\n",
    "    for i in range(1,len(correct_dict) + 1):\n",
    "            x_cor, y_cor = correct_dict[i]\n",
    "            len_one = 0\n",
    "            pointer_x, pointer_y = 0,0\n",
    "            dist_x = abs(x_cor - x_cur)\n",
    "            dist_y = abs(y_cor - y_cur)\n",
    "            while dist_x != pointer_x:\n",
    "                pointer_x += 1\n",
    "                len_one += 1\n",
    "            while dist_y != pointer_y:\n",
    "                pointer_y += 1\n",
    "                len_one += 1\n",
    "            lengths.append(len_one)\n",
    "    positions_manh[z] = lengths\n",
    "    "
   ]
  },
  {
   "cell_type": "code",
   "execution_count": 22,
   "metadata": {},
   "outputs": [
    {
     "data": {
      "text/plain": [
       "{1: [0, 1, 2, 3, 1, 2, 3, 4, 2, 3, 4, 5, 3, 4, 5],\n",
       " 2: [1, 0, 1, 2, 2, 1, 2, 3, 3, 2, 3, 4, 4, 3, 4],\n",
       " 3: [2, 1, 0, 1, 3, 2, 1, 2, 4, 3, 2, 3, 5, 4, 3],\n",
       " 4: [3, 2, 1, 0, 4, 3, 2, 1, 5, 4, 3, 2, 6, 5, 4],\n",
       " 5: [1, 2, 3, 4, 0, 1, 2, 3, 1, 2, 3, 4, 2, 3, 4],\n",
       " 6: [2, 1, 2, 3, 1, 0, 1, 2, 2, 1, 2, 3, 3, 2, 3],\n",
       " 7: [3, 2, 1, 2, 2, 1, 0, 1, 3, 2, 1, 2, 4, 3, 2],\n",
       " 8: [4, 3, 2, 1, 3, 2, 1, 0, 4, 3, 2, 1, 5, 4, 3],\n",
       " 9: [2, 3, 4, 5, 1, 2, 3, 4, 0, 1, 2, 3, 1, 2, 3],\n",
       " 10: [3, 2, 3, 4, 2, 1, 2, 3, 1, 0, 1, 2, 2, 1, 2],\n",
       " 11: [4, 3, 2, 3, 3, 2, 1, 2, 2, 1, 0, 1, 3, 2, 1],\n",
       " 12: [5, 4, 3, 2, 4, 3, 2, 1, 3, 2, 1, 0, 4, 3, 2],\n",
       " 13: [3, 4, 5, 6, 2, 3, 4, 5, 1, 2, 3, 4, 0, 1, 2],\n",
       " 14: [5, 4, 3, 4, 4, 3, 2, 3, 3, 2, 1, 2, 2, 1, 0],\n",
       " 15: [6, 5, 4, 3, 5, 4, 3, 2, 4, 3, 2, 1, 3, 2, 1]}"
      ]
     },
     "execution_count": 22,
     "metadata": {},
     "output_type": "execute_result"
    }
   ],
   "source": [
    "positions_manh"
   ]
  },
  {
   "cell_type": "code",
   "execution_count": 23,
   "metadata": {},
   "outputs": [],
   "source": [
    "positions_manh__only = {}\n",
    "#считает расстояние от каждой конкретной точки до координаты, где она на самом деле должна быть. То есть, на выходе, если расстояние больше 0, то точка стоит не на своем месте\n",
    "for z in range(1,len(correct_dict) + 1):\n",
    "    x_cur, y_cur = current_dict[z]\n",
    "    x_cor, y_cor = correct_dict[z]\n",
    "    dist_x = abs(x_cor - x_cur)\n",
    "    dist_y = abs(y_cor - y_cur)\n",
    "    \n",
    "    len_one = 0\n",
    "    pointer_x, pointer_y = 0,0\n",
    "    \n",
    "    while dist_x != pointer_x:\n",
    "            pointer_x += 1\n",
    "            len_one += 1\n",
    "    while dist_y != pointer_y:\n",
    "            pointer_y += 1\n",
    "            len_one += 1\n",
    "    \n",
    "    positions_manh__only[z] = len_one\n",
    "            "
   ]
  },
  {
   "cell_type": "code",
   "execution_count": 24,
   "metadata": {},
   "outputs": [
    {
     "data": {
      "text/plain": [
       "{1: 0,\n",
       " 2: 0,\n",
       " 3: 0,\n",
       " 4: 0,\n",
       " 5: 0,\n",
       " 6: 0,\n",
       " 7: 0,\n",
       " 8: 0,\n",
       " 9: 0,\n",
       " 10: 0,\n",
       " 11: 0,\n",
       " 12: 0,\n",
       " 13: 0,\n",
       " 14: 1,\n",
       " 15: 1}"
      ]
     },
     "execution_count": 24,
     "metadata": {},
     "output_type": "execute_result"
    }
   ],
   "source": [
    "positions_manh__only"
   ]
  },
  {
   "cell_type": "code",
   "execution_count": null,
   "metadata": {},
   "outputs": [],
   "source": []
  }
 ],
 "metadata": {
  "kernelspec": {
   "display_name": "Python 3",
   "language": "python",
   "name": "python3"
  },
  "language_info": {
   "codemirror_mode": {
    "name": "ipython",
    "version": 3
   },
   "file_extension": ".py",
   "mimetype": "text/x-python",
   "name": "python",
   "nbconvert_exporter": "python",
   "pygments_lexer": "ipython3",
   "version": "3.6.5"
  }
 },
 "nbformat": 4,
 "nbformat_minor": 2
}
