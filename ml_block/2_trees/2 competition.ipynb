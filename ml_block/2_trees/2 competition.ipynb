{
 "cells": [
  {
   "cell_type": "markdown",
   "metadata": {},
   "source": [
    "# Kaggle competition: Shelter Animal Outcomes"
   ]
  },
  {
   "cell_type": "markdown",
   "metadata": {},
   "source": [
    "https://www.kaggle.com/c/shelter-animal-outcomes/"
   ]
  },
  {
   "cell_type": "markdown",
   "metadata": {},
   "source": [
    "**Дано:** данные о кошках и собаках, поступивших в приют\n",
    "\n",
    "**Найти:** что с ними станет? Возьмут в приют / вернётся хозяин / ..."
   ]
  },
  {
   "cell_type": "code",
   "execution_count": 1,
   "metadata": {},
   "outputs": [],
   "source": [
    "import numpy as np\n",
    "import pandas as pd"
   ]
  },
  {
   "cell_type": "code",
   "execution_count": 2,
   "metadata": {},
   "outputs": [],
   "source": [
    "from matplotlib import pyplot as plt\n",
    "%matplotlib inline\n",
    "import seaborn as sns"
   ]
  },
  {
   "cell_type": "markdown",
   "metadata": {},
   "source": [
    "грузим всё, что есть"
   ]
  },
  {
   "cell_type": "code",
   "execution_count": 3,
   "metadata": {},
   "outputs": [],
   "source": [
    "train = pd.read_csv('data/shelter/train.csv')\n",
    "test = pd.read_csv('data/shelter/test.csv')\n",
    "sample_submission = pd.read_csv('data/shelter/sample_submission.csv')"
   ]
  },
  {
   "cell_type": "markdown",
   "metadata": {},
   "source": [
    "и смотрим на это"
   ]
  },
  {
   "cell_type": "code",
   "execution_count": 4,
   "metadata": {},
   "outputs": [
    {
     "data": {
      "text/html": [
       "<div>\n",
       "<table border=\"1\" class=\"dataframe\">\n",
       "  <thead>\n",
       "    <tr style=\"text-align: right;\">\n",
       "      <th></th>\n",
       "      <th>AnimalID</th>\n",
       "      <th>Name</th>\n",
       "      <th>DateTime</th>\n",
       "      <th>OutcomeType</th>\n",
       "      <th>OutcomeSubtype</th>\n",
       "      <th>AnimalType</th>\n",
       "      <th>SexuponOutcome</th>\n",
       "      <th>AgeuponOutcome</th>\n",
       "      <th>Breed</th>\n",
       "      <th>Color</th>\n",
       "    </tr>\n",
       "  </thead>\n",
       "  <tbody>\n",
       "    <tr>\n",
       "      <th>0</th>\n",
       "      <td>A671945</td>\n",
       "      <td>Hambone</td>\n",
       "      <td>2014-02-12 18:22:00</td>\n",
       "      <td>Return_to_owner</td>\n",
       "      <td>NaN</td>\n",
       "      <td>Dog</td>\n",
       "      <td>Neutered Male</td>\n",
       "      <td>1 year</td>\n",
       "      <td>Shetland Sheepdog Mix</td>\n",
       "      <td>Brown/White</td>\n",
       "    </tr>\n",
       "    <tr>\n",
       "      <th>1</th>\n",
       "      <td>A656520</td>\n",
       "      <td>Emily</td>\n",
       "      <td>2013-10-13 12:44:00</td>\n",
       "      <td>Euthanasia</td>\n",
       "      <td>Suffering</td>\n",
       "      <td>Cat</td>\n",
       "      <td>Spayed Female</td>\n",
       "      <td>1 year</td>\n",
       "      <td>Domestic Shorthair Mix</td>\n",
       "      <td>Cream Tabby</td>\n",
       "    </tr>\n",
       "    <tr>\n",
       "      <th>2</th>\n",
       "      <td>A686464</td>\n",
       "      <td>Pearce</td>\n",
       "      <td>2015-01-31 12:28:00</td>\n",
       "      <td>Adoption</td>\n",
       "      <td>Foster</td>\n",
       "      <td>Dog</td>\n",
       "      <td>Neutered Male</td>\n",
       "      <td>2 years</td>\n",
       "      <td>Pit Bull Mix</td>\n",
       "      <td>Blue/White</td>\n",
       "    </tr>\n",
       "    <tr>\n",
       "      <th>3</th>\n",
       "      <td>A683430</td>\n",
       "      <td>NaN</td>\n",
       "      <td>2014-07-11 19:09:00</td>\n",
       "      <td>Transfer</td>\n",
       "      <td>Partner</td>\n",
       "      <td>Cat</td>\n",
       "      <td>Intact Male</td>\n",
       "      <td>3 weeks</td>\n",
       "      <td>Domestic Shorthair Mix</td>\n",
       "      <td>Blue Cream</td>\n",
       "    </tr>\n",
       "    <tr>\n",
       "      <th>4</th>\n",
       "      <td>A667013</td>\n",
       "      <td>NaN</td>\n",
       "      <td>2013-11-15 12:52:00</td>\n",
       "      <td>Transfer</td>\n",
       "      <td>Partner</td>\n",
       "      <td>Dog</td>\n",
       "      <td>Neutered Male</td>\n",
       "      <td>2 years</td>\n",
       "      <td>Lhasa Apso/Miniature Poodle</td>\n",
       "      <td>Tan</td>\n",
       "    </tr>\n",
       "  </tbody>\n",
       "</table>\n",
       "</div>"
      ],
      "text/plain": [
       "  AnimalID     Name             DateTime      OutcomeType OutcomeSubtype  \\\n",
       "0  A671945  Hambone  2014-02-12 18:22:00  Return_to_owner            NaN   \n",
       "1  A656520    Emily  2013-10-13 12:44:00       Euthanasia      Suffering   \n",
       "2  A686464   Pearce  2015-01-31 12:28:00         Adoption         Foster   \n",
       "3  A683430      NaN  2014-07-11 19:09:00         Transfer        Partner   \n",
       "4  A667013      NaN  2013-11-15 12:52:00         Transfer        Partner   \n",
       "\n",
       "  AnimalType SexuponOutcome AgeuponOutcome                        Breed  \\\n",
       "0        Dog  Neutered Male         1 year        Shetland Sheepdog Mix   \n",
       "1        Cat  Spayed Female         1 year       Domestic Shorthair Mix   \n",
       "2        Dog  Neutered Male        2 years                 Pit Bull Mix   \n",
       "3        Cat    Intact Male        3 weeks       Domestic Shorthair Mix   \n",
       "4        Dog  Neutered Male        2 years  Lhasa Apso/Miniature Poodle   \n",
       "\n",
       "         Color  \n",
       "0  Brown/White  \n",
       "1  Cream Tabby  \n",
       "2   Blue/White  \n",
       "3   Blue Cream  \n",
       "4          Tan  "
      ]
     },
     "execution_count": 4,
     "metadata": {},
     "output_type": "execute_result"
    }
   ],
   "source": [
    "train.head()"
   ]
  },
  {
   "cell_type": "code",
   "execution_count": 5,
   "metadata": {},
   "outputs": [
    {
     "data": {
      "text/html": [
       "<div>\n",
       "<table border=\"1\" class=\"dataframe\">\n",
       "  <thead>\n",
       "    <tr style=\"text-align: right;\">\n",
       "      <th></th>\n",
       "      <th>ID</th>\n",
       "      <th>Name</th>\n",
       "      <th>DateTime</th>\n",
       "      <th>AnimalType</th>\n",
       "      <th>SexuponOutcome</th>\n",
       "      <th>AgeuponOutcome</th>\n",
       "      <th>Breed</th>\n",
       "      <th>Color</th>\n",
       "    </tr>\n",
       "  </thead>\n",
       "  <tbody>\n",
       "    <tr>\n",
       "      <th>0</th>\n",
       "      <td>1</td>\n",
       "      <td>Summer</td>\n",
       "      <td>2015-10-12 12:15:00</td>\n",
       "      <td>Dog</td>\n",
       "      <td>Intact Female</td>\n",
       "      <td>10 months</td>\n",
       "      <td>Labrador Retriever Mix</td>\n",
       "      <td>Red/White</td>\n",
       "    </tr>\n",
       "    <tr>\n",
       "      <th>1</th>\n",
       "      <td>2</td>\n",
       "      <td>Cheyenne</td>\n",
       "      <td>2014-07-26 17:59:00</td>\n",
       "      <td>Dog</td>\n",
       "      <td>Spayed Female</td>\n",
       "      <td>2 years</td>\n",
       "      <td>German Shepherd/Siberian Husky</td>\n",
       "      <td>Black/Tan</td>\n",
       "    </tr>\n",
       "    <tr>\n",
       "      <th>2</th>\n",
       "      <td>3</td>\n",
       "      <td>Gus</td>\n",
       "      <td>2016-01-13 12:20:00</td>\n",
       "      <td>Cat</td>\n",
       "      <td>Neutered Male</td>\n",
       "      <td>1 year</td>\n",
       "      <td>Domestic Shorthair Mix</td>\n",
       "      <td>Brown Tabby</td>\n",
       "    </tr>\n",
       "    <tr>\n",
       "      <th>3</th>\n",
       "      <td>4</td>\n",
       "      <td>Pongo</td>\n",
       "      <td>2013-12-28 18:12:00</td>\n",
       "      <td>Dog</td>\n",
       "      <td>Intact Male</td>\n",
       "      <td>4 months</td>\n",
       "      <td>Collie Smooth Mix</td>\n",
       "      <td>Tricolor</td>\n",
       "    </tr>\n",
       "    <tr>\n",
       "      <th>4</th>\n",
       "      <td>5</td>\n",
       "      <td>Skooter</td>\n",
       "      <td>2015-09-24 17:59:00</td>\n",
       "      <td>Dog</td>\n",
       "      <td>Neutered Male</td>\n",
       "      <td>2 years</td>\n",
       "      <td>Miniature Poodle Mix</td>\n",
       "      <td>White</td>\n",
       "    </tr>\n",
       "  </tbody>\n",
       "</table>\n",
       "</div>"
      ],
      "text/plain": [
       "   ID      Name             DateTime AnimalType SexuponOutcome AgeuponOutcome  \\\n",
       "0   1    Summer  2015-10-12 12:15:00        Dog  Intact Female      10 months   \n",
       "1   2  Cheyenne  2014-07-26 17:59:00        Dog  Spayed Female        2 years   \n",
       "2   3       Gus  2016-01-13 12:20:00        Cat  Neutered Male         1 year   \n",
       "3   4     Pongo  2013-12-28 18:12:00        Dog    Intact Male       4 months   \n",
       "4   5   Skooter  2015-09-24 17:59:00        Dog  Neutered Male        2 years   \n",
       "\n",
       "                            Breed        Color  \n",
       "0          Labrador Retriever Mix    Red/White  \n",
       "1  German Shepherd/Siberian Husky    Black/Tan  \n",
       "2          Domestic Shorthair Mix  Brown Tabby  \n",
       "3               Collie Smooth Mix     Tricolor  \n",
       "4            Miniature Poodle Mix        White  "
      ]
     },
     "execution_count": 5,
     "metadata": {},
     "output_type": "execute_result"
    }
   ],
   "source": [
    "test.head()"
   ]
  },
  {
   "cell_type": "code",
   "execution_count": 6,
   "metadata": {},
   "outputs": [
    {
     "data": {
      "text/html": [
       "<div>\n",
       "<table border=\"1\" class=\"dataframe\">\n",
       "  <thead>\n",
       "    <tr style=\"text-align: right;\">\n",
       "      <th></th>\n",
       "      <th>ID</th>\n",
       "      <th>Adoption</th>\n",
       "      <th>Died</th>\n",
       "      <th>Euthanasia</th>\n",
       "      <th>Return_to_owner</th>\n",
       "      <th>Transfer</th>\n",
       "    </tr>\n",
       "  </thead>\n",
       "  <tbody>\n",
       "    <tr>\n",
       "      <th>0</th>\n",
       "      <td>1</td>\n",
       "      <td>1</td>\n",
       "      <td>0</td>\n",
       "      <td>0</td>\n",
       "      <td>0</td>\n",
       "      <td>0</td>\n",
       "    </tr>\n",
       "    <tr>\n",
       "      <th>1</th>\n",
       "      <td>2</td>\n",
       "      <td>1</td>\n",
       "      <td>0</td>\n",
       "      <td>0</td>\n",
       "      <td>0</td>\n",
       "      <td>0</td>\n",
       "    </tr>\n",
       "    <tr>\n",
       "      <th>2</th>\n",
       "      <td>3</td>\n",
       "      <td>1</td>\n",
       "      <td>0</td>\n",
       "      <td>0</td>\n",
       "      <td>0</td>\n",
       "      <td>0</td>\n",
       "    </tr>\n",
       "    <tr>\n",
       "      <th>3</th>\n",
       "      <td>4</td>\n",
       "      <td>1</td>\n",
       "      <td>0</td>\n",
       "      <td>0</td>\n",
       "      <td>0</td>\n",
       "      <td>0</td>\n",
       "    </tr>\n",
       "    <tr>\n",
       "      <th>4</th>\n",
       "      <td>5</td>\n",
       "      <td>1</td>\n",
       "      <td>0</td>\n",
       "      <td>0</td>\n",
       "      <td>0</td>\n",
       "      <td>0</td>\n",
       "    </tr>\n",
       "  </tbody>\n",
       "</table>\n",
       "</div>"
      ],
      "text/plain": [
       "   ID  Adoption  Died  Euthanasia  Return_to_owner  Transfer\n",
       "0   1         1     0           0                0         0\n",
       "1   2         1     0           0                0         0\n",
       "2   3         1     0           0                0         0\n",
       "3   4         1     0           0                0         0\n",
       "4   5         1     0           0                0         0"
      ]
     },
     "execution_count": 6,
     "metadata": {},
     "output_type": "execute_result"
    }
   ],
   "source": [
    "sample_submission.head()"
   ]
  },
  {
   "cell_type": "markdown",
   "metadata": {},
   "source": [
    "все фичи надо варить, причём одинаково в train и test, лучше их сразу соединим и разделим при этом флагом is_test"
   ]
  },
  {
   "cell_type": "code",
   "execution_count": 4,
   "metadata": {},
   "outputs": [],
   "source": [
    "Xtrain = train.drop(['AnimalID', 'OutcomeType', 'OutcomeSubtype'], axis=1)\n",
    "Xtest = test.drop(['ID'], axis=1)\n",
    "Xtrain['is_test'] = False\n",
    "Xtest['is_test'] = True\n",
    "X = pd.concat([Xtrain, Xtest], axis=0)\n",
    "X.index = range(len(X))\n",
    "X.columns = X.columns.str.lower()"
   ]
  },
  {
   "cell_type": "code",
   "execution_count": 8,
   "metadata": {},
   "outputs": [
    {
     "data": {
      "text/html": [
       "<div>\n",
       "<table border=\"1\" class=\"dataframe\">\n",
       "  <thead>\n",
       "    <tr style=\"text-align: right;\">\n",
       "      <th></th>\n",
       "      <th>name</th>\n",
       "      <th>datetime</th>\n",
       "      <th>animaltype</th>\n",
       "      <th>sexuponoutcome</th>\n",
       "      <th>ageuponoutcome</th>\n",
       "      <th>breed</th>\n",
       "      <th>color</th>\n",
       "      <th>is_test</th>\n",
       "    </tr>\n",
       "  </thead>\n",
       "  <tbody>\n",
       "    <tr>\n",
       "      <th>0</th>\n",
       "      <td>Hambone</td>\n",
       "      <td>2014-02-12 18:22:00</td>\n",
       "      <td>Dog</td>\n",
       "      <td>Neutered Male</td>\n",
       "      <td>1 year</td>\n",
       "      <td>Shetland Sheepdog Mix</td>\n",
       "      <td>Brown/White</td>\n",
       "      <td>False</td>\n",
       "    </tr>\n",
       "    <tr>\n",
       "      <th>1</th>\n",
       "      <td>Emily</td>\n",
       "      <td>2013-10-13 12:44:00</td>\n",
       "      <td>Cat</td>\n",
       "      <td>Spayed Female</td>\n",
       "      <td>1 year</td>\n",
       "      <td>Domestic Shorthair Mix</td>\n",
       "      <td>Cream Tabby</td>\n",
       "      <td>False</td>\n",
       "    </tr>\n",
       "    <tr>\n",
       "      <th>2</th>\n",
       "      <td>Pearce</td>\n",
       "      <td>2015-01-31 12:28:00</td>\n",
       "      <td>Dog</td>\n",
       "      <td>Neutered Male</td>\n",
       "      <td>2 years</td>\n",
       "      <td>Pit Bull Mix</td>\n",
       "      <td>Blue/White</td>\n",
       "      <td>False</td>\n",
       "    </tr>\n",
       "    <tr>\n",
       "      <th>3</th>\n",
       "      <td>NaN</td>\n",
       "      <td>2014-07-11 19:09:00</td>\n",
       "      <td>Cat</td>\n",
       "      <td>Intact Male</td>\n",
       "      <td>3 weeks</td>\n",
       "      <td>Domestic Shorthair Mix</td>\n",
       "      <td>Blue Cream</td>\n",
       "      <td>False</td>\n",
       "    </tr>\n",
       "    <tr>\n",
       "      <th>4</th>\n",
       "      <td>NaN</td>\n",
       "      <td>2013-11-15 12:52:00</td>\n",
       "      <td>Dog</td>\n",
       "      <td>Neutered Male</td>\n",
       "      <td>2 years</td>\n",
       "      <td>Lhasa Apso/Miniature Poodle</td>\n",
       "      <td>Tan</td>\n",
       "      <td>False</td>\n",
       "    </tr>\n",
       "  </tbody>\n",
       "</table>\n",
       "</div>"
      ],
      "text/plain": [
       "      name             datetime animaltype sexuponoutcome ageuponoutcome  \\\n",
       "0  Hambone  2014-02-12 18:22:00        Dog  Neutered Male         1 year   \n",
       "1    Emily  2013-10-13 12:44:00        Cat  Spayed Female         1 year   \n",
       "2   Pearce  2015-01-31 12:28:00        Dog  Neutered Male        2 years   \n",
       "3      NaN  2014-07-11 19:09:00        Cat    Intact Male        3 weeks   \n",
       "4      NaN  2013-11-15 12:52:00        Dog  Neutered Male        2 years   \n",
       "\n",
       "                         breed        color is_test  \n",
       "0        Shetland Sheepdog Mix  Brown/White   False  \n",
       "1       Domestic Shorthair Mix  Cream Tabby   False  \n",
       "2                 Pit Bull Mix   Blue/White   False  \n",
       "3       Domestic Shorthair Mix   Blue Cream   False  \n",
       "4  Lhasa Apso/Miniature Poodle          Tan   False  "
      ]
     },
     "execution_count": 8,
     "metadata": {},
     "output_type": "execute_result"
    }
   ],
   "source": [
    "X.head()"
   ]
  },
  {
   "cell_type": "code",
   "execution_count": 9,
   "metadata": {
    "scrolled": true
   },
   "outputs": [
    {
     "data": {
      "text/plain": [
       "(38185, 8)"
      ]
     },
     "execution_count": 9,
     "metadata": {},
     "output_type": "execute_result"
    }
   ],
   "source": [
    "X.shape"
   ]
  },
  {
   "cell_type": "code",
   "execution_count": 10,
   "metadata": {},
   "outputs": [
    {
     "name": "stdout",
     "output_type": "stream",
     "text": [
      "<class 'pandas.core.frame.DataFrame'>\n",
      "RangeIndex: 38185 entries, 0 to 38184\n",
      "Data columns (total 8 columns):\n",
      "name              27269 non-null object\n",
      "datetime          38185 non-null object\n",
      "animaltype        38185 non-null object\n",
      "sexuponoutcome    38184 non-null object\n",
      "ageuponoutcome    38161 non-null object\n",
      "breed             38185 non-null object\n",
      "color             38185 non-null object\n",
      "is_test           38185 non-null bool\n",
      "dtypes: bool(1), object(7)\n",
      "memory usage: 2.1+ MB\n"
     ]
    }
   ],
   "source": [
    "X.info()"
   ]
  },
  {
   "cell_type": "markdown",
   "metadata": {},
   "source": [
    "Также нам необходимо закодировать значения целевой переменной"
   ]
  },
  {
   "cell_type": "code",
   "execution_count": 5,
   "metadata": {},
   "outputs": [],
   "source": [
    "from sklearn.preprocessing import LabelEncoder"
   ]
  },
  {
   "cell_type": "code",
   "execution_count": 6,
   "metadata": {},
   "outputs": [],
   "source": [
    "le = LabelEncoder()\n",
    "y = le.fit_transform(train.OutcomeType)"
   ]
  },
  {
   "cell_type": "markdown",
   "metadata": {},
   "source": [
    "# Варим фичи"
   ]
  },
  {
   "cell_type": "markdown",
   "metadata": {},
   "source": [
    "будем в конце матрицы наращивать числовые фичи, не удаляя оригинальные: вдруг что всплывёт"
   ]
  },
  {
   "cell_type": "markdown",
   "metadata": {},
   "source": [
    "**имя** превращаем в:\n",
    "* наличие имени\n",
    "* длину имени\n",
    "* частоту имени"
   ]
  },
  {
   "cell_type": "code",
   "execution_count": 7,
   "metadata": {},
   "outputs": [],
   "source": [
    "X['has_name'] = X.name.isnull().astype(int)\n",
    "\n",
    "X['name_len'] = X.name.str.len()\n",
    "X.name_len.fillna(X.name_len.median(), inplace=True)\n",
    "\n",
    "X['name_words_num'] = X.name.str.split().str.len()\n",
    "X.name_words_num.fillna(X.name_words_num.median(), inplace=True)\n",
    "\n",
    "names_freq = X.name.value_counts().to_dict()\n",
    "X['name_freq'] = X.name.apply(lambda x: names_freq.get(x))"
   ]
  },
  {
   "cell_type": "markdown",
   "metadata": {},
   "source": [
    "Даты: переводим строки в даты"
   ]
  },
  {
   "cell_type": "code",
   "execution_count": 8,
   "metadata": {},
   "outputs": [
    {
     "name": "stderr",
     "output_type": "stream",
     "text": [
      "C:\\Users\\viktoria.sinditskaya\\AppData\\Local\\Continuum\\anaconda3\\lib\\site-packages\\pandas\\plotting\\_converter.py:129: FutureWarning: Using an implicitly registered datetime converter for a matplotlib plotting method. The converter was registered by pandas on import. Future versions of pandas will require you to explicitly register matplotlib converters.\n",
      "\n",
      "To register the converters:\n",
      "\t>>> from pandas.plotting import register_matplotlib_converters\n",
      "\t>>> register_matplotlib_converters()\n",
      "  warnings.warn(msg, FutureWarning)\n"
     ]
    },
    {
     "data": {
      "text/plain": [
       "<matplotlib.axes._subplots.AxesSubplot at 0x14695571160>"
      ]
     },
     "execution_count": 8,
     "metadata": {},
     "output_type": "execute_result"
    },
    {
     "data": {
      "image/png": "[encoded data removed]",
      "text/plain": [
       "<Figure size 432x288 with 1 Axes>"
      ]
     },
     "metadata": {},
     "output_type": "display_data"
    }
   ],
   "source": [
    "X.datetime = pd.to_datetime(X.datetime)\n",
    "X.datetime.hist()"
   ]
  },
  {
   "cell_type": "code",
   "execution_count": 9,
   "metadata": {},
   "outputs": [],
   "source": [
    "X['year'] = X.datetime.apply(lambda x: x.year)\n",
    "X['month'] = X.datetime.apply(lambda x: x.month)\n",
    "X['day'] = X.datetime.apply(lambda x: x.day)\n",
    "X['hour'] = X.datetime.apply(lambda x: x.hour + x.minute/60)\n",
    "X['weekday'] = X.datetime.apply(lambda x: x.weekday())"
   ]
  },
  {
   "cell_type": "markdown",
   "metadata": {},
   "source": [
    "С типом животного тут совсем просто"
   ]
  },
  {
   "cell_type": "code",
   "execution_count": 10,
   "metadata": {},
   "outputs": [
    {
     "data": {
      "text/plain": [
       "Dog    22251\n",
       "Cat    15934\n",
       "Name: animaltype, dtype: int64"
      ]
     },
     "execution_count": 10,
     "metadata": {},
     "output_type": "execute_result"
    }
   ],
   "source": [
    "X.animaltype.value_counts()"
   ]
  },
  {
   "cell_type": "code",
   "execution_count": 11,
   "metadata": {},
   "outputs": [],
   "source": [
    "X['is_dog'] = (X.animaltype=='Dog').astype(int)"
   ]
  },
  {
   "cell_type": "markdown",
   "metadata": {},
   "source": [
    "С полом сложнее..\n",
    "* Neutered, Spayed - стерилизованные\n",
    "* Intact - нетронутые"
   ]
  },
  {
   "cell_type": "code",
   "execution_count": 12,
   "metadata": {},
   "outputs": [
    {
     "data": {
      "text/plain": [
       "Neutered Male    14014\n",
       "Spayed Female    12633\n",
       "Intact Female     5004\n",
       "Intact Male       4985\n",
       "Unknown           1548\n",
       "Name: sexuponoutcome, dtype: int64"
      ]
     },
     "execution_count": 12,
     "metadata": {},
     "output_type": "execute_result"
    }
   ],
   "source": [
    "X.sexuponoutcome.value_counts()"
   ]
  },
  {
   "cell_type": "code",
   "execution_count": 13,
   "metadata": {},
   "outputs": [],
   "source": [
    "X.sexuponoutcome.fillna('Unknown', inplace=True)"
   ]
  },
  {
   "cell_type": "code",
   "execution_count": 14,
   "metadata": {},
   "outputs": [],
   "source": [
    "X['sterilization'] = X.sexuponoutcome.apply(lambda x: x.split()[0])\n",
    "X.sterilization = X.sterilization.replace({'Neutered': 'Sterilized', 'Spayed': 'Sterilized'})"
   ]
  },
  {
   "cell_type": "code",
   "execution_count": 15,
   "metadata": {},
   "outputs": [],
   "source": [
    "X['sex'] = X.sexuponoutcome.apply(lambda x: x.split()[-1])"
   ]
  },
  {
   "cell_type": "code",
   "execution_count": 16,
   "metadata": {},
   "outputs": [],
   "source": [
    "from sklearn import preprocessing"
   ]
  },
  {
   "cell_type": "code",
   "execution_count": 17,
   "metadata": {},
   "outputs": [],
   "source": [
    "le_sterilization = preprocessing.LabelEncoder()\n",
    "le_sex = preprocessing.LabelEncoder()"
   ]
  },
  {
   "cell_type": "code",
   "execution_count": 18,
   "metadata": {},
   "outputs": [],
   "source": [
    "X.sterilization = le_sterilization.fit_transform(X.sterilization)\n",
    "X.sex = le_sex.fit_transform(X.sex)"
   ]
  },
  {
   "cell_type": "markdown",
   "metadata": {},
   "source": [
    "почему мы не вставили сюда сразу числовые фичи? потому что это категориальные фичи, у них по 3 значения"
   ]
  },
  {
   "cell_type": "code",
   "execution_count": 19,
   "metadata": {},
   "outputs": [
    {
     "data": {
      "text/plain": [
       "1 year       5737\n",
       "2 years      5383\n",
       "2 months     4929\n",
       "3 years      2589\n",
       "3 months     1788\n",
       "1 month      1782\n",
       "4 years      1506\n",
       "5 years      1406\n",
       "4 months     1283\n",
       "3 weeks       950\n",
       "5 months      929\n",
       "6 years       927\n",
       "6 months      835\n",
       "8 years       772\n",
       "7 years       769\n",
       "2 weeks       727\n",
       "10 months     653\n",
       "10 years      598\n",
       "8 months      569\n",
       "4 weeks       465\n",
       "7 months      455\n",
       "9 years       394\n",
       "12 years      330\n",
       "9 months      313\n",
       "1 weeks       247\n",
       "11 months     241\n",
       "1 week        220\n",
       "13 years      214\n",
       "11 years      174\n",
       "3 days        148\n",
       "Name: ageuponoutcome, dtype: int64"
      ]
     },
     "execution_count": 19,
     "metadata": {},
     "output_type": "execute_result"
    }
   ],
   "source": [
    "X.ageuponoutcome.value_counts()[:30]"
   ]
  },
  {
   "cell_type": "code",
   "execution_count": 20,
   "metadata": {},
   "outputs": [
    {
     "data": {
      "text/plain": [
       "years     15456\n",
       "months    11995\n",
       "year       5737\n",
       "weeks      2404\n",
       "month      1782\n",
       "days        483\n",
       "week        220\n",
       "day          84\n",
       "Name: ageuponoutcome, dtype: int64"
      ]
     },
     "execution_count": 20,
     "metadata": {},
     "output_type": "execute_result"
    }
   ],
   "source": [
    "X.ageuponoutcome.str.split().str[1].value_counts()"
   ]
  },
  {
   "cell_type": "code",
   "execution_count": 21,
   "metadata": {},
   "outputs": [
    {
     "data": {
      "text/plain": [
       "year     21193\n",
       "month    13777\n",
       "week      2624\n",
       "day        567\n",
       "Name: ageuponoutcome, dtype: int64"
      ]
     },
     "execution_count": 21,
     "metadata": {},
     "output_type": "execute_result"
    }
   ],
   "source": [
    "X.ageuponoutcome.str.split().str[1].str.rstrip('s').value_counts()"
   ]
  },
  {
   "cell_type": "code",
   "execution_count": 22,
   "metadata": {},
   "outputs": [],
   "source": [
    "t_dig = X.ageuponoutcome.str.split().str[0].fillna(0).astype(int)\n",
    "t_int = X.ageuponoutcome.str.split().str[1].str.rstrip('s').replace({'year': 365, 'month': 365/12, 'week':7, 'day':1}).fillna(0)"
   ]
  },
  {
   "cell_type": "code",
   "execution_count": 23,
   "metadata": {},
   "outputs": [],
   "source": [
    "X[\"years\"] = t_dig*t_int/365"
   ]
  },
  {
   "cell_type": "markdown",
   "metadata": {},
   "source": [
    "порода достаточно разнообразна и содержит в себе также некое поле \"Mix\" и краткошёрстность животного"
   ]
  },
  {
   "cell_type": "code",
   "execution_count": 24,
   "metadata": {},
   "outputs": [
    {
     "data": {
      "text/plain": [
       "Domestic Shorthair Mix       12587\n",
       "Pit Bull Mix                  2776\n",
       "Chihuahua Shorthair Mix       2498\n",
       "Labrador Retriever Mix        1949\n",
       "Domestic Medium Hair Mix      1217\n",
       "German Shepherd Mix            830\n",
       "Domestic Longhair Mix          753\n",
       "Siamese Mix                    562\n",
       "Australian Cattle Dog Mix      513\n",
       "Dachshund Mix                  437\n",
       "Name: breed, dtype: int64"
      ]
     },
     "execution_count": 24,
     "metadata": {},
     "output_type": "execute_result"
    }
   ],
   "source": [
    "X.breed.value_counts()[:10]"
   ]
  },
  {
   "cell_type": "markdown",
   "metadata": {},
   "source": [
    "Сегодня сделаем просто: соединим все описания в один большой текст и посчитаем в нём вхождение каждого слова. Флаги наличия самых популярных и включим как фичи"
   ]
  },
  {
   "cell_type": "code",
   "execution_count": 25,
   "metadata": {},
   "outputs": [],
   "source": [
    "from collections import Counter"
   ]
  },
  {
   "cell_type": "code",
   "execution_count": 26,
   "metadata": {},
   "outputs": [
    {
     "data": {
      "text/plain": [
       "[('Mix', 31871),\n",
       " ('Shorthair', 16290),\n",
       " ('Domestic', 14877),\n",
       " ('/', 4371),\n",
       " ('Chihuahua', 3690),\n",
       " ('Retriever', 3539),\n",
       " ('Bull', 3529),\n",
       " ('Pit', 3458),\n",
       " ('Labrador', 3280),\n",
       " ('Terrier', 2435),\n",
       " ('Shepherd', 2001),\n",
       " ('Australian', 1516),\n",
       " ('German', 1427),\n",
       " ('Hair', 1321),\n",
       " ('Medium', 1287),\n",
       " ('Longhair', 1128),\n",
       " ('Miniature', 1126),\n",
       " ('Dachshund', 1116),\n",
       " ('Dog', 996),\n",
       " ('Cattle', 905)]"
      ]
     },
     "execution_count": 26,
     "metadata": {},
     "output_type": "execute_result"
    }
   ],
   "source": [
    "one_big_text = \" \".join(X.breed)\n",
    "words = one_big_text.replace('/',' / ').split()\n",
    "most_common = Counter(words).most_common()\n",
    "most_common[:20]"
   ]
  },
  {
   "cell_type": "markdown",
   "metadata": {},
   "source": [
    "Можно было бы просто вставить флаги вхождения первых, скажем, 4 слов. Но давайте посмотрим, а насколько они важны? Составим матрицу, состоящую только из вхождения первых N слов, обучим на них дерево и проверим важность фичей"
   ]
  },
  {
   "cell_type": "code",
   "execution_count": 27,
   "metadata": {},
   "outputs": [],
   "source": [
    "Xbreed = pd.DataFrame()\n",
    "for col, num in most_common[:10]:\n",
    "    Xbreed[col] = X[~X.is_test].breed.str.contains(col).astype(int)"
   ]
  },
  {
   "cell_type": "code",
   "execution_count": 28,
   "metadata": {},
   "outputs": [],
   "source": [
    "from sklearn.tree import DecisionTreeClassifier"
   ]
  },
  {
   "cell_type": "code",
   "execution_count": 29,
   "metadata": {},
   "outputs": [],
   "source": [
    "clf = DecisionTreeClassifier(max_depth=4)"
   ]
  },
  {
   "cell_type": "code",
   "execution_count": 30,
   "metadata": {},
   "outputs": [
    {
     "data": {
      "text/plain": [
       "DecisionTreeClassifier(class_weight=None, criterion='gini', max_depth=4,\n",
       "            max_features=None, max_leaf_nodes=None,\n",
       "            min_impurity_decrease=0.0, min_impurity_split=None,\n",
       "            min_samples_leaf=1, min_samples_split=2,\n",
       "            min_weight_fraction_leaf=0.0, presort=False, random_state=None,\n",
       "            splitter='best')"
      ]
     },
     "execution_count": 30,
     "metadata": {},
     "output_type": "execute_result"
    }
   ],
   "source": [
    "clf.fit(Xbreed, train.OutcomeType)"
   ]
  },
  {
   "cell_type": "code",
   "execution_count": 31,
   "metadata": {},
   "outputs": [
    {
     "data": {
      "text/plain": [
       "array([0.03160924, 0.01721122, 0.82691139, 0.0446535 , 0.00404402,\n",
       "       0.        , 0.0701799 , 0.00539074, 0.        , 0.        ])"
      ]
     },
     "execution_count": 31,
     "metadata": {},
     "output_type": "execute_result"
    }
   ],
   "source": [
    "clf.feature_importances_"
   ]
  },
  {
   "cell_type": "code",
   "execution_count": 32,
   "metadata": {},
   "outputs": [
    {
     "data": {
      "text/plain": [
       "Index(['Mix', 'Shorthair', 'Domestic', '/', 'Chihuahua', 'Retriever', 'Bull',\n",
       "       'Pit', 'Labrador', 'Terrier'],\n",
       "      dtype='object')"
      ]
     },
     "execution_count": 32,
     "metadata": {},
     "output_type": "execute_result"
    }
   ],
   "source": [
    "Xbreed.columns"
   ]
  },
  {
   "cell_type": "markdown",
   "metadata": {},
   "source": [
    "В принципе, оказалось, что влияет по большей части только **Domestic**. Но включим сюда на всякий случай ещё один признак"
   ]
  },
  {
   "cell_type": "code",
   "execution_count": 33,
   "metadata": {},
   "outputs": [],
   "source": [
    "X['is_domestic'] = X.breed.str.contains('Domestic').astype(int)\n",
    "X['is_mix'] = X.breed.str.contains('Mix').astype(int)"
   ]
  },
  {
   "cell_type": "markdown",
   "metadata": {},
   "source": [
    "последнее! цвет. Выглядит похоже на проблему породы, повторим те же операции"
   ]
  },
  {
   "cell_type": "code",
   "execution_count": 34,
   "metadata": {},
   "outputs": [
    {
     "data": {
      "text/plain": [
       "Black/White          4043\n",
       "Black                3265\n",
       "Brown Tabby          2359\n",
       "White                1333\n",
       "Brown Tabby/White    1333\n",
       "Brown/White          1257\n",
       "Orange Tabby         1187\n",
       "Tan/White            1114\n",
       "Tricolor             1067\n",
       "Blue/White           1004\n",
       "Name: color, dtype: int64"
      ]
     },
     "execution_count": 34,
     "metadata": {},
     "output_type": "execute_result"
    }
   ],
   "source": [
    "X.color.value_counts()[:10]"
   ]
  },
  {
   "cell_type": "code",
   "execution_count": 35,
   "metadata": {},
   "outputs": [
    {
     "data": {
      "text/plain": [
       "[('/', 19862),\n",
       " ('White', 17362),\n",
       " ('Black', 11567),\n",
       " ('Brown', 9550),\n",
       " ('Tabby', 7405),\n",
       " ('Tan', 4374),\n",
       " ('Blue', 3391),\n",
       " ('Orange', 2015),\n",
       " ('Brindle', 1489),\n",
       " ('Red', 1397),\n",
       " ('Tricolor', 1285),\n",
       " ('Cream', 917),\n",
       " ('Tortie', 878),\n",
       " ('Point', 852),\n",
       " ('Calico', 802),\n",
       " ('Chocolate', 741),\n",
       " ('Torbie', 567),\n",
       " ('Gray', 554),\n",
       " ('Sable', 459),\n",
       " ('Merle', 458)]"
      ]
     },
     "execution_count": 35,
     "metadata": {},
     "output_type": "execute_result"
    }
   ],
   "source": [
    "one_big_text = \" \".join(X.color)\n",
    "words = one_big_text.replace('/',' / ').split()\n",
    "most_common = Counter(words).most_common()\n",
    "most_common[:20]"
   ]
  },
  {
   "cell_type": "code",
   "execution_count": 36,
   "metadata": {},
   "outputs": [],
   "source": [
    "Xcolor = pd.DataFrame()\n",
    "for col, num in most_common[:10]:\n",
    "    Xcolor[col] = X[~X.is_test].color.str.contains(col).astype(int)"
   ]
  },
  {
   "cell_type": "code",
   "execution_count": 37,
   "metadata": {},
   "outputs": [
    {
     "data": {
      "text/plain": [
       "DecisionTreeClassifier(class_weight=None, criterion='gini', max_depth=4,\n",
       "            max_features=None, max_leaf_nodes=None,\n",
       "            min_impurity_decrease=0.0, min_impurity_split=None,\n",
       "            min_samples_leaf=1, min_samples_split=2,\n",
       "            min_weight_fraction_leaf=0.0, presort=False, random_state=None,\n",
       "            splitter='best')"
      ]
     },
     "execution_count": 37,
     "metadata": {},
     "output_type": "execute_result"
    }
   ],
   "source": [
    "clf.fit(Xcolor, train.OutcomeType)"
   ]
  },
  {
   "cell_type": "code",
   "execution_count": 38,
   "metadata": {},
   "outputs": [
    {
     "data": {
      "text/plain": [
       "array([0.13222148, 0.09588076, 0.0702783 , 0.06136179, 0.63291544,\n",
       "       0.00164846, 0.        , 0.        , 0.00569378, 0.        ])"
      ]
     },
     "execution_count": 38,
     "metadata": {},
     "output_type": "execute_result"
    }
   ],
   "source": [
    "clf.feature_importances_"
   ]
  },
  {
   "cell_type": "code",
   "execution_count": 39,
   "metadata": {},
   "outputs": [
    {
     "data": {
      "text/plain": [
       "Index(['/', 'White', 'Black', 'Brown', 'Tabby', 'Tan', 'Blue', 'Orange',\n",
       "       'Brindle', 'Red'],\n",
       "      dtype='object')"
      ]
     },
     "execution_count": 39,
     "metadata": {},
     "output_type": "execute_result"
    }
   ],
   "source": [
    "Xcolor.columns"
   ]
  },
  {
   "cell_type": "markdown",
   "metadata": {},
   "source": [
    "Здесь важность менее сосредоточена, возьмём первые 5 фичей. Самая важная, Tabby - это полосатость"
   ]
  },
  {
   "cell_type": "code",
   "execution_count": 40,
   "metadata": {},
   "outputs": [],
   "source": [
    "X['is_color_tabby'] = X.color.str.contains('Tabby').astype(int)\n",
    "X['is_color_mix'] = X.color.str.contains('/').astype(int)\n",
    "X['is_color_white'] = X.color.str.contains('White').astype(int)\n",
    "X['is_color_black'] = X.color.str.contains('Black').astype(int)\n",
    "X['is_color_brown'] = X.color.str.contains('Brown').astype(int)"
   ]
  },
  {
   "cell_type": "markdown",
   "metadata": {},
   "source": [
    "Осталось проверить итоговую таблицу на пропуски"
   ]
  },
  {
   "cell_type": "code",
   "execution_count": 41,
   "metadata": {},
   "outputs": [
    {
     "data": {
      "text/plain": [
       "name              10916\n",
       "datetime              0\n",
       "animaltype            0\n",
       "sexuponoutcome        0\n",
       "ageuponoutcome       24\n",
       "breed                 0\n",
       "color                 0\n",
       "is_test               0\n",
       "has_name              0\n",
       "name_len              0\n",
       "name_words_num        0\n",
       "name_freq         10916\n",
       "year                  0\n",
       "month                 0\n",
       "day                   0\n",
       "hour                  0\n",
       "weekday               0\n",
       "is_dog                0\n",
       "sterilization         0\n",
       "sex                   0\n",
       "years                 0\n",
       "is_domestic           0\n",
       "is_mix                0\n",
       "is_color_tabby        0\n",
       "is_color_mix          0\n",
       "is_color_white        0\n",
       "is_color_black        0\n",
       "is_color_brown        0\n",
       "dtype: int64"
      ]
     },
     "execution_count": 41,
     "metadata": {},
     "output_type": "execute_result"
    }
   ],
   "source": [
    "X.isnull().sum()"
   ]
  },
  {
   "cell_type": "code",
   "execution_count": 42,
   "metadata": {},
   "outputs": [],
   "source": [
    "X.name_freq.fillna(X.name_freq.median(), inplace=True)"
   ]
  },
  {
   "cell_type": "markdown",
   "metadata": {},
   "source": [
    "Разделим обратно на обучающую и тестовую выборки, дропнув при этом все лишние столбцы, которые были изначально"
   ]
  },
  {
   "cell_type": "code",
   "execution_count": 43,
   "metadata": {},
   "outputs": [],
   "source": [
    "Xtrain_prep = X[~X.is_test].drop(Xtrain.columns.str.lower(), axis=1)\n",
    "Xtest_prep = X[X.is_test].drop(Xtrain.columns.str.lower(), axis=1)"
   ]
  },
  {
   "cell_type": "code",
   "execution_count": 44,
   "metadata": {},
   "outputs": [
    {
     "data": {
      "text/plain": [
       "(26729, 20)"
      ]
     },
     "execution_count": 44,
     "metadata": {},
     "output_type": "execute_result"
    }
   ],
   "source": [
    "Xtrain_prep.shape"
   ]
  },
  {
   "cell_type": "markdown",
   "metadata": {},
   "source": [
    "-----"
   ]
  },
  {
   "cell_type": "markdown",
   "metadata": {},
   "source": [
    "# Всё"
   ]
  },
  {
   "cell_type": "raw",
   "metadata": {
    "collapsed": true
   },
   "source": [
    "le_y = preprocessing.LabelEncoder()"
   ]
  },
  {
   "cell_type": "raw",
   "metadata": {
    "collapsed": true
   },
   "source": [
    "y = le_y.fit_transform(y)"
   ]
  },
  {
   "cell_type": "markdown",
   "metadata": {},
   "source": [
    "Всё, у нас есть Xtrain, Xtest, ytrain. Осталось получить ytrain.\n",
    "\n",
    "Обучим решающее дерево, причём применим кросс-валидацию для подбора гиперпараметра глубины дерева"
   ]
  },
  {
   "cell_type": "markdown",
   "metadata": {},
   "source": [
    "Обращаю внимание, что мы в явном виде указали вид функционала качества: scoring='neg_log_loss'. Выбрана именно эта функция, так как именно она будет оценивать качество на Kaggle"
   ]
  },
  {
   "cell_type": "code",
   "execution_count": 45,
   "metadata": {},
   "outputs": [],
   "source": [
    "from sklearn.model_selection import GridSearchCV"
   ]
  },
  {
   "cell_type": "code",
   "execution_count": 46,
   "metadata": {},
   "outputs": [],
   "source": [
    "depths = np.arange(1,10)\n",
    "#features_num = np.arange(5,15)\n",
    "grid = {'max_depth': depths}#, 'max_features': features_num}\n",
    "gridsearch = GridSearchCV(DecisionTreeClassifier(), grid, scoring='neg_log_loss', cv=5)"
   ]
  },
  {
   "cell_type": "code",
   "execution_count": 47,
   "metadata": {
    "scrolled": false
   },
   "outputs": [
    {
     "name": "stdout",
     "output_type": "stream",
     "text": [
      "Wall time: 3.65 s\n"
     ]
    },
    {
     "data": {
      "text/plain": [
       "GridSearchCV(cv=5, error_score='raise',\n",
       "       estimator=DecisionTreeClassifier(class_weight=None, criterion='gini', max_depth=None,\n",
       "            max_features=None, max_leaf_nodes=None,\n",
       "            min_impurity_decrease=0.0, min_impurity_split=None,\n",
       "            min_samples_leaf=1, min_samples_split=2,\n",
       "            min_weight_fraction_leaf=0.0, presort=False, random_state=None,\n",
       "            splitter='best'),\n",
       "       fit_params=None, iid=True, n_jobs=1,\n",
       "       param_grid={'max_depth': array([1, 2, 3, 4, 5, 6, 7, 8, 9])},\n",
       "       pre_dispatch='2*n_jobs', refit=True, return_train_score='warn',\n",
       "       scoring='neg_log_loss', verbose=0)"
      ]
     },
     "execution_count": 47,
     "metadata": {},
     "output_type": "execute_result"
    }
   ],
   "source": [
    "%%time\n",
    "gridsearch.fit(Xtrain_prep, y)"
   ]
  },
  {
   "cell_type": "code",
   "execution_count": 48,
   "metadata": {},
   "outputs": [
    {
     "name": "stderr",
     "output_type": "stream",
     "text": [
      "C:\\Users\\viktoria.sinditskaya\\AppData\\Local\\Continuum\\anaconda3\\lib\\site-packages\\sklearn\\model_selection\\_search.py:761: DeprecationWarning: The grid_scores_ attribute was deprecated in version 0.18 in favor of the more elaborate cv_results_ attribute. The grid_scores_ attribute will not be available from 0.20\n",
      "  DeprecationWarning)\n"
     ]
    },
    {
     "data": {
      "text/plain": [
       "[mean: -0.89280, std: 0.02170, params: {'max_depth': 5},\n",
       " mean: -0.90050, std: 0.01122, params: {'max_depth': 4},\n",
       " mean: -0.90845, std: 0.03679, params: {'max_depth': 6},\n",
       " mean: -0.92952, std: 0.00541, params: {'max_depth': 3},\n",
       " mean: -0.96571, std: 0.04148, params: {'max_depth': 7},\n",
       " mean: -1.00955, std: 0.00396, params: {'max_depth': 2},\n",
       " mean: -1.09433, std: 0.00426, params: {'max_depth': 1},\n",
       " mean: -1.10241, std: 0.03814, params: {'max_depth': 8},\n",
       " mean: -1.32514, std: 0.05948, params: {'max_depth': 9}]"
      ]
     },
     "execution_count": 48,
     "metadata": {},
     "output_type": "execute_result"
    }
   ],
   "source": [
    "sorted(gridsearch.grid_scores_, key = lambda x: -x.mean_validation_score)"
   ]
  },
  {
   "cell_type": "code",
   "execution_count": 49,
   "metadata": {
    "scrolled": false
   },
   "outputs": [
    {
     "name": "stderr",
     "output_type": "stream",
     "text": [
      "C:\\Users\\viktoria.sinditskaya\\AppData\\Local\\Continuum\\anaconda3\\lib\\site-packages\\sklearn\\model_selection\\_search.py:761: DeprecationWarning: The grid_scores_ attribute was deprecated in version 0.18 in favor of the more elaborate cv_results_ attribute. The grid_scores_ attribute will not be available from 0.20\n",
      "  DeprecationWarning)\n"
     ]
    },
    {
     "data": {
      "text/plain": [
       "<matplotlib.collections.PathCollection at 0x146966f6160>"
      ]
     },
     "execution_count": 49,
     "metadata": {},
     "output_type": "execute_result"
    },
    {
     "data": {
      "image/png": "[encoded data removed]",
      "text/plain": [
       "<Figure size 432x288 with 1 Axes>"
      ]
     },
     "metadata": {},
     "output_type": "display_data"
    }
   ],
   "source": [
    "scores = [-x.mean_validation_score for x in gridsearch.grid_scores_]\n",
    "plt.plot(depths, scores)\n",
    "plt.scatter(depths, scores)\n",
    "best_point = np.argmin(scores)\n",
    "plt.scatter(depths[best_point], scores[best_point], c='g', s=100)"
   ]
  },
  {
   "cell_type": "markdown",
   "metadata": {},
   "source": [
    "Так, отлично, спасли себя от переобучения (правда, в Grid можно было указать и другие параметры и найти более оптимальную точку).\n",
    "\n",
    "Фиксируем max_depth=5"
   ]
  },
  {
   "cell_type": "code",
   "execution_count": 50,
   "metadata": {},
   "outputs": [],
   "source": [
    "clf_final = DecisionTreeClassifier(max_depth=5)"
   ]
  },
  {
   "cell_type": "code",
   "execution_count": 51,
   "metadata": {},
   "outputs": [
    {
     "data": {
      "text/plain": [
       "DecisionTreeClassifier(class_weight=None, criterion='gini', max_depth=5,\n",
       "            max_features=None, max_leaf_nodes=None,\n",
       "            min_impurity_decrease=0.0, min_impurity_split=None,\n",
       "            min_samples_leaf=1, min_samples_split=2,\n",
       "            min_weight_fraction_leaf=0.0, presort=False, random_state=None,\n",
       "            splitter='best')"
      ]
     },
     "execution_count": 51,
     "metadata": {},
     "output_type": "execute_result"
    }
   ],
   "source": [
    "clf_final.fit(Xtrain_prep, y)"
   ]
  },
  {
   "cell_type": "markdown",
   "metadata": {},
   "source": [
    "Делаем предсказания"
   ]
  },
  {
   "cell_type": "code",
   "execution_count": 52,
   "metadata": {},
   "outputs": [],
   "source": [
    "y_pred_proba = clf_final.predict_proba(Xtest_prep)\n",
    "y_pred = clf_final.predict(Xtest_prep)"
   ]
  },
  {
   "cell_type": "markdown",
   "metadata": {},
   "source": [
    "Формируем сабмит"
   ]
  },
  {
   "cell_type": "code",
   "execution_count": 56,
   "metadata": {},
   "outputs": [],
   "source": [
    "submit = pd.DataFrame(y_pred_proba, columns=sample_submission.columns[1:])\n",
    "submit['ID'] = sample_submission.ID\n",
    "submit = submit[[submit.columns[-1]]+list(submit.columns[:-1])]\n",
    "submit.to_csv('data/shelter/submit.csv', index=False)"
   ]
  },
  {
   "cell_type": "markdown",
   "metadata": {},
   "source": [
    "### Что оказалось под капотом?"
   ]
  },
  {
   "cell_type": "code",
   "execution_count": 57,
   "metadata": {},
   "outputs": [],
   "source": [
    "from sklearn.tree import export_graphviz\n",
    "\n",
    "def get_tree_dot_view(clf, feature_names=None, class_names=None):\n",
    "    print(export_graphviz(clf, out_file=None, filled=True, feature_names=feature_names, class_names=class_names))"
   ]
  },
  {
   "cell_type": "markdown",
   "metadata": {},
   "source": [
    "http://www.webgraphviz.com"
   ]
  },
  {
   "cell_type": "code",
   "execution_count": 58,
   "metadata": {},
   "outputs": [
    {
     "name": "stderr",
     "output_type": "stream",
     "text": [
      "C:\\Users\\viktoria.sinditskaya\\AppData\\Local\\Continuum\\anaconda3\\lib\\site-packages\\sklearn\\preprocessing\\label.py:151: DeprecationWarning: The truth value of an empty array is ambiguous. Returning False, but in future this will result in an error. Use `array.size > 0` to check that an array is not empty.\n",
      "  if diff:\n"
     ]
    },
    {
     "data": {
      "text/plain": [
       "Adoption           10769\n",
       "Died                 197\n",
       "Euthanasia          1555\n",
       "Return_to_owner     4786\n",
       "Transfer            9422\n",
       "dtype: int64"
      ]
     },
     "execution_count": 58,
     "metadata": {},
     "output_type": "execute_result"
    }
   ],
   "source": [
    "pd.Series(le.inverse_transform(y)).value_counts().sort_index()"
   ]
  },
  {
   "cell_type": "code",
   "execution_count": 59,
   "metadata": {
    "scrolled": false
   },
   "outputs": [
    {
     "name": "stdout",
     "output_type": "stream",
     "text": [
      "digraph Tree {\n",
      "node [shape=box, style=\"filled\", color=\"black\"] ;\n",
      "0 [label=\"sterilization <= 0.5\\ngini = 0.678\\nsamples = 26729\\nvalue = [10769, 197, 1555, 4786, 9422]\\nclass = Adoption\", fillcolor=\"#e5813914\"] ;\n",
      "1 [label=\"has_name <= 0.5\\ngini = 0.487\\nsamples = 7036\\nvalue = [361, 135, 878, 778, 4884]\\nclass = Transfer\", fillcolor=\"#e539c0a6\"] ;\n",
      "0 -> 1 [labeldistance=2.5, labelangle=45, headlabel=\"True\"] ;\n",
      "2 [label=\"years <= 0.542\\ngini = 0.636\\nsamples = 2988\\nvalue = [348, 50, 283, 715, 1592]\\nclass = Transfer\", fillcolor=\"#e539c062\"] ;\n",
      "1 -> 2 ;\n",
      "3 [label=\"hour <= 16.458\\ngini = 0.513\\nsamples = 1323\\nvalue = [275, 44, 57, 72, 875]\\nclass = Transfer\", fillcolor=\"#e539c092\"] ;\n",
      "2 -> 3 ;\n",
      "4 [label=\"hour <= 11.225\\ngini = 0.439\\nsamples = 1018\\nvalue = [152, 39, 39, 44, 744]\\nclass = Transfer\", fillcolor=\"#e539c0ae\"] ;\n",
      "3 -> 4 ;\n",
      "5 [label=\"gini = 0.673\\nsamples = 115\\nvalue = [16, 22, 14, 5, 58]\\nclass = Transfer\", fillcolor=\"#e539c063\"] ;\n",
      "4 -> 5 ;\n",
      "6 [label=\"gini = 0.397\\nsamples = 903\\nvalue = [136, 17, 25, 39, 686]\\nclass = Transfer\", fillcolor=\"#e539c0b7\"] ;\n",
      "4 -> 6 ;\n",
      "7 [label=\"is_dog <= 0.5\\ngini = 0.641\\nsamples = 305\\nvalue = [123, 5, 18, 28, 131]\\nclass = Transfer\", fillcolor=\"#e539c00b\"] ;\n",
      "3 -> 7 ;\n",
      "8 [label=\"gini = 0.582\\nsamples = 198\\nvalue = [102, 5, 14, 1, 76]\\nclass = Adoption\", fillcolor=\"#e5813936\"] ;\n",
      "7 -> 8 ;\n",
      "9 [label=\"gini = 0.632\\nsamples = 107\\nvalue = [21, 0, 4, 27, 55]\\nclass = Transfer\", fillcolor=\"#e539c059\"] ;\n",
      "7 -> 9 ;\n",
      "10 [label=\"is_dog <= 0.5\\ngini = 0.645\\nsamples = 1665\\nvalue = [73, 6, 226, 643, 717]\\nclass = Transfer\", fillcolor=\"#e539c012\"] ;\n",
      "2 -> 10 ;\n",
      "11 [label=\"years <= 3.5\\ngini = 0.41\\nsamples = 214\\nvalue = [7, 1, 26, 19, 161]\\nclass = Transfer\", fillcolor=\"#e539c0b7\"] ;\n",
      "10 -> 11 ;\n",
      "12 [label=\"gini = 0.334\\nsamples = 167\\nvalue = [6, 1, 14, 11, 135]\\nclass = Transfer\", fillcolor=\"#e539c0ca\"] ;\n",
      "11 -> 12 ;\n",
      "13 [label=\"gini = 0.599\\nsamples = 47\\nvalue = [1, 0, 12, 8, 26]\\nclass = Transfer\", fillcolor=\"#e539c066\"] ;\n",
      "11 -> 13 ;\n",
      "14 [label=\"hour <= 16.908\\ngini = 0.647\\nsamples = 1451\\nvalue = [66, 5, 200, 624, 556]\\nclass = Return_to_owner\", fillcolor=\"#3c39e513\"] ;\n",
      "10 -> 14 ;\n",
      "15 [label=\"gini = 0.636\\nsamples = 1120\\nvalue = [40, 4, 148, 432, 496]\\nclass = Transfer\", fillcolor=\"#e539c018\"] ;\n",
      "14 -> 15 ;\n",
      "16 [label=\"gini = 0.6\\nsamples = 331\\nvalue = [26, 1, 52, 192, 60]\\nclass = Return_to_owner\", fillcolor=\"#3c39e57c\"] ;\n",
      "14 -> 16 ;\n",
      "17 [label=\"years <= 1.5\\ngini = 0.316\\nsamples = 4048\\nvalue = [13, 85, 595, 63, 3292]\\nclass = Transfer\", fillcolor=\"#e539c0c7\"] ;\n",
      "1 -> 17 ;\n",
      "18 [label=\"years <= 0.067\\ngini = 0.243\\nsamples = 3326\\nvalue = [11, 74, 314, 51, 2876]\\nclass = Transfer\", fillcolor=\"#e539c0d9\"] ;\n",
      "17 -> 18 ;\n",
      "19 [label=\"is_dog <= 0.5\\ngini = 0.108\\nsamples = 1248\\nvalue = [0, 20, 26, 24, 1178]\\nclass = Transfer\", fillcolor=\"#e539c0f0\"] ;\n",
      "18 -> 19 ;\n",
      "20 [label=\"gini = 0.07\\nsamples = 1090\\nvalue = [0, 15, 22, 2, 1051]\\nclass = Transfer\", fillcolor=\"#e539c0f6\"] ;\n",
      "19 -> 20 ;\n",
      "21 [label=\"gini = 0.333\\nsamples = 158\\nvalue = [0, 5, 4, 22, 127]\\nclass = Transfer\", fillcolor=\"#e539c0c5\"] ;\n",
      "19 -> 21 ;\n",
      "22 [label=\"hour <= 9.008\\ngini = 0.312\\nsamples = 2078\\nvalue = [11, 54, 288, 27, 1698]\\nclass = Transfer\", fillcolor=\"#e539c0c9\"] ;\n",
      "18 -> 22 ;\n",
      "23 [label=\"gini = 0.086\\nsamples = 585\\nvalue = [0, 9, 16, 1, 559]\\nclass = Transfer\", fillcolor=\"#e539c0f3\"] ;\n",
      "22 -> 23 ;\n",
      "24 [label=\"gini = 0.384\\nsamples = 1493\\nvalue = [11, 45, 272, 26, 1139]\\nclass = Transfer\", fillcolor=\"#e539c0b5\"] ;\n",
      "22 -> 24 ;\n",
      "25 [label=\"hour <= 9.025\\ngini = 0.516\\nsamples = 722\\nvalue = [2, 11, 281, 12, 416]\\nclass = Transfer\", fillcolor=\"#e539c04e\"] ;\n",
      "17 -> 25 ;\n",
      "26 [label=\"is_dog <= 0.5\\ngini = 0.102\\nsamples = 188\\nvalue = [0, 2, 8, 0, 178]\\nclass = Transfer\", fillcolor=\"#e539c0f1\"] ;\n",
      "25 -> 26 ;\n",
      "27 [label=\"gini = 0.023\\nsamples = 173\\nvalue = [0, 0, 2, 0, 171]\\nclass = Transfer\", fillcolor=\"#e539c0fc\"] ;\n",
      "26 -> 27 ;\n",
      "28 [label=\"gini = 0.604\\nsamples = 15\\nvalue = [0, 2, 6, 0, 7]\\nclass = Transfer\", fillcolor=\"#e539c01c\"] ;\n",
      "26 -> 28 ;\n",
      "29 [label=\"hour <= 13.717\\ngini = 0.539\\nsamples = 534\\nvalue = [2, 9, 273, 12, 238]\\nclass = Euthanasia\", fillcolor=\"#39e5c51e\"] ;\n",
      "25 -> 29 ;\n",
      "30 [label=\"gini = 0.466\\nsamples = 180\\nvalue = [0, 5, 123, 6, 46]\\nclass = Euthanasia\", fillcolor=\"#39e5c593\"] ;\n",
      "29 -> 30 ;\n",
      "31 [label=\"gini = 0.526\\nsamples = 354\\nvalue = [2, 4, 150, 6, 192]\\nclass = Transfer\", fillcolor=\"#e539c035\"] ;\n",
      "29 -> 31 ;\n",
      "32 [label=\"sex <= 1.5\\ngini = 0.625\\nsamples = 19693\\nvalue = [10408, 62, 677, 4008, 4538]\\nclass = Adoption\", fillcolor=\"#e5813963\"] ;\n",
      "0 -> 32 [labeldistance=2.5, labelangle=-45, headlabel=\"False\"] ;\n",
      "33 [label=\"years <= 0.708\\ngini = 0.603\\nsamples = 18599\\nvalue = [10408, 37, 576, 3995, 3583]\\nclass = Adoption\", fillcolor=\"#e5813970\"] ;\n",
      "32 -> 33 ;\n",
      "34 [label=\"hour <= 16.942\\ngini = 0.302\\nsamples = 6122\\nvalue = [5041, 5, 10, 241, 825]\\nclass = Adoption\", fillcolor=\"#e58139cb\"] ;\n",
      "33 -> 34 ;\n",
      "35 [label=\"years <= 0.292\\ngini = 0.403\\nsamples = 3003\\nvalue = [2213, 4, 5, 93, 688]\\nclass = Adoption\", fillcolor=\"#e58139a8\"] ;\n",
      "34 -> 35 ;\n",
      "36 [label=\"gini = 0.305\\nsamples = 1920\\nvalue = [1567, 1, 2, 24, 326]\\nclass = Adoption\", fillcolor=\"#e58139c7\"] ;\n",
      "35 -> 36 ;\n",
      "37 [label=\"gini = 0.528\\nsamples = 1083\\nvalue = [646, 3, 3, 69, 362]\\nclass = Adoption\", fillcolor=\"#e5813964\"] ;\n",
      "35 -> 37 ;\n",
      "38 [label=\"years <= 0.375\\ngini = 0.174\\nsamples = 3119\\nvalue = [2828, 1, 5, 148, 137]\\nclass = Adoption\", fillcolor=\"#e58139e6\"] ;\n",
      "34 -> 38 ;\n",
      "39 [label=\"gini = 0.115\\nsamples = 2444\\nvalue = [2297, 1, 1, 70, 75]\\nclass = Adoption\", fillcolor=\"#e58139ef\"] ;\n",
      "38 -> 39 ;\n",
      "40 [label=\"gini = 0.359\\nsamples = 675\\nvalue = [531, 0, 4, 78, 62]\\nclass = Adoption\", fillcolor=\"#e58139c1\"] ;\n",
      "38 -> 40 ;\n",
      "41 [label=\"hour <= 16.575\\ngini = 0.674\\nsamples = 12477\\nvalue = [5367, 32, 566, 3754, 2758]\\nclass = Adoption\", fillcolor=\"#e581392f\"] ;\n",
      "33 -> 41 ;\n",
      "42 [label=\"years <= 2.5\\ngini = 0.698\\nsamples = 7546\\nvalue = [2734, 25, 423, 2123, 2241]\\nclass = Adoption\", fillcolor=\"#e5813918\"] ;\n",
      "41 -> 42 ;\n",
      "43 [label=\"gini = 0.657\\nsamples = 3648\\nvalue = [1592, 8, 121, 679, 1248]\\nclass = Adoption\", fillcolor=\"#e5813925\"] ;\n",
      "42 -> 43 ;\n",
      "44 [label=\"gini = 0.706\\nsamples = 3898\\nvalue = [1142, 17, 302, 1444, 993]\\nclass = Return_to_owner\", fillcolor=\"#3c39e51c\"] ;\n",
      "42 -> 44 ;\n",
      "45 [label=\"has_name <= 0.5\\ngini = 0.594\\nsamples = 4931\\nvalue = [2633, 7, 143, 1631, 517]\\nclass = Adoption\", fillcolor=\"#e581394d\"] ;\n",
      "41 -> 45 ;\n",
      "46 [label=\"gini = 0.585\\nsamples = 4382\\nvalue = [2286, 5, 113, 1610, 368]\\nclass = Adoption\", fillcolor=\"#e581393e\"] ;\n",
      "45 -> 46 ;\n",
      "47 [label=\"gini = 0.522\\nsamples = 549\\nvalue = [347, 2, 30, 21, 149]\\nclass = Adoption\", fillcolor=\"#e581397e\"] ;\n",
      "45 -> 47 ;\n",
      "48 [label=\"years <= 4.5\\ngini = 0.229\\nsamples = 1094\\nvalue = [0, 25, 101, 13, 955]\\nclass = Transfer\", fillcolor=\"#e539c0db\"] ;\n",
      "32 -> 48 ;\n",
      "49 [label=\"years <= 0.067\\ngini = 0.205\\nsamples = 1070\\nvalue = [0, 24, 85, 11, 950]\\nclass = Transfer\", fillcolor=\"#e539c0e0\"] ;\n",
      "48 -> 49 ;\n",
      "50 [label=\"hour <= 9.658\\ngini = 0.117\\nsamples = 618\\nvalue = [0, 16, 21, 1, 580]\\nclass = Transfer\", fillcolor=\"#e539c0ef\"] ;\n",
      "49 -> 50 ;\n",
      "51 [label=\"gini = 0.617\\nsamples = 16\\nvalue = [0, 8, 3, 0, 5]\\nclass = Died\", fillcolor=\"#7be53946\"] ;\n",
      "50 -> 51 ;\n",
      "52 [label=\"gini = 0.087\\nsamples = 602\\nvalue = [0, 8, 18, 1, 575]\\nclass = Transfer\", fillcolor=\"#e539c0f3\"] ;\n",
      "50 -> 52 ;\n",
      "53 [label=\"hour <= 9.208\\ngini = 0.309\\nsamples = 452\\nvalue = [0, 8, 64, 10, 370]\\nclass = Transfer\", fillcolor=\"#e539c0c9\"] ;\n",
      "49 -> 53 ;\n",
      "54 [label=\"gini = 0.036\\nsamples = 219\\nvalue = [0, 0, 4, 0, 215]\\nclass = Transfer\", fillcolor=\"#e539c0fa\"] ;\n",
      "53 -> 54 ;\n",
      "55 [label=\"gini = 0.488\\nsamples = 233\\nvalue = [0, 8, 60, 10, 155]\\nclass = Transfer\", fillcolor=\"#e539c08c\"] ;\n",
      "53 -> 55 ;\n",
      "56 [label=\"name_freq <= 19.0\\ngini = 0.503\\nsamples = 24\\nvalue = [0, 1, 16, 2, 5]\\nclass = Euthanasia\", fillcolor=\"#39e5c594\"] ;\n",
      "48 -> 56 ;\n",
      "57 [label=\"hour <= 9.592\\ngini = 0.417\\nsamples = 22\\nvalue = [0, 1, 16, 0, 5]\\nclass = Euthanasia\", fillcolor=\"#39e5c5a5\"] ;\n",
      "56 -> 57 ;\n",
      "58 [label=\"gini = 0.0\\nsamples = 1\\nvalue = [0, 0, 0, 0, 1]\\nclass = Transfer\", fillcolor=\"#e539c0ff\"] ;\n",
      "57 -> 58 ;\n",
      "59 [label=\"gini = 0.381\\nsamples = 21\\nvalue = [0, 1, 16, 0, 4]\\nclass = Euthanasia\", fillcolor=\"#39e5c5b4\"] ;\n",
      "57 -> 59 ;\n",
      "60 [label=\"gini = 0.0\\nsamples = 2\\nvalue = [0, 0, 0, 2, 0]\\nclass = Return_to_owner\", fillcolor=\"#3c39e5ff\"] ;\n",
      "56 -> 60 ;\n",
      "}\n"
     ]
    }
   ],
   "source": [
    "get_tree_dot_view(clf_final, list(Xtrain_prep.columns), list(le.classes_))"
   ]
  },
  {
   "cell_type": "markdown",
   "metadata": {},
   "source": [
    "Сохраним для следующего ноутбука"
   ]
  },
  {
   "cell_type": "code",
   "execution_count": 61,
   "metadata": {},
   "outputs": [],
   "source": [
    "Xtrain_prep.to_pickle('data/shelter/xtrain.pkl')\n",
    "Xtest_prep.to_pickle('data/shelter/xtest.pkl')"
   ]
  },
  {
   "cell_type": "markdown",
   "metadata": {},
   "source": [
    "Также [можно](http://scikit-learn.org/stable/modules/model_persistence.html) сохранять и модели:\n"
   ]
  },
  {
   "cell_type": "code",
   "execution_count": 62,
   "metadata": {},
   "outputs": [],
   "source": [
    "from sklearn.externals import joblib"
   ]
  },
  {
   "cell_type": "code",
   "execution_count": 63,
   "metadata": {},
   "outputs": [
    {
     "data": {
      "text/plain": [
       "['data/shelter/clf_decisiontree_maxdepth5.pkl']"
      ]
     },
     "execution_count": 63,
     "metadata": {},
     "output_type": "execute_result"
    }
   ],
   "source": [
    "joblib.dump(clf, 'data/shelter/clf_decisiontree_maxdepth5.pkl')"
   ]
  },
  {
   "cell_type": "code",
   "execution_count": null,
   "metadata": {},
   "outputs": [],
   "source": []
  }
 ],
 "metadata": {
  "anaconda-cloud": {},
  "kernelspec": {
   "display_name": "Python 3",
   "language": "python",
   "name": "python3"
  },
  "language_info": {
   "codemirror_mode": {
    "name": "ipython",
    "version": 3
   },
   "file_extension": ".py",
   "mimetype": "text/x-python",
   "name": "python",
   "nbconvert_exporter": "python",
   "pygments_lexer": "ipython3",
   "version": "3.6.5"
  }
 },
 "nbformat": 4,
 "nbformat_minor": 2
}
