{
 "cells": [
  {
   "cell_type": "markdown",
   "metadata": {},
   "source": [
    "# Титаник. Кто выживет?"
   ]
  },
  {
   "cell_type": "markdown",
   "metadata": {},
   "source": [
    "https://www.kaggle.com/c/titanic/"
   ]
  },
  {
   "cell_type": "code",
   "execution_count": 1,
   "metadata": {},
   "outputs": [],
   "source": [
    "import numpy as np\n",
    "import pandas as pd"
   ]
  },
  {
   "cell_type": "code",
   "execution_count": 2,
   "metadata": {},
   "outputs": [],
   "source": [
    "from matplotlib import pyplot as plt\n",
    "%matplotlib inline\n",
    "import seaborn as sns\n",
    "\n",
    "%config InlineBackend.figure_format = 'retina'\n",
    "from pylab import rcParams\n",
    "rcParams['figure.figsize'] = (9, 6)"
   ]
  },
  {
   "cell_type": "markdown",
   "metadata": {},
   "source": [
    "### Данные"
   ]
  },
  {
   "cell_type": "code",
   "execution_count": 3,
   "metadata": {},
   "outputs": [],
   "source": [
    "train = pd.read_csv('titanic/train.csv')\n",
    "test = pd.read_csv('titanic/test.csv')"
   ]
  },
  {
   "cell_type": "code",
   "execution_count": 4,
   "metadata": {
    "scrolled": true
   },
   "outputs": [
    {
     "data": {
      "text/html": [
       "<div>\n",
       "<style scoped>\n",
       "    .dataframe tbody tr th:only-of-type {\n",
       "        vertical-align: middle;\n",
       "    }\n",
       "\n",
       "    .dataframe tbody tr th {\n",
       "        vertical-align: top;\n",
       "    }\n",
       "\n",
       "    .dataframe thead th {\n",
       "        text-align: right;\n",
       "    }\n",
       "</style>\n",
       "<table border=\"1\" class=\"dataframe\">\n",
       "  <thead>\n",
       "    <tr style=\"text-align: right;\">\n",
       "      <th></th>\n",
       "      <th>PassengerId</th>\n",
       "      <th>Survived</th>\n",
       "      <th>Pclass</th>\n",
       "      <th>Name</th>\n",
       "      <th>Sex</th>\n",
       "      <th>Age</th>\n",
       "      <th>SibSp</th>\n",
       "      <th>Parch</th>\n",
       "      <th>Ticket</th>\n",
       "      <th>Fare</th>\n",
       "      <th>Cabin</th>\n",
       "      <th>Embarked</th>\n",
       "    </tr>\n",
       "  </thead>\n",
       "  <tbody>\n",
       "    <tr>\n",
       "      <th>0</th>\n",
       "      <td>1</td>\n",
       "      <td>0</td>\n",
       "      <td>3</td>\n",
       "      <td>Braund, Mr. Owen Harris</td>\n",
       "      <td>male</td>\n",
       "      <td>22.0</td>\n",
       "      <td>1</td>\n",
       "      <td>0</td>\n",
       "      <td>A/5 21171</td>\n",
       "      <td>7.2500</td>\n",
       "      <td>NaN</td>\n",
       "      <td>S</td>\n",
       "    </tr>\n",
       "    <tr>\n",
       "      <th>1</th>\n",
       "      <td>2</td>\n",
       "      <td>1</td>\n",
       "      <td>1</td>\n",
       "      <td>Cumings, Mrs. John Bradley (Florence Briggs Th...</td>\n",
       "      <td>female</td>\n",
       "      <td>38.0</td>\n",
       "      <td>1</td>\n",
       "      <td>0</td>\n",
       "      <td>PC 17599</td>\n",
       "      <td>71.2833</td>\n",
       "      <td>C85</td>\n",
       "      <td>C</td>\n",
       "    </tr>\n",
       "    <tr>\n",
       "      <th>2</th>\n",
       "      <td>3</td>\n",
       "      <td>1</td>\n",
       "      <td>3</td>\n",
       "      <td>Heikkinen, Miss. Laina</td>\n",
       "      <td>female</td>\n",
       "      <td>26.0</td>\n",
       "      <td>0</td>\n",
       "      <td>0</td>\n",
       "      <td>STON/O2. 3101282</td>\n",
       "      <td>7.9250</td>\n",
       "      <td>NaN</td>\n",
       "      <td>S</td>\n",
       "    </tr>\n",
       "    <tr>\n",
       "      <th>3</th>\n",
       "      <td>4</td>\n",
       "      <td>1</td>\n",
       "      <td>1</td>\n",
       "      <td>Futrelle, Mrs. Jacques Heath (Lily May Peel)</td>\n",
       "      <td>female</td>\n",
       "      <td>35.0</td>\n",
       "      <td>1</td>\n",
       "      <td>0</td>\n",
       "      <td>113803</td>\n",
       "      <td>53.1000</td>\n",
       "      <td>C123</td>\n",
       "      <td>S</td>\n",
       "    </tr>\n",
       "    <tr>\n",
       "      <th>4</th>\n",
       "      <td>5</td>\n",
       "      <td>0</td>\n",
       "      <td>3</td>\n",
       "      <td>Allen, Mr. William Henry</td>\n",
       "      <td>male</td>\n",
       "      <td>35.0</td>\n",
       "      <td>0</td>\n",
       "      <td>0</td>\n",
       "      <td>373450</td>\n",
       "      <td>8.0500</td>\n",
       "      <td>NaN</td>\n",
       "      <td>S</td>\n",
       "    </tr>\n",
       "  </tbody>\n",
       "</table>\n",
       "</div>"
      ],
      "text/plain": [
       "   PassengerId  Survived  Pclass  \\\n",
       "0            1         0       3   \n",
       "1            2         1       1   \n",
       "2            3         1       3   \n",
       "3            4         1       1   \n",
       "4            5         0       3   \n",
       "\n",
       "                                                Name     Sex   Age  SibSp  \\\n",
       "0                            Braund, Mr. Owen Harris    male  22.0      1   \n",
       "1  Cumings, Mrs. John Bradley (Florence Briggs Th...  female  38.0      1   \n",
       "2                             Heikkinen, Miss. Laina  female  26.0      0   \n",
       "3       Futrelle, Mrs. Jacques Heath (Lily May Peel)  female  35.0      1   \n",
       "4                           Allen, Mr. William Henry    male  35.0      0   \n",
       "\n",
       "   Parch            Ticket     Fare Cabin Embarked  \n",
       "0      0         A/5 21171   7.2500   NaN        S  \n",
       "1      0          PC 17599  71.2833   C85        C  \n",
       "2      0  STON/O2. 3101282   7.9250   NaN        S  \n",
       "3      0            113803  53.1000  C123        S  \n",
       "4      0            373450   8.0500   NaN        S  "
      ]
     },
     "execution_count": 4,
     "metadata": {},
     "output_type": "execute_result"
    }
   ],
   "source": [
    "train.head()"
   ]
  },
  {
   "cell_type": "code",
   "execution_count": 5,
   "metadata": {
    "scrolled": true
   },
   "outputs": [
    {
     "data": {
      "text/html": [
       "<div>\n",
       "<style scoped>\n",
       "    .dataframe tbody tr th:only-of-type {\n",
       "        vertical-align: middle;\n",
       "    }\n",
       "\n",
       "    .dataframe tbody tr th {\n",
       "        vertical-align: top;\n",
       "    }\n",
       "\n",
       "    .dataframe thead th {\n",
       "        text-align: right;\n",
       "    }\n",
       "</style>\n",
       "<table border=\"1\" class=\"dataframe\">\n",
       "  <thead>\n",
       "    <tr style=\"text-align: right;\">\n",
       "      <th></th>\n",
       "      <th>PassengerId</th>\n",
       "      <th>Pclass</th>\n",
       "      <th>Name</th>\n",
       "      <th>Sex</th>\n",
       "      <th>Age</th>\n",
       "      <th>SibSp</th>\n",
       "      <th>Parch</th>\n",
       "      <th>Ticket</th>\n",
       "      <th>Fare</th>\n",
       "      <th>Cabin</th>\n",
       "      <th>Embarked</th>\n",
       "    </tr>\n",
       "  </thead>\n",
       "  <tbody>\n",
       "    <tr>\n",
       "      <th>0</th>\n",
       "      <td>892</td>\n",
       "      <td>3</td>\n",
       "      <td>Kelly, Mr. James</td>\n",
       "      <td>male</td>\n",
       "      <td>34.5</td>\n",
       "      <td>0</td>\n",
       "      <td>0</td>\n",
       "      <td>330911</td>\n",
       "      <td>7.8292</td>\n",
       "      <td>NaN</td>\n",
       "      <td>Q</td>\n",
       "    </tr>\n",
       "    <tr>\n",
       "      <th>1</th>\n",
       "      <td>893</td>\n",
       "      <td>3</td>\n",
       "      <td>Wilkes, Mrs. James (Ellen Needs)</td>\n",
       "      <td>female</td>\n",
       "      <td>47.0</td>\n",
       "      <td>1</td>\n",
       "      <td>0</td>\n",
       "      <td>363272</td>\n",
       "      <td>7.0000</td>\n",
       "      <td>NaN</td>\n",
       "      <td>S</td>\n",
       "    </tr>\n",
       "    <tr>\n",
       "      <th>2</th>\n",
       "      <td>894</td>\n",
       "      <td>2</td>\n",
       "      <td>Myles, Mr. Thomas Francis</td>\n",
       "      <td>male</td>\n",
       "      <td>62.0</td>\n",
       "      <td>0</td>\n",
       "      <td>0</td>\n",
       "      <td>240276</td>\n",
       "      <td>9.6875</td>\n",
       "      <td>NaN</td>\n",
       "      <td>Q</td>\n",
       "    </tr>\n",
       "    <tr>\n",
       "      <th>3</th>\n",
       "      <td>895</td>\n",
       "      <td>3</td>\n",
       "      <td>Wirz, Mr. Albert</td>\n",
       "      <td>male</td>\n",
       "      <td>27.0</td>\n",
       "      <td>0</td>\n",
       "      <td>0</td>\n",
       "      <td>315154</td>\n",
       "      <td>8.6625</td>\n",
       "      <td>NaN</td>\n",
       "      <td>S</td>\n",
       "    </tr>\n",
       "    <tr>\n",
       "      <th>4</th>\n",
       "      <td>896</td>\n",
       "      <td>3</td>\n",
       "      <td>Hirvonen, Mrs. Alexander (Helga E Lindqvist)</td>\n",
       "      <td>female</td>\n",
       "      <td>22.0</td>\n",
       "      <td>1</td>\n",
       "      <td>1</td>\n",
       "      <td>3101298</td>\n",
       "      <td>12.2875</td>\n",
       "      <td>NaN</td>\n",
       "      <td>S</td>\n",
       "    </tr>\n",
       "  </tbody>\n",
       "</table>\n",
       "</div>"
      ],
      "text/plain": [
       "   PassengerId  Pclass                                          Name     Sex  \\\n",
       "0          892       3                              Kelly, Mr. James    male   \n",
       "1          893       3              Wilkes, Mrs. James (Ellen Needs)  female   \n",
       "2          894       2                     Myles, Mr. Thomas Francis    male   \n",
       "3          895       3                              Wirz, Mr. Albert    male   \n",
       "4          896       3  Hirvonen, Mrs. Alexander (Helga E Lindqvist)  female   \n",
       "\n",
       "    Age  SibSp  Parch   Ticket     Fare Cabin Embarked  \n",
       "0  34.5      0      0   330911   7.8292   NaN        Q  \n",
       "1  47.0      1      0   363272   7.0000   NaN        S  \n",
       "2  62.0      0      0   240276   9.6875   NaN        Q  \n",
       "3  27.0      0      0   315154   8.6625   NaN        S  \n",
       "4  22.0      1      1  3101298  12.2875   NaN        S  "
      ]
     },
     "execution_count": 5,
     "metadata": {},
     "output_type": "execute_result"
    }
   ],
   "source": [
    "test.head()"
   ]
  },
  {
   "cell_type": "code",
   "execution_count": 6,
   "metadata": {},
   "outputs": [
    {
     "name": "stdout",
     "output_type": "stream",
     "text": [
      "<class 'pandas.core.frame.DataFrame'>\n",
      "RangeIndex: 891 entries, 0 to 890\n",
      "Data columns (total 12 columns):\n",
      "PassengerId    891 non-null int64\n",
      "Survived       891 non-null int64\n",
      "Pclass         891 non-null int64\n",
      "Name           891 non-null object\n",
      "Sex            891 non-null object\n",
      "Age            714 non-null float64\n",
      "SibSp          891 non-null int64\n",
      "Parch          891 non-null int64\n",
      "Ticket         891 non-null object\n",
      "Fare           891 non-null float64\n",
      "Cabin          204 non-null object\n",
      "Embarked       889 non-null object\n",
      "dtypes: float64(2), int64(5), object(5)\n",
      "memory usage: 83.6+ KB\n"
     ]
    }
   ],
   "source": [
    "train.info()"
   ]
  },
  {
   "cell_type": "markdown",
   "metadata": {},
   "source": [
    "# EDA"
   ]
  },
  {
   "cell_type": "code",
   "execution_count": 7,
   "metadata": {},
   "outputs": [
    {
     "data": {
      "text/plain": [
       "Index(['PassengerId', 'Survived', 'Pclass', 'Name', 'Sex', 'Age', 'SibSp',\n",
       "       'Parch', 'Ticket', 'Fare', 'Cabin', 'Embarked'],\n",
       "      dtype='object')"
      ]
     },
     "execution_count": 7,
     "metadata": {},
     "output_type": "execute_result"
    }
   ],
   "source": [
    "train.columns"
   ]
  },
  {
   "cell_type": "code",
   "execution_count": 8,
   "metadata": {},
   "outputs": [
    {
     "data": {
      "text/plain": [
       "male      577\n",
       "female    314\n",
       "Name: Sex, dtype: int64"
      ]
     },
     "execution_count": 8,
     "metadata": {},
     "output_type": "execute_result"
    }
   ],
   "source": [
    "train.Sex.value_counts(dropna=False)"
   ]
  },
  {
   "cell_type": "code",
   "execution_count": 9,
   "metadata": {},
   "outputs": [],
   "source": [
    "sns.boxplot?"
   ]
  },
  {
   "cell_type": "code",
   "execution_count": 14,
   "metadata": {},
   "outputs": [
    {
     "data": {
      "text/plain": [
       "<matplotlib.axes._subplots.AxesSubplot at 0x2056eb409e8>"
      ]
     },
     "execution_count": 14,
     "metadata": {},
     "output_type": "execute_result"
    },
    {
     "data": {
      "image/png": "[encoded data removed]",
      "text/plain": [
       "<matplotlib.figure.Figure at 0x2056eb40438>"
      ]
     },
     "metadata": {
      "image/png": {
       "height": 372,
       "width": 573
      }
     },
     "output_type": "display_data"
    }
   ],
   "source": [
    "sns.boxplot(data=train, x='Fare', y='Sex')"
   ]
  },
  {
   "cell_type": "code",
   "execution_count": 15,
   "metadata": {},
   "outputs": [
    {
     "data": {
      "text/plain": [
       "Sex     Pclass\n",
       "female  3         0.458599\n",
       "        1         0.299363\n",
       "        2         0.242038\n",
       "male    3         0.601386\n",
       "        1         0.211438\n",
       "        2         0.187175\n",
       "Name: Pclass, dtype: float64"
      ]
     },
     "execution_count": 15,
     "metadata": {},
     "output_type": "execute_result"
    }
   ],
   "source": [
    "train.groupby('Sex')['Pclass'].value_counts(normalize=True)"
   ]
  },
  {
   "cell_type": "markdown",
   "metadata": {},
   "source": [
    "### Фичи"
   ]
  },
  {
   "cell_type": "markdown",
   "metadata": {},
   "source": [
    "чтобы одинаковым образом обработать train и test и не дублировать все операции 2 раза, соединим эти два набора данных в один, не забыв при этом:\n",
    "1. выкинуть целевую переменную из train\n",
    "2. проверить на соответствие набора признаков друг другу\n",
    "3. добавить флаг того, является ли объект тестовым или нет"
   ]
  },
  {
   "cell_type": "code",
   "execution_count": 5,
   "metadata": {},
   "outputs": [],
   "source": [
    "y_train = train.Survived\n",
    "train.drop('Survived', axis=1, inplace=True)"
   ]
  },
  {
   "cell_type": "code",
   "execution_count": 6,
   "metadata": {},
   "outputs": [
    {
     "data": {
      "text/plain": [
       "array([ True,  True,  True,  True,  True,  True,  True,  True,  True,\n",
       "        True,  True])"
      ]
     },
     "execution_count": 6,
     "metadata": {},
     "output_type": "execute_result"
    }
   ],
   "source": [
    "train.columns == test.columns"
   ]
  },
  {
   "cell_type": "code",
   "execution_count": 7,
   "metadata": {},
   "outputs": [],
   "source": [
    "train['is_test'] = 0\n",
    "test['is_test'] = 1"
   ]
  },
  {
   "cell_type": "code",
   "execution_count": 8,
   "metadata": {},
   "outputs": [],
   "source": [
    "df = pd.concat([train, test])"
   ]
  },
  {
   "cell_type": "markdown",
   "metadata": {},
   "source": [
    "супер, теперь полный набор данных можно обрабатывать вместе и в любой момент, уже обработанными, обратно разъединить на обучающую и тестовую выборки"
   ]
  },
  {
   "cell_type": "markdown",
   "metadata": {},
   "source": [
    "Пол male/female закодируем в 1/0 и удалим переменные, с которыми мы не будем сейчас работать"
   ]
  },
  {
   "cell_type": "code",
   "execution_count": 9,
   "metadata": {},
   "outputs": [],
   "source": [
    "df[\"isMale\"] = df.Sex.replace({\"male\": 1, \"female\":0})\n",
    "df.drop([\"Sex\", \"Cabin\", \"Ticket\", \"Name\", \"PassengerId\"], axis=1, inplace=True)"
   ]
  },
  {
   "cell_type": "markdown",
   "metadata": {},
   "source": [
    "признаки, значения которых составляют небольшой перечислимый набор, закодируем в отдельные столбцы "
   ]
  },
  {
   "cell_type": "code",
   "execution_count": 10,
   "metadata": {},
   "outputs": [
    {
     "data": {
      "text/plain": [
       "3    709\n",
       "1    323\n",
       "2    277\n",
       "Name: Pclass, dtype: int64"
      ]
     },
     "execution_count": 10,
     "metadata": {},
     "output_type": "execute_result"
    }
   ],
   "source": [
    "df.Pclass.value_counts()"
   ]
  },
  {
   "cell_type": "code",
   "execution_count": 11,
   "metadata": {},
   "outputs": [],
   "source": [
    "df_dummies = pd.get_dummies(df, columns=['Pclass', 'Embarked'])"
   ]
  },
  {
   "cell_type": "code",
   "execution_count": 12,
   "metadata": {},
   "outputs": [
    {
     "data": {
      "text/html": [
       "<div>\n",
       "<style scoped>\n",
       "    .dataframe tbody tr th:only-of-type {\n",
       "        vertical-align: middle;\n",
       "    }\n",
       "\n",
       "    .dataframe tbody tr th {\n",
       "        vertical-align: top;\n",
       "    }\n",
       "\n",
       "    .dataframe thead th {\n",
       "        text-align: right;\n",
       "    }\n",
       "</style>\n",
       "<table border=\"1\" class=\"dataframe\">\n",
       "  <thead>\n",
       "    <tr style=\"text-align: right;\">\n",
       "      <th></th>\n",
       "      <th>Age</th>\n",
       "      <th>SibSp</th>\n",
       "      <th>Parch</th>\n",
       "      <th>Fare</th>\n",
       "      <th>is_test</th>\n",
       "      <th>isMale</th>\n",
       "      <th>Pclass_1</th>\n",
       "      <th>Pclass_2</th>\n",
       "      <th>Pclass_3</th>\n",
       "      <th>Embarked_C</th>\n",
       "      <th>Embarked_Q</th>\n",
       "      <th>Embarked_S</th>\n",
       "    </tr>\n",
       "  </thead>\n",
       "  <tbody>\n",
       "    <tr>\n",
       "      <th>0</th>\n",
       "      <td>22.0</td>\n",
       "      <td>1</td>\n",
       "      <td>0</td>\n",
       "      <td>7.2500</td>\n",
       "      <td>0</td>\n",
       "      <td>1</td>\n",
       "      <td>0</td>\n",
       "      <td>0</td>\n",
       "      <td>1</td>\n",
       "      <td>0</td>\n",
       "      <td>0</td>\n",
       "      <td>1</td>\n",
       "    </tr>\n",
       "    <tr>\n",
       "      <th>1</th>\n",
       "      <td>38.0</td>\n",
       "      <td>1</td>\n",
       "      <td>0</td>\n",
       "      <td>71.2833</td>\n",
       "      <td>0</td>\n",
       "      <td>0</td>\n",
       "      <td>1</td>\n",
       "      <td>0</td>\n",
       "      <td>0</td>\n",
       "      <td>1</td>\n",
       "      <td>0</td>\n",
       "      <td>0</td>\n",
       "    </tr>\n",
       "    <tr>\n",
       "      <th>2</th>\n",
       "      <td>26.0</td>\n",
       "      <td>0</td>\n",
       "      <td>0</td>\n",
       "      <td>7.9250</td>\n",
       "      <td>0</td>\n",
       "      <td>0</td>\n",
       "      <td>0</td>\n",
       "      <td>0</td>\n",
       "      <td>1</td>\n",
       "      <td>0</td>\n",
       "      <td>0</td>\n",
       "      <td>1</td>\n",
       "    </tr>\n",
       "    <tr>\n",
       "      <th>3</th>\n",
       "      <td>35.0</td>\n",
       "      <td>1</td>\n",
       "      <td>0</td>\n",
       "      <td>53.1000</td>\n",
       "      <td>0</td>\n",
       "      <td>0</td>\n",
       "      <td>1</td>\n",
       "      <td>0</td>\n",
       "      <td>0</td>\n",
       "      <td>0</td>\n",
       "      <td>0</td>\n",
       "      <td>1</td>\n",
       "    </tr>\n",
       "    <tr>\n",
       "      <th>4</th>\n",
       "      <td>35.0</td>\n",
       "      <td>0</td>\n",
       "      <td>0</td>\n",
       "      <td>8.0500</td>\n",
       "      <td>0</td>\n",
       "      <td>1</td>\n",
       "      <td>0</td>\n",
       "      <td>0</td>\n",
       "      <td>1</td>\n",
       "      <td>0</td>\n",
       "      <td>0</td>\n",
       "      <td>1</td>\n",
       "    </tr>\n",
       "    <tr>\n",
       "      <th>5</th>\n",
       "      <td>NaN</td>\n",
       "      <td>0</td>\n",
       "      <td>0</td>\n",
       "      <td>8.4583</td>\n",
       "      <td>0</td>\n",
       "      <td>1</td>\n",
       "      <td>0</td>\n",
       "      <td>0</td>\n",
       "      <td>1</td>\n",
       "      <td>0</td>\n",
       "      <td>1</td>\n",
       "      <td>0</td>\n",
       "    </tr>\n",
       "    <tr>\n",
       "      <th>6</th>\n",
       "      <td>54.0</td>\n",
       "      <td>0</td>\n",
       "      <td>0</td>\n",
       "      <td>51.8625</td>\n",
       "      <td>0</td>\n",
       "      <td>1</td>\n",
       "      <td>1</td>\n",
       "      <td>0</td>\n",
       "      <td>0</td>\n",
       "      <td>0</td>\n",
       "      <td>0</td>\n",
       "      <td>1</td>\n",
       "    </tr>\n",
       "    <tr>\n",
       "      <th>7</th>\n",
       "      <td>2.0</td>\n",
       "      <td>3</td>\n",
       "      <td>1</td>\n",
       "      <td>21.0750</td>\n",
       "      <td>0</td>\n",
       "      <td>1</td>\n",
       "      <td>0</td>\n",
       "      <td>0</td>\n",
       "      <td>1</td>\n",
       "      <td>0</td>\n",
       "      <td>0</td>\n",
       "      <td>1</td>\n",
       "    </tr>\n",
       "    <tr>\n",
       "      <th>8</th>\n",
       "      <td>27.0</td>\n",
       "      <td>0</td>\n",
       "      <td>2</td>\n",
       "      <td>11.1333</td>\n",
       "      <td>0</td>\n",
       "      <td>0</td>\n",
       "      <td>0</td>\n",
       "      <td>0</td>\n",
       "      <td>1</td>\n",
       "      <td>0</td>\n",
       "      <td>0</td>\n",
       "      <td>1</td>\n",
       "    </tr>\n",
       "    <tr>\n",
       "      <th>9</th>\n",
       "      <td>14.0</td>\n",
       "      <td>1</td>\n",
       "      <td>0</td>\n",
       "      <td>30.0708</td>\n",
       "      <td>0</td>\n",
       "      <td>0</td>\n",
       "      <td>0</td>\n",
       "      <td>1</td>\n",
       "      <td>0</td>\n",
       "      <td>1</td>\n",
       "      <td>0</td>\n",
       "      <td>0</td>\n",
       "    </tr>\n",
       "  </tbody>\n",
       "</table>\n",
       "</div>"
      ],
      "text/plain": [
       "    Age  SibSp  Parch     Fare  is_test  isMale  Pclass_1  Pclass_2  Pclass_3  \\\n",
       "0  22.0      1      0   7.2500        0       1         0         0         1   \n",
       "1  38.0      1      0  71.2833        0       0         1         0         0   \n",
       "2  26.0      0      0   7.9250        0       0         0         0         1   \n",
       "3  35.0      1      0  53.1000        0       0         1         0         0   \n",
       "4  35.0      0      0   8.0500        0       1         0         0         1   \n",
       "5   NaN      0      0   8.4583        0       1         0         0         1   \n",
       "6  54.0      0      0  51.8625        0       1         1         0         0   \n",
       "7   2.0      3      1  21.0750        0       1         0         0         1   \n",
       "8  27.0      0      2  11.1333        0       0         0         0         1   \n",
       "9  14.0      1      0  30.0708        0       0         0         1         0   \n",
       "\n",
       "   Embarked_C  Embarked_Q  Embarked_S  \n",
       "0           0           0           1  \n",
       "1           1           0           0  \n",
       "2           0           0           1  \n",
       "3           0           0           1  \n",
       "4           0           0           1  \n",
       "5           0           1           0  \n",
       "6           0           0           1  \n",
       "7           0           0           1  \n",
       "8           0           0           1  \n",
       "9           1           0           0  "
      ]
     },
     "execution_count": 12,
     "metadata": {},
     "output_type": "execute_result"
    }
   ],
   "source": [
    "df_dummies.head(10)"
   ]
  },
  {
   "cell_type": "code",
   "execution_count": 13,
   "metadata": {},
   "outputs": [
    {
     "data": {
      "text/plain": [
       "Age           263\n",
       "SibSp           0\n",
       "Parch           0\n",
       "Fare            1\n",
       "is_test         0\n",
       "isMale          0\n",
       "Pclass_1        0\n",
       "Pclass_2        0\n",
       "Pclass_3        0\n",
       "Embarked_C      0\n",
       "Embarked_Q      0\n",
       "Embarked_S      0\n",
       "dtype: int64"
      ]
     },
     "execution_count": 13,
     "metadata": {},
     "output_type": "execute_result"
    }
   ],
   "source": [
    "df_dummies.isnull().sum()"
   ]
  },
  {
   "cell_type": "code",
   "execution_count": 14,
   "metadata": {},
   "outputs": [],
   "source": [
    "X_train = df_dummies[df_dummies.is_test==0].drop('is_test', axis=1)\n",
    "X_test = df_dummies[df_dummies.is_test==1].drop('is_test', axis=1)"
   ]
  },
  {
   "cell_type": "code",
   "execution_count": 15,
   "metadata": {},
   "outputs": [],
   "source": [
    "columns = X_train.columns"
   ]
  },
  {
   "cell_type": "code",
   "execution_count": 16,
   "metadata": {},
   "outputs": [
    {
     "data": {
      "text/html": [
       "<div>\n",
       "<style scoped>\n",
       "    .dataframe tbody tr th:only-of-type {\n",
       "        vertical-align: middle;\n",
       "    }\n",
       "\n",
       "    .dataframe tbody tr th {\n",
       "        vertical-align: top;\n",
       "    }\n",
       "\n",
       "    .dataframe thead th {\n",
       "        text-align: right;\n",
       "    }\n",
       "</style>\n",
       "<table border=\"1\" class=\"dataframe\">\n",
       "  <thead>\n",
       "    <tr style=\"text-align: right;\">\n",
       "      <th></th>\n",
       "      <th>Age</th>\n",
       "      <th>SibSp</th>\n",
       "      <th>Parch</th>\n",
       "      <th>Fare</th>\n",
       "      <th>isMale</th>\n",
       "      <th>Pclass_1</th>\n",
       "      <th>Pclass_2</th>\n",
       "      <th>Pclass_3</th>\n",
       "      <th>Embarked_C</th>\n",
       "      <th>Embarked_Q</th>\n",
       "      <th>Embarked_S</th>\n",
       "    </tr>\n",
       "  </thead>\n",
       "  <tbody>\n",
       "    <tr>\n",
       "      <th>0</th>\n",
       "      <td>22.0</td>\n",
       "      <td>1</td>\n",
       "      <td>0</td>\n",
       "      <td>7.2500</td>\n",
       "      <td>1</td>\n",
       "      <td>0</td>\n",
       "      <td>0</td>\n",
       "      <td>1</td>\n",
       "      <td>0</td>\n",
       "      <td>0</td>\n",
       "      <td>1</td>\n",
       "    </tr>\n",
       "    <tr>\n",
       "      <th>1</th>\n",
       "      <td>38.0</td>\n",
       "      <td>1</td>\n",
       "      <td>0</td>\n",
       "      <td>71.2833</td>\n",
       "      <td>0</td>\n",
       "      <td>1</td>\n",
       "      <td>0</td>\n",
       "      <td>0</td>\n",
       "      <td>1</td>\n",
       "      <td>0</td>\n",
       "      <td>0</td>\n",
       "    </tr>\n",
       "    <tr>\n",
       "      <th>2</th>\n",
       "      <td>26.0</td>\n",
       "      <td>0</td>\n",
       "      <td>0</td>\n",
       "      <td>7.9250</td>\n",
       "      <td>0</td>\n",
       "      <td>0</td>\n",
       "      <td>0</td>\n",
       "      <td>1</td>\n",
       "      <td>0</td>\n",
       "      <td>0</td>\n",
       "      <td>1</td>\n",
       "    </tr>\n",
       "    <tr>\n",
       "      <th>3</th>\n",
       "      <td>35.0</td>\n",
       "      <td>1</td>\n",
       "      <td>0</td>\n",
       "      <td>53.1000</td>\n",
       "      <td>0</td>\n",
       "      <td>1</td>\n",
       "      <td>0</td>\n",
       "      <td>0</td>\n",
       "      <td>0</td>\n",
       "      <td>0</td>\n",
       "      <td>1</td>\n",
       "    </tr>\n",
       "    <tr>\n",
       "      <th>4</th>\n",
       "      <td>35.0</td>\n",
       "      <td>0</td>\n",
       "      <td>0</td>\n",
       "      <td>8.0500</td>\n",
       "      <td>1</td>\n",
       "      <td>0</td>\n",
       "      <td>0</td>\n",
       "      <td>1</td>\n",
       "      <td>0</td>\n",
       "      <td>0</td>\n",
       "      <td>1</td>\n",
       "    </tr>\n",
       "    <tr>\n",
       "      <th>5</th>\n",
       "      <td>NaN</td>\n",
       "      <td>0</td>\n",
       "      <td>0</td>\n",
       "      <td>8.4583</td>\n",
       "      <td>1</td>\n",
       "      <td>0</td>\n",
       "      <td>0</td>\n",
       "      <td>1</td>\n",
       "      <td>0</td>\n",
       "      <td>1</td>\n",
       "      <td>0</td>\n",
       "    </tr>\n",
       "    <tr>\n",
       "      <th>6</th>\n",
       "      <td>54.0</td>\n",
       "      <td>0</td>\n",
       "      <td>0</td>\n",
       "      <td>51.8625</td>\n",
       "      <td>1</td>\n",
       "      <td>1</td>\n",
       "      <td>0</td>\n",
       "      <td>0</td>\n",
       "      <td>0</td>\n",
       "      <td>0</td>\n",
       "      <td>1</td>\n",
       "    </tr>\n",
       "    <tr>\n",
       "      <th>7</th>\n",
       "      <td>2.0</td>\n",
       "      <td>3</td>\n",
       "      <td>1</td>\n",
       "      <td>21.0750</td>\n",
       "      <td>1</td>\n",
       "      <td>0</td>\n",
       "      <td>0</td>\n",
       "      <td>1</td>\n",
       "      <td>0</td>\n",
       "      <td>0</td>\n",
       "      <td>1</td>\n",
       "    </tr>\n",
       "    <tr>\n",
       "      <th>8</th>\n",
       "      <td>27.0</td>\n",
       "      <td>0</td>\n",
       "      <td>2</td>\n",
       "      <td>11.1333</td>\n",
       "      <td>0</td>\n",
       "      <td>0</td>\n",
       "      <td>0</td>\n",
       "      <td>1</td>\n",
       "      <td>0</td>\n",
       "      <td>0</td>\n",
       "      <td>1</td>\n",
       "    </tr>\n",
       "    <tr>\n",
       "      <th>9</th>\n",
       "      <td>14.0</td>\n",
       "      <td>1</td>\n",
       "      <td>0</td>\n",
       "      <td>30.0708</td>\n",
       "      <td>0</td>\n",
       "      <td>0</td>\n",
       "      <td>1</td>\n",
       "      <td>0</td>\n",
       "      <td>1</td>\n",
       "      <td>0</td>\n",
       "      <td>0</td>\n",
       "    </tr>\n",
       "  </tbody>\n",
       "</table>\n",
       "</div>"
      ],
      "text/plain": [
       "    Age  SibSp  Parch     Fare  isMale  Pclass_1  Pclass_2  Pclass_3  \\\n",
       "0  22.0      1      0   7.2500       1         0         0         1   \n",
       "1  38.0      1      0  71.2833       0         1         0         0   \n",
       "2  26.0      0      0   7.9250       0         0         0         1   \n",
       "3  35.0      1      0  53.1000       0         1         0         0   \n",
       "4  35.0      0      0   8.0500       1         0         0         1   \n",
       "5   NaN      0      0   8.4583       1         0         0         1   \n",
       "6  54.0      0      0  51.8625       1         1         0         0   \n",
       "7   2.0      3      1  21.0750       1         0         0         1   \n",
       "8  27.0      0      2  11.1333       0         0         0         1   \n",
       "9  14.0      1      0  30.0708       0         0         1         0   \n",
       "\n",
       "   Embarked_C  Embarked_Q  Embarked_S  \n",
       "0           0           0           1  \n",
       "1           1           0           0  \n",
       "2           0           0           1  \n",
       "3           0           0           1  \n",
       "4           0           0           1  \n",
       "5           0           1           0  \n",
       "6           0           0           1  \n",
       "7           0           0           1  \n",
       "8           0           0           1  \n",
       "9           1           0           0  "
      ]
     },
     "execution_count": 16,
     "metadata": {},
     "output_type": "execute_result"
    }
   ],
   "source": [
    "X_train.head(10)"
   ]
  },
  {
   "cell_type": "markdown",
   "metadata": {},
   "source": [
    "### Заполнение пустых значений"
   ]
  },
  {
   "cell_type": "markdown",
   "metadata": {},
   "source": [
    "заполним пустые значения средними по соответственным признакам"
   ]
  },
  {
   "cell_type": "code",
   "execution_count": 17,
   "metadata": {},
   "outputs": [],
   "source": [
    "from sklearn.preprocessing import Imputer"
   ]
  },
  {
   "cell_type": "code",
   "execution_count": 18,
   "metadata": {},
   "outputs": [],
   "source": [
    "imputer = Imputer(missing_values='NaN', strategy='mean', axis=0, verbose=0, copy=True)"
   ]
  },
  {
   "cell_type": "code",
   "execution_count": 19,
   "metadata": {
    "scrolled": true
   },
   "outputs": [
    {
     "data": {
      "text/plain": [
       "Imputer(axis=0, copy=True, missing_values='NaN', strategy='mean', verbose=0)"
      ]
     },
     "execution_count": 19,
     "metadata": {},
     "output_type": "execute_result"
    }
   ],
   "source": [
    "imputer.fit(X_train)"
   ]
  },
  {
   "cell_type": "code",
   "execution_count": 20,
   "metadata": {},
   "outputs": [],
   "source": [
    "X_train_imputed = imputer.transform(X_train)\n",
    "X_train_imputed = pd.DataFrame(X_train_imputed, columns=columns)"
   ]
  },
  {
   "cell_type": "code",
   "execution_count": 21,
   "metadata": {},
   "outputs": [
    {
     "data": {
      "text/html": [
       "<div>\n",
       "<style scoped>\n",
       "    .dataframe tbody tr th:only-of-type {\n",
       "        vertical-align: middle;\n",
       "    }\n",
       "\n",
       "    .dataframe tbody tr th {\n",
       "        vertical-align: top;\n",
       "    }\n",
       "\n",
       "    .dataframe thead th {\n",
       "        text-align: right;\n",
       "    }\n",
       "</style>\n",
       "<table border=\"1\" class=\"dataframe\">\n",
       "  <thead>\n",
       "    <tr style=\"text-align: right;\">\n",
       "      <th></th>\n",
       "      <th>Age</th>\n",
       "      <th>SibSp</th>\n",
       "      <th>Parch</th>\n",
       "      <th>Fare</th>\n",
       "      <th>isMale</th>\n",
       "      <th>Pclass_1</th>\n",
       "      <th>Pclass_2</th>\n",
       "      <th>Pclass_3</th>\n",
       "      <th>Embarked_C</th>\n",
       "      <th>Embarked_Q</th>\n",
       "      <th>Embarked_S</th>\n",
       "    </tr>\n",
       "  </thead>\n",
       "  <tbody>\n",
       "    <tr>\n",
       "      <th>0</th>\n",
       "      <td>22.000000</td>\n",
       "      <td>1.0</td>\n",
       "      <td>0.0</td>\n",
       "      <td>7.2500</td>\n",
       "      <td>1.0</td>\n",
       "      <td>0.0</td>\n",
       "      <td>0.0</td>\n",
       "      <td>1.0</td>\n",
       "      <td>0.0</td>\n",
       "      <td>0.0</td>\n",
       "      <td>1.0</td>\n",
       "    </tr>\n",
       "    <tr>\n",
       "      <th>1</th>\n",
       "      <td>38.000000</td>\n",
       "      <td>1.0</td>\n",
       "      <td>0.0</td>\n",
       "      <td>71.2833</td>\n",
       "      <td>0.0</td>\n",
       "      <td>1.0</td>\n",
       "      <td>0.0</td>\n",
       "      <td>0.0</td>\n",
       "      <td>1.0</td>\n",
       "      <td>0.0</td>\n",
       "      <td>0.0</td>\n",
       "    </tr>\n",
       "    <tr>\n",
       "      <th>2</th>\n",
       "      <td>26.000000</td>\n",
       "      <td>0.0</td>\n",
       "      <td>0.0</td>\n",
       "      <td>7.9250</td>\n",
       "      <td>0.0</td>\n",
       "      <td>0.0</td>\n",
       "      <td>0.0</td>\n",
       "      <td>1.0</td>\n",
       "      <td>0.0</td>\n",
       "      <td>0.0</td>\n",
       "      <td>1.0</td>\n",
       "    </tr>\n",
       "    <tr>\n",
       "      <th>3</th>\n",
       "      <td>35.000000</td>\n",
       "      <td>1.0</td>\n",
       "      <td>0.0</td>\n",
       "      <td>53.1000</td>\n",
       "      <td>0.0</td>\n",
       "      <td>1.0</td>\n",
       "      <td>0.0</td>\n",
       "      <td>0.0</td>\n",
       "      <td>0.0</td>\n",
       "      <td>0.0</td>\n",
       "      <td>1.0</td>\n",
       "    </tr>\n",
       "    <tr>\n",
       "      <th>4</th>\n",
       "      <td>35.000000</td>\n",
       "      <td>0.0</td>\n",
       "      <td>0.0</td>\n",
       "      <td>8.0500</td>\n",
       "      <td>1.0</td>\n",
       "      <td>0.0</td>\n",
       "      <td>0.0</td>\n",
       "      <td>1.0</td>\n",
       "      <td>0.0</td>\n",
       "      <td>0.0</td>\n",
       "      <td>1.0</td>\n",
       "    </tr>\n",
       "    <tr>\n",
       "      <th>5</th>\n",
       "      <td>29.699118</td>\n",
       "      <td>0.0</td>\n",
       "      <td>0.0</td>\n",
       "      <td>8.4583</td>\n",
       "      <td>1.0</td>\n",
       "      <td>0.0</td>\n",
       "      <td>0.0</td>\n",
       "      <td>1.0</td>\n",
       "      <td>0.0</td>\n",
       "      <td>1.0</td>\n",
       "      <td>0.0</td>\n",
       "    </tr>\n",
       "    <tr>\n",
       "      <th>6</th>\n",
       "      <td>54.000000</td>\n",
       "      <td>0.0</td>\n",
       "      <td>0.0</td>\n",
       "      <td>51.8625</td>\n",
       "      <td>1.0</td>\n",
       "      <td>1.0</td>\n",
       "      <td>0.0</td>\n",
       "      <td>0.0</td>\n",
       "      <td>0.0</td>\n",
       "      <td>0.0</td>\n",
       "      <td>1.0</td>\n",
       "    </tr>\n",
       "    <tr>\n",
       "      <th>7</th>\n",
       "      <td>2.000000</td>\n",
       "      <td>3.0</td>\n",
       "      <td>1.0</td>\n",
       "      <td>21.0750</td>\n",
       "      <td>1.0</td>\n",
       "      <td>0.0</td>\n",
       "      <td>0.0</td>\n",
       "      <td>1.0</td>\n",
       "      <td>0.0</td>\n",
       "      <td>0.0</td>\n",
       "      <td>1.0</td>\n",
       "    </tr>\n",
       "    <tr>\n",
       "      <th>8</th>\n",
       "      <td>27.000000</td>\n",
       "      <td>0.0</td>\n",
       "      <td>2.0</td>\n",
       "      <td>11.1333</td>\n",
       "      <td>0.0</td>\n",
       "      <td>0.0</td>\n",
       "      <td>0.0</td>\n",
       "      <td>1.0</td>\n",
       "      <td>0.0</td>\n",
       "      <td>0.0</td>\n",
       "      <td>1.0</td>\n",
       "    </tr>\n",
       "    <tr>\n",
       "      <th>9</th>\n",
       "      <td>14.000000</td>\n",
       "      <td>1.0</td>\n",
       "      <td>0.0</td>\n",
       "      <td>30.0708</td>\n",
       "      <td>0.0</td>\n",
       "      <td>0.0</td>\n",
       "      <td>1.0</td>\n",
       "      <td>0.0</td>\n",
       "      <td>1.0</td>\n",
       "      <td>0.0</td>\n",
       "      <td>0.0</td>\n",
       "    </tr>\n",
       "  </tbody>\n",
       "</table>\n",
       "</div>"
      ],
      "text/plain": [
       "         Age  SibSp  Parch     Fare  isMale  Pclass_1  Pclass_2  Pclass_3  \\\n",
       "0  22.000000    1.0    0.0   7.2500     1.0       0.0       0.0       1.0   \n",
       "1  38.000000    1.0    0.0  71.2833     0.0       1.0       0.0       0.0   \n",
       "2  26.000000    0.0    0.0   7.9250     0.0       0.0       0.0       1.0   \n",
       "3  35.000000    1.0    0.0  53.1000     0.0       1.0       0.0       0.0   \n",
       "4  35.000000    0.0    0.0   8.0500     1.0       0.0       0.0       1.0   \n",
       "5  29.699118    0.0    0.0   8.4583     1.0       0.0       0.0       1.0   \n",
       "6  54.000000    0.0    0.0  51.8625     1.0       1.0       0.0       0.0   \n",
       "7   2.000000    3.0    1.0  21.0750     1.0       0.0       0.0       1.0   \n",
       "8  27.000000    0.0    2.0  11.1333     0.0       0.0       0.0       1.0   \n",
       "9  14.000000    1.0    0.0  30.0708     0.0       0.0       1.0       0.0   \n",
       "\n",
       "   Embarked_C  Embarked_Q  Embarked_S  \n",
       "0         0.0         0.0         1.0  \n",
       "1         1.0         0.0         0.0  \n",
       "2         0.0         0.0         1.0  \n",
       "3         0.0         0.0         1.0  \n",
       "4         0.0         0.0         1.0  \n",
       "5         0.0         1.0         0.0  \n",
       "6         0.0         0.0         1.0  \n",
       "7         0.0         0.0         1.0  \n",
       "8         0.0         0.0         1.0  \n",
       "9         1.0         0.0         0.0  "
      ]
     },
     "execution_count": 21,
     "metadata": {},
     "output_type": "execute_result"
    }
   ],
   "source": [
    "X_train_imputed.head(10)"
   ]
  },
  {
   "cell_type": "markdown",
   "metadata": {},
   "source": [
    "### Нормировка значений"
   ]
  },
  {
   "cell_type": "code",
   "execution_count": 22,
   "metadata": {},
   "outputs": [],
   "source": [
    "from sklearn.preprocessing import StandardScaler"
   ]
  },
  {
   "cell_type": "code",
   "execution_count": 23,
   "metadata": {},
   "outputs": [],
   "source": [
    "scaler = StandardScaler()"
   ]
  },
  {
   "cell_type": "code",
   "execution_count": 24,
   "metadata": {},
   "outputs": [
    {
     "data": {
      "text/plain": [
       "StandardScaler(copy=True, with_mean=True, with_std=True)"
      ]
     },
     "execution_count": 24,
     "metadata": {},
     "output_type": "execute_result"
    }
   ],
   "source": [
    "scaler.fit(X_train_imputed)"
   ]
  },
  {
   "cell_type": "code",
   "execution_count": 25,
   "metadata": {},
   "outputs": [],
   "source": [
    "X_train_imputed_scaled = scaler.transform(X_train_imputed)\n",
    "X_train_imputed_scaled = pd.DataFrame(X_train_imputed_scaled, columns=columns)"
   ]
  },
  {
   "cell_type": "code",
   "execution_count": 26,
   "metadata": {},
   "outputs": [
    {
     "data": {
      "text/html": [
       "<div>\n",
       "<style scoped>\n",
       "    .dataframe tbody tr th:only-of-type {\n",
       "        vertical-align: middle;\n",
       "    }\n",
       "\n",
       "    .dataframe tbody tr th {\n",
       "        vertical-align: top;\n",
       "    }\n",
       "\n",
       "    .dataframe thead th {\n",
       "        text-align: right;\n",
       "    }\n",
       "</style>\n",
       "<table border=\"1\" class=\"dataframe\">\n",
       "  <thead>\n",
       "    <tr style=\"text-align: right;\">\n",
       "      <th></th>\n",
       "      <th>Age</th>\n",
       "      <th>SibSp</th>\n",
       "      <th>Parch</th>\n",
       "      <th>Fare</th>\n",
       "      <th>isMale</th>\n",
       "      <th>Pclass_1</th>\n",
       "      <th>Pclass_2</th>\n",
       "      <th>Pclass_3</th>\n",
       "      <th>Embarked_C</th>\n",
       "      <th>Embarked_Q</th>\n",
       "      <th>Embarked_S</th>\n",
       "    </tr>\n",
       "  </thead>\n",
       "  <tbody>\n",
       "    <tr>\n",
       "      <th>0</th>\n",
       "      <td>-0.592481</td>\n",
       "      <td>0.432793</td>\n",
       "      <td>-0.473674</td>\n",
       "      <td>-0.502445</td>\n",
       "      <td>0.737695</td>\n",
       "      <td>-0.565685</td>\n",
       "      <td>-0.510152</td>\n",
       "      <td>0.902587</td>\n",
       "      <td>-0.482043</td>\n",
       "      <td>-0.307562</td>\n",
       "      <td>0.619306</td>\n",
       "    </tr>\n",
       "    <tr>\n",
       "      <th>1</th>\n",
       "      <td>0.638789</td>\n",
       "      <td>0.432793</td>\n",
       "      <td>-0.473674</td>\n",
       "      <td>0.786845</td>\n",
       "      <td>-1.355574</td>\n",
       "      <td>1.767767</td>\n",
       "      <td>-0.510152</td>\n",
       "      <td>-1.107926</td>\n",
       "      <td>2.074505</td>\n",
       "      <td>-0.307562</td>\n",
       "      <td>-1.614710</td>\n",
       "    </tr>\n",
       "    <tr>\n",
       "      <th>2</th>\n",
       "      <td>-0.284663</td>\n",
       "      <td>-0.474545</td>\n",
       "      <td>-0.473674</td>\n",
       "      <td>-0.488854</td>\n",
       "      <td>-1.355574</td>\n",
       "      <td>-0.565685</td>\n",
       "      <td>-0.510152</td>\n",
       "      <td>0.902587</td>\n",
       "      <td>-0.482043</td>\n",
       "      <td>-0.307562</td>\n",
       "      <td>0.619306</td>\n",
       "    </tr>\n",
       "    <tr>\n",
       "      <th>3</th>\n",
       "      <td>0.407926</td>\n",
       "      <td>0.432793</td>\n",
       "      <td>-0.473674</td>\n",
       "      <td>0.420730</td>\n",
       "      <td>-1.355574</td>\n",
       "      <td>1.767767</td>\n",
       "      <td>-0.510152</td>\n",
       "      <td>-1.107926</td>\n",
       "      <td>-0.482043</td>\n",
       "      <td>-0.307562</td>\n",
       "      <td>0.619306</td>\n",
       "    </tr>\n",
       "    <tr>\n",
       "      <th>4</th>\n",
       "      <td>0.407926</td>\n",
       "      <td>-0.474545</td>\n",
       "      <td>-0.473674</td>\n",
       "      <td>-0.486337</td>\n",
       "      <td>0.737695</td>\n",
       "      <td>-0.565685</td>\n",
       "      <td>-0.510152</td>\n",
       "      <td>0.902587</td>\n",
       "      <td>-0.482043</td>\n",
       "      <td>-0.307562</td>\n",
       "      <td>0.619306</td>\n",
       "    </tr>\n",
       "    <tr>\n",
       "      <th>5</th>\n",
       "      <td>0.000000</td>\n",
       "      <td>-0.474545</td>\n",
       "      <td>-0.473674</td>\n",
       "      <td>-0.478116</td>\n",
       "      <td>0.737695</td>\n",
       "      <td>-0.565685</td>\n",
       "      <td>-0.510152</td>\n",
       "      <td>0.902587</td>\n",
       "      <td>-0.482043</td>\n",
       "      <td>3.251373</td>\n",
       "      <td>-1.614710</td>\n",
       "    </tr>\n",
       "    <tr>\n",
       "      <th>6</th>\n",
       "      <td>1.870059</td>\n",
       "      <td>-0.474545</td>\n",
       "      <td>-0.473674</td>\n",
       "      <td>0.395814</td>\n",
       "      <td>0.737695</td>\n",
       "      <td>1.767767</td>\n",
       "      <td>-0.510152</td>\n",
       "      <td>-1.107926</td>\n",
       "      <td>-0.482043</td>\n",
       "      <td>-0.307562</td>\n",
       "      <td>0.619306</td>\n",
       "    </tr>\n",
       "    <tr>\n",
       "      <th>7</th>\n",
       "      <td>-2.131568</td>\n",
       "      <td>2.247470</td>\n",
       "      <td>0.767630</td>\n",
       "      <td>-0.224083</td>\n",
       "      <td>0.737695</td>\n",
       "      <td>-0.565685</td>\n",
       "      <td>-0.510152</td>\n",
       "      <td>0.902587</td>\n",
       "      <td>-0.482043</td>\n",
       "      <td>-0.307562</td>\n",
       "      <td>0.619306</td>\n",
       "    </tr>\n",
       "    <tr>\n",
       "      <th>8</th>\n",
       "      <td>-0.207709</td>\n",
       "      <td>-0.474545</td>\n",
       "      <td>2.008933</td>\n",
       "      <td>-0.424256</td>\n",
       "      <td>-1.355574</td>\n",
       "      <td>-0.565685</td>\n",
       "      <td>-0.510152</td>\n",
       "      <td>0.902587</td>\n",
       "      <td>-0.482043</td>\n",
       "      <td>-0.307562</td>\n",
       "      <td>0.619306</td>\n",
       "    </tr>\n",
       "    <tr>\n",
       "      <th>9</th>\n",
       "      <td>-1.208115</td>\n",
       "      <td>0.432793</td>\n",
       "      <td>-0.473674</td>\n",
       "      <td>-0.042956</td>\n",
       "      <td>-1.355574</td>\n",
       "      <td>-0.565685</td>\n",
       "      <td>1.960202</td>\n",
       "      <td>-1.107926</td>\n",
       "      <td>2.074505</td>\n",
       "      <td>-0.307562</td>\n",
       "      <td>-1.614710</td>\n",
       "    </tr>\n",
       "  </tbody>\n",
       "</table>\n",
       "</div>"
      ],
      "text/plain": [
       "        Age     SibSp     Parch      Fare    isMale  Pclass_1  Pclass_2  \\\n",
       "0 -0.592481  0.432793 -0.473674 -0.502445  0.737695 -0.565685 -0.510152   \n",
       "1  0.638789  0.432793 -0.473674  0.786845 -1.355574  1.767767 -0.510152   \n",
       "2 -0.284663 -0.474545 -0.473674 -0.488854 -1.355574 -0.565685 -0.510152   \n",
       "3  0.407926  0.432793 -0.473674  0.420730 -1.355574  1.767767 -0.510152   \n",
       "4  0.407926 -0.474545 -0.473674 -0.486337  0.737695 -0.565685 -0.510152   \n",
       "5  0.000000 -0.474545 -0.473674 -0.478116  0.737695 -0.565685 -0.510152   \n",
       "6  1.870059 -0.474545 -0.473674  0.395814  0.737695  1.767767 -0.510152   \n",
       "7 -2.131568  2.247470  0.767630 -0.224083  0.737695 -0.565685 -0.510152   \n",
       "8 -0.207709 -0.474545  2.008933 -0.424256 -1.355574 -0.565685 -0.510152   \n",
       "9 -1.208115  0.432793 -0.473674 -0.042956 -1.355574 -0.565685  1.960202   \n",
       "\n",
       "   Pclass_3  Embarked_C  Embarked_Q  Embarked_S  \n",
       "0  0.902587   -0.482043   -0.307562    0.619306  \n",
       "1 -1.107926    2.074505   -0.307562   -1.614710  \n",
       "2  0.902587   -0.482043   -0.307562    0.619306  \n",
       "3 -1.107926   -0.482043   -0.307562    0.619306  \n",
       "4  0.902587   -0.482043   -0.307562    0.619306  \n",
       "5  0.902587   -0.482043    3.251373   -1.614710  \n",
       "6 -1.107926   -0.482043   -0.307562    0.619306  \n",
       "7  0.902587   -0.482043   -0.307562    0.619306  \n",
       "8  0.902587   -0.482043   -0.307562    0.619306  \n",
       "9 -1.107926    2.074505   -0.307562   -1.614710  "
      ]
     },
     "execution_count": 26,
     "metadata": {},
     "output_type": "execute_result"
    }
   ],
   "source": [
    "X_train_imputed_scaled.head(10)"
   ]
  },
  {
   "cell_type": "code",
   "execution_count": 27,
   "metadata": {},
   "outputs": [],
   "source": [
    "X_test_imputed_scaled = scaler.transform(imputer.transform(X_test))"
   ]
  },
  {
   "cell_type": "markdown",
   "metadata": {},
   "source": [
    "### Offtop: попробуем визуализировать всех пассажиров: есть ли там кластеры?\n",
    "### PCA + clustering"
   ]
  },
  {
   "cell_type": "code",
   "execution_count": 28,
   "metadata": {},
   "outputs": [],
   "source": [
    "from sklearn.decomposition import PCA"
   ]
  },
  {
   "cell_type": "code",
   "execution_count": 29,
   "metadata": {},
   "outputs": [],
   "source": [
    "pca = PCA(n_components=2)"
   ]
  },
  {
   "cell_type": "code",
   "execution_count": 30,
   "metadata": {},
   "outputs": [],
   "source": [
    "ppl = pca.fit_transform(X_train_imputed_scaled)"
   ]
  },
  {
   "cell_type": "markdown",
   "metadata": {},
   "source": [
    "всего 2 фичи объясняют 41% всего разнообразия пассажиров:"
   ]
  },
  {
   "cell_type": "code",
   "execution_count": 31,
   "metadata": {},
   "outputs": [
    {
     "data": {
      "text/plain": [
       "0.41017554160207315"
      ]
     },
     "execution_count": 31,
     "metadata": {},
     "output_type": "execute_result"
    }
   ],
   "source": [
    "pca.explained_variance_ratio_.sum()"
   ]
  },
  {
   "cell_type": "markdown",
   "metadata": {},
   "source": [
    "классно, видно 6 кластеров пассажиров: внутри кластера они похожи друг на друга, межу кластерами - нет:"
   ]
  },
  {
   "cell_type": "code",
   "execution_count": 37,
   "metadata": {},
   "outputs": [
    {
     "data": {
      "text/plain": [
       "Text(0.5,1,'Пассажиры Титаника')"
      ]
     },
     "execution_count": 37,
     "metadata": {},
     "output_type": "execute_result"
    },
    {
     "data": {
      "image/png": "[encoded data removed]",
      "text/plain": [
       "<Figure size 432x288 with 1 Axes>"
      ]
     },
     "metadata": {
      "image/png": {
       "height": 263,
       "width": 372
      }
     },
     "output_type": "display_data"
    }
   ],
   "source": [
    "plt.plot(ppl[:,0], ppl[:,1], 'ro', alpha=0.1)\n",
    "plt.title('Пассажиры Титаника')"
   ]
  },
  {
   "cell_type": "markdown",
   "metadata": {},
   "source": [
    "можно попробовать кластеризовать по 7 кластерам и проверить, что получится:"
   ]
  },
  {
   "cell_type": "code",
   "execution_count": 38,
   "metadata": {},
   "outputs": [],
   "source": [
    "from sklearn.cluster import KMeans"
   ]
  },
  {
   "cell_type": "code",
   "execution_count": 39,
   "metadata": {},
   "outputs": [],
   "source": [
    "n_clusters = 7"
   ]
  },
  {
   "cell_type": "code",
   "execution_count": 40,
   "metadata": {},
   "outputs": [],
   "source": [
    "kmeans = KMeans(n_clusters=n_clusters)"
   ]
  },
  {
   "cell_type": "code",
   "execution_count": 41,
   "metadata": {},
   "outputs": [
    {
     "data": {
      "text/plain": [
       "KMeans(algorithm='auto', copy_x=True, init='k-means++', max_iter=300,\n",
       "    n_clusters=7, n_init=10, n_jobs=1, precompute_distances='auto',\n",
       "    random_state=None, tol=0.0001, verbose=0)"
      ]
     },
     "execution_count": 41,
     "metadata": {},
     "output_type": "execute_result"
    }
   ],
   "source": [
    "kmeans.fit(X_train_imputed_scaled)"
   ]
  },
  {
   "cell_type": "code",
   "execution_count": 42,
   "metadata": {},
   "outputs": [],
   "source": [
    "cluster_labels = kmeans.predict(X_train_imputed_scaled)"
   ]
  },
  {
   "cell_type": "code",
   "execution_count": 45,
   "metadata": {},
   "outputs": [
    {
     "data": {
      "text/plain": [
       "array([1, 2, 1, 4, 1, 5, 4, 0, 1, 6, 1, 4, 1, 0, 1, 3, 5, 3, 1, 6, 3, 3,\n",
       "       5, 4, 0, 0, 6, 4, 5, 1, 2, 2, 5, 3, 2, 4, 6, 1, 1, 6, 1, 3, 6, 6,\n",
       "       5, 1, 5, 5, 6, 1, 0, 1, 2, 3, 2, 4, 3, 6, 3, 0, 6, 4, 4, 0, 2, 6,\n",
       "       3, 1, 0, 1, 3, 0, 3, 6, 1, 1, 1, 1, 3, 1, 1, 1, 5, 4, 3, 1, 0, 1,\n",
       "       4, 1, 1, 1, 4, 1, 1, 1, 2, 2, 3, 3, 1, 1, 4, 1, 1, 1, 1, 1, 1, 5,\n",
       "       4, 6, 1, 1, 6, 1, 5, 3, 2, 0, 3, 1, 6, 3, 4, 6, 5, 1, 6, 1, 6, 1,\n",
       "       1, 3, 3, 6, 4, 4, 1, 2, 6, 1, 1, 5, 3, 3, 1, 0, 3, 3, 3, 4, 1, 1,\n",
       "       1, 2, 5, 1, 1, 0, 1, 3, 1, 1, 0, 1, 4, 0, 4, 1, 4, 5, 1, 1, 2, 1,\n",
       "       0, 2, 3, 1, 0, 6, 0, 3, 1, 4, 5, 4, 5, 1, 3, 3, 1, 3, 2, 2, 5, 1,\n",
       "       5, 3, 1, 0, 1, 6, 1, 1, 1, 6, 5, 2, 1, 3, 1, 3, 5, 2, 1, 3, 2, 3,\n",
       "       1, 3, 1, 1, 4, 1, 3, 1, 3, 0, 4, 1, 3, 0, 3, 1, 3, 3, 3, 3, 6, 5,\n",
       "       3, 1, 6, 5, 1, 3, 4, 3, 1, 1, 4, 1, 1, 6, 2, 4, 2, 3, 5, 0, 4, 4,\n",
       "       5, 3, 0, 1, 4, 4, 4, 1, 3, 2, 5, 4, 1, 3, 5, 1, 5, 1, 1, 1, 4, 6,\n",
       "       1, 1, 3, 5, 4, 2, 6, 1, 1, 2, 6, 4, 4, 2, 5, 5, 1, 5, 1, 4, 2, 2,\n",
       "       6, 2, 2, 2, 3, 1, 3, 1, 3, 3, 4, 2, 1, 1, 5, 3, 0, 2, 1, 3, 1, 2,\n",
       "       5, 4, 4, 1, 4, 1, 4, 2, 1, 4, 3, 4, 3, 3, 3, 3, 3, 1, 1, 1, 1, 4,\n",
       "       6, 1, 6, 1, 4, 3, 5, 5, 0, 6, 6, 1, 5, 1, 2, 6, 5, 2, 2, 1, 1, 2,\n",
       "       0, 2, 1, 2, 6, 1, 2, 6, 1, 4, 1, 3, 0, 3, 5, 6, 4, 1, 1, 2, 1, 1,\n",
       "       1, 3, 3, 3, 1, 1, 1, 1, 1, 3, 1, 3, 1, 0, 1, 5, 5, 3, 1, 1, 3, 3,\n",
       "       3, 1, 6, 5, 1, 1, 1, 1, 3, 3, 5, 1, 4, 1, 3, 1, 4, 4, 0, 0, 4, 3,\n",
       "       3, 1, 1, 3, 1, 4, 3, 4, 6, 4, 3, 1, 2, 2, 1, 6, 4, 4, 3, 5, 4, 1,\n",
       "       4, 3, 1, 1, 3, 4, 5, 6, 1, 1, 3, 6, 1, 4, 3, 1, 1, 1, 0, 3, 1, 1,\n",
       "       2, 0, 4, 2, 1, 1, 1, 1, 4, 2, 1, 6, 2, 1, 4, 1, 1, 5, 5, 1, 4, 2,\n",
       "       3, 4, 1, 1, 5, 1, 4, 2, 1, 4, 3, 5, 3, 1, 4, 1, 6, 2, 6, 5, 3, 4,\n",
       "       1, 3, 3, 6, 6, 6, 1, 3, 4, 2, 1, 2, 4, 0, 0, 3, 2, 4, 3, 6, 1, 3,\n",
       "       2, 3, 5, 6, 1, 4, 2, 2, 4, 1, 5, 1, 3, 1, 1, 1, 1, 0, 6, 1, 3, 4,\n",
       "       4, 5, 1, 1, 3, 4, 6, 1, 3, 2, 3, 2, 6, 4, 3, 2, 1, 1, 1, 2, 1, 5,\n",
       "       3, 1, 3, 1, 6, 2, 3, 1, 4, 1, 2, 1, 1, 4, 6, 4, 0, 1, 5, 5, 1, 3,\n",
       "       1, 1, 3, 3, 6, 4, 6, 1, 1, 4, 5, 4, 1, 5, 4, 1, 2, 4, 0, 3, 1, 3,\n",
       "       0, 1, 1, 2, 0, 1, 6, 2, 1, 2, 1, 1, 1, 3, 1, 5, 5, 3, 1, 5, 3, 2,\n",
       "       4, 6, 4, 1, 1, 3, 3, 1, 1, 4, 3, 4, 3, 3, 3, 1, 1, 1, 0, 2, 5, 2,\n",
       "       1, 0, 3, 6, 0, 1, 1, 4, 4, 6, 1, 6, 4, 3, 1, 5, 2, 1, 2, 4, 6, 5,\n",
       "       1, 3, 3, 4, 4, 6, 2, 4, 4, 1, 3, 1, 2, 3, 5, 1, 3, 1, 3, 3, 4, 1,\n",
       "       3, 5, 3, 1, 4, 6, 3, 3, 3, 1, 0, 2, 1, 1, 4, 4, 2, 1, 1, 4, 1, 3,\n",
       "       4, 5, 3, 1, 1, 1, 3, 3, 1, 3, 1, 4, 1, 1, 6, 4, 1, 4, 2, 5, 5, 1,\n",
       "       1, 1, 3, 6, 3, 1, 5, 1, 5, 4, 6, 4, 4, 1, 1, 1, 1, 5, 0, 2, 5, 3,\n",
       "       0, 2, 1, 3, 4, 1, 6, 1, 3, 3, 4, 6, 1, 1, 4, 1, 3, 4, 1, 1, 3, 0,\n",
       "       1, 4, 1, 6, 1, 0, 4, 1, 4, 1, 0, 5, 1, 6, 5, 4, 6, 3, 6, 1, 1, 2,\n",
       "       1, 1, 1, 2, 1, 3, 2, 6, 1, 1, 0, 6, 3, 2, 0, 1, 6, 4, 3, 1, 4, 4,\n",
       "       6, 6, 1, 3, 4, 0, 3, 3, 6, 4, 1, 1, 1, 4, 4, 1, 6, 6, 1, 1, 1, 2,\n",
       "       3, 1, 1, 3, 1, 5, 3, 4, 0, 2, 5])"
      ]
     },
     "execution_count": 45,
     "metadata": {},
     "output_type": "execute_result"
    }
   ],
   "source": [
    "cluster_labels"
   ]
  },
  {
   "cell_type": "code",
   "execution_count": 49,
   "metadata": {},
   "outputs": [
    {
     "data": {
      "image/png": "[encoded data removed]",
      "text/plain": [
       "<matplotlib.figure.Figure at 0x2057092f080>"
      ]
     },
     "metadata": {
      "image/png": {
       "height": 372,
       "width": 540
      }
     },
     "output_type": "display_data"
    }
   ],
   "source": [
    "plt.title('Пассажиры Титаника')\n",
    "for i,color in zip(range(n_clusters),{'blue','red','green','black','orange','yellow'}):\n",
    "    t = ppl[cluster_labels==i]\n",
    "    plt.plot(t[:,0], t[:,1], 'ro', alpha=0.1, c=color)"
   ]
  },
  {
   "cell_type": "markdown",
   "metadata": {},
   "source": [
    "эти номера кластеров можно было бы подать как ещё одна фича"
   ]
  },
  {
   "cell_type": "markdown",
   "metadata": {},
   "source": [
    "### Разделение на обучающую и тестирующую выборки"
   ]
  },
  {
   "cell_type": "code",
   "execution_count": 32,
   "metadata": {},
   "outputs": [],
   "source": [
    "from sklearn.model_selection import train_test_split"
   ]
  },
  {
   "cell_type": "code",
   "execution_count": 33,
   "metadata": {},
   "outputs": [],
   "source": [
    "X_train_fin, X_val, y_train_fin, y_val = train_test_split(X_train_imputed_scaled, y_train, test_size=0.2)"
   ]
  },
  {
   "cell_type": "code",
   "execution_count": 34,
   "metadata": {},
   "outputs": [
    {
     "data": {
      "text/plain": [
       "(712, 11)"
      ]
     },
     "execution_count": 34,
     "metadata": {},
     "output_type": "execute_result"
    }
   ],
   "source": [
    "X_train_fin.shape"
   ]
  },
  {
   "cell_type": "code",
   "execution_count": 35,
   "metadata": {
    "scrolled": true
   },
   "outputs": [
    {
     "data": {
      "text/plain": [
       "(179, 11)"
      ]
     },
     "execution_count": 35,
     "metadata": {},
     "output_type": "execute_result"
    }
   ],
   "source": [
    "X_val.shape"
   ]
  },
  {
   "cell_type": "code",
   "execution_count": 36,
   "metadata": {},
   "outputs": [
    {
     "data": {
      "text/plain": [
       "(418, 11)"
      ]
     },
     "execution_count": 36,
     "metadata": {},
     "output_type": "execute_result"
    }
   ],
   "source": [
    "X_test_imputed_scaled.shape"
   ]
  },
  {
   "cell_type": "code",
   "execution_count": 37,
   "metadata": {},
   "outputs": [
    {
     "data": {
      "text/plain": [
       "(712,)"
      ]
     },
     "execution_count": 37,
     "metadata": {},
     "output_type": "execute_result"
    }
   ],
   "source": [
    "y_train_fin.shape"
   ]
  },
  {
   "cell_type": "code",
   "execution_count": 38,
   "metadata": {},
   "outputs": [
    {
     "data": {
      "text/plain": [
       "(179,)"
      ]
     },
     "execution_count": 38,
     "metadata": {},
     "output_type": "execute_result"
    }
   ],
   "source": [
    "y_val.shape"
   ]
  },
  {
   "cell_type": "markdown",
   "metadata": {},
   "source": [
    "### Обучение с кросс-валидацией"
   ]
  },
  {
   "cell_type": "markdown",
   "metadata": {},
   "source": [
    "кросс-валидация поможет нам подобрать лучший параметр регуляризации"
   ]
  },
  {
   "cell_type": "code",
   "execution_count": 39,
   "metadata": {},
   "outputs": [],
   "source": [
    "from sklearn.model_selection import GridSearchCV\n",
    "from sklearn.tree import DecisionTreeClassifier"
   ]
  },
  {
   "cell_type": "code",
   "execution_count": 40,
   "metadata": {},
   "outputs": [],
   "source": [
    "grid = {\"max_depth\": range(1,30),\n",
    "        'max_features': range(4,len(X_train_fin.columns)+1),\n",
    "              \"criterion\": [\"gini\", \"entropy\"]}"
   ]
  },
  {
   "cell_type": "code",
   "execution_count": 41,
   "metadata": {},
   "outputs": [],
   "source": [
    "gridsearch =  GridSearchCV(DecisionTreeClassifier(random_state=121), grid, scoring='neg_log_loss', cv=5)"
   ]
  },
  {
   "cell_type": "code",
   "execution_count": 42,
   "metadata": {
    "scrolled": false
   },
   "outputs": [
    {
     "name": "stdout",
     "output_type": "stream",
     "text": [
      "Wall time: 15.7 s\n"
     ]
    },
    {
     "data": {
      "text/plain": [
       "GridSearchCV(cv=5, error_score='raise',\n",
       "       estimator=DecisionTreeClassifier(class_weight=None, criterion='gini', max_depth=None,\n",
       "            max_features=None, max_leaf_nodes=None,\n",
       "            min_impurity_decrease=0.0, min_impurity_split=None,\n",
       "            min_samples_leaf=1, min_samples_split=2,\n",
       "            min_weight_fraction_leaf=0.0, presort=False, random_state=121,\n",
       "            splitter='best'),\n",
       "       fit_params=None, iid=True, n_jobs=1,\n",
       "       param_grid={'max_depth': range(1, 30), 'max_features': range(4, 12), 'criterion': ['gini', 'entropy']},\n",
       "       pre_dispatch='2*n_jobs', refit=True, return_train_score='warn',\n",
       "       scoring='neg_log_loss', verbose=0)"
      ]
     },
     "execution_count": 42,
     "metadata": {},
     "output_type": "execute_result"
    }
   ],
   "source": [
    "%%time\n",
    "gridsearch.fit(X_train_fin, y_train_fin)"
   ]
  },
  {
   "cell_type": "code",
   "execution_count": 114,
   "metadata": {},
   "outputs": [
    {
     "name": "stderr",
     "output_type": "stream",
     "text": [
      "C:\\Users\\viktoria.sinditskaya\\AppData\\Local\\Continuum\\anaconda3\\lib\\site-packages\\sklearn\\model_selection\\_search.py:761: DeprecationWarning: The grid_scores_ attribute was deprecated in version 0.18 in favor of the more elaborate cv_results_ attribute. The grid_scores_ attribute will not be available from 0.20\n",
      "  DeprecationWarning)\n"
     ]
    },
    {
     "data": {
      "text/plain": [
       "[mean: -0.46069, std: 0.03930, params: {'criterion': 'entropy', 'max_depth': 2, 'max_features': 7},\n",
       " mean: -0.46069, std: 0.03930, params: {'criterion': 'entropy', 'max_depth': 2, 'max_features': 8},\n",
       " mean: -0.46069, std: 0.03930, params: {'criterion': 'entropy', 'max_depth': 2, 'max_features': 9},\n",
       " mean: -0.46069, std: 0.03930, params: {'criterion': 'entropy', 'max_depth': 2, 'max_features': 10},\n",
       " mean: -0.46069, std: 0.03930, params: {'criterion': 'entropy', 'max_depth': 2, 'max_features': 11},\n",
       " mean: -0.46275, std: 0.04177, params: {'criterion': 'gini', 'max_depth': 2, 'max_features': 7},\n",
       " mean: -0.46275, std: 0.04177, params: {'criterion': 'gini', 'max_depth': 2, 'max_features': 8},\n",
       " mean: -0.46275, std: 0.04177, params: {'criterion': 'gini', 'max_depth': 2, 'max_features': 9},\n",
       " mean: -0.46275, std: 0.04177, params: {'criterion': 'gini', 'max_depth': 2, 'max_features': 10},\n",
       " mean: -0.46275, std: 0.04177, params: {'criterion': 'gini', 'max_depth': 2, 'max_features': 11},\n",
       " mean: -0.47768, std: 0.08402, params: {'criterion': 'entropy', 'max_depth': 3, 'max_features': 6},\n",
       " mean: -0.48772, std: 0.05184, params: {'criterion': 'gini', 'max_depth': 2, 'max_features': 5},\n",
       " mean: -0.48772, std: 0.05184, params: {'criterion': 'gini', 'max_depth': 2, 'max_features': 6},\n",
       " mean: -0.48799, std: 0.09523, params: {'criterion': 'entropy', 'max_depth': 3, 'max_features': 5},\n",
       " mean: -0.48806, std: 0.09522, params: {'criterion': 'gini', 'max_depth': 3, 'max_features': 5},\n",
       " mean: -0.48968, std: 0.05389, params: {'criterion': 'entropy', 'max_depth': 2, 'max_features': 5},\n",
       " mean: -0.49284, std: 0.05521, params: {'criterion': 'gini', 'max_depth': 2, 'max_features': 4},\n",
       " mean: -0.49318, std: 0.04822, params: {'criterion': 'entropy', 'max_depth': 2, 'max_features': 6},\n",
       " mean: -0.49479, std: 0.05696, params: {'criterion': 'entropy', 'max_depth': 2, 'max_features': 4},\n",
       " mean: -0.52140, std: 0.05183, params: {'criterion': 'gini', 'max_depth': 1, 'max_features': 4},\n",
       " mean: -0.52140, std: 0.05183, params: {'criterion': 'gini', 'max_depth': 1, 'max_features': 5},\n",
       " mean: -0.52140, std: 0.05183, params: {'criterion': 'gini', 'max_depth': 1, 'max_features': 6},\n",
       " mean: -0.52140, std: 0.05183, params: {'criterion': 'gini', 'max_depth': 1, 'max_features': 7},\n",
       " mean: -0.52140, std: 0.05183, params: {'criterion': 'gini', 'max_depth': 1, 'max_features': 8},\n",
       " mean: -0.52140, std: 0.05183, params: {'criterion': 'gini', 'max_depth': 1, 'max_features': 9},\n",
       " mean: -0.52140, std: 0.05183, params: {'criterion': 'gini', 'max_depth': 1, 'max_features': 10},\n",
       " mean: -0.52140, std: 0.05183, params: {'criterion': 'gini', 'max_depth': 1, 'max_features': 11},\n",
       " mean: -0.52140, std: 0.05183, params: {'criterion': 'entropy', 'max_depth': 1, 'max_features': 4},\n",
       " mean: -0.52140, std: 0.05183, params: {'criterion': 'entropy', 'max_depth': 1, 'max_features': 5},\n",
       " mean: -0.52140, std: 0.05183, params: {'criterion': 'entropy', 'max_depth': 1, 'max_features': 6},\n",
       " mean: -0.52140, std: 0.05183, params: {'criterion': 'entropy', 'max_depth': 1, 'max_features': 7},\n",
       " mean: -0.52140, std: 0.05183, params: {'criterion': 'entropy', 'max_depth': 1, 'max_features': 8},\n",
       " mean: -0.52140, std: 0.05183, params: {'criterion': 'entropy', 'max_depth': 1, 'max_features': 9},\n",
       " mean: -0.52140, std: 0.05183, params: {'criterion': 'entropy', 'max_depth': 1, 'max_features': 10},\n",
       " mean: -0.52140, std: 0.05183, params: {'criterion': 'entropy', 'max_depth': 1, 'max_features': 11},\n",
       " mean: -0.53702, std: 0.21539, params: {'criterion': 'gini', 'max_depth': 3, 'max_features': 7},\n",
       " mean: -0.54132, std: 0.06882, params: {'criterion': 'entropy', 'max_depth': 3, 'max_features': 4},\n",
       " mean: -0.54952, std: 0.07276, params: {'criterion': 'gini', 'max_depth': 3, 'max_features': 4},\n",
       " mean: -0.56334, std: 0.09931, params: {'criterion': 'gini', 'max_depth': 3, 'max_features': 6},\n",
       " mean: -0.57441, std: 0.21807, params: {'criterion': 'gini', 'max_depth': 3, 'max_features': 10},\n",
       " mean: -0.57441, std: 0.21807, params: {'criterion': 'gini', 'max_depth': 3, 'max_features': 11},\n",
       " mean: -0.57498, std: 0.21777, params: {'criterion': 'gini', 'max_depth': 3, 'max_features': 8},\n",
       " mean: -0.58005, std: 0.22013, params: {'criterion': 'gini', 'max_depth': 3, 'max_features': 9},\n",
       " mean: -0.65004, std: 0.13963, params: {'criterion': 'entropy', 'max_depth': 4, 'max_features': 6},\n",
       " mean: -0.66219, std: 0.10205, params: {'criterion': 'gini', 'max_depth': 4, 'max_features': 4},\n",
       " mean: -0.66789, std: 0.11228, params: {'criterion': 'entropy', 'max_depth': 4, 'max_features': 4},\n",
       " mean: -0.72128, std: 0.19865, params: {'criterion': 'entropy', 'max_depth': 3, 'max_features': 10},\n",
       " mean: -0.72128, std: 0.19865, params: {'criterion': 'entropy', 'max_depth': 3, 'max_features': 11},\n",
       " mean: -0.72185, std: 0.19792, params: {'criterion': 'entropy', 'max_depth': 3, 'max_features': 8},\n",
       " mean: -0.72307, std: 0.19851, params: {'criterion': 'entropy', 'max_depth': 3, 'max_features': 7},\n",
       " mean: -0.72364, std: 0.19777, params: {'criterion': 'entropy', 'max_depth': 3, 'max_features': 9},\n",
       " mean: -0.73631, std: 0.12428, params: {'criterion': 'entropy', 'max_depth': 5, 'max_features': 4},\n",
       " mean: -0.78016, std: 0.31475, params: {'criterion': 'entropy', 'max_depth': 4, 'max_features': 5},\n",
       " mean: -0.79116, std: 0.21657, params: {'criterion': 'entropy', 'max_depth': 4, 'max_features': 8},\n",
       " mean: -0.79403, std: 0.31622, params: {'criterion': 'gini', 'max_depth': 4, 'max_features': 8},\n",
       " mean: -0.79495, std: 0.30911, params: {'criterion': 'gini', 'max_depth': 4, 'max_features': 7},\n",
       " mean: -0.82216, std: 0.29392, params: {'criterion': 'gini', 'max_depth': 4, 'max_features': 5},\n",
       " mean: -0.82964, std: 0.24221, params: {'criterion': 'gini', 'max_depth': 5, 'max_features': 4},\n",
       " mean: -0.87120, std: 0.26602, params: {'criterion': 'gini', 'max_depth': 4, 'max_features': 6},\n",
       " mean: -0.88826, std: 0.31677, params: {'criterion': 'gini', 'max_depth': 4, 'max_features': 10},\n",
       " mean: -0.92872, std: 0.41434, params: {'criterion': 'entropy', 'max_depth': 4, 'max_features': 9},\n",
       " mean: -0.93402, std: 0.41529, params: {'criterion': 'gini', 'max_depth': 4, 'max_features': 9},\n",
       " mean: -0.93543, std: 0.35643, params: {'criterion': 'gini', 'max_depth': 4, 'max_features': 11},\n",
       " mean: -1.00605, std: 0.18104, params: {'criterion': 'gini', 'max_depth': 5, 'max_features': 5},\n",
       " mean: -1.00690, std: 0.32565, params: {'criterion': 'gini', 'max_depth': 5, 'max_features': 6},\n",
       " mean: -1.01780, std: 0.24009, params: {'criterion': 'entropy', 'max_depth': 4, 'max_features': 11},\n",
       " mean: -1.07135, std: 0.28113, params: {'criterion': 'entropy', 'max_depth': 4, 'max_features': 7},\n",
       " mean: -1.11387, std: 0.23424, params: {'criterion': 'entropy', 'max_depth': 4, 'max_features': 10},\n",
       " mean: -1.14318, std: 0.19762, params: {'criterion': 'entropy', 'max_depth': 5, 'max_features': 5},\n",
       " mean: -1.20652, std: 0.41162, params: {'criterion': 'entropy', 'max_depth': 6, 'max_features': 4},\n",
       " mean: -1.24381, std: 0.34851, params: {'criterion': 'gini', 'max_depth': 6, 'max_features': 4},\n",
       " mean: -1.28781, std: 0.28511, params: {'criterion': 'entropy', 'max_depth': 5, 'max_features': 11},\n",
       " mean: -1.30853, std: 0.36984, params: {'criterion': 'gini', 'max_depth': 5, 'max_features': 10},\n",
       " mean: -1.32921, std: 0.37018, params: {'criterion': 'gini', 'max_depth': 6, 'max_features': 6},\n",
       " mean: -1.33374, std: 0.37326, params: {'criterion': 'entropy', 'max_depth': 5, 'max_features': 9},\n",
       " mean: -1.33894, std: 0.32299, params: {'criterion': 'entropy', 'max_depth': 5, 'max_features': 10},\n",
       " mean: -1.45174, std: 0.41878, params: {'criterion': 'gini', 'max_depth': 5, 'max_features': 11},\n",
       " mean: -1.48033, std: 0.44742, params: {'criterion': 'entropy', 'max_depth': 5, 'max_features': 7},\n",
       " mean: -1.51862, std: 0.30373, params: {'criterion': 'entropy', 'max_depth': 6, 'max_features': 6},\n",
       " mean: -1.52782, std: 0.41058, params: {'criterion': 'entropy', 'max_depth': 5, 'max_features': 6},\n",
       " mean: -1.54242, std: 0.20794, params: {'criterion': 'gini', 'max_depth': 5, 'max_features': 9},\n",
       " mean: -1.55395, std: 0.63062, params: {'criterion': 'entropy', 'max_depth': 5, 'max_features': 8},\n",
       " mean: -1.60744, std: 0.58521, params: {'criterion': 'gini', 'max_depth': 6, 'max_features': 8},\n",
       " mean: -1.61402, std: 0.53995, params: {'criterion': 'gini', 'max_depth': 5, 'max_features': 8},\n",
       " mean: -1.64509, std: 0.40390, params: {'criterion': 'gini', 'max_depth': 5, 'max_features': 7},\n",
       " mean: -1.67254, std: 0.35645, params: {'criterion': 'gini', 'max_depth': 6, 'max_features': 5},\n",
       " mean: -1.70545, std: 0.59176, params: {'criterion': 'gini', 'max_depth': 7, 'max_features': 5},\n",
       " mean: -1.75072, std: 0.59100, params: {'criterion': 'entropy', 'max_depth': 6, 'max_features': 5},\n",
       " mean: -1.75311, std: 0.55353, params: {'criterion': 'gini', 'max_depth': 6, 'max_features': 7},\n",
       " mean: -1.77819, std: 0.28249, params: {'criterion': 'entropy', 'max_depth': 6, 'max_features': 11},\n",
       " mean: -1.83314, std: 0.58756, params: {'criterion': 'entropy', 'max_depth': 6, 'max_features': 8},\n",
       " mean: -1.84680, std: 0.37871, params: {'criterion': 'gini', 'max_depth': 7, 'max_features': 6},\n",
       " mean: -1.87470, std: 0.73778, params: {'criterion': 'entropy', 'max_depth': 7, 'max_features': 5},\n",
       " mean: -1.88839, std: 0.22127, params: {'criterion': 'entropy', 'max_depth': 6, 'max_features': 7},\n",
       " mean: -1.97405, std: 0.59149, params: {'criterion': 'entropy', 'max_depth': 6, 'max_features': 9},\n",
       " mean: -1.97884, std: 0.47241, params: {'criterion': 'entropy', 'max_depth': 6, 'max_features': 10},\n",
       " mean: -2.07842, std: 0.18637, params: {'criterion': 'gini', 'max_depth': 6, 'max_features': 11},\n",
       " mean: -2.08477, std: 0.47782, params: {'criterion': 'gini', 'max_depth': 6, 'max_features': 9},\n",
       " mean: -2.12009, std: 0.22797, params: {'criterion': 'gini', 'max_depth': 6, 'max_features': 10},\n",
       " mean: -2.14503, std: 0.61702, params: {'criterion': 'gini', 'max_depth': 7, 'max_features': 9},\n",
       " mean: -2.14628, std: 0.36422, params: {'criterion': 'entropy', 'max_depth': 7, 'max_features': 4},\n",
       " mean: -2.16880, std: 0.54941, params: {'criterion': 'entropy', 'max_depth': 7, 'max_features': 11},\n",
       " mean: -2.19287, std: 0.62848, params: {'criterion': 'entropy', 'max_depth': 7, 'max_features': 8},\n",
       " mean: -2.25561, std: 0.41943, params: {'criterion': 'entropy', 'max_depth': 7, 'max_features': 9},\n",
       " mean: -2.35312, std: 0.17847, params: {'criterion': 'gini', 'max_depth': 7, 'max_features': 4},\n",
       " mean: -2.38580, std: 0.48760, params: {'criterion': 'entropy', 'max_depth': 7, 'max_features': 7},\n",
       " mean: -2.39171, std: 0.91554, params: {'criterion': 'entropy', 'max_depth': 7, 'max_features': 6},\n",
       " mean: -2.43815, std: 0.33245, params: {'criterion': 'gini', 'max_depth': 7, 'max_features': 11},\n",
       " mean: -2.45921, std: 0.71103, params: {'criterion': 'entropy', 'max_depth': 8, 'max_features': 6},\n",
       " mean: -2.50731, std: 0.60679, params: {'criterion': 'entropy', 'max_depth': 7, 'max_features': 10},\n",
       " mean: -2.52440, std: 0.72314, params: {'criterion': 'entropy', 'max_depth': 8, 'max_features': 11},\n",
       " mean: -2.55962, std: 0.67106, params: {'criterion': 'gini', 'max_depth': 7, 'max_features': 8},\n",
       " mean: -2.61946, std: 0.51961, params: {'criterion': 'gini', 'max_depth': 7, 'max_features': 10},\n",
       " mean: -2.62978, std: 0.61037, params: {'criterion': 'entropy', 'max_depth': 8, 'max_features': 9},\n",
       " mean: -2.69210, std: 0.36196, params: {'criterion': 'gini', 'max_depth': 8, 'max_features': 4},\n",
       " mean: -2.76396, std: 1.12955, params: {'criterion': 'entropy', 'max_depth': 8, 'max_features': 4},\n",
       " mean: -2.88426, std: 0.98058, params: {'criterion': 'entropy', 'max_depth': 8, 'max_features': 5},\n",
       " mean: -2.98542, std: 0.78615, params: {'criterion': 'entropy', 'max_depth': 9, 'max_features': 4},\n",
       " mean: -3.06591, std: 0.33852, params: {'criterion': 'entropy', 'max_depth': 8, 'max_features': 7},\n",
       " mean: -3.09037, std: 0.59858, params: {'criterion': 'gini', 'max_depth': 7, 'max_features': 7},\n",
       " mean: -3.13975, std: 1.16304, params: {'criterion': 'gini', 'max_depth': 8, 'max_features': 5},\n",
       " mean: -3.19779, std: 1.19198, params: {'criterion': 'entropy', 'max_depth': 8, 'max_features': 8},\n",
       " mean: -3.20716, std: 0.65727, params: {'criterion': 'gini', 'max_depth': 8, 'max_features': 8},\n",
       " mean: -3.24224, std: 0.46171, params: {'criterion': 'entropy', 'max_depth': 9, 'max_features': 5},\n",
       " mean: -3.25653, std: 0.50251, params: {'criterion': 'entropy', 'max_depth': 8, 'max_features': 10},\n",
       " mean: -3.29307, std: 0.60180, params: {'criterion': 'gini', 'max_depth': 8, 'max_features': 9},\n",
       " mean: -3.44073, std: 0.19047, params: {'criterion': 'gini', 'max_depth': 8, 'max_features': 10},\n",
       " mean: -3.46613, std: 0.84914, params: {'criterion': 'entropy', 'max_depth': 9, 'max_features': 10},\n",
       " mean: -3.50111, std: 0.33829, params: {'criterion': 'gini', 'max_depth': 8, 'max_features': 6},\n",
       " mean: -3.50159, std: 0.27856, params: {'criterion': 'gini', 'max_depth': 8, 'max_features': 7},\n",
       " mean: -3.53101, std: 0.26473, params: {'criterion': 'gini', 'max_depth': 8, 'max_features': 11},\n",
       " mean: -3.54735, std: 0.82362, params: {'criterion': 'entropy', 'max_depth': 9, 'max_features': 8},\n",
       " mean: -3.56275, std: 0.94354, params: {'criterion': 'entropy', 'max_depth': 9, 'max_features': 11},\n",
       " mean: -3.58918, std: 1.09654, params: {'criterion': 'gini', 'max_depth': 9, 'max_features': 5},\n",
       " mean: -3.77246, std: 0.54076, params: {'criterion': 'gini', 'max_depth': 9, 'max_features': 6},\n",
       " mean: -3.79636, std: 0.71464, params: {'criterion': 'entropy', 'max_depth': 9, 'max_features': 7},\n",
       " mean: -3.79864, std: 0.87346, params: {'criterion': 'entropy', 'max_depth': 9, 'max_features': 9},\n",
       " mean: -3.80710, std: 0.75178, params: {'criterion': 'entropy', 'max_depth': 10, 'max_features': 11},\n",
       " mean: -3.88832, std: 0.45326, params: {'criterion': 'gini', 'max_depth': 9, 'max_features': 9},\n",
       " mean: -3.89333, std: 0.47806, params: {'criterion': 'gini', 'max_depth': 9, 'max_features': 7},\n",
       " mean: -3.91845, std: 1.15187, params: {'criterion': 'entropy', 'max_depth': 10, 'max_features': 4},\n",
       " mean: -3.97077, std: 0.21097, params: {'criterion': 'gini', 'max_depth': 9, 'max_features': 4},\n",
       " mean: -4.07464, std: 1.18880, params: {'criterion': 'entropy', 'max_depth': 10, 'max_features': 5},\n",
       " mean: -4.11391, std: 1.02499, params: {'criterion': 'gini', 'max_depth': 10, 'max_features': 8},\n",
       " mean: -4.12981, std: 0.50304, params: {'criterion': 'gini', 'max_depth': 9, 'max_features': 10},\n",
       " mean: -4.14087, std: 0.90852, params: {'criterion': 'entropy', 'max_depth': 9, 'max_features': 6},\n",
       " mean: -4.24907, std: 0.79675, params: {'criterion': 'entropy', 'max_depth': 10, 'max_features': 6},\n",
       " mean: -4.25576, std: 0.76241, params: {'criterion': 'entropy', 'max_depth': 10, 'max_features': 8},\n",
       " mean: -4.29746, std: 0.73573, params: {'criterion': 'entropy', 'max_depth': 11, 'max_features': 9},\n",
       " mean: -4.30665, std: 0.77822, params: {'criterion': 'gini', 'max_depth': 9, 'max_features': 8},\n",
       " mean: -4.34536, std: 0.95050, params: {'criterion': 'gini', 'max_depth': 10, 'max_features': 4},\n",
       " mean: -4.37099, std: 0.71405, params: {'criterion': 'entropy', 'max_depth': 11, 'max_features': 11},\n",
       " mean: -4.42987, std: 1.92383, params: {'criterion': 'gini', 'max_depth': 11, 'max_features': 5},\n",
       " mean: -4.45123, std: 0.74221, params: {'criterion': 'entropy', 'max_depth': 10, 'max_features': 9},\n",
       " mean: -4.46826, std: 0.32125, params: {'criterion': 'entropy', 'max_depth': 10, 'max_features': 7},\n",
       " mean: -4.54250, std: 0.87629, params: {'criterion': 'entropy', 'max_depth': 11, 'max_features': 8},\n",
       " mean: -4.57808, std: 0.57388, params: {'criterion': 'gini', 'max_depth': 9, 'max_features': 11},\n",
       " mean: -4.60188, std: 0.85920, params: {'criterion': 'entropy', 'max_depth': 12, 'max_features': 8},\n",
       " mean: -4.65904, std: 0.75201, params: {'criterion': 'entropy', 'max_depth': 12, 'max_features': 7},\n",
       " mean: -4.75632, std: 0.32809, params: {'criterion': 'gini', 'max_depth': 10, 'max_features': 5},\n",
       " mean: -4.76660, std: 0.55861, params: {'criterion': 'entropy', 'max_depth': 11, 'max_features': 10},\n",
       " mean: -4.77431, std: 1.36799, params: {'criterion': 'entropy', 'max_depth': 10, 'max_features': 10},\n",
       " mean: -4.81697, std: 0.29359, params: {'criterion': 'entropy', 'max_depth': 11, 'max_features': 7},\n",
       " mean: -4.82652, std: 1.85244, params: {'criterion': 'entropy', 'max_depth': 11, 'max_features': 5},\n",
       " mean: -4.84844, std: 0.91891, params: {'criterion': 'entropy', 'max_depth': 12, 'max_features': 9},\n",
       " mean: -4.85402, std: 1.97239, params: {'criterion': 'entropy', 'max_depth': 12, 'max_features': 5},\n",
       " mean: -4.86407, std: 1.22497, params: {'criterion': 'gini', 'max_depth': 10, 'max_features': 6},\n",
       " mean: -4.86981, std: 0.48740, params: {'criterion': 'gini', 'max_depth': 10, 'max_features': 7},\n",
       " mean: -4.89401, std: 0.89681, params: {'criterion': 'gini', 'max_depth': 11, 'max_features': 4},\n",
       " mean: -4.91241, std: 1.00754, params: {'criterion': 'entropy', 'max_depth': 11, 'max_features': 4},\n",
       " mean: -5.05556, std: 0.89325, params: {'criterion': 'entropy', 'max_depth': 13, 'max_features': 8},\n",
       " mean: -5.08860, std: 0.93728, params: {'criterion': 'gini', 'max_depth': 11, 'max_features': 8},\n",
       " mean: -5.15902, std: 1.11879, params: {'criterion': 'gini', 'max_depth': 12, 'max_features': 5},\n",
       " mean: -5.18441, std: 1.19996, params: {'criterion': 'gini', 'max_depth': 10, 'max_features': 9},\n",
       " mean: -5.18902, std: 1.75977, params: {'criterion': 'entropy', 'max_depth': 11, 'max_features': 6},\n",
       " mean: -5.20461, std: 0.87969, params: {'criterion': 'gini', 'max_depth': 11, 'max_features': 6},\n",
       " mean: -5.26305, std: 0.56217, params: {'criterion': 'gini', 'max_depth': 10, 'max_features': 11},\n",
       " mean: -5.26706, std: 1.68336, params: {'criterion': 'entropy', 'max_depth': 13, 'max_features': 6},\n",
       " mean: -5.27883, std: 0.80245, params: {'criterion': 'gini', 'max_depth': 10, 'max_features': 10},\n",
       " mean: -5.35410, std: 0.98029, params: {'criterion': 'entropy', 'max_depth': 13, 'max_features': 4},\n",
       " mean: -5.43689, std: 1.10293, params: {'criterion': 'entropy', 'max_depth': 12, 'max_features': 10},\n",
       " mean: -5.45550, std: 0.32610, params: {'criterion': 'gini', 'max_depth': 11, 'max_features': 7},\n",
       " mean: -5.65835, std: 1.06530, params: {'criterion': 'entropy', 'max_depth': 12, 'max_features': 4},\n",
       " mean: -5.66410, std: 0.78120, params: {'criterion': 'gini', 'max_depth': 12, 'max_features': 4},\n",
       " mean: -5.67402, std: 1.40895, params: {'criterion': 'entropy', 'max_depth': 12, 'max_features': 6},\n",
       " mean: -5.70756, std: 1.09549, params: {'criterion': 'entropy', 'max_depth': 13, 'max_features': 7},\n",
       " mean: -5.72324, std: 0.55229, params: {'criterion': 'gini', 'max_depth': 11, 'max_features': 9},\n",
       " mean: -5.73550, std: 1.10022, params: {'criterion': 'entropy', 'max_depth': 12, 'max_features': 11},\n",
       " mean: -5.76414, std: 0.97568, params: {'criterion': 'entropy', 'max_depth': 16, 'max_features': 7},\n",
       " mean: -5.76464, std: 0.61981, params: {'criterion': 'gini', 'max_depth': 12, 'max_features': 8},\n",
       " mean: -5.78572, std: 1.78848, params: {'criterion': 'entropy', 'max_depth': 13, 'max_features': 5},\n",
       " mean: -5.79758, std: 1.18247, params: {'criterion': 'gini', 'max_depth': 12, 'max_features': 9},\n",
       " mean: -5.86178, std: 1.23060, params: {'criterion': 'entropy', 'max_depth': 14, 'max_features': 5},\n",
       " mean: -5.90281, std: 1.74241, params: {'criterion': 'entropy', 'max_depth': 14, 'max_features': 8},\n",
       " mean: -5.90567, std: 0.87306, params: {'criterion': 'entropy', 'max_depth': 14, 'max_features': 9},\n",
       " mean: -5.91185, std: 0.83939, params: {'criterion': 'gini', 'max_depth': 12, 'max_features': 7},\n",
       " mean: -5.91576, std: 1.00467, params: {'criterion': 'entropy', 'max_depth': 13, 'max_features': 11},\n",
       " mean: -5.91621, std: 0.96930, params: {'criterion': 'entropy', 'max_depth': 17, 'max_features': 9},\n",
       " mean: -5.92072, std: 0.29516, params: {'criterion': 'gini', 'max_depth': 11, 'max_features': 10},\n",
       " mean: -5.94628, std: 1.23264, params: {'criterion': 'entropy', 'max_depth': 14, 'max_features': 11},\n",
       " mean: -5.95491, std: 0.92153, params: {'criterion': 'entropy', 'max_depth': 14, 'max_features': 10},\n",
       " mean: -5.95805, std: 0.77244, params: {'criterion': 'entropy', 'max_depth': 13, 'max_features': 10},\n",
       " mean: -5.95838, std: 0.50106, params: {'criterion': 'gini', 'max_depth': 11, 'max_features': 11},\n",
       " mean: -5.98900, std: 1.47426, params: {'criterion': 'entropy', 'max_depth': 16, 'max_features': 8},\n",
       " mean: -5.99051, std: 0.93475, params: {'criterion': 'entropy', 'max_depth': 15, 'max_features': 9},\n",
       " mean: -6.01537, std: 0.88774, params: {'criterion': 'entropy', 'max_depth': 13, 'max_features': 9},\n",
       " mean: -6.04090, std: 1.94553, params: {'criterion': 'gini', 'max_depth': 14, 'max_features': 5},\n",
       " mean: -6.05450, std: 1.01822, params: {'criterion': 'entropy', 'max_depth': 14, 'max_features': 6},\n",
       " mean: -6.06207, std: 1.39356, params: {'criterion': 'entropy', 'max_depth': 15, 'max_features': 5},\n",
       " mean: -6.08991, std: 0.69714, params: {'criterion': 'entropy', 'max_depth': 15, 'max_features': 6},\n",
       " mean: -6.18816, std: 0.90427, params: {'criterion': 'entropy', 'max_depth': 14, 'max_features': 7},\n",
       " mean: -6.22226, std: 1.01710, params: {'criterion': 'entropy', 'max_depth': 16, 'max_features': 10},\n",
       " mean: -6.22285, std: 1.59513, params: {'criterion': 'entropy', 'max_depth': 15, 'max_features': 7},\n",
       " mean: -6.25693, std: 0.82297, params: {'criterion': 'entropy', 'max_depth': 18, 'max_features': 9},\n",
       " mean: -6.26783, std: 1.31222, params: {'criterion': 'entropy', 'max_depth': 15, 'max_features': 11},\n",
       " mean: -6.29008, std: 1.25238, params: {'criterion': 'gini', 'max_depth': 14, 'max_features': 7},\n",
       " mean: -6.30682, std: 1.46966, params: {'criterion': 'gini', 'max_depth': 13, 'max_features': 5},\n",
       " mean: -6.31296, std: 0.79686, params: {'criterion': 'entropy', 'max_depth': 16, 'max_features': 9},\n",
       " mean: -6.32619, std: 0.45748, params: {'criterion': 'gini', 'max_depth': 12, 'max_features': 10},\n",
       " mean: -6.37557, std: 1.60990, params: {'criterion': 'entropy', 'max_depth': 15, 'max_features': 8},\n",
       " mean: -6.42038, std: 1.03437, params: {'criterion': 'gini', 'max_depth': 13, 'max_features': 4},\n",
       " mean: -6.42107, std: 0.63621, params: {'criterion': 'gini', 'max_depth': 12, 'max_features': 11},\n",
       " mean: -6.43243, std: 1.18742, params: {'criterion': 'entropy', 'max_depth': 14, 'max_features': 4},\n",
       " mean: -6.44125, std: 1.29256, params: {'criterion': 'entropy', 'max_depth': 18, 'max_features': 11},\n",
       " mean: -6.46344, std: 0.49395, params: {'criterion': 'gini', 'max_depth': 13, 'max_features': 9},\n",
       " mean: -6.48187, std: 1.20153, params: {'criterion': 'entropy', 'max_depth': 20, 'max_features': 11},\n",
       " mean: -6.49125, std: 0.52103, params: {'criterion': 'entropy', 'max_depth': 20, 'max_features': 9},\n",
       " mean: -6.52715, std: 1.25345, params: {'criterion': 'entropy', 'max_depth': 19, 'max_features': 11},\n",
       " mean: -6.56641, std: 1.06941, params: {'criterion': 'gini', 'max_depth': 14, 'max_features': 10},\n",
       " mean: -6.57051, std: 1.17202, params: {'criterion': 'entropy', 'max_depth': 21, 'max_features': 11},\n",
       " mean: -6.58172, std: 0.83279, params: {'criterion': 'entropy', 'max_depth': 16, 'max_features': 6},\n",
       " mean: -6.58948, std: 1.18127, params: {'criterion': 'entropy', 'max_depth': 17, 'max_features': 11},\n",
       " mean: -6.59847, std: 0.34812, params: {'criterion': 'gini', 'max_depth': 15, 'max_features': 9},\n",
       " mean: -6.60232, std: 1.21409, params: {'criterion': 'entropy', 'max_depth': 15, 'max_features': 10},\n",
       " mean: -6.63538, std: 1.27873, params: {'criterion': 'entropy', 'max_depth': 18, 'max_features': 8},\n",
       " mean: -6.64748, std: 0.44833, params: {'criterion': 'gini', 'max_depth': 14, 'max_features': 9},\n",
       " mean: -6.66062, std: 1.39207, params: {'criterion': 'gini', 'max_depth': 18, 'max_features': 8},\n",
       " mean: -6.69341, std: 1.10449, params: {'criterion': 'gini', 'max_depth': 12, 'max_features': 6},\n",
       " mean: -6.70338, std: 1.07473, params: {'criterion': 'entropy', 'max_depth': 16, 'max_features': 11},\n",
       " mean: -6.70789, std: 1.50752, params: {'criterion': 'entropy', 'max_depth': 16, 'max_features': 5},\n",
       " mean: -6.73007, std: 0.95789, params: {'criterion': 'entropy', 'max_depth': 20, 'max_features': 10},\n",
       " mean: -6.73149, std: 0.59809, params: {'criterion': 'gini', 'max_depth': 14, 'max_features': 11},\n",
       " mean: -6.73882, std: 1.24947, params: {'criterion': 'gini', 'max_depth': 15, 'max_features': 7},\n",
       " mean: -6.75907, std: 1.14120, params: {'criterion': 'gini', 'max_depth': 13, 'max_features': 10},\n",
       " mean: -6.76047, std: 0.69845, params: {'criterion': 'gini', 'max_depth': 13, 'max_features': 8},\n",
       " mean: -6.76358, std: 1.28058, params: {'criterion': 'gini', 'max_depth': 13, 'max_features': 6},\n",
       " mean: -6.76497, std: 0.99851, params: {'criterion': 'entropy', 'max_depth': 15, 'max_features': 4},\n",
       " mean: -6.79033, std: 1.00481, params: {'criterion': 'entropy', 'max_depth': 16, 'max_features': 4},\n",
       " mean: -6.81353, std: 1.25692, params: {'criterion': 'gini', 'max_depth': 17, 'max_features': 8},\n",
       " mean: -6.83136, std: 1.05755, params: {'criterion': 'entropy', 'max_depth': 19, 'max_features': 10},\n",
       " mean: -6.84807, std: 0.74188, params: {'criterion': 'gini', 'max_depth': 13, 'max_features': 11},\n",
       " mean: -6.84819, std: 1.77710, params: {'criterion': 'entropy', 'max_depth': 17, 'max_features': 8},\n",
       " mean: -6.85498, std: 1.01611, params: {'criterion': 'gini', 'max_depth': 15, 'max_features': 5},\n",
       " mean: -6.85538, std: 1.16113, params: {'criterion': 'entropy', 'max_depth': 23, 'max_features': 11},\n",
       " mean: -6.86727, std: 1.30725, params: {'criterion': 'entropy', 'max_depth': 22, 'max_features': 8},\n",
       " mean: -6.89506, std: 1.17478, params: {'criterion': 'entropy', 'max_depth': 17, 'max_features': 10},\n",
       " mean: -6.91143, std: 0.77129, params: {'criterion': 'gini', 'max_depth': 18, 'max_features': 10},\n",
       " mean: -6.92403, std: 0.43284, params: {'criterion': 'gini', 'max_depth': 16, 'max_features': 9},\n",
       " mean: -6.92842, std: 1.33144, params: {'criterion': 'entropy', 'max_depth': 18, 'max_features': 7},\n",
       " mean: -6.93653, std: 0.52585, params: {'criterion': 'entropy', 'max_depth': 17, 'max_features': 4},\n",
       " mean: -6.95363, std: 1.15553, params: {'criterion': 'entropy', 'max_depth': 22, 'max_features': 11},\n",
       " mean: -6.95400, std: 1.03599, params: {'criterion': 'gini', 'max_depth': 13, 'max_features': 7},\n",
       " mean: -6.97393, std: 1.05627, params: {'criterion': 'entropy', 'max_depth': 19, 'max_features': 8},\n",
       " mean: -6.97726, std: 1.05161, params: {'criterion': 'gini', 'max_depth': 15, 'max_features': 6},\n",
       " mean: -6.97920, std: 1.04761, params: {'criterion': 'gini', 'max_depth': 15, 'max_features': 8},\n",
       " mean: -7.00943, std: 1.17462, params: {'criterion': 'entropy', 'max_depth': 21, 'max_features': 9},\n",
       " mean: -7.00950, std: 1.07548, params: {'criterion': 'entropy', 'max_depth': 22, 'max_features': 9},\n",
       " mean: -7.01978, std: 0.73824, params: {'criterion': 'entropy', 'max_depth': 20, 'max_features': 8},\n",
       " mean: -7.02597, std: 1.37436, params: {'criterion': 'gini', 'max_depth': 14, 'max_features': 8},\n",
       " mean: -7.03074, std: 1.02474, params: {'criterion': 'entropy', 'max_depth': 18, 'max_features': 10},\n",
       " mean: -7.03374, std: 1.46467, params: {'criterion': 'gini', 'max_depth': 14, 'max_features': 6},\n",
       " mean: -7.04870, std: 1.18099, params: {'criterion': 'entropy', 'max_depth': 26, 'max_features': 11},\n",
       " mean: -7.04870, std: 1.18099, params: {'criterion': 'entropy', 'max_depth': 27, 'max_features': 11},\n",
       " mean: -7.04870, std: 1.18099, params: {'criterion': 'entropy', 'max_depth': 28, 'max_features': 11},\n",
       " mean: -7.04870, std: 1.18099, params: {'criterion': 'entropy', 'max_depth': 29, 'max_features': 11},\n",
       " mean: -7.05066, std: 1.00709, params: {'criterion': 'gini', 'max_depth': 21, 'max_features': 8},\n",
       " mean: -7.05195, std: 1.16053, params: {'criterion': 'entropy', 'max_depth': 25, 'max_features': 8},\n",
       " mean: -7.05276, std: 1.16105, params: {'criterion': 'entropy', 'max_depth': 26, 'max_features': 8},\n",
       " mean: -7.05712, std: 0.92457, params: {'criterion': 'entropy', 'max_depth': 21, 'max_features': 8},\n",
       " mean: -7.08292, std: 1.19201, params: {'criterion': 'entropy', 'max_depth': 17, 'max_features': 5},\n",
       " mean: -7.09721, std: 1.20566, params: {'criterion': 'entropy', 'max_depth': 25, 'max_features': 11},\n",
       " mean: -7.09761, std: 1.20589, params: {'criterion': 'entropy', 'max_depth': 24, 'max_features': 11},\n",
       " mean: -7.09835, std: 1.19389, params: {'criterion': 'entropy', 'max_depth': 27, 'max_features': 8},\n",
       " mean: -7.10143, std: 0.83786, params: {'criterion': 'gini', 'max_depth': 19, 'max_features': 10},\n",
       " mean: -7.14686, std: 1.23532, params: {'criterion': 'entropy', 'max_depth': 28, 'max_features': 8},\n",
       " mean: -7.14686, std: 1.23532, params: {'criterion': 'entropy', 'max_depth': 29, 'max_features': 8},\n",
       " mean: -7.14783, std: 0.89972, params: {'criterion': 'entropy', 'max_depth': 23, 'max_features': 7},\n",
       " mean: -7.14998, std: 1.10763, params: {'criterion': 'entropy', 'max_depth': 24, 'max_features': 8},\n",
       " mean: -7.15035, std: 1.28087, params: {'criterion': 'entropy', 'max_depth': 27, 'max_features': 9},\n",
       " mean: -7.15035, std: 1.28087, params: {'criterion': 'entropy', 'max_depth': 28, 'max_features': 9},\n",
       " mean: -7.15035, std: 1.28087, params: {'criterion': 'entropy', 'max_depth': 29, 'max_features': 9},\n",
       " mean: -7.15075, std: 1.28054, params: {'criterion': 'entropy', 'max_depth': 25, 'max_features': 9},\n",
       " mean: -7.15384, std: 1.06554, params: {'criterion': 'entropy', 'max_depth': 23, 'max_features': 10},\n",
       " mean: -7.15384, std: 1.06554, params: {'criterion': 'entropy', 'max_depth': 24, 'max_features': 10},\n",
       " mean: -7.15384, std: 1.06554, params: {'criterion': 'entropy', 'max_depth': 25, 'max_features': 10},\n",
       " mean: -7.15384, std: 1.06554, params: {'criterion': 'entropy', 'max_depth': 26, 'max_features': 10},\n",
       " mean: -7.15384, std: 1.06554, params: {'criterion': 'entropy', 'max_depth': 27, 'max_features': 10},\n",
       " mean: -7.15384, std: 1.06554, params: {'criterion': 'entropy', 'max_depth': 28, 'max_features': 10},\n",
       " mean: -7.15384, std: 1.06554, params: {'criterion': 'entropy', 'max_depth': 29, 'max_features': 10},\n",
       " mean: -7.16093, std: 0.92494, params: {'criterion': 'entropy', 'max_depth': 21, 'max_features': 10},\n",
       " mean: -7.20156, std: 1.11618, params: {'criterion': 'entropy', 'max_depth': 23, 'max_features': 8},\n",
       " mean: -7.20376, std: 0.49279, params: {'criterion': 'gini', 'max_depth': 19, 'max_features': 9},\n",
       " mean: -7.20664, std: 1.03170, params: {'criterion': 'entropy', 'max_depth': 22, 'max_features': 10},\n",
       " mean: -7.20777, std: 0.54046, params: {'criterion': 'gini', 'max_depth': 15, 'max_features': 11},\n",
       " mean: -7.20816, std: 0.23363, params: {'criterion': 'gini', 'max_depth': 17, 'max_features': 9},\n",
       " mean: -7.21080, std: 0.38528, params: {'criterion': 'gini', 'max_depth': 18, 'max_features': 9},\n",
       " mean: -7.21294, std: 0.47551, params: {'criterion': 'gini', 'max_depth': 16, 'max_features': 7},\n",
       " mean: -7.22969, std: 1.21936, params: {'criterion': 'entropy', 'max_depth': 19, 'max_features': 6},\n",
       " mean: -7.23401, std: 0.78240, params: {'criterion': 'entropy', 'max_depth': 17, 'max_features': 6},\n",
       " mean: -7.24281, std: 1.32366, params: {'criterion': 'gini', 'max_depth': 19, 'max_features': 8},\n",
       " mean: -7.24567, std: 0.83003, params: {'criterion': 'entropy', 'max_depth': 22, 'max_features': 7},\n",
       " mean: -7.25290, std: 0.50921, params: {'criterion': 'gini', 'max_depth': 20, 'max_features': 9},\n",
       " mean: -7.25577, std: 1.14298, params: {'criterion': 'entropy', 'max_depth': 19, 'max_features': 9},\n",
       " mean: -7.25676, std: 0.68887, params: {'criterion': 'gini', 'max_depth': 15, 'max_features': 10},\n",
       " mean: -7.26411, std: 1.05885, params: {'criterion': 'entropy', 'max_depth': 21, 'max_features': 6},\n",
       " mean: -7.26720, std: 1.09218, params: {'criterion': 'gini', 'max_depth': 16, 'max_features': 6},\n",
       " mean: -7.27700, std: 0.52998, params: {'criterion': 'gini', 'max_depth': 17, 'max_features': 6},\n",
       " mean: -7.28875, std: 0.61418, params: {'criterion': 'gini', 'max_depth': 20, 'max_features': 11},\n",
       " mean: -7.28875, std: 0.61418, params: {'criterion': 'gini', 'max_depth': 21, 'max_features': 11},\n",
       " mean: -7.28875, std: 0.61418, params: {'criterion': 'gini', 'max_depth': 22, 'max_features': 11},\n",
       " mean: -7.28875, std: 0.61418, params: {'criterion': 'gini', 'max_depth': 23, 'max_features': 11},\n",
       " mean: -7.28875, std: 0.61418, params: {'criterion': 'gini', 'max_depth': 24, 'max_features': 11},\n",
       " mean: -7.28875, std: 0.61418, params: {'criterion': 'gini', 'max_depth': 25, 'max_features': 11},\n",
       " mean: -7.28875, std: 0.61418, params: {'criterion': 'gini', 'max_depth': 26, 'max_features': 11},\n",
       " mean: -7.28875, std: 0.61418, params: {'criterion': 'gini', 'max_depth': 27, 'max_features': 11},\n",
       " mean: -7.28875, std: 0.61418, params: {'criterion': 'gini', 'max_depth': 28, 'max_features': 11},\n",
       " mean: -7.28875, std: 0.61418, params: {'criterion': 'gini', 'max_depth': 29, 'max_features': 11},\n",
       " mean: -7.29182, std: 0.79770, params: {'criterion': 'entropy', 'max_depth': 26, 'max_features': 7},\n",
       " mean: -7.29182, std: 0.79770, params: {'criterion': 'entropy', 'max_depth': 27, 'max_features': 7},\n",
       " mean: -7.29182, std: 0.79770, params: {'criterion': 'entropy', 'max_depth': 28, 'max_features': 7},\n",
       " mean: -7.29182, std: 0.79770, params: {'criterion': 'entropy', 'max_depth': 29, 'max_features': 7},\n",
       " mean: -7.29916, std: 1.40364, params: {'criterion': 'gini', 'max_depth': 21, 'max_features': 6},\n",
       " mean: -7.31513, std: 0.83341, params: {'criterion': 'entropy', 'max_depth': 17, 'max_features': 7},\n",
       " mean: -7.32953, std: 1.00643, params: {'criterion': 'entropy', 'max_depth': 18, 'max_features': 6},\n",
       " mean: -7.33840, std: 0.62353, params: {'criterion': 'gini', 'max_depth': 19, 'max_features': 11},\n",
       " mean: -7.34033, std: 0.77456, params: {'criterion': 'entropy', 'max_depth': 24, 'max_features': 7},\n",
       " mean: -7.34038, std: 1.04068, params: {'criterion': 'gini', 'max_depth': 20, 'max_features': 8},\n",
       " mean: -7.34510, std: 1.17538, params: {'criterion': 'entropy', 'max_depth': 24, 'max_features': 9},\n",
       " mean: -7.34718, std: 0.53020, params: {'criterion': 'gini', 'max_depth': 17, 'max_features': 7},\n",
       " mean: -7.34747, std: 0.78210, params: {'criterion': 'gini', 'max_depth': 16, 'max_features': 11},\n",
       " mean: -7.35160, std: 0.66425, params: {'criterion': 'gini', 'max_depth': 16, 'max_features': 10},\n",
       " mean: -7.39249, std: 0.77380, params: {'criterion': 'gini', 'max_depth': 20, 'max_features': 10},\n",
       " mean: -7.39249, std: 0.77380, params: {'criterion': 'gini', 'max_depth': 21, 'max_features': 10},\n",
       " mean: -7.39249, std: 0.77380, params: {'criterion': 'gini', 'max_depth': 22, 'max_features': 10},\n",
       " mean: -7.39249, std: 0.77380, params: {'criterion': 'gini', 'max_depth': 23, 'max_features': 10},\n",
       " mean: -7.39249, std: 0.77380, params: {'criterion': 'gini', 'max_depth': 24, 'max_features': 10},\n",
       " mean: -7.39249, std: 0.77380, params: {'criterion': 'gini', 'max_depth': 25, 'max_features': 10},\n",
       " mean: -7.39249, std: 0.77380, params: {'criterion': 'gini', 'max_depth': 26, 'max_features': 10},\n",
       " mean: -7.39249, std: 0.77380, params: {'criterion': 'gini', 'max_depth': 27, 'max_features': 10},\n",
       " mean: -7.39249, std: 0.77380, params: {'criterion': 'gini', 'max_depth': 28, 'max_features': 10},\n",
       " mean: -7.39249, std: 0.77380, params: {'criterion': 'gini', 'max_depth': 29, 'max_features': 10},\n",
       " mean: -7.39289, std: 1.16815, params: {'criterion': 'entropy', 'max_depth': 26, 'max_features': 9},\n",
       " mean: -7.39346, std: 1.16811, params: {'criterion': 'entropy', 'max_depth': 23, 'max_features': 9},\n",
       " mean: -7.39481, std: 0.71630, params: {'criterion': 'gini', 'max_depth': 17, 'max_features': 10},\n",
       " mean: -7.40275, std: 1.06029, params: {'criterion': 'gini', 'max_depth': 16, 'max_features': 8},\n",
       " mean: -7.42761, std: 1.12536, params: {'criterion': 'gini', 'max_depth': 14, 'max_features': 4},\n",
       " mean: -7.43471, std: 0.68394, params: {'criterion': 'gini', 'max_depth': 18, 'max_features': 11},\n",
       " mean: -7.43565, std: 1.09929, params: {'criterion': 'gini', 'max_depth': 22, 'max_features': 8},\n",
       " mean: -7.43565, std: 1.09929, params: {'criterion': 'gini', 'max_depth': 23, 'max_features': 8},\n",
       " mean: -7.43565, std: 1.09929, params: {'criterion': 'gini', 'max_depth': 24, 'max_features': 8},\n",
       " mean: -7.43565, std: 1.09929, params: {'criterion': 'gini', 'max_depth': 25, 'max_features': 8},\n",
       " mean: -7.43565, std: 1.09929, params: {'criterion': 'gini', 'max_depth': 26, 'max_features': 8},\n",
       " mean: -7.43565, std: 1.09929, params: {'criterion': 'gini', 'max_depth': 27, 'max_features': 8},\n",
       " mean: -7.43565, std: 1.09929, params: {'criterion': 'gini', 'max_depth': 28, 'max_features': 8},\n",
       " mean: -7.43565, std: 1.09929, params: {'criterion': 'gini', 'max_depth': 29, 'max_features': 8},\n",
       " mean: -7.43734, std: 0.76418, params: {'criterion': 'entropy', 'max_depth': 25, 'max_features': 7},\n",
       " mean: -7.44344, std: 0.53812, params: {'criterion': 'gini', 'max_depth': 21, 'max_features': 9},\n",
       " mean: -7.44762, std: 0.94914, params: {'criterion': 'entropy', 'max_depth': 24, 'max_features': 6},\n",
       " mean: -7.45001, std: 0.72670, params: {'criterion': 'entropy', 'max_depth': 19, 'max_features': 7},\n",
       " mean: -7.45795, std: 0.50695, params: {'criterion': 'entropy', 'max_depth': 18, 'max_features': 5},\n",
       " mean: -7.48745, std: 0.73052, params: {'criterion': 'entropy', 'max_depth': 21, 'max_features': 7},\n",
       " mean: -7.48782, std: 0.49531, params: {'criterion': 'gini', 'max_depth': 21, 'max_features': 7},\n",
       " mean: -7.48782, std: 0.49531, params: {'criterion': 'gini', 'max_depth': 22, 'max_features': 7},\n",
       " mean: -7.48782, std: 0.49531, params: {'criterion': 'gini', 'max_depth': 23, 'max_features': 7},\n",
       " mean: -7.48782, std: 0.49531, params: {'criterion': 'gini', 'max_depth': 24, 'max_features': 7},\n",
       " mean: -7.48782, std: 0.49531, params: {'criterion': 'gini', 'max_depth': 25, 'max_features': 7},\n",
       " mean: -7.48782, std: 0.49531, params: {'criterion': 'gini', 'max_depth': 26, 'max_features': 7},\n",
       " mean: -7.48782, std: 0.49531, params: {'criterion': 'gini', 'max_depth': 27, 'max_features': 7},\n",
       " mean: -7.48782, std: 0.49531, params: {'criterion': 'gini', 'max_depth': 28, 'max_features': 7},\n",
       " mean: -7.48782, std: 0.49531, params: {'criterion': 'gini', 'max_depth': 29, 'max_features': 7},\n",
       " mean: -7.49225, std: 0.98395, params: {'criterion': 'entropy', 'max_depth': 20, 'max_features': 7},\n",
       " mean: -7.49284, std: 1.24239, params: {'criterion': 'gini', 'max_depth': 17, 'max_features': 5},\n",
       " mean: -7.49488, std: 1.00662, params: {'criterion': 'entropy', 'max_depth': 23, 'max_features': 6},\n",
       " mean: -7.50444, std: 0.90177, params: {'criterion': 'entropy', 'max_depth': 22, 'max_features': 6},\n",
       " mean: -7.53219, std: 0.69381, params: {'criterion': 'gini', 'max_depth': 17, 'max_features': 11},\n",
       " mean: -7.54838, std: 1.26310, params: {'criterion': 'gini', 'max_depth': 18, 'max_features': 6},\n",
       " mean: -7.56148, std: 1.38854, params: {'criterion': 'gini', 'max_depth': 15, 'max_features': 4},\n",
       " mean: -7.58554, std: 1.34902, params: {'criterion': 'entropy', 'max_depth': 22, 'max_features': 5},\n",
       " mean: -7.58693, std: 1.42826, params: {'criterion': 'gini', 'max_depth': 23, 'max_features': 6},\n",
       " mean: -7.58693, std: 1.42826, params: {'criterion': 'gini', 'max_depth': 24, 'max_features': 6},\n",
       " mean: -7.58693, std: 1.42826, params: {'criterion': 'gini', 'max_depth': 25, 'max_features': 6},\n",
       " mean: -7.58693, std: 1.42826, params: {'criterion': 'gini', 'max_depth': 26, 'max_features': 6},\n",
       " mean: -7.58693, std: 1.42826, params: {'criterion': 'gini', 'max_depth': 27, 'max_features': 6},\n",
       " mean: -7.58693, std: 1.42826, params: {'criterion': 'gini', 'max_depth': 28, 'max_features': 6},\n",
       " mean: -7.58693, std: 1.42826, params: {'criterion': 'gini', 'max_depth': 29, 'max_features': 6},\n",
       " mean: -7.58853, std: 1.44775, params: {'criterion': 'entropy', 'max_depth': 23, 'max_features': 5},\n",
       " mean: -7.58939, std: 0.31302, params: {'criterion': 'entropy', 'max_depth': 20, 'max_features': 4},\n",
       " mean: -7.58991, std: 1.13304, params: {'criterion': 'entropy', 'max_depth': 26, 'max_features': 6},\n",
       " mean: -7.63392, std: 0.45532, params: {'criterion': 'gini', 'max_depth': 20, 'max_features': 7},\n",
       " mean: -7.63456, std: 0.80557, params: {'criterion': 'gini', 'max_depth': 22, 'max_features': 9},\n",
       " mean: -7.63456, std: 0.80557, params: {'criterion': 'gini', 'max_depth': 23, 'max_features': 9},\n",
       " mean: -7.63456, std: 0.80557, params: {'criterion': 'gini', 'max_depth': 24, 'max_features': 9},\n",
       " mean: -7.63456, std: 0.80557, params: {'criterion': 'gini', 'max_depth': 25, 'max_features': 9},\n",
       " mean: -7.63456, std: 0.80557, params: {'criterion': 'gini', 'max_depth': 26, 'max_features': 9},\n",
       " mean: -7.63456, std: 0.80557, params: {'criterion': 'gini', 'max_depth': 27, 'max_features': 9},\n",
       " mean: -7.63456, std: 0.80557, params: {'criterion': 'gini', 'max_depth': 28, 'max_features': 9},\n",
       " mean: -7.63456, std: 0.80557, params: {'criterion': 'gini', 'max_depth': 29, 'max_features': 9},\n",
       " mean: -7.63865, std: 1.06232, params: {'criterion': 'entropy', 'max_depth': 25, 'max_features': 6},\n",
       " mean: -7.64178, std: 0.61819, params: {'criterion': 'entropy', 'max_depth': 18, 'max_features': 4},\n",
       " mean: -7.64479, std: 1.33822, params: {'criterion': 'gini', 'max_depth': 19, 'max_features': 5},\n",
       " mean: -7.65638, std: 0.89185, params: {'criterion': 'entropy', 'max_depth': 20, 'max_features': 6},\n",
       " mean: -7.68191, std: 0.52331, params: {'criterion': 'gini', 'max_depth': 19, 'max_features': 7},\n",
       " mean: -7.68395, std: 1.46891, params: {'criterion': 'gini', 'max_depth': 22, 'max_features': 6},\n",
       " mean: -7.68728, std: 1.19452, params: {'criterion': 'entropy', 'max_depth': 27, 'max_features': 6},\n",
       " mean: -7.68950, std: 1.35110, params: {'criterion': 'gini', 'max_depth': 20, 'max_features': 6},\n",
       " mean: -7.69019, std: 1.38331, params: {'criterion': 'entropy', 'max_depth': 19, 'max_features': 5},\n",
       " mean: -7.69152, std: 0.79684, params: {'criterion': 'entropy', 'max_depth': 19, 'max_features': 4},\n",
       " mean: -7.69477, std: 1.18638, params: {'criterion': 'gini', 'max_depth': 18, 'max_features': 5},\n",
       " mean: -7.73023, std: 0.68644, params: {'criterion': 'gini', 'max_depth': 18, 'max_features': 7},\n",
       " mean: -7.73121, std: 1.31111, params: {'criterion': 'entropy', 'max_depth': 25, 'max_features': 5},\n",
       " mean: -7.73343, std: 1.23063, params: {'criterion': 'entropy', 'max_depth': 28, 'max_features': 6},\n",
       " mean: -7.73343, std: 1.23063, params: {'criterion': 'entropy', 'max_depth': 29, 'max_features': 6},\n",
       " mean: -7.73840, std: 1.17053, params: {'criterion': 'gini', 'max_depth': 19, 'max_features': 6},\n",
       " mean: -7.74840, std: 1.15014, params: {'criterion': 'gini', 'max_depth': 16, 'max_features': 5},\n",
       " mean: -7.78106, std: 1.28631, params: {'criterion': 'gini', 'max_depth': 19, 'max_features': 4},\n",
       " mean: -7.82485, std: 1.16611, params: {'criterion': 'entropy', 'max_depth': 29, 'max_features': 5},\n",
       " mean: -7.82818, std: 1.16119, params: {'criterion': 'entropy', 'max_depth': 24, 'max_features': 5},\n",
       " mean: -7.82884, std: 1.07380, params: {'criterion': 'entropy', 'max_depth': 20, 'max_features': 5},\n",
       " mean: -7.87584, std: 1.09698, params: {'criterion': 'gini', 'max_depth': 23, 'max_features': 5},\n",
       " mean: -7.87644, std: 1.22616, params: {'criterion': 'entropy', 'max_depth': 21, 'max_features': 4},\n",
       " mean: -7.92341, std: 1.10670, params: {'criterion': 'gini', 'max_depth': 27, 'max_features': 5},\n",
       " mean: -7.92341, std: 1.10670, params: {'criterion': 'gini', 'max_depth': 28, 'max_features': 5},\n",
       " mean: -7.92341, std: 1.10670, params: {'criterion': 'gini', 'max_depth': 29, 'max_features': 5},\n",
       " mean: -7.92398, std: 1.10687, params: {'criterion': 'gini', 'max_depth': 26, 'max_features': 5},\n",
       " mean: -7.92492, std: 1.10714, params: {'criterion': 'gini', 'max_depth': 21, 'max_features': 5},\n",
       " mean: -7.92531, std: 1.02613, params: {'criterion': 'entropy', 'max_depth': 26, 'max_features': 5},\n",
       " mean: -7.92619, std: 1.31403, params: {'criterion': 'gini', 'max_depth': 21, 'max_features': 4},\n",
       " mean: -7.92619, std: 1.31403, params: {'criterion': 'gini', 'max_depth': 22, 'max_features': 4},\n",
       " mean: -7.92619, std: 1.31403, params: {'criterion': 'gini', 'max_depth': 23, 'max_features': 4},\n",
       " mean: -7.92619, std: 1.31403, params: {'criterion': 'gini', 'max_depth': 24, 'max_features': 4},\n",
       " mean: -7.92619, std: 1.31403, params: {'criterion': 'gini', 'max_depth': 25, 'max_features': 4},\n",
       " mean: -7.92619, std: 1.31403, params: {'criterion': 'gini', 'max_depth': 26, 'max_features': 4},\n",
       " mean: -7.92619, std: 1.31403, params: {'criterion': 'gini', 'max_depth': 27, 'max_features': 4},\n",
       " mean: -7.92619, std: 1.31403, params: {'criterion': 'gini', 'max_depth': 28, 'max_features': 4},\n",
       " mean: -7.92619, std: 1.31403, params: {'criterion': 'gini', 'max_depth': 29, 'max_features': 4},\n",
       " mean: -7.92640, std: 1.02472, params: {'criterion': 'entropy', 'max_depth': 27, 'max_features': 5},\n",
       " mean: -7.93752, std: 1.50375, params: {'criterion': 'gini', 'max_depth': 16, 'max_features': 4},\n",
       " mean: -7.97255, std: 1.12507, params: {'criterion': 'gini', 'max_depth': 20, 'max_features': 5},\n",
       " mean: -7.97302, std: 1.12528, params: {'criterion': 'gini', 'max_depth': 22, 'max_features': 5},\n",
       " mean: -8.01970, std: 0.91574, params: {'criterion': 'entropy', 'max_depth': 28, 'max_features': 5},\n",
       " mean: -8.02080, std: 1.15094, params: {'criterion': 'gini', 'max_depth': 24, 'max_features': 5},\n",
       " mean: -8.02320, std: 1.38522, params: {'criterion': 'gini', 'max_depth': 20, 'max_features': 4},\n",
       " mean: -8.06971, std: 1.18457, params: {'criterion': 'gini', 'max_depth': 25, 'max_features': 5},\n",
       " mean: -8.11842, std: 1.03299, params: {'criterion': 'entropy', 'max_depth': 24, 'max_features': 4},\n",
       " mean: -8.11842, std: 1.03299, params: {'criterion': 'entropy', 'max_depth': 25, 'max_features': 4},\n",
       " mean: -8.11842, std: 1.03299, params: {'criterion': 'entropy', 'max_depth': 26, 'max_features': 4},\n",
       " mean: -8.11842, std: 1.03299, params: {'criterion': 'entropy', 'max_depth': 27, 'max_features': 4},\n",
       " mean: -8.11842, std: 1.03299, params: {'criterion': 'entropy', 'max_depth': 28, 'max_features': 4},\n",
       " mean: -8.11842, std: 1.03299, params: {'criterion': 'entropy', 'max_depth': 29, 'max_features': 4},\n",
       " mean: -8.12012, std: 1.49329, params: {'criterion': 'gini', 'max_depth': 18, 'max_features': 4},\n",
       " mean: -8.16456, std: 1.02669, params: {'criterion': 'entropy', 'max_depth': 21, 'max_features': 5},\n",
       " mean: -8.21685, std: 0.97262, params: {'criterion': 'entropy', 'max_depth': 22, 'max_features': 4},\n",
       " mean: -8.22449, std: 1.32053, params: {'criterion': 'gini', 'max_depth': 17, 'max_features': 4},\n",
       " mean: -8.36195, std: 0.95625, params: {'criterion': 'entropy', 'max_depth': 23, 'max_features': 4}]"
      ]
     },
     "execution_count": 114,
     "metadata": {},
     "output_type": "execute_result"
    }
   ],
   "source": [
    "sorted(gridsearch.grid_scores_, key = lambda x: -x.mean_validation_score)"
   ]
  },
  {
   "cell_type": "code",
   "execution_count": 43,
   "metadata": {},
   "outputs": [
    {
     "data": {
      "text/plain": [
       "{'criterion': 'entropy', 'max_depth': 2, 'max_features': 8}"
      ]
     },
     "execution_count": 43,
     "metadata": {},
     "output_type": "execute_result"
    }
   ],
   "source": [
    "gridsearch.best_params_"
   ]
  },
  {
   "cell_type": "code",
   "execution_count": 44,
   "metadata": {},
   "outputs": [],
   "source": [
    "best_depths = gridsearch.best_params_[\"max_depth\"]\n",
    "best_criterion = gridsearch.best_params_['criterion']\n",
    "best_features =  gridsearch.best_params_['max_features']"
   ]
  },
  {
   "cell_type": "markdown",
   "metadata": {},
   "source": [
    "# Оценка точности"
   ]
  },
  {
   "cell_type": "code",
   "execution_count": 45,
   "metadata": {},
   "outputs": [],
   "source": [
    "from sklearn.metrics import accuracy_score"
   ]
  },
  {
   "cell_type": "code",
   "execution_count": 46,
   "metadata": {},
   "outputs": [],
   "source": [
    "clf =DecisionTreeClassifier(max_features = best_features,max_depth = best_depths,criterion = best_criterion,random_state=121)"
   ]
  },
  {
   "cell_type": "code",
   "execution_count": 89,
   "metadata": {},
   "outputs": [
    {
     "data": {
      "text/plain": [
       "DecisionTreeClassifier(class_weight=None, criterion='entropy', max_depth=2,\n",
       "            max_features=8, max_leaf_nodes=None, min_impurity_decrease=0.0,\n",
       "            min_impurity_split=None, min_samples_leaf=1,\n",
       "            min_samples_split=2, min_weight_fraction_leaf=0.0,\n",
       "            presort=False, random_state=121, splitter='best')"
      ]
     },
     "execution_count": 89,
     "metadata": {},
     "output_type": "execute_result"
    }
   ],
   "source": [
    "clf.fit(X_train_fin, y_train_fin)"
   ]
  },
  {
   "cell_type": "code",
   "execution_count": 48,
   "metadata": {},
   "outputs": [],
   "source": [
    "y_val_pred = clf.predict(X_val)"
   ]
  },
  {
   "cell_type": "code",
   "execution_count": 49,
   "metadata": {},
   "outputs": [
    {
     "data": {
      "text/plain": [
       "0.7877094972067039"
      ]
     },
     "execution_count": 49,
     "metadata": {},
     "output_type": "execute_result"
    }
   ],
   "source": [
    "accuracy_score(y_val, y_val_pred)"
   ]
  },
  {
   "cell_type": "markdown",
   "metadata": {},
   "source": [
    "# Оценка важности фичей"
   ]
  },
  {
   "cell_type": "code",
   "execution_count": 50,
   "metadata": {},
   "outputs": [
    {
     "data": {
      "image/png": "[encoded data removed]",
      "text/plain": [
       "<Figure size 432x288 with 1 Axes>"
      ]
     },
     "metadata": {
      "image/png": {
       "height": 250,
       "width": 424
      }
     },
     "output_type": "display_data"
    }
   ],
   "source": [
    "plt.barh(np.arange(len(clf.feature_importances_)), clf.feature_importances_)\n",
    "plt.yticks(np.arange(len(X_train_fin.columns)),X_train_fin.columns);"
   ]
  },
  {
   "cell_type": "code",
   "execution_count": 51,
   "metadata": {},
   "outputs": [
    {
     "data": {
      "text/plain": [
       "array([0.        , 0.        , 0.        , 0.        , 0.67541956,\n",
       "       0.08623902, 0.        , 0.23834142, 0.        , 0.        ,\n",
       "       0.        ])"
      ]
     },
     "execution_count": 51,
     "metadata": {},
     "output_type": "execute_result"
    }
   ],
   "source": [
    " clf.feature_importances_"
   ]
  },
  {
   "cell_type": "markdown",
   "metadata": {},
   "source": [
    "Получаем, что наиболее важными признаками является Pclass_3, isMale, Fare. При вероятноси выживания эти признаки играли наиболее значимую роль. Важность остальных признаков - 0, что значит, что мы можем исключить их из классификатора и не потеряем в точности."
   ]
  },
  {
   "cell_type": "markdown",
   "metadata": {},
   "source": [
    "# Рисуем график"
   ]
  },
  {
   "cell_type": "code",
   "execution_count": 69,
   "metadata": {},
   "outputs": [],
   "source": [
    "from sklearn.tree import export_graphviz\n",
    "\n",
    "def get_tree_dot_view(clf, feature_names=None, class_names=None, out_file=None):\n",
    "    print(export_graphviz(clf, out_file=out_file, filled=True, feature_names=feature_names, class_names=class_names))"
   ]
  },
  {
   "cell_type": "code",
   "execution_count": 72,
   "metadata": {},
   "outputs": [
    {
     "name": "stdout",
     "output_type": "stream",
     "text": [
      "digraph Tree {\n",
      "node [shape=box, style=\"filled\", color=\"black\"] ;\n",
      "0 [label=\"isMale <= -0.309\\nentropy = 0.964\\nsamples = 712\\nvalue = [435, 277]\\nclass = yes\", fillcolor=\"#e581395d\"] ;\n",
      "1 [label=\"Pclass_3 <= -0.103\\nentropy = 0.808\\nsamples = 246\\nvalue = [61, 185]\\nclass = no\", fillcolor=\"#399de5ab\"] ;\n",
      "0 -> 1 [labeldistance=2.5, labelangle=45, headlabel=\"True\"] ;\n",
      "2 [label=\"entropy = 0.259\\nsamples = 137\\nvalue = [6, 131]\\nclass = no\", fillcolor=\"#399de5f3\"] ;\n",
      "1 -> 2 ;\n",
      "3 [label=\"entropy = 1.0\\nsamples = 109\\nvalue = [55, 54]\\nclass = yes\", fillcolor=\"#e5813905\"] ;\n",
      "1 -> 3 ;\n",
      "4 [label=\"Pclass_1 <= 0.601\\nentropy = 0.717\\nsamples = 466\\nvalue = [374, 92]\\nclass = yes\", fillcolor=\"#e58139c0\"] ;\n",
      "0 -> 4 [labeldistance=2.5, labelangle=-45, headlabel=\"False\"] ;\n",
      "5 [label=\"entropy = 0.596\\nsamples = 367\\nvalue = [314, 53]\\nclass = yes\", fillcolor=\"#e58139d4\"] ;\n",
      "4 -> 5 ;\n",
      "6 [label=\"entropy = 0.967\\nsamples = 99\\nvalue = [60, 39]\\nclass = yes\", fillcolor=\"#e5813959\"] ;\n",
      "4 -> 6 ;\n",
      "}\n"
     ]
    }
   ],
   "source": [
    "get_tree_dot_view(clf,  list(X_train_fin.columns),['yes','no'])"
   ]
  },
  {
   "cell_type": "code",
   "execution_count": 74,
   "metadata": {},
   "outputs": [
    {
     "data": {
      "image/png": "[encoded data removed]",
      "text/plain": [
       "<IPython.core.display.Image object>"
      ]
     },
     "execution_count": 74,
     "metadata": {},
     "output_type": "execute_result"
    }
   ],
   "source": [
    "from IPython.display import Image\n",
    "Image(\"tree.png\")"
   ]
  },
  {
   "cell_type": "markdown",
   "metadata": {},
   "source": [
    "# Оцениваем качество классфикации"
   ]
  },
  {
   "cell_type": "code",
   "execution_count": 75,
   "metadata": {},
   "outputs": [],
   "source": [
    "from sklearn import metrics"
   ]
  },
  {
   "cell_type": "code",
   "execution_count": 76,
   "metadata": {},
   "outputs": [],
   "source": [
    "from sklearn.metrics import classification_report"
   ]
  },
  {
   "cell_type": "code",
   "execution_count": 78,
   "metadata": {},
   "outputs": [
    {
     "name": "stdout",
     "output_type": "stream",
     "text": [
      "             precision    recall  f1-score   support\n",
      "\n",
      "          0       0.76      0.97      0.85       114\n",
      "          1       0.91      0.46      0.61        65\n",
      "\n",
      "avg / total       0.81      0.79      0.77       179\n",
      "\n"
     ]
    }
   ],
   "source": [
    "print(classification_report(y_val, y_val_pred))"
   ]
  },
  {
   "cell_type": "markdown",
   "metadata": {},
   "source": [
    "Как можно видеть, мы редко ошибались, когда указывали на класс 1, но часто присваивали классу 0 значения класса 1. f1-1 оценка невысокая, что свидетельствует об общем не очень хорошем качестве модели."
   ]
  },
  {
   "cell_type": "code",
   "execution_count": 85,
   "metadata": {},
   "outputs": [],
   "source": [
    "y_val_pred_proba = clf.predict_proba(X_val)"
   ]
  },
  {
   "cell_type": "code",
   "execution_count": 86,
   "metadata": {},
   "outputs": [
    {
     "data": {
      "text/plain": [
       "0.8308367071524967"
      ]
     },
     "execution_count": 86,
     "metadata": {},
     "output_type": "execute_result"
    }
   ],
   "source": [
    "metrics.roc_auc_score(y_val, y_val_pred_proba[:,1])"
   ]
  },
  {
   "cell_type": "markdown",
   "metadata": {},
   "source": [
    "Мера разделения на классы достаточно низкая"
   ]
  },
  {
   "cell_type": "code",
   "execution_count": 87,
   "metadata": {},
   "outputs": [
    {
     "data": {
      "text/plain": [
       "0.7312840399066036"
      ]
     },
     "execution_count": 87,
     "metadata": {},
     "output_type": "execute_result"
    }
   ],
   "source": [
    "metrics.average_precision_score(y_val, y_val_pred_proba[:,1])"
   ]
  },
  {
   "cell_type": "markdown",
   "metadata": {},
   "source": [
    "# Финальное предсказание"
   ]
  },
  {
   "cell_type": "markdown",
   "metadata": {},
   "source": [
    "предсказание вероятностей принадлежности классу 0 и 1:"
   ]
  },
  {
   "cell_type": "code",
   "execution_count": 66,
   "metadata": {
    "scrolled": false
   },
   "outputs": [
    {
     "data": {
      "text/plain": [
       "array([[0.89082537, 0.10917463],\n",
       "       [0.65189183, 0.34810817],\n",
       "       [0.87414357, 0.12585643],\n",
       "       [0.90242213, 0.09757787],\n",
       "       [0.43765987, 0.56234013],\n",
       "       [0.84864704, 0.15135296],\n",
       "       [0.3193424 , 0.6806576 ],\n",
       "       [0.79167236, 0.20832764],\n",
       "       [0.22309097, 0.77690903],\n",
       "       [0.9300685 , 0.0699315 ]])"
      ]
     },
     "execution_count": 66,
     "metadata": {},
     "output_type": "execute_result"
    }
   ],
   "source": [
    "clf.predict_proba(X_test_imputed_scaled)[:10]"
   ]
  },
  {
   "cell_type": "markdown",
   "metadata": {},
   "source": [
    "предсказание номера класса:"
   ]
  },
  {
   "cell_type": "code",
   "execution_count": 90,
   "metadata": {
    "scrolled": false
   },
   "outputs": [
    {
     "data": {
      "text/plain": [
       "array([0, 0, 0, 0, 0, 0, 0, 0, 0, 0, 0, 0, 1, 0, 1, 1, 0, 0, 0, 0, 0, 0,\n",
       "       1, 0, 1, 0, 1, 0, 0, 0, 0, 0, 0, 0, 0, 0, 0, 0, 0, 0, 0, 0, 0, 1,\n",
       "       1, 0, 0, 0, 1, 0, 0, 0, 1, 1, 0, 0, 0, 0, 0, 1, 0, 0, 0, 0, 0, 1,\n",
       "       0, 0, 0, 1, 0, 0, 0, 0, 1, 0, 0, 1, 0, 0, 0, 0, 0, 0, 0, 0, 0, 0,\n",
       "       0, 0, 0, 0, 1, 0, 0, 0, 1, 0, 0, 0, 1, 0, 0, 0, 0, 0, 0, 0, 0, 0,\n",
       "       0, 0, 1, 0, 1, 0, 0, 0, 0, 1, 1, 0, 1, 0, 0, 0, 0, 0, 0, 0, 0, 0,\n",
       "       0, 0, 0, 0, 0, 0, 0, 0, 0, 1, 0, 0, 0, 0, 0, 0, 0, 0, 1, 0, 0, 0,\n",
       "       0, 0, 1, 0, 0, 0, 0, 0, 1, 0, 0, 0, 0, 0, 1, 0, 0, 0, 0, 0, 0, 1,\n",
       "       1, 0, 1, 1, 0, 0, 1, 0, 1, 0, 1, 0, 0, 0, 0, 0, 0, 0, 0, 0, 0, 0,\n",
       "       0, 0, 0, 0, 0, 1, 0, 0, 0, 0, 1, 0, 0, 0, 0, 1, 0, 0, 0, 0, 1, 0,\n",
       "       1, 0, 1, 0, 1, 0, 0, 0, 0, 0, 0, 1, 0, 0, 0, 0, 0, 0, 1, 1, 1, 1,\n",
       "       0, 0, 0, 0, 1, 0, 1, 0, 1, 0, 0, 0, 0, 0, 0, 0, 1, 0, 0, 0, 1, 0,\n",
       "       0, 0, 0, 0, 0, 0, 0, 0, 1, 0, 0, 1, 0, 0, 0, 0, 0, 0, 0, 0, 0, 0,\n",
       "       0, 0, 0, 0, 0, 0, 0, 0, 0, 0, 1, 0, 0, 0, 0, 0, 0, 0, 0, 1, 0, 0,\n",
       "       0, 0, 0, 0, 0, 0, 1, 0, 0, 0, 0, 0, 0, 0, 0, 0, 1, 0, 1, 0, 0, 0,\n",
       "       1, 0, 0, 0, 0, 0, 0, 0, 0, 0, 0, 0, 0, 1, 0, 0, 0, 0, 0, 1, 1, 0,\n",
       "       0, 0, 0, 0, 1, 0, 0, 0, 0, 1, 1, 0, 1, 0, 0, 0, 1, 0, 0, 1, 0, 0,\n",
       "       1, 1, 0, 0, 0, 0, 0, 0, 0, 0, 0, 1, 0, 0, 0, 0, 0, 1, 0, 0, 0, 1,\n",
       "       0, 1, 0, 0, 1, 0, 1, 0, 0, 0, 0, 0, 0, 0, 0, 1, 0, 0, 1, 0, 0, 0],\n",
       "      dtype=int64)"
      ]
     },
     "execution_count": 90,
     "metadata": {},
     "output_type": "execute_result"
    }
   ],
   "source": [
    "predictions = clf.predict(X_test_imputed_scaled)\n",
    "predictions"
   ]
  },
  {
   "cell_type": "code",
   "execution_count": 91,
   "metadata": {},
   "outputs": [],
   "source": [
    "submussion = 'PassengerId,Survived\\n'\n",
    "submussion += \"\\n\".join([\"{},{}\".format(pid, prediction) for pid, prediction in zip(test.PassengerId, predictions)])"
   ]
  },
  {
   "cell_type": "code",
   "execution_count": 92,
   "metadata": {},
   "outputs": [],
   "source": [
    "with open('submission.txt', 'w') as file:\n",
    "    file.write(submussion)"
   ]
  },
  {
   "cell_type": "code",
   "execution_count": null,
   "metadata": {},
   "outputs": [],
   "source": [
    "sorted(zip(gridsearch.cv_results_['mean_test_score'], gridsearch.cv_results_['params']), key = lambda x: -x[0])"
   ]
  },
  {
   "cell_type": "markdown",
   "metadata": {},
   "source": [
    "Регрессия позволяет посмотреть влияние различных факторов на принятое решение. Так, видно, что женский пол, маленький возраст и первый класс являлись сильными предпосылками к выживанию"
   ]
  }
 ],
 "metadata": {
  "anaconda-cloud": {},
  "kernelspec": {
   "display_name": "Python 3",
   "language": "python",
   "name": "python3"
  },
  "language_info": {
   "codemirror_mode": {
    "name": "ipython",
    "version": 3
   },
   "file_extension": ".py",
   "mimetype": "text/x-python",
   "name": "python",
   "nbconvert_exporter": "python",
   "pygments_lexer": "ipython3",
   "version": "3.6.5"
  }
 },
 "nbformat": 4,
 "nbformat_minor": 2
}
