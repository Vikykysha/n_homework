{
 "cells": [
  {
   "cell_type": "code",
   "execution_count": 1,
   "metadata": {},
   "outputs": [],
   "source": [
    "import pandas as pd\n",
    "import numpy as np\n",
    "import matplotlib.pyplot as plt\n",
    "%matplotlib inline\n",
    "import datetime\n",
    "import warnings\n",
    "warnings.simplefilter('ignore')"
   ]
  },
  {
   "cell_type": "code",
   "execution_count": 82,
   "metadata": {},
   "outputs": [],
   "source": [
    "from bs4 import BeautifulSoup as bs\n",
    "# import requests\n",
    "import urllib\n",
    "from urllib.request import urlopen, Request"
   ]
  },
  {
   "cell_type": "markdown",
   "metadata": {},
   "source": [
    "## Rosbank ML Competition"
   ]
  },
  {
   "cell_type": "code",
   "execution_count": 2,
   "metadata": {},
   "outputs": [
    {
     "data": {
      "text/html": [
       "<div>\n",
       "<style scoped>\n",
       "    .dataframe tbody tr th:only-of-type {\n",
       "        vertical-align: middle;\n",
       "    }\n",
       "\n",
       "    .dataframe tbody tr th {\n",
       "        vertical-align: top;\n",
       "    }\n",
       "\n",
       "    .dataframe thead th {\n",
       "        text-align: right;\n",
       "    }\n",
       "</style>\n",
       "<table border=\"1\" class=\"dataframe\">\n",
       "  <thead>\n",
       "    <tr style=\"text-align: right;\">\n",
       "      <th></th>\n",
       "      <th>PERIOD</th>\n",
       "      <th>cl_id</th>\n",
       "      <th>MCC</th>\n",
       "      <th>channel_type</th>\n",
       "      <th>currency</th>\n",
       "      <th>TRDATETIME</th>\n",
       "      <th>amount</th>\n",
       "      <th>trx_category</th>\n",
       "      <th>target_flag</th>\n",
       "      <th>target_sum</th>\n",
       "    </tr>\n",
       "  </thead>\n",
       "  <tbody>\n",
       "    <tr>\n",
       "      <th>0</th>\n",
       "      <td>01/10/2017</td>\n",
       "      <td>0</td>\n",
       "      <td>5200</td>\n",
       "      <td>NaN</td>\n",
       "      <td>810</td>\n",
       "      <td>21OCT17:00:00:00</td>\n",
       "      <td>5023.0</td>\n",
       "      <td>POS</td>\n",
       "      <td>0</td>\n",
       "      <td>0.0</td>\n",
       "    </tr>\n",
       "    <tr>\n",
       "      <th>1</th>\n",
       "      <td>01/10/2017</td>\n",
       "      <td>0</td>\n",
       "      <td>6011</td>\n",
       "      <td>NaN</td>\n",
       "      <td>810</td>\n",
       "      <td>12OCT17:12:24:07</td>\n",
       "      <td>20000.0</td>\n",
       "      <td>DEPOSIT</td>\n",
       "      <td>0</td>\n",
       "      <td>0.0</td>\n",
       "    </tr>\n",
       "    <tr>\n",
       "      <th>2</th>\n",
       "      <td>01/12/2017</td>\n",
       "      <td>0</td>\n",
       "      <td>5921</td>\n",
       "      <td>NaN</td>\n",
       "      <td>810</td>\n",
       "      <td>05DEC17:00:00:00</td>\n",
       "      <td>767.0</td>\n",
       "      <td>POS</td>\n",
       "      <td>0</td>\n",
       "      <td>0.0</td>\n",
       "    </tr>\n",
       "    <tr>\n",
       "      <th>3</th>\n",
       "      <td>01/10/2017</td>\n",
       "      <td>0</td>\n",
       "      <td>5411</td>\n",
       "      <td>NaN</td>\n",
       "      <td>810</td>\n",
       "      <td>21OCT17:00:00:00</td>\n",
       "      <td>2031.0</td>\n",
       "      <td>POS</td>\n",
       "      <td>0</td>\n",
       "      <td>0.0</td>\n",
       "    </tr>\n",
       "    <tr>\n",
       "      <th>4</th>\n",
       "      <td>01/10/2017</td>\n",
       "      <td>0</td>\n",
       "      <td>6012</td>\n",
       "      <td>NaN</td>\n",
       "      <td>810</td>\n",
       "      <td>24OCT17:13:14:24</td>\n",
       "      <td>36562.0</td>\n",
       "      <td>C2C_OUT</td>\n",
       "      <td>0</td>\n",
       "      <td>0.0</td>\n",
       "    </tr>\n",
       "  </tbody>\n",
       "</table>\n",
       "</div>"
      ],
      "text/plain": [
       "       PERIOD  cl_id   MCC channel_type  currency        TRDATETIME   amount  \\\n",
       "0  01/10/2017      0  5200          NaN       810  21OCT17:00:00:00   5023.0   \n",
       "1  01/10/2017      0  6011          NaN       810  12OCT17:12:24:07  20000.0   \n",
       "2  01/12/2017      0  5921          NaN       810  05DEC17:00:00:00    767.0   \n",
       "3  01/10/2017      0  5411          NaN       810  21OCT17:00:00:00   2031.0   \n",
       "4  01/10/2017      0  6012          NaN       810  24OCT17:13:14:24  36562.0   \n",
       "\n",
       "  trx_category  target_flag  target_sum  \n",
       "0          POS            0         0.0  \n",
       "1      DEPOSIT            0         0.0  \n",
       "2          POS            0         0.0  \n",
       "3          POS            0         0.0  \n",
       "4      C2C_OUT            0         0.0  "
      ]
     },
     "execution_count": 2,
     "metadata": {},
     "output_type": "execute_result"
    }
   ],
   "source": [
    "raw_df = pd.read_csv('rosbank_train.csv')\n",
    "raw_df.head(5)\n",
    "# target_sum - можно выкинуть, переменная участвует в другой задаче"
   ]
  },
  {
   "cell_type": "code",
   "execution_count": 3,
   "metadata": {},
   "outputs": [
    {
     "name": "stdout",
     "output_type": "stream",
     "text": [
      "<class 'pandas.core.frame.DataFrame'>\n",
      "RangeIndex: 490513 entries, 0 to 490512\n",
      "Data columns (total 10 columns):\n",
      "PERIOD          490513 non-null object\n",
      "cl_id           490513 non-null int64\n",
      "MCC             490513 non-null int64\n",
      "channel_type    487603 non-null object\n",
      "currency        490513 non-null int64\n",
      "TRDATETIME      490513 non-null object\n",
      "amount          490513 non-null float64\n",
      "trx_category    490513 non-null object\n",
      "target_flag     490513 non-null int64\n",
      "target_sum      490513 non-null float64\n",
      "dtypes: float64(2), int64(4), object(4)\n",
      "memory usage: 37.4+ MB\n"
     ]
    }
   ],
   "source": [
    "raw_df.info()"
   ]
  },
  {
   "cell_type": "code",
   "execution_count": 4,
   "metadata": {},
   "outputs": [
    {
     "name": "stdout",
     "output_type": "stream",
     "text": [
      "Total clients:  5000\n"
     ]
    }
   ],
   "source": [
    "print(\"Total clients: \", len(raw_df.cl_id.unique()))"
   ]
  },
  {
   "cell_type": "markdown",
   "metadata": {},
   "source": [
    "Всего 5000 клиентов, случайным образом возьмем 1000 клиентов для тестирования"
   ]
  },
  {
   "cell_type": "code",
   "execution_count": 5,
   "metadata": {},
   "outputs": [],
   "source": [
    "cl_ids_test = np.random.choice(raw_df.cl_id.unique(), size=1000, replace=False)\n",
    "cl_ids_test_set = set(cl_ids_test)"
   ]
  },
  {
   "cell_type": "code",
   "execution_count": 337,
   "metadata": {},
   "outputs": [
    {
     "name": "stdout",
     "output_type": "stream",
     "text": [
      "Total transactions in train dataset:  395769\n",
      "Total transactions in test dataset:  94744\n"
     ]
    }
   ],
   "source": [
    "# create transactions dataset for train\n",
    "transactions_train = raw_df[~raw_df.cl_id.isin(cl_ids_test)].copy()\n",
    "print(\"Total transactions in train dataset: \", len(transactions_train))\n",
    "# create transactions dataset for test\n",
    "transactions_test = raw_df[raw_df.cl_id.isin(cl_ids_test)].copy()\n",
    "print(\"Total transactions in test dataset: \", len(transactions_test))"
   ]
  },
  {
   "cell_type": "code",
   "execution_count": null,
   "metadata": {},
   "outputs": [],
   "source": []
  },
  {
   "cell_type": "markdown",
   "metadata": {},
   "source": [
    "## Домашняя работа\n",
    "\n",
    "1. Наборы данных вида Transactions (несколько транзакций на одного клиента) трансформировать в таблицу, где cl_id будут уникальными (соответственно 4000 строк в train и 1000 строк в test\n",
    "2. Для каждого cl_id будет уникальное целевое событие target_flag, а также уникальный канал привлечения клиента channel_type (клиент привлекается лишь однажды и с самого начала его записи присваивается значение канала привлечения)\n",
    "3. При агрегации (*pandas.DataFrame.groupby*) по cl_id (или по связке cl_id, channel_type, target_flag) необходимо создавать производные фичи, идеи для таких фичей могут быть следующими:\n",
    "\n",
    "    - общая сумма транзакций по каждой из trx_category\n",
    "    - общая сумма транзакции по основным вылютам (напр. выделить рубли, доллары и евро - предположительно, это будут самые крупные категории)\n",
    "    - общая сумма транзакций по категориям MCC кодов (например, выбрать основные/популярные MCC коды). ВНИМАНИ! Некоторые MCC коды из train могут быть не представлены в test. Про MCC коды в целом: http://www.banki.ru/wikibank/mcc-kod/; Справочник MCC кодов: https://mcc-codes.ru/code; Про некоторые категории кэшбека Росбанка: https://mcc-codes.ru/card/rosbank-sverkh-plus;\n",
    "    - возможные агрегации по времени суток и дням недели - траты в выходные (праздники) или будни, в ночное время или в рабочее и т.д.\n",
    "4. **Обязательная часть**: провести первичный анализ данных - посмотреть распределения признаков, выделить самые популярные MCC, помотреть активность клиентов по дням недели/времени, какие категории транзакции (trx_category) наиболее популярны и т.д. Получить инсайты, которые в дальнейшем помогут вам правильно подготовить фичи\n",
    "5. **Дополнительная часть**: с отобранными фичами и полученными компонентами обучить модель (тип алгоритма на свой вкус, можно начать с линейной) и померить качество на локальном тестовом наборе данных (локальная валидация), который создается в этом ноутбуке. **Метрика оценки качества - ROC AUC**(https://en.wikipedia.org/wiki/Receiver_operating_characteristic)\n",
    "6. Задания принимаются в виде ноутбука с кодов/картинками выполненной обязательной части\n",
    "\n",
    "При возникновении вопросов и для отправки домашнего задания - egsachko@gmail.com или http://fb.com/sachkoe\n",
    "    "
   ]
  },
  {
   "cell_type": "markdown",
   "metadata": {},
   "source": [
    "## Практика"
   ]
  },
  {
   "cell_type": "markdown",
   "metadata": {},
   "source": [
    "# EDA"
   ]
  },
  {
   "cell_type": "code",
   "execution_count": 42,
   "metadata": {},
   "outputs": [
    {
     "data": {
      "text/html": [
       "<div>\n",
       "<style scoped>\n",
       "    .dataframe tbody tr th:only-of-type {\n",
       "        vertical-align: middle;\n",
       "    }\n",
       "\n",
       "    .dataframe tbody tr th {\n",
       "        vertical-align: top;\n",
       "    }\n",
       "\n",
       "    .dataframe thead th {\n",
       "        text-align: right;\n",
       "    }\n",
       "</style>\n",
       "<table border=\"1\" class=\"dataframe\">\n",
       "  <thead>\n",
       "    <tr style=\"text-align: right;\">\n",
       "      <th></th>\n",
       "      <th>PERIOD</th>\n",
       "      <th>cl_id</th>\n",
       "      <th>MCC</th>\n",
       "      <th>channel_type</th>\n",
       "      <th>currency</th>\n",
       "      <th>TRDATETIME</th>\n",
       "      <th>amount</th>\n",
       "      <th>trx_category</th>\n",
       "      <th>target_flag</th>\n",
       "      <th>target_sum</th>\n",
       "      <th>day_of_transaction</th>\n",
       "      <th>hour_of_transaction</th>\n",
       "    </tr>\n",
       "  </thead>\n",
       "  <tbody>\n",
       "    <tr>\n",
       "      <th>0</th>\n",
       "      <td>2017-01-10</td>\n",
       "      <td>0</td>\n",
       "      <td>5200</td>\n",
       "      <td>NaN</td>\n",
       "      <td>810</td>\n",
       "      <td>21OCT17:00:00:00</td>\n",
       "      <td>5023.0</td>\n",
       "      <td>POS</td>\n",
       "      <td>0</td>\n",
       "      <td>0.0</td>\n",
       "      <td>Sat</td>\n",
       "      <td>00</td>\n",
       "    </tr>\n",
       "    <tr>\n",
       "      <th>1</th>\n",
       "      <td>2017-01-10</td>\n",
       "      <td>0</td>\n",
       "      <td>6011</td>\n",
       "      <td>NaN</td>\n",
       "      <td>810</td>\n",
       "      <td>12OCT17:12:24:07</td>\n",
       "      <td>20000.0</td>\n",
       "      <td>DEPOSIT</td>\n",
       "      <td>0</td>\n",
       "      <td>0.0</td>\n",
       "      <td>Thu</td>\n",
       "      <td>12</td>\n",
       "    </tr>\n",
       "    <tr>\n",
       "      <th>2</th>\n",
       "      <td>2017-01-12</td>\n",
       "      <td>0</td>\n",
       "      <td>5921</td>\n",
       "      <td>NaN</td>\n",
       "      <td>810</td>\n",
       "      <td>05DEC17:00:00:00</td>\n",
       "      <td>767.0</td>\n",
       "      <td>POS</td>\n",
       "      <td>0</td>\n",
       "      <td>0.0</td>\n",
       "      <td>Tue</td>\n",
       "      <td>00</td>\n",
       "    </tr>\n",
       "    <tr>\n",
       "      <th>3</th>\n",
       "      <td>2017-01-10</td>\n",
       "      <td>0</td>\n",
       "      <td>5411</td>\n",
       "      <td>NaN</td>\n",
       "      <td>810</td>\n",
       "      <td>21OCT17:00:00:00</td>\n",
       "      <td>2031.0</td>\n",
       "      <td>POS</td>\n",
       "      <td>0</td>\n",
       "      <td>0.0</td>\n",
       "      <td>Sat</td>\n",
       "      <td>00</td>\n",
       "    </tr>\n",
       "    <tr>\n",
       "      <th>4</th>\n",
       "      <td>2017-01-10</td>\n",
       "      <td>0</td>\n",
       "      <td>6012</td>\n",
       "      <td>NaN</td>\n",
       "      <td>810</td>\n",
       "      <td>24OCT17:13:14:24</td>\n",
       "      <td>36562.0</td>\n",
       "      <td>C2C_OUT</td>\n",
       "      <td>0</td>\n",
       "      <td>0.0</td>\n",
       "      <td>Tue</td>\n",
       "      <td>13</td>\n",
       "    </tr>\n",
       "  </tbody>\n",
       "</table>\n",
       "</div>"
      ],
      "text/plain": [
       "      PERIOD  cl_id   MCC channel_type  currency        TRDATETIME   amount  \\\n",
       "0 2017-01-10      0  5200          NaN       810  21OCT17:00:00:00   5023.0   \n",
       "1 2017-01-10      0  6011          NaN       810  12OCT17:12:24:07  20000.0   \n",
       "2 2017-01-12      0  5921          NaN       810  05DEC17:00:00:00    767.0   \n",
       "3 2017-01-10      0  5411          NaN       810  21OCT17:00:00:00   2031.0   \n",
       "4 2017-01-10      0  6012          NaN       810  24OCT17:13:14:24  36562.0   \n",
       "\n",
       "  trx_category  target_flag  target_sum day_of_transaction hour_of_transaction  \n",
       "0          POS            0         0.0                Sat                  00  \n",
       "1      DEPOSIT            0         0.0                Thu                  12  \n",
       "2          POS            0         0.0                Tue                  00  \n",
       "3          POS            0         0.0                Sat                  00  \n",
       "4      C2C_OUT            0         0.0                Tue                  13  "
      ]
     },
     "execution_count": 42,
     "metadata": {},
     "output_type": "execute_result"
    }
   ],
   "source": [
    "raw_df.head()"
   ]
  },
  {
   "cell_type": "code",
   "execution_count": 43,
   "metadata": {},
   "outputs": [
    {
     "name": "stdout",
     "output_type": "stream",
     "text": [
      "<class 'pandas.core.frame.DataFrame'>\n",
      "RangeIndex: 490513 entries, 0 to 490512\n",
      "Data columns (total 12 columns):\n",
      "PERIOD                 490513 non-null datetime64[ns]\n",
      "cl_id                  490513 non-null int64\n",
      "MCC                    490513 non-null int64\n",
      "channel_type           487603 non-null object\n",
      "currency               490513 non-null int64\n",
      "TRDATETIME             490513 non-null object\n",
      "amount                 490513 non-null float64\n",
      "trx_category           490513 non-null object\n",
      "target_flag            490513 non-null int64\n",
      "target_sum             490513 non-null float64\n",
      "day_of_transaction     490513 non-null object\n",
      "hour_of_transaction    490513 non-null object\n",
      "dtypes: datetime64[ns](1), float64(2), int64(4), object(5)\n",
      "memory usage: 44.9+ MB\n"
     ]
    }
   ],
   "source": [
    "raw_df.info()"
   ]
  },
  {
   "cell_type": "markdown",
   "metadata": {},
   "source": [
    "Посмотрим на распределение транзакций по mcc кодам"
   ]
  },
  {
   "cell_type": "code",
   "execution_count": 110,
   "metadata": {},
   "outputs": [
    {
     "data": {
      "text/plain": [
       "5411    121640\n",
       "6011     54382\n",
       "5814     41351\n",
       "5812     30027\n",
       "5499     27237\n",
       "Name: MCC, dtype: int64"
      ]
     },
     "execution_count": 110,
     "metadata": {},
     "output_type": "execute_result"
    }
   ],
   "source": [
    "raw_df['MCC'].value_counts().head()"
   ]
  },
  {
   "cell_type": "code",
   "execution_count": 237,
   "metadata": {},
   "outputs": [
    {
     "data": {
      "text/html": [
       "<div>\n",
       "<style scoped>\n",
       "    .dataframe tbody tr th:only-of-type {\n",
       "        vertical-align: middle;\n",
       "    }\n",
       "\n",
       "    .dataframe tbody tr th {\n",
       "        vertical-align: top;\n",
       "    }\n",
       "\n",
       "    .dataframe thead th {\n",
       "        text-align: right;\n",
       "    }\n",
       "</style>\n",
       "<table border=\"1\" class=\"dataframe\">\n",
       "  <thead>\n",
       "    <tr style=\"text-align: right;\">\n",
       "      <th></th>\n",
       "      <th>amount</th>\n",
       "    </tr>\n",
       "    <tr>\n",
       "      <th>MCC</th>\n",
       "      <th></th>\n",
       "    </tr>\n",
       "  </thead>\n",
       "  <tbody>\n",
       "    <tr>\n",
       "      <th>742</th>\n",
       "      <td>10</td>\n",
       "    </tr>\n",
       "    <tr>\n",
       "      <th>763</th>\n",
       "      <td>11</td>\n",
       "    </tr>\n",
       "    <tr>\n",
       "      <th>780</th>\n",
       "      <td>3</td>\n",
       "    </tr>\n",
       "    <tr>\n",
       "      <th>1520</th>\n",
       "      <td>10</td>\n",
       "    </tr>\n",
       "    <tr>\n",
       "      <th>1711</th>\n",
       "      <td>18</td>\n",
       "    </tr>\n",
       "  </tbody>\n",
       "</table>\n",
       "</div>"
      ],
      "text/plain": [
       "      amount\n",
       "MCC         \n",
       "742       10\n",
       "763       11\n",
       "780        3\n",
       "1520      10\n",
       "1711      18"
      ]
     },
     "execution_count": 237,
     "metadata": {},
     "output_type": "execute_result"
    }
   ],
   "source": [
    "mcc_data_0 = raw_df[raw_df['target_flag'] == 0][['MCC','amount']].groupby(['MCC'])['amount'].size()\n",
    "mcc_data_0 = pd.DataFrame(mcc_data_0)\n",
    "mcc_data_0.head()"
   ]
  },
  {
   "cell_type": "code",
   "execution_count": 238,
   "metadata": {},
   "outputs": [
    {
     "data": {
      "text/html": [
       "<div>\n",
       "<style scoped>\n",
       "    .dataframe tbody tr th:only-of-type {\n",
       "        vertical-align: middle;\n",
       "    }\n",
       "\n",
       "    .dataframe tbody tr th {\n",
       "        vertical-align: top;\n",
       "    }\n",
       "\n",
       "    .dataframe thead th {\n",
       "        text-align: right;\n",
       "    }\n",
       "</style>\n",
       "<table border=\"1\" class=\"dataframe\">\n",
       "  <thead>\n",
       "    <tr style=\"text-align: right;\">\n",
       "      <th></th>\n",
       "      <th>amount</th>\n",
       "    </tr>\n",
       "    <tr>\n",
       "      <th>MCC</th>\n",
       "      <th></th>\n",
       "    </tr>\n",
       "  </thead>\n",
       "  <tbody>\n",
       "    <tr>\n",
       "      <th>5411</th>\n",
       "      <td>46297</td>\n",
       "    </tr>\n",
       "    <tr>\n",
       "      <th>6011</th>\n",
       "      <td>18858</td>\n",
       "    </tr>\n",
       "    <tr>\n",
       "      <th>5814</th>\n",
       "      <td>11066</td>\n",
       "    </tr>\n",
       "    <tr>\n",
       "      <th>5499</th>\n",
       "      <td>9324</td>\n",
       "    </tr>\n",
       "    <tr>\n",
       "      <th>5812</th>\n",
       "      <td>8286</td>\n",
       "    </tr>\n",
       "  </tbody>\n",
       "</table>\n",
       "</div>"
      ],
      "text/plain": [
       "      amount\n",
       "MCC         \n",
       "5411   46297\n",
       "6011   18858\n",
       "5814   11066\n",
       "5499    9324\n",
       "5812    8286"
      ]
     },
     "execution_count": 238,
     "metadata": {},
     "output_type": "execute_result"
    }
   ],
   "source": [
    "mcc_data_0.sort_values(by='amount',ascending=False).astype('int').head()"
   ]
  },
  {
   "cell_type": "markdown",
   "metadata": {},
   "source": [
    "Скачаем расшифровку mcc кодов, чтобы удобнее было анализировать"
   ]
  },
  {
   "cell_type": "code",
   "execution_count": 209,
   "metadata": {},
   "outputs": [],
   "source": [
    "headers = {\n",
    "    'User-Agent': 'Mozilla/5.0 (Windows NT 6.1) AppleWebKit/537.36 (KHTML, like Gecko) Chrome/41.0.2228.0 Safari/537.3'\n",
    "}\n",
    "reg_url = 'https://mcc-codes.ru/code'\n",
    "req = Request(url=reg_url, headers=headers)\n",
    "check = bs(urlopen(req).read())\n",
    "list_of_mcc_tags = check.find_all('tr')[1:]\n",
    "mcc_names_list = list(\n",
    "    map(\n",
    "        lambda x: (x.text.split('\\n')[1], x.text.split('\\n')[2]), list_of_mcc_tags\n",
    "    )\n",
    ")"
   ]
  },
  {
   "cell_type": "code",
   "execution_count": 239,
   "metadata": {},
   "outputs": [],
   "source": [
    "mcc = pd.DataFrame(mcc_names_list)\n",
    "mcc.head()\n",
    "mcc.columns = ['code','name']\n",
    "mcc['code'] = mcc['code'].astype('int')"
   ]
  },
  {
   "cell_type": "code",
   "execution_count": 240,
   "metadata": {},
   "outputs": [
    {
     "data": {
      "text/html": [
       "<div>\n",
       "<style scoped>\n",
       "    .dataframe tbody tr th:only-of-type {\n",
       "        vertical-align: middle;\n",
       "    }\n",
       "\n",
       "    .dataframe tbody tr th {\n",
       "        vertical-align: top;\n",
       "    }\n",
       "\n",
       "    .dataframe thead th {\n",
       "        text-align: right;\n",
       "    }\n",
       "</style>\n",
       "<table border=\"1\" class=\"dataframe\">\n",
       "  <thead>\n",
       "    <tr style=\"text-align: right;\">\n",
       "      <th></th>\n",
       "      <th>amount</th>\n",
       "      <th>code</th>\n",
       "      <th>name</th>\n",
       "    </tr>\n",
       "  </thead>\n",
       "  <tbody>\n",
       "    <tr>\n",
       "      <th>0</th>\n",
       "      <td>10</td>\n",
       "      <td>742</td>\n",
       "      <td>Ветеринарные услуги</td>\n",
       "    </tr>\n",
       "    <tr>\n",
       "      <th>1</th>\n",
       "      <td>11</td>\n",
       "      <td>763</td>\n",
       "      <td>Сельскохозяйственные кооперативы</td>\n",
       "    </tr>\n",
       "    <tr>\n",
       "      <th>2</th>\n",
       "      <td>3</td>\n",
       "      <td>780</td>\n",
       "      <td>Услуги садоводства и ландшафтного дизайна</td>\n",
       "    </tr>\n",
       "    <tr>\n",
       "      <th>3</th>\n",
       "      <td>10</td>\n",
       "      <td>1520</td>\n",
       "      <td>Генеральные подрядчики – жилое и коммерческое ...</td>\n",
       "    </tr>\n",
       "    <tr>\n",
       "      <th>4</th>\n",
       "      <td>18</td>\n",
       "      <td>1711</td>\n",
       "      <td>Генеральные подрядчики по вентиляции, теплосна...</td>\n",
       "    </tr>\n",
       "  </tbody>\n",
       "</table>\n",
       "</div>"
      ],
      "text/plain": [
       "   amount  code                                               name\n",
       "0      10   742                                Ветеринарные услуги\n",
       "1      11   763                   Сельскохозяйственные кооперативы\n",
       "2       3   780          Услуги садоводства и ландшафтного дизайна\n",
       "3      10  1520  Генеральные подрядчики – жилое и коммерческое ...\n",
       "4      18  1711  Генеральные подрядчики по вентиляции, теплосна..."
      ]
     },
     "execution_count": 240,
     "metadata": {},
     "output_type": "execute_result"
    }
   ],
   "source": [
    "mcc_data_merged_0 = mcc_data_0.merge(mcc,left_on = 'MCC',right_on='code',how='inner')\n",
    "mcc_data_merged_0.head()"
   ]
  },
  {
   "cell_type": "code",
   "execution_count": 241,
   "metadata": {},
   "outputs": [
    {
     "data": {
      "text/html": [
       "<div>\n",
       "<style scoped>\n",
       "    .dataframe tbody tr th:only-of-type {\n",
       "        vertical-align: middle;\n",
       "    }\n",
       "\n",
       "    .dataframe tbody tr th {\n",
       "        vertical-align: top;\n",
       "    }\n",
       "\n",
       "    .dataframe thead th {\n",
       "        text-align: right;\n",
       "    }\n",
       "</style>\n",
       "<table border=\"1\" class=\"dataframe\">\n",
       "  <thead>\n",
       "    <tr style=\"text-align: right;\">\n",
       "      <th></th>\n",
       "      <th>amount</th>\n",
       "      <th>code</th>\n",
       "      <th>name</th>\n",
       "    </tr>\n",
       "  </thead>\n",
       "  <tbody>\n",
       "    <tr>\n",
       "      <th>114</th>\n",
       "      <td>46297</td>\n",
       "      <td>5411</td>\n",
       "      <td>Бакалейные магазины, супермаркеты</td>\n",
       "    </tr>\n",
       "    <tr>\n",
       "      <th>194</th>\n",
       "      <td>18858</td>\n",
       "      <td>6011</td>\n",
       "      <td>Финансовые учреждения – снятие наличности авто...</td>\n",
       "    </tr>\n",
       "    <tr>\n",
       "      <th>153</th>\n",
       "      <td>11066</td>\n",
       "      <td>5814</td>\n",
       "      <td>Фастфуд</td>\n",
       "    </tr>\n",
       "    <tr>\n",
       "      <th>119</th>\n",
       "      <td>9324</td>\n",
       "      <td>5499</td>\n",
       "      <td>Различные продовольственные магазины - нигде б...</td>\n",
       "    </tr>\n",
       "    <tr>\n",
       "      <th>151</th>\n",
       "      <td>8286</td>\n",
       "      <td>5812</td>\n",
       "      <td>Места общественного питания, рестораны</td>\n",
       "    </tr>\n",
       "    <tr>\n",
       "      <th>124</th>\n",
       "      <td>7200</td>\n",
       "      <td>5541</td>\n",
       "      <td>Станции техобслуживания, с дополнительными усл...</td>\n",
       "    </tr>\n",
       "    <tr>\n",
       "      <th>158</th>\n",
       "      <td>6752</td>\n",
       "      <td>5912</td>\n",
       "      <td>Аптеки</td>\n",
       "    </tr>\n",
       "    <tr>\n",
       "      <th>195</th>\n",
       "      <td>4347</td>\n",
       "      <td>6012</td>\n",
       "      <td>Финансовые учреждения – торговля и услуги</td>\n",
       "    </tr>\n",
       "    <tr>\n",
       "      <th>192</th>\n",
       "      <td>3902</td>\n",
       "      <td>5999</td>\n",
       "      <td>Различные магазины и специальные розничные маг...</td>\n",
       "    </tr>\n",
       "    <tr>\n",
       "      <th>159</th>\n",
       "      <td>2808</td>\n",
       "      <td>5921</td>\n",
       "      <td>Магазины с продажей спиртных напитков навынос</td>\n",
       "    </tr>\n",
       "    <tr>\n",
       "      <th>112</th>\n",
       "      <td>2727</td>\n",
       "      <td>5331</td>\n",
       "      <td>Универсальные магазины</td>\n",
       "    </tr>\n",
       "    <tr>\n",
       "      <th>104</th>\n",
       "      <td>2594</td>\n",
       "      <td>5211</td>\n",
       "      <td>Лесо- и строительный материал</td>\n",
       "    </tr>\n",
       "    <tr>\n",
       "      <th>76</th>\n",
       "      <td>2479</td>\n",
       "      <td>4829</td>\n",
       "      <td>Денежные переводы</td>\n",
       "    </tr>\n",
       "    <tr>\n",
       "      <th>107</th>\n",
       "      <td>2048</td>\n",
       "      <td>5261</td>\n",
       "      <td>Садовые принадлежности (в том числе для ухода ...</td>\n",
       "    </tr>\n",
       "    <tr>\n",
       "      <th>103</th>\n",
       "      <td>1753</td>\n",
       "      <td>5200</td>\n",
       "      <td>Товары для дома</td>\n",
       "    </tr>\n",
       "    <tr>\n",
       "      <th>137</th>\n",
       "      <td>1584</td>\n",
       "      <td>5691</td>\n",
       "      <td>Магазины мужской и женской одежды</td>\n",
       "    </tr>\n",
       "    <tr>\n",
       "      <th>73</th>\n",
       "      <td>1549</td>\n",
       "      <td>4812</td>\n",
       "      <td>Телекоммуникационное оборудование, включая про...</td>\n",
       "    </tr>\n",
       "    <tr>\n",
       "      <th>184</th>\n",
       "      <td>1527</td>\n",
       "      <td>5977</td>\n",
       "      <td>Магазины косметики</td>\n",
       "    </tr>\n",
       "    <tr>\n",
       "      <th>146</th>\n",
       "      <td>1390</td>\n",
       "      <td>5732</td>\n",
       "      <td>Продажа электронного оборудования</td>\n",
       "    </tr>\n",
       "    <tr>\n",
       "      <th>60</th>\n",
       "      <td>1390</td>\n",
       "      <td>4121</td>\n",
       "      <td>Лимузины и такси</td>\n",
       "    </tr>\n",
       "    <tr>\n",
       "      <th>58</th>\n",
       "      <td>1322</td>\n",
       "      <td>4111</td>\n",
       "      <td>Пассажирские перевозки - пригородные и местные...</td>\n",
       "    </tr>\n",
       "    <tr>\n",
       "      <th>123</th>\n",
       "      <td>1280</td>\n",
       "      <td>5533</td>\n",
       "      <td>Автозапчасти и аксессуары</td>\n",
       "    </tr>\n",
       "    <tr>\n",
       "      <th>111</th>\n",
       "      <td>1246</td>\n",
       "      <td>5311</td>\n",
       "      <td>Универмаги</td>\n",
       "    </tr>\n",
       "    <tr>\n",
       "      <th>145</th>\n",
       "      <td>1119</td>\n",
       "      <td>5722</td>\n",
       "      <td>Бытовое оборудование</td>\n",
       "    </tr>\n",
       "    <tr>\n",
       "      <th>133</th>\n",
       "      <td>1081</td>\n",
       "      <td>5651</td>\n",
       "      <td>Одежда для всей семьи</td>\n",
       "    </tr>\n",
       "  </tbody>\n",
       "</table>\n",
       "</div>"
      ],
      "text/plain": [
       "     amount  code                                               name\n",
       "114   46297  5411                  Бакалейные магазины, супермаркеты\n",
       "194   18858  6011  Финансовые учреждения – снятие наличности авто...\n",
       "153   11066  5814                                            Фастфуд\n",
       "119    9324  5499  Различные продовольственные магазины - нигде б...\n",
       "151    8286  5812             Места общественного питания, рестораны\n",
       "124    7200  5541  Станции техобслуживания, с дополнительными усл...\n",
       "158    6752  5912                                             Аптеки\n",
       "195    4347  6012          Финансовые учреждения – торговля и услуги\n",
       "192    3902  5999  Различные магазины и специальные розничные маг...\n",
       "159    2808  5921      Магазины с продажей спиртных напитков навынос\n",
       "112    2727  5331                             Универсальные магазины\n",
       "104    2594  5211                      Лесо- и строительный материал\n",
       "76     2479  4829                                  Денежные переводы\n",
       "107    2048  5261  Садовые принадлежности (в том числе для ухода ...\n",
       "103    1753  5200                                    Товары для дома\n",
       "137    1584  5691                  Магазины мужской и женской одежды\n",
       "73     1549  4812  Телекоммуникационное оборудование, включая про...\n",
       "184    1527  5977                                 Магазины косметики\n",
       "146    1390  5732                  Продажа электронного оборудования\n",
       "60     1390  4121                                   Лимузины и такси\n",
       "58     1322  4111  Пассажирские перевозки - пригородные и местные...\n",
       "123    1280  5533                          Автозапчасти и аксессуары\n",
       "111    1246  5311                                         Универмаги\n",
       "145    1119  5722                               Бытовое оборудование\n",
       "133    1081  5651                              Одежда для всей семьи"
      ]
     },
     "execution_count": 241,
     "metadata": {},
     "output_type": "execute_result"
    }
   ],
   "source": [
    "mcc_data_merged_0.sort_values(by='amount',ascending=False).head(25)"
   ]
  },
  {
   "cell_type": "code",
   "execution_count": 250,
   "metadata": {},
   "outputs": [],
   "source": [
    "mcc_data = raw_df[raw_df['target_flag'] == 1][['MCC','amount']].groupby(['MCC'])['amount'].size()"
   ]
  },
  {
   "cell_type": "code",
   "execution_count": 256,
   "metadata": {},
   "outputs": [
    {
     "data": {
      "text/html": [
       "<div>\n",
       "<style scoped>\n",
       "    .dataframe tbody tr th:only-of-type {\n",
       "        vertical-align: middle;\n",
       "    }\n",
       "\n",
       "    .dataframe tbody tr th {\n",
       "        vertical-align: top;\n",
       "    }\n",
       "\n",
       "    .dataframe thead th {\n",
       "        text-align: right;\n",
       "    }\n",
       "</style>\n",
       "<table border=\"1\" class=\"dataframe\">\n",
       "  <thead>\n",
       "    <tr style=\"text-align: right;\">\n",
       "      <th></th>\n",
       "      <th>amount</th>\n",
       "      <th>code</th>\n",
       "      <th>name</th>\n",
       "    </tr>\n",
       "  </thead>\n",
       "  <tbody>\n",
       "    <tr>\n",
       "      <th>0</th>\n",
       "      <td>75343</td>\n",
       "      <td>5411</td>\n",
       "      <td>Бакалейные магазины, супермаркеты</td>\n",
       "    </tr>\n",
       "    <tr>\n",
       "      <th>1</th>\n",
       "      <td>35524</td>\n",
       "      <td>6011</td>\n",
       "      <td>Финансовые учреждения – снятие наличности авто...</td>\n",
       "    </tr>\n",
       "    <tr>\n",
       "      <th>2</th>\n",
       "      <td>30285</td>\n",
       "      <td>5814</td>\n",
       "      <td>Фастфуд</td>\n",
       "    </tr>\n",
       "    <tr>\n",
       "      <th>3</th>\n",
       "      <td>21741</td>\n",
       "      <td>5812</td>\n",
       "      <td>Места общественного питания, рестораны</td>\n",
       "    </tr>\n",
       "    <tr>\n",
       "      <th>4</th>\n",
       "      <td>17913</td>\n",
       "      <td>5499</td>\n",
       "      <td>Различные продовольственные магазины - нигде б...</td>\n",
       "    </tr>\n",
       "    <tr>\n",
       "      <th>5</th>\n",
       "      <td>12616</td>\n",
       "      <td>5541</td>\n",
       "      <td>Станции техобслуживания, с дополнительными усл...</td>\n",
       "    </tr>\n",
       "    <tr>\n",
       "      <th>6</th>\n",
       "      <td>11976</td>\n",
       "      <td>5912</td>\n",
       "      <td>Аптеки</td>\n",
       "    </tr>\n",
       "    <tr>\n",
       "      <th>7</th>\n",
       "      <td>9171</td>\n",
       "      <td>5999</td>\n",
       "      <td>Различные магазины и специальные розничные маг...</td>\n",
       "    </tr>\n",
       "    <tr>\n",
       "      <th>8</th>\n",
       "      <td>5770</td>\n",
       "      <td>5921</td>\n",
       "      <td>Магазины с продажей спиртных напитков навынос</td>\n",
       "    </tr>\n",
       "    <tr>\n",
       "      <th>9</th>\n",
       "      <td>5709</td>\n",
       "      <td>6012</td>\n",
       "      <td>Финансовые учреждения – торговля и услуги</td>\n",
       "    </tr>\n",
       "    <tr>\n",
       "      <th>10</th>\n",
       "      <td>4914</td>\n",
       "      <td>5331</td>\n",
       "      <td>Универсальные магазины</td>\n",
       "    </tr>\n",
       "    <tr>\n",
       "      <th>11</th>\n",
       "      <td>4876</td>\n",
       "      <td>4121</td>\n",
       "      <td>Лимузины и такси</td>\n",
       "    </tr>\n",
       "    <tr>\n",
       "      <th>12</th>\n",
       "      <td>3726</td>\n",
       "      <td>4829</td>\n",
       "      <td>Денежные переводы</td>\n",
       "    </tr>\n",
       "    <tr>\n",
       "      <th>13</th>\n",
       "      <td>3668</td>\n",
       "      <td>5211</td>\n",
       "      <td>Лесо- и строительный материал</td>\n",
       "    </tr>\n",
       "    <tr>\n",
       "      <th>14</th>\n",
       "      <td>3577</td>\n",
       "      <td>5691</td>\n",
       "      <td>Магазины мужской и женской одежды</td>\n",
       "    </tr>\n",
       "    <tr>\n",
       "      <th>15</th>\n",
       "      <td>3040</td>\n",
       "      <td>4111</td>\n",
       "      <td>Пассажирские перевозки - пригородные и местные...</td>\n",
       "    </tr>\n",
       "    <tr>\n",
       "      <th>16</th>\n",
       "      <td>2773</td>\n",
       "      <td>5977</td>\n",
       "      <td>Магазины косметики</td>\n",
       "    </tr>\n",
       "    <tr>\n",
       "      <th>17</th>\n",
       "      <td>2755</td>\n",
       "      <td>5261</td>\n",
       "      <td>Садовые принадлежности (в том числе для ухода ...</td>\n",
       "    </tr>\n",
       "    <tr>\n",
       "      <th>18</th>\n",
       "      <td>2012</td>\n",
       "      <td>5311</td>\n",
       "      <td>Универмаги</td>\n",
       "    </tr>\n",
       "    <tr>\n",
       "      <th>19</th>\n",
       "      <td>1881</td>\n",
       "      <td>5732</td>\n",
       "      <td>Продажа электронного оборудования</td>\n",
       "    </tr>\n",
       "    <tr>\n",
       "      <th>20</th>\n",
       "      <td>1834</td>\n",
       "      <td>5651</td>\n",
       "      <td>Одежда для всей семьи</td>\n",
       "    </tr>\n",
       "    <tr>\n",
       "      <th>21</th>\n",
       "      <td>1815</td>\n",
       "      <td>4814</td>\n",
       "      <td>Телекоммуникационные услуги</td>\n",
       "    </tr>\n",
       "    <tr>\n",
       "      <th>22</th>\n",
       "      <td>1775</td>\n",
       "      <td>5661</td>\n",
       "      <td>Обувные магазины</td>\n",
       "    </tr>\n",
       "    <tr>\n",
       "      <th>23</th>\n",
       "      <td>1767</td>\n",
       "      <td>7011</td>\n",
       "      <td>Отели и мотели - нигде более не классифицирова...</td>\n",
       "    </tr>\n",
       "    <tr>\n",
       "      <th>24</th>\n",
       "      <td>1707</td>\n",
       "      <td>5200</td>\n",
       "      <td>Товары для дома</td>\n",
       "    </tr>\n",
       "  </tbody>\n",
       "</table>\n",
       "</div>"
      ],
      "text/plain": [
       "    amount  code                                               name\n",
       "0    75343  5411                  Бакалейные магазины, супермаркеты\n",
       "1    35524  6011  Финансовые учреждения – снятие наличности авто...\n",
       "2    30285  5814                                            Фастфуд\n",
       "3    21741  5812             Места общественного питания, рестораны\n",
       "4    17913  5499  Различные продовольственные магазины - нигде б...\n",
       "5    12616  5541  Станции техобслуживания, с дополнительными усл...\n",
       "6    11976  5912                                             Аптеки\n",
       "7     9171  5999  Различные магазины и специальные розничные маг...\n",
       "8     5770  5921      Магазины с продажей спиртных напитков навынос\n",
       "9     5709  6012          Финансовые учреждения – торговля и услуги\n",
       "10    4914  5331                             Универсальные магазины\n",
       "11    4876  4121                                   Лимузины и такси\n",
       "12    3726  4829                                  Денежные переводы\n",
       "13    3668  5211                      Лесо- и строительный материал\n",
       "14    3577  5691                  Магазины мужской и женской одежды\n",
       "15    3040  4111  Пассажирские перевозки - пригородные и местные...\n",
       "16    2773  5977                                 Магазины косметики\n",
       "17    2755  5261  Садовые принадлежности (в том числе для ухода ...\n",
       "18    2012  5311                                         Универмаги\n",
       "19    1881  5732                  Продажа электронного оборудования\n",
       "20    1834  5651                              Одежда для всей семьи\n",
       "21    1815  4814                        Телекоммуникационные услуги\n",
       "22    1775  5661                                   Обувные магазины\n",
       "23    1767  7011  Отели и мотели - нигде более не классифицирова...\n",
       "24    1707  5200                                    Товары для дома"
      ]
     },
     "execution_count": 256,
     "metadata": {},
     "output_type": "execute_result"
    }
   ],
   "source": [
    "mcc_data_left = pd.DataFrame(mcc_data.sort_values(ascending=False))\n",
    "mcc_data_left.merge(mcc,left_on = 'MCC',right_on='code',how='inner').head(25)"
   ]
  },
  {
   "cell_type": "markdown",
   "metadata": {},
   "source": [
    "Для тех, у кого target_flag = 1 и target_flag = 0 первые по популярности mcc коды практически одинаковы. Для пользователей с 0, есть категории садовые принадлежности и товары для дома, для пользователей с target_flag 1 таких категорий нет, вместо них амгазины с одеждой, лимузины и такси. Складывается впечатление, что группа пользователей с 0 более возрастная, так как затраты скорее связаны с домом, семьей, меньше трат на проезд или траты на проезд стоят на более низких позициях. Возможно категория с 1 - более мобильные граждане, часто бывающие вне дома."
   ]
  },
  {
   "cell_type": "markdown",
   "metadata": {},
   "source": [
    "Посмотрим на распределение суммы транзакций по дням недели"
   ]
  },
  {
   "cell_type": "code",
   "execution_count": 266,
   "metadata": {},
   "outputs": [],
   "source": [
    "day_data_0 = raw_df[raw_df['target_flag']==0][['day_of_transaction','amount']].groupby(['day_of_transaction'])['amount'].agg([np.sum]).astype('int')"
   ]
  },
  {
   "cell_type": "code",
   "execution_count": 267,
   "metadata": {},
   "outputs": [
    {
     "data": {
      "text/html": [
       "<div>\n",
       "<style scoped>\n",
       "    .dataframe tbody tr th:only-of-type {\n",
       "        vertical-align: middle;\n",
       "    }\n",
       "\n",
       "    .dataframe tbody tr th {\n",
       "        vertical-align: top;\n",
       "    }\n",
       "\n",
       "    .dataframe thead th {\n",
       "        text-align: right;\n",
       "    }\n",
       "</style>\n",
       "<table border=\"1\" class=\"dataframe\">\n",
       "  <thead>\n",
       "    <tr style=\"text-align: right;\">\n",
       "      <th></th>\n",
       "      <th>sum</th>\n",
       "    </tr>\n",
       "    <tr>\n",
       "      <th>day_of_transaction</th>\n",
       "      <th></th>\n",
       "    </tr>\n",
       "  </thead>\n",
       "  <tbody>\n",
       "    <tr>\n",
       "      <th>Fri</th>\n",
       "      <td>181280749</td>\n",
       "    </tr>\n",
       "    <tr>\n",
       "      <th>Mon</th>\n",
       "      <td>155052797</td>\n",
       "    </tr>\n",
       "    <tr>\n",
       "      <th>Sat</th>\n",
       "      <td>108147929</td>\n",
       "    </tr>\n",
       "    <tr>\n",
       "      <th>Sun</th>\n",
       "      <td>82076408</td>\n",
       "    </tr>\n",
       "    <tr>\n",
       "      <th>Thu</th>\n",
       "      <td>177493952</td>\n",
       "    </tr>\n",
       "    <tr>\n",
       "      <th>Tue</th>\n",
       "      <td>164744012</td>\n",
       "    </tr>\n",
       "    <tr>\n",
       "      <th>Wed</th>\n",
       "      <td>166579601</td>\n",
       "    </tr>\n",
       "  </tbody>\n",
       "</table>\n",
       "</div>"
      ],
      "text/plain": [
       "                          sum\n",
       "day_of_transaction           \n",
       "Fri                 181280749\n",
       "Mon                 155052797\n",
       "Sat                 108147929\n",
       "Sun                  82076408\n",
       "Thu                 177493952\n",
       "Tue                 164744012\n",
       "Wed                 166579601"
      ]
     },
     "execution_count": 267,
     "metadata": {},
     "output_type": "execute_result"
    }
   ],
   "source": [
    "day_data_0"
   ]
  },
  {
   "cell_type": "code",
   "execution_count": 269,
   "metadata": {},
   "outputs": [
    {
     "data": {
      "image/png": "[encoded data removed]",
      "text/plain": [
       "<Figure size 432x288 with 1 Axes>"
      ]
     },
     "metadata": {},
     "output_type": "display_data"
    }
   ],
   "source": [
    "x = np.arange(1,8,1)\n",
    "plt.plot(x,day_data_0['sum'],marker='p',linestyle='dashed',color='g')\n",
    "plt.xticks(x,day_data_0.index)\n",
    "plt.title('Сумма транзакций по дням недели')\n",
    "plt.xlabel('День недели')\n",
    "plt.ylabel('Сумма');"
   ]
  },
  {
   "cell_type": "markdown",
   "metadata": {},
   "source": [
    "Можем видеть, что больше всего транзакций происходит в пятницу,а меньше всего - в воскресенье."
   ]
  },
  {
   "cell_type": "code",
   "execution_count": 270,
   "metadata": {},
   "outputs": [],
   "source": [
    "day_data = raw_df[raw_df['target_flag']==1][['day_of_transaction','amount']].groupby(['day_of_transaction'])['amount'].agg([np.sum]).astype('int')"
   ]
  },
  {
   "cell_type": "code",
   "execution_count": 271,
   "metadata": {},
   "outputs": [
    {
     "data": {
      "image/png": "[encoded data removed]",
      "text/plain": [
       "<Figure size 432x288 with 1 Axes>"
      ]
     },
     "metadata": {},
     "output_type": "display_data"
    }
   ],
   "source": [
    "x = np.arange(1,8,1)\n",
    "plt.plot(x,day_data['sum'],marker='p',linestyle='dashed',color='g')\n",
    "plt.xticks(x,day_data.index)\n",
    "plt.title('Сумма транзакций по дням недели')\n",
    "plt.xlabel('День недели')\n",
    "plt.ylabel('Сумма');"
   ]
  },
  {
   "cell_type": "markdown",
   "metadata": {},
   "source": [
    "Среди тех, кто перестал пользоваться продуктом, ситуация практически аналогичная, единственно, транзакция в субботу такие люди совершаю больше, практически на уровне с пн."
   ]
  },
  {
   "cell_type": "markdown",
   "metadata": {},
   "source": [
    "Сравним траты по дням недели в пределах двух групп на одном графике."
   ]
  },
  {
   "cell_type": "code",
   "execution_count": 274,
   "metadata": {},
   "outputs": [
    {
     "data": {
      "image/png": "[encoded data removed]",
      "text/plain": [
       "<Figure size 432x288 with 1 Axes>"
      ]
     },
     "metadata": {},
     "output_type": "display_data"
    }
   ],
   "source": [
    "x = np.arange(1,8,1)\n",
    "plt.plot(x,day_data['sum'],marker='p',linestyle='dashed',label='target_flag=1')\n",
    "plt.plot(x,day_data_0['sum'],marker='p',linestyle='dashed',label='target_flag=0')\n",
    "plt.xticks(x,day_data.index)\n",
    "plt.title('Сумма транзакций по дням недели')\n",
    "plt.xlabel('День недели')\n",
    "plt.ylabel('Сумма')\n",
    "plt.legend(loc='best');"
   ]
  },
  {
   "cell_type": "markdown",
   "metadata": {},
   "source": [
    "Можем видеть, что наша целевая группа в целом по всем дням недели тратит больше пользователей, которые продолжают пользоваться продуктом. ФОрма ломаной линии трат примерно одинакова, различия заметны по субботе, для целевой группы они выше. Опять же,\n",
    "как уже говорилось выше, можно предположить, что группа пользователей с 1 более молодая, так как повышенные траты в субботу говорят возможно о тратах на развлечения, походыв клубы и рестораны. Однако, то, что траты группы с 1 больше, говорит скорее против этой теории, обычно считается, что молодежь менее состоятельна, чем взрослые люди. Можно сказать точно только следующее - группа с 1 более состоятельнее группы 0. То есть, перестают пользоваться продуктом скорее более состоятельные люди."
   ]
  },
  {
   "cell_type": "markdown",
   "metadata": {},
   "source": [
    "Посмотрим на распределение категорий"
   ]
  },
  {
   "cell_type": "code",
   "execution_count": 285,
   "metadata": {},
   "outputs": [],
   "source": [
    "cat_data_0 = raw_df[raw_df['target_flag'] == 0][['trx_category','amount']].groupby(['trx_category'])['amount'].agg([np.sum]).astype('int')"
   ]
  },
  {
   "cell_type": "code",
   "execution_count": 286,
   "metadata": {},
   "outputs": [
    {
     "data": {
      "text/html": [
       "<div>\n",
       "<style scoped>\n",
       "    .dataframe tbody tr th:only-of-type {\n",
       "        vertical-align: middle;\n",
       "    }\n",
       "\n",
       "    .dataframe tbody tr th {\n",
       "        vertical-align: top;\n",
       "    }\n",
       "\n",
       "    .dataframe thead th {\n",
       "        text-align: right;\n",
       "    }\n",
       "</style>\n",
       "<table border=\"1\" class=\"dataframe\">\n",
       "  <thead>\n",
       "    <tr style=\"text-align: right;\">\n",
       "      <th></th>\n",
       "      <th>sum</th>\n",
       "    </tr>\n",
       "    <tr>\n",
       "      <th>trx_category</th>\n",
       "      <th></th>\n",
       "    </tr>\n",
       "  </thead>\n",
       "  <tbody>\n",
       "    <tr>\n",
       "      <th>POS</th>\n",
       "      <td>302447952</td>\n",
       "    </tr>\n",
       "    <tr>\n",
       "      <th>WD_ATM_ROS</th>\n",
       "      <td>264459850</td>\n",
       "    </tr>\n",
       "    <tr>\n",
       "      <th>DEPOSIT</th>\n",
       "      <td>205916278</td>\n",
       "    </tr>\n",
       "    <tr>\n",
       "      <th>WD_ATM_PARTNER</th>\n",
       "      <td>164271300</td>\n",
       "    </tr>\n",
       "    <tr>\n",
       "      <th>C2C_IN</th>\n",
       "      <td>43592868</td>\n",
       "    </tr>\n",
       "    <tr>\n",
       "      <th>C2C_OUT</th>\n",
       "      <td>30926064</td>\n",
       "    </tr>\n",
       "    <tr>\n",
       "      <th>BACK_TRX</th>\n",
       "      <td>10956092</td>\n",
       "    </tr>\n",
       "    <tr>\n",
       "      <th>WD_ATM_OTHER</th>\n",
       "      <td>6468331</td>\n",
       "    </tr>\n",
       "    <tr>\n",
       "      <th>CAT</th>\n",
       "      <td>5811950</td>\n",
       "    </tr>\n",
       "    <tr>\n",
       "      <th>CASH_ADV</th>\n",
       "      <td>524763</td>\n",
       "    </tr>\n",
       "  </tbody>\n",
       "</table>\n",
       "</div>"
      ],
      "text/plain": [
       "                      sum\n",
       "trx_category             \n",
       "POS             302447952\n",
       "WD_ATM_ROS      264459850\n",
       "DEPOSIT         205916278\n",
       "WD_ATM_PARTNER  164271300\n",
       "C2C_IN           43592868\n",
       "C2C_OUT          30926064\n",
       "BACK_TRX         10956092\n",
       "WD_ATM_OTHER      6468331\n",
       "CAT               5811950\n",
       "CASH_ADV           524763"
      ]
     },
     "execution_count": 286,
     "metadata": {},
     "output_type": "execute_result"
    }
   ],
   "source": [
    "cat_data_0.sort_values(by='sum',ascending=False).head(10)"
   ]
  },
  {
   "cell_type": "code",
   "execution_count": 287,
   "metadata": {},
   "outputs": [],
   "source": [
    "cat_data_1 = raw_df[raw_df['target_flag'] == 1][['trx_category','amount']].groupby(['trx_category'])['amount'].agg([np.sum]).astype('int')"
   ]
  },
  {
   "cell_type": "code",
   "execution_count": 289,
   "metadata": {},
   "outputs": [
    {
     "data": {
      "text/html": [
       "<div>\n",
       "<style scoped>\n",
       "    .dataframe tbody tr th:only-of-type {\n",
       "        vertical-align: middle;\n",
       "    }\n",
       "\n",
       "    .dataframe tbody tr th {\n",
       "        vertical-align: top;\n",
       "    }\n",
       "\n",
       "    .dataframe thead th {\n",
       "        text-align: right;\n",
       "    }\n",
       "</style>\n",
       "<table border=\"1\" class=\"dataframe\">\n",
       "  <thead>\n",
       "    <tr style=\"text-align: right;\">\n",
       "      <th></th>\n",
       "      <th>sum</th>\n",
       "    </tr>\n",
       "    <tr>\n",
       "      <th>trx_category</th>\n",
       "      <th></th>\n",
       "    </tr>\n",
       "  </thead>\n",
       "  <tbody>\n",
       "    <tr>\n",
       "      <th>POS</th>\n",
       "      <td>710613885</td>\n",
       "    </tr>\n",
       "    <tr>\n",
       "      <th>WD_ATM_ROS</th>\n",
       "      <td>403624650</td>\n",
       "    </tr>\n",
       "    <tr>\n",
       "      <th>DEPOSIT</th>\n",
       "      <td>276829617</td>\n",
       "    </tr>\n",
       "    <tr>\n",
       "      <th>WD_ATM_PARTNER</th>\n",
       "      <td>168446450</td>\n",
       "    </tr>\n",
       "    <tr>\n",
       "      <th>WD_ATM_OTHER</th>\n",
       "      <td>68312289</td>\n",
       "    </tr>\n",
       "    <tr>\n",
       "      <th>C2C_OUT</th>\n",
       "      <td>57148814</td>\n",
       "    </tr>\n",
       "    <tr>\n",
       "      <th>C2C_IN</th>\n",
       "      <td>56304281</td>\n",
       "    </tr>\n",
       "    <tr>\n",
       "      <th>CAT</th>\n",
       "      <td>16790909</td>\n",
       "    </tr>\n",
       "    <tr>\n",
       "      <th>BACK_TRX</th>\n",
       "      <td>13663080</td>\n",
       "    </tr>\n",
       "    <tr>\n",
       "      <th>CASH_ADV</th>\n",
       "      <td>388061</td>\n",
       "    </tr>\n",
       "  </tbody>\n",
       "</table>\n",
       "</div>"
      ],
      "text/plain": [
       "                      sum\n",
       "trx_category             \n",
       "POS             710613885\n",
       "WD_ATM_ROS      403624650\n",
       "DEPOSIT         276829617\n",
       "WD_ATM_PARTNER  168446450\n",
       "WD_ATM_OTHER     68312289\n",
       "C2C_OUT          57148814\n",
       "C2C_IN           56304281\n",
       "CAT              16790909\n",
       "BACK_TRX         13663080\n",
       "CASH_ADV           388061"
      ]
     },
     "execution_count": 289,
     "metadata": {},
     "output_type": "execute_result"
    }
   ],
   "source": [
    "cat_data_1.sort_values(by='sum',ascending=False).head(10)"
   ]
  },
  {
   "cell_type": "markdown",
   "metadata": {},
   "source": [
    "Посмотрим на распределение транзакций по часам"
   ]
  },
  {
   "cell_type": "code",
   "execution_count": null,
   "metadata": {},
   "outputs": [],
   "source": [
    "def transaction_by_hour_count(dataset):\n",
    "    dataset['hour_of_transaction'] = dataset['TRDATETIME'].apply( lambda x: (datetime.datetime.strptime(x, '%d%b%y:%H:%M:%S')).strftime('%H') ) \n",
    "    return dataset.groupby(['cl_id','hour_of_transaction'])['hour_of_transaction'].size().unstack().fillna(0).reset_index()"
   ]
  },
  {
   "cell_type": "code",
   "execution_count": 295,
   "metadata": {},
   "outputs": [],
   "source": [
    "hours_0 = raw_df[raw_df['target_flag'] == 0][['amount','TRDATETIME','target_flag']].copy()"
   ]
  },
  {
   "cell_type": "code",
   "execution_count": 296,
   "metadata": {},
   "outputs": [],
   "source": [
    "hours_0['hour'] = hours_0['TRDATETIME'].apply(lambda x: (datetime.datetime.strptime(x, '%d%b%y:%H:%M:%S')).strftime('%H') )"
   ]
  },
  {
   "cell_type": "code",
   "execution_count": 164,
   "metadata": {},
   "outputs": [
    {
     "data": {
      "text/html": [
       "<div>\n",
       "<style scoped>\n",
       "    .dataframe tbody tr th:only-of-type {\n",
       "        vertical-align: middle;\n",
       "    }\n",
       "\n",
       "    .dataframe tbody tr th {\n",
       "        vertical-align: top;\n",
       "    }\n",
       "\n",
       "    .dataframe thead th {\n",
       "        text-align: right;\n",
       "    }\n",
       "</style>\n",
       "<table border=\"1\" class=\"dataframe\">\n",
       "  <thead>\n",
       "    <tr style=\"text-align: right;\">\n",
       "      <th></th>\n",
       "      <th>amount</th>\n",
       "      <th>TRDATETIME</th>\n",
       "      <th>target_flag</th>\n",
       "      <th>hour</th>\n",
       "    </tr>\n",
       "  </thead>\n",
       "  <tbody>\n",
       "    <tr>\n",
       "      <th>0</th>\n",
       "      <td>5023.0</td>\n",
       "      <td>21OCT17:00:00:00</td>\n",
       "      <td>0</td>\n",
       "      <td>00</td>\n",
       "    </tr>\n",
       "    <tr>\n",
       "      <th>1</th>\n",
       "      <td>20000.0</td>\n",
       "      <td>12OCT17:12:24:07</td>\n",
       "      <td>0</td>\n",
       "      <td>12</td>\n",
       "    </tr>\n",
       "    <tr>\n",
       "      <th>2</th>\n",
       "      <td>767.0</td>\n",
       "      <td>05DEC17:00:00:00</td>\n",
       "      <td>0</td>\n",
       "      <td>00</td>\n",
       "    </tr>\n",
       "    <tr>\n",
       "      <th>3</th>\n",
       "      <td>2031.0</td>\n",
       "      <td>21OCT17:00:00:00</td>\n",
       "      <td>0</td>\n",
       "      <td>00</td>\n",
       "    </tr>\n",
       "    <tr>\n",
       "      <th>4</th>\n",
       "      <td>36562.0</td>\n",
       "      <td>24OCT17:13:14:24</td>\n",
       "      <td>0</td>\n",
       "      <td>13</td>\n",
       "    </tr>\n",
       "  </tbody>\n",
       "</table>\n",
       "</div>"
      ],
      "text/plain": [
       "    amount        TRDATETIME  target_flag hour\n",
       "0   5023.0  21OCT17:00:00:00            0   00\n",
       "1  20000.0  12OCT17:12:24:07            0   12\n",
       "2    767.0  05DEC17:00:00:00            0   00\n",
       "3   2031.0  21OCT17:00:00:00            0   00\n",
       "4  36562.0  24OCT17:13:14:24            0   13"
      ]
     },
     "execution_count": 164,
     "metadata": {},
     "output_type": "execute_result"
    }
   ],
   "source": [
    "hours_0.head()"
   ]
  },
  {
   "cell_type": "code",
   "execution_count": 293,
   "metadata": {},
   "outputs": [
    {
     "data": {
      "text/html": [
       "<div>\n",
       "<style scoped>\n",
       "    .dataframe tbody tr th:only-of-type {\n",
       "        vertical-align: middle;\n",
       "    }\n",
       "\n",
       "    .dataframe tbody tr th {\n",
       "        vertical-align: top;\n",
       "    }\n",
       "\n",
       "    .dataframe thead th {\n",
       "        text-align: right;\n",
       "    }\n",
       "</style>\n",
       "<table border=\"1\" class=\"dataframe\">\n",
       "  <thead>\n",
       "    <tr style=\"text-align: right;\">\n",
       "      <th></th>\n",
       "      <th>sum</th>\n",
       "    </tr>\n",
       "    <tr>\n",
       "      <th>hour</th>\n",
       "      <th></th>\n",
       "    </tr>\n",
       "  </thead>\n",
       "  <tbody>\n",
       "    <tr>\n",
       "      <th>00</th>\n",
       "      <td>505765875</td>\n",
       "    </tr>\n",
       "    <tr>\n",
       "      <th>01</th>\n",
       "      <td>1534678</td>\n",
       "    </tr>\n",
       "    <tr>\n",
       "      <th>02</th>\n",
       "      <td>2660844</td>\n",
       "    </tr>\n",
       "    <tr>\n",
       "      <th>03</th>\n",
       "      <td>3435890</td>\n",
       "    </tr>\n",
       "    <tr>\n",
       "      <th>04</th>\n",
       "      <td>5109868</td>\n",
       "    </tr>\n",
       "    <tr>\n",
       "      <th>05</th>\n",
       "      <td>8951929</td>\n",
       "    </tr>\n",
       "    <tr>\n",
       "      <th>06</th>\n",
       "      <td>12105498</td>\n",
       "    </tr>\n",
       "    <tr>\n",
       "      <th>07</th>\n",
       "      <td>14807407</td>\n",
       "    </tr>\n",
       "    <tr>\n",
       "      <th>08</th>\n",
       "      <td>22380092</td>\n",
       "    </tr>\n",
       "    <tr>\n",
       "      <th>09</th>\n",
       "      <td>32175357</td>\n",
       "    </tr>\n",
       "    <tr>\n",
       "      <th>10</th>\n",
       "      <td>45385347</td>\n",
       "    </tr>\n",
       "    <tr>\n",
       "      <th>11</th>\n",
       "      <td>46561573</td>\n",
       "    </tr>\n",
       "    <tr>\n",
       "      <th>12</th>\n",
       "      <td>47125699</td>\n",
       "    </tr>\n",
       "    <tr>\n",
       "      <th>13</th>\n",
       "      <td>42009155</td>\n",
       "    </tr>\n",
       "    <tr>\n",
       "      <th>14</th>\n",
       "      <td>39412548</td>\n",
       "    </tr>\n",
       "    <tr>\n",
       "      <th>15</th>\n",
       "      <td>41098270</td>\n",
       "    </tr>\n",
       "    <tr>\n",
       "      <th>16</th>\n",
       "      <td>37041080</td>\n",
       "    </tr>\n",
       "    <tr>\n",
       "      <th>17</th>\n",
       "      <td>34284446</td>\n",
       "    </tr>\n",
       "    <tr>\n",
       "      <th>18</th>\n",
       "      <td>32622833</td>\n",
       "    </tr>\n",
       "    <tr>\n",
       "      <th>19</th>\n",
       "      <td>26025418</td>\n",
       "    </tr>\n",
       "    <tr>\n",
       "      <th>20</th>\n",
       "      <td>15645429</td>\n",
       "    </tr>\n",
       "    <tr>\n",
       "      <th>21</th>\n",
       "      <td>10196312</td>\n",
       "    </tr>\n",
       "    <tr>\n",
       "      <th>22</th>\n",
       "      <td>6441469</td>\n",
       "    </tr>\n",
       "    <tr>\n",
       "      <th>23</th>\n",
       "      <td>2598423</td>\n",
       "    </tr>\n",
       "  </tbody>\n",
       "</table>\n",
       "</div>"
      ],
      "text/plain": [
       "            sum\n",
       "hour           \n",
       "00    505765875\n",
       "01      1534678\n",
       "02      2660844\n",
       "03      3435890\n",
       "04      5109868\n",
       "05      8951929\n",
       "06     12105498\n",
       "07     14807407\n",
       "08     22380092\n",
       "09     32175357\n",
       "10     45385347\n",
       "11     46561573\n",
       "12     47125699\n",
       "13     42009155\n",
       "14     39412548\n",
       "15     41098270\n",
       "16     37041080\n",
       "17     34284446\n",
       "18     32622833\n",
       "19     26025418\n",
       "20     15645429\n",
       "21     10196312\n",
       "22      6441469\n",
       "23      2598423"
      ]
     },
     "execution_count": 293,
     "metadata": {},
     "output_type": "execute_result"
    }
   ],
   "source": [
    "hours_merged_0 = hours_0.groupby('hour')['amount'].agg([np.sum]).astype('int')\n",
    "hours_merged_0"
   ]
  },
  {
   "cell_type": "code",
   "execution_count": 294,
   "metadata": {},
   "outputs": [],
   "source": [
    "hours_1 = raw_df[raw_df['target_flag'] == 1][['amount','TRDATETIME','target_flag']].copy()\n",
    "hours_1['hour'] = hours_1['TRDATETIME'].apply(lambda x: (datetime.datetime.strptime(x, '%d%b%y:%H:%M:%S')).strftime('%H') )\n",
    "hours_merged_1 = hours_1.groupby('hour')['amount'].agg([np.sum]).astype('int')"
   ]
  },
  {
   "cell_type": "code",
   "execution_count": 301,
   "metadata": {},
   "outputs": [
    {
     "data": {
      "image/png": "[encoded data removed]",
      "text/plain": [
       "<Figure size 432x288 with 1 Axes>"
      ]
     },
     "metadata": {},
     "output_type": "display_data"
    }
   ],
   "source": [
    "x = np.arange(1,25,1)\n",
    "plt.plot(x,hours_merged_0['sum'],marker='p',linestyle='dashed',label='target_flag=0')\n",
    "plt.plot(x,hours_merged_1['sum'],marker='p',linestyle='dashed',label='target_flag=1')\n",
    "plt.xticks(x,hours_merged.index)\n",
    "plt.title('Сумма транзакций по дням недели')\n",
    "plt.xlabel('Время суток')\n",
    "plt.ylabel('Сумма')\n",
    "plt.legend(loc='best');"
   ]
  },
  {
   "cell_type": "markdown",
   "metadata": {},
   "source": [
    "Опять же можем видеть, что группа с 1 тратит больше, в 00 часов траты начительно выше, скорее всего,это те самые POS операции, о которых уже говорилось выше. То есть, тратит через POS терминалы группа с 1 гораздо выше. Также повышены траты в обеденное время, возможно в это время деньги идут на обед в столовых , кафе, ресторанах, если это так, то можем видеть, что тратит на обед группа с 1 больше."
   ]
  },
  {
   "cell_type": "markdown",
   "metadata": {},
   "source": [
    "Посмотрим на совместное распределение признаков в разресе категории в табличном виде:"
   ]
  },
  {
   "cell_type": "code",
   "execution_count": 159,
   "metadata": {},
   "outputs": [
    {
     "data": {
      "text/html": [
       "<div>\n",
       "<style scoped>\n",
       "    .dataframe tbody tr th:only-of-type {\n",
       "        vertical-align: middle;\n",
       "    }\n",
       "\n",
       "    .dataframe tbody tr th {\n",
       "        vertical-align: top;\n",
       "    }\n",
       "\n",
       "    .dataframe thead th {\n",
       "        text-align: right;\n",
       "    }\n",
       "</style>\n",
       "<table border=\"1\" class=\"dataframe\">\n",
       "  <thead>\n",
       "    <tr style=\"text-align: right;\">\n",
       "      <th>trx_category</th>\n",
       "      <th>BACK_TRX</th>\n",
       "      <th>C2C_IN</th>\n",
       "      <th>C2C_OUT</th>\n",
       "      <th>CASH_ADV</th>\n",
       "      <th>CAT</th>\n",
       "      <th>DEPOSIT</th>\n",
       "      <th>POS</th>\n",
       "      <th>WD_ATM_OTHER</th>\n",
       "      <th>WD_ATM_PARTNER</th>\n",
       "      <th>WD_ATM_ROS</th>\n",
       "    </tr>\n",
       "    <tr>\n",
       "      <th>target_flag</th>\n",
       "      <th></th>\n",
       "      <th></th>\n",
       "      <th></th>\n",
       "      <th></th>\n",
       "      <th></th>\n",
       "      <th></th>\n",
       "      <th></th>\n",
       "      <th></th>\n",
       "      <th></th>\n",
       "      <th></th>\n",
       "    </tr>\n",
       "  </thead>\n",
       "  <tbody>\n",
       "    <tr>\n",
       "      <th>0</th>\n",
       "      <td>0.002249</td>\n",
       "      <td>0.006811</td>\n",
       "      <td>0.003641</td>\n",
       "      <td>0.000033</td>\n",
       "      <td>0.000612</td>\n",
       "      <td>0.023070</td>\n",
       "      <td>0.292404</td>\n",
       "      <td>0.001572</td>\n",
       "      <td>0.005816</td>\n",
       "      <td>0.011205</td>\n",
       "    </tr>\n",
       "    <tr>\n",
       "      <th>1</th>\n",
       "      <td>0.003229</td>\n",
       "      <td>0.008083</td>\n",
       "      <td>0.007482</td>\n",
       "      <td>0.000037</td>\n",
       "      <td>0.001829</td>\n",
       "      <td>0.020183</td>\n",
       "      <td>0.556554</td>\n",
       "      <td>0.012984</td>\n",
       "      <td>0.014464</td>\n",
       "      <td>0.027742</td>\n",
       "    </tr>\n",
       "  </tbody>\n",
       "</table>\n",
       "</div>"
      ],
      "text/plain": [
       "trx_category  BACK_TRX    C2C_IN   C2C_OUT  CASH_ADV       CAT   DEPOSIT  \\\n",
       "target_flag                                                                \n",
       "0             0.002249  0.006811  0.003641  0.000033  0.000612  0.023070   \n",
       "1             0.003229  0.008083  0.007482  0.000037  0.001829  0.020183   \n",
       "\n",
       "trx_category       POS  WD_ATM_OTHER  WD_ATM_PARTNER  WD_ATM_ROS  \n",
       "target_flag                                                       \n",
       "0             0.292404      0.001572        0.005816    0.011205  \n",
       "1             0.556554      0.012984        0.014464    0.027742  "
      ]
     },
     "execution_count": 159,
     "metadata": {},
     "output_type": "execute_result"
    }
   ],
   "source": [
    "pd.crosstab(raw_df['target_flag'],raw_df['trx_category'],normalize=True)"
   ]
  },
  {
   "cell_type": "markdown",
   "metadata": {},
   "source": [
    "# Feauture engeneering"
   ]
  },
  {
   "cell_type": "code",
   "execution_count": 338,
   "metadata": {},
   "outputs": [
    {
     "name": "stdout",
     "output_type": "stream",
     "text": [
      "490513\n"
     ]
    }
   ],
   "source": [
    "raw_df.drop('target_sum', axis=1).head()\n",
    "print(len(df_merged))"
   ]
  },
  {
   "cell_type": "markdown",
   "metadata": {},
   "source": [
    "Идея: сгенерируем для каждого cl_id+channel_type+target_flag отдельные временные датасеты с общей суммой и количеством транзакций на клиента, суммой транзакций по валютам, суммой транзакций по MCC, суммой транзакций по категориям, суммой транзакций по часам, суммой транзакций по дням недели. Затем сдоиним получившиеся датасеты в один."
   ]
  },
  {
   "cell_type": "markdown",
   "metadata": {},
   "source": [
    "##### Сумма транзакций на клиента"
   ]
  },
  {
   "cell_type": "code",
   "execution_count": 339,
   "metadata": {},
   "outputs": [
    {
     "name": "stdout",
     "output_type": "stream",
     "text": [
      "5000\n"
     ]
    }
   ],
   "source": [
    "def get_transaction_by_client(df):\n",
    "    temp_df = raw_df[['cl_id','amount']].groupby('cl_id')['amount'].aggregate([np.sum, np.size]).reset_index().set_index('cl_id')\n",
    "    temp_df['size'] = temp_df['size'].astype('int')\n",
    "    temp_df.rename(columns={'size' : 'total_tr_count', 'sum' : 'total_tr_amount'},inplace=True)\n",
    "    return temp_df\n",
    "tr_per_cl = get_transaction_by_client(raw_df)\n",
    "print(len(tr_per_cl))"
   ]
  },
  {
   "cell_type": "markdown",
   "metadata": {},
   "source": [
    "##### Сумма и количество транзакций на клиента по основным MCC-кодам"
   ]
  },
  {
   "cell_type": "markdown",
   "metadata": {},
   "source": [
    "Возьмем N наиболее популярных MCC кодов"
   ]
  },
  {
   "cell_type": "code",
   "execution_count": 321,
   "metadata": {},
   "outputs": [
    {
     "data": {
      "text/plain": [
       "[5411, 6011, 5814, 5812, 5499, 5541, 5912, 5999, 6012, 5921]"
      ]
     },
     "execution_count": 321,
     "metadata": {},
     "output_type": "execute_result"
    }
   ],
   "source": [
    "mcc_list = raw_df['MCC'].value_counts(dropna=False).reset_index().head(10)['index'].tolist()\n",
    "mcc_list"
   ]
  },
  {
   "cell_type": "code",
   "execution_count": 341,
   "metadata": {},
   "outputs": [
    {
     "name": "stdout",
     "output_type": "stream",
     "text": [
      "5000\n"
     ]
    }
   ],
   "source": [
    "#Все mcc, которые не входят в список популярных, будем обозначать как 0 (прочее)\n",
    "def transaction_per_mcc(data):\n",
    "    temp_df = data[['cl_id','target_flag','channel_type','MCC','amount']]\n",
    "    temp_df['MCC'] = temp_df['MCC'].apply(lambda x: x if x in  mcc_list else 0)\n",
    "    temp_df = temp_df.groupby(['cl_id','MCC'])['amount'].agg(['sum','count']).unstack().fillna(0).astype('int')   \n",
    "    temp_df.columns = ['_'.join(('mcc',str(x[1]),x[0])) for x in temp_df.columns.ravel()]\n",
    "    return temp_df\n",
    "mcc_per_cl = transaction_per_mcc(raw_df)\n",
    "print(len(mcc_per_cl))"
   ]
  },
  {
   "cell_type": "code",
   "execution_count": 323,
   "metadata": {},
   "outputs": [],
   "source": [
    "#example\n",
    "raw_df_grouped = raw_df[\n",
    "    ['cl_id', 'amount', 'MCC']\n",
    "].groupby(['cl_id', 'MCC']).agg(['sum', 'count'])\n",
    "\n",
    "# aggregated_dataset = raw_df_grouped.unstack().fillna(0)\n"
   ]
  },
  {
   "cell_type": "markdown",
   "metadata": {},
   "source": [
    "##### Транзакции на клиента по trx_category"
   ]
  },
  {
   "cell_type": "code",
   "execution_count": 324,
   "metadata": {},
   "outputs": [
    {
     "data": {
      "text/plain": [
       "POS               416425\n",
       "DEPOSIT            21216\n",
       "WD_ATM_ROS         19104\n",
       "WD_ATM_PARTNER      9948\n",
       "C2C_IN              7306\n",
       "WD_ATM_OTHER        7140\n",
       "C2C_OUT             5456\n",
       "BACK_TRX            2687\n",
       "CAT                 1197\n",
       "CASH_ADV              34\n",
       "Name: trx_category, dtype: int64"
      ]
     },
     "execution_count": 324,
     "metadata": {},
     "output_type": "execute_result"
    }
   ],
   "source": [
    "raw_df['trx_category'].value_counts()"
   ]
  },
  {
   "cell_type": "code",
   "execution_count": 342,
   "metadata": {},
   "outputs": [
    {
     "name": "stdout",
     "output_type": "stream",
     "text": [
      "5000\n"
     ]
    }
   ],
   "source": [
    "def transaction_per_trx_category(data):\n",
    "    temp_df = data[['cl_id','trx_category','amount']]\n",
    "    temp_df = temp_df.groupby(['cl_id','trx_category'])['amount'].agg(['sum','count']).unstack().fillna(0).astype('int')\n",
    "    temp_df.columns = [\"_\".join(x) for x in temp_df.columns.ravel()]\n",
    "    #another way to get rid of multilevel index by dropping it temp_df.columns = temp_df.columns.drop_level(0)\n",
    "    return temp_df\n",
    "cat_pr_cl = transaction_per_trx_category(raw_df)\n",
    "print(len(cat_pr_cl))"
   ]
  },
  {
   "cell_type": "markdown",
   "metadata": {},
   "source": [
    "##### Транзакции по основным видам валют"
   ]
  },
  {
   "cell_type": "code",
   "execution_count": 326,
   "metadata": {},
   "outputs": [],
   "source": [
    "cur_lst = raw_df['currency'].value_counts(dropna=False).reset_index().head(5)['index'].tolist()"
   ]
  },
  {
   "cell_type": "code",
   "execution_count": 343,
   "metadata": {},
   "outputs": [
    {
     "name": "stdout",
     "output_type": "stream",
     "text": [
      "5000\n"
     ]
    }
   ],
   "source": [
    "def transaction_per_cur(data):  \n",
    "    temp_df = data[['cl_id','currency','amount']]\n",
    "    temp_df['currency'] = temp_df['currency'].apply(lambda x: x if x in  cur_lst else 0)\n",
    "    temp_df = temp_df.groupby(['cl_id','currency'])['amount'].agg(['sum','count']).unstack().fillna(0).astype('int')   \n",
    "    temp_df.columns = ['_'.join(('cur',str(x[1]),x[0])) for x in temp_df.columns.ravel()]\n",
    "    return temp_df\n",
    "cur_per_cl = transaction_per_cur(raw_df)\n",
    "print(len(cur_per_cl))"
   ]
  },
  {
   "cell_type": "markdown",
   "metadata": {},
   "source": [
    "##### Транзакции по дням недели"
   ]
  },
  {
   "cell_type": "code",
   "execution_count": 345,
   "metadata": {},
   "outputs": [
    {
     "name": "stdout",
     "output_type": "stream",
     "text": [
      "5000\n"
     ]
    }
   ],
   "source": [
    "def transaction_by_day_count(dataset):\n",
    "    dataset['day_of_transaction'] = dataset['TRDATETIME'].apply(\n",
    "        lambda x: (datetime.datetime.strptime(x, '%d%b%y:%H:%M:%S')).strftime('%a')\n",
    "    ) \n",
    "    tmp_df = dataset.groupby(\n",
    "        ['cl_id','day_of_transaction']\n",
    "    )['day_of_transaction'].size().unstack().fillna(0).reset_index().set_index('cl_id').astype('int')\n",
    "    old_columns = [\n",
    "        old_col for old_col in tmp_df.columns.tolist()\n",
    "        if old_col in dataset['day_of_transaction'].unique()\n",
    "    ]\n",
    "    tmp_df.rename(\n",
    "        columns={old_col: 'day_cnt_' + old_col for old_col in old_columns},\n",
    "        inplace=True\n",
    "    )\n",
    "    #Избавляемся от остатков названий колонки: day_of_transaction(будет висеть в левом углу, если не удалить)\n",
    "    tmp_df.columns.name = None\n",
    "    tmp_df['total_cnt_per_wknd'] = tmp_df['day_cnt_Fri']+tmp_df['day_cnt_Sat']+tmp_df['day_cnt_Sun']\n",
    "    tmp_df['total_cnt_per_work_days'] = tmp_df[[col for col in tmp_df.columns.tolist() if col not in ['day_cnt_Fri','day_cnt_Sat','day_cnt_Sun','total_cnt_per_wknd']]].sum(axis=1)\n",
    "    tmp_df.drop([col for col in tmp_df.columns.tolist() if col not in ['total_cnt_per_wknd','total_cnt_per_work_days']], axis=1,inplace=True)\n",
    "    return tmp_df\n",
    "    \n",
    "\n",
    "wekday_per_cl = transaction_by_day_count(raw_df)\n",
    "print(len(wekday_per_cl))"
   ]
  },
  {
   "cell_type": "code",
   "execution_count": 346,
   "metadata": {},
   "outputs": [
    {
     "name": "stdout",
     "output_type": "stream",
     "text": [
      "5000\n"
     ]
    }
   ],
   "source": [
    "def transaction_by_day_sum(dataset):\n",
    "    dataset['day_of_transaction'] = dataset['TRDATETIME'].apply(\n",
    "        lambda x: (datetime.datetime.strptime(x, '%d%b%y:%H:%M:%S')).strftime('%a')\n",
    "    ) \n",
    "    tmp_df = dataset.groupby(\n",
    "        ['cl_id','day_of_transaction']\n",
    "    )['amount'].sum().unstack().fillna(0).reset_index().set_index('cl_id')\n",
    "    old_columns = [\n",
    "        old_col for old_col in tmp_df.columns.tolist()\n",
    "        if old_col in dataset['day_of_transaction'].unique()\n",
    "    ]\n",
    "    tmp_df.rename(\n",
    "        columns={old_col: 'day_cnt_' + old_col for old_col in old_columns},\n",
    "        inplace=True\n",
    "    )\n",
    "    #Избавляемся от остатков названий колонки: day_of_transaction(будет висеть в левом углу, если не удалить)\n",
    "    tmp_df.columns.name = None\n",
    "    tmp_df['total_sum_per_wknd'] = tmp_df['day_cnt_Fri']+tmp_df['day_cnt_Sat']+tmp_df['day_cnt_Sun']\n",
    "    tmp_df['total_sum_per_work_days'] = tmp_df[[col for col in tmp_df.columns.tolist() if col not in ['day_cnt_Fri','day_cnt_Sat','day_cnt_Sun','total_cnt_per_wknd']]].sum(axis=1)\n",
    "    tmp_df.drop([col for col in tmp_df.columns.tolist() if col not in ['total_sum_per_wknd','total_sum_per_work_days']], axis=1,inplace=True)\n",
    "    return tmp_df\n",
    "    \n",
    "\n",
    "wekdaysum_per_cl = transaction_by_day_sum(raw_df)\n",
    "print(len(wekdaysum_per_cl))"
   ]
  },
  {
   "cell_type": "markdown",
   "metadata": {},
   "source": [
    "##### Транзакции по частям дня"
   ]
  },
  {
   "cell_type": "code",
   "execution_count": 347,
   "metadata": {},
   "outputs": [
    {
     "name": "stdout",
     "output_type": "stream",
     "text": [
      "5000\n"
     ]
    }
   ],
   "source": [
    "\n",
    "def transaction_by_hour_count(dataset):\n",
    "    dataset['hour_of_transaction'] = dataset['TRDATETIME'].apply(\n",
    "        lambda x: (datetime.datetime.strptime(x, '%d%b%y:%H:%M:%S')).strftime('%H')\n",
    "    ) \n",
    "    temp = dataset.groupby(\n",
    "        ['cl_id','hour_of_transaction']\n",
    "    )['hour_of_transaction'].size().unstack().fillna(0).reset_index().astype('int').set_index('cl_id')\n",
    "    temp.columns.name = None\n",
    "    temp.rename(\n",
    "        columns={col: 'hour_' + col for col in temp.columns.tolist()},\n",
    "        inplace=True\n",
    "    )\n",
    "    night_hours = [x for x in temp.columns.tolist() if int(x[-2:]) < 6]\n",
    "    morn_hours = [x for x in temp.columns.tolist() if int(x[-2:]) >= 6 and int(x[-2:]) < 12]\n",
    "    day_hours = [x for x in temp.columns.tolist() if int(x[-2:]) >= 12 and int(x[-2:]) < 18]\n",
    "    evn_hours = [x for x in temp.columns.tolist() if int(x[-2:]) >= 18 and int(x[-2:]) <= 23]\n",
    "    temp['tr_per_night_hours'] = temp[night_hours].sum(axis=1)\n",
    "    temp['tr_per_morn_hours'] = temp[morn_hours].sum(axis=1)\n",
    "    temp['tr_per_evn_hours'] = temp[evn_hours].sum(axis=1)\n",
    "    temp['tr_per_day_hours'] = temp[day_hours].sum(axis=1)\n",
    "    \n",
    "    temp.drop([col for col in temp.columns.tolist() if col not in ['tr_per_morn_hours','tr_per_evn_hours','tr_per_day_hours','tr_per_night_hours']], axis=1,inplace=True)\n",
    "    return temp\n",
    "day_per_cl = transaction_by_hour_count(raw_df)\n",
    "print(len(day_per_cl))"
   ]
  },
  {
   "cell_type": "markdown",
   "metadata": {},
   "source": [
    "Небольшое пояснение, почему в ночные часы так много транзакций. В хоед анализа было установлено, что ночные часы уходя в отрыв в основном засчет часа 00. В этот момент больше всего совершается POS-транзакций, которые относятся POINT OF SALE - когда покупка совершается через терминал, потом информация о ней отправляется в банк, где скорее всего, все такие транзакции обрабатываются в совокупности в 00 часов."
   ]
  },
  {
   "cell_type": "markdown",
   "metadata": {},
   "source": [
    "##### Изменение количества транзакций по периодам"
   ]
  },
  {
   "cell_type": "markdown",
   "metadata": {},
   "source": [
    "Здесь попытаемся отобразить следуещее. Посчитаем процентное отношение количества транзакций в текущем к месяце, к прошлому месяцу. Так для всех месяцев периода. Чтобы рассматривать только относительно недванее поведение пользователя, будем брать изменения за 8 месяцев. Далее, считаем чего больше, количество негативных изменений или позитивных. Если позитивных, ставим 1, иначе - 0."
   ]
  },
  {
   "cell_type": "code",
   "execution_count": 348,
   "metadata": {},
   "outputs": [
    {
     "name": "stdout",
     "output_type": "stream",
     "text": [
      "5000\n"
     ]
    }
   ],
   "source": [
    "def get_prcn_chng_per_cl(data):\n",
    "    data['PERIOD'] = pd.to_datetime(data['PERIOD'])\n",
    "    temp =  data.groupby(['cl_id','PERIOD'])['cl_id'].size().unstack().fillna(0).astype('int').pct_change(periods=8,axis='columns',fill_method='ffill').fillna(0).replace(np.inf, 0).reset_index()\n",
    "    temp['positive_chng'] =  temp.apply(lambda x: int(len([z for z in x if z < 0]) < len([z for z in x if z > 0])), axis=1)\n",
    "    temp = temp.set_index('cl_id')\n",
    "    temp.columns.name = None\n",
    "    temp = temp[['positive_chng']]\n",
    "    return temp\n",
    "p_per_cl =  get_prcn_chng_per_cl(raw_df)\n",
    "print(len(p_per_cl))"
   ]
  },
  {
   "cell_type": "markdown",
   "metadata": {},
   "source": [
    "Соединим полученные датасеты в один"
   ]
  },
  {
   "cell_type": "code",
   "execution_count": 354,
   "metadata": {},
   "outputs": [
    {
     "name": "stdout",
     "output_type": "stream",
     "text": [
      "5000\n"
     ]
    }
   ],
   "source": [
    "from  functools import reduce\n",
    "list_dfs = [tr_per_cl,mcc_per_cl,cat_pr_cl,cur_per_cl,wekday_per_cl,wekdaysum_per_cl,day_per_cl,p_per_cl]\n",
    "df_merged = reduce(lambda  left,right: pd.merge(left,right,on=['cl_id'],\n",
    "                                            how='inner'), list_dfs)\n",
    "print(len(df_merged))"
   ]
  },
  {
   "cell_type": "markdown",
   "metadata": {},
   "source": [
    "Оставим отдельно train и test"
   ]
  },
  {
   "cell_type": "code",
   "execution_count": 355,
   "metadata": {},
   "outputs": [
    {
     "name": "stdout",
     "output_type": "stream",
     "text": [
      "5000\n"
     ]
    }
   ],
   "source": [
    "raw_df_m = raw_df[['cl_id','target_flag']].drop_duplicates()\n",
    "print(len(raw_df_m ))"
   ]
  },
  {
   "cell_type": "code",
   "execution_count": 357,
   "metadata": {},
   "outputs": [
    {
     "name": "stdout",
     "output_type": "stream",
     "text": [
      "Total transactions in train dataset:  5000\n"
     ]
    }
   ],
   "source": [
    "df_merged = df_merged.merge(raw_df_m,right_on='cl_id', left_on='cl_id',how='inner')\n",
    "print(\"Total transactions in train dataset: \", len(df_merged))"
   ]
  },
  {
   "cell_type": "code",
   "execution_count": 336,
   "metadata": {},
   "outputs": [
    {
     "name": "stdout",
     "output_type": "stream",
     "text": [
      "490513\n"
     ]
    }
   ],
   "source": [
    "print(len(df_merged))"
   ]
  },
  {
   "cell_type": "code",
   "execution_count": 361,
   "metadata": {},
   "outputs": [],
   "source": [
    "df_merged.drop('target_flag_y',axis=1, inplace = True)"
   ]
  },
  {
   "cell_type": "code",
   "execution_count": 465,
   "metadata": {},
   "outputs": [],
   "source": [
    "y = df_merged['target_flag_x']\n",
    "x = df_merged.drop('target_flag_x',axis=1)"
   ]
  },
  {
   "cell_type": "markdown",
   "metadata": {},
   "source": [
    "# Model"
   ]
  },
  {
   "cell_type": "code",
   "execution_count": 416,
   "metadata": {},
   "outputs": [],
   "source": [
    "from sklearn.linear_model import LogisticRegression\n",
    "from sklearn.model_selection import train_test_split\n",
    "from sklearn.metrics import roc_auc_score, roc_curve\n",
    "from sklearn.preprocessing import StandardScaler"
   ]
  },
  {
   "cell_type": "markdown",
   "metadata": {},
   "source": [
    "Сначала построим модель логистической регрессии. Так как признаков много, не факт, что все из них важны + признаки достаточно разного масштаба,используем l1 регуляризацию и предварительно отмасштабируем данные для логистической регрессии."
   ]
  },
  {
   "cell_type": "code",
   "execution_count": 466,
   "metadata": {},
   "outputs": [],
   "source": [
    "clf = LogisticRegression(penalty='l1')\n",
    "scaler = StandardScaler()\n",
    "X_train, X_test, y_train, y_test = train_test_split(x,y,random_state=0,stratify=y)\n",
    "X_train = scaler.fit_transform(X_train)"
   ]
  },
  {
   "cell_type": "code",
   "execution_count": 467,
   "metadata": {},
   "outputs": [
    {
     "data": {
      "text/plain": [
       "LogisticRegression(C=1.0, class_weight=None, dual=False, fit_intercept=True,\n",
       "          intercept_scaling=1, max_iter=100, multi_class='ovr', n_jobs=1,\n",
       "          penalty='l1', random_state=None, solver='liblinear', tol=0.0001,\n",
       "          verbose=0, warm_start=False)"
      ]
     },
     "execution_count": 467,
     "metadata": {},
     "output_type": "execute_result"
    }
   ],
   "source": [
    "clf.fit(X=X_train, y=y_train)"
   ]
  },
  {
   "cell_type": "code",
   "execution_count": 468,
   "metadata": {},
   "outputs": [
    {
     "name": "stdout",
     "output_type": "stream",
     "text": [
      "Train:  0.8\n"
     ]
    }
   ],
   "source": [
    "y_train_predict = clf.predict_proba(X_train)[:, 1]\n",
    "\n",
    "\n",
    "roc_auc_train = np.round(roc_auc_score(y_train, y_train_predict), 2)\n",
    "print(\"Train: \", roc_auc_train)"
   ]
  },
  {
   "cell_type": "markdown",
   "metadata": {},
   "source": [
    "AUC дает достаточно неплохой результат"
   ]
  },
  {
   "cell_type": "code",
   "execution_count": 469,
   "metadata": {},
   "outputs": [
    {
     "name": "stdout",
     "output_type": "stream",
     "text": [
      "Правильность на тренировочном наборе 0.73\n",
      "Правильность на тестовом наборе 0.75\n"
     ]
    }
   ],
   "source": [
    "X_test = scaler.transform(X_test)\n",
    "print('Правильность на тренировочном наборе {:.2f}'.format(clf.score(X_train,y_train)))\n",
    "print('Правильность на тестовом наборе {:.2f}'.format(clf.score(X_test,y_test)))"
   ]
  },
  {
   "cell_type": "markdown",
   "metadata": {},
   "source": [
    "Полученная точность на тестовом наборе выше обучающего, что говорит, что наша модель обладает в том числе и способностью к обобщению, однако сами оценки маленькие и разница между обучающим и тестовым - невилика. Скорее всего, мы недообучили модель."
   ]
  },
  {
   "cell_type": "code",
   "execution_count": 447,
   "metadata": {},
   "outputs": [
    {
     "data": {
      "image/png": "[encoded data removed]",
      "text/plain": [
       "<Figure size 720x720 with 1 Axes>"
      ]
     },
     "metadata": {},
     "output_type": "display_data"
    }
   ],
   "source": [
    "import matplotlib\n",
    "fpr_train, tpr_train, thresholds_train = roc_curve(y_train, y_train_predict)\n",
    "\n",
    "matplotlib.rcParams['figure.figsize'] = (10.0, 10.0)\n",
    "plt.plot(fpr_train, tpr_train, label='Train ROC AUC {0}'.format(roc_auc_train))\n",
    "plt.plot([0, 1], [0, 1], '--', color=(0.6, 0.6, 0.6))\n",
    "plt.xlim([0, 1])\n",
    "plt.ylim([0, 1])\n",
    "plt.xlabel('False Positive Rate')\n",
    "plt.ylabel('True Positive Rate')\n",
    "plt.title('Logistic Regression Classifier', size=16)\n",
    "plt.legend(loc='lower right')\n",
    "plt.show()"
   ]
  },
  {
   "cell_type": "code",
   "execution_count": 448,
   "metadata": {},
   "outputs": [],
   "source": [
    "y_test_predict = clf.predict_proba(X_test)[:, 1]"
   ]
  },
  {
   "cell_type": "markdown",
   "metadata": {},
   "source": [
    "Выведем предсказания для тестового набора. Показывает вероятность того, что человек перестанет пользоваться продуктом."
   ]
  },
  {
   "cell_type": "code",
   "execution_count": 449,
   "metadata": {},
   "outputs": [
    {
     "data": {
      "text/plain": [
       "array([0.38270708, 0.91094318, 0.76147222, ..., 0.13433719, 0.32968783,\n",
       "       0.17215182])"
      ]
     },
     "execution_count": 449,
     "metadata": {},
     "output_type": "execute_result"
    }
   ],
   "source": [
    "y_test_predict"
   ]
  },
  {
   "cell_type": "markdown",
   "metadata": {},
   "source": [
    "Так как логистическая регрессия дала достаточно невысокий результат, попробуем использоватьклассификационные алгоритмы на основе дерева. Такие алгоритмы не требуют мосштабирования, однако сильнее переобучаются и требуют больше ресурсов."
   ]
  },
  {
   "cell_type": "code",
   "execution_count": 495,
   "metadata": {},
   "outputs": [],
   "source": [
    "from sklearn.tree import DecisionTreeClassifier"
   ]
  },
  {
   "cell_type": "code",
   "execution_count": 499,
   "metadata": {},
   "outputs": [
    {
     "name": "stdout",
     "output_type": "stream",
     "text": [
      "Правильность на тренировочном наборе 0.75\n",
      "Правильность на тестовом наборе 0.74\n"
     ]
    }
   ],
   "source": [
    "tree = DecisionTreeClassifier(max_depth=4,random_state=0)\n",
    "tree.fit(X_train,y_train)\n",
    "print('Правильность на тренировочном наборе {:.2f}'.format(tree.score(X_train,y_train)))\n",
    "print('Правильность на тестовом наборе {:.2f}'.format(tree.score(X_test,y_test)))"
   ]
  },
  {
   "cell_type": "markdown",
   "metadata": {},
   "source": [
    "Точность даже хуже, чем в случае логистической регрессии. Попробуем посмотреть, на важность признаков."
   ]
  },
  {
   "cell_type": "code",
   "execution_count": 458,
   "metadata": {},
   "outputs": [
    {
     "name": "stdout",
     "output_type": "stream",
     "text": [
      "cl_id 0.5996889295168335\n",
      "total_tr_amount 0.0\n",
      "total_tr_count 0.0\n",
      "mcc_0_sum 0.0\n",
      "mcc_5411_sum 0.05452962796371947\n",
      "mcc_5499_sum 0.0\n",
      "mcc_5541_sum 0.0\n",
      "mcc_5812_sum 0.0\n",
      "mcc_5814_sum 0.0\n",
      "mcc_5912_sum 0.0\n",
      "mcc_5921_sum 0.0\n",
      "mcc_5999_sum 0.015803473983637444\n",
      "mcc_6011_sum 0.0\n",
      "mcc_6012_sum 0.0\n",
      "mcc_0_count 0.0\n",
      "mcc_5411_count 0.0\n",
      "mcc_5499_count 0.0\n",
      "mcc_5541_count 0.0\n",
      "mcc_5812_count 0.0\n",
      "mcc_5814_count 0.0\n",
      "mcc_5912_count 0.0\n",
      "mcc_5921_count 0.0\n",
      "mcc_5999_count 0.0\n",
      "mcc_6011_count 0.0\n",
      "mcc_6012_count 0.0\n",
      "sum_BACK_TRX 0.0\n",
      "sum_C2C_IN 0.0\n",
      "sum_C2C_OUT 0.0\n",
      "sum_CASH_ADV 0.0\n",
      "sum_CAT 0.0\n",
      "sum_DEPOSIT 0.007331559228850598\n",
      "sum_POS 0.09514164386363183\n",
      "sum_WD_ATM_OTHER 0.016726605674761207\n",
      "sum_WD_ATM_PARTNER 0.0\n",
      "sum_WD_ATM_ROS 0.0\n",
      "count_BACK_TRX 0.0\n",
      "count_C2C_IN 0.0\n",
      "count_C2C_OUT 0.0\n",
      "count_CASH_ADV 0.0\n",
      "count_CAT 0.0\n",
      "count_DEPOSIT 0.0\n",
      "count_POS 0.0184622874677173\n",
      "count_WD_ATM_OTHER 0.0\n",
      "count_WD_ATM_PARTNER 0.0\n",
      "count_WD_ATM_ROS 0.0\n",
      "cur_0_sum 0.0\n",
      "cur_810_sum 0.00953808640448577\n",
      "cur_840_sum 0.0\n",
      "cur_933_sum 0.0\n",
      "cur_978_sum 0.0\n",
      "cur_985_sum 0.0\n",
      "cur_0_count 0.0\n",
      "cur_810_count 0.1564795973727133\n",
      "cur_840_count 0.0\n",
      "cur_933_count 0.0\n",
      "cur_978_count 0.0\n",
      "cur_985_count 0.0\n",
      "total_cnt_per_wknd 0.0\n",
      "total_cnt_per_work_days 0.014371545913425961\n",
      "total_sum_per_wknd 0.0\n",
      "total_sum_per_work_days 0.0\n",
      "tr_per_night_hours 0.011926642610223635\n",
      "tr_per_morn_hours 0.0\n",
      "tr_per_evn_hours 0.0\n",
      "tr_per_day_hours 0.0\n",
      "positive_chng 0.0\n"
     ]
    }
   ],
   "source": [
    "for name,score in zip(x.columns,tree.feature_importances_):\n",
    "    print(name,score)"
   ]
  },
  {
   "cell_type": "markdown",
   "metadata": {},
   "source": [
    "Можем видеть, что из каждой группы признаков выделились те, которые наиболее значимы для нашей модели. Как и ожидалось, многие из признаков не вносят никакой вклад в модель. Наиболее важный признак - id клиента, что говорит нам о том, что решение о пользовании продуктом во много зависит от человека. Высокую важность имеют семмарный расход по POS операциям, что вполне ожидаемо, еще на основе первично анализа мы указывали, что две группы сильно отличаются между собой по суммарным тратам."
   ]
  },
  {
   "cell_type": "code",
   "execution_count": 522,
   "metadata": {},
   "outputs": [
    {
     "data": {
      "image/png": "[encoded data removed]",
      "text/plain": [
       "<Figure size 720x720 with 1 Axes>"
      ]
     },
     "metadata": {},
     "output_type": "display_data"
    }
   ],
   "source": [
    "def plot_feature_importances_cancer(model):\n",
    "    n_features = len(x.columns)\n",
    "    plt.barh(range(n_features),model.feature_importances_,ec=\"black\",align='center')\n",
    "    plt.yticks(np.arange(n_features),x.columns)\n",
    "    plt.xlabel(\"Важность признака\")\n",
    "    plt.ylabel(\"Признак\")\n",
    " \n",
    "\n",
    "plt.tight_layout()\n",
    "plot_feature_importances_cancer(tree)"
   ]
  },
  {
   "cell_type": "markdown",
   "metadata": {},
   "source": [
    "Попробуем применить модель на основе ансамблей моделей. Такие модели требуют больше времени на обучение, однако, дают высокий результат."
   ]
  },
  {
   "cell_type": "code",
   "execution_count": 523,
   "metadata": {},
   "outputs": [
    {
     "data": {
      "text/plain": [
       "RandomForestClassifier(bootstrap=True, class_weight=None, criterion='gini',\n",
       "            max_depth=None, max_features='auto', max_leaf_nodes=None,\n",
       "            min_impurity_decrease=0.0, min_impurity_split=None,\n",
       "            min_samples_leaf=1, min_samples_split=2,\n",
       "            min_weight_fraction_leaf=0.0, n_estimators=100, n_jobs=1,\n",
       "            oob_score=False, random_state=0, verbose=0, warm_start=False)"
      ]
     },
     "execution_count": 523,
     "metadata": {},
     "output_type": "execute_result"
    }
   ],
   "source": [
    "from sklearn.ensemble import RandomForestClassifier\n",
    "forest = RandomForestClassifier(n_estimators=100,random_state=0)\n",
    "forest.fit(X_train,y_train)"
   ]
  },
  {
   "cell_type": "markdown",
   "metadata": {},
   "source": [
    "Ансамбли деревьев не дали прибавку в точности."
   ]
  },
  {
   "cell_type": "code",
   "execution_count": 524,
   "metadata": {},
   "outputs": [
    {
     "name": "stdout",
     "output_type": "stream",
     "text": [
      "Правильность на тренировочном наборе 1.00\n",
      "Правильность на тестовом наборе 0.75\n"
     ]
    }
   ],
   "source": [
    "print('Правильность на тренировочном наборе {:.2f}'.format(forest.score(X_train,y_train)))\n",
    "print('Правильность на тестовом наборе {:.2f}'.format(forest.score(X_test,y_test)))"
   ]
  },
  {
   "cell_type": "code",
   "execution_count": 477,
   "metadata": {},
   "outputs": [],
   "source": [
    "from sklearn.ensemble import GradientBoostingClassifier"
   ]
  },
  {
   "cell_type": "code",
   "execution_count": 492,
   "metadata": {},
   "outputs": [
    {
     "data": {
      "text/plain": [
       "GradientBoostingClassifier(criterion='friedman_mse', init=None,\n",
       "              learning_rate=0.1, loss='deviance', max_depth=3,\n",
       "              max_features=None, max_leaf_nodes=None,\n",
       "              min_impurity_decrease=0.0, min_impurity_split=None,\n",
       "              min_samples_leaf=1, min_samples_split=2,\n",
       "              min_weight_fraction_leaf=0.0, n_estimators=100,\n",
       "              presort='auto', random_state=0, subsample=1.0, verbose=0,\n",
       "              warm_start=False)"
      ]
     },
     "execution_count": 492,
     "metadata": {},
     "output_type": "execute_result"
    }
   ],
   "source": [
    "grbt = GradientBoostingClassifier(random_state=0,max_depth=3, learning_rate=0.1)\n",
    "grbt.fit(X_train,y_train)"
   ]
  },
  {
   "cell_type": "markdown",
   "metadata": {},
   "source": [
    "Градиентный бустинг величил точность модели на 1 процент:"
   ]
  },
  {
   "cell_type": "code",
   "execution_count": 525,
   "metadata": {},
   "outputs": [
    {
     "name": "stdout",
     "output_type": "stream",
     "text": [
      "Правильность на тренировочном наборе 0.81\n",
      "Правильность на тестовом наборе 0.76\n"
     ]
    }
   ],
   "source": [
    "print('Правильность на тренировочном наборе {:.2f}'.format(grbt.score(X_train,y_train)))\n",
    "print('Правильность на тестовом наборе {:.2f}'.format(grbt.score(X_test,y_test)))"
   ]
  }
 ],
 "metadata": {
  "kernelspec": {
   "display_name": "Python 3",
   "language": "python",
   "name": "python3"
  },
  "language_info": {
   "codemirror_mode": {
    "name": "ipython",
    "version": 3
   },
   "file_extension": ".py",
   "mimetype": "text/x-python",
   "name": "python",
   "nbconvert_exporter": "python",
   "pygments_lexer": "ipython3",
   "version": "3.6.5"
  }
 },
 "nbformat": 4,
 "nbformat_minor": 2
}
