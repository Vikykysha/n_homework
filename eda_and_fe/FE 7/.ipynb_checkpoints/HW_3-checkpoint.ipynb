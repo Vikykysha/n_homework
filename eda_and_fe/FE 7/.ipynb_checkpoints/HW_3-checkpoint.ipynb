{
 "cells": [
  {
   "cell_type": "markdown",
   "metadata": {},
   "source": [
    "# Домашнее задание 3\n",
    "## Сравнение интересов аудитории телеканалов НТВ и Дождь с помощью тематического моделирования LDA"
   ]
  },
  {
   "cell_type": "markdown",
   "metadata": {},
   "source": [
    "Задача:\n",
    "Сравнить интересы аудитории телеканолов НТВ и Дождь с помощью методов тематического моделирования\n",
    "1. Получить данные по аудитории из социальной сети ВК\n",
    "2. Зарегистрировать приложение, получить app_id, access_token\n",
    "3. Скачать данные по пользователям в каждой из групп (id групп ВК даны ниже, tvrain_id, ntv_id)\n",
    "4. Взять небольшую выборку из каждой совокупности телезрителей(около 1000-2000 человек, т.к. 300k-400k слишком много), с которыми работать дальше\n",
    "5. Обучить LDA модель на их подписках\n",
    "6. По группам, на которые подписаны эти люди, полуичть ключевые слова групп, на которые они подписаны\n",
    "7. Получить распределение интересов людей для каждой совокупности, сравнить на графике"
   ]
  },
  {
   "cell_type": "code",
   "execution_count": 1,
   "metadata": {},
   "outputs": [],
   "source": [
    "import seaborn as sb\n",
    "import sys  \n",
    "import pandas as pd\n",
    "import requests\n",
    "import numpy as np\n",
    "import datetime\n",
    "import time\n",
    "import pickle\n",
    "import matplotlib.pyplot as plt\n",
    "import time\n",
    "%matplotlib inline\n",
    "\n",
    "from bs4 import BeautifulSoup as bs\n",
    "import urllib"
   ]
  },
  {
   "cell_type": "code",
   "execution_count": 2,
   "metadata": {},
   "outputs": [],
   "source": [
    "def load_obj(name):\n",
    "    with open(name + '.pkl', 'rb') as f:\n",
    "        return pickle.load(f)\n",
    "\n",
    "def save_obj(obj, name):\n",
    "    with open(name + '.pkl', 'wb') as f:\n",
    "        pickle.dump(obj, f, pickle.HIGHEST_PROTOCOL)"
   ]
  },
  {
   "cell_type": "markdown",
   "metadata": {},
   "source": [
    "#### Для использования VK API необходимо создать приложение в VK\n",
    "\n",
    "1. Создать приложение по адресу https://vk.com/apps?act=manage (кнопка \"создать приложение\")\n",
    "2. При создании указать название, описание (можно любые), категория  - прочее. Тип - standalone приложение\n",
    "3. В настройках получить **app_id**. App_id потребуется для получения access token\n",
    "4. Авторизовать пользователя (получить access token) можно по адресу: https://vk.com/dev/first_guide, в правилах нас интересует пункт 3 **Авторизация пользователя**\n",
    "5. После того, как ознакомитесь с авторизацией пользователя, скопируйте в адресную строку такой запрос https://oauth.vk.com/authorize?client_id=5490057&display=page&redirect_uri=https://oauth.vk.com/blank.html&scope=friends&response_type=token&v=5.52, где число **5490057** замените на число, которое получите для вашего **app_id**\n",
    "6. Нажмите Enter. Откроется окно с запросом прав. В нем отображаются название приложения, иконки прав доступа, и Ваши имя с фамилией. Нажмите «Разрешить». Вы попадете на новую страницу с предупреждением о том, что токен нельзя копировать и передавать третьим лицам. В адресной строке будет URL https://oauth.vk.com/blank.html, а после # Вы увидите дополнительные параметры — access_token, expires_in и user_id. Токен может выглядеть, например, так: 51eff86578a3bbbcb5c7043a122a69fd04dca057ac821dd7afd7c2d8e35b60172d45a26599c08034cc40a\n",
    "7. Токен — это Ваш ключ доступа. При выполнении определенных условий человек, получивший Ваш токен, может нанести существенный ущерб Вашим данным и данным других людей. Поэтому очень важно не передавать свой токен третьим лицам\n",
    "8. Поле expires_in содержит время жизни токена в секундах. 86400 секунд — это ровно сутки. Через сутки полученный токен перестанет действовать, для продолжения работы нужно будет получить новый по такому же алгоритму"
   ]
  },
  {
   "cell_type": "code",
   "execution_count": 128,
   "metadata": {},
   "outputs": [],
   "source": [
    "# use your own app id and respective tokens\n",
    "\n",
    "# скопируйте сюда ваши app_id и access_token, полученные по методу, описанному выше\n",
    "app_id = 6894360\n",
    "access_token = ' '\n",
    "\n",
    "# id групп ВК Дождя и НТВ\n",
    "tvrain_id = 17568841\n",
    "ntv_id = 28658784"
   ]
  },
  {
   "cell_type": "code",
   "execution_count": 129,
   "metadata": {},
   "outputs": [
    {
     "name": "stdout",
     "output_type": "stream",
     "text": [
      "Павел Дуров\n"
     ]
    }
   ],
   "source": [
    "# проверка работы API и авторизации пользователя. Если возникает ошибка, то, возможно, access token необходимо обновить\n",
    "check_id = 1\n",
    "\n",
    "# api call and test\n",
    "def vk_get_response(method, parameters, token):\n",
    "    url = 'https://api.vk.com/method/' + method + '?' + parameters + '&access_token=' + token\n",
    "#     print url\n",
    "    return(requests.get(url).json())\n",
    "\n",
    "answer = vk_get_response(\n",
    "    'users.get', 'user_ids={0}&v=4.9&lang=ru'.format(check_id), access_token\n",
    ")['response']\n",
    "print(answer[0]['first_name'], answer[0]['last_name'])"
   ]
  },
  {
   "cell_type": "code",
   "execution_count": 130,
   "metadata": {},
   "outputs": [
    {
     "data": {
      "text/plain": [
       "{'response': [{'uid': 1, 'first_name': 'Павел', 'last_name': 'Дуров'}]}"
      ]
     },
     "execution_count": 130,
     "metadata": {},
     "output_type": "execute_result"
    }
   ],
   "source": [
    " vk_get_response(\n",
    "    'users.get', 'user_ids={0}&v=4.9&lang=ru'.format(check_id), access_token\n",
    ")"
   ]
  },
  {
   "cell_type": "markdown",
   "metadata": {},
   "source": [
    "### Получение подписчиков телеканалов НТВ и Дождь в VK"
   ]
  },
  {
   "cell_type": "markdown",
   "metadata": {},
   "source": [
    "Получим объекты, которые содержат всю информацию о подпиичиках соответствующих групп (указанных в domains) и сохраним их на диск. Получим в итоге два файла - **ntv_subs** и **tvrain_subs** в формате **.pkl** - питоновский формат хранения данных"
   ]
  },
  {
   "cell_type": "code",
   "execution_count": 7,
   "metadata": {},
   "outputs": [
    {
     "name": "stdout",
     "output_type": "stream",
     "text": [
      "Offset:  0\n",
      "Offset:  1000\n",
      "Offset:  2000\n",
      "Offset:  3000\n",
      "Offset:  4000\n",
      "Offset:  5000\n",
      "Offset:  6000\n",
      "Offset:  7000\n",
      "Offset:  8000\n",
      "Offset:  9000\n",
      "Offset:  10000\n",
      "Offset:  11000\n",
      "Offset:  12000\n",
      "Offset:  13000\n",
      "Offset:  14000\n",
      "Offset:  15000\n",
      "Offset:  16000\n",
      "Offset:  17000\n",
      "Offset:  18000\n",
      "Offset:  19000\n",
      "Offset:  20000\n",
      "Offset:  21000\n",
      "Offset:  22000\n",
      "Offset:  23000\n",
      "Offset:  24000\n",
      "Offset:  25000\n",
      "Offset:  26000\n",
      "Offset:  27000\n",
      "Offset:  28000\n",
      "Offset:  29000\n",
      "Offset:  30000\n",
      "Offset:  31000\n",
      "Offset:  32000\n",
      "Offset:  33000\n",
      "Offset:  34000\n",
      "Offset:  35000\n",
      "Offset:  36000\n",
      "Offset:  37000\n",
      "Offset:  38000\n",
      "Offset:  39000\n",
      "Offset:  40000\n",
      "Offset:  41000\n",
      "Offset:  42000\n",
      "Offset:  43000\n",
      "Offset:  44000\n",
      "Offset:  45000\n",
      "Offset:  46000\n",
      "Offset:  47000\n",
      "Offset:  48000\n",
      "Offset:  49000\n",
      "Offset:  50000\n",
      "Offset:  51000\n",
      "Offset:  52000\n",
      "Offset:  53000\n",
      "Offset:  54000\n",
      "Offset:  55000\n",
      "Offset:  56000\n",
      "Offset:  57000\n",
      "Offset:  58000\n",
      "Offset:  59000\n",
      "Offset:  60000\n",
      "Offset:  61000\n",
      "Offset:  62000\n",
      "Offset:  63000\n",
      "Offset:  64000\n",
      "Offset:  65000\n",
      "Offset:  66000\n",
      "Offset:  67000\n",
      "Offset:  68000\n",
      "Offset:  69000\n",
      "Offset:  70000\n",
      "Offset:  71000\n",
      "Offset:  72000\n",
      "Offset:  73000\n",
      "Offset:  74000\n",
      "Offset:  75000\n",
      "Offset:  76000\n",
      "Offset:  77000\n",
      "Offset:  78000\n",
      "Offset:  79000\n",
      "Offset:  80000\n",
      "Offset:  81000\n",
      "Offset:  82000\n",
      "Offset:  83000\n",
      "Offset:  84000\n",
      "Offset:  85000\n",
      "Offset:  86000\n",
      "Offset:  87000\n",
      "Offset:  88000\n",
      "Offset:  89000\n",
      "Offset:  90000\n",
      "Offset:  91000\n",
      "Offset:  92000\n",
      "Offset:  93000\n",
      "Offset:  94000\n",
      "Offset:  95000\n",
      "Offset:  96000\n",
      "Offset:  97000\n",
      "Offset:  98000\n",
      "Offset:  99000\n",
      "Offset:  100000\n",
      "Offset:  101000\n",
      "Offset:  102000\n",
      "Offset:  103000\n",
      "Offset:  104000\n",
      "Offset:  105000\n",
      "Offset:  106000\n",
      "Offset:  107000\n",
      "Offset:  108000\n",
      "Offset:  109000\n",
      "Offset:  110000\n",
      "Offset:  111000\n",
      "Offset:  112000\n",
      "Offset:  113000\n",
      "Offset:  114000\n",
      "Offset:  115000\n",
      "Offset:  116000\n",
      "Offset:  117000\n",
      "Offset:  118000\n",
      "Offset:  119000\n",
      "Offset:  120000\n",
      "Offset:  121000\n",
      "Offset:  122000\n",
      "Offset:  123000\n",
      "Offset:  124000\n",
      "Offset:  125000\n",
      "Offset:  126000\n",
      "Offset:  127000\n",
      "Offset:  128000\n",
      "Offset:  129000\n",
      "Offset:  130000\n",
      "Offset:  131000\n",
      "Offset:  132000\n",
      "Offset:  133000\n",
      "Offset:  134000\n",
      "Offset:  135000\n",
      "Offset:  136000\n",
      "Offset:  137000\n",
      "Offset:  138000\n",
      "Offset:  139000\n",
      "Offset:  140000\n",
      "Offset:  141000\n",
      "Offset:  142000\n",
      "Offset:  143000\n",
      "Offset:  144000\n",
      "Offset:  145000\n",
      "Offset:  146000\n",
      "Offset:  147000\n",
      "Offset:  148000\n",
      "Offset:  149000\n",
      "Offset:  150000\n",
      "Offset:  151000\n",
      "Offset:  152000\n",
      "Offset:  153000\n",
      "Offset:  154000\n",
      "Offset:  155000\n",
      "Offset:  156000\n",
      "Offset:  157000\n",
      "Offset:  158000\n",
      "Offset:  159000\n",
      "Offset:  160000\n",
      "Offset:  161000\n",
      "Offset:  162000\n",
      "Offset:  163000\n",
      "Offset:  164000\n",
      "Offset:  165000\n",
      "Offset:  166000\n",
      "Offset:  167000\n",
      "Offset:  168000\n",
      "Offset:  169000\n",
      "Offset:  170000\n",
      "Offset:  171000\n",
      "Offset:  172000\n",
      "Offset:  173000\n",
      "Offset:  174000\n",
      "Offset:  175000\n",
      "Offset:  176000\n",
      "Offset:  177000\n",
      "Offset:  178000\n",
      "Offset:  179000\n",
      "Offset:  180000\n",
      "Offset:  181000\n",
      "Offset:  182000\n",
      "Offset:  183000\n",
      "Offset:  184000\n",
      "Offset:  185000\n",
      "Offset:  186000\n",
      "Offset:  187000\n",
      "Offset:  188000\n",
      "Offset:  189000\n",
      "Offset:  190000\n",
      "Offset:  191000\n",
      "Offset:  192000\n",
      "Offset:  193000\n",
      "Offset:  194000\n",
      "Offset:  195000\n",
      "Offset:  196000\n",
      "Offset:  197000\n",
      "Offset:  198000\n",
      "Offset:  199000\n",
      "Offset:  200000\n",
      "Offset:  201000\n",
      "Offset:  202000\n",
      "Offset:  203000\n",
      "Offset:  204000\n",
      "Offset:  205000\n",
      "Offset:  206000\n",
      "Offset:  207000\n",
      "Offset:  208000\n",
      "Offset:  209000\n",
      "Offset:  210000\n",
      "Offset:  211000\n",
      "Offset:  212000\n",
      "Offset:  213000\n",
      "Offset:  214000\n",
      "Offset:  215000\n",
      "Offset:  216000\n",
      "Offset:  217000\n",
      "Offset:  218000\n",
      "Offset:  219000\n",
      "Offset:  220000\n",
      "Offset:  221000\n",
      "Offset:  222000\n",
      "Offset:  223000\n",
      "Offset:  224000\n",
      "Offset:  225000\n",
      "Offset:  226000\n",
      "Offset:  227000\n",
      "Offset:  228000\n",
      "Offset:  229000\n",
      "Offset:  230000\n",
      "Offset:  231000\n",
      "Offset:  232000\n",
      "Offset:  233000\n",
      "Offset:  234000\n",
      "Offset:  235000\n",
      "Offset:  236000\n",
      "Offset:  237000\n",
      "Offset:  238000\n",
      "Offset:  239000\n",
      "Offset:  240000\n",
      "Offset:  241000\n",
      "Offset:  242000\n",
      "Offset:  243000\n",
      "Offset:  244000\n",
      "Offset:  245000\n",
      "Offset:  246000\n",
      "Offset:  247000\n",
      "Offset:  248000\n",
      "Offset:  249000\n",
      "Offset:  250000\n",
      "Offset:  251000\n",
      "Offset:  252000\n",
      "Offset:  253000\n",
      "Offset:  254000\n",
      "Offset:  255000\n",
      "Offset:  256000\n",
      "Offset:  257000\n",
      "Offset:  258000\n",
      "Offset:  259000\n",
      "Offset:  260000\n",
      "Offset:  261000\n",
      "Offset:  262000\n",
      "Offset:  263000\n",
      "Offset:  264000\n",
      "Offset:  265000\n",
      "Offset:  266000\n",
      "Offset:  267000\n",
      "Offset:  268000\n",
      "Offset:  269000\n",
      "Offset:  270000\n",
      "Offset:  271000\n",
      "Offset:  272000\n",
      "Offset:  273000\n",
      "Offset:  274000\n",
      "Offset:  275000\n",
      "Offset:  276000\n",
      "Offset:  277000\n",
      "Offset:  278000\n",
      "Offset:  279000\n",
      "Offset:  280000\n",
      "Offset:  281000\n",
      "Offset:  282000\n",
      "Offset:  283000\n",
      "Offset:  284000\n",
      "Offset:  285000\n",
      "Offset:  286000\n",
      "Offset:  287000\n",
      "Offset:  288000\n",
      "Offset:  289000\n",
      "Offset:  290000\n",
      "Offset:  291000\n",
      "Offset:  292000\n",
      "Offset:  293000\n",
      "Offset:  294000\n",
      "Offset:  295000\n",
      "Offset:  296000\n",
      "Offset:  297000\n",
      "Offset:  298000\n",
      "Offset:  299000\n",
      "Offset:  300000\n",
      "Offset:  301000\n",
      "Offset:  302000\n",
      "Offset:  303000\n",
      "Offset:  304000\n",
      "Offset:  305000\n",
      "Offset:  306000\n",
      "Offset:  307000\n",
      "Offset:  308000\n",
      "Offset:  309000\n",
      "Offset:  310000\n",
      "Offset:  311000\n",
      "Offset:  312000\n",
      "Offset:  313000\n",
      "Offset:  314000\n",
      "Offset:  315000\n",
      "Offset:  316000\n",
      "Offset:  317000\n",
      "Offset:  318000\n",
      "Offset:  319000\n",
      "Offset:  320000\n",
      "Offset:  321000\n",
      "Offset:  322000\n",
      "Offset:  323000\n",
      "Offset:  324000\n",
      "Offset:  325000\n",
      "Offset:  326000\n",
      "Offset:  327000\n",
      "Offset:  328000\n",
      "Offset:  329000\n",
      "Offset:  330000\n",
      "Offset:  331000\n",
      "Offset:  332000\n",
      "Offset:  333000\n",
      "Offset:  334000\n",
      "Offset:  335000\n",
      "Offset:  336000\n",
      "Offset:  337000\n",
      "Offset:  338000\n",
      "Offset:  339000\n",
      "Offset:  340000\n",
      "Offset:  341000\n",
      "Offset:  342000\n",
      "Offset:  343000\n",
      "Offset:  344000\n",
      "Offset:  345000\n",
      "Offset:  346000\n",
      "Offset:  347000\n",
      "Offset:  348000\n",
      "Offset:  349000\n",
      "Offset:  350000\n",
      "Offset:  351000\n",
      "Offset:  352000\n",
      "Offset:  353000\n",
      "Offset:  354000\n",
      "Offset:  355000\n",
      "Offset:  356000\n",
      "Offset:  357000\n",
      "Offset:  358000\n",
      "Offset:  359000\n",
      "Offset:  360000\n",
      "Offset:  361000\n",
      "Offset:  362000\n",
      "Offset:  363000\n",
      "Offset:  364000\n",
      "Offset:  365000\n",
      "Offset:  366000\n",
      "Offset:  367000\n",
      "Offset:  368000\n",
      "Offset:  369000\n",
      "Offset:  370000\n",
      "Offset:  0\n",
      "Offset:  1000\n",
      "Offset:  2000\n",
      "Offset:  3000\n",
      "Offset:  4000\n",
      "Offset:  5000\n",
      "Offset:  6000\n",
      "Offset:  7000\n",
      "Offset:  8000\n",
      "Offset:  9000\n",
      "Offset:  10000\n",
      "Offset:  11000\n",
      "Offset:  12000\n",
      "Offset:  13000\n",
      "Offset:  14000\n",
      "Offset:  15000\n",
      "Offset:  16000\n",
      "Offset:  17000\n",
      "Offset:  18000\n",
      "Offset:  19000\n",
      "Offset:  20000\n",
      "Offset:  21000\n",
      "Offset:  22000\n",
      "Offset:  23000\n",
      "Offset:  24000\n",
      "Offset:  25000\n",
      "Offset:  26000\n",
      "Offset:  27000\n",
      "Offset:  28000\n",
      "Offset:  29000\n",
      "Offset:  30000\n",
      "Offset:  31000\n",
      "Offset:  32000\n",
      "Offset:  33000\n",
      "Offset:  34000\n",
      "Offset:  35000\n",
      "Offset:  36000\n",
      "Offset:  37000\n",
      "Offset:  38000\n",
      "Offset:  39000\n",
      "Offset:  40000\n",
      "Offset:  41000\n",
      "Offset:  42000\n",
      "Offset:  43000\n",
      "Offset:  44000\n",
      "Offset:  45000\n",
      "Offset:  46000\n",
      "Offset:  47000\n",
      "Offset:  48000\n",
      "Offset:  49000\n",
      "Offset:  50000\n",
      "Offset:  51000\n",
      "Offset:  52000\n",
      "Offset:  53000\n",
      "Offset:  54000\n",
      "Offset:  55000\n",
      "Offset:  56000\n",
      "Offset:  57000\n",
      "Offset:  58000\n",
      "Offset:  59000\n",
      "Offset:  60000\n",
      "Offset:  61000\n",
      "Offset:  62000\n",
      "Offset:  63000\n",
      "Offset:  64000\n",
      "Offset:  65000\n",
      "Offset:  66000\n",
      "Offset:  67000\n",
      "Offset:  68000\n",
      "Offset:  69000\n",
      "Offset:  70000\n",
      "Offset:  71000\n",
      "Offset:  72000\n",
      "Offset:  73000\n",
      "Offset:  74000\n",
      "Offset:  75000\n",
      "Offset:  76000\n",
      "Offset:  77000\n",
      "Offset:  78000\n",
      "Offset:  79000\n",
      "Offset:  80000\n",
      "Offset:  81000\n",
      "Offset:  82000\n",
      "Offset:  83000\n",
      "Offset:  84000\n",
      "Offset:  85000\n",
      "Offset:  86000\n",
      "Offset:  87000\n",
      "Offset:  88000\n",
      "Offset:  89000\n",
      "Offset:  90000\n",
      "Offset:  91000\n",
      "Offset:  92000\n",
      "Offset:  93000\n",
      "Offset:  94000\n",
      "Offset:  95000\n",
      "Offset:  96000\n",
      "Offset:  97000\n",
      "Offset:  98000\n",
      "Offset:  99000\n",
      "Offset:  100000\n",
      "Offset:  101000\n",
      "Offset:  102000\n",
      "Offset:  103000\n",
      "Offset:  104000\n",
      "Offset:  105000\n",
      "Offset:  106000\n",
      "Offset:  107000\n",
      "Offset:  108000\n",
      "Offset:  109000\n",
      "Offset:  110000\n",
      "Offset:  111000\n",
      "Offset:  112000\n",
      "Offset:  113000\n",
      "Offset:  114000\n",
      "Offset:  115000\n",
      "Offset:  116000\n",
      "Offset:  117000\n",
      "Offset:  118000\n",
      "Offset:  119000\n",
      "Offset:  120000\n",
      "Offset:  121000\n",
      "Offset:  122000\n",
      "Offset:  123000\n",
      "Offset:  124000\n",
      "Offset:  125000\n",
      "Offset:  126000\n",
      "Offset:  127000\n",
      "Offset:  128000\n",
      "Offset:  129000\n",
      "Offset:  130000\n",
      "Offset:  131000\n",
      "Offset:  132000\n",
      "Offset:  133000\n",
      "Offset:  134000\n",
      "Offset:  135000\n",
      "Offset:  136000\n",
      "Offset:  137000\n",
      "Offset:  138000\n",
      "Offset:  139000\n",
      "Offset:  140000\n",
      "Offset:  141000\n",
      "Offset:  142000\n",
      "Offset:  143000\n",
      "Offset:  144000\n",
      "Offset:  145000\n",
      "Offset:  146000\n",
      "Offset:  147000\n",
      "Offset:  148000\n",
      "Offset:  149000\n",
      "Offset:  150000\n",
      "Offset:  151000\n",
      "Offset:  152000\n",
      "Offset:  153000\n",
      "Offset:  154000\n",
      "Offset:  155000\n"
     ]
    },
    {
     "name": "stdout",
     "output_type": "stream",
     "text": [
      "Offset:  156000\n",
      "Offset:  157000\n",
      "Offset:  158000\n",
      "Offset:  159000\n",
      "Offset:  160000\n",
      "Offset:  161000\n",
      "Offset:  162000\n",
      "Offset:  163000\n",
      "Offset:  164000\n",
      "Offset:  165000\n",
      "Offset:  166000\n",
      "Offset:  167000\n",
      "Offset:  168000\n",
      "Offset:  169000\n",
      "Offset:  170000\n",
      "Offset:  171000\n",
      "Offset:  172000\n",
      "Offset:  173000\n",
      "Offset:  174000\n",
      "Offset:  175000\n",
      "Offset:  176000\n",
      "Offset:  177000\n",
      "Offset:  178000\n",
      "Offset:  179000\n",
      "Offset:  180000\n",
      "Offset:  181000\n",
      "Offset:  182000\n",
      "Offset:  183000\n",
      "Offset:  184000\n",
      "Offset:  185000\n",
      "Offset:  186000\n",
      "Offset:  187000\n",
      "Offset:  188000\n",
      "Offset:  189000\n",
      "Offset:  190000\n",
      "Offset:  191000\n",
      "Offset:  192000\n",
      "Offset:  193000\n",
      "Offset:  194000\n",
      "Offset:  195000\n",
      "Offset:  196000\n",
      "Offset:  197000\n",
      "Offset:  198000\n",
      "Offset:  199000\n",
      "Offset:  200000\n",
      "Offset:  201000\n",
      "Offset:  202000\n",
      "Offset:  203000\n",
      "Offset:  204000\n",
      "Offset:  205000\n",
      "Offset:  206000\n",
      "Offset:  207000\n",
      "Offset:  208000\n",
      "Offset:  209000\n",
      "Offset:  210000\n",
      "Offset:  211000\n",
      "Offset:  212000\n",
      "Offset:  213000\n",
      "Offset:  214000\n",
      "Offset:  215000\n",
      "Offset:  216000\n",
      "Offset:  217000\n",
      "Offset:  218000\n",
      "Offset:  219000\n",
      "Offset:  220000\n",
      "Offset:  221000\n",
      "Offset:  222000\n",
      "Offset:  223000\n",
      "Offset:  224000\n",
      "Offset:  225000\n",
      "Offset:  226000\n",
      "Offset:  227000\n",
      "Offset:  228000\n",
      "Offset:  229000\n",
      "Offset:  230000\n",
      "Offset:  231000\n",
      "Offset:  232000\n",
      "Offset:  233000\n",
      "Offset:  234000\n",
      "Offset:  235000\n",
      "Offset:  236000\n",
      "Offset:  237000\n",
      "Offset:  238000\n",
      "Offset:  239000\n",
      "Offset:  240000\n",
      "Offset:  241000\n",
      "Offset:  242000\n",
      "Offset:  243000\n",
      "Offset:  244000\n",
      "Offset:  245000\n",
      "Offset:  246000\n",
      "Offset:  247000\n",
      "Offset:  248000\n",
      "Offset:  249000\n",
      "Offset:  250000\n",
      "Offset:  251000\n",
      "Offset:  252000\n",
      "Offset:  253000\n",
      "Offset:  254000\n",
      "Offset:  255000\n",
      "Offset:  256000\n",
      "Offset:  257000\n",
      "Offset:  258000\n",
      "Offset:  259000\n",
      "Offset:  260000\n",
      "Offset:  261000\n",
      "Offset:  262000\n",
      "Offset:  263000\n",
      "Offset:  264000\n",
      "Offset:  265000\n",
      "Offset:  266000\n",
      "Offset:  267000\n",
      "Offset:  268000\n",
      "Offset:  269000\n",
      "Offset:  270000\n",
      "Offset:  271000\n",
      "Offset:  272000\n",
      "Offset:  273000\n",
      "Offset:  274000\n",
      "Offset:  275000\n",
      "Offset:  276000\n",
      "Offset:  277000\n",
      "Offset:  278000\n",
      "Offset:  279000\n",
      "Offset:  280000\n",
      "Offset:  281000\n",
      "Offset:  282000\n",
      "Offset:  283000\n",
      "Offset:  284000\n",
      "Offset:  285000\n",
      "Offset:  286000\n",
      "Offset:  287000\n",
      "Offset:  288000\n",
      "Offset:  289000\n",
      "Offset:  290000\n",
      "Offset:  291000\n",
      "Offset:  292000\n",
      "Offset:  293000\n",
      "Offset:  294000\n",
      "Offset:  295000\n",
      "Offset:  296000\n",
      "Offset:  297000\n",
      "Offset:  298000\n",
      "Offset:  299000\n",
      "Offset:  300000\n",
      "Offset:  301000\n",
      "Offset:  302000\n",
      "Offset:  303000\n",
      "Offset:  304000\n",
      "Offset:  305000\n",
      "Offset:  306000\n",
      "Offset:  307000\n",
      "Offset:  308000\n",
      "Offset:  309000\n",
      "Offset:  310000\n",
      "Offset:  311000\n",
      "Offset:  312000\n",
      "Offset:  313000\n",
      "Offset:  314000\n",
      "Offset:  315000\n",
      "Offset:  316000\n",
      "Offset:  317000\n",
      "Offset:  318000\n",
      "Offset:  319000\n",
      "Offset:  320000\n",
      "Offset:  321000\n",
      "Offset:  322000\n",
      "Offset:  323000\n",
      "Offset:  324000\n",
      "Offset:  325000\n",
      "Offset:  326000\n",
      "Offset:  327000\n",
      "Offset:  328000\n",
      "Offset:  329000\n",
      "Offset:  330000\n",
      "Offset:  331000\n",
      "Offset:  332000\n",
      "Offset:  333000\n",
      "Offset:  334000\n",
      "Offset:  335000\n",
      "Offset:  336000\n",
      "Offset:  337000\n",
      "Offset:  338000\n",
      "Offset:  339000\n",
      "Offset:  340000\n",
      "Offset:  341000\n",
      "Offset:  342000\n",
      "Offset:  343000\n",
      "Offset:  344000\n",
      "Offset:  345000\n",
      "Offset:  346000\n",
      "Offset:  347000\n",
      "Offset:  348000\n",
      "Offset:  349000\n",
      "Offset:  350000\n",
      "Offset:  351000\n",
      "Offset:  352000\n",
      "Offset:  353000\n",
      "Offset:  354000\n",
      "Offset:  355000\n",
      "Offset:  356000\n",
      "Offset:  357000\n",
      "Offset:  358000\n",
      "Offset:  359000\n",
      "Offset:  360000\n",
      "Offset:  361000\n",
      "Offset:  362000\n",
      "Offset:  363000\n",
      "Offset:  364000\n",
      "Offset:  365000\n",
      "Offset:  366000\n",
      "Offset:  367000\n",
      "Offset:  368000\n",
      "Offset:  369000\n",
      "Offset:  370000\n",
      "Offset:  371000\n",
      "Offset:  372000\n",
      "Offset:  373000\n",
      "Offset:  374000\n",
      "Offset:  375000\n",
      "Offset:  376000\n",
      "Offset:  377000\n",
      "Offset:  378000\n",
      "Offset:  379000\n",
      "Offset:  380000\n",
      "Offset:  381000\n",
      "Offset:  382000\n",
      "Offset:  383000\n",
      "Offset:  384000\n",
      "Offset:  385000\n",
      "Offset:  386000\n",
      "Offset:  387000\n",
      "Offset:  388000\n",
      "Offset:  389000\n",
      "Offset:  390000\n",
      "Offset:  391000\n",
      "Offset:  392000\n",
      "Offset:  393000\n",
      "Offset:  394000\n",
      "Offset:  395000\n",
      "Offset:  396000\n",
      "Offset:  397000\n",
      "Offset:  398000\n",
      "Offset:  399000\n",
      "Offset:  400000\n",
      "Offset:  401000\n",
      "Offset:  402000\n",
      "Offset:  403000\n",
      "Offset:  404000\n",
      "Offset:  405000\n",
      "Offset:  406000\n",
      "Offset:  407000\n",
      "Offset:  408000\n",
      "Offset:  409000\n",
      "Offset:  410000\n",
      "Offset:  411000\n",
      "Offset:  412000\n",
      "Offset:  413000\n",
      "Offset:  414000\n",
      "Offset:  415000\n",
      "Offset:  416000\n",
      "Offset:  417000\n",
      "Offset:  418000\n",
      "Offset:  419000\n",
      "Offset:  420000\n",
      "Offset:  421000\n",
      "Offset:  422000\n",
      "Offset:  423000\n",
      "Offset:  424000\n",
      "Offset:  425000\n",
      "Offset:  426000\n",
      "Offset:  427000\n",
      "Offset:  428000\n",
      "Offset:  429000\n",
      "Offset:  430000\n",
      "Offset:  431000\n",
      "Offset:  432000\n",
      "Offset:  433000\n",
      "Offset:  434000\n",
      "Offset:  435000\n",
      "Offset:  436000\n",
      "Offset:  437000\n",
      "Offset:  438000\n",
      "Offset:  439000\n",
      "Offset:  440000\n",
      "Offset:  441000\n",
      "Offset:  442000\n",
      "Offset:  443000\n",
      "Offset:  444000\n"
     ]
    }
   ],
   "source": [
    "domains = ['ntv', 'tvrain']\n",
    "\n",
    "\n",
    "for group_domain in domains:\n",
    "    offset = 0\n",
    "    group_id = group_domain\n",
    "    fields = \"\"\"sex,bdate,city,country,home_town,lists,domain,has_mobile,\n",
    "    contacts,connections,education,universities,followers_count,occupation,last_seen,relation\"\"\"\n",
    "    first_sample = vk_get_response(\n",
    "        'groups.getMembers', 'group_id={0}&offset={1}&fields={2}&v=4.9&lang=ru'.format(\n",
    "            group_id, offset, fields\n",
    "        ), token=access_token\n",
    "    )\n",
    "    community_count = first_sample['response']['count']\n",
    "    community_members = []\n",
    "    for i in range(community_count // 1000 + 1):\n",
    "        offset = i * 1000\n",
    "        try:\n",
    "            answer = vk_get_response(\n",
    "                'groups.getMembers', 'group_id={0}&offset={1}&fields={2}&v=4.9&lang=ru'.format(\n",
    "                    group_id, offset, fields), token=access_token\n",
    "            )\n",
    "            print(\"Offset: \", offset)\n",
    "        except:\n",
    "            print(\"Offset: \", offset, \" Error\")\n",
    "        community_members += answer['response']['users']\n",
    "    save_obj(community_members, '{}_subs'.format(group_domain))"
   ]
  },
  {
   "cell_type": "code",
   "execution_count": 11,
   "metadata": {},
   "outputs": [],
   "source": [
    "community_ntv = load_obj('ntv_subs')\n",
    "community_tvrain = load_obj('tvrain_subs')"
   ]
  },
  {
   "cell_type": "code",
   "execution_count": 12,
   "metadata": {},
   "outputs": [
    {
     "data": {
      "text/plain": [
       "[{'uid': 279,\n",
       "  'first_name': 'Катя',\n",
       "  'last_name': 'Розенберг',\n",
       "  'sex': 1,\n",
       "  'domain': 'rozenkat',\n",
       "  'bdate': '10.2',\n",
       "  'city': 2,\n",
       "  'country': 1,\n",
       "  'has_mobile': 1,\n",
       "  'last_seen': {'time': 1552246856, 'platform': 2},\n",
       "  'occupation': {'type': 'university', 'id': 1, 'name': 'СПбГУ'}},\n",
       " {'uid': 348,\n",
       "  'first_name': 'Галина',\n",
       "  'last_name': 'Румянцева',\n",
       "  'deactivated': 'banned',\n",
       "  'sex': 1,\n",
       "  'domain': 'id348'}]"
      ]
     },
     "execution_count": 12,
     "metadata": {},
     "output_type": "execute_result"
    }
   ],
   "source": [
    "community_ntv[:2]"
   ]
  },
  {
   "cell_type": "code",
   "execution_count": 13,
   "metadata": {},
   "outputs": [],
   "source": [
    "community_ntv_df = pd.DataFrame(community_ntv)\n",
    "community_tvrain_df = pd.DataFrame(community_tvrain)"
   ]
  },
  {
   "cell_type": "code",
   "execution_count": 14,
   "metadata": {},
   "outputs": [
    {
     "data": {
      "text/plain": [
       "Index(['bdate', 'city', 'country', 'deactivated', 'domain', 'education_form',\n",
       "       'education_status', 'facebook', 'facebook_name', 'faculty',\n",
       "       'faculty_name', 'first_name', 'followers_count', 'graduation',\n",
       "       'has_mobile', 'home_town', 'instagram', 'last_name', 'last_seen',\n",
       "       'livejournal', 'occupation', 'relation', 'relation_partner', 'sex',\n",
       "       'skype', 'twitter', 'uid', 'universities', 'university',\n",
       "       'university_name'],\n",
       "      dtype='object')"
      ]
     },
     "execution_count": 14,
     "metadata": {},
     "output_type": "execute_result"
    }
   ],
   "source": [
    "community_ntv_df.columns"
   ]
  },
  {
   "cell_type": "code",
   "execution_count": 90,
   "metadata": {},
   "outputs": [
    {
     "data": {
      "text/html": [
       "<div>\n",
       "<style scoped>\n",
       "    .dataframe tbody tr th:only-of-type {\n",
       "        vertical-align: middle;\n",
       "    }\n",
       "\n",
       "    .dataframe tbody tr th {\n",
       "        vertical-align: top;\n",
       "    }\n",
       "\n",
       "    .dataframe thead th {\n",
       "        text-align: right;\n",
       "    }\n",
       "</style>\n",
       "<table border=\"1\" class=\"dataframe\">\n",
       "  <thead>\n",
       "    <tr style=\"text-align: right;\">\n",
       "      <th></th>\n",
       "      <th>bdate</th>\n",
       "      <th>city</th>\n",
       "      <th>country</th>\n",
       "      <th>deactivated</th>\n",
       "      <th>domain</th>\n",
       "      <th>education_form</th>\n",
       "      <th>education_status</th>\n",
       "      <th>facebook</th>\n",
       "      <th>facebook_name</th>\n",
       "      <th>faculty</th>\n",
       "      <th>...</th>\n",
       "      <th>occupation</th>\n",
       "      <th>relation</th>\n",
       "      <th>relation_partner</th>\n",
       "      <th>sex</th>\n",
       "      <th>skype</th>\n",
       "      <th>twitter</th>\n",
       "      <th>uid</th>\n",
       "      <th>universities</th>\n",
       "      <th>university</th>\n",
       "      <th>university_name</th>\n",
       "    </tr>\n",
       "  </thead>\n",
       "  <tbody>\n",
       "    <tr>\n",
       "      <th>0</th>\n",
       "      <td>10.2</td>\n",
       "      <td>2.0</td>\n",
       "      <td>1.0</td>\n",
       "      <td>NaN</td>\n",
       "      <td>rozenkat</td>\n",
       "      <td>NaN</td>\n",
       "      <td>NaN</td>\n",
       "      <td>NaN</td>\n",
       "      <td>NaN</td>\n",
       "      <td>NaN</td>\n",
       "      <td>...</td>\n",
       "      <td>{'type': 'university', 'id': 1, 'name': 'СПбГУ'}</td>\n",
       "      <td>NaN</td>\n",
       "      <td>NaN</td>\n",
       "      <td>1</td>\n",
       "      <td>NaN</td>\n",
       "      <td>NaN</td>\n",
       "      <td>279</td>\n",
       "      <td>NaN</td>\n",
       "      <td>NaN</td>\n",
       "      <td>NaN</td>\n",
       "    </tr>\n",
       "    <tr>\n",
       "      <th>1</th>\n",
       "      <td>NaN</td>\n",
       "      <td>NaN</td>\n",
       "      <td>NaN</td>\n",
       "      <td>banned</td>\n",
       "      <td>id348</td>\n",
       "      <td>NaN</td>\n",
       "      <td>NaN</td>\n",
       "      <td>NaN</td>\n",
       "      <td>NaN</td>\n",
       "      <td>NaN</td>\n",
       "      <td>...</td>\n",
       "      <td>NaN</td>\n",
       "      <td>NaN</td>\n",
       "      <td>NaN</td>\n",
       "      <td>1</td>\n",
       "      <td>NaN</td>\n",
       "      <td>NaN</td>\n",
       "      <td>348</td>\n",
       "      <td>NaN</td>\n",
       "      <td>NaN</td>\n",
       "      <td>NaN</td>\n",
       "    </tr>\n",
       "    <tr>\n",
       "      <th>2</th>\n",
       "      <td>NaN</td>\n",
       "      <td>0.0</td>\n",
       "      <td>0.0</td>\n",
       "      <td>NaN</td>\n",
       "      <td>id510</td>\n",
       "      <td>NaN</td>\n",
       "      <td>NaN</td>\n",
       "      <td>NaN</td>\n",
       "      <td>NaN</td>\n",
       "      <td>NaN</td>\n",
       "      <td>...</td>\n",
       "      <td>NaN</td>\n",
       "      <td>NaN</td>\n",
       "      <td>NaN</td>\n",
       "      <td>2</td>\n",
       "      <td>NaN</td>\n",
       "      <td>NaN</td>\n",
       "      <td>510</td>\n",
       "      <td>NaN</td>\n",
       "      <td>NaN</td>\n",
       "      <td>NaN</td>\n",
       "    </tr>\n",
       "    <tr>\n",
       "      <th>3</th>\n",
       "      <td>NaN</td>\n",
       "      <td>NaN</td>\n",
       "      <td>NaN</td>\n",
       "      <td>banned</td>\n",
       "      <td>id619</td>\n",
       "      <td>NaN</td>\n",
       "      <td>NaN</td>\n",
       "      <td>NaN</td>\n",
       "      <td>NaN</td>\n",
       "      <td>NaN</td>\n",
       "      <td>...</td>\n",
       "      <td>NaN</td>\n",
       "      <td>NaN</td>\n",
       "      <td>NaN</td>\n",
       "      <td>2</td>\n",
       "      <td>NaN</td>\n",
       "      <td>NaN</td>\n",
       "      <td>619</td>\n",
       "      <td>NaN</td>\n",
       "      <td>NaN</td>\n",
       "      <td>NaN</td>\n",
       "    </tr>\n",
       "    <tr>\n",
       "      <th>4</th>\n",
       "      <td>20.5.1987</td>\n",
       "      <td>0.0</td>\n",
       "      <td>0.0</td>\n",
       "      <td>NaN</td>\n",
       "      <td>ilyaa.orlov</td>\n",
       "      <td>NaN</td>\n",
       "      <td>NaN</td>\n",
       "      <td>NaN</td>\n",
       "      <td>NaN</td>\n",
       "      <td>0.0</td>\n",
       "      <td>...</td>\n",
       "      <td>NaN</td>\n",
       "      <td>5.0</td>\n",
       "      <td>NaN</td>\n",
       "      <td>2</td>\n",
       "      <td>NaN</td>\n",
       "      <td>NaN</td>\n",
       "      <td>914</td>\n",
       "      <td>[]</td>\n",
       "      <td>0.0</td>\n",
       "      <td></td>\n",
       "    </tr>\n",
       "  </tbody>\n",
       "</table>\n",
       "<p>5 rows × 30 columns</p>\n",
       "</div>"
      ],
      "text/plain": [
       "       bdate  city  country deactivated       domain education_form  \\\n",
       "0       10.2   2.0      1.0         NaN     rozenkat            NaN   \n",
       "1        NaN   NaN      NaN      banned        id348            NaN   \n",
       "2        NaN   0.0      0.0         NaN        id510            NaN   \n",
       "3        NaN   NaN      NaN      banned        id619            NaN   \n",
       "4  20.5.1987   0.0      0.0         NaN  ilyaa.orlov            NaN   \n",
       "\n",
       "  education_status facebook facebook_name  faculty  ...  \\\n",
       "0              NaN      NaN           NaN      NaN  ...   \n",
       "1              NaN      NaN           NaN      NaN  ...   \n",
       "2              NaN      NaN           NaN      NaN  ...   \n",
       "3              NaN      NaN           NaN      NaN  ...   \n",
       "4              NaN      NaN           NaN      0.0  ...   \n",
       "\n",
       "                                         occupation relation  \\\n",
       "0  {'type': 'university', 'id': 1, 'name': 'СПбГУ'}      NaN   \n",
       "1                                               NaN      NaN   \n",
       "2                                               NaN      NaN   \n",
       "3                                               NaN      NaN   \n",
       "4                                               NaN      5.0   \n",
       "\n",
       "   relation_partner  sex  skype twitter  uid universities university  \\\n",
       "0               NaN    1    NaN     NaN  279          NaN        NaN   \n",
       "1               NaN    1    NaN     NaN  348          NaN        NaN   \n",
       "2               NaN    2    NaN     NaN  510          NaN        NaN   \n",
       "3               NaN    2    NaN     NaN  619          NaN        NaN   \n",
       "4               NaN    2    NaN     NaN  914           []        0.0   \n",
       "\n",
       "  university_name  \n",
       "0             NaN  \n",
       "1             NaN  \n",
       "2             NaN  \n",
       "3             NaN  \n",
       "4                  \n",
       "\n",
       "[5 rows x 30 columns]"
      ]
     },
     "execution_count": 90,
     "metadata": {},
     "output_type": "execute_result"
    }
   ],
   "source": [
    "community_ntv_df.head()"
   ]
  },
  {
   "cell_type": "markdown",
   "metadata": {},
   "source": [
    "Сначала получим всех уникальных подписчиков НТВ и Дождя с помощью unique. Далее с помощью numpy.random необходимо выбрать небольшой sample (например, по 1000 из каждой группы) таких людей и объединить их вместе"
   ]
  },
  {
   "cell_type": "code",
   "execution_count": 15,
   "metadata": {},
   "outputs": [],
   "source": [
    "ntv_uids = community_ntv_df.uid.unique().tolist()\n",
    "tvrain_uids = community_tvrain_df.uid.unique().tolist()"
   ]
  },
  {
   "cell_type": "code",
   "execution_count": 16,
   "metadata": {},
   "outputs": [
    {
     "data": {
      "text/plain": [
       "370487"
      ]
     },
     "execution_count": 16,
     "metadata": {},
     "output_type": "execute_result"
    }
   ],
   "source": [
    "len(ntv_uids)"
   ]
  },
  {
   "cell_type": "code",
   "execution_count": 17,
   "metadata": {},
   "outputs": [
    {
     "data": {
      "text/plain": [
       "444113"
      ]
     },
     "execution_count": 17,
     "metadata": {},
     "output_type": "execute_result"
    }
   ],
   "source": [
    "len(tvrain_uids)"
   ]
  },
  {
   "cell_type": "code",
   "execution_count": 19,
   "metadata": {},
   "outputs": [],
   "source": [
    "# получить общий список людей из двух выборок НТВ и Дождя, всего должно быть в итоге около 2000 человек\n",
    "uids_rand_ntv = np.random.choice(ntv_uids,1000,replace=False) \n",
    "uids_rand_tvrain = np.random.choice(tvrain_uids,1000,replace=False) \n",
    "uids =  np.concatenate((uids_rand_ntv, uids_rand_tvrain), axis=None)"
   ]
  },
  {
   "cell_type": "code",
   "execution_count": 20,
   "metadata": {},
   "outputs": [
    {
     "data": {
      "text/plain": [
       "array([389619082, 208658675, 215915023, ..., 119550420, 247885963,\n",
       "        96788391])"
      ]
     },
     "execution_count": 20,
     "metadata": {},
     "output_type": "execute_result"
    }
   ],
   "source": [
    "uids"
   ]
  },
  {
   "cell_type": "code",
   "execution_count": 21,
   "metadata": {},
   "outputs": [
    {
     "data": {
      "text/plain": [
       "2000"
      ]
     },
     "execution_count": 21,
     "metadata": {},
     "output_type": "execute_result"
    }
   ],
   "source": [
    "len(np.unique(uids))"
   ]
  },
  {
   "cell_type": "code",
   "execution_count": 22,
   "metadata": {},
   "outputs": [],
   "source": [
    "#рандомно выбираем 1000 id, чтобы распределение количества групп было примерно одинаковым\n",
    "uids = np.random.choice(uids,1000,replace=False) "
   ]
  },
  {
   "cell_type": "code",
   "execution_count": 33,
   "metadata": {},
   "outputs": [],
   "source": [
    "uid_selected_ntv = list(filter( lambda x: x in uids_rand_ntv, uids))\n",
    "uid_selected_tvrain = list(filter( lambda x: x in uids_rand_tvrain, uids))"
   ]
  },
  {
   "cell_type": "code",
   "execution_count": 34,
   "metadata": {},
   "outputs": [
    {
     "data": {
      "text/plain": [
       "493"
      ]
     },
     "execution_count": 34,
     "metadata": {},
     "output_type": "execute_result"
    }
   ],
   "source": [
    "len(uid_selected_ntv)"
   ]
  },
  {
   "cell_type": "code",
   "execution_count": 35,
   "metadata": {},
   "outputs": [
    {
     "data": {
      "text/plain": [
       "507"
      ]
     },
     "execution_count": 35,
     "metadata": {},
     "output_type": "execute_result"
    }
   ],
   "source": [
    "len(uid_selected_tvrain)"
   ]
  },
  {
   "cell_type": "markdown",
   "metadata": {},
   "source": [
    "Распределение людей получилось примерно одинаковым"
   ]
  },
  {
   "cell_type": "markdown",
   "metadata": {},
   "source": [
    "Сохраняем дя воспроизводимости результатов"
   ]
  },
  {
   "cell_type": "code",
   "execution_count": 38,
   "metadata": {},
   "outputs": [],
   "source": [
    "save_obj(uid_selected_ntv,'uid_selected_ntv')\n",
    "save_obj(uid_selected_tvrain,'uid_selected_tvrain')"
   ]
  },
  {
   "cell_type": "code",
   "execution_count": 53,
   "metadata": {},
   "outputs": [
    {
     "name": "stdout",
     "output_type": "stream",
     "text": [
      "0 profiles done\n",
      "100 profiles done\n",
      "Error\n",
      "200 profiles done\n",
      "300 profiles done\n",
      "400 profiles done\n",
      "500 profiles done\n",
      "600 profiles done\n",
      "700 profiles done\n",
      "800 profiles done\n",
      "900 profiles done\n"
     ]
    }
   ],
   "source": [
    "# получить подписки этих пользователей\n",
    "print_counter = 0\n",
    "final_data = []\n",
    "\n",
    "final_data_ntv = []\n",
    "final_data_rain = []\n",
    "\n",
    "top_n = 5\n",
    "for uid in uids[:1000]:\n",
    "    try:\n",
    "        user_subs = vk_get_response(\n",
    "            'users.getSubscriptions', 'user_id={0}&v=4.9&lang=ru'.format(int(uid)), access_token\n",
    "        )\n",
    "        time.sleep(0.3)\n",
    "        final_data.append(user_subs)\n",
    "        \n",
    "        #отдельно добавляем id групп для нтв и дождя, чтобы потом можно было проанализировать.на выходе у нас будет два списка, один -  с ид дождя, другой - с ид нтв\n",
    "        try:\n",
    "            if uid in uid_selected_ntv:\n",
    "                if user_subs.get('response'):\n",
    "                    final_data_ntv.extend(user_subs['response']['groups'].get('items')[:top_n])\n",
    "            else:\n",
    "                if user_subs.get('response'):\n",
    "                    final_data_rain.extend(user_subs['response']['groups'].get('items')[:top_n])\n",
    "        except Exception:\n",
    "            print('1')\n",
    "                \n",
    "    except:\n",
    "        print(\"Error\")\n",
    "    if print_counter % 100 == 0:\n",
    "        print(\"{0} profiles done\".format(print_counter))\n",
    "    print_counter += 1"
   ]
  },
  {
   "cell_type": "code",
   "execution_count": 55,
   "metadata": {},
   "outputs": [
    {
     "name": "stdout",
     "output_type": "stream",
     "text": [
      "Processed 100 users\n",
      "Processed 200 users\n",
      "Processed 300 users\n",
      "Processed 400 users\n",
      "Processed 400 users\n",
      "Processed 400 users\n",
      "Processed 400 users\n",
      "Processed 400 users\n",
      "Processed 500 users\n",
      "Processed 600 users\n",
      "Processed 700 users\n",
      "Processed 800 users\n"
     ]
    }
   ],
   "source": [
    "#по каждому юзеру вытаскиваем 5 его групп\n",
    "subs_list = []\n",
    "groups_freq_dict = {}\n",
    "top_n = 5\n",
    "\n",
    "#final_data - список словарей, где отдельный словарь включает в  себя id и ково юзеров на который подписан пользователь, а таке id и колво групп на которые подписан пользователь\n",
    "for record, uid in zip(final_data, uids):\n",
    "    try:\n",
    "        user_subs = record\n",
    "        #если в final data по эому юзеру записалось сообщение с ошибкой\n",
    "        if not user_subs.get('response'):\n",
    "            user_subs = vk_get_response(\n",
    "                'users.getSubscriptions', 'user_id={0}&v=4.9&lang=ru'.format(int(uid)), access_token\n",
    "            )\n",
    "        subs_pd = pd.DataFrame(\n",
    "            [\n",
    "                {\n",
    "                    'groups_count': user_subs['response']['groups'].get('count'),\n",
    "                    'groups_list': user_subs['response']['groups'].get('items'),\n",
    "                    'follows_count':user_subs['response']['users'].get('count'),\n",
    "                    'follows_list': user_subs['response']['users'].get('items'),\n",
    "                }\n",
    "            ]\n",
    "        )\n",
    "\n",
    "        for group_id in user_subs['response']['groups'].get('items')[:top_n]:\n",
    "            if groups_freq_dict.get(group_id):\n",
    "                groups_freq_dict[group_id] += 1\n",
    "            else:\n",
    "                groups_freq_dict[group_id] = 1\n",
    "\n",
    "        subs_pd['subs_count'] = subs_pd['groups_count'] + subs_pd['follows_count']\n",
    "        subs_list.append(subs_pd)\n",
    "    except:\n",
    "#         print(user_subs)\n",
    "        pass\n",
    "    if len(subs_list) % 100 == 0:\n",
    "        print(\"Processed {0} users\".format(len(subs_list)))"
   ]
  },
  {
   "cell_type": "markdown",
   "metadata": {},
   "source": [
    "Самые популярные группы"
   ]
  },
  {
   "cell_type": "code",
   "execution_count": 12,
   "metadata": {},
   "outputs": [
    {
     "data": {
      "text/plain": [
       "[(17568841, 110),\n",
       " (28658784, 82),\n",
       " (15755094, 36),\n",
       " (68519692, 22),\n",
       " (2158488, 20)]"
      ]
     },
     "execution_count": 12,
     "metadata": {},
     "output_type": "execute_result"
    }
   ],
   "source": [
    "sorted([(key, val) for key, val in groups_freq_dict.items()], key=lambda x: x[1], reverse=True)[:5]"
   ]
  },
  {
   "cell_type": "markdown",
   "metadata": {},
   "source": [
    "На этом шаге, отобрали по 5 самых используемых групп от каждого пользователя и загрузили их в отдельный словарь, где ключь - ид группы, а значение - то сколько раз эта группа встречалась у пользователей"
   ]
  },
  {
   "cell_type": "markdown",
   "metadata": {},
   "source": [
    "Загрузка постов со стен групп"
   ]
  },
  {
   "cell_type": "code",
   "execution_count": 41,
   "metadata": {},
   "outputs": [
    {
     "data": {
      "text/plain": [
       "{'error': {'error_code': 5,\n",
       "  'error_msg': 'User authorization failed: access_token was given to another ip address.',\n",
       "  'request_params': [{'key': 'oauth', 'value': '1'},\n",
       "   {'key': 'method', 'value': 'wall.get'},\n",
       "   {'key': 'owner_id', 'value': '-28528027'},\n",
       "   {'key': 'count', 'value': '100'},\n",
       "   {'key': 'fields', 'value': 'post_type,marked_as_ads'},\n",
       "   {'key': '', 'value': ''},\n",
       "   {'key': 'v', 'value': '4.9'},\n",
       "   {'key': 'lang', 'value': 'ru'}]}}"
      ]
     },
     "execution_count": 41,
     "metadata": {},
     "output_type": "execute_result"
    }
   ],
   "source": [
    "vk_get_response(\n",
    "            'wall.get',\n",
    "            'owner_id={0}&count=100&fields=post_type,marked_as_ads&&v=4.9&lang=ru'.format(int(28528027) * -1),\n",
    "            access_token\n",
    "        )"
   ]
  },
  {
   "cell_type": "markdown",
   "metadata": {},
   "source": [
    "По каждой из отобранных групп, загружаем сырые данные по постам.Складываем в отдельный словарь вида - ид группы - ее посты"
   ]
  },
  {
   "cell_type": "code",
   "execution_count": null,
   "metadata": {},
   "outputs": [],
   "source": [
    "vk_get_response(\n",
    "            'wall.get',\n",
    "            'owner_id={0}&count=100&fields=post_type,marked_as_ads&filter=&&v=4.9&lang=ru'.format(int(group_id) * -1),\n",
    "            access_token\n",
    "        )"
   ]
  },
  {
   "cell_type": "code",
   "execution_count": 56,
   "metadata": {},
   "outputs": [
    {
     "name": "stdout",
     "output_type": "stream",
     "text": [
      "100 groups extracted\n",
      "200 groups extracted\n",
      "300 groups extracted\n",
      "400 groups extracted\n",
      "500 groups extracted\n",
      "600 groups extracted\n",
      "700 groups extracted\n",
      "800 groups extracted\n",
      "900 groups extracted\n",
      "1000 groups extracted\n",
      "1100 groups extracted\n",
      "1200 groups extracted\n",
      "Response error. Group id 163822605\n",
      "1300 groups extracted\n",
      "1400 groups extracted\n",
      "1500 groups extracted\n",
      "1600 groups extracted\n",
      "1700 groups extracted\n",
      "1800 groups extracted\n",
      "1900 groups extracted\n",
      "Response error. Group id 81030765\n",
      "2000 groups extracted\n",
      "2100 groups extracted\n",
      "2200 groups extracted\n",
      "2300 groups extracted\n",
      "2400 groups extracted\n"
     ]
    }
   ],
   "source": [
    "group_doc_dict = {}\n",
    "counter = 0\n",
    "groups_freq_dict_top5 = groups_freq_dict\n",
    "\n",
    "for group_id, freq in groups_freq_dict_top5.items():\n",
    "    counter += 1\n",
    "    try:\n",
    "        check = vk_get_response(\n",
    "            'wall.get',\n",
    "            'owner_id={0}&count=100&fields=post_type,marked_as_ads&&v=4.9&lang=ru'.format(int(group_id) * -1),\n",
    "            access_token\n",
    "        )\n",
    "        check = check['response']\n",
    "        group_doc = ''\n",
    "        if check[0] != 0:\n",
    "            for post in check[1:]:\n",
    "                if post.get('marked_as_ads') != 1:\n",
    "                    group_doc += post['text']\n",
    "        group_doc_dict[group_id] = group_doc\n",
    "    except:\n",
    "        print(\"Response error. Group id {0}\".format(group_id))\n",
    "        #print(check)\n",
    "    if counter % 100 == 0:\n",
    "        print(\"{0} groups extracted\".format(counter))\n",
    "    time.sleep(0.3)"
   ]
  },
  {
   "cell_type": "code",
   "execution_count": 57,
   "metadata": {},
   "outputs": [],
   "source": [
    "# сохранить сырые данные по постам групп на диск\n",
    "save_obj(group_doc_dict, 'group_doc_dict')"
   ]
  },
  {
   "cell_type": "code",
   "execution_count": 58,
   "metadata": {},
   "outputs": [
    {
     "name": "stdout",
     "output_type": "stream",
     "text": [
      "[nltk_data] Downloading package stopwords to\n",
      "[nltk_data]     C:\\Users\\viktoria.sinditskaya\\AppData\\Roaming\\nltk_dat\n",
      "[nltk_data]     a...\n",
      "[nltk_data]   Package stopwords is already up-to-date!\n"
     ]
    },
    {
     "data": {
      "text/plain": [
       "True"
      ]
     },
     "execution_count": 58,
     "metadata": {},
     "output_type": "execute_result"
    }
   ],
   "source": [
    "from bs4 import BeautifulSoup\n",
    "import re\n",
    "import string\n",
    "from nltk import word_tokenize\n",
    "from nltk.corpus import stopwords\n",
    "from nltk.stem.porter import PorterStemmer\n",
    "import nltk\n",
    "from pymorphy2 import MorphAnalyzer\n",
    "nltk.download('stopwords')"
   ]
  },
  {
   "cell_type": "code",
   "execution_count": 59,
   "metadata": {},
   "outputs": [],
   "source": [
    "chrs_to_delete = string.punctuation + u'»' + u'«' + u'—' + u'“' + u'„' + u'•' + u'#'\n",
    "translation_table = {ord(c): None for c in chrs_to_delete if c != u'-'}\n",
    "units = MorphAnalyzer.DEFAULT_UNITS\n",
    "morph = MorphAnalyzer(result_type=None, units=units)\n",
    "PortSt = PorterStemmer()\n",
    "stopw = set(\n",
    "    [w for w in stopwords.words(['russian', 'english'])]\n",
    "    + [u'это', u'году', u'года', u'также', u'етот',\n",
    "       u'которые', u'который', u'которая', u'поэтому',\n",
    "       u'весь', u'свой', u'мочь', u'eтот', u'например',\n",
    "       u'какой-то', u'кто-то', u'самый', u'очень', u'несколько',\n",
    "       u'источник', u'стать', u'время', u'пока', u'однако',\n",
    "       u'около', u'немного', u'кроме', u'гораздо', u'каждый',\n",
    "       u'первый', u'вполне', u'из-за', u'из-под',\n",
    "       u'второй', u'нужно', u'нужный', u'просто', u'большой',\n",
    "       u'хороший', u'хотеть', u'начать', u'должный', u'новый', u'день',\n",
    "       u'метр', u'получить', u'далее', u'именно', u'апрель',\n",
    "       u'сообщать', u'разный', u'говорить', u'делать',\n",
    "       u'появиться', u'2016',\n",
    "       u'2015', u'получить', u'иметь', u'составить', u'дать', u'читать',\n",
    "       u'ничто', u'достаточно', u'использовать',\n",
    "       u'принять', u'практически',\n",
    "       u'находиться', u'месяц', u'достаточно', u'что-то', u'часто',\n",
    "       u'хотеть', u'начаться', u'делать', u'событие', u'составлять',\n",
    "       u'остаться', u'заявить', u'сделать', u'дело',\n",
    "       u'примерно', u'попасть', u'хотя', u'лишь', u'первое',\n",
    "       u'больший', u'решить', u'число', u'идти', u'давать', u'вопрос',\n",
    "       u'сегодня', u'часть', u'высокий', u'главный', u'случай', u'место',\n",
    "       u'конец', u'работать', u'работа', u'слово', u'важный', u'сказать']\n",
    ")"
   ]
  },
  {
   "cell_type": "code",
   "execution_count": 60,
   "metadata": {},
   "outputs": [],
   "source": [
    "url_start = 'http[s]?://'\n",
    "url_end = (\n",
    "    '(?:[a-zA-Z]|[0-9]|[$-_@.&+]|[!*\\(\\),]|(?:%[0-9a-fA-F][0-9a-fA-F]))+'\n",
    ")\n",
    "pattern = url_start + url_end"
   ]
  },
  {
   "cell_type": "markdown",
   "metadata": {},
   "source": [
    "Обработка слов постов групп - трансформация в \"хороший\" вид. Нормализация и стэмминг, удаление стоп-слов"
   ]
  },
  {
   "cell_type": "code",
   "execution_count": 61,
   "metadata": {},
   "outputs": [
    {
     "name": "stdout",
     "output_type": "stream",
     "text": [
      "[nltk_data] Downloading package punkt to\n",
      "[nltk_data]     C:\\Users\\viktoria.sinditskaya\\AppData\\Roaming\\nltk_dat\n",
      "[nltk_data]     a...\n",
      "[nltk_data]   Package punkt is already up-to-date!\n"
     ]
    },
    {
     "data": {
      "text/plain": [
       "True"
      ]
     },
     "execution_count": 61,
     "metadata": {},
     "output_type": "execute_result"
    }
   ],
   "source": [
    "nltk.download('punkt')"
   ]
  },
  {
   "cell_type": "code",
   "execution_count": 62,
   "metadata": {},
   "outputs": [
    {
     "name": "stdout",
     "output_type": "stream",
     "text": [
      "100 docs processed\n",
      "200 docs processed\n",
      "300 docs processed\n",
      "400 docs processed\n",
      "500 docs processed\n",
      "600 docs processed\n",
      "700 docs processed\n",
      "800 docs processed\n",
      "900 docs processed\n",
      "1000 docs processed\n",
      "1100 docs processed\n",
      "1200 docs processed\n",
      "1300 docs processed\n",
      "1400 docs processed\n",
      "1500 docs processed\n",
      "1600 docs processed\n",
      "1700 docs processed\n",
      "1800 docs processed\n",
      "1900 docs processed\n",
      "2000 docs processed\n",
      "2100 docs processed\n",
      "2200 docs processed\n",
      "2300 docs processed\n",
      "2400 docs processed\n"
     ]
    }
   ],
   "source": [
    "group_clean_doc_dict = {}\n",
    "counter = 0\n",
    "\n",
    "for group_id, doc in group_doc_dict.items():\n",
    "    soup = BeautifulSoup(doc, 'html.parser')\n",
    "    body = ' '.join(\n",
    "        [tag.string.replace('\\\\n', ' ').replace('\\\\r', ' ')\n",
    "         for tag in soup.descendants if tag.string]\n",
    "    )\n",
    "    body = re.sub('\\[.*?\\]','', body)\n",
    "    body = re.sub(pattern,'', body)\n",
    "    if body != '':\n",
    "        body_clean = body.translate(translation_table).lower().strip()\n",
    "        #токенизируем текст (грубо говоря, разбиваем на слова)\n",
    "        words = word_tokenize(body_clean)\n",
    "        tokens = []\n",
    "        # stemming and text normalization\n",
    "        for word in words:\n",
    "            if re.match('^[a-z0-9-]+$', word) is not None:\n",
    "                #если токен попадает под паттерн английского слова или цифры - делаем стемминг\n",
    "                tokens.append(PortSt.stem(word))\n",
    "            elif word.count('-') > 1:\n",
    "                #если токен представляет собой набор символов --- , которые мы не удаляли, так как он может входить в слово ефис, просто добавляем это токен целиком\n",
    "                tokens.append(word)\n",
    "            else:\n",
    "                #если токен русское слово - применяем к нему нормальную форму\n",
    "                normal_forms = morph.normal_forms(word)\n",
    "                tokens.append(normal_forms[0] if normal_forms else word)\n",
    "        # remove stopwords and leave unique words only\n",
    "        tokens = filter(\n",
    "            lambda token: token not in stopw, sorted(set(tokens))\n",
    "        )\n",
    "\n",
    "        # leave all words with more than 3 chars\n",
    "        tokens = filter(lambda token: len(token) > 3, tokens)\n",
    "    else:\n",
    "        tokens = []\n",
    "    counter += 1\n",
    "    if counter % 100 == 0:\n",
    "        print(\"{0} docs processed\".format(counter))\n",
    "    #словарь, где id - это id группы, значения - ее очищенные токенизированные слова\n",
    "    group_clean_doc_dict[group_id] = tokens\n",
    "\n",
    "#словарь id группы: очищенные слова по ее постам\n",
    "group_clean_doc_dict = {key: list(val) for key, val in group_clean_doc_dict.items()}"
   ]
  },
  {
   "cell_type": "code",
   "execution_count": 263,
   "metadata": {},
   "outputs": [
    {
     "data": {
      "text/plain": [
       "['10-15',\n",
       " '16-летний',\n",
       " '1990-ха',\n",
       " '20-го',\n",
       " '2010',\n",
       " '2013',\n",
       " '2017',\n",
       " '2018',\n",
       " '2019',\n",
       " '7-10']"
      ]
     },
     "execution_count": 263,
     "metadata": {},
     "output_type": "execute_result"
    }
   ],
   "source": [
    "group_clean_doc_dict[25232578][:10]"
   ]
  },
  {
   "cell_type": "code",
   "execution_count": 63,
   "metadata": {},
   "outputs": [],
   "source": [
    "# сохранить обработанные данные на диск\n",
    "save_obj(group_clean_doc_dict, 'group_doc_dict_clean')"
   ]
  },
  {
   "cell_type": "markdown",
   "metadata": {},
   "source": [
    "### Обучение LDA модели"
   ]
  },
  {
   "cell_type": "code",
   "execution_count": 64,
   "metadata": {},
   "outputs": [],
   "source": [
    "group_clean_doc_dict = load_obj('group_doc_dict_clean')"
   ]
  },
  {
   "cell_type": "code",
   "execution_count": 65,
   "metadata": {},
   "outputs": [],
   "source": [
    "from gensim.corpora import TextCorpus\n",
    "from gensim.models.ldamulticore import LdaMulticore\n",
    "from gensim.models.ldamodel import LdaModel\n",
    "\n",
    "class ListTextCorpus(TextCorpus):\n",
    "\n",
    "    def get_texts(self):\n",
    "        for doc in self.input:\n",
    "            yield doc\n",
    "                \n",
    "mycorp = ListTextCorpus(input=group_clean_doc_dict.values())\n",
    "justlda = LdaModel(\n",
    "    corpus=mycorp, num_topics=20, passes=12\n",
    ")"
   ]
  },
  {
   "cell_type": "code",
   "execution_count": 66,
   "metadata": {},
   "outputs": [
    {
     "data": {
      "text/plain": [
       "[(369632, 0.000112446396),\n",
       " (119122, 2.2800336e-05),\n",
       " (393678, 2.0747024e-05),\n",
       " (393680, 2.0747022e-05),\n",
       " (393679, 2.0747022e-05),\n",
       " (393676, 2.0746978e-05),\n",
       " (393671, 2.0746975e-05),\n",
       " (393673, 2.074697e-05),\n",
       " (393674, 2.0746951e-05),\n",
       " (393675, 2.0746947e-05)]"
      ]
     },
     "execution_count": 66,
     "metadata": {},
     "output_type": "execute_result"
    }
   ],
   "source": [
    "#выводит id слова в словаре + его вес для каждого из наденных топиков, по умолчанию выводит веса 10 наиболее значимых слов\n",
    "justlda.get_topic_terms(0) # 0 - это номер топика, то есть получаем топик и ид слов с наибольшими весами, по умолчанию 10 слов"
   ]
  },
  {
   "cell_type": "code",
   "execution_count": 67,
   "metadata": {},
   "outputs": [
    {
     "data": {
      "text/plain": [
       "'десяток'"
      ]
     },
     "execution_count": 67,
     "metadata": {},
     "output_type": "execute_result"
    }
   ],
   "source": [
    "mycorp.dictionary.get(10488)"
   ]
  },
  {
   "cell_type": "code",
   "execution_count": 68,
   "metadata": {},
   "outputs": [
    {
     "name": "stdout",
     "output_type": "stream",
     "text": [
      "LdaModel performance\n",
      "0 нaпишитe нaписать hxhмаленький киллуа killua hxhhxh allukayournam gonкурапик gonхантерххантера hunterxhunterkurapikahxh\n",
      "1 цена рубль любой цвета отличный размер фото отлично комплект магазин\n",
      "2 endless technic rental drummer pre-ord gospel bigger treasur ricardo potter\n",
      "3 сардар серго t-killah мойтон портнягин pistol adrenalin quest амиран литвин\n",
      "4 amediateka cepиaлa нpaвитcть гусевашарлиз горбаньанный джолианный тутkoм беллуччилагертаекатерин наденёк куниснаталья\n",
      "5 дeлать однoм зaкaзать всeть зaкaз знaкoмый читaть шкoль скoлько ничeм\n",
      "6 фэнтези caмый чтoб криминал глaвный мелодрама дaвнo 2005 вoйный фантастика\n",
      "7 чтoб ecть мeнить дeнь кoгдa мoжнo тoлькo людeть тaкий жeнщина\n",
      "8 рецепт салат ингредиент приготовление сливочный ложка соус блюдо перец чеснок\n",
      "9 мyжиковы стaвить волосыоценить ввepха инст работаетивлеева❤😍😍😍катить кищук💜рудова😍❤😍ид настя💚😍аида❤шейк😍🖤😍корж😍катя❤темникова😍 дочкой😍😍даша😍😍😍темникова😍кайли😍кайли🖤рози😍😍кищук💖😍кайли❤ 😍💙кайлить\n",
      "10 darknet прочитанного🔥🔥🔥 ахуеесть чарт gorenalic verrillleah zarraluquirebecca zalipi polandandrea patulloson\n",
      "11 foam meme rockstar mathemat karenpur teensb liketruewait momi necrophillia cloold\n",
      "12 music love трек релиз live hous time like year life\n",
      "13 яблопользователь заpядка невеpоятный уделать нeдавно мaгазин быстpый пpоизводитель xалявный смаpт\n",
      "14 кaжeться прoизведение пoдaрить нaйдутый дoлбaнутыe бoльный кoтoровать цaрить прeврaтиться вообщe\n",
      "15 який такожа українить міст зробить рокіть сьогодні життить якщый буде\n",
      "16 бәрі режимі келе шуткигубкабоб мистеркрабс губкабоб спанчбоб spongebob сквидвард живoтныe\n",
      "17 человек жизнь друг знать ждать найти последний группа смочь март\n",
      "18 умныйч отличиечий умныйгде отличиегда длиней аварец шоках😂💦 прогулке✊🏼😂 патить записях🔥\n",
      "19 прикол дeйcтвитeльнo приколтимoн tsvezhak πумбa 😃🤗tsvezhak cущecтвовать приколtsvezhak februari 30012019\n"
     ]
    }
   ],
   "source": [
    "#выводит топ 10 слов которые лучше всего описывают отобранные нами темы\n",
    "#ListTextCorpu сделал из нашего текста словарь, где ключи - ид слов, а значения - сами слова\n",
    "print('LdaModel performance')\n",
    "for i in range(20):\n",
    "    terms = justlda.get_topic_terms(i)\n",
    "    print(i, ' '.join(map(lambda x: mycorp.dictionary.get(x[0]), terms)))"
   ]
  },
  {
   "cell_type": "code",
   "execution_count": 265,
   "metadata": {},
   "outputs": [
    {
     "data": {
      "text/plain": [
       "{0: 0,\n",
       " 1: 0,\n",
       " 2: 0,\n",
       " 3: 0,\n",
       " 4: 0,\n",
       " 5: 0,\n",
       " 6: 0,\n",
       " 7: 0,\n",
       " 8: 0,\n",
       " 9: 0,\n",
       " 10: 0,\n",
       " 11: 0,\n",
       " 12: 0,\n",
       " 13: 0,\n",
       " 14: 0,\n",
       " 15: 0,\n",
       " 16: 0,\n",
       " 17: 0.99908936,\n",
       " 18: 0,\n",
       " 19: 0}"
      ]
     },
     "execution_count": 265,
     "metadata": {},
     "output_type": "execute_result"
    }
   ],
   "source": [
    "#словарь, которые показывает id каждой группы и веса каждого из найденных 20 топиков\n",
    "group_topics_dict_20[25232578]"
   ]
  },
  {
   "cell_type": "code",
   "execution_count": 36,
   "metadata": {},
   "outputs": [
    {
     "data": {
      "text/html": [
       "<div>\n",
       "<style scoped>\n",
       "    .dataframe tbody tr th:only-of-type {\n",
       "        vertical-align: middle;\n",
       "    }\n",
       "\n",
       "    .dataframe tbody tr th {\n",
       "        vertical-align: top;\n",
       "    }\n",
       "\n",
       "    .dataframe thead th {\n",
       "        text-align: right;\n",
       "    }\n",
       "</style>\n",
       "<table border=\"1\" class=\"dataframe\">\n",
       "  <thead>\n",
       "    <tr style=\"text-align: right;\">\n",
       "      <th></th>\n",
       "      <th>0</th>\n",
       "      <th>1</th>\n",
       "      <th>2</th>\n",
       "      <th>3</th>\n",
       "      <th>4</th>\n",
       "      <th>5</th>\n",
       "      <th>6</th>\n",
       "      <th>7</th>\n",
       "      <th>8</th>\n",
       "      <th>9</th>\n",
       "      <th>10</th>\n",
       "      <th>11</th>\n",
       "      <th>12</th>\n",
       "      <th>13</th>\n",
       "      <th>14</th>\n",
       "      <th>15</th>\n",
       "      <th>16</th>\n",
       "      <th>17</th>\n",
       "      <th>18</th>\n",
       "      <th>19</th>\n",
       "    </tr>\n",
       "  </thead>\n",
       "  <tbody>\n",
       "    <tr>\n",
       "      <th>27</th>\n",
       "      <td>0.0</td>\n",
       "      <td>0.0</td>\n",
       "      <td>0.0</td>\n",
       "      <td>0.0</td>\n",
       "      <td>0.0</td>\n",
       "      <td>0.000000</td>\n",
       "      <td>0.000000</td>\n",
       "      <td>0.000000</td>\n",
       "      <td>0.0</td>\n",
       "      <td>0.0</td>\n",
       "      <td>0.0</td>\n",
       "      <td>0.0</td>\n",
       "      <td>0.997429</td>\n",
       "      <td>0.0</td>\n",
       "      <td>0.0</td>\n",
       "      <td>0.0</td>\n",
       "      <td>0.0</td>\n",
       "      <td>0.0</td>\n",
       "      <td>0.0</td>\n",
       "      <td>0.0</td>\n",
       "    </tr>\n",
       "    <tr>\n",
       "      <th>47</th>\n",
       "      <td>0.0</td>\n",
       "      <td>0.0</td>\n",
       "      <td>0.0</td>\n",
       "      <td>0.0</td>\n",
       "      <td>0.0</td>\n",
       "      <td>0.000000</td>\n",
       "      <td>0.252708</td>\n",
       "      <td>0.000000</td>\n",
       "      <td>0.0</td>\n",
       "      <td>0.0</td>\n",
       "      <td>0.0</td>\n",
       "      <td>0.0</td>\n",
       "      <td>0.745409</td>\n",
       "      <td>0.0</td>\n",
       "      <td>0.0</td>\n",
       "      <td>0.0</td>\n",
       "      <td>0.0</td>\n",
       "      <td>0.0</td>\n",
       "      <td>0.0</td>\n",
       "      <td>0.0</td>\n",
       "    </tr>\n",
       "    <tr>\n",
       "      <th>272</th>\n",
       "      <td>0.0</td>\n",
       "      <td>0.0</td>\n",
       "      <td>0.0</td>\n",
       "      <td>0.0</td>\n",
       "      <td>0.0</td>\n",
       "      <td>0.000000</td>\n",
       "      <td>0.000000</td>\n",
       "      <td>0.000000</td>\n",
       "      <td>0.0</td>\n",
       "      <td>0.0</td>\n",
       "      <td>0.0</td>\n",
       "      <td>0.0</td>\n",
       "      <td>0.999244</td>\n",
       "      <td>0.0</td>\n",
       "      <td>0.0</td>\n",
       "      <td>0.0</td>\n",
       "      <td>0.0</td>\n",
       "      <td>0.0</td>\n",
       "      <td>0.0</td>\n",
       "      <td>0.0</td>\n",
       "    </tr>\n",
       "    <tr>\n",
       "      <th>439</th>\n",
       "      <td>0.0</td>\n",
       "      <td>0.0</td>\n",
       "      <td>0.0</td>\n",
       "      <td>0.0</td>\n",
       "      <td>0.0</td>\n",
       "      <td>0.016844</td>\n",
       "      <td>0.000000</td>\n",
       "      <td>0.000000</td>\n",
       "      <td>0.0</td>\n",
       "      <td>0.0</td>\n",
       "      <td>0.0</td>\n",
       "      <td>0.0</td>\n",
       "      <td>0.977891</td>\n",
       "      <td>0.0</td>\n",
       "      <td>0.0</td>\n",
       "      <td>0.0</td>\n",
       "      <td>0.0</td>\n",
       "      <td>0.0</td>\n",
       "      <td>0.0</td>\n",
       "      <td>0.0</td>\n",
       "    </tr>\n",
       "    <tr>\n",
       "      <th>442</th>\n",
       "      <td>0.0</td>\n",
       "      <td>0.0</td>\n",
       "      <td>0.0</td>\n",
       "      <td>0.0</td>\n",
       "      <td>0.0</td>\n",
       "      <td>0.000000</td>\n",
       "      <td>0.121614</td>\n",
       "      <td>0.000000</td>\n",
       "      <td>0.0</td>\n",
       "      <td>0.0</td>\n",
       "      <td>0.0</td>\n",
       "      <td>0.0</td>\n",
       "      <td>0.875787</td>\n",
       "      <td>0.0</td>\n",
       "      <td>0.0</td>\n",
       "      <td>0.0</td>\n",
       "      <td>0.0</td>\n",
       "      <td>0.0</td>\n",
       "      <td>0.0</td>\n",
       "      <td>0.0</td>\n",
       "    </tr>\n",
       "    <tr>\n",
       "      <th>544</th>\n",
       "      <td>0.0</td>\n",
       "      <td>0.0</td>\n",
       "      <td>0.0</td>\n",
       "      <td>0.0</td>\n",
       "      <td>0.0</td>\n",
       "      <td>0.000000</td>\n",
       "      <td>0.000000</td>\n",
       "      <td>0.226028</td>\n",
       "      <td>0.0</td>\n",
       "      <td>0.0</td>\n",
       "      <td>0.0</td>\n",
       "      <td>0.0</td>\n",
       "      <td>0.759168</td>\n",
       "      <td>0.0</td>\n",
       "      <td>0.0</td>\n",
       "      <td>0.0</td>\n",
       "      <td>0.0</td>\n",
       "      <td>0.0</td>\n",
       "      <td>0.0</td>\n",
       "      <td>0.0</td>\n",
       "    </tr>\n",
       "    <tr>\n",
       "      <th>1980</th>\n",
       "      <td>0.0</td>\n",
       "      <td>0.0</td>\n",
       "      <td>0.0</td>\n",
       "      <td>0.0</td>\n",
       "      <td>0.0</td>\n",
       "      <td>0.000000</td>\n",
       "      <td>0.641135</td>\n",
       "      <td>0.000000</td>\n",
       "      <td>0.0</td>\n",
       "      <td>0.0</td>\n",
       "      <td>0.0</td>\n",
       "      <td>0.0</td>\n",
       "      <td>0.357876</td>\n",
       "      <td>0.0</td>\n",
       "      <td>0.0</td>\n",
       "      <td>0.0</td>\n",
       "      <td>0.0</td>\n",
       "      <td>0.0</td>\n",
       "      <td>0.0</td>\n",
       "      <td>0.0</td>\n",
       "    </tr>\n",
       "    <tr>\n",
       "      <th>2002</th>\n",
       "      <td>0.0</td>\n",
       "      <td>0.0</td>\n",
       "      <td>0.0</td>\n",
       "      <td>0.0</td>\n",
       "      <td>0.0</td>\n",
       "      <td>0.000000</td>\n",
       "      <td>0.802634</td>\n",
       "      <td>0.000000</td>\n",
       "      <td>0.0</td>\n",
       "      <td>0.0</td>\n",
       "      <td>0.0</td>\n",
       "      <td>0.0</td>\n",
       "      <td>0.194850</td>\n",
       "      <td>0.0</td>\n",
       "      <td>0.0</td>\n",
       "      <td>0.0</td>\n",
       "      <td>0.0</td>\n",
       "      <td>0.0</td>\n",
       "      <td>0.0</td>\n",
       "      <td>0.0</td>\n",
       "    </tr>\n",
       "    <tr>\n",
       "      <th>2049</th>\n",
       "      <td>0.0</td>\n",
       "      <td>0.0</td>\n",
       "      <td>0.0</td>\n",
       "      <td>0.0</td>\n",
       "      <td>0.0</td>\n",
       "      <td>0.000000</td>\n",
       "      <td>0.996467</td>\n",
       "      <td>0.000000</td>\n",
       "      <td>0.0</td>\n",
       "      <td>0.0</td>\n",
       "      <td>0.0</td>\n",
       "      <td>0.0</td>\n",
       "      <td>0.000000</td>\n",
       "      <td>0.0</td>\n",
       "      <td>0.0</td>\n",
       "      <td>0.0</td>\n",
       "      <td>0.0</td>\n",
       "      <td>0.0</td>\n",
       "      <td>0.0</td>\n",
       "      <td>0.0</td>\n",
       "    </tr>\n",
       "    <tr>\n",
       "      <th>3305</th>\n",
       "      <td>0.0</td>\n",
       "      <td>0.0</td>\n",
       "      <td>0.0</td>\n",
       "      <td>0.0</td>\n",
       "      <td>0.0</td>\n",
       "      <td>0.000000</td>\n",
       "      <td>0.000000</td>\n",
       "      <td>0.000000</td>\n",
       "      <td>0.0</td>\n",
       "      <td>0.0</td>\n",
       "      <td>0.0</td>\n",
       "      <td>0.0</td>\n",
       "      <td>0.989051</td>\n",
       "      <td>0.0</td>\n",
       "      <td>0.0</td>\n",
       "      <td>0.0</td>\n",
       "      <td>0.0</td>\n",
       "      <td>0.0</td>\n",
       "      <td>0.0</td>\n",
       "      <td>0.0</td>\n",
       "    </tr>\n",
       "  </tbody>\n",
       "</table>\n",
       "</div>"
      ],
      "text/plain": [
       "       0    1    2    3    4         5         6         7    8    9    10  \\\n",
       "27    0.0  0.0  0.0  0.0  0.0  0.000000  0.000000  0.000000  0.0  0.0  0.0   \n",
       "47    0.0  0.0  0.0  0.0  0.0  0.000000  0.252708  0.000000  0.0  0.0  0.0   \n",
       "272   0.0  0.0  0.0  0.0  0.0  0.000000  0.000000  0.000000  0.0  0.0  0.0   \n",
       "439   0.0  0.0  0.0  0.0  0.0  0.016844  0.000000  0.000000  0.0  0.0  0.0   \n",
       "442   0.0  0.0  0.0  0.0  0.0  0.000000  0.121614  0.000000  0.0  0.0  0.0   \n",
       "544   0.0  0.0  0.0  0.0  0.0  0.000000  0.000000  0.226028  0.0  0.0  0.0   \n",
       "1980  0.0  0.0  0.0  0.0  0.0  0.000000  0.641135  0.000000  0.0  0.0  0.0   \n",
       "2002  0.0  0.0  0.0  0.0  0.0  0.000000  0.802634  0.000000  0.0  0.0  0.0   \n",
       "2049  0.0  0.0  0.0  0.0  0.0  0.000000  0.996467  0.000000  0.0  0.0  0.0   \n",
       "3305  0.0  0.0  0.0  0.0  0.0  0.000000  0.000000  0.000000  0.0  0.0  0.0   \n",
       "\n",
       "       11        12   13   14   15   16   17   18   19  \n",
       "27    0.0  0.997429  0.0  0.0  0.0  0.0  0.0  0.0  0.0  \n",
       "47    0.0  0.745409  0.0  0.0  0.0  0.0  0.0  0.0  0.0  \n",
       "272   0.0  0.999244  0.0  0.0  0.0  0.0  0.0  0.0  0.0  \n",
       "439   0.0  0.977891  0.0  0.0  0.0  0.0  0.0  0.0  0.0  \n",
       "442   0.0  0.875787  0.0  0.0  0.0  0.0  0.0  0.0  0.0  \n",
       "544   0.0  0.759168  0.0  0.0  0.0  0.0  0.0  0.0  0.0  \n",
       "1980  0.0  0.357876  0.0  0.0  0.0  0.0  0.0  0.0  0.0  \n",
       "2002  0.0  0.194850  0.0  0.0  0.0  0.0  0.0  0.0  0.0  \n",
       "2049  0.0  0.000000  0.0  0.0  0.0  0.0  0.0  0.0  0.0  \n",
       "3305  0.0  0.989051  0.0  0.0  0.0  0.0  0.0  0.0  0.0  "
      ]
     },
     "execution_count": 36,
     "metadata": {},
     "output_type": "execute_result"
    }
   ],
   "source": [
    "#датафрейм, которые показывает id групп и распределение весов каждого из топиков\n",
    "check_pd_20.head(10)"
   ]
  },
  {
   "cell_type": "code",
   "execution_count": 37,
   "metadata": {},
   "outputs": [
    {
     "data": {
      "text/plain": [
       "27      12\n",
       "47      12\n",
       "272     12\n",
       "439     12\n",
       "442     12\n",
       "544     12\n",
       "1980     6\n",
       "2002     6\n",
       "2049     6\n",
       "3305    12\n",
       "dtype: int64"
      ]
     },
     "execution_count": 37,
     "metadata": {},
     "output_type": "execute_result"
    }
   ],
   "source": [
    "pd.Series.round(check_pd_20.idxmax(axis=1)).head(10)"
   ]
  },
  {
   "cell_type": "code",
   "execution_count": 38,
   "metadata": {},
   "outputs": [
    {
     "data": {
      "text/plain": [
       "12    2076\n",
       "11     111\n",
       "6       84\n",
       "0       48\n",
       "5       28\n",
       "2       28\n",
       "19      19\n",
       "10       6\n",
       "7        5\n",
       "3        5\n",
       "17       5\n",
       "9        4\n",
       "16       3\n",
       "13       3\n",
       "15       3\n",
       "18       2\n",
       "4        2\n",
       "8        1\n",
       "1        1\n",
       "dtype: int64"
      ]
     },
     "execution_count": 38,
     "metadata": {},
     "output_type": "execute_result"
    }
   ],
   "source": [
    "pd.Series.round(check_pd_20.idxmax(axis=1)).value_counts()"
   ]
  },
  {
   "cell_type": "code",
   "execution_count": 70,
   "metadata": {},
   "outputs": [
    {
     "name": "stdout",
     "output_type": "stream",
     "text": [
      "Group distribution by the most relevant topic\n"
     ]
    },
    {
     "data": {
      "text/plain": [
       "17    0.87\n",
       "1     0.04\n",
       "8     0.03\n",
       "0     0.02\n",
       "12    0.01\n",
       "7     0.01\n",
       "6     0.00\n",
       "15    0.00\n",
       "13    0.00\n",
       "5     0.00\n",
       "3     0.00\n",
       "10    0.00\n",
       "2     0.00\n",
       "9     0.00\n",
       "16    0.00\n",
       "19    0.00\n",
       "11    0.00\n",
       "18    0.00\n",
       "14    0.00\n",
       "dtype: float64"
      ]
     },
     "execution_count": 70,
     "metadata": {},
     "output_type": "execute_result"
    }
   ],
   "source": [
    "dummy_dict = {key: 0 for key in range(20)}\n",
    "\n",
    "#для каждой группы, которые мы отобрали и оставили очищенные текст, теперь получаем аспределение по отобранным в lda топикам\n",
    "group_topics_dict_20 = {\n",
    "    group_id: dict(list(dummy_dict.items()) + justlda.get_document_topics(mycorp.dictionary.doc2bow(text)))\n",
    "    for group_id, text in group_clean_doc_dict.items()\n",
    "}\n",
    "\n",
    "\n",
    "check_pd_20 = pd.DataFrame.from_dict(group_topics_dict_20, orient='index')\n",
    "check_pd_20.head(10)\n",
    "print(\"Group distribution by the most relevant topic\")\n",
    "#в каждой группе нашли тему, которая больше всего ее описывает, подсчитали,сколько раз отдельная тема больше всего описывает документы и нашли доли этого распределения. в итоге получаем распределение, которое показывает, какаие темы больше всего описывают всю совокупность постов в отобранных группах\n",
    "pd.Series.round(check_pd_20.idxmax(axis=1).value_counts() * 1. / len(check_pd_20), 2)"
   ]
  },
  {
   "cell_type": "code",
   "execution_count": 71,
   "metadata": {},
   "outputs": [],
   "source": [
    "# dump lda model to disk\n",
    "justlda.save('ldamodel_20_topics')"
   ]
  },
  {
   "cell_type": "code",
   "execution_count": null,
   "metadata": {},
   "outputs": [],
   "source": []
  },
  {
   "cell_type": "code",
   "execution_count": 72,
   "metadata": {},
   "outputs": [
    {
     "name": "stdout",
     "output_type": "stream",
     "text": [
      "The most typical groups for every topic\n",
      "0 нaпишитe нaписать hxhмаленький киллуа killua hxhhxh allukayournam gonкурапик gonхантерххантера hunterxhunterkurapikahxh\n",
      "Yu Yu Hakusho||Hunter x Hunter http://vk.com/club105189622\n",
      "Падший Ангел http://vk.com/club41650896\n",
      "Убойный юмор http://vk.com/club30179569\n",
      "винкз мемес http://vk.com/club175687760\n",
      "Телеканал Россия 1 http://vk.com/club67333002\n",
      "Nino Design http://vk.com/club19442010\n",
      "★★★ Сладкая мастерская ★★★ http://vk.com/club25076250\n",
      "АНЕКДОТЫ http://vk.com/club15797699\n",
      "Нина Гарутт http://vk.com/club91259266\n",
      "Хьюстон, у нас проблемы http://vk.com/club97346823\n",
      "\n",
      "1 цена рубль любой цвета отличный размер фото отлично комплект магазин\n",
      "Объявления ДНР http://vk.com/club160183220\n",
      "Авторынок Крым (Симферополь, Севастополь) http://vk.com/club57539968\n",
      "ВАЗоБарахолка | ВАЗ | LADA | Крым http://vk.com/club88696793\n",
      "Куплю Продам Объявления Рязань http://vk.com/club100404060\n",
      "Агрорынок Крым | Базар | Рынок|Торговая площадка http://vk.com/club126728496\n",
      "Корейская косметика ShineSecrets | Мурманск http://vk.com/club178254636\n",
      "MALORITA BUY http://vk.com/club155355774\n",
      "Aliexpress для авто http://vk.com/club144654434\n",
      "АВТОМОЙКА на\"ВЛАДИМИРОВСКОЙ\"ㄹ4 часа. http://vk.com/club164370047\n",
      "Мобильный рынок | Выкуп Мобил Сыктывкар http://vk.com/club178162570\n",
      "\n",
      "2 endless technic rental drummer pre-ord gospel bigger treasur ricardo potter\n",
      "Интересная планета - путешествия и туризм http://vk.com/club27041765\n",
      "ТаНыШаЙыҠ, ДуҪ БуЛаЙыҠ http://vk.com/club87013107\n",
      "Music™ http://vk.com/club143992431\n",
      "Корпорация Юмора ツ http://vk.com/club23537466\n",
      "❤ Накрутка денег♣ ♠,,Дурак Онлайн\"❤ http://vk.com/club151120994\n",
      "Хочу секса http://vk.com/club175067210\n",
      "JUST TRAVEL | Путешествия http://vk.com/club39651759\n",
      "James Blunt http://vk.com/club142642828\n",
      "Armin van Buuren http://vk.com/club42743690\n",
      "Major Lazer http://vk.com/club137992104\n",
      "\n",
      "3 сардар серго t-killah мойтон портнягин pistol adrenalin quest амиран литвин\n",
      "РОФЛЫ НАД МАМКОЙ http://vk.com/club175065526\n",
      "Сарказм http://vk.com/club35850939\n",
      "диазепам http://vk.com/club93407530\n",
      "Собаки http://vk.com/club33798093\n",
      "Краткие факты http://vk.com/club75149440\n",
      "Институт Благородных Девиц http://vk.com/club44781847\n",
      "Чёрный юмор http://vk.com/club40800148\n",
      "Бумажный кораблик http://vk.com/club127661835\n",
      "НЕНОРМАЛЬНО http://vk.com/club141959356\n",
      "тюнинг игрушечных мошинок http://vk.com/club58716015\n",
      "\n",
      "4 amediateka cepиaлa нpaвитcть гусевашарлиз горбаньанный джолианный тутkoм беллуччилагертаекатерин наденёк куниснаталья\n",
      "Сериалы http://vk.com/club24834794\n",
      "Академия Джентльменов http://vk.com/club86990325\n",
      "околоинтеллектуальные мемы http://vk.com/club163452344\n",
      "Красивые девушки. Русские красавицы. http://vk.com/club75820638\n",
      "Демотиваторы http://vk.com/club193175\n",
      "АНЕКДОТЫ http://vk.com/club15797699\n",
      "♔Мама ама  Криминал♔ http://vk.com/club23385099\n",
      "Cringe http://vk.com/club154306815\n",
      "\"XXX\"-Porno http://vk.com/club106004345\n",
      "Безопасность От Взлома ВК.Ком http://vk.com/club36227932\n",
      "\n",
      "5 дeлать однoм зaкaзать всeть зaкaз знaкoмый читaть шкoль скoлько ничeм\n",
      "Уроки рисования http://vk.com/club34162826\n",
      "Романтика и декор своими руками http://vk.com/club35059398\n",
      "Настоящие мужчины http://vk.com/club26911663\n",
      "БОРЩ http://vk.com/club460389\n",
      "Прикольные поздравления с Днем Рождения | Бот http://vk.com/club21375478\n",
      "псины http://vk.com/club121355400\n",
      "Полезные советы http://vk.com/club174310051\n",
      "Prank Bot http://vk.com/club141870219\n",
      "ТОНКИЙ ЮМОР (81+) http://vk.com/club38610066\n",
      "♔Музыка в машину| Авто | Девушки♔ http://vk.com/club36827031\n",
      "\n",
      "6 фэнтези caмый чтoб криминал глaвный мелодрама дaвнo 2005 вoйный фантастика\n",
      "Газета «Наша Ніва» http://vk.com/club27734884\n",
      "HD Фильмы | Новинки кино 2019 http://vk.com/club52548908\n",
      "HD Кино - Фильмы онлайн 2019 http://vk.com/club123915905\n",
      "НОВИНКИ КИНО 2019 http://vk.com/club90253744\n",
      "Лучшие видео в |KZ| 🇰🇿 http://vk.com/club68347204\n",
      "$$$ DANK MEMES $$$ AYY LMAO $$$ http://vk.com/club120254617\n",
      "НОВЫЕ ФИЛЬМЫ 2019| Капитан Марвел | Алита 2019 http://vk.com/club2064137\n",
      "Ұлы Сөздер  U.S. http://vk.com/club108376295\n",
      "Странный юмор http://vk.com/club40895450\n",
      "Я ❤ КИНО http://vk.com/club113071474\n",
      "\n",
      "7 чтoб ecть мeнить дeнь кoгдa мoжнo тoлькo людeть тaкий жeнщина\n",
      "► Мы королевы бабы простые. http://vk.com/club104397064\n",
      "Брат за брата http://vk.com/club33366598\n",
      "CUNBERS http://vk.com/club90715737\n",
      "Водолей http://vk.com/club54365575\n",
      "А ты реально ржёшь, когда смайлики ставишь? http://vk.com/club31482748\n",
      "Между нами, девочками ♥ http://vk.com/club101517329\n",
      "Дом Смеха http://vk.com/club118960405\n",
      "AUTO http://vk.com/club23783750\n",
      "Со смыслом © Бот http://vk.com/club25251165\n",
      "Любовный Гороскоп http://vk.com/club30318830\n",
      "\n",
      "8 рецепт салат ингредиент приготовление сливочный ложка соус блюдо перец чеснок\n",
      "Съешь меня! http://vk.com/club572618\n",
      "Про рецепты! http://vk.com/club55721364\n",
      "COOK VIP  - простые рецепты GIF http://vk.com/club48341319\n",
      "Копилка рецептов http://vk.com/club39421500\n",
      "Худей вкусно http://vk.com/club35113021\n",
      "Кулинарное искусство http://vk.com/club47118092\n",
      "Низкокалорийные рецепты 906090 http://vk.com/club906090\n",
      "КУЛИНАРНЫЙ БЛОГ http://vk.com/club164041592\n",
      "Диетические рецепты http://vk.com/club34889014\n",
      "Bon Appétit | Лучшие рецепты http://vk.com/club32194285\n",
      "\n",
      "9 мyжиковы стaвить волосыоценить ввepха инст работаетивлеева❤😍😍😍катить кищук💜рудова😍❤😍ид настя💚😍аида❤шейк😍🖤😍корж😍катя❤темникова😍 дочкой😍😍даша😍😍😍темникова😍кайли😍кайли🖤рози😍😍кищук💖😍кайли❤ 😍💙кайлить\n",
      "WIRES http://vk.com/club70789636\n",
      "Модные стрижки и прически 2019 фото http://vk.com/club103749645\n",
      "69 % пошлости http://vk.com/club95287151\n",
      "Креатив + http://vk.com/club42763971\n",
      "Авто Приколы, Юмор, Машины, Авто рынок. http://vk.com/club39464472\n",
      "Медицинский центр \"Доверие\" http://vk.com/club172628316\n",
      "Страница удалена http://vk.com/club12101347\n",
      "Cash Bot http://vk.com/club170664234\n",
      "Убойный юмор http://vk.com/club33335832\n",
      "На Случай Важных Переговоров http://vk.com/club12353330\n",
      "\n",
      "10 darknet прочитанного🔥🔥🔥 ахуеесть чарт gorenalic verrillleah zarraluquirebecca zalipi polandandrea patulloson\n",
      "polka dot http://vk.com/club59135497\n",
      "Комната Смеха http://vk.com/club111359826\n",
      "ЙоПнута Подруга! ЙоП http://vk.com/club60158707\n",
      "PHOTO HUNTER —  OVERSEE http://vk.com/club71953754\n",
      "Про Авто http://vk.com/club31128331\n",
      "7.30 am http://vk.com/club26833713\n",
      "Fortnite AUF http://vk.com/club94871460\n",
      "i LoVe SeX http://vk.com/club132257138\n",
      "Хьюстон, у нас проблемы http://vk.com/club97346823\n",
      "xvideos http://vk.com/club131106711\n",
      "\n",
      "11 foam meme rockstar mathemat karenpur teensb liketruewait momi necrophillia cloold\n",
      "9GAG http://vk.com/club32041317\n",
      "Спорт для Всех http://vk.com/club40879776\n",
      "Fortnite AUF http://vk.com/club94871460\n",
      "Animal Planet - В мире животных http://vk.com/club98710138\n",
      "T R ∆ C K знакомства http://vk.com/club7800944\n",
      "★★★ Сладкая мастерская ★★★ http://vk.com/club25076250\n",
      "СМС приколы http://vk.com/club25554967\n",
      "i LoVe SeX http://vk.com/club132257138\n",
      "Потрясный Арт http://vk.com/club177785420\n",
      "Хьюстон, у нас проблемы http://vk.com/club97346823\n",
      "\n",
      "12 music love трек релиз live hous time like year life\n",
      "Ed Sheeran http://vk.com/club137518957\n",
      "Best of Tumblr http://vk.com/club24284258\n",
      "►Swedish House Mafia (Main Group)► http://vk.com/club1011075\n",
      "Instagram http://vk.com/club45732740\n",
      "WE NEED MUSIC | EDM http://vk.com/club27999076\n",
      "Moby http://vk.com/club44064378\n",
      "SOLID STEEL RADIO / NINJA TUNE http://vk.com/club101010\n",
      "АРТ искусство http://vk.com/club25813425\n",
      "Hardwell http://vk.com/club56074769\n",
      "Как это переводится, Чувак? http://vk.com/club30598666\n",
      "\n",
      "13 яблопользователь заpядка невеpоятный уделать нeдавно мaгазин быстpый пpоизводитель xалявный смаpт\n",
      "ЗА РУЛЕМ http://vk.com/club134381104\n",
      "Самые ахеренные подростки ЕАО http://vk.com/club178999511\n",
      "КОМИКСЫ http://vk.com/club74382159\n",
      "Киноман http://vk.com/club109451237\n",
      "Мир Жигулей ☭ http://vk.com/club22965375\n",
      "Открытки http://vk.com/club28890647\n",
      "Acid walls http://vk.com/club128613059\n",
      "3д хлопчiки http://vk.com/club132138125\n",
      "Улётные приколы | знакомства-бот http://vk.com/club44786979\n",
      "Чёрный юмор http://vk.com/club36959733\n",
      "\n",
      "14 кaжeться прoизведение пoдaрить нaйдутый дoлбaнутыe бoльный кoтoровать цaрить прeврaтиться вообщe\n",
      "Мужской рай http://vk.com/club38290762\n",
      "Смейся до слёз :D http://vk.com/club26419239\n",
      "Лучшее http://vk.com/club29905631\n",
      "Fortnite AUF http://vk.com/club94871460\n",
      "Animal Planet - В мире животных http://vk.com/club98710138\n"
     ]
    },
    {
     "name": "stdout",
     "output_type": "stream",
     "text": [
      "Response error. Group id 19068382\n",
      "СМС приколы http://vk.com/club25554967\n",
      "i LoVe SeX http://vk.com/club132257138\n",
      "Хьюстон, у нас проблемы http://vk.com/club97346823\n",
      "xvideos http://vk.com/club131106711\n",
      "\n",
      "15 який такожа українить міст зробить рокіть сьогодні життить якщый буде\n",
      "УНИАН | УНІАН http://vk.com/club24187484\n",
      "Так люблю той Львів, що бракує ми слів ;) http://vk.com/club24483285\n",
      "Канал 1+1 http://vk.com/club6970317\n",
      "WOOW! МЕМЫ http://vk.com/club45045130\n",
      "Типичный Киев http://vk.com/club32195333\n",
      "Телеканал НТН http://vk.com/club18976346\n",
      "ТСН http://vk.com/club20035339\n",
      "VK Україна http://vk.com/club550910\n",
      "Radio ROKS http://vk.com/club28779485\n",
      "ЁП http://vk.com/club12382740\n",
      "\n",
      "16 бәрі режимі келе шуткигубкабоб мистеркрабс губкабоб спанчбоб spongebob сквидвард живoтныe\n",
      "Губка Боб •●• Шутки • Мемы • Анекдоты http://vk.com/club7329999\n",
      "Моя Планета | Факты http://vk.com/club104565669\n",
      "Смотри, что я купил http://vk.com/club132239455\n",
      "BMW | БМВ http://vk.com/club119839929\n",
      "Мемуары ценителей научных мемов http://vk.com/club159146575\n",
      "Лучшие видео в |KZ| 🇰🇿 http://vk.com/club68347204\n",
      "Авто Приколы, Юмор, Машины, Авто рынок. http://vk.com/club39464472\n",
      "Познавательные Факты http://vk.com/club103844156\n",
      "Убойный юмор http://vk.com/club33335832\n",
      "Cash Bot http://vk.com/club170664234\n",
      "\n",
      "17 человек жизнь друг знать ждать найти последний группа смочь март\n",
      "Православная Самодержавная Монархия http://vk.com/club34704403\n",
      "Значимые книги! http://vk.com/club2254106\n",
      "Русские Онлайн http://vk.com/club62241455\n",
      "education http://vk.com/club68171501\n",
      "Политическая элита http://vk.com/club123916919\n",
      "History and Islam | История и Ислам http://vk.com/club47198097\n",
      "Журнал спецподразделений \"Братишка\" http://vk.com/club567684\n",
      "События Улан-Удэ http://vk.com/club107493817\n",
      "Сатира Без Позитива / Новости с овощебазы http://vk.com/club19334776\n",
      "Книги http://vk.com/club31513532\n",
      "\n",
      "18 умныйч отличиечий умныйгде отличиегда длиней аварец шоках😂💦 прогулке✊🏼😂 патить записях🔥\n",
      "Zebomba http://vk.com/club9118132\n",
      "Кяхба. http://vk.com/club179396653\n",
      "Рофлы Даркнета http://vk.com/club177696433\n",
      "Медицинский центр \"Доверие\" http://vk.com/club172628316\n",
      "Красивые девушки. Русские красавицы. http://vk.com/club75820638\n",
      "Прекрасно http://vk.com/club159743649\n",
      "Animal Planet - В мире животных http://vk.com/club98710138\n",
      "Слегка из 90-Х http://vk.com/club167714348\n",
      "Демотиваторы http://vk.com/club193175\n",
      "пикчанский http://vk.com/club160041546\n",
      "\n",
      "19 прикол дeйcтвитeльнo приколтимoн tsvezhak πумбa 😃🤗tsvezhak cущecтвовать приколtsvezhak februari 30012019\n",
      "ТОЛЬКО СВЕЖАК: GIF, приколы, картинки, юмор http://vk.com/club79051274\n",
      "Radio Intense http://vk.com/club39706234\n",
      "ЗЛОЙ ШКОЛЬНИК http://vk.com/club23398121\n",
      "MMA MEMES http://vk.com/club32805406\n",
      "Авто Приколы, Юмор, Машины, Авто рынок. http://vk.com/club39464472\n",
      "Animal Planet - В мире животных http://vk.com/club98710138\n",
      "★★★ Сладкая мастерская ★★★ http://vk.com/club25076250\n",
      "СМС приколы http://vk.com/club25554967\n",
      "Потрясный Арт http://vk.com/club177785420\n",
      "Fortnite AUF http://vk.com/club94871460\n",
      "\n"
     ]
    }
   ],
   "source": [
    "print(\"The most typical groups for every topic\")\n",
    "for i in range(20):\n",
    "    terms = justlda.get_topic_terms(i)\n",
    "    print(i, ' '.join(map(lambda x: mycorp.dictionary.get(x[0]), terms)))\n",
    "    #для каждой темы отбираем наиболее характерные для нее группы(группы, которые получили больщую вероятность принадлежности к данной группе)\n",
    "    typical_groups = check_pd_20[i].sort_values(ascending=False).index[:10]\n",
    "    for g in typical_groups:\n",
    "        try:\n",
    "            group_info = vk_get_response(\n",
    "                'groups.getById', 'group_ids={0}&v=4.9&lang=ru'.format(g), access_token\n",
    "            )\n",
    "            print(group_info['response'][0]['name'] + ' ' + 'http://vk.com/club' + str(g))\n",
    "            time.sleep(0.3)\n",
    "        except:\n",
    "            print(\"Response error. Group id {0}\".format(group_id))\n",
    "            #print(check)\n",
    "    print()"
   ]
  },
  {
   "cell_type": "markdown",
   "metadata": {},
   "source": [
    "#### Получить распределение интересов людей для каждой совокупности, сравнить на графике"
   ]
  },
  {
   "cell_type": "code",
   "execution_count": 109,
   "metadata": {},
   "outputs": [],
   "source": [
    "np.random.shuffle(final_data_ntv)\n",
    "np.random.shuffle(final_data_rain)"
   ]
  },
  {
   "cell_type": "code",
   "execution_count": 112,
   "metadata": {},
   "outputs": [],
   "source": [
    "from operator import add\n",
    "\n",
    "def groups_to_topics_v1(groups_list, n=5):\n",
    "    counter = 1\n",
    "    probs_sum = dummy_dict.values()\n",
    "    for group_id in groups_list:\n",
    "        topics_dict = group_topics_dict_20.get(group_id)\n",
    "        rel_topic_probs = map(\n",
    "            lambda x: x * (min(5, n) - counter + 1),\n",
    "            dummy_dict.values() if not topics_dict else topics_dict.values()\n",
    "        )\n",
    "        probs_sum = map(add, probs_sum, rel_topic_probs)\n",
    "        if counter == 5:\n",
    "            break\n",
    "        counter += 1\n",
    "    return map(lambda x: x / sum([x + 1 for x in range(counter)]), probs_sum)\n",
    "\n",
    "def groups_to_topics_v2(groups_list, n=5):\n",
    "    counter = 1\n",
    "    probs_sum = dummy_dict.values()\n",
    "    for group_id in groups_list:\n",
    "        topics_dict = group_topics_dict_20.get(group_id)\n",
    "        rel_topic_probs = map(\n",
    "            lambda x: x * 1,\n",
    "            dummy_dict.values() if not topics_dict else topics_dict.values()\n",
    "        )\n",
    "        probs_sum = map(add, probs_sum, rel_topic_probs)\n",
    "        if counter == 100:\n",
    "            break\n",
    "        counter += 1\n",
    "    return map(lambda x: x, probs_sum)\n",
    "\n",
    "def get_first_topics(groups_list):\n",
    "    if groups_list != []:\n",
    "        group_id = groups_list[0]\n",
    "        topics_dict = group_topics_dict_20.get(group_id)\n",
    "    else:\n",
    "        topics_dict = dummy_dict\n",
    "    return dummy_dict.values() if not topics_dict else topics_dict.values()\n",
    "\n",
    "def get_main_interest(topic_probs):\n",
    "    return np.argmax(topic_probs)"
   ]
  },
  {
   "cell_type": "code",
   "execution_count": 113,
   "metadata": {},
   "outputs": [],
   "source": [
    "distr_ntv  = list(groups_to_topics_v2(final_data_ntv, n=5))\n",
    "distr_rain = list(groups_to_topics_v2(final_data_rain, n=5))"
   ]
  },
  {
   "cell_type": "code",
   "execution_count": 114,
   "metadata": {},
   "outputs": [
    {
     "data": {
      "image/png": "[encoded data removed]",
      "text/plain": [
       "<Figure size 432x288 with 1 Axes>"
      ]
     },
     "metadata": {},
     "output_type": "display_data"
    }
   ],
   "source": [
    "plt.bar(np.arange(0,20),distr_ntv, label = 'ntv preferencies')\n",
    "plt.bar(np.arange(0,20),distr_rain, label = 'rain preferencies' )\n",
    "plt.legend(loc='best')\n",
    "plt.xlabel('$№$ of Topic')\n",
    "plt.xticks(np.arange(0,20));"
   ]
  },
  {
   "cell_type": "markdown",
   "metadata": {},
   "source": [
    "Посмотрели интересы по 100 рандомно выбранным группам у подписчиков дождя и подписчиков НТВ."
   ]
  },
  {
   "cell_type": "markdown",
   "metadata": {},
   "source": [
    "Можем видеть, что интересы почти одинаковы. В обеих группах лидер - тема связанные с патриотизмом, монархией, религией. В НТВ л.дей чуть больше интересует покупка/продажа товаров.В Дожде лидерует еще рецепты/кулинария, что в НТВ не так выражено. В остальном, можно заключить, что интересы практически одинаковы. Также можно отметить, что получается, что у подписчиков НТВ интересы более узкие, многие из топиков остались не заполнены, в то время как у Дождя все топик получили определенную долю."
   ]
  },
  {
   "cell_type": "code",
   "execution_count": 115,
   "metadata": {},
   "outputs": [
    {
     "data": {
      "text/plain": [
       "[0,\n",
       " 8.324135194532573,\n",
       " 0,\n",
       " 0,\n",
       " 0,\n",
       " 1.166809767484665,\n",
       " 1.6099071893841028,\n",
       " 0.989100681617856,\n",
       " 2.9670990305021405,\n",
       " 0,\n",
       " 0.08433984965085983,\n",
       " 0,\n",
       " 3.3843616330996156,\n",
       " 0.8187186680734158,\n",
       " 0,\n",
       " 0.7697066953405738,\n",
       " 0,\n",
       " 78.36747746542096,\n",
       " 0.669755756855011,\n",
       " 0]"
      ]
     },
     "execution_count": 115,
     "metadata": {},
     "output_type": "execute_result"
    }
   ],
   "source": [
    "distr_ntv"
   ]
  },
  {
   "cell_type": "code",
   "execution_count": 116,
   "metadata": {},
   "outputs": [
    {
     "data": {
      "text/plain": [
       "[0.12507113348692656,\n",
       " 4.273921965621412,\n",
       " 0.12507113348692656,\n",
       " 0.12507113348692656,\n",
       " 0.12507113348692656,\n",
       " 0.12507113348692656,\n",
       " 0.3369278749451041,\n",
       " 1.280585021711886,\n",
       " 3.491451922804117,\n",
       " 0.12507113348692656,\n",
       " 0.12507113348692656,\n",
       " 0.12507113348692656,\n",
       " 2.845749717205763,\n",
       " 0.12507113348692656,\n",
       " 0.12507113348692656,\n",
       " 2.019409398548305,\n",
       " 0.12507113348692656,\n",
       " 83.10088253300637,\n",
       " 0.12507113348692656,\n",
       " 0.41482388507574797]"
      ]
     },
     "execution_count": 116,
     "metadata": {},
     "output_type": "execute_result"
    }
   ],
   "source": [
    "distr_rain"
   ]
  },
  {
   "cell_type": "markdown",
   "metadata": {},
   "source": [
    "### Дополнительно:\n",
    "- По любой группе пользователей построить матрицу Пользователь-Паблик, где 1 будет означать факт подписки на определенный паблик, 0 - отсутствие подписки (строки - пользователи, столбцы - паблики) и применить PCA - метод главных компонент, посмотреть, что из себя представляют топ-5 компонент и описать, какие интересы пользователей эти компоненты представляют"
   ]
  },
  {
   "cell_type": "code",
   "execution_count": 120,
   "metadata": {},
   "outputs": [],
   "source": [
    "pd_us_gr = pd.DataFrame(np.zeros([len(uids),check_pd_20.shape[0]]),index = uids,columns = check_pd_20.index)"
   ]
  },
  {
   "cell_type": "code",
   "execution_count": 188,
   "metadata": {},
   "outputs": [
    {
     "data": {
      "text/plain": [
       "1000"
      ]
     },
     "execution_count": 188,
     "metadata": {},
     "output_type": "execute_result"
    }
   ],
   "source": [
    "len(pd_us_gr)"
   ]
  },
  {
   "cell_type": "code",
   "execution_count": 136,
   "metadata": {},
   "outputs": [],
   "source": [
    "top_n = 5\n",
    "groups = set(pd_us_gr.columns)\n",
    "for ind in list(pd_us_gr.index):\n",
    "    try:\n",
    "        user_subs = vk_get_response(\n",
    "            'users.getSubscriptions', 'user_id={0}&v=4.9&lang=ru'.format(int(ind)), access_token\n",
    "        )\n",
    "        if user_subs.get('response'):\n",
    "            usr_gr = list(groups & set(user_subs['response']['groups'].get('items')[:top_n]))\n",
    "            pd_us_gr.loc[ind,usr_gr] = 1 \n",
    "    except Exception:\n",
    "        print('1')\n"
   ]
  },
  {
   "cell_type": "code",
   "execution_count": 177,
   "metadata": {},
   "outputs": [],
   "source": [
    "from sklearn.decomposition import PCA\n",
    "pca1 = PCA().fit(pd_us_gr.values)\n"
   ]
  },
  {
   "cell_type": "code",
   "execution_count": 179,
   "metadata": {},
   "outputs": [
    {
     "name": "stdout",
     "output_type": "stream",
     "text": [
      "n-components=1, explained variance 0.034\n",
      "n-components=2, explained variance 0.057\n",
      "n-components=3, explained variance 0.070\n",
      "n-components=4, explained variance 0.078\n",
      "n-components=5, explained variance 0.086\n",
      "n-components=6, explained variance 0.093\n",
      "n-components=7, explained variance 0.100\n",
      "n-components=8, explained variance 0.107\n",
      "n-components=9, explained variance 0.114\n",
      "n-components=10, explained variance 0.120\n",
      "n-components=11, explained variance 0.126\n",
      "n-components=12, explained variance 0.132\n",
      "n-components=13, explained variance 0.138\n",
      "n-components=14, explained variance 0.143\n",
      "n-components=15, explained variance 0.149\n",
      "n-components=16, explained variance 0.154\n",
      "n-components=17, explained variance 0.159\n",
      "n-components=18, explained variance 0.164\n",
      "n-components=19, explained variance 0.169\n"
     ]
    }
   ],
   "source": [
    "for i in range(1,20):\n",
    "    print(\"n-components=%s, explained variance %.3f\" % (i, sum(pca1.explained_variance_ratio_[:i])))"
   ]
  },
  {
   "cell_type": "code",
   "execution_count": 180,
   "metadata": {},
   "outputs": [],
   "source": [
    "x_pca = pca1.transform(pd_us_gr.values)"
   ]
  },
  {
   "cell_type": "code",
   "execution_count": 182,
   "metadata": {},
   "outputs": [
    {
     "data": {
      "text/plain": [
       "array([[-6.04742035e-02, -4.55770901e-02, -4.11398614e-03, ...,\n",
       "        -4.70841898e-16,  7.85233423e-17, -4.18766313e-16],\n",
       "       [-6.13425549e-02, -4.70218205e-02, -5.06467561e-03, ...,\n",
       "         2.77203390e-16,  8.72159333e-16, -5.76998844e-17],\n",
       "       [-6.30907980e-02, -4.87432246e-02, -4.70224093e-03, ...,\n",
       "         1.25116931e-16,  5.37764278e-17, -1.62630326e-16],\n",
       "       ...,\n",
       "       [-5.50131933e-02, -3.95613038e-02, -3.16945684e-03, ...,\n",
       "        -3.70797143e-17,  2.61536669e-16, -1.88854466e-17],\n",
       "       [-7.81010733e-02, -2.53472397e-02, -1.93967571e-02, ...,\n",
       "        -2.60986436e-15,  2.79943711e-15,  4.43436656e-15],\n",
       "       [-5.50131933e-02, -3.95613038e-02, -3.16945684e-03, ...,\n",
       "        -3.70797143e-17,  2.61536669e-16, -1.88854466e-17]])"
      ]
     },
     "execution_count": 182,
     "metadata": {},
     "output_type": "execute_result"
    }
   ],
   "source": [
    "x_pca"
   ]
  },
  {
   "cell_type": "markdown",
   "metadata": {},
   "source": [
    "По графику можно сказать,что предпочтения пользователей достаточно сильно различимы."
   ]
  },
  {
   "cell_type": "code",
   "execution_count": 183,
   "metadata": {},
   "outputs": [
    {
     "data": {
      "text/plain": [
       "Text(0,0.5,'second principal component')"
      ]
     },
     "execution_count": 183,
     "metadata": {},
     "output_type": "execute_result"
    },
    {
     "data": {
      "image/png": "[encoded data removed]",
      "text/plain": [
       "<Figure size 432x288 with 1 Axes>"
      ]
     },
     "metadata": {},
     "output_type": "display_data"
    }
   ],
   "source": [
    "plt.scatter(x_pca[:, 0], x_pca[:, 1]) # linewidths=1, \n",
    "plt.xlabel(\"first principal component\")\n",
    "plt.ylabel(\"second principal component\")"
   ]
  },
  {
   "cell_type": "code",
   "execution_count": 186,
   "metadata": {},
   "outputs": [
    {
     "data": {
      "text/plain": [
       "Text(0,0.5,'explained_variance_ratio_')"
      ]
     },
     "execution_count": 186,
     "metadata": {},
     "output_type": "execute_result"
    },
    {
     "data": {
      "image/png": "[encoded data removed]",
      "text/plain": [
       "<Figure size 432x288 with 1 Axes>"
      ]
     },
     "metadata": {},
     "output_type": "display_data"
    }
   ],
   "source": [
    "cum_evr = np.cumsum(pca1.explained_variance_ratio_)\n",
    "xs = np.arange(cum_evr.size) + 1\n",
    "plt.plot(xs, cum_evr, linewidth=2)\n",
    "plt.grid()\n",
    "plt.xlabel('n_components')\n",
    "plt.ylabel('explained_variance_ratio_')"
   ]
  },
  {
   "cell_type": "markdown",
   "metadata": {},
   "source": [
    "Можем видеть, что примерно 350 компонент объясняют 100% диперсии в данных"
   ]
  },
  {
   "cell_type": "code",
   "execution_count": 249,
   "metadata": {},
   "outputs": [
    {
     "data": {
      "text/plain": [
       "2488"
      ]
     },
     "execution_count": 249,
     "metadata": {},
     "output_type": "execute_result"
    }
   ],
   "source": [
    "pca1.components_.shape[1\n",
    "                      ]"
   ]
  },
  {
   "cell_type": "code",
   "execution_count": 239,
   "metadata": {},
   "outputs": [
    {
     "data": {
      "text/plain": [
       "295"
      ]
     },
     "execution_count": 239,
     "metadata": {},
     "output_type": "execute_result"
    }
   ],
   "source": [
    "np.argmax(pca1.components_[0])"
   ]
  },
  {
   "cell_type": "code",
   "execution_count": null,
   "metadata": {},
   "outputs": [],
   "source": [
    "np.argsort(pca1.components_[1],)[-2:]"
   ]
  },
  {
   "cell_type": "code",
   "execution_count": 261,
   "metadata": {},
   "outputs": [
    {
     "data": {
      "text/plain": [
       "array([0.17410529, 0.94379757])"
      ]
     },
     "execution_count": 261,
     "metadata": {},
     "output_type": "execute_result"
    }
   ],
   "source": [
    "pca1.components_[0][np.argsort(pca1.components_[0],)[-2:]]"
   ]
  },
  {
   "cell_type": "code",
   "execution_count": 240,
   "metadata": {},
   "outputs": [
    {
     "data": {
      "text/plain": [
       "Int64Index([68519692, 40316705, 31480508, 27932995, 40886007], dtype='int64')"
      ]
     },
     "execution_count": 240,
     "metadata": {},
     "output_type": "execute_result"
    }
   ],
   "source": [
    "pd_us_gr.iloc[:,np.argsort(pca1.components_[1],)[:5]].columns"
   ]
  },
  {
   "cell_type": "code",
   "execution_count": 257,
   "metadata": {},
   "outputs": [
    {
     "name": "stdout",
     "output_type": "stream",
     "text": [
      "Most typical group for 1 component: \n",
      "-------------\n",
      "\n",
      "Наталия Орейро | Natalia Oreiro http://vk.com/club104052041\n",
      "МК18+ : Мужской Клуб 18+ http://vk.com/club24532152\n",
      "Первый канал http://vk.com/club25380626\n",
      "Martin Garrix http://vk.com/club77397104\n",
      "Warner Music Russia http://vk.com/club30462549\n",
      "Jah Khalib http://vk.com/club26211015\n",
      "Armin van Buuren http://vk.com/club42743690\n",
      "Hardwell http://vk.com/club56074769\n",
      "РИА Новости http://vk.com/club15755094\n",
      "НТВ http://vk.com/club28658784\n",
      "\n",
      "Most typical group for 2 component: \n",
      "-------------\n",
      "\n",
      "Телеканал 2х2 http://vk.com/club48864\n",
      "Темная сторона http://vk.com/club19799369\n",
      "Комсомольская правда - KP.RU http://vk.com/club15722194\n",
      "Москва 24 http://vk.com/club35068738\n",
      "Фестиваль Аврора http://vk.com/club15260252\n",
      "Программирование ITmozg: http://vk.com/club16108331\n",
      "WWF России - Всемирный фонд дикой природы http://vk.com/club348403\n",
      "ВЕДОМОСТИ http://vk.com/club15548215\n",
      "LIVE http://vk.com/club2158488\n",
      "РИА Новости http://vk.com/club15755094\n",
      "\n",
      "Most typical group for 3 component: \n",
      "-------------\n",
      "\n",
      "НОВИНКИ КИНО 2019 http://vk.com/club90253744\n",
      "MARVEL/DC http://vk.com/club32370614\n",
      "Champions Cup | ФУТБОЛ http://vk.com/club8722610\n",
      "Команда ВКонтакте http://vk.com/club22822305\n",
      "Я из Томска http://vk.com/club60442626\n",
      "Курцхаар и Дратхаар: Охотничьи собаки http://vk.com/club90000407\n",
      "С нами стыдно, зато весело! http://vk.com/club46466345\n",
      "КиноКайф - Лучшие фильмы http://vk.com/club58170807\n",
      "Идеальная Хозяюшка http://vk.com/club68519692\n",
      "Новинки Музыки 2019  и Новая Музыка http://vk.com/club27895931\n",
      "\n",
      "Most typical group for 4 component: \n",
      "-------------\n",
      "\n",
      "| БЕСПЛАТНЫЕ СТИКЕРЫ И ПОДАРКИ ВКОНТАКТЕ | http://vk.com/club95955182\n",
      "Я живу [В] Красноярске http://vk.com/club34183390\n",
      "НОВИНКИ КИНО 2019 http://vk.com/club90253744\n",
      "Champions Cup | ФУТБОЛ http://vk.com/club8722610\n",
      "Martin Garrix http://vk.com/club77397104\n",
      "Warner Music Russia http://vk.com/club30462549\n",
      "Jah Khalib http://vk.com/club26211015\n",
      "Armin van Buuren http://vk.com/club42743690\n",
      "Hardwell http://vk.com/club56074769\n",
      "Идеальная Хозяюшка http://vk.com/club68519692\n",
      "\n",
      "Most typical group for 5 component: \n",
      "-------------\n",
      "\n",
      "кусочек фильма http://vk.com/club70493648\n",
      "ШКЯ (шутки, кайф, яшперица) http://vk.com/club38818986\n",
      "РБК http://vk.com/club25232578\n",
      "Подслушано Брянск http://vk.com/club72214520\n",
      "Полезные советы! http://vk.com/club178045303\n",
      "9GAG http://vk.com/club32041317\n",
      "LIFE | Новости http://vk.com/club24199209\n",
      "Идеальная Хозяюшка http://vk.com/club68519692\n",
      "Лента.ру http://vk.com/club67991642\n",
      "Новости RT на русском http://vk.com/club40316705\n",
      "\n"
     ]
    }
   ],
   "source": [
    "for i in range(1,6):\n",
    "        try:\n",
    "            gr_name = []\n",
    "            groups = pd_us_gr.iloc[:,np.argsort(pca1.components_[i])[-10:]].columns\n",
    "            for idx in groups:\n",
    "                group_info = vk_get_response(\n",
    "                    'groups.getById', 'group_ids={0}&v=4.9&lang=ru'.format(idx), access_token\n",
    "                )\n",
    "                gr_name.append(group_info['response'][0]['name'] + ' ' + 'http://vk.com/club' + str(idx))\n",
    "                time.sleep(0.3)\n",
    "            print('Most typical group for {} component: '.format(i))\n",
    "            print('-------------')\n",
    "            print()\n",
    "            print('\\n'.join(gr_name))\n",
    "            print()\n",
    "        except:\n",
    "            print(\"Response error. Group id {0}\".format(i))\n",
    "            #print(check)"
   ]
  },
  {
   "cell_type": "markdown",
   "metadata": {},
   "source": [
    "1 - компонента похоже отвечает за определенню музыку (похоже больше связано с мужскими интересами), вторая- за новости, третья - кино,направление 4 достаточно трудно опередилить, очень похоже на 1, пятая - больше похоже на юмор."
   ]
  }
 ],
 "metadata": {
  "kernelspec": {
   "display_name": "Python 3",
   "language": "python",
   "name": "python3"
  },
  "language_info": {
   "codemirror_mode": {
    "name": "ipython",
    "version": 3
   },
   "file_extension": ".py",
   "mimetype": "text/x-python",
   "name": "python",
   "nbconvert_exporter": "python",
   "pygments_lexer": "ipython3",
   "version": "3.6.5"
  }
 },
 "nbformat": 4,
 "nbformat_minor": 2
}
