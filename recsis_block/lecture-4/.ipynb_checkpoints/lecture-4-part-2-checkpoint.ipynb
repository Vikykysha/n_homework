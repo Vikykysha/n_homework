{
 "cells": [
  {
   "cell_type": "code",
   "execution_count": 2,
   "metadata": {},
   "outputs": [],
   "source": [
    "import pandas as pd\n",
    "import numpy as np\n",
    "from tqdm import tqdm_notebook\n",
    "\n",
    "import scipy.sparse as sparse\n",
    "\n",
    "%matplotlib inline\n",
    "\n",
    "from implicit.als import AlternatingLeastSquares"
   ]
  },
  {
   "cell_type": "code",
   "execution_count": 2,
   "metadata": {},
   "outputs": [
    {
     "name": "stderr",
     "output_type": "stream",
     "text": [
      "/home/truv/anaconda3/lib/python3.7/site-packages/ipykernel_launcher.py:1: FutureWarning: read_table is deprecated, use read_csv instead, passing sep='\\t'.\n",
      "  \"\"\"Entry point for launching an IPython kernel.\n"
     ]
    }
   ],
   "source": [
    "raw_data = pd.read_table('usersha1-artmbid-artname-plays.tsv')"
   ]
  },
  {
   "cell_type": "code",
   "execution_count": 3,
   "metadata": {},
   "outputs": [
    {
     "data": {
      "text/html": [
       "<div>\n",
       "<style scoped>\n",
       "    .dataframe tbody tr th:only-of-type {\n",
       "        vertical-align: middle;\n",
       "    }\n",
       "\n",
       "    .dataframe tbody tr th {\n",
       "        vertical-align: top;\n",
       "    }\n",
       "\n",
       "    .dataframe thead th {\n",
       "        text-align: right;\n",
       "    }\n",
       "</style>\n",
       "<table border=\"1\" class=\"dataframe\">\n",
       "  <thead>\n",
       "    <tr style=\"text-align: right;\">\n",
       "      <th></th>\n",
       "      <th>00000c289a1829a808ac09c00daf10bc3c4e223b</th>\n",
       "      <th>3bd73256-3905-4f3a-97e2-8b341527f805</th>\n",
       "      <th>betty blowtorch</th>\n",
       "      <th>2137</th>\n",
       "    </tr>\n",
       "  </thead>\n",
       "  <tbody>\n",
       "    <tr>\n",
       "      <th>0</th>\n",
       "      <td>00000c289a1829a808ac09c00daf10bc3c4e223b</td>\n",
       "      <td>f2fb0ff0-5679-42ec-a55c-15109ce6e320</td>\n",
       "      <td>die Ärzte</td>\n",
       "      <td>1099</td>\n",
       "    </tr>\n",
       "    <tr>\n",
       "      <th>1</th>\n",
       "      <td>00000c289a1829a808ac09c00daf10bc3c4e223b</td>\n",
       "      <td>b3ae82c2-e60b-4551-a76d-6620f1b456aa</td>\n",
       "      <td>melissa etheridge</td>\n",
       "      <td>897</td>\n",
       "    </tr>\n",
       "    <tr>\n",
       "      <th>2</th>\n",
       "      <td>00000c289a1829a808ac09c00daf10bc3c4e223b</td>\n",
       "      <td>3d6bbeb7-f90e-4d10-b440-e153c0d10b53</td>\n",
       "      <td>elvenking</td>\n",
       "      <td>717</td>\n",
       "    </tr>\n",
       "    <tr>\n",
       "      <th>3</th>\n",
       "      <td>00000c289a1829a808ac09c00daf10bc3c4e223b</td>\n",
       "      <td>bbd2ffd7-17f4-4506-8572-c1ea58c3f9a8</td>\n",
       "      <td>juliette &amp; the licks</td>\n",
       "      <td>706</td>\n",
       "    </tr>\n",
       "    <tr>\n",
       "      <th>4</th>\n",
       "      <td>00000c289a1829a808ac09c00daf10bc3c4e223b</td>\n",
       "      <td>8bfac288-ccc5-448d-9573-c33ea2aa5c30</td>\n",
       "      <td>red hot chili peppers</td>\n",
       "      <td>691</td>\n",
       "    </tr>\n",
       "  </tbody>\n",
       "</table>\n",
       "</div>"
      ],
      "text/plain": [
       "   00000c289a1829a808ac09c00daf10bc3c4e223b  \\\n",
       "0  00000c289a1829a808ac09c00daf10bc3c4e223b   \n",
       "1  00000c289a1829a808ac09c00daf10bc3c4e223b   \n",
       "2  00000c289a1829a808ac09c00daf10bc3c4e223b   \n",
       "3  00000c289a1829a808ac09c00daf10bc3c4e223b   \n",
       "4  00000c289a1829a808ac09c00daf10bc3c4e223b   \n",
       "\n",
       "   3bd73256-3905-4f3a-97e2-8b341527f805        betty blowtorch  2137  \n",
       "0  f2fb0ff0-5679-42ec-a55c-15109ce6e320              die Ärzte  1099  \n",
       "1  b3ae82c2-e60b-4551-a76d-6620f1b456aa      melissa etheridge   897  \n",
       "2  3d6bbeb7-f90e-4d10-b440-e153c0d10b53              elvenking   717  \n",
       "3  bbd2ffd7-17f4-4506-8572-c1ea58c3f9a8   juliette & the licks   706  \n",
       "4  8bfac288-ccc5-448d-9573-c33ea2aa5c30  red hot chili peppers   691  "
      ]
     },
     "execution_count": 3,
     "metadata": {},
     "output_type": "execute_result"
    }
   ],
   "source": [
    "raw_data.head()"
   ]
  },
  {
   "cell_type": "code",
   "execution_count": 4,
   "metadata": {},
   "outputs": [
    {
     "data": {
      "text/plain": [
       "Index(['00000c289a1829a808ac09c00daf10bc3c4e223b',\n",
       "       '3bd73256-3905-4f3a-97e2-8b341527f805', 'betty blowtorch', '2137'],\n",
       "      dtype='object')"
      ]
     },
     "execution_count": 4,
     "metadata": {},
     "output_type": "execute_result"
    }
   ],
   "source": [
    "raw_data.columns"
   ]
  },
  {
   "cell_type": "code",
   "execution_count": 5,
   "metadata": {},
   "outputs": [],
   "source": [
    "raw_data = raw_data.drop(raw_data.columns[1], axis=1)\n",
    "raw_data.columns = ['user', 'artist', 'plays']"
   ]
  },
  {
   "cell_type": "code",
   "execution_count": 6,
   "metadata": {},
   "outputs": [
    {
     "data": {
      "text/html": [
       "<div>\n",
       "<style scoped>\n",
       "    .dataframe tbody tr th:only-of-type {\n",
       "        vertical-align: middle;\n",
       "    }\n",
       "\n",
       "    .dataframe tbody tr th {\n",
       "        vertical-align: top;\n",
       "    }\n",
       "\n",
       "    .dataframe thead th {\n",
       "        text-align: right;\n",
       "    }\n",
       "</style>\n",
       "<table border=\"1\" class=\"dataframe\">\n",
       "  <thead>\n",
       "    <tr style=\"text-align: right;\">\n",
       "      <th></th>\n",
       "      <th>user</th>\n",
       "      <th>artist</th>\n",
       "      <th>plays</th>\n",
       "    </tr>\n",
       "  </thead>\n",
       "  <tbody>\n",
       "    <tr>\n",
       "      <th>0</th>\n",
       "      <td>00000c289a1829a808ac09c00daf10bc3c4e223b</td>\n",
       "      <td>die Ärzte</td>\n",
       "      <td>1099</td>\n",
       "    </tr>\n",
       "    <tr>\n",
       "      <th>1</th>\n",
       "      <td>00000c289a1829a808ac09c00daf10bc3c4e223b</td>\n",
       "      <td>melissa etheridge</td>\n",
       "      <td>897</td>\n",
       "    </tr>\n",
       "    <tr>\n",
       "      <th>2</th>\n",
       "      <td>00000c289a1829a808ac09c00daf10bc3c4e223b</td>\n",
       "      <td>elvenking</td>\n",
       "      <td>717</td>\n",
       "    </tr>\n",
       "    <tr>\n",
       "      <th>3</th>\n",
       "      <td>00000c289a1829a808ac09c00daf10bc3c4e223b</td>\n",
       "      <td>juliette &amp; the licks</td>\n",
       "      <td>706</td>\n",
       "    </tr>\n",
       "    <tr>\n",
       "      <th>4</th>\n",
       "      <td>00000c289a1829a808ac09c00daf10bc3c4e223b</td>\n",
       "      <td>red hot chili peppers</td>\n",
       "      <td>691</td>\n",
       "    </tr>\n",
       "  </tbody>\n",
       "</table>\n",
       "</div>"
      ],
      "text/plain": [
       "                                       user                 artist  plays\n",
       "0  00000c289a1829a808ac09c00daf10bc3c4e223b              die Ärzte   1099\n",
       "1  00000c289a1829a808ac09c00daf10bc3c4e223b      melissa etheridge    897\n",
       "2  00000c289a1829a808ac09c00daf10bc3c4e223b              elvenking    717\n",
       "3  00000c289a1829a808ac09c00daf10bc3c4e223b   juliette & the licks    706\n",
       "4  00000c289a1829a808ac09c00daf10bc3c4e223b  red hot chili peppers    691"
      ]
     },
     "execution_count": 6,
     "metadata": {},
     "output_type": "execute_result"
    }
   ],
   "source": [
    "raw_data.head()"
   ]
  },
  {
   "cell_type": "code",
   "execution_count": 7,
   "metadata": {},
   "outputs": [],
   "source": [
    "data = raw_data.dropna()"
   ]
  },
  {
   "cell_type": "code",
   "execution_count": 8,
   "metadata": {},
   "outputs": [
    {
     "data": {
      "text/html": [
       "<div>\n",
       "<style scoped>\n",
       "    .dataframe tbody tr th:only-of-type {\n",
       "        vertical-align: middle;\n",
       "    }\n",
       "\n",
       "    .dataframe tbody tr th {\n",
       "        vertical-align: top;\n",
       "    }\n",
       "\n",
       "    .dataframe thead th {\n",
       "        text-align: right;\n",
       "    }\n",
       "</style>\n",
       "<table border=\"1\" class=\"dataframe\">\n",
       "  <thead>\n",
       "    <tr style=\"text-align: right;\">\n",
       "      <th></th>\n",
       "      <th>user</th>\n",
       "      <th>artist</th>\n",
       "      <th>plays</th>\n",
       "    </tr>\n",
       "  </thead>\n",
       "  <tbody>\n",
       "    <tr>\n",
       "      <th>1</th>\n",
       "      <td>00000c289a1829a808ac09c00daf10bc3c4e223b</td>\n",
       "      <td>melissa etheridge</td>\n",
       "      <td>897</td>\n",
       "    </tr>\n",
       "    <tr>\n",
       "      <th>2</th>\n",
       "      <td>00000c289a1829a808ac09c00daf10bc3c4e223b</td>\n",
       "      <td>elvenking</td>\n",
       "      <td>717</td>\n",
       "    </tr>\n",
       "  </tbody>\n",
       "</table>\n",
       "</div>"
      ],
      "text/plain": [
       "                                       user             artist  plays\n",
       "1  00000c289a1829a808ac09c00daf10bc3c4e223b  melissa etheridge    897\n",
       "2  00000c289a1829a808ac09c00daf10bc3c4e223b          elvenking    717"
      ]
     },
     "execution_count": 8,
     "metadata": {},
     "output_type": "execute_result"
    }
   ],
   "source": [
    "data.loc[[1,2]]"
   ]
  },
  {
   "cell_type": "code",
   "execution_count": 9,
   "metadata": {},
   "outputs": [
    {
     "data": {
      "text/plain": [
       "<matplotlib.axes._subplots.AxesSubplot at 0x7f6a3d32b048>"
      ]
     },
     "execution_count": 9,
     "metadata": {},
     "output_type": "execute_result"
    },
    {
     "data": {
      "image/png": "[encoded data removed]",
      "text/plain": [
       "<Figure size 432x288 with 1 Axes>"
      ]
     },
     "metadata": {
      "needs_background": "light"
     },
     "output_type": "display_data"
    }
   ],
   "source": [
    "data.iloc[np.where(data.plays < 2000)].plays.hist()"
   ]
  },
  {
   "cell_type": "code",
   "execution_count": 10,
   "metadata": {
    "scrolled": true
   },
   "outputs": [
    {
     "name": "stderr",
     "output_type": "stream",
     "text": [
      "/home/truv/anaconda3/lib/python3.7/site-packages/ipykernel_launcher.py:1: SettingWithCopyWarning: \n",
      "A value is trying to be set on a copy of a slice from a DataFrame.\n",
      "Try using .loc[row_indexer,col_indexer] = value instead\n",
      "\n",
      "See the caveats in the documentation: http://pandas.pydata.org/pandas-docs/stable/indexing.html#indexing-view-versus-copy\n",
      "  \"\"\"Entry point for launching an IPython kernel.\n",
      "/home/truv/anaconda3/lib/python3.7/site-packages/ipykernel_launcher.py:2: SettingWithCopyWarning: \n",
      "A value is trying to be set on a copy of a slice from a DataFrame.\n",
      "Try using .loc[row_indexer,col_indexer] = value instead\n",
      "\n",
      "See the caveats in the documentation: http://pandas.pydata.org/pandas-docs/stable/indexing.html#indexing-view-versus-copy\n",
      "  \n"
     ]
    }
   ],
   "source": [
    "data['user_id'] = data['user'].astype(\"category\").cat.codes\n",
    "data['artist_id'] = data['artist'].astype(\"category\").cat.codes"
   ]
  },
  {
   "cell_type": "code",
   "execution_count": 11,
   "metadata": {},
   "outputs": [
    {
     "data": {
      "text/html": [
       "<div>\n",
       "<style scoped>\n",
       "    .dataframe tbody tr th:only-of-type {\n",
       "        vertical-align: middle;\n",
       "    }\n",
       "\n",
       "    .dataframe tbody tr th {\n",
       "        vertical-align: top;\n",
       "    }\n",
       "\n",
       "    .dataframe thead th {\n",
       "        text-align: right;\n",
       "    }\n",
       "</style>\n",
       "<table border=\"1\" class=\"dataframe\">\n",
       "  <thead>\n",
       "    <tr style=\"text-align: right;\">\n",
       "      <th></th>\n",
       "      <th>user</th>\n",
       "      <th>artist</th>\n",
       "      <th>plays</th>\n",
       "      <th>user_id</th>\n",
       "      <th>artist_id</th>\n",
       "    </tr>\n",
       "  </thead>\n",
       "  <tbody>\n",
       "    <tr>\n",
       "      <th>0</th>\n",
       "      <td>00000c289a1829a808ac09c00daf10bc3c4e223b</td>\n",
       "      <td>die Ärzte</td>\n",
       "      <td>1099</td>\n",
       "      <td>0</td>\n",
       "      <td>90933</td>\n",
       "    </tr>\n",
       "    <tr>\n",
       "      <th>1</th>\n",
       "      <td>00000c289a1829a808ac09c00daf10bc3c4e223b</td>\n",
       "      <td>melissa etheridge</td>\n",
       "      <td>897</td>\n",
       "      <td>0</td>\n",
       "      <td>185367</td>\n",
       "    </tr>\n",
       "    <tr>\n",
       "      <th>2</th>\n",
       "      <td>00000c289a1829a808ac09c00daf10bc3c4e223b</td>\n",
       "      <td>elvenking</td>\n",
       "      <td>717</td>\n",
       "      <td>0</td>\n",
       "      <td>106704</td>\n",
       "    </tr>\n",
       "    <tr>\n",
       "      <th>3</th>\n",
       "      <td>00000c289a1829a808ac09c00daf10bc3c4e223b</td>\n",
       "      <td>juliette &amp; the licks</td>\n",
       "      <td>706</td>\n",
       "      <td>0</td>\n",
       "      <td>155241</td>\n",
       "    </tr>\n",
       "    <tr>\n",
       "      <th>4</th>\n",
       "      <td>00000c289a1829a808ac09c00daf10bc3c4e223b</td>\n",
       "      <td>red hot chili peppers</td>\n",
       "      <td>691</td>\n",
       "      <td>0</td>\n",
       "      <td>220128</td>\n",
       "    </tr>\n",
       "  </tbody>\n",
       "</table>\n",
       "</div>"
      ],
      "text/plain": [
       "                                       user                 artist  plays  \\\n",
       "0  00000c289a1829a808ac09c00daf10bc3c4e223b              die Ärzte   1099   \n",
       "1  00000c289a1829a808ac09c00daf10bc3c4e223b      melissa etheridge    897   \n",
       "2  00000c289a1829a808ac09c00daf10bc3c4e223b              elvenking    717   \n",
       "3  00000c289a1829a808ac09c00daf10bc3c4e223b   juliette & the licks    706   \n",
       "4  00000c289a1829a808ac09c00daf10bc3c4e223b  red hot chili peppers    691   \n",
       "\n",
       "   user_id  artist_id  \n",
       "0        0      90933  \n",
       "1        0     185367  \n",
       "2        0     106704  \n",
       "3        0     155241  \n",
       "4        0     220128  "
      ]
     },
     "execution_count": 11,
     "metadata": {},
     "output_type": "execute_result"
    }
   ],
   "source": [
    "data.head()"
   ]
  },
  {
   "cell_type": "code",
   "execution_count": 12,
   "metadata": {},
   "outputs": [],
   "source": [
    "item_lookup = data[['artist_id', 'artist']].drop_duplicates()\n",
    "item_lookup['artist_id'] = item_lookup.artist_id.astype(str)"
   ]
  },
  {
   "cell_type": "code",
   "execution_count": 13,
   "metadata": {},
   "outputs": [
    {
     "data": {
      "text/html": [
       "<div>\n",
       "<style scoped>\n",
       "    .dataframe tbody tr th:only-of-type {\n",
       "        vertical-align: middle;\n",
       "    }\n",
       "\n",
       "    .dataframe tbody tr th {\n",
       "        vertical-align: top;\n",
       "    }\n",
       "\n",
       "    .dataframe thead th {\n",
       "        text-align: right;\n",
       "    }\n",
       "</style>\n",
       "<table border=\"1\" class=\"dataframe\">\n",
       "  <thead>\n",
       "    <tr style=\"text-align: right;\">\n",
       "      <th></th>\n",
       "      <th>artist_id</th>\n",
       "      <th>artist</th>\n",
       "    </tr>\n",
       "  </thead>\n",
       "  <tbody>\n",
       "    <tr>\n",
       "      <th>0</th>\n",
       "      <td>90933</td>\n",
       "      <td>die Ärzte</td>\n",
       "    </tr>\n",
       "    <tr>\n",
       "      <th>1</th>\n",
       "      <td>185367</td>\n",
       "      <td>melissa etheridge</td>\n",
       "    </tr>\n",
       "    <tr>\n",
       "      <th>2</th>\n",
       "      <td>106704</td>\n",
       "      <td>elvenking</td>\n",
       "    </tr>\n",
       "    <tr>\n",
       "      <th>3</th>\n",
       "      <td>155241</td>\n",
       "      <td>juliette &amp; the licks</td>\n",
       "    </tr>\n",
       "    <tr>\n",
       "      <th>4</th>\n",
       "      <td>220128</td>\n",
       "      <td>red hot chili peppers</td>\n",
       "    </tr>\n",
       "  </tbody>\n",
       "</table>\n",
       "</div>"
      ],
      "text/plain": [
       "  artist_id                 artist\n",
       "0     90933              die Ärzte\n",
       "1    185367      melissa etheridge\n",
       "2    106704              elvenking\n",
       "3    155241   juliette & the licks\n",
       "4    220128  red hot chili peppers"
      ]
     },
     "execution_count": 13,
     "metadata": {},
     "output_type": "execute_result"
    }
   ],
   "source": [
    "item_lookup.head()"
   ]
  },
  {
   "cell_type": "code",
   "execution_count": 14,
   "metadata": {},
   "outputs": [
    {
     "data": {
      "application/vnd.jupyter.widget-view+json": {
       "model_id": "f9f4adc3ab5044189df92ad75d56755a",
       "version_major": 2,
       "version_minor": 0
      },
      "text/plain": [
       "HBox(children=(IntProgress(value=1, bar_style='info', max=1), HTML(value='')))"
      ]
     },
     "metadata": {},
     "output_type": "display_data"
    },
    {
     "name": "stdout",
     "output_type": "stream",
     "text": [
      "\n"
     ]
    }
   ],
   "source": [
    "artist_id_name = {}\n",
    "\n",
    "for index, row in tqdm_notebook(item_lookup.iterrows()):\n",
    "    artist_id_name[row.artist_id] = row.artist"
   ]
  },
  {
   "cell_type": "code",
   "execution_count": 15,
   "metadata": {},
   "outputs": [],
   "source": [
    "data = data.drop(['user', 'artist'], axis=1)"
   ]
  },
  {
   "cell_type": "code",
   "execution_count": 16,
   "metadata": {},
   "outputs": [
    {
     "data": {
      "text/html": [
       "<div>\n",
       "<style scoped>\n",
       "    .dataframe tbody tr th:only-of-type {\n",
       "        vertical-align: middle;\n",
       "    }\n",
       "\n",
       "    .dataframe tbody tr th {\n",
       "        vertical-align: top;\n",
       "    }\n",
       "\n",
       "    .dataframe thead th {\n",
       "        text-align: right;\n",
       "    }\n",
       "</style>\n",
       "<table border=\"1\" class=\"dataframe\">\n",
       "  <thead>\n",
       "    <tr style=\"text-align: right;\">\n",
       "      <th></th>\n",
       "      <th>plays</th>\n",
       "      <th>user_id</th>\n",
       "      <th>artist_id</th>\n",
       "    </tr>\n",
       "  </thead>\n",
       "  <tbody>\n",
       "    <tr>\n",
       "      <th>0</th>\n",
       "      <td>1099</td>\n",
       "      <td>0</td>\n",
       "      <td>90933</td>\n",
       "    </tr>\n",
       "    <tr>\n",
       "      <th>1</th>\n",
       "      <td>897</td>\n",
       "      <td>0</td>\n",
       "      <td>185367</td>\n",
       "    </tr>\n",
       "    <tr>\n",
       "      <th>2</th>\n",
       "      <td>717</td>\n",
       "      <td>0</td>\n",
       "      <td>106704</td>\n",
       "    </tr>\n",
       "    <tr>\n",
       "      <th>3</th>\n",
       "      <td>706</td>\n",
       "      <td>0</td>\n",
       "      <td>155241</td>\n",
       "    </tr>\n",
       "    <tr>\n",
       "      <th>4</th>\n",
       "      <td>691</td>\n",
       "      <td>0</td>\n",
       "      <td>220128</td>\n",
       "    </tr>\n",
       "  </tbody>\n",
       "</table>\n",
       "</div>"
      ],
      "text/plain": [
       "   plays  user_id  artist_id\n",
       "0   1099        0      90933\n",
       "1    897        0     185367\n",
       "2    717        0     106704\n",
       "3    706        0     155241\n",
       "4    691        0     220128"
      ]
     },
     "execution_count": 16,
     "metadata": {},
     "output_type": "execute_result"
    }
   ],
   "source": [
    "data.head()"
   ]
  },
  {
   "cell_type": "code",
   "execution_count": 17,
   "metadata": {},
   "outputs": [],
   "source": [
    "data = data.loc[data.plays != 0]"
   ]
  },
  {
   "cell_type": "code",
   "execution_count": 18,
   "metadata": {},
   "outputs": [
    {
     "data": {
      "text/html": [
       "<div>\n",
       "<style scoped>\n",
       "    .dataframe tbody tr th:only-of-type {\n",
       "        vertical-align: middle;\n",
       "    }\n",
       "\n",
       "    .dataframe tbody tr th {\n",
       "        vertical-align: top;\n",
       "    }\n",
       "\n",
       "    .dataframe thead th {\n",
       "        text-align: right;\n",
       "    }\n",
       "</style>\n",
       "<table border=\"1\" class=\"dataframe\">\n",
       "  <thead>\n",
       "    <tr style=\"text-align: right;\">\n",
       "      <th></th>\n",
       "      <th>plays</th>\n",
       "      <th>user_id</th>\n",
       "      <th>artist_id</th>\n",
       "    </tr>\n",
       "  </thead>\n",
       "  <tbody>\n",
       "    <tr>\n",
       "      <th>0</th>\n",
       "      <td>1099</td>\n",
       "      <td>0</td>\n",
       "      <td>90933</td>\n",
       "    </tr>\n",
       "    <tr>\n",
       "      <th>1</th>\n",
       "      <td>897</td>\n",
       "      <td>0</td>\n",
       "      <td>185367</td>\n",
       "    </tr>\n",
       "    <tr>\n",
       "      <th>2</th>\n",
       "      <td>717</td>\n",
       "      <td>0</td>\n",
       "      <td>106704</td>\n",
       "    </tr>\n",
       "    <tr>\n",
       "      <th>3</th>\n",
       "      <td>706</td>\n",
       "      <td>0</td>\n",
       "      <td>155241</td>\n",
       "    </tr>\n",
       "    <tr>\n",
       "      <th>4</th>\n",
       "      <td>691</td>\n",
       "      <td>0</td>\n",
       "      <td>220128</td>\n",
       "    </tr>\n",
       "  </tbody>\n",
       "</table>\n",
       "</div>"
      ],
      "text/plain": [
       "   plays  user_id  artist_id\n",
       "0   1099        0      90933\n",
       "1    897        0     185367\n",
       "2    717        0     106704\n",
       "3    706        0     155241\n",
       "4    691        0     220128"
      ]
     },
     "execution_count": 18,
     "metadata": {},
     "output_type": "execute_result"
    }
   ],
   "source": [
    "data.head()"
   ]
  },
  {
   "cell_type": "code",
   "execution_count": 19,
   "metadata": {},
   "outputs": [],
   "source": [
    "users = list(np.sort(data.user_id.unique()))\n",
    "artists = list(np.sort(data.artist_id.unique()))\n",
    "plays = list(data.plays)"
   ]
  },
  {
   "cell_type": "code",
   "execution_count": 20,
   "metadata": {},
   "outputs": [
    {
     "data": {
      "text/plain": [
       "[0, 1, 2, 3, 4]"
      ]
     },
     "execution_count": 20,
     "metadata": {},
     "output_type": "execute_result"
    }
   ],
   "source": [
    "users[:5]"
   ]
  },
  {
   "cell_type": "code",
   "execution_count": 21,
   "metadata": {},
   "outputs": [
    {
     "data": {
      "text/plain": [
       "[0, 1, 2, 3, 4]"
      ]
     },
     "execution_count": 21,
     "metadata": {},
     "output_type": "execute_result"
    }
   ],
   "source": [
    "artists[:5]"
   ]
  },
  {
   "cell_type": "code",
   "execution_count": 22,
   "metadata": {},
   "outputs": [
    {
     "data": {
      "text/plain": [
       "[1099, 897, 717, 706, 691]"
      ]
     },
     "execution_count": 22,
     "metadata": {},
     "output_type": "execute_result"
    }
   ],
   "source": [
    "plays[:5]"
   ]
  },
  {
   "cell_type": "code",
   "execution_count": 23,
   "metadata": {},
   "outputs": [
    {
     "data": {
      "text/plain": [
       "358868"
      ]
     },
     "execution_count": 23,
     "metadata": {},
     "output_type": "execute_result"
    }
   ],
   "source": [
    "len(users)"
   ]
  },
  {
   "cell_type": "code",
   "execution_count": 24,
   "metadata": {},
   "outputs": [
    {
     "data": {
      "text/plain": [
       "292363"
      ]
     },
     "execution_count": 24,
     "metadata": {},
     "output_type": "execute_result"
    }
   ],
   "source": [
    "len(artists)"
   ]
  },
  {
   "cell_type": "code",
   "execution_count": 25,
   "metadata": {},
   "outputs": [],
   "source": [
    "rows = data.user_id.astype(int)\n",
    "cols = data.artist_id.astype(int)"
   ]
  },
  {
   "cell_type": "code",
   "execution_count": 26,
   "metadata": {},
   "outputs": [],
   "source": [
    "data_sparse = sparse.csr_matrix((plays, (cols, rows)), shape=(len(artists), len(users)))"
   ]
  },
  {
   "cell_type": "code",
   "execution_count": 27,
   "metadata": {},
   "outputs": [
    {
     "name": "stderr",
     "output_type": "stream",
     "text": [
      "WARNING:root:Intel MKL BLAS detected. Its highly recommend to set the environment variable 'export MKL_NUM_THREADS=1' to disable its internal multithreading\n",
      "100%|██████████| 15.0/15 [02:09<00:00,  9.08s/it]\n"
     ]
    }
   ],
   "source": [
    "model = AlternatingLeastSquares(factors=50)\n",
    "model.fit(data_sparse)"
   ]
  },
  {
   "cell_type": "code",
   "execution_count": 28,
   "metadata": {},
   "outputs": [],
   "source": [
    "userid = 0\n",
    "\n",
    "user_items = data_sparse.T.tocsr()\n",
    "recommendations = model.recommend(userid, user_items)"
   ]
  },
  {
   "cell_type": "code",
   "execution_count": 29,
   "metadata": {},
   "outputs": [
    {
     "data": {
      "text/plain": [
       "[(255208, 1.4354894),\n",
       " (161833, 1.386636),\n",
       " (107103, 1.306504),\n",
       " (12523, 1.2394924),\n",
       " (90690, 1.1967964),\n",
       " (116811, 1.1831782),\n",
       " (249542, 1.1823306),\n",
       " (264730, 1.1821377),\n",
       " (108566, 1.1786919),\n",
       " (165921, 1.1732564)]"
      ]
     },
     "execution_count": 29,
     "metadata": {},
     "output_type": "execute_result"
    }
   ],
   "source": [
    "recommendations"
   ]
  },
  {
   "cell_type": "code",
   "execution_count": 30,
   "metadata": {},
   "outputs": [
    {
     "name": "stdout",
     "output_type": "stream",
     "text": [
      "the dresden dolls\n",
      "kittie\n",
      "emilie autumn\n",
      "after forever\n",
      "die happy\n",
      "flyleaf\n",
      "tarja turunen\n",
      "the white stripes\n",
      "epica\n",
      "lacuna coil\n"
     ]
    }
   ],
   "source": [
    "for r in recommendations:\n",
    "    print(artist_id_name[str(r[0])])"
   ]
  },
  {
   "cell_type": "code",
   "execution_count": 31,
   "metadata": {},
   "outputs": [],
   "source": [
    "itemid = 107209\n",
    "related = model.similar_items(itemid)"
   ]
  },
  {
   "cell_type": "code",
   "execution_count": 32,
   "metadata": {},
   "outputs": [
    {
     "data": {
      "text/plain": [
       "[(107209, 0.10995704),\n",
       " (157178, 0.09606841),\n",
       " (187011, 0.09417115),\n",
       " (247942, 0.09345406),\n",
       " (171169, 0.093335286),\n",
       " (3845, 0.09315104),\n",
       " (128172, 0.0930436),\n",
       " (48904, 0.09303317),\n",
       " (260378, 0.09276162),\n",
       " (218091, 0.091624394)]"
      ]
     },
     "execution_count": 32,
     "metadata": {},
     "output_type": "execute_result"
    }
   ],
   "source": [
    "related"
   ]
  },
  {
   "cell_type": "code",
   "execution_count": 33,
   "metadata": {},
   "outputs": [
    {
     "name": "stdout",
     "output_type": "stream",
     "text": [
      "eminem\n",
      "kanye west\n",
      "michael jackson\n",
      "system of a down\n",
      "linkin park\n",
      "50 cent\n",
      "green day\n",
      "black eyed peas\n",
      "the offspring\n",
      "rage against the machine\n"
     ]
    }
   ],
   "source": [
    "for a in related:\n",
    "    print(artist_id_name[str(a[0])])"
   ]
  },
  {
   "cell_type": "code",
   "execution_count": 37,
   "metadata": {},
   "outputs": [
    {
     "data": {
      "text/plain": [
       "'sick on the bus'"
      ]
     },
     "execution_count": 37,
     "metadata": {},
     "output_type": "execute_result"
    }
   ],
   "source": [
    "artist_id_name['234786']"
   ]
  },
  {
   "cell_type": "markdown",
   "metadata": {},
   "source": [
    "# HomeWork"
   ]
  },
  {
   "cell_type": "markdown",
   "metadata": {},
   "source": [
    "tags = pd.read_csv('tags.dat',encoding='cp1251', sep='\\t')"
   ]
  },
  {
   "cell_type": "code",
   "execution_count": 4,
   "metadata": {},
   "outputs": [],
   "source": [
    "user_contacts = pd.read_csv('user_contacts.dat',encoding='cp1251', sep='\\t')"
   ]
  },
  {
   "cell_type": "code",
   "execution_count": 5,
   "metadata": {},
   "outputs": [],
   "source": [
    "user_contacts_timestamps = pd.read_csv('user_contacts-timestamps.dat',encoding='cp1251', sep='\\t')"
   ]
  },
  {
   "cell_type": "code",
   "execution_count": 6,
   "metadata": {},
   "outputs": [],
   "source": [
    "user_taggedbookmarks = pd.read_csv('user_taggedbookmarks.dat',encoding='cp1251', sep='\\t')"
   ]
  },
  {
   "cell_type": "code",
   "execution_count": 7,
   "metadata": {},
   "outputs": [],
   "source": [
    "user_taggedbookmarks_timestamps = pd.read_csv('user_taggedbookmarks-timestamps.dat',encoding='cp1251', sep='\\t')"
   ]
  },
  {
   "cell_type": "code",
   "execution_count": 49,
   "metadata": {},
   "outputs": [
    {
     "data": {
      "text/html": [
       "<div>\n",
       "<style scoped>\n",
       "    .dataframe tbody tr th:only-of-type {\n",
       "        vertical-align: middle;\n",
       "    }\n",
       "\n",
       "    .dataframe tbody tr th {\n",
       "        vertical-align: top;\n",
       "    }\n",
       "\n",
       "    .dataframe thead th {\n",
       "        text-align: right;\n",
       "    }\n",
       "</style>\n",
       "<table border=\"1\" class=\"dataframe\">\n",
       "  <thead>\n",
       "    <tr style=\"text-align: right;\">\n",
       "      <th></th>\n",
       "      <th>userID</th>\n",
       "      <th>contactID</th>\n",
       "      <th>timestamp</th>\n",
       "    </tr>\n",
       "  </thead>\n",
       "  <tbody>\n",
       "    <tr>\n",
       "      <th>0</th>\n",
       "      <td>8</td>\n",
       "      <td>28371</td>\n",
       "      <td>1286151259000</td>\n",
       "    </tr>\n",
       "    <tr>\n",
       "      <th>1</th>\n",
       "      <td>8</td>\n",
       "      <td>40306</td>\n",
       "      <td>1286101989000</td>\n",
       "    </tr>\n",
       "    <tr>\n",
       "      <th>2</th>\n",
       "      <td>8</td>\n",
       "      <td>85279</td>\n",
       "      <td>1285981848000</td>\n",
       "    </tr>\n",
       "    <tr>\n",
       "      <th>3</th>\n",
       "      <td>8</td>\n",
       "      <td>91764</td>\n",
       "      <td>1286225027000</td>\n",
       "    </tr>\n",
       "    <tr>\n",
       "      <th>4</th>\n",
       "      <td>8</td>\n",
       "      <td>97723</td>\n",
       "      <td>1286846913000</td>\n",
       "    </tr>\n",
       "  </tbody>\n",
       "</table>\n",
       "</div>"
      ],
      "text/plain": [
       "   userID  contactID      timestamp\n",
       "0       8      28371  1286151259000\n",
       "1       8      40306  1286101989000\n",
       "2       8      85279  1285981848000\n",
       "3       8      91764  1286225027000\n",
       "4       8      97723  1286846913000"
      ]
     },
     "execution_count": 49,
     "metadata": {},
     "output_type": "execute_result"
    }
   ],
   "source": [
    "user_contacts_timestamps.head()"
   ]
  },
  {
   "cell_type": "code",
   "execution_count": 50,
   "metadata": {},
   "outputs": [
    {
     "data": {
      "text/html": [
       "<div>\n",
       "<style scoped>\n",
       "    .dataframe tbody tr th:only-of-type {\n",
       "        vertical-align: middle;\n",
       "    }\n",
       "\n",
       "    .dataframe tbody tr th {\n",
       "        vertical-align: top;\n",
       "    }\n",
       "\n",
       "    .dataframe thead th {\n",
       "        text-align: right;\n",
       "    }\n",
       "</style>\n",
       "<table border=\"1\" class=\"dataframe\">\n",
       "  <thead>\n",
       "    <tr style=\"text-align: right;\">\n",
       "      <th></th>\n",
       "      <th>userID</th>\n",
       "      <th>contactID</th>\n",
       "      <th>date_day</th>\n",
       "      <th>date_month</th>\n",
       "      <th>date_year</th>\n",
       "      <th>date_hour</th>\n",
       "      <th>date_minute</th>\n",
       "      <th>date_second</th>\n",
       "    </tr>\n",
       "  </thead>\n",
       "  <tbody>\n",
       "    <tr>\n",
       "      <th>0</th>\n",
       "      <td>8</td>\n",
       "      <td>28371</td>\n",
       "      <td>4</td>\n",
       "      <td>10</td>\n",
       "      <td>2010</td>\n",
       "      <td>2</td>\n",
       "      <td>14</td>\n",
       "      <td>19</td>\n",
       "    </tr>\n",
       "    <tr>\n",
       "      <th>1</th>\n",
       "      <td>8</td>\n",
       "      <td>40306</td>\n",
       "      <td>3</td>\n",
       "      <td>10</td>\n",
       "      <td>2010</td>\n",
       "      <td>12</td>\n",
       "      <td>33</td>\n",
       "      <td>9</td>\n",
       "    </tr>\n",
       "    <tr>\n",
       "      <th>2</th>\n",
       "      <td>8</td>\n",
       "      <td>85279</td>\n",
       "      <td>2</td>\n",
       "      <td>10</td>\n",
       "      <td>2010</td>\n",
       "      <td>3</td>\n",
       "      <td>10</td>\n",
       "      <td>48</td>\n",
       "    </tr>\n",
       "    <tr>\n",
       "      <th>3</th>\n",
       "      <td>8</td>\n",
       "      <td>91764</td>\n",
       "      <td>4</td>\n",
       "      <td>10</td>\n",
       "      <td>2010</td>\n",
       "      <td>22</td>\n",
       "      <td>43</td>\n",
       "      <td>47</td>\n",
       "    </tr>\n",
       "    <tr>\n",
       "      <th>4</th>\n",
       "      <td>8</td>\n",
       "      <td>97723</td>\n",
       "      <td>12</td>\n",
       "      <td>10</td>\n",
       "      <td>2010</td>\n",
       "      <td>3</td>\n",
       "      <td>28</td>\n",
       "      <td>33</td>\n",
       "    </tr>\n",
       "  </tbody>\n",
       "</table>\n",
       "</div>"
      ],
      "text/plain": [
       "   userID  contactID  date_day  date_month  date_year  date_hour  date_minute  \\\n",
       "0       8      28371         4          10       2010          2           14   \n",
       "1       8      40306         3          10       2010         12           33   \n",
       "2       8      85279         2          10       2010          3           10   \n",
       "3       8      91764         4          10       2010         22           43   \n",
       "4       8      97723        12          10       2010          3           28   \n",
       "\n",
       "   date_second  \n",
       "0           19  \n",
       "1            9  \n",
       "2           48  \n",
       "3           47  \n",
       "4           33  "
      ]
     },
     "execution_count": 50,
     "metadata": {},
     "output_type": "execute_result"
    }
   ],
   "source": [
    "user_contacts.head()"
   ]
  },
  {
   "cell_type": "code",
   "execution_count": 51,
   "metadata": {},
   "outputs": [
    {
     "data": {
      "text/html": [
       "<div>\n",
       "<style scoped>\n",
       "    .dataframe tbody tr th:only-of-type {\n",
       "        vertical-align: middle;\n",
       "    }\n",
       "\n",
       "    .dataframe tbody tr th {\n",
       "        vertical-align: top;\n",
       "    }\n",
       "\n",
       "    .dataframe thead th {\n",
       "        text-align: right;\n",
       "    }\n",
       "</style>\n",
       "<table border=\"1\" class=\"dataframe\">\n",
       "  <thead>\n",
       "    <tr style=\"text-align: right;\">\n",
       "      <th></th>\n",
       "      <th>userID</th>\n",
       "      <th>bookmarkID</th>\n",
       "      <th>tagID</th>\n",
       "      <th>day</th>\n",
       "      <th>month</th>\n",
       "      <th>year</th>\n",
       "      <th>hour</th>\n",
       "      <th>minute</th>\n",
       "      <th>second</th>\n",
       "    </tr>\n",
       "  </thead>\n",
       "  <tbody>\n",
       "    <tr>\n",
       "      <th>0</th>\n",
       "      <td>8</td>\n",
       "      <td>1</td>\n",
       "      <td>1</td>\n",
       "      <td>8</td>\n",
       "      <td>11</td>\n",
       "      <td>2010</td>\n",
       "      <td>23</td>\n",
       "      <td>29</td>\n",
       "      <td>22</td>\n",
       "    </tr>\n",
       "    <tr>\n",
       "      <th>1</th>\n",
       "      <td>8</td>\n",
       "      <td>2</td>\n",
       "      <td>1</td>\n",
       "      <td>8</td>\n",
       "      <td>11</td>\n",
       "      <td>2010</td>\n",
       "      <td>23</td>\n",
       "      <td>25</td>\n",
       "      <td>59</td>\n",
       "    </tr>\n",
       "    <tr>\n",
       "      <th>2</th>\n",
       "      <td>8</td>\n",
       "      <td>7</td>\n",
       "      <td>1</td>\n",
       "      <td>8</td>\n",
       "      <td>11</td>\n",
       "      <td>2010</td>\n",
       "      <td>18</td>\n",
       "      <td>55</td>\n",
       "      <td>1</td>\n",
       "    </tr>\n",
       "    <tr>\n",
       "      <th>3</th>\n",
       "      <td>8</td>\n",
       "      <td>7</td>\n",
       "      <td>6</td>\n",
       "      <td>8</td>\n",
       "      <td>11</td>\n",
       "      <td>2010</td>\n",
       "      <td>18</td>\n",
       "      <td>55</td>\n",
       "      <td>1</td>\n",
       "    </tr>\n",
       "    <tr>\n",
       "      <th>4</th>\n",
       "      <td>8</td>\n",
       "      <td>7</td>\n",
       "      <td>7</td>\n",
       "      <td>8</td>\n",
       "      <td>11</td>\n",
       "      <td>2010</td>\n",
       "      <td>18</td>\n",
       "      <td>55</td>\n",
       "      <td>1</td>\n",
       "    </tr>\n",
       "  </tbody>\n",
       "</table>\n",
       "</div>"
      ],
      "text/plain": [
       "   userID  bookmarkID  tagID  day  month  year  hour  minute  second\n",
       "0       8           1      1    8     11  2010    23      29      22\n",
       "1       8           2      1    8     11  2010    23      25      59\n",
       "2       8           7      1    8     11  2010    18      55       1\n",
       "3       8           7      6    8     11  2010    18      55       1\n",
       "4       8           7      7    8     11  2010    18      55       1"
      ]
     },
     "execution_count": 51,
     "metadata": {},
     "output_type": "execute_result"
    }
   ],
   "source": [
    "user_taggedbookmarks.head()"
   ]
  },
  {
   "cell_type": "code",
   "execution_count": 60,
   "metadata": {},
   "outputs": [
    {
     "data": {
      "image/png": "[encoded data removed]",
      "text/plain": [
       "<Figure size 432x288 with 1 Axes>"
      ]
     },
     "metadata": {
      "needs_background": "light"
     },
     "output_type": "display_data"
    }
   ],
   "source": [
    "user_taggedbookmarks.groupby('bookmarkID')['userID'].nunique().hist();"
   ]
  },
  {
   "cell_type": "code",
   "execution_count": 59,
   "metadata": {},
   "outputs": [
    {
     "data": {
      "image/png": "[encoded data removed]",
      "text/plain": [
       "<Figure size 432x288 with 1 Axes>"
      ]
     },
     "metadata": {
      "needs_background": "light"
     },
     "output_type": "display_data"
    }
   ],
   "source": [
    "user_taggedbookmarks.groupby('bookmarkID')['tagID'].nunique().hist();"
   ]
  },
  {
   "cell_type": "code",
   "execution_count": 63,
   "metadata": {},
   "outputs": [
    {
     "data": {
      "image/png": "[encoded data removed]",
      "text/plain": [
       "<Figure size 432x288 with 1 Axes>"
      ]
     },
     "metadata": {
      "needs_background": "light"
     },
     "output_type": "display_data"
    }
   ],
   "source": [
    "user_taggedbookmarks.groupby('userID')['tagID'].size().hist();"
   ]
  },
  {
   "cell_type": "code",
   "execution_count": 73,
   "metadata": {},
   "outputs": [
    {
     "data": {
      "image/png": "[encoded data removed]",
      "text/plain": [
       "<Figure size 432x288 with 1 Axes>"
      ]
     },
     "metadata": {
      "needs_background": "light"
     },
     "output_type": "display_data"
    }
   ],
   "source": [
    "user_taggedbookmarks.groupby('tagID')['userID'].nunique().hist();"
   ]
  },
  {
   "cell_type": "code",
   "execution_count": 8,
   "metadata": {},
   "outputs": [],
   "source": [
    "df = user_taggedbookmarks[['userID','bookmarkID','tagID']]"
   ]
  },
  {
   "cell_type": "code",
   "execution_count": 9,
   "metadata": {},
   "outputs": [
    {
     "data": {
      "text/plain": [
       "userID        0\n",
       "bookmarkID    0\n",
       "tagID         0\n",
       "dtype: int64"
      ]
     },
     "execution_count": 9,
     "metadata": {},
     "output_type": "execute_result"
    }
   ],
   "source": [
    "df.isnull().sum()"
   ]
  },
  {
   "cell_type": "code",
   "execution_count": 10,
   "metadata": {},
   "outputs": [
    {
     "data": {
      "text/html": [
       "<div>\n",
       "<style scoped>\n",
       "    .dataframe tbody tr th:only-of-type {\n",
       "        vertical-align: middle;\n",
       "    }\n",
       "\n",
       "    .dataframe tbody tr th {\n",
       "        vertical-align: top;\n",
       "    }\n",
       "\n",
       "    .dataframe thead th {\n",
       "        text-align: right;\n",
       "    }\n",
       "</style>\n",
       "<table border=\"1\" class=\"dataframe\">\n",
       "  <thead>\n",
       "    <tr style=\"text-align: right;\">\n",
       "      <th></th>\n",
       "      <th>userID</th>\n",
       "      <th>bookmarkID</th>\n",
       "      <th>tagID</th>\n",
       "    </tr>\n",
       "  </thead>\n",
       "  <tbody>\n",
       "  </tbody>\n",
       "</table>\n",
       "</div>"
      ],
      "text/plain": [
       "Empty DataFrame\n",
       "Columns: [userID, bookmarkID, tagID]\n",
       "Index: []"
      ]
     },
     "execution_count": 10,
     "metadata": {},
     "output_type": "execute_result"
    }
   ],
   "source": [
    "df[df.bookmarkID == 0]"
   ]
  },
  {
   "cell_type": "code",
   "execution_count": 12,
   "metadata": {},
   "outputs": [],
   "source": [
    "users = list(np.sort(df.userID.unique()))\n",
    "artists = list(np.sort(df.bookmarkID.unique()))\n",
    "vec = []\n",
    "for user in users:\n",
    "    bks = np.zeros(max(artists))\n",
    "\n",
    "    vals = np.unique(df[df.userID == user].bookmarkID.values)\n",
    "\n",
    "    for v in vals:\n",
    "        bks[v-1] = 1\n",
    "    vec.append(bks)"
   ]
  },
  {
   "cell_type": "code",
   "execution_count": 13,
   "metadata": {},
   "outputs": [],
   "source": [
    "from numpy import array\n"
   ]
  },
  {
   "cell_type": "code",
   "execution_count": 14,
   "metadata": {},
   "outputs": [],
   "source": [
    "data_sparse = sparse.csr_matrix(array(vec[:550]))"
   ]
  },
  {
   "cell_type": "code",
   "execution_count": 15,
   "metadata": {},
   "outputs": [
    {
     "name": "stderr",
     "output_type": "stream",
     "text": [
      "WARNING:root:Intel MKL BLAS detected. Its highly recommend to set the environment variable 'export MKL_NUM_THREADS=1' to disable its internal multithreading\n",
      "100%|██████████| 15.0/15 [00:01<00:00,  8.57it/s]\n"
     ]
    }
   ],
   "source": [
    "model = AlternatingLeastSquares(factors=50)\n",
    "model.fit(data_sparse)"
   ]
  },
  {
   "cell_type": "code",
   "execution_count": 16,
   "metadata": {},
   "outputs": [],
   "source": [
    "userid = 8\n",
    "\n",
    "user_items = data_sparse.T.tocsr()\n",
    "recommendations = model.recommend(userid, user_items)"
   ]
  },
  {
   "cell_type": "code",
   "execution_count": 17,
   "metadata": {},
   "outputs": [
    {
     "data": {
      "text/plain": [
       "[(300, 0.075004056),\n",
       " (24, 0.07021195),\n",
       " (282, 0.070081),\n",
       " (243, 0.06995992),\n",
       " (253, 0.06885314),\n",
       " (342, 0.063120596),\n",
       " (37, 0.05601996),\n",
       " (355, 0.051763188),\n",
       " (240, 0.050506894),\n",
       " (214, 0.046738513)]"
      ]
     },
     "execution_count": 17,
     "metadata": {},
     "output_type": "execute_result"
    }
   ],
   "source": [
    "recommendations"
   ]
  },
  {
   "cell_type": "code",
   "execution_count": 42,
   "metadata": {},
   "outputs": [
    {
     "name": "stdout",
     "output_type": "stream",
     "text": [
      "Recommended bookmar ID  432\n",
      "Related tag for 432 is twitter\n",
      "Related tag for 432 is facebook\n",
      "Related tag for 432 is social\n",
      "Related tag for 432 is media\n",
      "Related tag for 432 is tips\n",
      "Related tag for 432 is people\n",
      "Related tag for 432 is blogging\n",
      "Related tag for 432 is 10\n",
      "Related tag for 432 is advice\n",
      "Related tag for 432 is manners\n",
      "Related tag for 432 is etiquette\n",
      "Related tag for 432 is employment\n",
      "Related tag for 432 is creation\n",
      "Recommended bookmar ID  36\n",
      "Related tag for 36 is collection_development\n",
      "Related tag for 36 is virtual_library\n",
      "Related tag for 36 is paid_subscription\n",
      "Related tag for 36 is blogs_library\n",
      "Related tag for 36 is design\n",
      "Related tag for 36 is pakage\n",
      "Related tag for 36 is designs\n",
      "Related tag for 36 is jobs\n",
      "Related tag for 36 is southafrica\n",
      "Related tag for 36 is phpmyadmin\n",
      "Related tag for 36 is sh\n",
      "Related tag for 36 is alg\n",
      "Recommended bookmar ID  409\n",
      "Related tag for 409 is learning\n",
      "Related tag for 409 is wikis\n",
      "Related tag for 409 is socialpeoplerelationshipcriticism\n",
      "Related tag for 409 is tools\n",
      "Related tag for 409 is social\n",
      "Related tag for 409 is software\n",
      "Related tag for 409 is work\n",
      "Related tag for 409 is people\n",
      "Related tag for 409 is knowledge\n",
      "Related tag for 409 is flow\n",
      "Related tag for 409 is behaviours\n",
      "Related tag for 409 is constraints\n",
      "Related tag for 409 is adoption\n",
      "Related tag for 409 is enterprise20\n",
      "Recommended bookmar ID  363\n",
      "Related tag for 363 is library\n",
      "Related tag for 363 is collaboration\n",
      "Related tag for 363 is twitter\n",
      "Related tag for 363 is inspiration\n",
      "Related tag for 363 is design\n",
      "Related tag for 363 is art\n",
      "Related tag for 363 is illustration\n",
      "Related tag for 363 is web20\n",
      "Related tag for 363 is tools\n",
      "Related tag for 363 is web\n",
      "Related tag for 363 is social\n",
      "Related tag for 363 is media\n",
      "Related tag for 363 is community\n",
      "Related tag for 363 is blog\n",
      "Related tag for 363 is graphics\n",
      "Related tag for 363 is software\n",
      "Related tag for 363 is socialnetworking\n",
      "Related tag for 363 is sharing\n",
      "Related tag for 363 is webdesign\n",
      "Related tag for 363 is gallery\n",
      "Related tag for 363 is showcase\n",
      "Related tag for 363 is portfolio\n",
      "Related tag for 363 is ui\n",
      "Related tag for 363 is networking\n",
      "Related tag for 363 is models\n",
      "Related tag for 363 is projects\n",
      "Related tag for 363 is layout\n",
      "Related tag for 363 is designers\n",
      "Related tag for 363 is designer\n",
      "Related tag for 363 is app\n",
      "Related tag for 363 is screenshots\n",
      "Related tag for 363 is socialnetworks\n",
      "Related tag for 363 is dribbble\n",
      "Related tag for 363 is feedback\n",
      "Related tag for 363 is communities\n",
      "Related tag for 363 is dribble\n",
      "Related tag for 363 is thumbnails\n",
      "Related tag for 363 is open_source\n",
      "Related tag for 363 is tfos\n",
      "Recommended bookmar ID  376\n",
      "Related tag for 376 is blog\n",
      "Related tag for 376 is ux\n",
      "Related tag for 376 is usability\n",
      "Related tag for 376 is ui\n",
      "Related tag for 376 is repetition\n",
      "Recommended bookmar ID  480\n",
      "Related tag for 480 is questions\n",
      "Related tag for 480 is research\n",
      "Related tag for 480 is success\n",
      "Related tag for 480 is people\n",
      "Related tag for 480 is productivity\n",
      "Related tag for 480 is attention\n",
      "Related tag for 480 is behaviour\n",
      "Related tag for 480 is rules\n",
      "Related tag for 480 is mission\n",
      "Related tag for 480 is hbr\n",
      "Related tag for 480 is gen-y\n",
      "Related tag for 480 is failure\n",
      "Related tag for 480 is influence\n",
      "Related tag for 480 is psychology\n",
      "Related tag for 480 is planning\n",
      "Related tag for 480 is brain\n",
      "Related tag for 480 is willpower\n",
      "Related tag for 480 is determination\n",
      "Related tag for 480 is paradox\n",
      "Recommended bookmar ID  59\n",
      "Related tag for 59 is education\n",
      "Related tag for 59 is writing\n",
      "Related tag for 59 is web_20\n",
      "Related tag for 59 is technology\n",
      "Related tag for 59 is collaboration\n",
      "Related tag for 59 is teachers\n",
      "Related tag for 59 is tech\n",
      "Related tag for 59 is paid_subscription\n",
      "Related tag for 59 is web20\n",
      "Related tag for 59 is removing\n",
      "Related tag for 59 is teaching\n",
      "Related tag for 59 is pln\n",
      "Related tag for 59 is classroom\n",
      "Related tag for 59 is blog\n",
      "Related tag for 59 is socialnetworking\n",
      "Related tag for 59 is networking\n",
      "Related tag for 59 is classroom20\n",
      "Related tag for 59 is socialnetworks\n",
      "Related tag for 59 is 20\n",
      "Related tag for 59 is en\n",
      "Related tag for 59 is ict\n",
      "Related tag for 59 is ning\n",
      "Related tag for 59 is adlt641\n",
      "Related tag for 59 is educationalnetworking\n",
      "Related tag for 59 is edte611\n",
      "Related tag for 59 is lscf\n",
      "Related tag for 59 is lscfbook\n",
      "Related tag for 59 is hargadon\n",
      "Related tag for 59 is olc\n",
      "Related tag for 59 is cybercamp\n",
      "Recommended bookmar ID  494\n",
      "Related tag for 494 is fingertips\n",
      "Related tag for 494 is socialpeoplerelationshipcriticism\n",
      "Related tag for 494 is content\n",
      "Related tag for 494 is management\n",
      "Related tag for 494 is business\n",
      "Related tag for 494 is information\n",
      "Related tag for 494 is people\n",
      "Related tag for 494 is knowledge\n",
      "Related tag for 494 is km\n",
      "Related tag for 494 is organisation\n",
      "Related tag for 494 is intranet\n",
      "Related tag for 494 is silos\n",
      "Related tag for 494 is brainstorming\n",
      "Related tag for 494 is long-tail\n",
      "Related tag for 494 is needs\n",
      "Recommended bookmar ID  360\n",
      "Related tag for 360 is design\n",
      "Related tag for 360 is resources\n",
      "Related tag for 360 is digital\n",
      "Related tag for 360 is web\n",
      "Related tag for 360 is mobile\n",
      "Related tag for 360 is ux\n",
      "Related tag for 360 is usability\n",
      "Related tag for 360 is ui\n",
      "Related tag for 360 is patterns\n",
      "Related tag for 360 is location\n",
      "Related tag for 360 is simple\n",
      "Related tag for 360 is rules\n",
      "Related tag for 360 is services\n",
      "Related tag for 360 is based\n",
      "Related tag for 360 is informationen\n",
      "Recommended bookmar ID  329\n",
      "Related tag for 329 is critical\n",
      "Related tag for 329 is design\n",
      "Related tag for 329 is guide\n",
      "Related tag for 329 is removing\n",
      "Related tag for 329 is webdesign\n",
      "Related tag for 329 is ux\n",
      "Related tag for 329 is styleguide\n",
      "Related tag for 329 is bbc\n",
      "Related tag for 329 is guidelines\n",
      "Related tag for 329 is briefing\n"
     ]
    }
   ],
   "source": [
    "for x in recommendations:\n",
    "    print('Recommended bookmar ID ', artists[x[0]])\n",
    "    t  = np.unique(df[df.bookmarkID == artists[x[0]]].tagID.values)\n",
    "    for tag in t:\n",
    "        print('Related tag for {} is {}'.format(artists[x[0]],tags[tags.id == tag].values[0][1]))"
   ]
  },
  {
   "cell_type": "code",
   "execution_count": null,
   "metadata": {},
   "outputs": [],
   "source": []
  }
 ],
 "metadata": {
  "kernelspec": {
   "display_name": "Python 3",
   "language": "python",
   "name": "python3"
  },
  "language_info": {
   "codemirror_mode": {
    "name": "ipython",
    "version": 3
   },
   "file_extension": ".py",
   "mimetype": "text/x-python",
   "name": "python",
   "nbconvert_exporter": "python",
   "pygments_lexer": "ipython3",
   "version": "3.7.3"
  }
 },
 "nbformat": 4,
 "nbformat_minor": 2
}
