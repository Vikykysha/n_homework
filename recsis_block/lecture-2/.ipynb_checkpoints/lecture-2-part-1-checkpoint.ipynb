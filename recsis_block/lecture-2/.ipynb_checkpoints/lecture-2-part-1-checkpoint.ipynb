{
 "cells": [
  {
   "cell_type": "code",
   "execution_count": 1,
   "metadata": {},
   "outputs": [],
   "source": [
    "import pandas as pd\n",
    "import numpy as np\n",
    "from datetime import datetime\n",
    "\n",
    "from tqdm import tqdm_notebook\n",
    "\n",
    "import matplotlib.pyplot as plt\n",
    "\n",
    "%matplotlib inline"
   ]
  },
  {
   "cell_type": "code",
   "execution_count": 2,
   "metadata": {
    "scrolled": true
   },
   "outputs": [],
   "source": [
    "links = pd.read_csv('links.csv')\n",
    "movies = pd.read_csv('movies.csv')\n",
    "ratings = pd.read_csv('ratings.csv')\n",
    "tags = pd.read_csv('tags.csv')"
   ]
  },
  {
   "cell_type": "code",
   "execution_count": 3,
   "metadata": {},
   "outputs": [
    {
     "data": {
      "text/html": [
       "<div>\n",
       "<style scoped>\n",
       "    .dataframe tbody tr th:only-of-type {\n",
       "        vertical-align: middle;\n",
       "    }\n",
       "\n",
       "    .dataframe tbody tr th {\n",
       "        vertical-align: top;\n",
       "    }\n",
       "\n",
       "    .dataframe thead th {\n",
       "        text-align: right;\n",
       "    }\n",
       "</style>\n",
       "<table border=\"1\" class=\"dataframe\">\n",
       "  <thead>\n",
       "    <tr style=\"text-align: right;\">\n",
       "      <th></th>\n",
       "      <th>userId</th>\n",
       "      <th>movieId</th>\n",
       "      <th>tag</th>\n",
       "      <th>timestamp</th>\n",
       "    </tr>\n",
       "  </thead>\n",
       "  <tbody>\n",
       "    <tr>\n",
       "      <th>0</th>\n",
       "      <td>2</td>\n",
       "      <td>60756</td>\n",
       "      <td>funny</td>\n",
       "      <td>1445714994</td>\n",
       "    </tr>\n",
       "    <tr>\n",
       "      <th>1</th>\n",
       "      <td>2</td>\n",
       "      <td>60756</td>\n",
       "      <td>Highly quotable</td>\n",
       "      <td>1445714996</td>\n",
       "    </tr>\n",
       "    <tr>\n",
       "      <th>2</th>\n",
       "      <td>2</td>\n",
       "      <td>60756</td>\n",
       "      <td>will ferrell</td>\n",
       "      <td>1445714992</td>\n",
       "    </tr>\n",
       "    <tr>\n",
       "      <th>3</th>\n",
       "      <td>2</td>\n",
       "      <td>89774</td>\n",
       "      <td>Boxing story</td>\n",
       "      <td>1445715207</td>\n",
       "    </tr>\n",
       "    <tr>\n",
       "      <th>4</th>\n",
       "      <td>2</td>\n",
       "      <td>89774</td>\n",
       "      <td>MMA</td>\n",
       "      <td>1445715200</td>\n",
       "    </tr>\n",
       "  </tbody>\n",
       "</table>\n",
       "</div>"
      ],
      "text/plain": [
       "   userId  movieId              tag   timestamp\n",
       "0       2    60756            funny  1445714994\n",
       "1       2    60756  Highly quotable  1445714996\n",
       "2       2    60756     will ferrell  1445714992\n",
       "3       2    89774     Boxing story  1445715207\n",
       "4       2    89774              MMA  1445715200"
      ]
     },
     "execution_count": 3,
     "metadata": {},
     "output_type": "execute_result"
    }
   ],
   "source": [
    "tags.head()"
   ]
  },
  {
   "cell_type": "code",
   "execution_count": 4,
   "metadata": {},
   "outputs": [
    {
     "data": {
      "text/plain": [
       "<matplotlib.axes._subplots.AxesSubplot at 0x7f9ac2e9df28>"
      ]
     },
     "execution_count": 4,
     "metadata": {},
     "output_type": "execute_result"
    },
    {
     "data": {
      "image/png": "[encoded data removed]",
      "text/plain": [
       "<Figure size 432x288 with 1 Axes>"
      ]
     },
     "metadata": {
      "needs_background": "light"
     },
     "output_type": "display_data"
    }
   ],
   "source": [
    "tags.groupby('userId').tag.count().hist(bins=30)"
   ]
  },
  {
   "cell_type": "code",
   "execution_count": 5,
   "metadata": {},
   "outputs": [
    {
     "data": {
      "text/plain": [
       "4.0"
      ]
     },
     "execution_count": 5,
     "metadata": {},
     "output_type": "execute_result"
    }
   ],
   "source": [
    "tags.groupby('userId').tag.count().median()"
   ]
  },
  {
   "cell_type": "code",
   "execution_count": 6,
   "metadata": {},
   "outputs": [
    {
     "data": {
      "text/plain": [
       "63.5"
      ]
     },
     "execution_count": 6,
     "metadata": {},
     "output_type": "execute_result"
    }
   ],
   "source": [
    "tags.groupby('userId').tag.count().mean()"
   ]
  },
  {
   "cell_type": "code",
   "execution_count": 7,
   "metadata": {},
   "outputs": [
    {
     "data": {
      "text/plain": [
       "<matplotlib.axes._subplots.AxesSubplot at 0x7f9ac2b69ef0>"
      ]
     },
     "execution_count": 7,
     "metadata": {},
     "output_type": "execute_result"
    },
    {
     "data": {
      "image/png": "[encoded data removed]",
      "text/plain": [
       "<Figure size 432x288 with 1 Axes>"
      ]
     },
     "metadata": {
      "needs_background": "light"
     },
     "output_type": "display_data"
    }
   ],
   "source": [
    "tags.groupby('movieId').tag.count().hist(bins=30)"
   ]
  },
  {
   "cell_type": "code",
   "execution_count": 8,
   "metadata": {},
   "outputs": [
    {
     "data": {
      "text/plain": [
       "2.3428753180661577"
      ]
     },
     "execution_count": 8,
     "metadata": {},
     "output_type": "execute_result"
    }
   ],
   "source": [
    "tags.groupby('movieId').tag.count().mean()"
   ]
  },
  {
   "cell_type": "code",
   "execution_count": 9,
   "metadata": {},
   "outputs": [
    {
     "data": {
      "text/plain": [
       "1.0"
      ]
     },
     "execution_count": 9,
     "metadata": {},
     "output_type": "execute_result"
    }
   ],
   "source": [
    "tags.groupby('movieId').tag.count().median()"
   ]
  },
  {
   "cell_type": "code",
   "execution_count": 10,
   "metadata": {},
   "outputs": [
    {
     "data": {
      "application/vnd.jupyter.widget-view+json": {
       "model_id": "0243581c2d384de3a85e3d5cb18df185",
       "version_major": 2,
       "version_minor": 0
      },
      "text/plain": [
       "HBox(children=(IntProgress(value=0, max=3683), HTML(value='')))"
      ]
     },
     "metadata": {},
     "output_type": "display_data"
    },
    {
     "name": "stdout",
     "output_type": "stream",
     "text": [
      "\n"
     ]
    }
   ],
   "source": [
    "year_month = []\n",
    "\n",
    "for t in tqdm_notebook(tags.timestamp.values):\n",
    "    d = datetime.fromtimestamp(t)\n",
    "    year_month.append(str(d.year) + '-' + str(d.month))"
   ]
  },
  {
   "cell_type": "code",
   "execution_count": 11,
   "metadata": {},
   "outputs": [],
   "source": [
    "tags['year_month'] = np.array(year_month)"
   ]
  },
  {
   "cell_type": "code",
   "execution_count": 21,
   "metadata": {},
   "outputs": [
    {
     "data": {
      "text/html": [
       "<div>\n",
       "<style scoped>\n",
       "    .dataframe tbody tr th:only-of-type {\n",
       "        vertical-align: middle;\n",
       "    }\n",
       "\n",
       "    .dataframe tbody tr th {\n",
       "        vertical-align: top;\n",
       "    }\n",
       "\n",
       "    .dataframe thead th {\n",
       "        text-align: right;\n",
       "    }\n",
       "</style>\n",
       "<table border=\"1\" class=\"dataframe\">\n",
       "  <thead>\n",
       "    <tr style=\"text-align: right;\">\n",
       "      <th></th>\n",
       "      <th>userId</th>\n",
       "      <th>movieId</th>\n",
       "      <th>tag</th>\n",
       "      <th>timestamp</th>\n",
       "      <th>year_month</th>\n",
       "    </tr>\n",
       "  </thead>\n",
       "  <tbody>\n",
       "    <tr>\n",
       "      <th>0</th>\n",
       "      <td>2</td>\n",
       "      <td>60756</td>\n",
       "      <td>funny</td>\n",
       "      <td>1445714994</td>\n",
       "      <td>2015-10</td>\n",
       "    </tr>\n",
       "    <tr>\n",
       "      <th>1</th>\n",
       "      <td>2</td>\n",
       "      <td>60756</td>\n",
       "      <td>Highly quotable</td>\n",
       "      <td>1445714996</td>\n",
       "      <td>2015-10</td>\n",
       "    </tr>\n",
       "    <tr>\n",
       "      <th>2</th>\n",
       "      <td>2</td>\n",
       "      <td>60756</td>\n",
       "      <td>will ferrell</td>\n",
       "      <td>1445714992</td>\n",
       "      <td>2015-10</td>\n",
       "    </tr>\n",
       "    <tr>\n",
       "      <th>3</th>\n",
       "      <td>2</td>\n",
       "      <td>89774</td>\n",
       "      <td>Boxing story</td>\n",
       "      <td>1445715207</td>\n",
       "      <td>2015-10</td>\n",
       "    </tr>\n",
       "    <tr>\n",
       "      <th>4</th>\n",
       "      <td>2</td>\n",
       "      <td>89774</td>\n",
       "      <td>MMA</td>\n",
       "      <td>1445715200</td>\n",
       "      <td>2015-10</td>\n",
       "    </tr>\n",
       "  </tbody>\n",
       "</table>\n",
       "</div>"
      ],
      "text/plain": [
       "   userId  movieId              tag   timestamp year_month\n",
       "0       2    60756            funny  1445714994    2015-10\n",
       "1       2    60756  Highly quotable  1445714996    2015-10\n",
       "2       2    60756     will ferrell  1445714992    2015-10\n",
       "3       2    89774     Boxing story  1445715207    2015-10\n",
       "4       2    89774              MMA  1445715200    2015-10"
      ]
     },
     "execution_count": 21,
     "metadata": {},
     "output_type": "execute_result"
    }
   ],
   "source": [
    "tags.head()"
   ]
  },
  {
   "cell_type": "code",
   "execution_count": 25,
   "metadata": {},
   "outputs": [
    {
     "data": {
      "text/plain": [
       "2006-1    1462\n",
       "2018-5     670\n",
       "2017-6     323\n",
       "2016-3     280\n",
       "2015-2     109\n",
       "Name: year_month, dtype: int64"
      ]
     },
     "execution_count": 25,
     "metadata": {},
     "output_type": "execute_result"
    }
   ],
   "source": [
    "tags.year_month.value_counts().head()"
   ]
  },
  {
   "cell_type": "code",
   "execution_count": 12,
   "metadata": {},
   "outputs": [
    {
     "data": {
      "text/plain": [
       "<matplotlib.axes._subplots.AxesSubplot at 0x7f9ac2aa1748>"
      ]
     },
     "execution_count": 12,
     "metadata": {},
     "output_type": "execute_result"
    },
    {
     "data": {
      "image/png": "[encoded data removed]",
      "text/plain": [
       "<Figure size 432x288 with 1 Axes>"
      ]
     },
     "metadata": {
      "needs_background": "light"
     },
     "output_type": "display_data"
    }
   ],
   "source": [
    "#колиество проставленных тегов по месяцам\n",
    "tags.year_month.value_counts()[:30].plot.bar()"
   ]
  },
  {
   "cell_type": "code",
   "execution_count": 24,
   "metadata": {},
   "outputs": [
    {
     "data": {
      "text/plain": [
       "year_month\n",
       "2006-1     1462\n",
       "2006-10       9\n",
       "2006-11       1\n",
       "2006-2       39\n",
       "2006-3       13\n",
       "Name: tag, dtype: int64"
      ]
     },
     "execution_count": 24,
     "metadata": {},
     "output_type": "execute_result"
    }
   ],
   "source": [
    "tags.groupby('year_month').tag.count().head()"
   ]
  },
  {
   "cell_type": "code",
   "execution_count": 13,
   "metadata": {},
   "outputs": [
    {
     "data": {
      "text/plain": [
       "<matplotlib.axes._subplots.AxesSubplot at 0x7f9ac2113630>"
      ]
     },
     "execution_count": 13,
     "metadata": {},
     "output_type": "execute_result"
    },
    {
     "data": {
      "image/png": "[encoded data removed]",
      "text/plain": [
       "<Figure size 432x288 with 1 Axes>"
      ]
     },
     "metadata": {
      "needs_background": "light"
     },
     "output_type": "display_data"
    }
   ],
   "source": [
    "#какое колиество тегов люди чаще всего ставили а период в 1 мес\n",
    "tags.groupby('year_month').tag.count().hist(bins=30)"
   ]
  },
  {
   "cell_type": "code",
   "execution_count": 14,
   "metadata": {},
   "outputs": [
    {
     "data": {
      "text/plain": [
       "50.45205479452055"
      ]
     },
     "execution_count": 14,
     "metadata": {},
     "output_type": "execute_result"
    }
   ],
   "source": [
    "tags.groupby('year_month').tag.count().mean()"
   ]
  },
  {
   "cell_type": "code",
   "execution_count": 15,
   "metadata": {},
   "outputs": [
    {
     "data": {
      "text/plain": [
       "5.0"
      ]
     },
     "execution_count": 15,
     "metadata": {},
     "output_type": "execute_result"
    }
   ],
   "source": [
    "tags.groupby('year_month').tag.count().median()"
   ]
  },
  {
   "cell_type": "code",
   "execution_count": 16,
   "metadata": {},
   "outputs": [],
   "source": [
    "num_genres_on_movie = [len(g.split('|')) for g in movies.genres.values]"
   ]
  },
  {
   "cell_type": "code",
   "execution_count": 17,
   "metadata": {},
   "outputs": [
    {
     "data": {
      "text/plain": [
       "(array([2.851e+03, 3.218e+03, 2.338e+03, 9.870e+02, 2.710e+02, 6.300e+01,\n",
       "        1.200e+01, 1.000e+00, 0.000e+00, 1.000e+00]),\n",
       " array([ 1. ,  1.9,  2.8,  3.7,  4.6,  5.5,  6.4,  7.3,  8.2,  9.1, 10. ]),\n",
       " <a list of 10 Patch objects>)"
      ]
     },
     "execution_count": 17,
     "metadata": {},
     "output_type": "execute_result"
    },
    {
     "data": {
      "image/png": "[encoded data removed]",
      "text/plain": [
       "<Figure size 432x288 with 1 Axes>"
      ]
     },
     "metadata": {
      "needs_background": "light"
     },
     "output_type": "display_data"
    }
   ],
   "source": [
    "plt.hist(num_genres_on_movie)"
   ]
  },
  {
   "cell_type": "code",
   "execution_count": 18,
   "metadata": {},
   "outputs": [
    {
     "data": {
      "text/plain": [
       "2.2668856497639087"
      ]
     },
     "execution_count": 18,
     "metadata": {},
     "output_type": "execute_result"
    }
   ],
   "source": [
    "np.mean(num_genres_on_movie)"
   ]
  },
  {
   "cell_type": "code",
   "execution_count": 19,
   "metadata": {},
   "outputs": [
    {
     "data": {
      "text/plain": [
       "2.0"
      ]
     },
     "execution_count": 19,
     "metadata": {},
     "output_type": "execute_result"
    }
   ],
   "source": [
    "np.median(num_genres_on_movie)"
   ]
  },
  {
   "cell_type": "markdown",
   "metadata": {},
   "source": [
    "\n",
    "    Использовать dataset MovieLens\n",
    "    Построить рекомендации (регрессия, предсказываем оценку) на фичах:\n",
    "\n",
    "    TF-IDF на тегах и жанрах\n",
    "    Средние оценки (+ median, variance, etc.) пользователя и фильма\n",
    "\n",
    "    Оценить RMSE на тестовой выборке\n",
    "\n"
   ]
  },
  {
   "cell_type": "markdown",
   "metadata": {},
   "source": [
    "# Feauture Engeenering"
   ]
  },
  {
   "cell_type": "markdown",
   "metadata": {},
   "source": [
    "### Tags"
   ]
  },
  {
   "cell_type": "code",
   "execution_count": 30,
   "metadata": {},
   "outputs": [
    {
     "name": "stdout",
     "output_type": "stream",
     "text": [
      "<class 'pandas.core.frame.DataFrame'>\n",
      "RangeIndex: 3683 entries, 0 to 3682\n",
      "Data columns (total 5 columns):\n",
      "userId        3683 non-null int64\n",
      "movieId       3683 non-null int64\n",
      "tag           3683 non-null object\n",
      "timestamp     3683 non-null int64\n",
      "year_month    3683 non-null object\n",
      "dtypes: int64(3), object(2)\n",
      "memory usage: 143.9+ KB\n"
     ]
    }
   ],
   "source": [
    "tags.info()"
   ]
  },
  {
   "cell_type": "code",
   "execution_count": 26,
   "metadata": {},
   "outputs": [
    {
     "data": {
      "text/html": [
       "<div>\n",
       "<style scoped>\n",
       "    .dataframe tbody tr th:only-of-type {\n",
       "        vertical-align: middle;\n",
       "    }\n",
       "\n",
       "    .dataframe tbody tr th {\n",
       "        vertical-align: top;\n",
       "    }\n",
       "\n",
       "    .dataframe thead th {\n",
       "        text-align: right;\n",
       "    }\n",
       "</style>\n",
       "<table border=\"1\" class=\"dataframe\">\n",
       "  <thead>\n",
       "    <tr style=\"text-align: right;\">\n",
       "      <th></th>\n",
       "      <th>userId</th>\n",
       "      <th>movieId</th>\n",
       "      <th>tag</th>\n",
       "      <th>timestamp</th>\n",
       "      <th>year_month</th>\n",
       "    </tr>\n",
       "  </thead>\n",
       "  <tbody>\n",
       "    <tr>\n",
       "      <th>0</th>\n",
       "      <td>2</td>\n",
       "      <td>60756</td>\n",
       "      <td>funny</td>\n",
       "      <td>1445714994</td>\n",
       "      <td>2015-10</td>\n",
       "    </tr>\n",
       "    <tr>\n",
       "      <th>1</th>\n",
       "      <td>2</td>\n",
       "      <td>60756</td>\n",
       "      <td>Highly quotable</td>\n",
       "      <td>1445714996</td>\n",
       "      <td>2015-10</td>\n",
       "    </tr>\n",
       "    <tr>\n",
       "      <th>2</th>\n",
       "      <td>2</td>\n",
       "      <td>60756</td>\n",
       "      <td>will ferrell</td>\n",
       "      <td>1445714992</td>\n",
       "      <td>2015-10</td>\n",
       "    </tr>\n",
       "    <tr>\n",
       "      <th>3</th>\n",
       "      <td>2</td>\n",
       "      <td>89774</td>\n",
       "      <td>Boxing story</td>\n",
       "      <td>1445715207</td>\n",
       "      <td>2015-10</td>\n",
       "    </tr>\n",
       "    <tr>\n",
       "      <th>4</th>\n",
       "      <td>2</td>\n",
       "      <td>89774</td>\n",
       "      <td>MMA</td>\n",
       "      <td>1445715200</td>\n",
       "      <td>2015-10</td>\n",
       "    </tr>\n",
       "  </tbody>\n",
       "</table>\n",
       "</div>"
      ],
      "text/plain": [
       "   userId  movieId              tag   timestamp year_month\n",
       "0       2    60756            funny  1445714994    2015-10\n",
       "1       2    60756  Highly quotable  1445714996    2015-10\n",
       "2       2    60756     will ferrell  1445714992    2015-10\n",
       "3       2    89774     Boxing story  1445715207    2015-10\n",
       "4       2    89774              MMA  1445715200    2015-10"
      ]
     },
     "execution_count": 26,
     "metadata": {},
     "output_type": "execute_result"
    }
   ],
   "source": [
    "tags.head()"
   ]
  },
  {
   "cell_type": "code",
   "execution_count": 28,
   "metadata": {},
   "outputs": [
    {
     "data": {
      "text/plain": [
       "array(['funny', 'Highly quotable', 'will ferrell', ..., 'gun fu',\n",
       "       'heroic bloodshed', 'Heroic Bloodshed'], dtype=object)"
      ]
     },
     "execution_count": 28,
     "metadata": {},
     "output_type": "execute_result"
    }
   ],
   "source": [
    "tags.tag.unique()"
   ]
  },
  {
   "cell_type": "code",
   "execution_count": 29,
   "metadata": {},
   "outputs": [
    {
     "data": {
      "text/plain": [
       "1589"
      ]
     },
     "execution_count": 29,
     "metadata": {},
     "output_type": "execute_result"
    }
   ],
   "source": [
    "tags.tag.nunique()"
   ]
  },
  {
   "cell_type": "code",
   "execution_count": 32,
   "metadata": {},
   "outputs": [],
   "source": [
    "import re"
   ]
  },
  {
   "cell_type": "code",
   "execution_count": 39,
   "metadata": {},
   "outputs": [
    {
     "data": {
      "text/plain": [
       "0       False\n",
       "1        True\n",
       "2        True\n",
       "3        True\n",
       "4       False\n",
       "5        True\n",
       "6       False\n",
       "7        True\n",
       "8        True\n",
       "9        True\n",
       "10       True\n",
       "11      False\n",
       "12      False\n",
       "13       True\n",
       "14      False\n",
       "15      False\n",
       "16       True\n",
       "17       True\n",
       "18       True\n",
       "19       True\n",
       "20       True\n",
       "21      False\n",
       "22       True\n",
       "23      False\n",
       "24       True\n",
       "25      False\n",
       "26       True\n",
       "27      False\n",
       "28      False\n",
       "29      False\n",
       "        ...  \n",
       "3653    False\n",
       "3654    False\n",
       "3655     True\n",
       "3656    False\n",
       "3657     True\n",
       "3658    False\n",
       "3659    False\n",
       "3660    False\n",
       "3661    False\n",
       "3662     True\n",
       "3663     True\n",
       "3664    False\n",
       "3665    False\n",
       "3666    False\n",
       "3667     True\n",
       "3668    False\n",
       "3669     True\n",
       "3670    False\n",
       "3671    False\n",
       "3672    False\n",
       "3673    False\n",
       "3674    False\n",
       "3675    False\n",
       "3676     True\n",
       "3677     True\n",
       "3678     True\n",
       "3679    False\n",
       "3680     True\n",
       "3681     True\n",
       "3682     True\n",
       "Name: tag, Length: 3683, dtype: bool"
      ]
     },
     "execution_count": 39,
     "metadata": {},
     "output_type": "execute_result"
    }
   ],
   "source": [
    "tags.tag.str.contains('[^a-zA-Z]',flags=re.IGNORECASE, regex=True)"
   ]
  },
  {
   "cell_type": "code",
   "execution_count": 45,
   "metadata": {},
   "outputs": [
    {
     "data": {
      "text/plain": [
       "31                                                 sci-fi\n",
       "32                                            time-travel\n",
       "42                            Oscar (Best Cinematography)\n",
       "76                                           imdb top 250\n",
       "121                                                sci-fi\n",
       "133                                   Exquisite plotting.\n",
       "158                                   fast-paced dialogue\n",
       "160                                     Robert Downey Jr.\n",
       "260                                     Samuel L. Jackson\n",
       "271                                     anti-intellectual\n",
       "286                                      post-apocalyptic\n",
       "292                                                gun-fu\n",
       "309                                           Dr. Strange\n",
       "314                                     Robert Downey Jr.\n",
       "323                                     Samuel L. Jackson\n",
       "346                                    Harley Quinn's ass\n",
       "406                                                sci-fi\n",
       "411                                            non-linear\n",
       "414                                        classic sci-fi\n",
       "424                                       widows/widowers\n",
       "451                                                sci-fi\n",
       "473                                                  80's\n",
       "485     Something for everyone in this one... saw it w...\n",
       "489                          assassin-in-training (scene)\n",
       "493                                             feel-good\n",
       "518                                     thought-provoking\n",
       "521                                                sci-fi\n",
       "531                                        classic sci-fi\n",
       "547                                     thought-provoking\n",
       "552                                                sci-fi\n",
       "                              ...                        \n",
       "3444                                            film-noir\n",
       "3468                                         imdb top 250\n",
       "3479                                killer-as-protagonist\n",
       "3491                                             neo-noir\n",
       "3493                                           non-linear\n",
       "3494                                  non-linear timeline\n",
       "3506                                           Palme d'Or\n",
       "3515          r:disturbing violent content including rape\n",
       "3516                          r:disturbing violent images\n",
       "3517                                  r:graphic sexuality\n",
       "3518                                      r:some violence\n",
       "3519                             r:strong bloody violence\n",
       "3520                                    r:strong language\n",
       "3521                 r:sustained strong stylized violence\n",
       "3522                                           r:violence\n",
       "3528                                    Samuel L. Jackson\n",
       "3542                                    thought-provoking\n",
       "3556                                     Arthur C. Clarke\n",
       "3567                                         imdb top 250\n",
       "3572                Oscar (Best Effects - Visual Effects)\n",
       "3578                                               sci-fi\n",
       "3579                             setting:space/space ship\n",
       "3608                                         imdb top 250\n",
       "3614                                Nudity (Full Frontal)\n",
       "3615                                      off-beat comedy\n",
       "3645                                         imdb top 250\n",
       "3647                                         mind-blowing\n",
       "3650                                     Nudity (Topless)\n",
       "3667                                    thought-provoking\n",
       "3676                                                 70mm\n",
       "Name: tag, Length: 187, dtype: object"
      ]
     },
     "execution_count": 45,
     "metadata": {},
     "output_type": "execute_result"
    }
   ],
   "source": [
    "tags.tag[tags.tag.str.contains('[^a-z ]',flags=re.IGNORECASE, regex=True)]"
   ]
  },
  {
   "cell_type": "code",
   "execution_count": 46,
   "metadata": {},
   "outputs": [
    {
     "data": {
      "text/plain": [
       "31                                                 sci-fi\n",
       "32                                            time-travel\n",
       "42                            Oscar (Best Cinematography)\n",
       "121                                                sci-fi\n",
       "133                                   Exquisite plotting.\n",
       "158                                   fast-paced dialogue\n",
       "160                                     Robert Downey Jr.\n",
       "260                                     Samuel L. Jackson\n",
       "271                                     anti-intellectual\n",
       "286                                      post-apocalyptic\n",
       "292                                                gun-fu\n",
       "309                                           Dr. Strange\n",
       "314                                     Robert Downey Jr.\n",
       "323                                     Samuel L. Jackson\n",
       "346                                    Harley Quinn's ass\n",
       "406                                                sci-fi\n",
       "411                                            non-linear\n",
       "414                                        classic sci-fi\n",
       "424                                       widows/widowers\n",
       "451                                                sci-fi\n",
       "473                                                  80's\n",
       "485     Something for everyone in this one... saw it w...\n",
       "489                          assassin-in-training (scene)\n",
       "493                                             feel-good\n",
       "518                                     thought-provoking\n",
       "521                                                sci-fi\n",
       "531                                        classic sci-fi\n",
       "547                                     thought-provoking\n",
       "552                                                sci-fi\n",
       "591                                     Bechdel Test:Fail\n",
       "                              ...                        \n",
       "3288                                    thought-provoking\n",
       "3334                                               sci-fi\n",
       "3394                                              bad-ass\n",
       "3435                                        drugs & music\n",
       "3442                                           fast-paced\n",
       "3444                                            film-noir\n",
       "3479                                killer-as-protagonist\n",
       "3491                                             neo-noir\n",
       "3493                                           non-linear\n",
       "3494                                  non-linear timeline\n",
       "3506                                           Palme d'Or\n",
       "3515          r:disturbing violent content including rape\n",
       "3516                          r:disturbing violent images\n",
       "3517                                  r:graphic sexuality\n",
       "3518                                      r:some violence\n",
       "3519                             r:strong bloody violence\n",
       "3520                                    r:strong language\n",
       "3521                 r:sustained strong stylized violence\n",
       "3522                                           r:violence\n",
       "3528                                    Samuel L. Jackson\n",
       "3542                                    thought-provoking\n",
       "3556                                     Arthur C. Clarke\n",
       "3572                Oscar (Best Effects - Visual Effects)\n",
       "3578                                               sci-fi\n",
       "3579                             setting:space/space ship\n",
       "3614                                Nudity (Full Frontal)\n",
       "3615                                      off-beat comedy\n",
       "3647                                         mind-blowing\n",
       "3650                                     Nudity (Topless)\n",
       "3667                                    thought-provoking\n",
       "Name: tag, Length: 161, dtype: object"
      ]
     },
     "execution_count": 46,
     "metadata": {},
     "output_type": "execute_result"
    }
   ],
   "source": [
    "tags.tag[tags.tag.str.contains('[^a-z0-9 ]',flags=re.IGNORECASE, regex=True)]"
   ]
  },
  {
   "cell_type": "code",
   "execution_count": 142,
   "metadata": {},
   "outputs": [],
   "source": [
    "def find_abnormal_tag(tag):\n",
    "    pattern = r'[\\W]+'\n",
    "    if re.search( pattern, tag , re.IGNORECASE):\n",
    "        #print(re.match( pattern, tag , re.IGNORECASE))\n",
    "        return True\n",
    "    return False"
   ]
  },
  {
   "cell_type": "code",
   "execution_count": 143,
   "metadata": {},
   "outputs": [],
   "source": [
    "pattern = '[\\W]'\n",
    "re.search(pattern,'a')"
   ]
  },
  {
   "cell_type": "code",
   "execution_count": 144,
   "metadata": {},
   "outputs": [
    {
     "data": {
      "text/plain": [
       "1                   Highly quotable\n",
       "2                      will ferrell\n",
       "3                      Boxing story\n",
       "5                         Tom Hardy\n",
       "7                 Leonardo DiCaprio\n",
       "8                   Martin Scorsese\n",
       "9                      way too long\n",
       "10                        Al Pacino\n",
       "13                        Al Pacino\n",
       "16                       true story\n",
       "17                     twist ending\n",
       "18                  Anthony Hopkins\n",
       "19                  courtroom drama\n",
       "20                     twist ending\n",
       "22               indie record label\n",
       "24                  dumpster diving\n",
       "26                  romantic comedy\n",
       "30                       black hole\n",
       "31                           sci-fi\n",
       "32                      time-travel\n",
       "34                 magic board game\n",
       "35                   Robin Williams\n",
       "36                beautiful scenery\n",
       "41                       mel gibson\n",
       "42      Oscar (Best Cinematography)\n",
       "44                      sword fight\n",
       "45                     black comedy\n",
       "46                  Christina Ricci\n",
       "47                Christopher Lloyd\n",
       "48                      dark comedy\n",
       "                   ...             \n",
       "3611                 Julianne Moore\n",
       "3614          Nudity (Full Frontal)\n",
       "3615                off-beat comedy\n",
       "3616         Philip Seymour Hoffman\n",
       "3622                  Steve Buscemi\n",
       "3626                based on a book\n",
       "3627                      Brad Pitt\n",
       "3629                Chuck Palahniuk\n",
       "3636                    dark comedy\n",
       "3637                  David Fincher\n",
       "3639                    double life\n",
       "3640                  Edward Norton\n",
       "3642                   great acting\n",
       "3643           helena bonham carter\n",
       "3644               imaginary friend\n",
       "3645                   imdb top 250\n",
       "3646                 mental illness\n",
       "3647                   mind-blowing\n",
       "3650               Nudity (Topless)\n",
       "3655                powerful ending\n",
       "3657         psychological thriller\n",
       "3662              social commentary\n",
       "3663             societal criticism\n",
       "3667              thought-provoking\n",
       "3669                   twist ending\n",
       "3677                   World War II\n",
       "3678                      for katie\n",
       "3680                         gun fu\n",
       "3681               heroic bloodshed\n",
       "3682               Heroic Bloodshed\n",
       "Name: tag, Length: 1490, dtype: object"
      ]
     },
     "execution_count": 144,
     "metadata": {},
     "output_type": "execute_result"
    }
   ],
   "source": [
    "tags.tag[tags.tag.apply(find_abnormal_tag)]"
   ]
  },
  {
   "cell_type": "code",
   "execution_count": null,
   "metadata": {},
   "outputs": [],
   "source": []
  }
 ],
 "metadata": {
  "kernelspec": {
   "display_name": "Python 3",
   "language": "python",
   "name": "python3"
  },
  "language_info": {
   "codemirror_mode": {
    "name": "ipython",
    "version": 3
   },
   "file_extension": ".py",
   "mimetype": "text/x-python",
   "name": "python",
   "nbconvert_exporter": "python",
   "pygments_lexer": "ipython3",
   "version": "3.7.3"
  }
 },
 "nbformat": 4,
 "nbformat_minor": 2
}
