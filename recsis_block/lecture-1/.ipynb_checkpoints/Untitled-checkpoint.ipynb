{
 "cells": [
  {
   "cell_type": "code",
   "execution_count": 1,
   "metadata": {},
   "outputs": [],
   "source": [
    "import pandas as pd\n",
    "import numpy as np\n",
    "import matplotlib.pyplot as plt\n",
    "\n",
    "from tqdm import tqdm_notebook"
   ]
  },
  {
   "cell_type": "code",
   "execution_count": 2,
   "metadata": {},
   "outputs": [],
   "source": [
    "links = pd.read_csv('links.csv')\n",
    "movies = pd.read_csv('movies.csv')\n",
    "ratings = pd.read_csv('ratings.csv')\n",
    "tags = pd.read_csv('tags.csv')"
   ]
  },
  {
   "cell_type": "markdown",
   "metadata": {},
   "source": [
    "# 1. Оценить количество фильмов, пользователей и оценок"
   ]
  },
  {
   "cell_type": "code",
   "execution_count": 3,
   "metadata": {},
   "outputs": [
    {
     "data": {
      "text/html": [
       "<div>\n",
       "<style scoped>\n",
       "    .dataframe tbody tr th:only-of-type {\n",
       "        vertical-align: middle;\n",
       "    }\n",
       "\n",
       "    .dataframe tbody tr th {\n",
       "        vertical-align: top;\n",
       "    }\n",
       "\n",
       "    .dataframe thead th {\n",
       "        text-align: right;\n",
       "    }\n",
       "</style>\n",
       "<table border=\"1\" class=\"dataframe\">\n",
       "  <thead>\n",
       "    <tr style=\"text-align: right;\">\n",
       "      <th></th>\n",
       "      <th>movieId</th>\n",
       "      <th>title</th>\n",
       "      <th>genres</th>\n",
       "    </tr>\n",
       "  </thead>\n",
       "  <tbody>\n",
       "    <tr>\n",
       "      <th>0</th>\n",
       "      <td>1</td>\n",
       "      <td>Toy Story (1995)</td>\n",
       "      <td>Adventure|Animation|Children|Comedy|Fantasy</td>\n",
       "    </tr>\n",
       "    <tr>\n",
       "      <th>1</th>\n",
       "      <td>2</td>\n",
       "      <td>Jumanji (1995)</td>\n",
       "      <td>Adventure|Children|Fantasy</td>\n",
       "    </tr>\n",
       "    <tr>\n",
       "      <th>2</th>\n",
       "      <td>3</td>\n",
       "      <td>Grumpier Old Men (1995)</td>\n",
       "      <td>Comedy|Romance</td>\n",
       "    </tr>\n",
       "    <tr>\n",
       "      <th>3</th>\n",
       "      <td>4</td>\n",
       "      <td>Waiting to Exhale (1995)</td>\n",
       "      <td>Comedy|Drama|Romance</td>\n",
       "    </tr>\n",
       "    <tr>\n",
       "      <th>4</th>\n",
       "      <td>5</td>\n",
       "      <td>Father of the Bride Part II (1995)</td>\n",
       "      <td>Comedy</td>\n",
       "    </tr>\n",
       "  </tbody>\n",
       "</table>\n",
       "</div>"
      ],
      "text/plain": [
       "   movieId                               title  \\\n",
       "0        1                    Toy Story (1995)   \n",
       "1        2                      Jumanji (1995)   \n",
       "2        3             Grumpier Old Men (1995)   \n",
       "3        4            Waiting to Exhale (1995)   \n",
       "4        5  Father of the Bride Part II (1995)   \n",
       "\n",
       "                                        genres  \n",
       "0  Adventure|Animation|Children|Comedy|Fantasy  \n",
       "1                   Adventure|Children|Fantasy  \n",
       "2                               Comedy|Romance  \n",
       "3                         Comedy|Drama|Romance  \n",
       "4                                       Comedy  "
      ]
     },
     "execution_count": 3,
     "metadata": {},
     "output_type": "execute_result"
    }
   ],
   "source": [
    "movies.head()"
   ]
  },
  {
   "cell_type": "code",
   "execution_count": 6,
   "metadata": {},
   "outputs": [
    {
     "data": {
      "text/plain": [
       "movieId    0\n",
       "title      0\n",
       "genres     0\n",
       "dtype: int64"
      ]
     },
     "execution_count": 6,
     "metadata": {},
     "output_type": "execute_result"
    }
   ],
   "source": [
    "movies.isnull().sum()"
   ]
  },
  {
   "cell_type": "code",
   "execution_count": 7,
   "metadata": {},
   "outputs": [
    {
     "name": "stdout",
     "output_type": "stream",
     "text": [
      "<class 'pandas.core.frame.DataFrame'>\n",
      "RangeIndex: 9742 entries, 0 to 9741\n",
      "Data columns (total 3 columns):\n",
      "movieId    9742 non-null int64\n",
      "title      9742 non-null object\n",
      "genres     9742 non-null object\n",
      "dtypes: int64(1), object(2)\n",
      "memory usage: 228.4+ KB\n"
     ]
    }
   ],
   "source": [
    "movies.info()"
   ]
  },
  {
   "cell_type": "code",
   "execution_count": 8,
   "metadata": {},
   "outputs": [
    {
     "name": "stdout",
     "output_type": "stream",
     "text": [
      "<class 'pandas.core.frame.DataFrame'>\n",
      "RangeIndex: 100836 entries, 0 to 100835\n",
      "Data columns (total 4 columns):\n",
      "userId       100836 non-null int64\n",
      "movieId      100836 non-null int64\n",
      "rating       100836 non-null float64\n",
      "timestamp    100836 non-null int64\n",
      "dtypes: float64(1), int64(3)\n",
      "memory usage: 3.1 MB\n"
     ]
    }
   ],
   "source": [
    "ratings.info()"
   ]
  },
  {
   "cell_type": "code",
   "execution_count": 9,
   "metadata": {},
   "outputs": [
    {
     "data": {
      "text/html": [
       "<div>\n",
       "<style scoped>\n",
       "    .dataframe tbody tr th:only-of-type {\n",
       "        vertical-align: middle;\n",
       "    }\n",
       "\n",
       "    .dataframe tbody tr th {\n",
       "        vertical-align: top;\n",
       "    }\n",
       "\n",
       "    .dataframe thead th {\n",
       "        text-align: right;\n",
       "    }\n",
       "</style>\n",
       "<table border=\"1\" class=\"dataframe\">\n",
       "  <thead>\n",
       "    <tr style=\"text-align: right;\">\n",
       "      <th></th>\n",
       "      <th>userId</th>\n",
       "      <th>movieId</th>\n",
       "      <th>rating</th>\n",
       "      <th>timestamp</th>\n",
       "    </tr>\n",
       "  </thead>\n",
       "  <tbody>\n",
       "    <tr>\n",
       "      <th>0</th>\n",
       "      <td>1</td>\n",
       "      <td>1</td>\n",
       "      <td>4.0</td>\n",
       "      <td>964982703</td>\n",
       "    </tr>\n",
       "    <tr>\n",
       "      <th>1</th>\n",
       "      <td>1</td>\n",
       "      <td>3</td>\n",
       "      <td>4.0</td>\n",
       "      <td>964981247</td>\n",
       "    </tr>\n",
       "    <tr>\n",
       "      <th>2</th>\n",
       "      <td>1</td>\n",
       "      <td>6</td>\n",
       "      <td>4.0</td>\n",
       "      <td>964982224</td>\n",
       "    </tr>\n",
       "    <tr>\n",
       "      <th>3</th>\n",
       "      <td>1</td>\n",
       "      <td>47</td>\n",
       "      <td>5.0</td>\n",
       "      <td>964983815</td>\n",
       "    </tr>\n",
       "    <tr>\n",
       "      <th>4</th>\n",
       "      <td>1</td>\n",
       "      <td>50</td>\n",
       "      <td>5.0</td>\n",
       "      <td>964982931</td>\n",
       "    </tr>\n",
       "  </tbody>\n",
       "</table>\n",
       "</div>"
      ],
      "text/plain": [
       "   userId  movieId  rating  timestamp\n",
       "0       1        1     4.0  964982703\n",
       "1       1        3     4.0  964981247\n",
       "2       1        6     4.0  964982224\n",
       "3       1       47     5.0  964983815\n",
       "4       1       50     5.0  964982931"
      ]
     },
     "execution_count": 9,
     "metadata": {},
     "output_type": "execute_result"
    }
   ],
   "source": [
    "ratings.head()"
   ]
  },
  {
   "cell_type": "code",
   "execution_count": 11,
   "metadata": {},
   "outputs": [
    {
     "data": {
      "text/plain": [
       "610"
      ]
     },
     "execution_count": 11,
     "metadata": {},
     "output_type": "execute_result"
    }
   ],
   "source": [
    "ratings.userId.nunique()"
   ]
  },
  {
   "cell_type": "markdown",
   "metadata": {},
   "source": [
    "Количество фильмов больше количества юзеров"
   ]
  },
  {
   "cell_type": "markdown",
   "metadata": {},
   "source": [
    "Медианное значение количества оценок на пользователя -70"
   ]
  },
  {
   "cell_type": "code",
   "execution_count": 13,
   "metadata": {},
   "outputs": [
    {
     "data": {
      "text/plain": [
       "70.5"
      ]
     },
     "execution_count": 13,
     "metadata": {},
     "output_type": "execute_result"
    }
   ],
   "source": [
    "np.median(ratings.groupby('userId').size())"
   ]
  },
  {
   "cell_type": "code",
   "execution_count": 17,
   "metadata": {},
   "outputs": [
    {
     "data": {
      "text/plain": [
       "userId\n",
       "414    2698\n",
       "599    2478\n",
       "474    2108\n",
       "448    1864\n",
       "274    1346\n",
       "dtype: int64"
      ]
     },
     "execution_count": 17,
     "metadata": {},
     "output_type": "execute_result"
    }
   ],
   "source": [
    "ratings.groupby('userId').size().sort_values(ascending=False).head()"
   ]
  },
  {
   "cell_type": "code",
   "execution_count": 18,
   "metadata": {},
   "outputs": [
    {
     "data": {
      "text/plain": [
       "userId\n",
       "442    20\n",
       "406    20\n",
       "147    20\n",
       "194    20\n",
       "569    20\n",
       "dtype: int64"
      ]
     },
     "execution_count": 18,
     "metadata": {},
     "output_type": "execute_result"
    }
   ],
   "source": [
    "ratings.groupby('userId').size().sort_values().head()"
   ]
  },
  {
   "cell_type": "code",
   "execution_count": 19,
   "metadata": {},
   "outputs": [
    {
     "data": {
      "text/html": [
       "<div>\n",
       "<style scoped>\n",
       "    .dataframe tbody tr th:only-of-type {\n",
       "        vertical-align: middle;\n",
       "    }\n",
       "\n",
       "    .dataframe tbody tr th {\n",
       "        vertical-align: top;\n",
       "    }\n",
       "\n",
       "    .dataframe thead th {\n",
       "        text-align: right;\n",
       "    }\n",
       "</style>\n",
       "<table border=\"1\" class=\"dataframe\">\n",
       "  <thead>\n",
       "    <tr style=\"text-align: right;\">\n",
       "      <th></th>\n",
       "      <th>userId</th>\n",
       "      <th>movieId</th>\n",
       "      <th>tag</th>\n",
       "      <th>timestamp</th>\n",
       "    </tr>\n",
       "  </thead>\n",
       "  <tbody>\n",
       "    <tr>\n",
       "      <th>0</th>\n",
       "      <td>2</td>\n",
       "      <td>60756</td>\n",
       "      <td>funny</td>\n",
       "      <td>1445714994</td>\n",
       "    </tr>\n",
       "    <tr>\n",
       "      <th>1</th>\n",
       "      <td>2</td>\n",
       "      <td>60756</td>\n",
       "      <td>Highly quotable</td>\n",
       "      <td>1445714996</td>\n",
       "    </tr>\n",
       "    <tr>\n",
       "      <th>2</th>\n",
       "      <td>2</td>\n",
       "      <td>60756</td>\n",
       "      <td>will ferrell</td>\n",
       "      <td>1445714992</td>\n",
       "    </tr>\n",
       "    <tr>\n",
       "      <th>3</th>\n",
       "      <td>2</td>\n",
       "      <td>89774</td>\n",
       "      <td>Boxing story</td>\n",
       "      <td>1445715207</td>\n",
       "    </tr>\n",
       "    <tr>\n",
       "      <th>4</th>\n",
       "      <td>2</td>\n",
       "      <td>89774</td>\n",
       "      <td>MMA</td>\n",
       "      <td>1445715200</td>\n",
       "    </tr>\n",
       "  </tbody>\n",
       "</table>\n",
       "</div>"
      ],
      "text/plain": [
       "   userId  movieId              tag   timestamp\n",
       "0       2    60756            funny  1445714994\n",
       "1       2    60756  Highly quotable  1445714996\n",
       "2       2    60756     will ferrell  1445714992\n",
       "3       2    89774     Boxing story  1445715207\n",
       "4       2    89774              MMA  1445715200"
      ]
     },
     "execution_count": 19,
     "metadata": {},
     "output_type": "execute_result"
    }
   ],
   "source": [
    "tags.head()"
   ]
  },
  {
   "cell_type": "code",
   "execution_count": 21,
   "metadata": {},
   "outputs": [
    {
     "data": {
      "text/plain": [
       "userId\n",
       "474    1507\n",
       "567     432\n",
       "62      370\n",
       "599     323\n",
       "477     280\n",
       "dtype: int64"
      ]
     },
     "execution_count": 21,
     "metadata": {},
     "output_type": "execute_result"
    }
   ],
   "source": [
    "tags.groupby('userId').size().sort_values(ascending=False).head()"
   ]
  },
  {
   "cell_type": "markdown",
   "metadata": {},
   "source": [
    "Медианное значение количества тэгов на пользователя - 4"
   ]
  },
  {
   "cell_type": "code",
   "execution_count": 22,
   "metadata": {},
   "outputs": [
    {
     "data": {
      "text/plain": [
       "4.0"
      ]
     },
     "execution_count": 22,
     "metadata": {},
     "output_type": "execute_result"
    }
   ],
   "source": [
    "np.median(tags.groupby('userId').size())"
   ]
  },
  {
   "cell_type": "markdown",
   "metadata": {},
   "source": [
    "Для тэгов более выраженный скос в распределении по сравнению с фильмами. Удостоверимся в этом на графиках."
   ]
  },
  {
   "cell_type": "markdown",
   "metadata": {},
   "source": [
    "# 2. Оценить распределения (предлагается построить распределения количества оценок по фильмам и пользователям и увидеть т.н. \"длинные хвосты\" в распределениях)"
   ]
  },
  {
   "cell_type": "code",
   "execution_count": 28,
   "metadata": {},
   "outputs": [
    {
     "data": {
      "image/png": "[encoded data removed]",
      "text/plain": [
       "<Figure size 432x288 with 1 Axes>"
      ]
     },
     "metadata": {
      "needs_background": "light"
     },
     "output_type": "display_data"
    }
   ],
   "source": [
    "ratings.groupby('userId').size().hist()\n",
    "plt.title('Количество оценок на пользователя')\n",
    "plt.xlabel('Оценок на пользователя')\n",
    "plt.ylabel('Количество');"
   ]
  },
  {
   "cell_type": "code",
   "execution_count": 30,
   "metadata": {},
   "outputs": [],
   "source": [
    "def plot_simple_hist(data, title, xlabel, ylabel):\n",
    "    data.hist()\n",
    "    plt.title(title)\n",
    "    plt.xlabel(xlabel)\n",
    "    plt.ylabel(ylabel)"
   ]
  },
  {
   "cell_type": "code",
   "execution_count": 31,
   "metadata": {},
   "outputs": [
    {
     "data": {
      "image/png": "[encoded data removed]",
      "text/plain": [
       "<Figure size 432x288 with 1 Axes>"
      ]
     },
     "metadata": {
      "needs_background": "light"
     },
     "output_type": "display_data"
    }
   ],
   "source": [
    "plot_simple_hist(ratings.groupby('movieId').size(), 'Количество оценок на фильм', 'Оценок на фильм', 'Количество')"
   ]
  },
  {
   "cell_type": "markdown",
   "metadata": {},
   "source": [
    "По графикам видно,что распределение неравномерное, сильно скошено вправо. Видно, что в основном все пользователя ставят фиксированное количество оценок, до примерно 250,  следующая группа по кличеству - это пользователи, поставившие более 250 но менее 500, далее идут более увлекающиеся пользователи. Отдельно выделяется группа фанатиков - поставившая по 2500 оценок. По фильмам похожая ситуация - есть фильмы, видимо популярные, которые получили более 100 оценок, но таких фильмов мало. В основном, все фильмы получают до 25 оценок."
   ]
  },
  {
   "cell_type": "code",
   "execution_count": 43,
   "metadata": {},
   "outputs": [
    {
     "data": {
      "text/plain": [
       "array(['Braveheart (1995)', 'Star Wars: Episode IV - A New Hope (1977)',\n",
       "       'Pulp Fiction (1994)', 'Forrest Gump (1994)',\n",
       "       'Jurassic Park (1993)', \"Schindler's List (1993)\",\n",
       "       'Silence of the Lambs, The (1991)', 'Matrix, The (1999)',\n",
       "       'Shawshank Redemption, The (1994)',\n",
       "       'Terminator 2: Judgment Day (1991)'], dtype=object)"
      ]
     },
     "execution_count": 43,
     "metadata": {},
     "output_type": "execute_result"
    }
   ],
   "source": [
    "ratings[ratings.movieId.isin(ratings.groupby('movieId').size().sort_values(ascending=False).index.values[:10])].merge(movies, on='movieId').title.unique()"
   ]
  },
  {
   "cell_type": "markdown",
   "metadata": {},
   "source": [
    "Да, как и подозревалось, фильмы с наибольшим количество оценок - это достаточно известные фильмы."
   ]
  },
  {
   "cell_type": "markdown",
   "metadata": {},
   "source": [
    "# 3. Оценить средние оценки по фильмам и по пользователям\n",
    "\n",
    "# 6. Посмотреть на смещение оценок, увидеть сколько пользователей занижают оценки и завышают оценки."
   ]
  },
  {
   "cell_type": "code",
   "execution_count": 45,
   "metadata": {},
   "outputs": [
    {
     "data": {
      "text/plain": [
       "<matplotlib.axes._subplots.AxesSubplot at 0x7fa56db8d128>"
      ]
     },
     "execution_count": 45,
     "metadata": {},
     "output_type": "execute_result"
    },
    {
     "data": {
      "image/png": "[encoded data removed]",
      "text/plain": [
       "<Figure size 432x288 with 1 Axes>"
      ]
     },
     "metadata": {
      "needs_background": "light"
     },
     "output_type": "display_data"
    }
   ],
   "source": [
    "ratings.groupby('movieId')['rating'].mean().hist()"
   ]
  },
  {
   "cell_type": "code",
   "execution_count": 52,
   "metadata": {},
   "outputs": [
    {
     "data": {
      "image/png": "[encoded data removed]",
      "text/plain": [
       "<Figure size 432x288 with 1 Axes>"
      ]
     },
     "metadata": {
      "needs_background": "light"
     },
     "output_type": "display_data"
    }
   ],
   "source": [
    "plot_simple_hist(ratings.groupby('movieId')['rating'].mean(), 'Распределение средней оценки по фильмам', 'Оценка на фильм', 'Количество')"
   ]
  },
  {
   "cell_type": "code",
   "execution_count": 51,
   "metadata": {},
   "outputs": [
    {
     "data": {
      "image/png": "[encoded data removed]",
      "text/plain": [
       "<Figure size 432x288 with 1 Axes>"
      ]
     },
     "metadata": {
      "needs_background": "light"
     },
     "output_type": "display_data"
    }
   ],
   "source": [
    "plot_simple_hist(ratings.groupby('movieId')['rating'].median(), 'Распределение медианной оценки по фильмам', 'Оценка на фильм', 'Количество')"
   ]
  },
  {
   "cell_type": "code",
   "execution_count": 50,
   "metadata": {},
   "outputs": [
    {
     "data": {
      "image/png": "[encoded data removed]",
      "text/plain": [
       "<Figure size 432x288 with 1 Axes>"
      ]
     },
     "metadata": {
      "needs_background": "light"
     },
     "output_type": "display_data"
    }
   ],
   "source": [
    "plot_simple_hist(ratings.groupby('userId')['rating'].median(), 'Распределение медианной оценки по юзерам', 'Оценка на юзера', 'Количество')"
   ]
  },
  {
   "cell_type": "code",
   "execution_count": 53,
   "metadata": {},
   "outputs": [
    {
     "data": {
      "image/png": "[encoded data removed]",
      "text/plain": [
       "<Figure size 432x288 with 1 Axes>"
      ]
     },
     "metadata": {
      "needs_background": "light"
     },
     "output_type": "display_data"
    }
   ],
   "source": [
    "plot_simple_hist(ratings.groupby('userId')['rating'].mean(), 'Распределение медианной оценки по юзерам', 'Оценка на юзера', 'Количество')"
   ]
  },
  {
   "cell_type": "markdown",
   "metadata": {},
   "source": [
    "Что по фильмам, что по пользователям преобладает положительне значения, что говорит о том, что пользователи оценивают скорее понравившиеся им фильмы и чтоб поставить отрицательную оценку, фильм должен вызвать достаточно сильные негативные эмоции."
   ]
  },
  {
   "cell_type": "code",
   "execution_count": 84,
   "metadata": {},
   "outputs": [
    {
     "data": {
      "image/png": "[encoded data removed]",
      "text/plain": [
       "<Figure size 432x288 with 1 Axes>"
      ]
     },
     "metadata": {
      "needs_background": "light"
     },
     "output_type": "display_data"
    }
   ],
   "source": [
    "ratings.groupby('rating').size().plot(kind='bar');"
   ]
  },
  {
   "cell_type": "markdown",
   "metadata": {},
   "source": [
    "Видно, что в основном, все оценивают фильмы нейтрально. Больше положительных оценок. Совсем негативные оценки мало кто ставит."
   ]
  },
  {
   "cell_type": "markdown",
   "metadata": {},
   "source": [
    "Посмотрим, сколько человек поставило завышает и занижает оценки"
   ]
  },
  {
   "cell_type": "code",
   "execution_count": 101,
   "metadata": {},
   "outputs": [],
   "source": [
    "bad_user = ratings.userId.unique()[ratings.groupby('userId')['rating'].mean()< 3]"
   ]
  },
  {
   "cell_type": "code",
   "execution_count": 102,
   "metadata": {},
   "outputs": [
    {
     "data": {
      "text/plain": [
       "49"
      ]
     },
     "execution_count": 102,
     "metadata": {},
     "output_type": "execute_result"
    }
   ],
   "source": [
    "len(bad_user)"
   ]
  },
  {
   "cell_type": "code",
   "execution_count": 104,
   "metadata": {},
   "outputs": [],
   "source": [
    "good_user = ratings.userId.unique()[ratings.groupby('userId')['rating'].mean()> 4.5]"
   ]
  },
  {
   "cell_type": "code",
   "execution_count": 158,
   "metadata": {},
   "outputs": [
    {
     "data": {
      "text/plain": [
       "array([ 25,  30,  43,  53, 122, 171, 251, 348, 371, 400, 441, 452, 515,\n",
       "       523])"
      ]
     },
     "execution_count": 158,
     "metadata": {},
     "output_type": "execute_result"
    }
   ],
   "source": [
    "good_user"
   ]
  },
  {
   "cell_type": "code",
   "execution_count": 106,
   "metadata": {},
   "outputs": [
    {
     "data": {
      "text/plain": [
       "14"
      ]
     },
     "execution_count": 106,
     "metadata": {},
     "output_type": "execute_result"
    }
   ],
   "source": [
    "len(good_user)"
   ]
  },
  {
   "cell_type": "markdown",
   "metadata": {},
   "source": [
    "# 4. Выбрать критерий, показывающий, что фильм нравится всем, или не нравится никому, и вывести топ фильмов из этих списков. Знаете ли вы эти фильмы, согласны ли с оценками?"
   ]
  },
  {
   "cell_type": "markdown",
   "metadata": {},
   "source": [
    "Критерий\n",
    "\n",
    "\n",
    "1. Количество оценок сравниваем со средним количеством оценок на фильм и нормируем на разность между максимальным и минимальным значением на фильм. Полученное значение умножаем на среднюю оценку на фильм.\n"
   ]
  },
  {
   "cell_type": "code",
   "execution_count": 287,
   "metadata": {},
   "outputs": [],
   "source": [
    "movie_rat = ratings.merge(movies, on='movieId')"
   ]
  },
  {
   "cell_type": "code",
   "execution_count": 56,
   "metadata": {},
   "outputs": [
    {
     "data": {
      "text/html": [
       "<div>\n",
       "<style scoped>\n",
       "    .dataframe tbody tr th:only-of-type {\n",
       "        vertical-align: middle;\n",
       "    }\n",
       "\n",
       "    .dataframe tbody tr th {\n",
       "        vertical-align: top;\n",
       "    }\n",
       "\n",
       "    .dataframe thead th {\n",
       "        text-align: right;\n",
       "    }\n",
       "</style>\n",
       "<table border=\"1\" class=\"dataframe\">\n",
       "  <thead>\n",
       "    <tr style=\"text-align: right;\">\n",
       "      <th></th>\n",
       "      <th>userId</th>\n",
       "      <th>movieId</th>\n",
       "      <th>rating</th>\n",
       "      <th>timestamp</th>\n",
       "      <th>title</th>\n",
       "      <th>genres</th>\n",
       "    </tr>\n",
       "  </thead>\n",
       "  <tbody>\n",
       "    <tr>\n",
       "      <th>0</th>\n",
       "      <td>1</td>\n",
       "      <td>1</td>\n",
       "      <td>4.0</td>\n",
       "      <td>964982703</td>\n",
       "      <td>Toy Story (1995)</td>\n",
       "      <td>Adventure|Animation|Children|Comedy|Fantasy</td>\n",
       "    </tr>\n",
       "    <tr>\n",
       "      <th>1</th>\n",
       "      <td>5</td>\n",
       "      <td>1</td>\n",
       "      <td>4.0</td>\n",
       "      <td>847434962</td>\n",
       "      <td>Toy Story (1995)</td>\n",
       "      <td>Adventure|Animation|Children|Comedy|Fantasy</td>\n",
       "    </tr>\n",
       "    <tr>\n",
       "      <th>2</th>\n",
       "      <td>7</td>\n",
       "      <td>1</td>\n",
       "      <td>4.5</td>\n",
       "      <td>1106635946</td>\n",
       "      <td>Toy Story (1995)</td>\n",
       "      <td>Adventure|Animation|Children|Comedy|Fantasy</td>\n",
       "    </tr>\n",
       "    <tr>\n",
       "      <th>3</th>\n",
       "      <td>15</td>\n",
       "      <td>1</td>\n",
       "      <td>2.5</td>\n",
       "      <td>1510577970</td>\n",
       "      <td>Toy Story (1995)</td>\n",
       "      <td>Adventure|Animation|Children|Comedy|Fantasy</td>\n",
       "    </tr>\n",
       "    <tr>\n",
       "      <th>4</th>\n",
       "      <td>17</td>\n",
       "      <td>1</td>\n",
       "      <td>4.5</td>\n",
       "      <td>1305696483</td>\n",
       "      <td>Toy Story (1995)</td>\n",
       "      <td>Adventure|Animation|Children|Comedy|Fantasy</td>\n",
       "    </tr>\n",
       "  </tbody>\n",
       "</table>\n",
       "</div>"
      ],
      "text/plain": [
       "   userId  movieId  rating   timestamp             title  \\\n",
       "0       1        1     4.0   964982703  Toy Story (1995)   \n",
       "1       5        1     4.0   847434962  Toy Story (1995)   \n",
       "2       7        1     4.5  1106635946  Toy Story (1995)   \n",
       "3      15        1     2.5  1510577970  Toy Story (1995)   \n",
       "4      17        1     4.5  1305696483  Toy Story (1995)   \n",
       "\n",
       "                                        genres  \n",
       "0  Adventure|Animation|Children|Comedy|Fantasy  \n",
       "1  Adventure|Animation|Children|Comedy|Fantasy  \n",
       "2  Adventure|Animation|Children|Comedy|Fantasy  \n",
       "3  Adventure|Animation|Children|Comedy|Fantasy  \n",
       "4  Adventure|Animation|Children|Comedy|Fantasy  "
      ]
     },
     "execution_count": 56,
     "metadata": {},
     "output_type": "execute_result"
    }
   ],
   "source": [
    "movie_rat.head()"
   ]
  },
  {
   "cell_type": "code",
   "execution_count": 57,
   "metadata": {},
   "outputs": [
    {
     "name": "stdout",
     "output_type": "stream",
     "text": [
      "<class 'pandas.core.frame.DataFrame'>\n",
      "Int64Index: 100836 entries, 0 to 100835\n",
      "Data columns (total 6 columns):\n",
      "userId       100836 non-null int64\n",
      "movieId      100836 non-null int64\n",
      "rating       100836 non-null float64\n",
      "timestamp    100836 non-null int64\n",
      "title        100836 non-null object\n",
      "genres       100836 non-null object\n",
      "dtypes: float64(1), int64(3), object(2)\n",
      "memory usage: 5.4+ MB\n"
     ]
    }
   ],
   "source": [
    "movie_rat.info()"
   ]
  },
  {
   "cell_type": "markdown",
   "metadata": {},
   "source": [
    "Посчитаем средние оценки по фильмам"
   ]
  },
  {
   "cell_type": "code",
   "execution_count": 61,
   "metadata": {},
   "outputs": [
    {
     "data": {
      "application/vnd.jupyter.widget-view+json": {
       "model_id": "5fedaac0888e46f196d073de1953fccb",
       "version_major": 2,
       "version_minor": 0
      },
      "text/plain": [
       "HBox(children=(IntProgress(value=0, max=9719), HTML(value='')))"
      ]
     },
     "metadata": {},
     "output_type": "display_data"
    },
    {
     "name": "stdout",
     "output_type": "stream",
     "text": [
      "\n"
     ]
    }
   ],
   "source": [
    "title_mean_rating = {}\n",
    "\n",
    "for title, group in tqdm_notebook(movie_rat.groupby('title')):\n",
    "    title_mean_rating[title] = group.rating.mean()"
   ]
  },
  {
   "cell_type": "markdown",
   "metadata": {},
   "source": [
    "Посчитаем количество оценок на фильм"
   ]
  },
  {
   "cell_type": "code",
   "execution_count": 62,
   "metadata": {},
   "outputs": [
    {
     "data": {
      "application/vnd.jupyter.widget-view+json": {
       "model_id": "e719ad6e46784f35987c5f47dfc4559f",
       "version_major": 2,
       "version_minor": 0
      },
      "text/plain": [
       "HBox(children=(IntProgress(value=0, max=9719), HTML(value='')))"
      ]
     },
     "metadata": {},
     "output_type": "display_data"
    },
    {
     "name": "stdout",
     "output_type": "stream",
     "text": [
      "\n"
     ]
    }
   ],
   "source": [
    "title_num_ratings = {}\n",
    "\n",
    "for title, group in tqdm_notebook(movie_rat.groupby('title')):\n",
    "    title_num_ratings[title] = group.userId.unique().shape[0]"
   ]
  },
  {
   "cell_type": "markdown",
   "metadata": {},
   "source": [
    "Считаем нашу метрику"
   ]
  },
  {
   "cell_type": "code",
   "execution_count": 66,
   "metadata": {},
   "outputs": [],
   "source": [
    "min_num_ratings = np.min([title_num_ratings[f] for f in title_num_ratings.keys()])\n",
    "max_num_ratings = np.max([title_num_ratings[f] for f in title_num_ratings.keys()])\n",
    "mean_num_ratings = np.mean([title_num_ratings[f] for f in title_num_ratings.keys()])"
   ]
  },
  {
   "cell_type": "code",
   "execution_count": 67,
   "metadata": {},
   "outputs": [],
   "source": [
    "film_with_our_mark = []\n",
    "\n",
    "for f in title_num_ratings.keys():\n",
    "    film_with_our_mark.append(\n",
    "        (f, title_mean_rating[f] * (title_num_ratings[f] - mean_num_ratings) / (max_num_ratings - min_num_ratings))\n",
    "    )"
   ]
  },
  {
   "cell_type": "code",
   "execution_count": 68,
   "metadata": {},
   "outputs": [
    {
     "data": {
      "text/plain": [
       "[('Shawshank Redemption, The (1994)', 4.140396622352077),\n",
       " ('Forrest Gump (1994)', 4.04511657667948),\n",
       " ('Pulp Fiction (1994)', 3.795599234431761),\n",
       " ('Matrix, The (1999)', 3.4207454409691413),\n",
       " ('Silence of the Lambs, The (1991)', 3.4080113927564395),\n",
       " ('Star Wars: Episode IV - A New Hope (1977)', 3.103974793934813),\n",
       " ('Braveheart (1995)', 2.7855877015865484),\n",
       " ('Fight Club (1999)', 2.7047848943888955),\n",
       " (\"Schindler's List (1993)\", 2.7002035552689096),\n",
       " ('Jurassic Park (1993)', 2.6024230574258618),\n",
       " ('Terminator 2: Judgment Day (1991)', 2.5862869902088406),\n",
       " ('Star Wars: Episode V - The Empire Strikes Back (1980)', 2.5785484011187134),\n",
       " ('Usual Suspects, The (1995)', 2.5016296926169597),\n",
       " ('Toy Story (1995)', 2.4461018531687673),\n",
       " ('Raiders of the Lost Ark (Indiana Jones and the Raiders of the Lost Ark) (1981)',\n",
       "  2.4324644021391335),\n",
       " ('American Beauty (1999)', 2.394561678011029),\n",
       " ('Godfather, The (1972)', 2.375006509125951),\n",
       " ('Lord of the Rings: The Fellowship of the Ring, The (2001)',\n",
       "  2.3487827140732938),\n",
       " ('Star Wars: Episode VI - Return of the Jedi (1983)', 2.3416826475018193),\n",
       " ('Seven (a.k.a. Se7en) (1995)', 2.334623827980279)]"
      ]
     },
     "execution_count": 68,
     "metadata": {},
     "output_type": "execute_result"
    }
   ],
   "source": [
    "list(sorted(film_with_our_mark, key=lambda x: x[1], reverse=True))[:20]"
   ]
  },
  {
   "cell_type": "code",
   "execution_count": 71,
   "metadata": {},
   "outputs": [
    {
     "data": {
      "text/plain": [
       "[('Watching the Detectives (2007)', -0.14290746814763136),\n",
       " ('Watermark (2014)', -0.14290746814763136),\n",
       " ('What Happened Was... (1994)', -0.14290746814763136),\n",
       " ('What Love Is (2007)', -0.14290746814763136),\n",
       " ('What Men Talk About (2010)', -0.14290746814763136),\n",
       " ('When Worlds Collide (1951)', -0.14290746814763136),\n",
       " ('Who Killed Chea Vichea? (2010)', -0.14290746814763136),\n",
       " ('Willy/Milly (1986)', -0.14290746814763136),\n",
       " ('Wings, Legs and Tails (1986)', -0.14290746814763136),\n",
       " ('Winnie Pooh (1969)', -0.14290746814763136),\n",
       " ('Winnie the Pooh Goes Visiting (1971)', -0.14290746814763136),\n",
       " ('Winnie the Pooh and the Day of Concern (1972)', -0.14290746814763136),\n",
       " ('Winter in Prostokvashino (1984)', -0.14290746814763136),\n",
       " ('Woman Is a Woman, A (femme est une femme, Une) (1961)',\n",
       "  -0.14290746814763136),\n",
       " ('Woman Under the Influence, A (1974)', -0.14290746814763136),\n",
       " (\"Won't You Be My Neighbor? (2018)\", -0.14290746814763136),\n",
       " ('Wonder Woman (2009)', -0.14290746814763136),\n",
       " ('World of Glory (1991)', -0.14290746814763136),\n",
       " ('Wow! A Talking Fish! (1983)', -0.14290746814763136),\n",
       " ('Zeitgeist: Moving Forward (2011)', -0.14290746814763136)]"
      ]
     },
     "execution_count": 71,
     "metadata": {},
     "output_type": "execute_result"
    }
   ],
   "source": [
    "list(sorted(film_with_our_mark, key=lambda x: x[1], reverse=True))[-20:]"
   ]
  },
  {
   "cell_type": "markdown",
   "metadata": {},
   "source": [
    "Попробуем добавить количество тэгов"
   ]
  },
  {
   "cell_type": "code",
   "execution_count": 72,
   "metadata": {},
   "outputs": [],
   "source": [
    "joined_with_tags = movie_rat.join(tags.set_index('movieId'), on='movieId', lsuffix='_left', rsuffix='_right')"
   ]
  },
  {
   "cell_type": "code",
   "execution_count": 73,
   "metadata": {},
   "outputs": [
    {
     "data": {
      "application/vnd.jupyter.widget-view+json": {
       "model_id": "d1b44e79c6fe45c7aa35cb4a9aa7aa3e",
       "version_major": 2,
       "version_minor": 0
      },
      "text/plain": [
       "HBox(children=(IntProgress(value=0, max=9719), HTML(value='')))"
      ]
     },
     "metadata": {},
     "output_type": "display_data"
    },
    {
     "name": "stdout",
     "output_type": "stream",
     "text": [
      "\n"
     ]
    }
   ],
   "source": [
    "title_num_actions = {}\n",
    "\n",
    "for title, group in tqdm_notebook(joined_with_tags.groupby('title')):\n",
    "    title_num_actions[title] = group.shape[0]"
   ]
  },
  {
   "cell_type": "code",
   "execution_count": 74,
   "metadata": {},
   "outputs": [],
   "source": [
    "min_num_actions = np.min([title_num_actions[f] for f in title_num_actions.keys()])\n",
    "max_num_actions = np.max([title_num_actions[f] for f in title_num_actions.keys()])\n",
    "mean_num_actions = np.mean([title_num_actions[f] for f in title_num_actions.keys()])"
   ]
  },
  {
   "cell_type": "code",
   "execution_count": 75,
   "metadata": {},
   "outputs": [],
   "source": [
    "film_with_new_mark = []\n",
    "\n",
    "for f in title_num_actions.keys():\n",
    "    film_with_new_mark.append(\n",
    "        (f, title_mean_rating[f] * (title_num_actions[f] - mean_num_ratings) / (max_num_ratings - min_num_ratings))\n",
    "    )"
   ]
  },
  {
   "cell_type": "code",
   "execution_count": 76,
   "metadata": {},
   "outputs": [
    {
     "data": {
      "text/plain": [
       "[('Pulp Fiction (1994)', 710.8992577710171),\n",
       " ('Fight Club (1999)', 153.2215531870718),\n",
       " ('Star Wars: Episode IV - A New Hope (1977)', 84.04909674515433),\n",
       " ('Léon: The Professional (a.k.a. The Professional) (Léon) (1994)',\n",
       "  56.907945325115676),\n",
       " ('Eternal Sunshine of the Spotless Mind (2004)', 56.36231084059733),\n",
       " ('2001: A Space Odyssey (1968)', 52.93931604254306),\n",
       " ('Inception (2010)', 45.965889786735744),\n",
       " ('Big Lebowski, The (1998)', 40.46123194768863),\n",
       " ('Donnie Darko (2001)', 38.24601049504502),\n",
       " ('Forrest Gump (1994)', 37.459750723020946),\n",
       " ('Braveheart (1995)', 29.003575506464596),\n",
       " ('Star Wars: Episode V - The Empire Strikes Back (1980)', 26.985560596240664),\n",
       " ('Memento (2000)', 25.84978264579838),\n",
       " ('Lord of the Rings: The Return of the King, The (2003)', 23.101424782600702),\n",
       " ('Terminator 2: Judgment Day (1991)', 21.569518697525915),\n",
       " ('Twelve Monkeys (a.k.a. 12 Monkeys) (1995)', 21.367917448896037),\n",
       " ('Silence of the Lambs, The (1991)', 21.106182124463757),\n",
       " ('Raiders of the Lost Ark (Indiana Jones and the Raiders of the Lost Ark) (1981)',\n",
       "  20.39130586555377),\n",
       " ('Blade Runner (1982)', 20.02425378246751),\n",
       " (\"Schindler's List (1993)\", 19.703252335756712)]"
      ]
     },
     "execution_count": 76,
     "metadata": {},
     "output_type": "execute_result"
    }
   ],
   "source": [
    "list(sorted(film_with_new_mark, key=lambda x: x[1], reverse=True))[:20]"
   ]
  },
  {
   "cell_type": "markdown",
   "metadata": {},
   "source": [
    "Любопытно, что  с добавлением тэгов некоторые фильмы вообще пропали из топ 20, например, Побег из Шоушенка раньше был на первом месте, а теперь вообще пропал. "
   ]
  },
  {
   "cell_type": "code",
   "execution_count": 77,
   "metadata": {},
   "outputs": [
    {
     "data": {
      "text/plain": [
       "[('Vovka in the Kingdom of Far Far Away (1965)', -0.14290746814763136),\n",
       " ('Watching the Detectives (2007)', -0.14290746814763136),\n",
       " ('Watermark (2014)', -0.14290746814763136),\n",
       " ('What Happened Was... (1994)', -0.14290746814763136),\n",
       " ('What Love Is (2007)', -0.14290746814763136),\n",
       " ('What Men Talk About (2010)', -0.14290746814763136),\n",
       " ('When Worlds Collide (1951)', -0.14290746814763136),\n",
       " ('Willy/Milly (1986)', -0.14290746814763136),\n",
       " ('Wings, Legs and Tails (1986)', -0.14290746814763136),\n",
       " ('Winnie Pooh (1969)', -0.14290746814763136),\n",
       " ('Winnie the Pooh Goes Visiting (1971)', -0.14290746814763136),\n",
       " ('Winnie the Pooh and the Day of Concern (1972)', -0.14290746814763136),\n",
       " ('Winter in Prostokvashino (1984)', -0.14290746814763136),\n",
       " ('Woman Is a Woman, A (femme est une femme, Une) (1961)',\n",
       "  -0.14290746814763136),\n",
       " ('Woman Under the Influence, A (1974)', -0.14290746814763136),\n",
       " (\"Won't You Be My Neighbor? (2018)\", -0.14290746814763136),\n",
       " ('Wonder Woman (2009)', -0.14290746814763136),\n",
       " ('World of Glory (1991)', -0.14290746814763136),\n",
       " ('Wow! A Talking Fish! (1983)', -0.14290746814763136),\n",
       " ('Zeitgeist: Moving Forward (2011)', -0.14290746814763136)]"
      ]
     },
     "execution_count": 77,
     "metadata": {},
     "output_type": "execute_result"
    }
   ],
   "source": [
    "list(sorted(film_with_new_mark, key=lambda x: x[1], reverse=True))[-20:]"
   ]
  },
  {
   "cell_type": "markdown",
   "metadata": {},
   "source": [
    "Но в целом, обе метрики, достаточно неплохо отражают действительность."
   ]
  },
  {
   "cell_type": "markdown",
   "metadata": {},
   "source": [
    "# 5. Выбрать лучшие фильмы"
   ]
  },
  {
   "cell_type": "markdown",
   "metadata": {},
   "source": [
    "Для лучших фильмов буду использовать первую метрику"
   ]
  },
  {
   "cell_type": "code",
   "execution_count": 79,
   "metadata": {},
   "outputs": [],
   "source": [
    "top_films = [x[0] for x in list(sorted(film_with_our_mark, key=lambda x: x[1], reverse=True))[:20]]"
   ]
  },
  {
   "cell_type": "code",
   "execution_count": 80,
   "metadata": {},
   "outputs": [
    {
     "data": {
      "text/plain": [
       "['Shawshank Redemption, The (1994)',\n",
       " 'Forrest Gump (1994)',\n",
       " 'Pulp Fiction (1994)',\n",
       " 'Matrix, The (1999)',\n",
       " 'Silence of the Lambs, The (1991)',\n",
       " 'Star Wars: Episode IV - A New Hope (1977)',\n",
       " 'Braveheart (1995)',\n",
       " 'Fight Club (1999)',\n",
       " \"Schindler's List (1993)\",\n",
       " 'Jurassic Park (1993)',\n",
       " 'Terminator 2: Judgment Day (1991)',\n",
       " 'Star Wars: Episode V - The Empire Strikes Back (1980)',\n",
       " 'Usual Suspects, The (1995)',\n",
       " 'Toy Story (1995)',\n",
       " 'Raiders of the Lost Ark (Indiana Jones and the Raiders of the Lost Ark) (1981)',\n",
       " 'American Beauty (1999)',\n",
       " 'Godfather, The (1972)',\n",
       " 'Lord of the Rings: The Fellowship of the Ring, The (2001)',\n",
       " 'Star Wars: Episode VI - Return of the Jedi (1983)',\n",
       " 'Seven (a.k.a. Se7en) (1995)']"
      ]
     },
     "execution_count": 80,
     "metadata": {},
     "output_type": "execute_result"
    }
   ],
   "source": [
    "top_films"
   ]
  },
  {
   "cell_type": "markdown",
   "metadata": {},
   "source": [
    "# 7. Построить рекомендательную систему с помощью библиотеки surprise (или другой, по желанию). Применить подбор параметров модели на сетке, оценить качество полученной модели по выбранной вами метрике. "
   ]
  },
  {
   "cell_type": "code",
   "execution_count": 112,
   "metadata": {},
   "outputs": [],
   "source": [
    "from surprise import SVD\n",
    "from surprise import Dataset\n",
    "from surprise import accuracy\n",
    "from surprise import Reader\n",
    "from surprise.model_selection import train_test_split\n",
    "from surprise.model_selection import GridSearchCV"
   ]
  },
  {
   "cell_type": "code",
   "execution_count": 116,
   "metadata": {},
   "outputs": [],
   "source": [
    "movie_rat.dropna(inplace=True)"
   ]
  },
  {
   "cell_type": "code",
   "execution_count": 109,
   "metadata": {},
   "outputs": [],
   "source": [
    "dataset = pd.DataFrame({\n",
    "    'uid': movie_rat.userId,\n",
    "    'iid': movie_rat.title,\n",
    "    'rating': movie_rat.rating\n",
    "})"
   ]
  },
  {
   "cell_type": "code",
   "execution_count": 110,
   "metadata": {},
   "outputs": [],
   "source": [
    "reader = Reader(rating_scale=(0.5, 5.0))\n",
    "data = Dataset.load_from_df(dataset, reader)"
   ]
  },
  {
   "cell_type": "code",
   "execution_count": 117,
   "metadata": {},
   "outputs": [
    {
     "name": "stdout",
     "output_type": "stream",
     "text": [
      "0.8610724575335884\n",
      "{'n_epochs': 23, 'lr_all': 0.02, 'reg_all': 0.1}\n"
     ]
    }
   ],
   "source": [
    "param_grid = {'n_epochs': [ 20,23], 'lr_all': [ 0.01,0.015,0.02],\n",
    "              'reg_all': [  0.1, 0.15, 0.2]}\n",
    "gs = GridSearchCV(SVD, param_grid, measures=['rmse', 'mae'], cv=3)\n",
    "\n",
    "gs.fit(data)\n",
    "\n",
    "# best RMSE score\n",
    "print(gs.best_score['rmse'])\n",
    "\n",
    "# combination of parameters that gave the best RMSE score\n",
    "print(gs.best_params['rmse'])"
   ]
  },
  {
   "cell_type": "code",
   "execution_count": 118,
   "metadata": {},
   "outputs": [],
   "source": [
    "svd = SVD(**gs.best_params['rmse'])"
   ]
  },
  {
   "cell_type": "code",
   "execution_count": 168,
   "metadata": {},
   "outputs": [
    {
     "data": {
      "text/plain": [
       "<surprise.prediction_algorithms.matrix_factorization.SVD at 0x7fa56e17b550>"
      ]
     },
     "execution_count": 168,
     "metadata": {},
     "output_type": "execute_result"
    }
   ],
   "source": [
    "svd"
   ]
  },
  {
   "cell_type": "code",
   "execution_count": 119,
   "metadata": {},
   "outputs": [],
   "source": [
    "trainset, testset = train_test_split(data, test_size=.15, random_state=42)"
   ]
  },
  {
   "cell_type": "code",
   "execution_count": 120,
   "metadata": {},
   "outputs": [
    {
     "name": "stderr",
     "output_type": "stream",
     "text": [
      "/home/truv/anaconda3/lib/python3.7/site-packages/surprise/prediction_algorithms/algo_base.py:51: UserWarning: train() is deprecated. Use fit() instead\n",
      "  warnings.warn('train() is deprecated. Use fit() instead', UserWarning)\n"
     ]
    },
    {
     "data": {
      "text/plain": [
       "<surprise.prediction_algorithms.matrix_factorization.SVD at 0x7fa56e17b550>"
      ]
     },
     "execution_count": 120,
     "metadata": {},
     "output_type": "execute_result"
    }
   ],
   "source": [
    "svd.train(trainset)"
   ]
  },
  {
   "cell_type": "code",
   "execution_count": 121,
   "metadata": {},
   "outputs": [],
   "source": [
    "from surprise.accuracy import mae, rmse"
   ]
  },
  {
   "cell_type": "code",
   "execution_count": 123,
   "metadata": {},
   "outputs": [
    {
     "name": "stdout",
     "output_type": "stream",
     "text": [
      "MAE:  0.6491\n",
      "RMSE: 0.8482\n"
     ]
    },
    {
     "data": {
      "text/plain": [
       "(0.6490888538592636, 0.8482014928851531)"
      ]
     },
     "execution_count": 123,
     "metadata": {},
     "output_type": "execute_result"
    }
   ],
   "source": [
    "pred = svd.test(testset)\n",
    "mae(pred), rmse(pred)"
   ]
  },
  {
   "cell_type": "markdown",
   "metadata": {},
   "source": [
    "# 8. Получить рекомендации для нового пользователя, совпадают ли они с лучшими фильмами?"
   ]
  },
  {
   "cell_type": "markdown",
   "metadata": {},
   "source": [
    "Добавим нового пользователя с хорошими оценками для лучших фильмов"
   ]
  },
  {
   "cell_type": "code",
   "execution_count": 129,
   "metadata": {},
   "outputs": [
    {
     "data": {
      "text/plain": [
       "610"
      ]
     },
     "execution_count": 129,
     "metadata": {},
     "output_type": "execute_result"
    }
   ],
   "source": [
    "max(movie_rat.userId)"
   ]
  },
  {
   "cell_type": "code",
   "execution_count": 172,
   "metadata": {},
   "outputs": [
    {
     "data": {
      "text/html": [
       "<div>\n",
       "<style scoped>\n",
       "    .dataframe tbody tr th:only-of-type {\n",
       "        vertical-align: middle;\n",
       "    }\n",
       "\n",
       "    .dataframe tbody tr th {\n",
       "        vertical-align: top;\n",
       "    }\n",
       "\n",
       "    .dataframe thead th {\n",
       "        text-align: right;\n",
       "    }\n",
       "</style>\n",
       "<table border=\"1\" class=\"dataframe\">\n",
       "  <thead>\n",
       "    <tr style=\"text-align: right;\">\n",
       "      <th></th>\n",
       "      <th>userId</th>\n",
       "      <th>movieId</th>\n",
       "      <th>rating</th>\n",
       "    </tr>\n",
       "  </thead>\n",
       "  <tbody>\n",
       "    <tr>\n",
       "      <th>0</th>\n",
       "      <td>611</td>\n",
       "      <td>356</td>\n",
       "      <td>5.0</td>\n",
       "    </tr>\n",
       "    <tr>\n",
       "      <th>1</th>\n",
       "      <td>611</td>\n",
       "      <td>1196</td>\n",
       "      <td>4.5</td>\n",
       "    </tr>\n",
       "    <tr>\n",
       "      <th>2</th>\n",
       "      <td>611</td>\n",
       "      <td>8371</td>\n",
       "      <td>4.5</td>\n",
       "    </tr>\n",
       "    <tr>\n",
       "      <th>3</th>\n",
       "      <td>611</td>\n",
       "      <td>181463</td>\n",
       "      <td>5.0</td>\n",
       "    </tr>\n",
       "  </tbody>\n",
       "</table>\n",
       "</div>"
      ],
      "text/plain": [
       "   userId  movieId  rating\n",
       "0     611      356     5.0\n",
       "1     611     1196     4.5\n",
       "2     611     8371     4.5\n",
       "3     611   181463     5.0"
      ]
     },
     "execution_count": 172,
     "metadata": {},
     "output_type": "execute_result"
    }
   ],
   "source": [
    "new_users"
   ]
  },
  {
   "cell_type": "code",
   "execution_count": 171,
   "metadata": {},
   "outputs": [],
   "source": [
    "new_users = pd.DataFrame({'userId':[611,611,611,611], 'movieId':[356,1196,8371],'rating':[5,4.5,4.5]} )"
   ]
  },
  {
   "cell_type": "code",
   "execution_count": 173,
   "metadata": {},
   "outputs": [],
   "source": [
    "new_rat = new_users.merge(movies, on='movieId')"
   ]
  },
  {
   "cell_type": "code",
   "execution_count": 174,
   "metadata": {},
   "outputs": [
    {
     "data": {
      "text/html": [
       "<div>\n",
       "<style scoped>\n",
       "    .dataframe tbody tr th:only-of-type {\n",
       "        vertical-align: middle;\n",
       "    }\n",
       "\n",
       "    .dataframe tbody tr th {\n",
       "        vertical-align: top;\n",
       "    }\n",
       "\n",
       "    .dataframe thead th {\n",
       "        text-align: right;\n",
       "    }\n",
       "</style>\n",
       "<table border=\"1\" class=\"dataframe\">\n",
       "  <thead>\n",
       "    <tr style=\"text-align: right;\">\n",
       "      <th></th>\n",
       "      <th>userId</th>\n",
       "      <th>movieId</th>\n",
       "      <th>rating</th>\n",
       "      <th>title</th>\n",
       "      <th>genres</th>\n",
       "    </tr>\n",
       "  </thead>\n",
       "  <tbody>\n",
       "    <tr>\n",
       "      <th>0</th>\n",
       "      <td>611</td>\n",
       "      <td>356</td>\n",
       "      <td>5.0</td>\n",
       "      <td>Forrest Gump (1994)</td>\n",
       "      <td>Comedy|Drama|Romance|War</td>\n",
       "    </tr>\n",
       "    <tr>\n",
       "      <th>1</th>\n",
       "      <td>611</td>\n",
       "      <td>1196</td>\n",
       "      <td>4.5</td>\n",
       "      <td>Star Wars: Episode V - The Empire Strikes Back...</td>\n",
       "      <td>Action|Adventure|Sci-Fi</td>\n",
       "    </tr>\n",
       "    <tr>\n",
       "      <th>2</th>\n",
       "      <td>611</td>\n",
       "      <td>8371</td>\n",
       "      <td>4.5</td>\n",
       "      <td>Chronicles of Riddick, The (2004)</td>\n",
       "      <td>Action|Sci-Fi|Thriller</td>\n",
       "    </tr>\n",
       "  </tbody>\n",
       "</table>\n",
       "</div>"
      ],
      "text/plain": [
       "   userId  movieId  rating                                              title  \\\n",
       "0     611      356     5.0                                Forrest Gump (1994)   \n",
       "1     611     1196     4.5  Star Wars: Episode V - The Empire Strikes Back...   \n",
       "2     611     8371     4.5                  Chronicles of Riddick, The (2004)   \n",
       "\n",
       "                     genres  \n",
       "0  Comedy|Drama|Romance|War  \n",
       "1   Action|Adventure|Sci-Fi  \n",
       "2    Action|Sci-Fi|Thriller  "
      ]
     },
     "execution_count": 174,
     "metadata": {},
     "output_type": "execute_result"
    }
   ],
   "source": [
    "new_rat"
   ]
  },
  {
   "cell_type": "code",
   "execution_count": 175,
   "metadata": {},
   "outputs": [],
   "source": [
    "movie_rat = movie_rat.append(new_rat, ignore_index=True)"
   ]
  },
  {
   "cell_type": "markdown",
   "metadata": {},
   "source": [
    "Выберем один из топ фильмов и посмотрим прдсказания алгоритма для пользователей с хорошими средним оценками"
   ]
  },
  {
   "cell_type": "code",
   "execution_count": 204,
   "metadata": {},
   "outputs": [
    {
     "name": "stdout",
     "output_type": "stream",
     "text": [
      "user: 25         item: 356        r_ui = None   est = 4.26   {'was_impossible': False}\n",
      "user: 30         item: 356        r_ui = None   est = 4.19   {'was_impossible': False}\n",
      "user: 43         item: 356        r_ui = None   est = 4.46   {'was_impossible': False}\n",
      "user: 53         item: 356        r_ui = None   est = 4.74   {'was_impossible': False}\n",
      "user: 122        item: 356        r_ui = None   est = 4.26   {'was_impossible': False}\n",
      "user: 171        item: 356        r_ui = None   est = 4.33   {'was_impossible': False}\n",
      "user: 251        item: 356        r_ui = None   est = 4.14   {'was_impossible': False}\n",
      "user: 348        item: 356        r_ui = None   est = 4.24   {'was_impossible': False}\n",
      "user: 371        item: 356        r_ui = None   est = 4.28   {'was_impossible': False}\n",
      "user: 400        item: 356        r_ui = None   est = 3.93   {'was_impossible': False}\n",
      "user: 441        item: 356        r_ui = None   est = 4.29   {'was_impossible': False}\n",
      "user: 452        item: 356        r_ui = None   est = 4.39   {'was_impossible': False}\n",
      "user: 515        item: 356        r_ui = None   est = 4.28   {'was_impossible': False}\n",
      "user: 523        item: 356        r_ui = None   est = 4.32   {'was_impossible': False}\n"
     ]
    }
   ],
   "source": [
    "for user in good_user:\n",
    "    print(svd.predict(user, 356))"
   ]
  },
  {
   "cell_type": "markdown",
   "metadata": {},
   "source": [
    "С плохими средними оценками"
   ]
  },
  {
   "cell_type": "code",
   "execution_count": 206,
   "metadata": {},
   "outputs": [
    {
     "name": "stdout",
     "output_type": "stream",
     "text": [
      "user: 3          item: 356        r_ui = None   est = 2.43   {'was_impossible': False}\n",
      "user: 19         item: 356        r_ui = None   est = 2.90   {'was_impossible': False}\n",
      "user: 22         item: 356        r_ui = None   est = 2.71   {'was_impossible': False}\n",
      "user: 36         item: 356        r_ui = None   est = 2.74   {'was_impossible': False}\n",
      "user: 50         item: 356        r_ui = None   est = 2.70   {'was_impossible': False}\n",
      "user: 55         item: 356        r_ui = None   est = 2.96   {'was_impossible': False}\n",
      "user: 81         item: 356        r_ui = None   est = 2.80   {'was_impossible': False}\n",
      "user: 139        item: 356        r_ui = None   est = 2.32   {'was_impossible': False}\n",
      "user: 149        item: 356        r_ui = None   est = 3.14   {'was_impossible': False}\n",
      "user: 153        item: 356        r_ui = None   est = 2.20   {'was_impossible': False}\n",
      "user: 160        item: 356        r_ui = None   est = 2.85   {'was_impossible': False}\n",
      "user: 181        item: 356        r_ui = None   est = 3.16   {'was_impossible': False}\n",
      "user: 207        item: 356        r_ui = None   est = 3.37   {'was_impossible': False}\n",
      "user: 214        item: 356        r_ui = None   est = 3.05   {'was_impossible': False}\n",
      "user: 217        item: 356        r_ui = None   est = 3.07   {'was_impossible': False}\n",
      "user: 230        item: 356        r_ui = None   est = 2.77   {'was_impossible': False}\n",
      "user: 245        item: 356        r_ui = None   est = 2.59   {'was_impossible': False}\n",
      "user: 255        item: 356        r_ui = None   est = 2.70   {'was_impossible': False}\n",
      "user: 287        item: 356        r_ui = None   est = 2.75   {'was_impossible': False}\n",
      "user: 293        item: 356        r_ui = None   est = 2.97   {'was_impossible': False}\n",
      "user: 294        item: 356        r_ui = None   est = 2.95   {'was_impossible': False}\n",
      "user: 297        item: 356        r_ui = None   est = 2.81   {'was_impossible': False}\n",
      "user: 298        item: 356        r_ui = None   est = 2.53   {'was_impossible': False}\n",
      "user: 307        item: 356        r_ui = None   est = 2.96   {'was_impossible': False}\n",
      "user: 308        item: 356        r_ui = None   est = 2.31   {'was_impossible': False}\n",
      "user: 311        item: 356        r_ui = None   est = 2.26   {'was_impossible': False}\n",
      "user: 329        item: 356        r_ui = None   est = 2.36   {'was_impossible': False}\n",
      "user: 333        item: 356        r_ui = None   est = 2.95   {'was_impossible': False}\n",
      "user: 338        item: 356        r_ui = None   est = 2.85   {'was_impossible': False}\n",
      "user: 342        item: 356        r_ui = None   est = 3.25   {'was_impossible': False}\n",
      "user: 365        item: 356        r_ui = None   est = 2.77   {'was_impossible': False}\n",
      "user: 368        item: 356        r_ui = None   est = 2.95   {'was_impossible': False}\n",
      "user: 386        item: 356        r_ui = None   est = 2.87   {'was_impossible': False}\n",
      "user: 394        item: 356        r_ui = None   est = 3.02   {'was_impossible': False}\n",
      "user: 428        item: 356        r_ui = None   est = 2.80   {'was_impossible': False}\n",
      "user: 431        item: 356        r_ui = None   est = 2.97   {'was_impossible': False}\n",
      "user: 442        item: 356        r_ui = None   est = 1.63   {'was_impossible': False}\n",
      "user: 448        item: 356        r_ui = None   est = 3.12   {'was_impossible': False}\n",
      "user: 461        item: 356        r_ui = None   est = 2.55   {'was_impossible': False}\n",
      "user: 478        item: 356        r_ui = None   est = 3.01   {'was_impossible': False}\n",
      "user: 481        item: 356        r_ui = None   est = 3.08   {'was_impossible': False}\n",
      "user: 508        item: 356        r_ui = None   est = 2.33   {'was_impossible': False}\n",
      "user: 510        item: 356        r_ui = None   est = 2.82   {'was_impossible': False}\n",
      "user: 517        item: 356        r_ui = None   est = 2.46   {'was_impossible': False}\n",
      "user: 535        item: 356        r_ui = None   est = 2.96   {'was_impossible': False}\n",
      "user: 567        item: 356        r_ui = None   est = 2.40   {'was_impossible': False}\n",
      "user: 571        item: 356        r_ui = None   est = 3.07   {'was_impossible': False}\n",
      "user: 599        item: 356        r_ui = None   est = 2.83   {'was_impossible': False}\n",
      "user: 600        item: 356        r_ui = None   est = 2.99   {'was_impossible': False}\n"
     ]
    }
   ],
   "source": [
    "for user in bad_user:\n",
    "    print(svd.predict(user, 356))"
   ]
  },
  {
   "cell_type": "markdown",
   "metadata": {},
   "source": [
    "Предсказания,в целом, соответствует поведению пользователей. Пользователь с низкой средней оценкой оценился с более низкими оценками, чем с пользователь с высокими оценками. Проверим на новом пользователе."
   ]
  },
  {
   "cell_type": "code",
   "execution_count": 176,
   "metadata": {},
   "outputs": [],
   "source": [
    "dataset = pd.DataFrame({\n",
    "    'uid': movie_rat.userId,\n",
    "    'iid': movie_rat.title,\n",
    "    'rating': movie_rat.rating\n",
    "})"
   ]
  },
  {
   "cell_type": "code",
   "execution_count": 177,
   "metadata": {},
   "outputs": [],
   "source": [
    "reader = Reader(rating_scale=(0.5, 5.0))\n",
    "data = Dataset.load_from_df(dataset, reader)"
   ]
  },
  {
   "cell_type": "code",
   "execution_count": 178,
   "metadata": {},
   "outputs": [],
   "source": [
    "trainset, testset = train_test_split(data, test_size=.15, random_state=42)"
   ]
  },
  {
   "cell_type": "code",
   "execution_count": 179,
   "metadata": {},
   "outputs": [
    {
     "data": {
      "text/plain": [
       "<surprise.prediction_algorithms.matrix_factorization.SVD at 0x7fa56e17b550>"
      ]
     },
     "execution_count": 179,
     "metadata": {},
     "output_type": "execute_result"
    }
   ],
   "source": [
    "svd.train(trainset)"
   ]
  },
  {
   "cell_type": "code",
   "execution_count": 186,
   "metadata": {},
   "outputs": [],
   "source": [
    "vec = []\n",
    "for movieId in movies.movieId.unique():\n",
    "    if movieId in [356,1196,8371]:\n",
    "        continue\n",
    "    vec.append((611,movieId,svd.default_prediction()))\n",
    "pred_for_new_vec = svd.test(vec)    "
   ]
  },
  {
   "cell_type": "code",
   "execution_count": 190,
   "metadata": {},
   "outputs": [
    {
     "data": {
      "text/plain": [
       "[(193609, 4.023756980679436),\n",
       " (193587, 4.023756980679436),\n",
       " (193585, 4.023756980679436),\n",
       " (193583, 4.023756980679436),\n",
       " (193581, 4.023756980679436),\n",
       " (193579, 4.023756980679436),\n",
       " (193573, 4.023756980679436),\n",
       " (193571, 4.023756980679436),\n",
       " (193567, 4.023756980679436),\n",
       " (193565, 4.023756980679436),\n",
       " (191005, 4.023756980679436),\n",
       " (190221, 4.023756980679436),\n",
       " (190219, 4.023756980679436),\n",
       " (190215, 4.023756980679436),\n",
       " (190213, 4.023756980679436),\n",
       " (190209, 4.023756980679436),\n",
       " (190207, 4.023756980679436),\n",
       " (190183, 4.023756980679436),\n",
       " (189713, 4.023756980679436),\n",
       " (189547, 4.023756980679436)]"
      ]
     },
     "execution_count": 190,
     "metadata": {},
     "output_type": "execute_result"
    }
   ],
   "source": [
    "movies_for_new_vec = []\n",
    "for uid, iid, true_r, est, _ in pred_for_new_vec:\n",
    "    movies_for_new_vec.append((iid, est))\n",
    "                              \n",
    "movies_for_new_vec = sorted(movies_for_new_vec,reverse=True)[:20]\n",
    "movies_for_new_vec"
   ]
  },
  {
   "cell_type": "code",
   "execution_count": 196,
   "metadata": {},
   "outputs": [],
   "source": [
    "movies_dict = movies.set_index('movieId')[['title', 'genres']].to_dict()"
   ]
  },
  {
   "cell_type": "code",
   "execution_count": 203,
   "metadata": {},
   "outputs": [
    {
     "name": "stdout",
     "output_type": "stream",
     "text": [
      "Andrew Dice Clay: Dice Rules (1991) 4.023756980679436 Comedy\n",
      "Bungo Stray Dogs: Dead Apple (2018) 4.023756980679436 Action|Animation\n",
      "Flint (2017) 4.023756980679436 Drama\n",
      "No Game No Life: Zero (2017) 4.023756980679436 Animation|Comedy|Fantasy\n",
      "Black Butler: Book of the Atlantic (2017) 4.023756980679436 Action|Animation|Comedy|Fantasy\n",
      "Jon Stewart Has Left the Building (2015) 4.023756980679436 Documentary\n",
      "Love Live! The School Idol Movie (2015) 4.023756980679436 Animation\n",
      "Silver Spoon (2014) 4.023756980679436 Comedy|Drama\n",
      "anohana: The Flower We Saw That Day - The Movie (2013) 4.023756980679436 Animation|Drama\n",
      "Gintama: The Movie (2010) 4.023756980679436 Action|Animation|Comedy|Sci-Fi\n",
      "Gintama (2017) 4.023756980679436 Action|Adventure|Comedy|Sci-Fi\n",
      "Hommage à Zgougou (et salut à Sabine Mamou) (2002) 4.023756980679436 Documentary\n",
      "Bunny (1998) 4.023756980679436 Animation\n",
      "Liquid Truth (2017) 4.023756980679436 Drama\n",
      "John From (2015) 4.023756980679436 Drama\n",
      "Jeff Ross Roasts the Border (2017) 4.023756980679436 Comedy\n",
      "Tilt (2011) 4.023756980679436 Drama|Romance\n",
      "The Darkest Minds (2018) 4.023756980679436 Sci-Fi|Thriller\n",
      "BlacKkKlansman (2018) 4.023756980679436 Comedy|Crime|Drama\n",
      "Iron Soldier (2010) 4.023756980679436 Action|Sci-Fi\n"
     ]
    }
   ],
   "source": [
    "for t in movies_for_new_vec:\n",
    "    print(movies_dict['title'][t[0]], t[1], movies_dict['genres'][t[0]])"
   ]
  },
  {
   "cell_type": "markdown",
   "metadata": {},
   "source": [
    "Мы задали пользователи оценки на известные фильмы из топ-20. Однако, в рекомендованных пользователю таких фильмов не было.Если мы взглянем на детали предсказания, то можно сказать, что алгоритм завышал оценки для пользователся."
   ]
  },
  {
   "cell_type": "code",
   "execution_count": 207,
   "metadata": {},
   "outputs": [
    {
     "data": {
      "text/plain": [
       "[Prediction(uid=611, iid=1, r_ui=3.501143337144457, est=4.023756980679436, details={'was_impossible': False}),\n",
       " Prediction(uid=611, iid=2, r_ui=3.501143337144457, est=4.023756980679436, details={'was_impossible': False}),\n",
       " Prediction(uid=611, iid=3, r_ui=3.501143337144457, est=4.023756980679436, details={'was_impossible': False}),\n",
       " Prediction(uid=611, iid=4, r_ui=3.501143337144457, est=4.023756980679436, details={'was_impossible': False}),\n",
       " Prediction(uid=611, iid=5, r_ui=3.501143337144457, est=4.023756980679436, details={'was_impossible': False}),\n",
       " Prediction(uid=611, iid=6, r_ui=3.501143337144457, est=4.023756980679436, details={'was_impossible': False}),\n",
       " Prediction(uid=611, iid=7, r_ui=3.501143337144457, est=4.023756980679436, details={'was_impossible': False}),\n",
       " Prediction(uid=611, iid=8, r_ui=3.501143337144457, est=4.023756980679436, details={'was_impossible': False}),\n",
       " Prediction(uid=611, iid=9, r_ui=3.501143337144457, est=4.023756980679436, details={'was_impossible': False}),\n",
       " Prediction(uid=611, iid=10, r_ui=3.501143337144457, est=4.023756980679436, details={'was_impossible': False}),\n",
       " Prediction(uid=611, iid=11, r_ui=3.501143337144457, est=4.023756980679436, details={'was_impossible': False}),\n",
       " Prediction(uid=611, iid=12, r_ui=3.501143337144457, est=4.023756980679436, details={'was_impossible': False}),\n",
       " Prediction(uid=611, iid=13, r_ui=3.501143337144457, est=4.023756980679436, details={'was_impossible': False}),\n",
       " Prediction(uid=611, iid=14, r_ui=3.501143337144457, est=4.023756980679436, details={'was_impossible': False}),\n",
       " Prediction(uid=611, iid=15, r_ui=3.501143337144457, est=4.023756980679436, details={'was_impossible': False}),\n",
       " Prediction(uid=611, iid=16, r_ui=3.501143337144457, est=4.023756980679436, details={'was_impossible': False}),\n",
       " Prediction(uid=611, iid=17, r_ui=3.501143337144457, est=4.023756980679436, details={'was_impossible': False}),\n",
       " Prediction(uid=611, iid=18, r_ui=3.501143337144457, est=4.023756980679436, details={'was_impossible': False}),\n",
       " Prediction(uid=611, iid=19, r_ui=3.501143337144457, est=4.023756980679436, details={'was_impossible': False}),\n",
       " Prediction(uid=611, iid=20, r_ui=3.501143337144457, est=4.023756980679436, details={'was_impossible': False}),\n",
       " Prediction(uid=611, iid=21, r_ui=3.501143337144457, est=4.023756980679436, details={'was_impossible': False}),\n",
       " Prediction(uid=611, iid=22, r_ui=3.501143337144457, est=4.023756980679436, details={'was_impossible': False}),\n",
       " Prediction(uid=611, iid=23, r_ui=3.501143337144457, est=4.023756980679436, details={'was_impossible': False}),\n",
       " Prediction(uid=611, iid=24, r_ui=3.501143337144457, est=4.023756980679436, details={'was_impossible': False}),\n",
       " Prediction(uid=611, iid=25, r_ui=3.501143337144457, est=4.023756980679436, details={'was_impossible': False}),\n",
       " Prediction(uid=611, iid=26, r_ui=3.501143337144457, est=4.023756980679436, details={'was_impossible': False}),\n",
       " Prediction(uid=611, iid=27, r_ui=3.501143337144457, est=4.023756980679436, details={'was_impossible': False}),\n",
       " Prediction(uid=611, iid=28, r_ui=3.501143337144457, est=4.023756980679436, details={'was_impossible': False}),\n",
       " Prediction(uid=611, iid=29, r_ui=3.501143337144457, est=4.023756980679436, details={'was_impossible': False}),\n",
       " Prediction(uid=611, iid=30, r_ui=3.501143337144457, est=4.023756980679436, details={'was_impossible': False}),\n",
       " Prediction(uid=611, iid=31, r_ui=3.501143337144457, est=4.023756980679436, details={'was_impossible': False}),\n",
       " Prediction(uid=611, iid=32, r_ui=3.501143337144457, est=4.023756980679436, details={'was_impossible': False}),\n",
       " Prediction(uid=611, iid=34, r_ui=3.501143337144457, est=4.023756980679436, details={'was_impossible': False}),\n",
       " Prediction(uid=611, iid=36, r_ui=3.501143337144457, est=4.023756980679436, details={'was_impossible': False}),\n",
       " Prediction(uid=611, iid=38, r_ui=3.501143337144457, est=4.023756980679436, details={'was_impossible': False}),\n",
       " Prediction(uid=611, iid=39, r_ui=3.501143337144457, est=4.023756980679436, details={'was_impossible': False}),\n",
       " Prediction(uid=611, iid=40, r_ui=3.501143337144457, est=4.023756980679436, details={'was_impossible': False}),\n",
       " Prediction(uid=611, iid=41, r_ui=3.501143337144457, est=4.023756980679436, details={'was_impossible': False}),\n",
       " Prediction(uid=611, iid=42, r_ui=3.501143337144457, est=4.023756980679436, details={'was_impossible': False}),\n",
       " Prediction(uid=611, iid=43, r_ui=3.501143337144457, est=4.023756980679436, details={'was_impossible': False}),\n",
       " Prediction(uid=611, iid=44, r_ui=3.501143337144457, est=4.023756980679436, details={'was_impossible': False}),\n",
       " Prediction(uid=611, iid=45, r_ui=3.501143337144457, est=4.023756980679436, details={'was_impossible': False}),\n",
       " Prediction(uid=611, iid=46, r_ui=3.501143337144457, est=4.023756980679436, details={'was_impossible': False}),\n",
       " Prediction(uid=611, iid=47, r_ui=3.501143337144457, est=4.023756980679436, details={'was_impossible': False}),\n",
       " Prediction(uid=611, iid=48, r_ui=3.501143337144457, est=4.023756980679436, details={'was_impossible': False}),\n",
       " Prediction(uid=611, iid=49, r_ui=3.501143337144457, est=4.023756980679436, details={'was_impossible': False}),\n",
       " Prediction(uid=611, iid=50, r_ui=3.501143337144457, est=4.023756980679436, details={'was_impossible': False}),\n",
       " Prediction(uid=611, iid=52, r_ui=3.501143337144457, est=4.023756980679436, details={'was_impossible': False}),\n",
       " Prediction(uid=611, iid=53, r_ui=3.501143337144457, est=4.023756980679436, details={'was_impossible': False}),\n",
       " Prediction(uid=611, iid=54, r_ui=3.501143337144457, est=4.023756980679436, details={'was_impossible': False}),\n",
       " Prediction(uid=611, iid=55, r_ui=3.501143337144457, est=4.023756980679436, details={'was_impossible': False}),\n",
       " Prediction(uid=611, iid=57, r_ui=3.501143337144457, est=4.023756980679436, details={'was_impossible': False}),\n",
       " Prediction(uid=611, iid=58, r_ui=3.501143337144457, est=4.023756980679436, details={'was_impossible': False}),\n",
       " Prediction(uid=611, iid=60, r_ui=3.501143337144457, est=4.023756980679436, details={'was_impossible': False}),\n",
       " Prediction(uid=611, iid=61, r_ui=3.501143337144457, est=4.023756980679436, details={'was_impossible': False}),\n",
       " Prediction(uid=611, iid=62, r_ui=3.501143337144457, est=4.023756980679436, details={'was_impossible': False}),\n",
       " Prediction(uid=611, iid=63, r_ui=3.501143337144457, est=4.023756980679436, details={'was_impossible': False}),\n",
       " Prediction(uid=611, iid=64, r_ui=3.501143337144457, est=4.023756980679436, details={'was_impossible': False}),\n",
       " Prediction(uid=611, iid=65, r_ui=3.501143337144457, est=4.023756980679436, details={'was_impossible': False}),\n",
       " Prediction(uid=611, iid=66, r_ui=3.501143337144457, est=4.023756980679436, details={'was_impossible': False}),\n",
       " Prediction(uid=611, iid=68, r_ui=3.501143337144457, est=4.023756980679436, details={'was_impossible': False}),\n",
       " Prediction(uid=611, iid=69, r_ui=3.501143337144457, est=4.023756980679436, details={'was_impossible': False}),\n",
       " Prediction(uid=611, iid=70, r_ui=3.501143337144457, est=4.023756980679436, details={'was_impossible': False}),\n",
       " Prediction(uid=611, iid=71, r_ui=3.501143337144457, est=4.023756980679436, details={'was_impossible': False}),\n",
       " Prediction(uid=611, iid=72, r_ui=3.501143337144457, est=4.023756980679436, details={'was_impossible': False}),\n",
       " Prediction(uid=611, iid=73, r_ui=3.501143337144457, est=4.023756980679436, details={'was_impossible': False}),\n",
       " Prediction(uid=611, iid=74, r_ui=3.501143337144457, est=4.023756980679436, details={'was_impossible': False}),\n",
       " Prediction(uid=611, iid=75, r_ui=3.501143337144457, est=4.023756980679436, details={'was_impossible': False}),\n",
       " Prediction(uid=611, iid=76, r_ui=3.501143337144457, est=4.023756980679436, details={'was_impossible': False}),\n",
       " Prediction(uid=611, iid=77, r_ui=3.501143337144457, est=4.023756980679436, details={'was_impossible': False}),\n",
       " Prediction(uid=611, iid=78, r_ui=3.501143337144457, est=4.023756980679436, details={'was_impossible': False}),\n",
       " Prediction(uid=611, iid=79, r_ui=3.501143337144457, est=4.023756980679436, details={'was_impossible': False}),\n",
       " Prediction(uid=611, iid=80, r_ui=3.501143337144457, est=4.023756980679436, details={'was_impossible': False}),\n",
       " Prediction(uid=611, iid=81, r_ui=3.501143337144457, est=4.023756980679436, details={'was_impossible': False}),\n",
       " Prediction(uid=611, iid=82, r_ui=3.501143337144457, est=4.023756980679436, details={'was_impossible': False}),\n",
       " Prediction(uid=611, iid=83, r_ui=3.501143337144457, est=4.023756980679436, details={'was_impossible': False}),\n",
       " Prediction(uid=611, iid=85, r_ui=3.501143337144457, est=4.023756980679436, details={'was_impossible': False}),\n",
       " Prediction(uid=611, iid=86, r_ui=3.501143337144457, est=4.023756980679436, details={'was_impossible': False}),\n",
       " Prediction(uid=611, iid=87, r_ui=3.501143337144457, est=4.023756980679436, details={'was_impossible': False}),\n",
       " Prediction(uid=611, iid=88, r_ui=3.501143337144457, est=4.023756980679436, details={'was_impossible': False}),\n",
       " Prediction(uid=611, iid=89, r_ui=3.501143337144457, est=4.023756980679436, details={'was_impossible': False}),\n",
       " Prediction(uid=611, iid=92, r_ui=3.501143337144457, est=4.023756980679436, details={'was_impossible': False}),\n",
       " Prediction(uid=611, iid=93, r_ui=3.501143337144457, est=4.023756980679436, details={'was_impossible': False}),\n",
       " Prediction(uid=611, iid=94, r_ui=3.501143337144457, est=4.023756980679436, details={'was_impossible': False}),\n",
       " Prediction(uid=611, iid=95, r_ui=3.501143337144457, est=4.023756980679436, details={'was_impossible': False}),\n",
       " Prediction(uid=611, iid=96, r_ui=3.501143337144457, est=4.023756980679436, details={'was_impossible': False}),\n",
       " Prediction(uid=611, iid=97, r_ui=3.501143337144457, est=4.023756980679436, details={'was_impossible': False}),\n",
       " Prediction(uid=611, iid=99, r_ui=3.501143337144457, est=4.023756980679436, details={'was_impossible': False}),\n",
       " Prediction(uid=611, iid=100, r_ui=3.501143337144457, est=4.023756980679436, details={'was_impossible': False}),\n",
       " Prediction(uid=611, iid=101, r_ui=3.501143337144457, est=4.023756980679436, details={'was_impossible': False}),\n",
       " Prediction(uid=611, iid=102, r_ui=3.501143337144457, est=4.023756980679436, details={'was_impossible': False}),\n",
       " Prediction(uid=611, iid=103, r_ui=3.501143337144457, est=4.023756980679436, details={'was_impossible': False}),\n",
       " Prediction(uid=611, iid=104, r_ui=3.501143337144457, est=4.023756980679436, details={'was_impossible': False}),\n",
       " Prediction(uid=611, iid=105, r_ui=3.501143337144457, est=4.023756980679436, details={'was_impossible': False}),\n",
       " Prediction(uid=611, iid=106, r_ui=3.501143337144457, est=4.023756980679436, details={'was_impossible': False}),\n",
       " Prediction(uid=611, iid=107, r_ui=3.501143337144457, est=4.023756980679436, details={'was_impossible': False}),\n",
       " Prediction(uid=611, iid=108, r_ui=3.501143337144457, est=4.023756980679436, details={'was_impossible': False}),\n",
       " Prediction(uid=611, iid=110, r_ui=3.501143337144457, est=4.023756980679436, details={'was_impossible': False}),\n",
       " Prediction(uid=611, iid=111, r_ui=3.501143337144457, est=4.023756980679436, details={'was_impossible': False}),\n",
       " Prediction(uid=611, iid=112, r_ui=3.501143337144457, est=4.023756980679436, details={'was_impossible': False}),\n",
       " Prediction(uid=611, iid=113, r_ui=3.501143337144457, est=4.023756980679436, details={'was_impossible': False}),\n",
       " Prediction(uid=611, iid=116, r_ui=3.501143337144457, est=4.023756980679436, details={'was_impossible': False}),\n",
       " Prediction(uid=611, iid=117, r_ui=3.501143337144457, est=4.023756980679436, details={'was_impossible': False}),\n",
       " Prediction(uid=611, iid=118, r_ui=3.501143337144457, est=4.023756980679436, details={'was_impossible': False}),\n",
       " Prediction(uid=611, iid=119, r_ui=3.501143337144457, est=4.023756980679436, details={'was_impossible': False}),\n",
       " Prediction(uid=611, iid=121, r_ui=3.501143337144457, est=4.023756980679436, details={'was_impossible': False}),\n",
       " Prediction(uid=611, iid=122, r_ui=3.501143337144457, est=4.023756980679436, details={'was_impossible': False}),\n",
       " Prediction(uid=611, iid=123, r_ui=3.501143337144457, est=4.023756980679436, details={'was_impossible': False}),\n",
       " Prediction(uid=611, iid=125, r_ui=3.501143337144457, est=4.023756980679436, details={'was_impossible': False}),\n",
       " Prediction(uid=611, iid=126, r_ui=3.501143337144457, est=4.023756980679436, details={'was_impossible': False}),\n",
       " Prediction(uid=611, iid=128, r_ui=3.501143337144457, est=4.023756980679436, details={'was_impossible': False}),\n",
       " Prediction(uid=611, iid=129, r_ui=3.501143337144457, est=4.023756980679436, details={'was_impossible': False}),\n",
       " Prediction(uid=611, iid=132, r_ui=3.501143337144457, est=4.023756980679436, details={'was_impossible': False}),\n",
       " Prediction(uid=611, iid=135, r_ui=3.501143337144457, est=4.023756980679436, details={'was_impossible': False}),\n",
       " Prediction(uid=611, iid=137, r_ui=3.501143337144457, est=4.023756980679436, details={'was_impossible': False}),\n",
       " Prediction(uid=611, iid=140, r_ui=3.501143337144457, est=4.023756980679436, details={'was_impossible': False}),\n",
       " Prediction(uid=611, iid=141, r_ui=3.501143337144457, est=4.023756980679436, details={'was_impossible': False}),\n",
       " Prediction(uid=611, iid=144, r_ui=3.501143337144457, est=4.023756980679436, details={'was_impossible': False}),\n",
       " Prediction(uid=611, iid=145, r_ui=3.501143337144457, est=4.023756980679436, details={'was_impossible': False}),\n",
       " Prediction(uid=611, iid=146, r_ui=3.501143337144457, est=4.023756980679436, details={'was_impossible': False}),\n",
       " Prediction(uid=611, iid=147, r_ui=3.501143337144457, est=4.023756980679436, details={'was_impossible': False}),\n",
       " Prediction(uid=611, iid=148, r_ui=3.501143337144457, est=4.023756980679436, details={'was_impossible': False}),\n",
       " Prediction(uid=611, iid=149, r_ui=3.501143337144457, est=4.023756980679436, details={'was_impossible': False}),\n",
       " Prediction(uid=611, iid=150, r_ui=3.501143337144457, est=4.023756980679436, details={'was_impossible': False}),\n",
       " Prediction(uid=611, iid=151, r_ui=3.501143337144457, est=4.023756980679436, details={'was_impossible': False}),\n",
       " Prediction(uid=611, iid=152, r_ui=3.501143337144457, est=4.023756980679436, details={'was_impossible': False}),\n",
       " Prediction(uid=611, iid=153, r_ui=3.501143337144457, est=4.023756980679436, details={'was_impossible': False}),\n",
       " Prediction(uid=611, iid=154, r_ui=3.501143337144457, est=4.023756980679436, details={'was_impossible': False}),\n",
       " Prediction(uid=611, iid=155, r_ui=3.501143337144457, est=4.023756980679436, details={'was_impossible': False}),\n",
       " Prediction(uid=611, iid=156, r_ui=3.501143337144457, est=4.023756980679436, details={'was_impossible': False}),\n",
       " Prediction(uid=611, iid=157, r_ui=3.501143337144457, est=4.023756980679436, details={'was_impossible': False}),\n",
       " Prediction(uid=611, iid=158, r_ui=3.501143337144457, est=4.023756980679436, details={'was_impossible': False}),\n",
       " Prediction(uid=611, iid=159, r_ui=3.501143337144457, est=4.023756980679436, details={'was_impossible': False}),\n",
       " Prediction(uid=611, iid=160, r_ui=3.501143337144457, est=4.023756980679436, details={'was_impossible': False}),\n",
       " Prediction(uid=611, iid=161, r_ui=3.501143337144457, est=4.023756980679436, details={'was_impossible': False}),\n",
       " Prediction(uid=611, iid=162, r_ui=3.501143337144457, est=4.023756980679436, details={'was_impossible': False}),\n",
       " Prediction(uid=611, iid=163, r_ui=3.501143337144457, est=4.023756980679436, details={'was_impossible': False}),\n",
       " Prediction(uid=611, iid=164, r_ui=3.501143337144457, est=4.023756980679436, details={'was_impossible': False}),\n",
       " Prediction(uid=611, iid=165, r_ui=3.501143337144457, est=4.023756980679436, details={'was_impossible': False}),\n",
       " Prediction(uid=611, iid=166, r_ui=3.501143337144457, est=4.023756980679436, details={'was_impossible': False}),\n",
       " Prediction(uid=611, iid=168, r_ui=3.501143337144457, est=4.023756980679436, details={'was_impossible': False}),\n",
       " Prediction(uid=611, iid=169, r_ui=3.501143337144457, est=4.023756980679436, details={'was_impossible': False}),\n",
       " Prediction(uid=611, iid=170, r_ui=3.501143337144457, est=4.023756980679436, details={'was_impossible': False}),\n",
       " Prediction(uid=611, iid=171, r_ui=3.501143337144457, est=4.023756980679436, details={'was_impossible': False}),\n",
       " Prediction(uid=611, iid=172, r_ui=3.501143337144457, est=4.023756980679436, details={'was_impossible': False}),\n",
       " Prediction(uid=611, iid=173, r_ui=3.501143337144457, est=4.023756980679436, details={'was_impossible': False}),\n",
       " Prediction(uid=611, iid=174, r_ui=3.501143337144457, est=4.023756980679436, details={'was_impossible': False}),\n",
       " Prediction(uid=611, iid=175, r_ui=3.501143337144457, est=4.023756980679436, details={'was_impossible': False}),\n",
       " Prediction(uid=611, iid=176, r_ui=3.501143337144457, est=4.023756980679436, details={'was_impossible': False}),\n",
       " Prediction(uid=611, iid=177, r_ui=3.501143337144457, est=4.023756980679436, details={'was_impossible': False}),\n",
       " Prediction(uid=611, iid=178, r_ui=3.501143337144457, est=4.023756980679436, details={'was_impossible': False}),\n",
       " Prediction(uid=611, iid=179, r_ui=3.501143337144457, est=4.023756980679436, details={'was_impossible': False}),\n",
       " Prediction(uid=611, iid=180, r_ui=3.501143337144457, est=4.023756980679436, details={'was_impossible': False}),\n",
       " Prediction(uid=611, iid=181, r_ui=3.501143337144457, est=4.023756980679436, details={'was_impossible': False}),\n",
       " Prediction(uid=611, iid=183, r_ui=3.501143337144457, est=4.023756980679436, details={'was_impossible': False}),\n",
       " Prediction(uid=611, iid=184, r_ui=3.501143337144457, est=4.023756980679436, details={'was_impossible': False}),\n",
       " Prediction(uid=611, iid=185, r_ui=3.501143337144457, est=4.023756980679436, details={'was_impossible': False}),\n",
       " Prediction(uid=611, iid=186, r_ui=3.501143337144457, est=4.023756980679436, details={'was_impossible': False}),\n",
       " Prediction(uid=611, iid=187, r_ui=3.501143337144457, est=4.023756980679436, details={'was_impossible': False}),\n",
       " Prediction(uid=611, iid=188, r_ui=3.501143337144457, est=4.023756980679436, details={'was_impossible': False}),\n",
       " Prediction(uid=611, iid=189, r_ui=3.501143337144457, est=4.023756980679436, details={'was_impossible': False}),\n",
       " Prediction(uid=611, iid=190, r_ui=3.501143337144457, est=4.023756980679436, details={'was_impossible': False}),\n",
       " Prediction(uid=611, iid=191, r_ui=3.501143337144457, est=4.023756980679436, details={'was_impossible': False}),\n",
       " Prediction(uid=611, iid=193, r_ui=3.501143337144457, est=4.023756980679436, details={'was_impossible': False}),\n",
       " Prediction(uid=611, iid=194, r_ui=3.501143337144457, est=4.023756980679436, details={'was_impossible': False}),\n",
       " Prediction(uid=611, iid=195, r_ui=3.501143337144457, est=4.023756980679436, details={'was_impossible': False}),\n",
       " Prediction(uid=611, iid=196, r_ui=3.501143337144457, est=4.023756980679436, details={'was_impossible': False}),\n",
       " Prediction(uid=611, iid=198, r_ui=3.501143337144457, est=4.023756980679436, details={'was_impossible': False}),\n",
       " Prediction(uid=611, iid=199, r_ui=3.501143337144457, est=4.023756980679436, details={'was_impossible': False}),\n",
       " Prediction(uid=611, iid=201, r_ui=3.501143337144457, est=4.023756980679436, details={'was_impossible': False}),\n",
       " Prediction(uid=611, iid=202, r_ui=3.501143337144457, est=4.023756980679436, details={'was_impossible': False}),\n",
       " Prediction(uid=611, iid=203, r_ui=3.501143337144457, est=4.023756980679436, details={'was_impossible': False}),\n",
       " Prediction(uid=611, iid=204, r_ui=3.501143337144457, est=4.023756980679436, details={'was_impossible': False}),\n",
       " Prediction(uid=611, iid=205, r_ui=3.501143337144457, est=4.023756980679436, details={'was_impossible': False}),\n",
       " Prediction(uid=611, iid=206, r_ui=3.501143337144457, est=4.023756980679436, details={'was_impossible': False}),\n",
       " Prediction(uid=611, iid=207, r_ui=3.501143337144457, est=4.023756980679436, details={'was_impossible': False}),\n",
       " Prediction(uid=611, iid=208, r_ui=3.501143337144457, est=4.023756980679436, details={'was_impossible': False}),\n",
       " Prediction(uid=611, iid=209, r_ui=3.501143337144457, est=4.023756980679436, details={'was_impossible': False}),\n",
       " Prediction(uid=611, iid=210, r_ui=3.501143337144457, est=4.023756980679436, details={'was_impossible': False}),\n",
       " Prediction(uid=611, iid=211, r_ui=3.501143337144457, est=4.023756980679436, details={'was_impossible': False}),\n",
       " Prediction(uid=611, iid=212, r_ui=3.501143337144457, est=4.023756980679436, details={'was_impossible': False}),\n",
       " Prediction(uid=611, iid=213, r_ui=3.501143337144457, est=4.023756980679436, details={'was_impossible': False}),\n",
       " Prediction(uid=611, iid=214, r_ui=3.501143337144457, est=4.023756980679436, details={'was_impossible': False}),\n",
       " Prediction(uid=611, iid=215, r_ui=3.501143337144457, est=4.023756980679436, details={'was_impossible': False}),\n",
       " Prediction(uid=611, iid=216, r_ui=3.501143337144457, est=4.023756980679436, details={'was_impossible': False}),\n",
       " Prediction(uid=611, iid=217, r_ui=3.501143337144457, est=4.023756980679436, details={'was_impossible': False}),\n",
       " Prediction(uid=611, iid=218, r_ui=3.501143337144457, est=4.023756980679436, details={'was_impossible': False}),\n",
       " Prediction(uid=611, iid=219, r_ui=3.501143337144457, est=4.023756980679436, details={'was_impossible': False}),\n",
       " Prediction(uid=611, iid=220, r_ui=3.501143337144457, est=4.023756980679436, details={'was_impossible': False}),\n",
       " Prediction(uid=611, iid=222, r_ui=3.501143337144457, est=4.023756980679436, details={'was_impossible': False}),\n",
       " Prediction(uid=611, iid=223, r_ui=3.501143337144457, est=4.023756980679436, details={'was_impossible': False}),\n",
       " Prediction(uid=611, iid=224, r_ui=3.501143337144457, est=4.023756980679436, details={'was_impossible': False}),\n",
       " Prediction(uid=611, iid=225, r_ui=3.501143337144457, est=4.023756980679436, details={'was_impossible': False}),\n",
       " Prediction(uid=611, iid=227, r_ui=3.501143337144457, est=4.023756980679436, details={'was_impossible': False}),\n",
       " Prediction(uid=611, iid=228, r_ui=3.501143337144457, est=4.023756980679436, details={'was_impossible': False}),\n",
       " Prediction(uid=611, iid=229, r_ui=3.501143337144457, est=4.023756980679436, details={'was_impossible': False}),\n",
       " Prediction(uid=611, iid=230, r_ui=3.501143337144457, est=4.023756980679436, details={'was_impossible': False}),\n",
       " Prediction(uid=611, iid=231, r_ui=3.501143337144457, est=4.023756980679436, details={'was_impossible': False}),\n",
       " Prediction(uid=611, iid=232, r_ui=3.501143337144457, est=4.023756980679436, details={'was_impossible': False}),\n",
       " Prediction(uid=611, iid=233, r_ui=3.501143337144457, est=4.023756980679436, details={'was_impossible': False}),\n",
       " Prediction(uid=611, iid=234, r_ui=3.501143337144457, est=4.023756980679436, details={'was_impossible': False}),\n",
       " Prediction(uid=611, iid=235, r_ui=3.501143337144457, est=4.023756980679436, details={'was_impossible': False}),\n",
       " Prediction(uid=611, iid=236, r_ui=3.501143337144457, est=4.023756980679436, details={'was_impossible': False}),\n",
       " Prediction(uid=611, iid=237, r_ui=3.501143337144457, est=4.023756980679436, details={'was_impossible': False}),\n",
       " Prediction(uid=611, iid=238, r_ui=3.501143337144457, est=4.023756980679436, details={'was_impossible': False}),\n",
       " Prediction(uid=611, iid=239, r_ui=3.501143337144457, est=4.023756980679436, details={'was_impossible': False}),\n",
       " Prediction(uid=611, iid=240, r_ui=3.501143337144457, est=4.023756980679436, details={'was_impossible': False}),\n",
       " Prediction(uid=611, iid=241, r_ui=3.501143337144457, est=4.023756980679436, details={'was_impossible': False}),\n",
       " Prediction(uid=611, iid=242, r_ui=3.501143337144457, est=4.023756980679436, details={'was_impossible': False}),\n",
       " Prediction(uid=611, iid=243, r_ui=3.501143337144457, est=4.023756980679436, details={'was_impossible': False}),\n",
       " Prediction(uid=611, iid=246, r_ui=3.501143337144457, est=4.023756980679436, details={'was_impossible': False}),\n",
       " Prediction(uid=611, iid=247, r_ui=3.501143337144457, est=4.023756980679436, details={'was_impossible': False}),\n",
       " Prediction(uid=611, iid=248, r_ui=3.501143337144457, est=4.023756980679436, details={'was_impossible': False}),\n",
       " Prediction(uid=611, iid=249, r_ui=3.501143337144457, est=4.023756980679436, details={'was_impossible': False}),\n",
       " Prediction(uid=611, iid=250, r_ui=3.501143337144457, est=4.023756980679436, details={'was_impossible': False}),\n",
       " Prediction(uid=611, iid=251, r_ui=3.501143337144457, est=4.023756980679436, details={'was_impossible': False}),\n",
       " Prediction(uid=611, iid=252, r_ui=3.501143337144457, est=4.023756980679436, details={'was_impossible': False}),\n",
       " Prediction(uid=611, iid=253, r_ui=3.501143337144457, est=4.023756980679436, details={'was_impossible': False}),\n",
       " Prediction(uid=611, iid=254, r_ui=3.501143337144457, est=4.023756980679436, details={'was_impossible': False}),\n",
       " Prediction(uid=611, iid=255, r_ui=3.501143337144457, est=4.023756980679436, details={'was_impossible': False}),\n",
       " Prediction(uid=611, iid=256, r_ui=3.501143337144457, est=4.023756980679436, details={'was_impossible': False}),\n",
       " Prediction(uid=611, iid=257, r_ui=3.501143337144457, est=4.023756980679436, details={'was_impossible': False}),\n",
       " Prediction(uid=611, iid=258, r_ui=3.501143337144457, est=4.023756980679436, details={'was_impossible': False}),\n",
       " Prediction(uid=611, iid=259, r_ui=3.501143337144457, est=4.023756980679436, details={'was_impossible': False}),\n",
       " Prediction(uid=611, iid=260, r_ui=3.501143337144457, est=4.023756980679436, details={'was_impossible': False}),\n",
       " Prediction(uid=611, iid=261, r_ui=3.501143337144457, est=4.023756980679436, details={'was_impossible': False}),\n",
       " Prediction(uid=611, iid=262, r_ui=3.501143337144457, est=4.023756980679436, details={'was_impossible': False}),\n",
       " Prediction(uid=611, iid=263, r_ui=3.501143337144457, est=4.023756980679436, details={'was_impossible': False}),\n",
       " Prediction(uid=611, iid=265, r_ui=3.501143337144457, est=4.023756980679436, details={'was_impossible': False}),\n",
       " Prediction(uid=611, iid=266, r_ui=3.501143337144457, est=4.023756980679436, details={'was_impossible': False}),\n",
       " Prediction(uid=611, iid=267, r_ui=3.501143337144457, est=4.023756980679436, details={'was_impossible': False}),\n",
       " Prediction(uid=611, iid=269, r_ui=3.501143337144457, est=4.023756980679436, details={'was_impossible': False}),\n",
       " Prediction(uid=611, iid=270, r_ui=3.501143337144457, est=4.023756980679436, details={'was_impossible': False}),\n",
       " Prediction(uid=611, iid=271, r_ui=3.501143337144457, est=4.023756980679436, details={'was_impossible': False}),\n",
       " Prediction(uid=611, iid=272, r_ui=3.501143337144457, est=4.023756980679436, details={'was_impossible': False}),\n",
       " Prediction(uid=611, iid=273, r_ui=3.501143337144457, est=4.023756980679436, details={'was_impossible': False}),\n",
       " Prediction(uid=611, iid=274, r_ui=3.501143337144457, est=4.023756980679436, details={'was_impossible': False}),\n",
       " Prediction(uid=611, iid=275, r_ui=3.501143337144457, est=4.023756980679436, details={'was_impossible': False}),\n",
       " Prediction(uid=611, iid=276, r_ui=3.501143337144457, est=4.023756980679436, details={'was_impossible': False}),\n",
       " Prediction(uid=611, iid=277, r_ui=3.501143337144457, est=4.023756980679436, details={'was_impossible': False}),\n",
       " Prediction(uid=611, iid=278, r_ui=3.501143337144457, est=4.023756980679436, details={'was_impossible': False}),\n",
       " Prediction(uid=611, iid=279, r_ui=3.501143337144457, est=4.023756980679436, details={'was_impossible': False}),\n",
       " Prediction(uid=611, iid=280, r_ui=3.501143337144457, est=4.023756980679436, details={'was_impossible': False}),\n",
       " Prediction(uid=611, iid=281, r_ui=3.501143337144457, est=4.023756980679436, details={'was_impossible': False}),\n",
       " Prediction(uid=611, iid=282, r_ui=3.501143337144457, est=4.023756980679436, details={'was_impossible': False}),\n",
       " Prediction(uid=611, iid=283, r_ui=3.501143337144457, est=4.023756980679436, details={'was_impossible': False}),\n",
       " Prediction(uid=611, iid=284, r_ui=3.501143337144457, est=4.023756980679436, details={'was_impossible': False}),\n",
       " Prediction(uid=611, iid=285, r_ui=3.501143337144457, est=4.023756980679436, details={'was_impossible': False}),\n",
       " Prediction(uid=611, iid=287, r_ui=3.501143337144457, est=4.023756980679436, details={'was_impossible': False}),\n",
       " Prediction(uid=611, iid=288, r_ui=3.501143337144457, est=4.023756980679436, details={'was_impossible': False}),\n",
       " Prediction(uid=611, iid=289, r_ui=3.501143337144457, est=4.023756980679436, details={'was_impossible': False}),\n",
       " Prediction(uid=611, iid=290, r_ui=3.501143337144457, est=4.023756980679436, details={'was_impossible': False}),\n",
       " Prediction(uid=611, iid=291, r_ui=3.501143337144457, est=4.023756980679436, details={'was_impossible': False}),\n",
       " Prediction(uid=611, iid=292, r_ui=3.501143337144457, est=4.023756980679436, details={'was_impossible': False}),\n",
       " Prediction(uid=611, iid=293, r_ui=3.501143337144457, est=4.023756980679436, details={'was_impossible': False}),\n",
       " Prediction(uid=611, iid=294, r_ui=3.501143337144457, est=4.023756980679436, details={'was_impossible': False}),\n",
       " Prediction(uid=611, iid=295, r_ui=3.501143337144457, est=4.023756980679436, details={'was_impossible': False}),\n",
       " Prediction(uid=611, iid=296, r_ui=3.501143337144457, est=4.023756980679436, details={'was_impossible': False}),\n",
       " Prediction(uid=611, iid=298, r_ui=3.501143337144457, est=4.023756980679436, details={'was_impossible': False}),\n",
       " Prediction(uid=611, iid=299, r_ui=3.501143337144457, est=4.023756980679436, details={'was_impossible': False}),\n",
       " Prediction(uid=611, iid=300, r_ui=3.501143337144457, est=4.023756980679436, details={'was_impossible': False}),\n",
       " Prediction(uid=611, iid=301, r_ui=3.501143337144457, est=4.023756980679436, details={'was_impossible': False}),\n",
       " Prediction(uid=611, iid=302, r_ui=3.501143337144457, est=4.023756980679436, details={'was_impossible': False}),\n",
       " Prediction(uid=611, iid=303, r_ui=3.501143337144457, est=4.023756980679436, details={'was_impossible': False}),\n",
       " Prediction(uid=611, iid=304, r_ui=3.501143337144457, est=4.023756980679436, details={'was_impossible': False}),\n",
       " Prediction(uid=611, iid=305, r_ui=3.501143337144457, est=4.023756980679436, details={'was_impossible': False}),\n",
       " Prediction(uid=611, iid=306, r_ui=3.501143337144457, est=4.023756980679436, details={'was_impossible': False}),\n",
       " Prediction(uid=611, iid=307, r_ui=3.501143337144457, est=4.023756980679436, details={'was_impossible': False}),\n",
       " Prediction(uid=611, iid=308, r_ui=3.501143337144457, est=4.023756980679436, details={'was_impossible': False}),\n",
       " Prediction(uid=611, iid=310, r_ui=3.501143337144457, est=4.023756980679436, details={'was_impossible': False}),\n",
       " Prediction(uid=611, iid=311, r_ui=3.501143337144457, est=4.023756980679436, details={'was_impossible': False}),\n",
       " Prediction(uid=611, iid=312, r_ui=3.501143337144457, est=4.023756980679436, details={'was_impossible': False}),\n",
       " Prediction(uid=611, iid=313, r_ui=3.501143337144457, est=4.023756980679436, details={'was_impossible': False}),\n",
       " Prediction(uid=611, iid=314, r_ui=3.501143337144457, est=4.023756980679436, details={'was_impossible': False}),\n",
       " Prediction(uid=611, iid=315, r_ui=3.501143337144457, est=4.023756980679436, details={'was_impossible': False}),\n",
       " Prediction(uid=611, iid=316, r_ui=3.501143337144457, est=4.023756980679436, details={'was_impossible': False}),\n",
       " Prediction(uid=611, iid=317, r_ui=3.501143337144457, est=4.023756980679436, details={'was_impossible': False}),\n",
       " Prediction(uid=611, iid=318, r_ui=3.501143337144457, est=4.023756980679436, details={'was_impossible': False}),\n",
       " Prediction(uid=611, iid=319, r_ui=3.501143337144457, est=4.023756980679436, details={'was_impossible': False}),\n",
       " Prediction(uid=611, iid=320, r_ui=3.501143337144457, est=4.023756980679436, details={'was_impossible': False}),\n",
       " Prediction(uid=611, iid=321, r_ui=3.501143337144457, est=4.023756980679436, details={'was_impossible': False}),\n",
       " Prediction(uid=611, iid=322, r_ui=3.501143337144457, est=4.023756980679436, details={'was_impossible': False}),\n",
       " Prediction(uid=611, iid=324, r_ui=3.501143337144457, est=4.023756980679436, details={'was_impossible': False}),\n",
       " Prediction(uid=611, iid=325, r_ui=3.501143337144457, est=4.023756980679436, details={'was_impossible': False}),\n",
       " Prediction(uid=611, iid=326, r_ui=3.501143337144457, est=4.023756980679436, details={'was_impossible': False}),\n",
       " Prediction(uid=611, iid=327, r_ui=3.501143337144457, est=4.023756980679436, details={'was_impossible': False}),\n",
       " Prediction(uid=611, iid=328, r_ui=3.501143337144457, est=4.023756980679436, details={'was_impossible': False}),\n",
       " Prediction(uid=611, iid=329, r_ui=3.501143337144457, est=4.023756980679436, details={'was_impossible': False}),\n",
       " Prediction(uid=611, iid=330, r_ui=3.501143337144457, est=4.023756980679436, details={'was_impossible': False}),\n",
       " Prediction(uid=611, iid=331, r_ui=3.501143337144457, est=4.023756980679436, details={'was_impossible': False}),\n",
       " Prediction(uid=611, iid=332, r_ui=3.501143337144457, est=4.023756980679436, details={'was_impossible': False}),\n",
       " Prediction(uid=611, iid=333, r_ui=3.501143337144457, est=4.023756980679436, details={'was_impossible': False}),\n",
       " Prediction(uid=611, iid=334, r_ui=3.501143337144457, est=4.023756980679436, details={'was_impossible': False}),\n",
       " Prediction(uid=611, iid=335, r_ui=3.501143337144457, est=4.023756980679436, details={'was_impossible': False}),\n",
       " Prediction(uid=611, iid=336, r_ui=3.501143337144457, est=4.023756980679436, details={'was_impossible': False}),\n",
       " Prediction(uid=611, iid=337, r_ui=3.501143337144457, est=4.023756980679436, details={'was_impossible': False}),\n",
       " Prediction(uid=611, iid=338, r_ui=3.501143337144457, est=4.023756980679436, details={'was_impossible': False}),\n",
       " Prediction(uid=611, iid=339, r_ui=3.501143337144457, est=4.023756980679436, details={'was_impossible': False}),\n",
       " Prediction(uid=611, iid=340, r_ui=3.501143337144457, est=4.023756980679436, details={'was_impossible': False}),\n",
       " Prediction(uid=611, iid=341, r_ui=3.501143337144457, est=4.023756980679436, details={'was_impossible': False}),\n",
       " Prediction(uid=611, iid=342, r_ui=3.501143337144457, est=4.023756980679436, details={'was_impossible': False}),\n",
       " Prediction(uid=611, iid=343, r_ui=3.501143337144457, est=4.023756980679436, details={'was_impossible': False}),\n",
       " Prediction(uid=611, iid=344, r_ui=3.501143337144457, est=4.023756980679436, details={'was_impossible': False}),\n",
       " Prediction(uid=611, iid=345, r_ui=3.501143337144457, est=4.023756980679436, details={'was_impossible': False}),\n",
       " Prediction(uid=611, iid=346, r_ui=3.501143337144457, est=4.023756980679436, details={'was_impossible': False}),\n",
       " Prediction(uid=611, iid=347, r_ui=3.501143337144457, est=4.023756980679436, details={'was_impossible': False}),\n",
       " Prediction(uid=611, iid=348, r_ui=3.501143337144457, est=4.023756980679436, details={'was_impossible': False}),\n",
       " Prediction(uid=611, iid=349, r_ui=3.501143337144457, est=4.023756980679436, details={'was_impossible': False}),\n",
       " Prediction(uid=611, iid=350, r_ui=3.501143337144457, est=4.023756980679436, details={'was_impossible': False}),\n",
       " Prediction(uid=611, iid=351, r_ui=3.501143337144457, est=4.023756980679436, details={'was_impossible': False}),\n",
       " Prediction(uid=611, iid=352, r_ui=3.501143337144457, est=4.023756980679436, details={'was_impossible': False}),\n",
       " Prediction(uid=611, iid=353, r_ui=3.501143337144457, est=4.023756980679436, details={'was_impossible': False}),\n",
       " Prediction(uid=611, iid=354, r_ui=3.501143337144457, est=4.023756980679436, details={'was_impossible': False}),\n",
       " Prediction(uid=611, iid=355, r_ui=3.501143337144457, est=4.023756980679436, details={'was_impossible': False}),\n",
       " Prediction(uid=611, iid=357, r_ui=3.501143337144457, est=4.023756980679436, details={'was_impossible': False}),\n",
       " Prediction(uid=611, iid=358, r_ui=3.501143337144457, est=4.023756980679436, details={'was_impossible': False}),\n",
       " Prediction(uid=611, iid=359, r_ui=3.501143337144457, est=4.023756980679436, details={'was_impossible': False}),\n",
       " Prediction(uid=611, iid=360, r_ui=3.501143337144457, est=4.023756980679436, details={'was_impossible': False}),\n",
       " Prediction(uid=611, iid=361, r_ui=3.501143337144457, est=4.023756980679436, details={'was_impossible': False}),\n",
       " Prediction(uid=611, iid=362, r_ui=3.501143337144457, est=4.023756980679436, details={'was_impossible': False}),\n",
       " Prediction(uid=611, iid=363, r_ui=3.501143337144457, est=4.023756980679436, details={'was_impossible': False}),\n",
       " Prediction(uid=611, iid=364, r_ui=3.501143337144457, est=4.023756980679436, details={'was_impossible': False}),\n",
       " Prediction(uid=611, iid=365, r_ui=3.501143337144457, est=4.023756980679436, details={'was_impossible': False}),\n",
       " Prediction(uid=611, iid=366, r_ui=3.501143337144457, est=4.023756980679436, details={'was_impossible': False}),\n",
       " Prediction(uid=611, iid=367, r_ui=3.501143337144457, est=4.023756980679436, details={'was_impossible': False}),\n",
       " Prediction(uid=611, iid=368, r_ui=3.501143337144457, est=4.023756980679436, details={'was_impossible': False}),\n",
       " Prediction(uid=611, iid=369, r_ui=3.501143337144457, est=4.023756980679436, details={'was_impossible': False}),\n",
       " Prediction(uid=611, iid=370, r_ui=3.501143337144457, est=4.023756980679436, details={'was_impossible': False}),\n",
       " Prediction(uid=611, iid=371, r_ui=3.501143337144457, est=4.023756980679436, details={'was_impossible': False}),\n",
       " Prediction(uid=611, iid=372, r_ui=3.501143337144457, est=4.023756980679436, details={'was_impossible': False}),\n",
       " Prediction(uid=611, iid=373, r_ui=3.501143337144457, est=4.023756980679436, details={'was_impossible': False}),\n",
       " Prediction(uid=611, iid=374, r_ui=3.501143337144457, est=4.023756980679436, details={'was_impossible': False}),\n",
       " Prediction(uid=611, iid=376, r_ui=3.501143337144457, est=4.023756980679436, details={'was_impossible': False}),\n",
       " Prediction(uid=611, iid=377, r_ui=3.501143337144457, est=4.023756980679436, details={'was_impossible': False}),\n",
       " Prediction(uid=611, iid=378, r_ui=3.501143337144457, est=4.023756980679436, details={'was_impossible': False}),\n",
       " Prediction(uid=611, iid=379, r_ui=3.501143337144457, est=4.023756980679436, details={'was_impossible': False}),\n",
       " Prediction(uid=611, iid=380, r_ui=3.501143337144457, est=4.023756980679436, details={'was_impossible': False}),\n",
       " Prediction(uid=611, iid=381, r_ui=3.501143337144457, est=4.023756980679436, details={'was_impossible': False}),\n",
       " Prediction(uid=611, iid=382, r_ui=3.501143337144457, est=4.023756980679436, details={'was_impossible': False}),\n",
       " Prediction(uid=611, iid=383, r_ui=3.501143337144457, est=4.023756980679436, details={'was_impossible': False}),\n",
       " Prediction(uid=611, iid=384, r_ui=3.501143337144457, est=4.023756980679436, details={'was_impossible': False}),\n",
       " Prediction(uid=611, iid=385, r_ui=3.501143337144457, est=4.023756980679436, details={'was_impossible': False}),\n",
       " Prediction(uid=611, iid=386, r_ui=3.501143337144457, est=4.023756980679436, details={'was_impossible': False}),\n",
       " Prediction(uid=611, iid=387, r_ui=3.501143337144457, est=4.023756980679436, details={'was_impossible': False}),\n",
       " Prediction(uid=611, iid=388, r_ui=3.501143337144457, est=4.023756980679436, details={'was_impossible': False}),\n",
       " Prediction(uid=611, iid=389, r_ui=3.501143337144457, est=4.023756980679436, details={'was_impossible': False}),\n",
       " Prediction(uid=611, iid=390, r_ui=3.501143337144457, est=4.023756980679436, details={'was_impossible': False}),\n",
       " Prediction(uid=611, iid=391, r_ui=3.501143337144457, est=4.023756980679436, details={'was_impossible': False}),\n",
       " Prediction(uid=611, iid=393, r_ui=3.501143337144457, est=4.023756980679436, details={'was_impossible': False}),\n",
       " Prediction(uid=611, iid=405, r_ui=3.501143337144457, est=4.023756980679436, details={'was_impossible': False}),\n",
       " Prediction(uid=611, iid=406, r_ui=3.501143337144457, est=4.023756980679436, details={'was_impossible': False}),\n",
       " Prediction(uid=611, iid=407, r_ui=3.501143337144457, est=4.023756980679436, details={'was_impossible': False}),\n",
       " Prediction(uid=611, iid=408, r_ui=3.501143337144457, est=4.023756980679436, details={'was_impossible': False}),\n",
       " Prediction(uid=611, iid=409, r_ui=3.501143337144457, est=4.023756980679436, details={'was_impossible': False}),\n",
       " Prediction(uid=611, iid=410, r_ui=3.501143337144457, est=4.023756980679436, details={'was_impossible': False}),\n",
       " Prediction(uid=611, iid=412, r_ui=3.501143337144457, est=4.023756980679436, details={'was_impossible': False}),\n",
       " Prediction(uid=611, iid=413, r_ui=3.501143337144457, est=4.023756980679436, details={'was_impossible': False}),\n",
       " Prediction(uid=611, iid=414, r_ui=3.501143337144457, est=4.023756980679436, details={'was_impossible': False}),\n",
       " Prediction(uid=611, iid=415, r_ui=3.501143337144457, est=4.023756980679436, details={'was_impossible': False}),\n",
       " Prediction(uid=611, iid=416, r_ui=3.501143337144457, est=4.023756980679436, details={'was_impossible': False}),\n",
       " Prediction(uid=611, iid=417, r_ui=3.501143337144457, est=4.023756980679436, details={'was_impossible': False}),\n",
       " Prediction(uid=611, iid=418, r_ui=3.501143337144457, est=4.023756980679436, details={'was_impossible': False}),\n",
       " Prediction(uid=611, iid=419, r_ui=3.501143337144457, est=4.023756980679436, details={'was_impossible': False}),\n",
       " Prediction(uid=611, iid=420, r_ui=3.501143337144457, est=4.023756980679436, details={'was_impossible': False}),\n",
       " Prediction(uid=611, iid=421, r_ui=3.501143337144457, est=4.023756980679436, details={'was_impossible': False}),\n",
       " Prediction(uid=611, iid=422, r_ui=3.501143337144457, est=4.023756980679436, details={'was_impossible': False}),\n",
       " Prediction(uid=611, iid=423, r_ui=3.501143337144457, est=4.023756980679436, details={'was_impossible': False}),\n",
       " Prediction(uid=611, iid=424, r_ui=3.501143337144457, est=4.023756980679436, details={'was_impossible': False}),\n",
       " Prediction(uid=611, iid=425, r_ui=3.501143337144457, est=4.023756980679436, details={'was_impossible': False}),\n",
       " Prediction(uid=611, iid=426, r_ui=3.501143337144457, est=4.023756980679436, details={'was_impossible': False}),\n",
       " Prediction(uid=611, iid=427, r_ui=3.501143337144457, est=4.023756980679436, details={'was_impossible': False}),\n",
       " Prediction(uid=611, iid=428, r_ui=3.501143337144457, est=4.023756980679436, details={'was_impossible': False}),\n",
       " Prediction(uid=611, iid=429, r_ui=3.501143337144457, est=4.023756980679436, details={'was_impossible': False}),\n",
       " Prediction(uid=611, iid=430, r_ui=3.501143337144457, est=4.023756980679436, details={'was_impossible': False}),\n",
       " Prediction(uid=611, iid=431, r_ui=3.501143337144457, est=4.023756980679436, details={'was_impossible': False}),\n",
       " Prediction(uid=611, iid=432, r_ui=3.501143337144457, est=4.023756980679436, details={'was_impossible': False}),\n",
       " Prediction(uid=611, iid=433, r_ui=3.501143337144457, est=4.023756980679436, details={'was_impossible': False}),\n",
       " Prediction(uid=611, iid=434, r_ui=3.501143337144457, est=4.023756980679436, details={'was_impossible': False}),\n",
       " Prediction(uid=611, iid=435, r_ui=3.501143337144457, est=4.023756980679436, details={'was_impossible': False}),\n",
       " Prediction(uid=611, iid=436, r_ui=3.501143337144457, est=4.023756980679436, details={'was_impossible': False}),\n",
       " Prediction(uid=611, iid=437, r_ui=3.501143337144457, est=4.023756980679436, details={'was_impossible': False}),\n",
       " Prediction(uid=611, iid=438, r_ui=3.501143337144457, est=4.023756980679436, details={'was_impossible': False}),\n",
       " Prediction(uid=611, iid=440, r_ui=3.501143337144457, est=4.023756980679436, details={'was_impossible': False}),\n",
       " Prediction(uid=611, iid=441, r_ui=3.501143337144457, est=4.023756980679436, details={'was_impossible': False}),\n",
       " Prediction(uid=611, iid=442, r_ui=3.501143337144457, est=4.023756980679436, details={'was_impossible': False}),\n",
       " Prediction(uid=611, iid=444, r_ui=3.501143337144457, est=4.023756980679436, details={'was_impossible': False}),\n",
       " Prediction(uid=611, iid=445, r_ui=3.501143337144457, est=4.023756980679436, details={'was_impossible': False}),\n",
       " Prediction(uid=611, iid=446, r_ui=3.501143337144457, est=4.023756980679436, details={'was_impossible': False}),\n",
       " Prediction(uid=611, iid=448, r_ui=3.501143337144457, est=4.023756980679436, details={'was_impossible': False}),\n",
       " Prediction(uid=611, iid=449, r_ui=3.501143337144457, est=4.023756980679436, details={'was_impossible': False}),\n",
       " Prediction(uid=611, iid=450, r_ui=3.501143337144457, est=4.023756980679436, details={'was_impossible': False}),\n",
       " Prediction(uid=611, iid=451, r_ui=3.501143337144457, est=4.023756980679436, details={'was_impossible': False}),\n",
       " Prediction(uid=611, iid=452, r_ui=3.501143337144457, est=4.023756980679436, details={'was_impossible': False}),\n",
       " Prediction(uid=611, iid=453, r_ui=3.501143337144457, est=4.023756980679436, details={'was_impossible': False}),\n",
       " Prediction(uid=611, iid=454, r_ui=3.501143337144457, est=4.023756980679436, details={'was_impossible': False}),\n",
       " Prediction(uid=611, iid=455, r_ui=3.501143337144457, est=4.023756980679436, details={'was_impossible': False}),\n",
       " Prediction(uid=611, iid=456, r_ui=3.501143337144457, est=4.023756980679436, details={'was_impossible': False}),\n",
       " Prediction(uid=611, iid=457, r_ui=3.501143337144457, est=4.023756980679436, details={'was_impossible': False}),\n",
       " Prediction(uid=611, iid=458, r_ui=3.501143337144457, est=4.023756980679436, details={'was_impossible': False}),\n",
       " Prediction(uid=611, iid=459, r_ui=3.501143337144457, est=4.023756980679436, details={'was_impossible': False}),\n",
       " Prediction(uid=611, iid=460, r_ui=3.501143337144457, est=4.023756980679436, details={'was_impossible': False}),\n",
       " Prediction(uid=611, iid=461, r_ui=3.501143337144457, est=4.023756980679436, details={'was_impossible': False}),\n",
       " Prediction(uid=611, iid=464, r_ui=3.501143337144457, est=4.023756980679436, details={'was_impossible': False}),\n",
       " Prediction(uid=611, iid=466, r_ui=3.501143337144457, est=4.023756980679436, details={'was_impossible': False}),\n",
       " Prediction(uid=611, iid=467, r_ui=3.501143337144457, est=4.023756980679436, details={'was_impossible': False}),\n",
       " Prediction(uid=611, iid=468, r_ui=3.501143337144457, est=4.023756980679436, details={'was_impossible': False}),\n",
       " Prediction(uid=611, iid=469, r_ui=3.501143337144457, est=4.023756980679436, details={'was_impossible': False}),\n",
       " Prediction(uid=611, iid=470, r_ui=3.501143337144457, est=4.023756980679436, details={'was_impossible': False}),\n",
       " Prediction(uid=611, iid=471, r_ui=3.501143337144457, est=4.023756980679436, details={'was_impossible': False}),\n",
       " Prediction(uid=611, iid=472, r_ui=3.501143337144457, est=4.023756980679436, details={'was_impossible': False}),\n",
       " Prediction(uid=611, iid=473, r_ui=3.501143337144457, est=4.023756980679436, details={'was_impossible': False}),\n",
       " Prediction(uid=611, iid=474, r_ui=3.501143337144457, est=4.023756980679436, details={'was_impossible': False}),\n",
       " Prediction(uid=611, iid=475, r_ui=3.501143337144457, est=4.023756980679436, details={'was_impossible': False}),\n",
       " Prediction(uid=611, iid=476, r_ui=3.501143337144457, est=4.023756980679436, details={'was_impossible': False}),\n",
       " Prediction(uid=611, iid=477, r_ui=3.501143337144457, est=4.023756980679436, details={'was_impossible': False}),\n",
       " Prediction(uid=611, iid=478, r_ui=3.501143337144457, est=4.023756980679436, details={'was_impossible': False}),\n",
       " Prediction(uid=611, iid=479, r_ui=3.501143337144457, est=4.023756980679436, details={'was_impossible': False}),\n",
       " Prediction(uid=611, iid=480, r_ui=3.501143337144457, est=4.023756980679436, details={'was_impossible': False}),\n",
       " Prediction(uid=611, iid=481, r_ui=3.501143337144457, est=4.023756980679436, details={'was_impossible': False}),\n",
       " Prediction(uid=611, iid=482, r_ui=3.501143337144457, est=4.023756980679436, details={'was_impossible': False}),\n",
       " Prediction(uid=611, iid=484, r_ui=3.501143337144457, est=4.023756980679436, details={'was_impossible': False}),\n",
       " Prediction(uid=611, iid=485, r_ui=3.501143337144457, est=4.023756980679436, details={'was_impossible': False}),\n",
       " Prediction(uid=611, iid=486, r_ui=3.501143337144457, est=4.023756980679436, details={'was_impossible': False}),\n",
       " Prediction(uid=611, iid=487, r_ui=3.501143337144457, est=4.023756980679436, details={'was_impossible': False}),\n",
       " Prediction(uid=611, iid=488, r_ui=3.501143337144457, est=4.023756980679436, details={'was_impossible': False}),\n",
       " Prediction(uid=611, iid=489, r_ui=3.501143337144457, est=4.023756980679436, details={'was_impossible': False}),\n",
       " Prediction(uid=611, iid=490, r_ui=3.501143337144457, est=4.023756980679436, details={'was_impossible': False}),\n",
       " Prediction(uid=611, iid=491, r_ui=3.501143337144457, est=4.023756980679436, details={'was_impossible': False}),\n",
       " Prediction(uid=611, iid=492, r_ui=3.501143337144457, est=4.023756980679436, details={'was_impossible': False}),\n",
       " Prediction(uid=611, iid=493, r_ui=3.501143337144457, est=4.023756980679436, details={'was_impossible': False}),\n",
       " Prediction(uid=611, iid=494, r_ui=3.501143337144457, est=4.023756980679436, details={'was_impossible': False}),\n",
       " Prediction(uid=611, iid=495, r_ui=3.501143337144457, est=4.023756980679436, details={'was_impossible': False}),\n",
       " Prediction(uid=611, iid=496, r_ui=3.501143337144457, est=4.023756980679436, details={'was_impossible': False}),\n",
       " Prediction(uid=611, iid=497, r_ui=3.501143337144457, est=4.023756980679436, details={'was_impossible': False}),\n",
       " Prediction(uid=611, iid=499, r_ui=3.501143337144457, est=4.023756980679436, details={'was_impossible': False}),\n",
       " Prediction(uid=611, iid=500, r_ui=3.501143337144457, est=4.023756980679436, details={'was_impossible': False}),\n",
       " Prediction(uid=611, iid=501, r_ui=3.501143337144457, est=4.023756980679436, details={'was_impossible': False}),\n",
       " Prediction(uid=611, iid=502, r_ui=3.501143337144457, est=4.023756980679436, details={'was_impossible': False}),\n",
       " Prediction(uid=611, iid=504, r_ui=3.501143337144457, est=4.023756980679436, details={'was_impossible': False}),\n",
       " Prediction(uid=611, iid=505, r_ui=3.501143337144457, est=4.023756980679436, details={'was_impossible': False}),\n",
       " Prediction(uid=611, iid=506, r_ui=3.501143337144457, est=4.023756980679436, details={'was_impossible': False}),\n",
       " Prediction(uid=611, iid=507, r_ui=3.501143337144457, est=4.023756980679436, details={'was_impossible': False}),\n",
       " Prediction(uid=611, iid=508, r_ui=3.501143337144457, est=4.023756980679436, details={'was_impossible': False}),\n",
       " Prediction(uid=611, iid=509, r_ui=3.501143337144457, est=4.023756980679436, details={'was_impossible': False}),\n",
       " Prediction(uid=611, iid=510, r_ui=3.501143337144457, est=4.023756980679436, details={'was_impossible': False}),\n",
       " Prediction(uid=611, iid=511, r_ui=3.501143337144457, est=4.023756980679436, details={'was_impossible': False}),\n",
       " Prediction(uid=611, iid=512, r_ui=3.501143337144457, est=4.023756980679436, details={'was_impossible': False}),\n",
       " Prediction(uid=611, iid=513, r_ui=3.501143337144457, est=4.023756980679436, details={'was_impossible': False}),\n",
       " Prediction(uid=611, iid=514, r_ui=3.501143337144457, est=4.023756980679436, details={'was_impossible': False}),\n",
       " Prediction(uid=611, iid=515, r_ui=3.501143337144457, est=4.023756980679436, details={'was_impossible': False}),\n",
       " Prediction(uid=611, iid=516, r_ui=3.501143337144457, est=4.023756980679436, details={'was_impossible': False}),\n",
       " Prediction(uid=611, iid=517, r_ui=3.501143337144457, est=4.023756980679436, details={'was_impossible': False}),\n",
       " Prediction(uid=611, iid=518, r_ui=3.501143337144457, est=4.023756980679436, details={'was_impossible': False}),\n",
       " Prediction(uid=611, iid=519, r_ui=3.501143337144457, est=4.023756980679436, details={'was_impossible': False}),\n",
       " Prediction(uid=611, iid=520, r_ui=3.501143337144457, est=4.023756980679436, details={'was_impossible': False}),\n",
       " Prediction(uid=611, iid=521, r_ui=3.501143337144457, est=4.023756980679436, details={'was_impossible': False}),\n",
       " Prediction(uid=611, iid=522, r_ui=3.501143337144457, est=4.023756980679436, details={'was_impossible': False}),\n",
       " Prediction(uid=611, iid=523, r_ui=3.501143337144457, est=4.023756980679436, details={'was_impossible': False}),\n",
       " Prediction(uid=611, iid=524, r_ui=3.501143337144457, est=4.023756980679436, details={'was_impossible': False}),\n",
       " Prediction(uid=611, iid=526, r_ui=3.501143337144457, est=4.023756980679436, details={'was_impossible': False}),\n",
       " Prediction(uid=611, iid=527, r_ui=3.501143337144457, est=4.023756980679436, details={'was_impossible': False}),\n",
       " Prediction(uid=611, iid=528, r_ui=3.501143337144457, est=4.023756980679436, details={'was_impossible': False}),\n",
       " Prediction(uid=611, iid=529, r_ui=3.501143337144457, est=4.023756980679436, details={'was_impossible': False}),\n",
       " Prediction(uid=611, iid=531, r_ui=3.501143337144457, est=4.023756980679436, details={'was_impossible': False}),\n",
       " Prediction(uid=611, iid=532, r_ui=3.501143337144457, est=4.023756980679436, details={'was_impossible': False}),\n",
       " Prediction(uid=611, iid=533, r_ui=3.501143337144457, est=4.023756980679436, details={'was_impossible': False}),\n",
       " Prediction(uid=611, iid=534, r_ui=3.501143337144457, est=4.023756980679436, details={'was_impossible': False}),\n",
       " Prediction(uid=611, iid=535, r_ui=3.501143337144457, est=4.023756980679436, details={'was_impossible': False}),\n",
       " Prediction(uid=611, iid=536, r_ui=3.501143337144457, est=4.023756980679436, details={'was_impossible': False}),\n",
       " Prediction(uid=611, iid=537, r_ui=3.501143337144457, est=4.023756980679436, details={'was_impossible': False}),\n",
       " Prediction(uid=611, iid=538, r_ui=3.501143337144457, est=4.023756980679436, details={'was_impossible': False}),\n",
       " Prediction(uid=611, iid=539, r_ui=3.501143337144457, est=4.023756980679436, details={'was_impossible': False}),\n",
       " Prediction(uid=611, iid=540, r_ui=3.501143337144457, est=4.023756980679436, details={'was_impossible': False}),\n",
       " Prediction(uid=611, iid=541, r_ui=3.501143337144457, est=4.023756980679436, details={'was_impossible': False}),\n",
       " Prediction(uid=611, iid=542, r_ui=3.501143337144457, est=4.023756980679436, details={'was_impossible': False}),\n",
       " Prediction(uid=611, iid=543, r_ui=3.501143337144457, est=4.023756980679436, details={'was_impossible': False}),\n",
       " Prediction(uid=611, iid=544, r_ui=3.501143337144457, est=4.023756980679436, details={'was_impossible': False}),\n",
       " Prediction(uid=611, iid=546, r_ui=3.501143337144457, est=4.023756980679436, details={'was_impossible': False}),\n",
       " Prediction(uid=611, iid=547, r_ui=3.501143337144457, est=4.023756980679436, details={'was_impossible': False}),\n",
       " Prediction(uid=611, iid=548, r_ui=3.501143337144457, est=4.023756980679436, details={'was_impossible': False}),\n",
       " Prediction(uid=611, iid=549, r_ui=3.501143337144457, est=4.023756980679436, details={'was_impossible': False}),\n",
       " Prediction(uid=611, iid=550, r_ui=3.501143337144457, est=4.023756980679436, details={'was_impossible': False}),\n",
       " Prediction(uid=611, iid=551, r_ui=3.501143337144457, est=4.023756980679436, details={'was_impossible': False}),\n",
       " Prediction(uid=611, iid=552, r_ui=3.501143337144457, est=4.023756980679436, details={'was_impossible': False}),\n",
       " Prediction(uid=611, iid=553, r_ui=3.501143337144457, est=4.023756980679436, details={'was_impossible': False}),\n",
       " Prediction(uid=611, iid=555, r_ui=3.501143337144457, est=4.023756980679436, details={'was_impossible': False}),\n",
       " Prediction(uid=611, iid=556, r_ui=3.501143337144457, est=4.023756980679436, details={'was_impossible': False}),\n",
       " Prediction(uid=611, iid=558, r_ui=3.501143337144457, est=4.023756980679436, details={'was_impossible': False}),\n",
       " Prediction(uid=611, iid=562, r_ui=3.501143337144457, est=4.023756980679436, details={'was_impossible': False}),\n",
       " Prediction(uid=611, iid=563, r_ui=3.501143337144457, est=4.023756980679436, details={'was_impossible': False}),\n",
       " Prediction(uid=611, iid=564, r_ui=3.501143337144457, est=4.023756980679436, details={'was_impossible': False}),\n",
       " Prediction(uid=611, iid=567, r_ui=3.501143337144457, est=4.023756980679436, details={'was_impossible': False}),\n",
       " Prediction(uid=611, iid=568, r_ui=3.501143337144457, est=4.023756980679436, details={'was_impossible': False}),\n",
       " Prediction(uid=611, iid=569, r_ui=3.501143337144457, est=4.023756980679436, details={'was_impossible': False}),\n",
       " Prediction(uid=611, iid=573, r_ui=3.501143337144457, est=4.023756980679436, details={'was_impossible': False}),\n",
       " Prediction(uid=611, iid=574, r_ui=3.501143337144457, est=4.023756980679436, details={'was_impossible': False}),\n",
       " Prediction(uid=611, iid=575, r_ui=3.501143337144457, est=4.023756980679436, details={'was_impossible': False}),\n",
       " Prediction(uid=611, iid=577, r_ui=3.501143337144457, est=4.023756980679436, details={'was_impossible': False}),\n",
       " Prediction(uid=611, iid=579, r_ui=3.501143337144457, est=4.023756980679436, details={'was_impossible': False}),\n",
       " Prediction(uid=611, iid=580, r_ui=3.501143337144457, est=4.023756980679436, details={'was_impossible': False}),\n",
       " Prediction(uid=611, iid=581, r_ui=3.501143337144457, est=4.023756980679436, details={'was_impossible': False}),\n",
       " Prediction(uid=611, iid=583, r_ui=3.501143337144457, est=4.023756980679436, details={'was_impossible': False}),\n",
       " Prediction(uid=611, iid=585, r_ui=3.501143337144457, est=4.023756980679436, details={'was_impossible': False}),\n",
       " Prediction(uid=611, iid=586, r_ui=3.501143337144457, est=4.023756980679436, details={'was_impossible': False}),\n",
       " Prediction(uid=611, iid=587, r_ui=3.501143337144457, est=4.023756980679436, details={'was_impossible': False}),\n",
       " Prediction(uid=611, iid=588, r_ui=3.501143337144457, est=4.023756980679436, details={'was_impossible': False}),\n",
       " Prediction(uid=611, iid=589, r_ui=3.501143337144457, est=4.023756980679436, details={'was_impossible': False}),\n",
       " Prediction(uid=611, iid=590, r_ui=3.501143337144457, est=4.023756980679436, details={'was_impossible': False}),\n",
       " Prediction(uid=611, iid=592, r_ui=3.501143337144457, est=4.023756980679436, details={'was_impossible': False}),\n",
       " Prediction(uid=611, iid=593, r_ui=3.501143337144457, est=4.023756980679436, details={'was_impossible': False}),\n",
       " Prediction(uid=611, iid=594, r_ui=3.501143337144457, est=4.023756980679436, details={'was_impossible': False}),\n",
       " Prediction(uid=611, iid=595, r_ui=3.501143337144457, est=4.023756980679436, details={'was_impossible': False}),\n",
       " Prediction(uid=611, iid=596, r_ui=3.501143337144457, est=4.023756980679436, details={'was_impossible': False}),\n",
       " Prediction(uid=611, iid=597, r_ui=3.501143337144457, est=4.023756980679436, details={'was_impossible': False}),\n",
       " Prediction(uid=611, iid=599, r_ui=3.501143337144457, est=4.023756980679436, details={'was_impossible': False}),\n",
       " Prediction(uid=611, iid=600, r_ui=3.501143337144457, est=4.023756980679436, details={'was_impossible': False}),\n",
       " Prediction(uid=611, iid=602, r_ui=3.501143337144457, est=4.023756980679436, details={'was_impossible': False}),\n",
       " Prediction(uid=611, iid=605, r_ui=3.501143337144457, est=4.023756980679436, details={'was_impossible': False}),\n",
       " Prediction(uid=611, iid=606, r_ui=3.501143337144457, est=4.023756980679436, details={'was_impossible': False}),\n",
       " Prediction(uid=611, iid=608, r_ui=3.501143337144457, est=4.023756980679436, details={'was_impossible': False}),\n",
       " Prediction(uid=611, iid=609, r_ui=3.501143337144457, est=4.023756980679436, details={'was_impossible': False}),\n",
       " Prediction(uid=611, iid=610, r_ui=3.501143337144457, est=4.023756980679436, details={'was_impossible': False}),\n",
       " Prediction(uid=611, iid=611, r_ui=3.501143337144457, est=4.023756980679436, details={'was_impossible': False}),\n",
       " Prediction(uid=611, iid=612, r_ui=3.501143337144457, est=4.023756980679436, details={'was_impossible': False}),\n",
       " Prediction(uid=611, iid=613, r_ui=3.501143337144457, est=4.023756980679436, details={'was_impossible': False}),\n",
       " Prediction(uid=611, iid=615, r_ui=3.501143337144457, est=4.023756980679436, details={'was_impossible': False}),\n",
       " Prediction(uid=611, iid=616, r_ui=3.501143337144457, est=4.023756980679436, details={'was_impossible': False}),\n",
       " Prediction(uid=611, iid=617, r_ui=3.501143337144457, est=4.023756980679436, details={'was_impossible': False}),\n",
       " Prediction(uid=611, iid=618, r_ui=3.501143337144457, est=4.023756980679436, details={'was_impossible': False}),\n",
       " Prediction(uid=611, iid=619, r_ui=3.501143337144457, est=4.023756980679436, details={'was_impossible': False}),\n",
       " Prediction(uid=611, iid=626, r_ui=3.501143337144457, est=4.023756980679436, details={'was_impossible': False}),\n",
       " Prediction(uid=611, iid=627, r_ui=3.501143337144457, est=4.023756980679436, details={'was_impossible': False}),\n",
       " Prediction(uid=611, iid=628, r_ui=3.501143337144457, est=4.023756980679436, details={'was_impossible': False}),\n",
       " Prediction(uid=611, iid=631, r_ui=3.501143337144457, est=4.023756980679436, details={'was_impossible': False}),\n",
       " Prediction(uid=611, iid=632, r_ui=3.501143337144457, est=4.023756980679436, details={'was_impossible': False}),\n",
       " Prediction(uid=611, iid=633, r_ui=3.501143337144457, est=4.023756980679436, details={'was_impossible': False}),\n",
       " Prediction(uid=611, iid=634, r_ui=3.501143337144457, est=4.023756980679436, details={'was_impossible': False}),\n",
       " Prediction(uid=611, iid=635, r_ui=3.501143337144457, est=4.023756980679436, details={'was_impossible': False}),\n",
       " Prediction(uid=611, iid=636, r_ui=3.501143337144457, est=4.023756980679436, details={'was_impossible': False}),\n",
       " Prediction(uid=611, iid=637, r_ui=3.501143337144457, est=4.023756980679436, details={'was_impossible': False}),\n",
       " Prediction(uid=611, iid=638, r_ui=3.501143337144457, est=4.023756980679436, details={'was_impossible': False}),\n",
       " Prediction(uid=611, iid=639, r_ui=3.501143337144457, est=4.023756980679436, details={'was_impossible': False}),\n",
       " Prediction(uid=611, iid=640, r_ui=3.501143337144457, est=4.023756980679436, details={'was_impossible': False}),\n",
       " Prediction(uid=611, iid=645, r_ui=3.501143337144457, est=4.023756980679436, details={'was_impossible': False}),\n",
       " Prediction(uid=611, iid=647, r_ui=3.501143337144457, est=4.023756980679436, details={'was_impossible': False}),\n",
       " Prediction(uid=611, iid=648, r_ui=3.501143337144457, est=4.023756980679436, details={'was_impossible': False}),\n",
       " Prediction(uid=611, iid=649, r_ui=3.501143337144457, est=4.023756980679436, details={'was_impossible': False}),\n",
       " Prediction(uid=611, iid=650, r_ui=3.501143337144457, est=4.023756980679436, details={'was_impossible': False}),\n",
       " Prediction(uid=611, iid=653, r_ui=3.501143337144457, est=4.023756980679436, details={'was_impossible': False}),\n",
       " Prediction(uid=611, iid=656, r_ui=3.501143337144457, est=4.023756980679436, details={'was_impossible': False}),\n",
       " Prediction(uid=611, iid=661, r_ui=3.501143337144457, est=4.023756980679436, details={'was_impossible': False}),\n",
       " Prediction(uid=611, iid=662, r_ui=3.501143337144457, est=4.023756980679436, details={'was_impossible': False}),\n",
       " Prediction(uid=611, iid=663, r_ui=3.501143337144457, est=4.023756980679436, details={'was_impossible': False}),\n",
       " Prediction(uid=611, iid=665, r_ui=3.501143337144457, est=4.023756980679436, details={'was_impossible': False}),\n",
       " Prediction(uid=611, iid=667, r_ui=3.501143337144457, est=4.023756980679436, details={'was_impossible': False}),\n",
       " Prediction(uid=611, iid=668, r_ui=3.501143337144457, est=4.023756980679436, details={'was_impossible': False}),\n",
       " Prediction(uid=611, iid=670, r_ui=3.501143337144457, est=4.023756980679436, details={'was_impossible': False}),\n",
       " Prediction(uid=611, iid=671, r_ui=3.501143337144457, est=4.023756980679436, details={'was_impossible': False}),\n",
       " Prediction(uid=611, iid=673, r_ui=3.501143337144457, est=4.023756980679436, details={'was_impossible': False}),\n",
       " Prediction(uid=611, iid=674, r_ui=3.501143337144457, est=4.023756980679436, details={'was_impossible': False}),\n",
       " Prediction(uid=611, iid=678, r_ui=3.501143337144457, est=4.023756980679436, details={'was_impossible': False}),\n",
       " Prediction(uid=611, iid=679, r_ui=3.501143337144457, est=4.023756980679436, details={'was_impossible': False}),\n",
       " Prediction(uid=611, iid=680, r_ui=3.501143337144457, est=4.023756980679436, details={'was_impossible': False}),\n",
       " Prediction(uid=611, iid=685, r_ui=3.501143337144457, est=4.023756980679436, details={'was_impossible': False}),\n",
       " Prediction(uid=611, iid=688, r_ui=3.501143337144457, est=4.023756980679436, details={'was_impossible': False}),\n",
       " Prediction(uid=611, iid=691, r_ui=3.501143337144457, est=4.023756980679436, details={'was_impossible': False}),\n",
       " Prediction(uid=611, iid=692, r_ui=3.501143337144457, est=4.023756980679436, details={'was_impossible': False}),\n",
       " Prediction(uid=611, iid=694, r_ui=3.501143337144457, est=4.023756980679436, details={'was_impossible': False}),\n",
       " Prediction(uid=611, iid=695, r_ui=3.501143337144457, est=4.023756980679436, details={'was_impossible': False}),\n",
       " Prediction(uid=611, iid=697, r_ui=3.501143337144457, est=4.023756980679436, details={'was_impossible': False}),\n",
       " Prediction(uid=611, iid=698, r_ui=3.501143337144457, est=4.023756980679436, details={'was_impossible': False}),\n",
       " Prediction(uid=611, iid=700, r_ui=3.501143337144457, est=4.023756980679436, details={'was_impossible': False}),\n",
       " Prediction(uid=611, iid=703, r_ui=3.501143337144457, est=4.023756980679436, details={'was_impossible': False}),\n",
       " Prediction(uid=611, iid=704, r_ui=3.501143337144457, est=4.023756980679436, details={'was_impossible': False}),\n",
       " Prediction(uid=611, iid=706, r_ui=3.501143337144457, est=4.023756980679436, details={'was_impossible': False}),\n",
       " Prediction(uid=611, iid=707, r_ui=3.501143337144457, est=4.023756980679436, details={'was_impossible': False}),\n",
       " Prediction(uid=611, iid=708, r_ui=3.501143337144457, est=4.023756980679436, details={'was_impossible': False}),\n",
       " Prediction(uid=611, iid=709, r_ui=3.501143337144457, est=4.023756980679436, details={'was_impossible': False}),\n",
       " Prediction(uid=611, iid=710, r_ui=3.501143337144457, est=4.023756980679436, details={'was_impossible': False}),\n",
       " Prediction(uid=611, iid=711, r_ui=3.501143337144457, est=4.023756980679436, details={'was_impossible': False}),\n",
       " Prediction(uid=611, iid=714, r_ui=3.501143337144457, est=4.023756980679436, details={'was_impossible': False}),\n",
       " Prediction(uid=611, iid=715, r_ui=3.501143337144457, est=4.023756980679436, details={'was_impossible': False}),\n",
       " Prediction(uid=611, iid=718, r_ui=3.501143337144457, est=4.023756980679436, details={'was_impossible': False}),\n",
       " Prediction(uid=611, iid=719, r_ui=3.501143337144457, est=4.023756980679436, details={'was_impossible': False}),\n",
       " Prediction(uid=611, iid=720, r_ui=3.501143337144457, est=4.023756980679436, details={'was_impossible': False}),\n",
       " Prediction(uid=611, iid=722, r_ui=3.501143337144457, est=4.023756980679436, details={'was_impossible': False}),\n",
       " Prediction(uid=611, iid=724, r_ui=3.501143337144457, est=4.023756980679436, details={'was_impossible': False}),\n",
       " Prediction(uid=611, iid=725, r_ui=3.501143337144457, est=4.023756980679436, details={'was_impossible': False}),\n",
       " Prediction(uid=611, iid=726, r_ui=3.501143337144457, est=4.023756980679436, details={'was_impossible': False}),\n",
       " Prediction(uid=611, iid=728, r_ui=3.501143337144457, est=4.023756980679436, details={'was_impossible': False}),\n",
       " Prediction(uid=611, iid=731, r_ui=3.501143337144457, est=4.023756980679436, details={'was_impossible': False}),\n",
       " Prediction(uid=611, iid=733, r_ui=3.501143337144457, est=4.023756980679436, details={'was_impossible': False}),\n",
       " Prediction(uid=611, iid=735, r_ui=3.501143337144457, est=4.023756980679436, details={'was_impossible': False}),\n",
       " Prediction(uid=611, iid=736, r_ui=3.501143337144457, est=4.023756980679436, details={'was_impossible': False}),\n",
       " Prediction(uid=611, iid=737, r_ui=3.501143337144457, est=4.023756980679436, details={'was_impossible': False}),\n",
       " Prediction(uid=611, iid=741, r_ui=3.501143337144457, est=4.023756980679436, details={'was_impossible': False}),\n",
       " Prediction(uid=611, iid=742, r_ui=3.501143337144457, est=4.023756980679436, details={'was_impossible': False}),\n",
       " Prediction(uid=611, iid=743, r_ui=3.501143337144457, est=4.023756980679436, details={'was_impossible': False}),\n",
       " Prediction(uid=611, iid=745, r_ui=3.501143337144457, est=4.023756980679436, details={'was_impossible': False}),\n",
       " Prediction(uid=611, iid=747, r_ui=3.501143337144457, est=4.023756980679436, details={'was_impossible': False}),\n",
       " Prediction(uid=611, iid=748, r_ui=3.501143337144457, est=4.023756980679436, details={'was_impossible': False}),\n",
       " Prediction(uid=611, iid=750, r_ui=3.501143337144457, est=4.023756980679436, details={'was_impossible': False}),\n",
       " Prediction(uid=611, iid=757, r_ui=3.501143337144457, est=4.023756980679436, details={'was_impossible': False}),\n",
       " Prediction(uid=611, iid=759, r_ui=3.501143337144457, est=4.023756980679436, details={'was_impossible': False}),\n",
       " Prediction(uid=611, iid=760, r_ui=3.501143337144457, est=4.023756980679436, details={'was_impossible': False}),\n",
       " Prediction(uid=611, iid=761, r_ui=3.501143337144457, est=4.023756980679436, details={'was_impossible': False}),\n",
       " Prediction(uid=611, iid=762, r_ui=3.501143337144457, est=4.023756980679436, details={'was_impossible': False}),\n",
       " Prediction(uid=611, iid=764, r_ui=3.501143337144457, est=4.023756980679436, details={'was_impossible': False}),\n",
       " Prediction(uid=611, iid=765, r_ui=3.501143337144457, est=4.023756980679436, details={'was_impossible': False}),\n",
       " Prediction(uid=611, iid=766, r_ui=3.501143337144457, est=4.023756980679436, details={'was_impossible': False}),\n",
       " Prediction(uid=611, iid=773, r_ui=3.501143337144457, est=4.023756980679436, details={'was_impossible': False}),\n",
       " Prediction(uid=611, iid=775, r_ui=3.501143337144457, est=4.023756980679436, details={'was_impossible': False}),\n",
       " Prediction(uid=611, iid=778, r_ui=3.501143337144457, est=4.023756980679436, details={'was_impossible': False}),\n",
       " Prediction(uid=611, iid=779, r_ui=3.501143337144457, est=4.023756980679436, details={'was_impossible': False}),\n",
       " Prediction(uid=611, iid=780, r_ui=3.501143337144457, est=4.023756980679436, details={'was_impossible': False}),\n",
       " Prediction(uid=611, iid=781, r_ui=3.501143337144457, est=4.023756980679436, details={'was_impossible': False}),\n",
       " Prediction(uid=611, iid=782, r_ui=3.501143337144457, est=4.023756980679436, details={'was_impossible': False}),\n",
       " Prediction(uid=611, iid=783, r_ui=3.501143337144457, est=4.023756980679436, details={'was_impossible': False}),\n",
       " Prediction(uid=611, iid=784, r_ui=3.501143337144457, est=4.023756980679436, details={'was_impossible': False}),\n",
       " Prediction(uid=611, iid=785, r_ui=3.501143337144457, est=4.023756980679436, details={'was_impossible': False}),\n",
       " Prediction(uid=611, iid=786, r_ui=3.501143337144457, est=4.023756980679436, details={'was_impossible': False}),\n",
       " Prediction(uid=611, iid=788, r_ui=3.501143337144457, est=4.023756980679436, details={'was_impossible': False}),\n",
       " Prediction(uid=611, iid=790, r_ui=3.501143337144457, est=4.023756980679436, details={'was_impossible': False}),\n",
       " Prediction(uid=611, iid=791, r_ui=3.501143337144457, est=4.023756980679436, details={'was_impossible': False}),\n",
       " Prediction(uid=611, iid=795, r_ui=3.501143337144457, est=4.023756980679436, details={'was_impossible': False}),\n",
       " Prediction(uid=611, iid=798, r_ui=3.501143337144457, est=4.023756980679436, details={'was_impossible': False}),\n",
       " Prediction(uid=611, iid=799, r_ui=3.501143337144457, est=4.023756980679436, details={'was_impossible': False}),\n",
       " Prediction(uid=611, iid=800, r_ui=3.501143337144457, est=4.023756980679436, details={'was_impossible': False}),\n",
       " Prediction(uid=611, iid=801, r_ui=3.501143337144457, est=4.023756980679436, details={'was_impossible': False}),\n",
       " Prediction(uid=611, iid=802, r_ui=3.501143337144457, est=4.023756980679436, details={'was_impossible': False}),\n",
       " Prediction(uid=611, iid=803, r_ui=3.501143337144457, est=4.023756980679436, details={'was_impossible': False}),\n",
       " Prediction(uid=611, iid=804, r_ui=3.501143337144457, est=4.023756980679436, details={'was_impossible': False}),\n",
       " Prediction(uid=611, iid=805, r_ui=3.501143337144457, est=4.023756980679436, details={'was_impossible': False}),\n",
       " Prediction(uid=611, iid=806, r_ui=3.501143337144457, est=4.023756980679436, details={'was_impossible': False}),\n",
       " Prediction(uid=611, iid=808, r_ui=3.501143337144457, est=4.023756980679436, details={'was_impossible': False}),\n",
       " Prediction(uid=611, iid=809, r_ui=3.501143337144457, est=4.023756980679436, details={'was_impossible': False}),\n",
       " Prediction(uid=611, iid=810, r_ui=3.501143337144457, est=4.023756980679436, details={'was_impossible': False}),\n",
       " Prediction(uid=611, iid=813, r_ui=3.501143337144457, est=4.023756980679436, details={'was_impossible': False}),\n",
       " Prediction(uid=611, iid=818, r_ui=3.501143337144457, est=4.023756980679436, details={'was_impossible': False}),\n",
       " Prediction(uid=611, iid=823, r_ui=3.501143337144457, est=4.023756980679436, details={'was_impossible': False}),\n",
       " Prediction(uid=611, iid=824, r_ui=3.501143337144457, est=4.023756980679436, details={'was_impossible': False}),\n",
       " Prediction(uid=611, iid=828, r_ui=3.501143337144457, est=4.023756980679436, details={'was_impossible': False}),\n",
       " Prediction(uid=611, iid=829, r_ui=3.501143337144457, est=4.023756980679436, details={'was_impossible': False}),\n",
       " Prediction(uid=611, iid=830, r_ui=3.501143337144457, est=4.023756980679436, details={'was_impossible': False}),\n",
       " Prediction(uid=611, iid=832, r_ui=3.501143337144457, est=4.023756980679436, details={'was_impossible': False}),\n",
       " Prediction(uid=611, iid=833, r_ui=3.501143337144457, est=4.023756980679436, details={'was_impossible': False}),\n",
       " Prediction(uid=611, iid=835, r_ui=3.501143337144457, est=4.023756980679436, details={'was_impossible': False}),\n",
       " Prediction(uid=611, iid=836, r_ui=3.501143337144457, est=4.023756980679436, details={'was_impossible': False}),\n",
       " Prediction(uid=611, iid=837, r_ui=3.501143337144457, est=4.023756980679436, details={'was_impossible': False}),\n",
       " Prediction(uid=611, iid=838, r_ui=3.501143337144457, est=4.023756980679436, details={'was_impossible': False}),\n",
       " Prediction(uid=611, iid=839, r_ui=3.501143337144457, est=4.023756980679436, details={'was_impossible': False}),\n",
       " Prediction(uid=611, iid=840, r_ui=3.501143337144457, est=4.023756980679436, details={'was_impossible': False}),\n",
       " Prediction(uid=611, iid=841, r_ui=3.501143337144457, est=4.023756980679436, details={'was_impossible': False}),\n",
       " Prediction(uid=611, iid=842, r_ui=3.501143337144457, est=4.023756980679436, details={'was_impossible': False}),\n",
       " Prediction(uid=611, iid=848, r_ui=3.501143337144457, est=4.023756980679436, details={'was_impossible': False}),\n",
       " Prediction(uid=611, iid=849, r_ui=3.501143337144457, est=4.023756980679436, details={'was_impossible': False}),\n",
       " Prediction(uid=611, iid=851, r_ui=3.501143337144457, est=4.023756980679436, details={'was_impossible': False}),\n",
       " Prediction(uid=611, iid=852, r_ui=3.501143337144457, est=4.023756980679436, details={'was_impossible': False}),\n",
       " Prediction(uid=611, iid=858, r_ui=3.501143337144457, est=4.023756980679436, details={'was_impossible': False}),\n",
       " Prediction(uid=611, iid=861, r_ui=3.501143337144457, est=4.023756980679436, details={'was_impossible': False}),\n",
       " Prediction(uid=611, iid=866, r_ui=3.501143337144457, est=4.023756980679436, details={'was_impossible': False}),\n",
       " Prediction(uid=611, iid=867, r_ui=3.501143337144457, est=4.023756980679436, details={'was_impossible': False}),\n",
       " Prediction(uid=611, iid=869, r_ui=3.501143337144457, est=4.023756980679436, details={'was_impossible': False}),\n",
       " Prediction(uid=611, iid=870, r_ui=3.501143337144457, est=4.023756980679436, details={'was_impossible': False}),\n",
       " Prediction(uid=611, iid=875, r_ui=3.501143337144457, est=4.023756980679436, details={'was_impossible': False}),\n",
       " Prediction(uid=611, iid=876, r_ui=3.501143337144457, est=4.023756980679436, details={'was_impossible': False}),\n",
       " Prediction(uid=611, iid=879, r_ui=3.501143337144457, est=4.023756980679436, details={'was_impossible': False}),\n",
       " Prediction(uid=611, iid=880, r_ui=3.501143337144457, est=4.023756980679436, details={'was_impossible': False}),\n",
       " Prediction(uid=611, iid=881, r_ui=3.501143337144457, est=4.023756980679436, details={'was_impossible': False}),\n",
       " Prediction(uid=611, iid=882, r_ui=3.501143337144457, est=4.023756980679436, details={'was_impossible': False}),\n",
       " Prediction(uid=611, iid=885, r_ui=3.501143337144457, est=4.023756980679436, details={'was_impossible': False}),\n",
       " Prediction(uid=611, iid=886, r_ui=3.501143337144457, est=4.023756980679436, details={'was_impossible': False}),\n",
       " Prediction(uid=611, iid=888, r_ui=3.501143337144457, est=4.023756980679436, details={'was_impossible': False}),\n",
       " Prediction(uid=611, iid=889, r_ui=3.501143337144457, est=4.023756980679436, details={'was_impossible': False}),\n",
       " Prediction(uid=611, iid=891, r_ui=3.501143337144457, est=4.023756980679436, details={'was_impossible': False}),\n",
       " Prediction(uid=611, iid=892, r_ui=3.501143337144457, est=4.023756980679436, details={'was_impossible': False}),\n",
       " Prediction(uid=611, iid=893, r_ui=3.501143337144457, est=4.023756980679436, details={'was_impossible': False}),\n",
       " Prediction(uid=611, iid=896, r_ui=3.501143337144457, est=4.023756980679436, details={'was_impossible': False}),\n",
       " Prediction(uid=611, iid=897, r_ui=3.501143337144457, est=4.023756980679436, details={'was_impossible': False}),\n",
       " Prediction(uid=611, iid=898, r_ui=3.501143337144457, est=4.023756980679436, details={'was_impossible': False}),\n",
       " Prediction(uid=611, iid=899, r_ui=3.501143337144457, est=4.023756980679436, details={'was_impossible': False}),\n",
       " Prediction(uid=611, iid=900, r_ui=3.501143337144457, est=4.023756980679436, details={'was_impossible': False}),\n",
       " Prediction(uid=611, iid=901, r_ui=3.501143337144457, est=4.023756980679436, details={'was_impossible': False}),\n",
       " Prediction(uid=611, iid=902, r_ui=3.501143337144457, est=4.023756980679436, details={'was_impossible': False}),\n",
       " Prediction(uid=611, iid=903, r_ui=3.501143337144457, est=4.023756980679436, details={'was_impossible': False}),\n",
       " Prediction(uid=611, iid=904, r_ui=3.501143337144457, est=4.023756980679436, details={'was_impossible': False}),\n",
       " Prediction(uid=611, iid=905, r_ui=3.501143337144457, est=4.023756980679436, details={'was_impossible': False}),\n",
       " Prediction(uid=611, iid=906, r_ui=3.501143337144457, est=4.023756980679436, details={'was_impossible': False}),\n",
       " Prediction(uid=611, iid=907, r_ui=3.501143337144457, est=4.023756980679436, details={'was_impossible': False}),\n",
       " Prediction(uid=611, iid=908, r_ui=3.501143337144457, est=4.023756980679436, details={'was_impossible': False}),\n",
       " Prediction(uid=611, iid=909, r_ui=3.501143337144457, est=4.023756980679436, details={'was_impossible': False}),\n",
       " Prediction(uid=611, iid=910, r_ui=3.501143337144457, est=4.023756980679436, details={'was_impossible': False}),\n",
       " Prediction(uid=611, iid=911, r_ui=3.501143337144457, est=4.023756980679436, details={'was_impossible': False}),\n",
       " Prediction(uid=611, iid=912, r_ui=3.501143337144457, est=4.023756980679436, details={'was_impossible': False}),\n",
       " Prediction(uid=611, iid=913, r_ui=3.501143337144457, est=4.023756980679436, details={'was_impossible': False}),\n",
       " Prediction(uid=611, iid=914, r_ui=3.501143337144457, est=4.023756980679436, details={'was_impossible': False}),\n",
       " Prediction(uid=611, iid=915, r_ui=3.501143337144457, est=4.023756980679436, details={'was_impossible': False}),\n",
       " Prediction(uid=611, iid=916, r_ui=3.501143337144457, est=4.023756980679436, details={'was_impossible': False}),\n",
       " Prediction(uid=611, iid=917, r_ui=3.501143337144457, est=4.023756980679436, details={'was_impossible': False}),\n",
       " Prediction(uid=611, iid=918, r_ui=3.501143337144457, est=4.023756980679436, details={'was_impossible': False}),\n",
       " Prediction(uid=611, iid=919, r_ui=3.501143337144457, est=4.023756980679436, details={'was_impossible': False}),\n",
       " Prediction(uid=611, iid=920, r_ui=3.501143337144457, est=4.023756980679436, details={'was_impossible': False}),\n",
       " Prediction(uid=611, iid=921, r_ui=3.501143337144457, est=4.023756980679436, details={'was_impossible': False}),\n",
       " Prediction(uid=611, iid=922, r_ui=3.501143337144457, est=4.023756980679436, details={'was_impossible': False}),\n",
       " Prediction(uid=611, iid=923, r_ui=3.501143337144457, est=4.023756980679436, details={'was_impossible': False}),\n",
       " Prediction(uid=611, iid=924, r_ui=3.501143337144457, est=4.023756980679436, details={'was_impossible': False}),\n",
       " Prediction(uid=611, iid=926, r_ui=3.501143337144457, est=4.023756980679436, details={'was_impossible': False}),\n",
       " Prediction(uid=611, iid=927, r_ui=3.501143337144457, est=4.023756980679436, details={'was_impossible': False}),\n",
       " Prediction(uid=611, iid=928, r_ui=3.501143337144457, est=4.023756980679436, details={'was_impossible': False}),\n",
       " Prediction(uid=611, iid=929, r_ui=3.501143337144457, est=4.023756980679436, details={'was_impossible': False}),\n",
       " Prediction(uid=611, iid=930, r_ui=3.501143337144457, est=4.023756980679436, details={'was_impossible': False}),\n",
       " Prediction(uid=611, iid=931, r_ui=3.501143337144457, est=4.023756980679436, details={'was_impossible': False}),\n",
       " Prediction(uid=611, iid=932, r_ui=3.501143337144457, est=4.023756980679436, details={'was_impossible': False}),\n",
       " Prediction(uid=611, iid=933, r_ui=3.501143337144457, est=4.023756980679436, details={'was_impossible': False}),\n",
       " Prediction(uid=611, iid=934, r_ui=3.501143337144457, est=4.023756980679436, details={'was_impossible': False}),\n",
       " Prediction(uid=611, iid=935, r_ui=3.501143337144457, est=4.023756980679436, details={'was_impossible': False}),\n",
       " Prediction(uid=611, iid=936, r_ui=3.501143337144457, est=4.023756980679436, details={'was_impossible': False}),\n",
       " Prediction(uid=611, iid=937, r_ui=3.501143337144457, est=4.023756980679436, details={'was_impossible': False}),\n",
       " Prediction(uid=611, iid=938, r_ui=3.501143337144457, est=4.023756980679436, details={'was_impossible': False}),\n",
       " Prediction(uid=611, iid=940, r_ui=3.501143337144457, est=4.023756980679436, details={'was_impossible': False}),\n",
       " Prediction(uid=611, iid=941, r_ui=3.501143337144457, est=4.023756980679436, details={'was_impossible': False}),\n",
       " Prediction(uid=611, iid=942, r_ui=3.501143337144457, est=4.023756980679436, details={'was_impossible': False}),\n",
       " Prediction(uid=611, iid=943, r_ui=3.501143337144457, est=4.023756980679436, details={'was_impossible': False}),\n",
       " Prediction(uid=611, iid=944, r_ui=3.501143337144457, est=4.023756980679436, details={'was_impossible': False}),\n",
       " Prediction(uid=611, iid=945, r_ui=3.501143337144457, est=4.023756980679436, details={'was_impossible': False}),\n",
       " Prediction(uid=611, iid=946, r_ui=3.501143337144457, est=4.023756980679436, details={'was_impossible': False}),\n",
       " Prediction(uid=611, iid=947, r_ui=3.501143337144457, est=4.023756980679436, details={'was_impossible': False}),\n",
       " Prediction(uid=611, iid=948, r_ui=3.501143337144457, est=4.023756980679436, details={'was_impossible': False}),\n",
       " Prediction(uid=611, iid=949, r_ui=3.501143337144457, est=4.023756980679436, details={'was_impossible': False}),\n",
       " Prediction(uid=611, iid=950, r_ui=3.501143337144457, est=4.023756980679436, details={'was_impossible': False}),\n",
       " Prediction(uid=611, iid=951, r_ui=3.501143337144457, est=4.023756980679436, details={'was_impossible': False}),\n",
       " Prediction(uid=611, iid=952, r_ui=3.501143337144457, est=4.023756980679436, details={'was_impossible': False}),\n",
       " Prediction(uid=611, iid=953, r_ui=3.501143337144457, est=4.023756980679436, details={'was_impossible': False}),\n",
       " Prediction(uid=611, iid=954, r_ui=3.501143337144457, est=4.023756980679436, details={'was_impossible': False}),\n",
       " Prediction(uid=611, iid=955, r_ui=3.501143337144457, est=4.023756980679436, details={'was_impossible': False}),\n",
       " Prediction(uid=611, iid=956, r_ui=3.501143337144457, est=4.023756980679436, details={'was_impossible': False}),\n",
       " Prediction(uid=611, iid=959, r_ui=3.501143337144457, est=4.023756980679436, details={'was_impossible': False}),\n",
       " Prediction(uid=611, iid=961, r_ui=3.501143337144457, est=4.023756980679436, details={'was_impossible': False}),\n",
       " Prediction(uid=611, iid=963, r_ui=3.501143337144457, est=4.023756980679436, details={'was_impossible': False}),\n",
       " Prediction(uid=611, iid=965, r_ui=3.501143337144457, est=4.023756980679436, details={'was_impossible': False}),\n",
       " Prediction(uid=611, iid=968, r_ui=3.501143337144457, est=4.023756980679436, details={'was_impossible': False}),\n",
       " Prediction(uid=611, iid=969, r_ui=3.501143337144457, est=4.023756980679436, details={'was_impossible': False}),\n",
       " Prediction(uid=611, iid=970, r_ui=3.501143337144457, est=4.023756980679436, details={'was_impossible': False}),\n",
       " Prediction(uid=611, iid=971, r_ui=3.501143337144457, est=4.023756980679436, details={'was_impossible': False}),\n",
       " Prediction(uid=611, iid=973, r_ui=3.501143337144457, est=4.023756980679436, details={'was_impossible': False}),\n",
       " Prediction(uid=611, iid=976, r_ui=3.501143337144457, est=4.023756980679436, details={'was_impossible': False}),\n",
       " Prediction(uid=611, iid=979, r_ui=3.501143337144457, est=4.023756980679436, details={'was_impossible': False}),\n",
       " Prediction(uid=611, iid=981, r_ui=3.501143337144457, est=4.023756980679436, details={'was_impossible': False}),\n",
       " Prediction(uid=611, iid=982, r_ui=3.501143337144457, est=4.023756980679436, details={'was_impossible': False}),\n",
       " Prediction(uid=611, iid=984, r_ui=3.501143337144457, est=4.023756980679436, details={'was_impossible': False}),\n",
       " Prediction(uid=611, iid=986, r_ui=3.501143337144457, est=4.023756980679436, details={'was_impossible': False}),\n",
       " Prediction(uid=611, iid=987, r_ui=3.501143337144457, est=4.023756980679436, details={'was_impossible': False}),\n",
       " Prediction(uid=611, iid=988, r_ui=3.501143337144457, est=4.023756980679436, details={'was_impossible': False}),\n",
       " Prediction(uid=611, iid=990, r_ui=3.501143337144457, est=4.023756980679436, details={'was_impossible': False}),\n",
       " Prediction(uid=611, iid=991, r_ui=3.501143337144457, est=4.023756980679436, details={'was_impossible': False}),\n",
       " Prediction(uid=611, iid=993, r_ui=3.501143337144457, est=4.023756980679436, details={'was_impossible': False}),\n",
       " Prediction(uid=611, iid=994, r_ui=3.501143337144457, est=4.023756980679436, details={'was_impossible': False}),\n",
       " Prediction(uid=611, iid=996, r_ui=3.501143337144457, est=4.023756980679436, details={'was_impossible': False}),\n",
       " Prediction(uid=611, iid=998, r_ui=3.501143337144457, est=4.023756980679436, details={'was_impossible': False}),\n",
       " Prediction(uid=611, iid=999, r_ui=3.501143337144457, est=4.023756980679436, details={'was_impossible': False}),\n",
       " Prediction(uid=611, iid=1003, r_ui=3.501143337144457, est=4.023756980679436, details={'was_impossible': False}),\n",
       " Prediction(uid=611, iid=1004, r_ui=3.501143337144457, est=4.023756980679436, details={'was_impossible': False}),\n",
       " Prediction(uid=611, iid=1005, r_ui=3.501143337144457, est=4.023756980679436, details={'was_impossible': False}),\n",
       " Prediction(uid=611, iid=1006, r_ui=3.501143337144457, est=4.023756980679436, details={'was_impossible': False}),\n",
       " Prediction(uid=611, iid=1007, r_ui=3.501143337144457, est=4.023756980679436, details={'was_impossible': False}),\n",
       " Prediction(uid=611, iid=1008, r_ui=3.501143337144457, est=4.023756980679436, details={'was_impossible': False}),\n",
       " Prediction(uid=611, iid=1009, r_ui=3.501143337144457, est=4.023756980679436, details={'was_impossible': False}),\n",
       " Prediction(uid=611, iid=1010, r_ui=3.501143337144457, est=4.023756980679436, details={'was_impossible': False}),\n",
       " Prediction(uid=611, iid=1011, r_ui=3.501143337144457, est=4.023756980679436, details={'was_impossible': False}),\n",
       " Prediction(uid=611, iid=1012, r_ui=3.501143337144457, est=4.023756980679436, details={'was_impossible': False}),\n",
       " Prediction(uid=611, iid=1013, r_ui=3.501143337144457, est=4.023756980679436, details={'was_impossible': False}),\n",
       " Prediction(uid=611, iid=1014, r_ui=3.501143337144457, est=4.023756980679436, details={'was_impossible': False}),\n",
       " Prediction(uid=611, iid=1015, r_ui=3.501143337144457, est=4.023756980679436, details={'was_impossible': False}),\n",
       " Prediction(uid=611, iid=1016, r_ui=3.501143337144457, est=4.023756980679436, details={'was_impossible': False}),\n",
       " Prediction(uid=611, iid=1017, r_ui=3.501143337144457, est=4.023756980679436, details={'was_impossible': False}),\n",
       " Prediction(uid=611, iid=1018, r_ui=3.501143337144457, est=4.023756980679436, details={'was_impossible': False}),\n",
       " Prediction(uid=611, iid=1019, r_ui=3.501143337144457, est=4.023756980679436, details={'was_impossible': False}),\n",
       " Prediction(uid=611, iid=1020, r_ui=3.501143337144457, est=4.023756980679436, details={'was_impossible': False}),\n",
       " Prediction(uid=611, iid=1021, r_ui=3.501143337144457, est=4.023756980679436, details={'was_impossible': False}),\n",
       " Prediction(uid=611, iid=1022, r_ui=3.501143337144457, est=4.023756980679436, details={'was_impossible': False}),\n",
       " Prediction(uid=611, iid=1023, r_ui=3.501143337144457, est=4.023756980679436, details={'was_impossible': False}),\n",
       " Prediction(uid=611, iid=1024, r_ui=3.501143337144457, est=4.023756980679436, details={'was_impossible': False}),\n",
       " Prediction(uid=611, iid=1025, r_ui=3.501143337144457, est=4.023756980679436, details={'was_impossible': False}),\n",
       " Prediction(uid=611, iid=1027, r_ui=3.501143337144457, est=4.023756980679436, details={'was_impossible': False}),\n",
       " Prediction(uid=611, iid=1028, r_ui=3.501143337144457, est=4.023756980679436, details={'was_impossible': False}),\n",
       " Prediction(uid=611, iid=1029, r_ui=3.501143337144457, est=4.023756980679436, details={'was_impossible': False}),\n",
       " Prediction(uid=611, iid=1030, r_ui=3.501143337144457, est=4.023756980679436, details={'was_impossible': False}),\n",
       " Prediction(uid=611, iid=1031, r_ui=3.501143337144457, est=4.023756980679436, details={'was_impossible': False}),\n",
       " Prediction(uid=611, iid=1032, r_ui=3.501143337144457, est=4.023756980679436, details={'was_impossible': False}),\n",
       " Prediction(uid=611, iid=1033, r_ui=3.501143337144457, est=4.023756980679436, details={'was_impossible': False}),\n",
       " Prediction(uid=611, iid=1034, r_ui=3.501143337144457, est=4.023756980679436, details={'was_impossible': False}),\n",
       " Prediction(uid=611, iid=1035, r_ui=3.501143337144457, est=4.023756980679436, details={'was_impossible': False}),\n",
       " Prediction(uid=611, iid=1036, r_ui=3.501143337144457, est=4.023756980679436, details={'was_impossible': False}),\n",
       " Prediction(uid=611, iid=1037, r_ui=3.501143337144457, est=4.023756980679436, details={'was_impossible': False}),\n",
       " Prediction(uid=611, iid=1040, r_ui=3.501143337144457, est=4.023756980679436, details={'was_impossible': False}),\n",
       " Prediction(uid=611, iid=1041, r_ui=3.501143337144457, est=4.023756980679436, details={'was_impossible': False}),\n",
       " Prediction(uid=611, iid=1042, r_ui=3.501143337144457, est=4.023756980679436, details={'was_impossible': False}),\n",
       " Prediction(uid=611, iid=1043, r_ui=3.501143337144457, est=4.023756980679436, details={'was_impossible': False}),\n",
       " Prediction(uid=611, iid=1046, r_ui=3.501143337144457, est=4.023756980679436, details={'was_impossible': False}),\n",
       " Prediction(uid=611, iid=1047, r_ui=3.501143337144457, est=4.023756980679436, details={'was_impossible': False}),\n",
       " Prediction(uid=611, iid=1049, r_ui=3.501143337144457, est=4.023756980679436, details={'was_impossible': False}),\n",
       " Prediction(uid=611, iid=1050, r_ui=3.501143337144457, est=4.023756980679436, details={'was_impossible': False}),\n",
       " Prediction(uid=611, iid=1051, r_ui=3.501143337144457, est=4.023756980679436, details={'was_impossible': False}),\n",
       " Prediction(uid=611, iid=1053, r_ui=3.501143337144457, est=4.023756980679436, details={'was_impossible': False}),\n",
       " Prediction(uid=611, iid=1054, r_ui=3.501143337144457, est=4.023756980679436, details={'was_impossible': False}),\n",
       " Prediction(uid=611, iid=1055, r_ui=3.501143337144457, est=4.023756980679436, details={'was_impossible': False}),\n",
       " Prediction(uid=611, iid=1056, r_ui=3.501143337144457, est=4.023756980679436, details={'was_impossible': False}),\n",
       " Prediction(uid=611, iid=1057, r_ui=3.501143337144457, est=4.023756980679436, details={'was_impossible': False}),\n",
       " Prediction(uid=611, iid=1059, r_ui=3.501143337144457, est=4.023756980679436, details={'was_impossible': False}),\n",
       " Prediction(uid=611, iid=1060, r_ui=3.501143337144457, est=4.023756980679436, details={'was_impossible': False}),\n",
       " Prediction(uid=611, iid=1061, r_ui=3.501143337144457, est=4.023756980679436, details={'was_impossible': False}),\n",
       " Prediction(uid=611, iid=1064, r_ui=3.501143337144457, est=4.023756980679436, details={'was_impossible': False}),\n",
       " Prediction(uid=611, iid=1066, r_ui=3.501143337144457, est=4.023756980679436, details={'was_impossible': False}),\n",
       " Prediction(uid=611, iid=1068, r_ui=3.501143337144457, est=4.023756980679436, details={'was_impossible': False}),\n",
       " Prediction(uid=611, iid=1073, r_ui=3.501143337144457, est=4.023756980679436, details={'was_impossible': False}),\n",
       " Prediction(uid=611, iid=1076, r_ui=3.501143337144457, est=4.023756980679436, details={'was_impossible': False}),\n",
       " Prediction(uid=611, iid=1077, r_ui=3.501143337144457, est=4.023756980679436, details={'was_impossible': False}),\n",
       " Prediction(uid=611, iid=1078, r_ui=3.501143337144457, est=4.023756980679436, details={'was_impossible': False}),\n",
       " Prediction(uid=611, iid=1079, r_ui=3.501143337144457, est=4.023756980679436, details={'was_impossible': False}),\n",
       " Prediction(uid=611, iid=1080, r_ui=3.501143337144457, est=4.023756980679436, details={'was_impossible': False}),\n",
       " Prediction(uid=611, iid=1081, r_ui=3.501143337144457, est=4.023756980679436, details={'was_impossible': False}),\n",
       " Prediction(uid=611, iid=1082, r_ui=3.501143337144457, est=4.023756980679436, details={'was_impossible': False}),\n",
       " Prediction(uid=611, iid=1083, r_ui=3.501143337144457, est=4.023756980679436, details={'was_impossible': False}),\n",
       " Prediction(uid=611, iid=1084, r_ui=3.501143337144457, est=4.023756980679436, details={'was_impossible': False}),\n",
       " Prediction(uid=611, iid=1085, r_ui=3.501143337144457, est=4.023756980679436, details={'was_impossible': False}),\n",
       " Prediction(uid=611, iid=1086, r_ui=3.501143337144457, est=4.023756980679436, details={'was_impossible': False}),\n",
       " Prediction(uid=611, iid=1088, r_ui=3.501143337144457, est=4.023756980679436, details={'was_impossible': False}),\n",
       " Prediction(uid=611, iid=1089, r_ui=3.501143337144457, est=4.023756980679436, details={'was_impossible': False}),\n",
       " Prediction(uid=611, iid=1090, r_ui=3.501143337144457, est=4.023756980679436, details={'was_impossible': False}),\n",
       " Prediction(uid=611, iid=1091, r_ui=3.501143337144457, est=4.023756980679436, details={'was_impossible': False}),\n",
       " Prediction(uid=611, iid=1092, r_ui=3.501143337144457, est=4.023756980679436, details={'was_impossible': False}),\n",
       " Prediction(uid=611, iid=1093, r_ui=3.501143337144457, est=4.023756980679436, details={'was_impossible': False}),\n",
       " Prediction(uid=611, iid=1094, r_ui=3.501143337144457, est=4.023756980679436, details={'was_impossible': False}),\n",
       " Prediction(uid=611, iid=1095, r_ui=3.501143337144457, est=4.023756980679436, details={'was_impossible': False}),\n",
       " Prediction(uid=611, iid=1096, r_ui=3.501143337144457, est=4.023756980679436, details={'was_impossible': False}),\n",
       " Prediction(uid=611, iid=1097, r_ui=3.501143337144457, est=4.023756980679436, details={'was_impossible': False}),\n",
       " Prediction(uid=611, iid=1099, r_ui=3.501143337144457, est=4.023756980679436, details={'was_impossible': False}),\n",
       " Prediction(uid=611, iid=1100, r_ui=3.501143337144457, est=4.023756980679436, details={'was_impossible': False}),\n",
       " Prediction(uid=611, iid=1101, r_ui=3.501143337144457, est=4.023756980679436, details={'was_impossible': False}),\n",
       " Prediction(uid=611, iid=1103, r_ui=3.501143337144457, est=4.023756980679436, details={'was_impossible': False}),\n",
       " Prediction(uid=611, iid=1104, r_ui=3.501143337144457, est=4.023756980679436, details={'was_impossible': False}),\n",
       " Prediction(uid=611, iid=1105, r_ui=3.501143337144457, est=4.023756980679436, details={'was_impossible': False}),\n",
       " Prediction(uid=611, iid=1107, r_ui=3.501143337144457, est=4.023756980679436, details={'was_impossible': False}),\n",
       " Prediction(uid=611, iid=1111, r_ui=3.501143337144457, est=4.023756980679436, details={'was_impossible': False}),\n",
       " Prediction(uid=611, iid=1112, r_ui=3.501143337144457, est=4.023756980679436, details={'was_impossible': False}),\n",
       " Prediction(uid=611, iid=1114, r_ui=3.501143337144457, est=4.023756980679436, details={'was_impossible': False}),\n",
       " Prediction(uid=611, iid=1116, r_ui=3.501143337144457, est=4.023756980679436, details={'was_impossible': False}),\n",
       " Prediction(uid=611, iid=1117, r_ui=3.501143337144457, est=4.023756980679436, details={'was_impossible': False}),\n",
       " Prediction(uid=611, iid=1119, r_ui=3.501143337144457, est=4.023756980679436, details={'was_impossible': False}),\n",
       " Prediction(uid=611, iid=1120, r_ui=3.501143337144457, est=4.023756980679436, details={'was_impossible': False}),\n",
       " Prediction(uid=611, iid=1121, r_ui=3.501143337144457, est=4.023756980679436, details={'was_impossible': False}),\n",
       " Prediction(uid=611, iid=1123, r_ui=3.501143337144457, est=4.023756980679436, details={'was_impossible': False}),\n",
       " Prediction(uid=611, iid=1124, r_ui=3.501143337144457, est=4.023756980679436, details={'was_impossible': False}),\n",
       " Prediction(uid=611, iid=1125, r_ui=3.501143337144457, est=4.023756980679436, details={'was_impossible': False}),\n",
       " Prediction(uid=611, iid=1126, r_ui=3.501143337144457, est=4.023756980679436, details={'was_impossible': False}),\n",
       " Prediction(uid=611, iid=1127, r_ui=3.501143337144457, est=4.023756980679436, details={'was_impossible': False}),\n",
       " Prediction(uid=611, iid=1128, r_ui=3.501143337144457, est=4.023756980679436, details={'was_impossible': False}),\n",
       " Prediction(uid=611, iid=1129, r_ui=3.501143337144457, est=4.023756980679436, details={'was_impossible': False}),\n",
       " Prediction(uid=611, iid=1130, r_ui=3.501143337144457, est=4.023756980679436, details={'was_impossible': False}),\n",
       " Prediction(uid=611, iid=1131, r_ui=3.501143337144457, est=4.023756980679436, details={'was_impossible': False}),\n",
       " Prediction(uid=611, iid=1132, r_ui=3.501143337144457, est=4.023756980679436, details={'was_impossible': False}),\n",
       " Prediction(uid=611, iid=1135, r_ui=3.501143337144457, est=4.023756980679436, details={'was_impossible': False}),\n",
       " Prediction(uid=611, iid=1136, r_ui=3.501143337144457, est=4.023756980679436, details={'was_impossible': False}),\n",
       " Prediction(uid=611, iid=1137, r_ui=3.501143337144457, est=4.023756980679436, details={'was_impossible': False}),\n",
       " Prediction(uid=611, iid=1140, r_ui=3.501143337144457, est=4.023756980679436, details={'was_impossible': False}),\n",
       " Prediction(uid=611, iid=1144, r_ui=3.501143337144457, est=4.023756980679436, details={'was_impossible': False}),\n",
       " Prediction(uid=611, iid=1147, r_ui=3.501143337144457, est=4.023756980679436, details={'was_impossible': False}),\n",
       " Prediction(uid=611, iid=1148, r_ui=3.501143337144457, est=4.023756980679436, details={'was_impossible': False}),\n",
       " Prediction(uid=611, iid=1150, r_ui=3.501143337144457, est=4.023756980679436, details={'was_impossible': False}),\n",
       " Prediction(uid=611, iid=1151, r_ui=3.501143337144457, est=4.023756980679436, details={'was_impossible': False}),\n",
       " Prediction(uid=611, iid=1156, r_ui=3.501143337144457, est=4.023756980679436, details={'was_impossible': False}),\n",
       " Prediction(uid=611, iid=1161, r_ui=3.501143337144457, est=4.023756980679436, details={'was_impossible': False}),\n",
       " Prediction(uid=611, iid=1162, r_ui=3.501143337144457, est=4.023756980679436, details={'was_impossible': False}),\n",
       " Prediction(uid=611, iid=1163, r_ui=3.501143337144457, est=4.023756980679436, details={'was_impossible': False}),\n",
       " Prediction(uid=611, iid=1167, r_ui=3.501143337144457, est=4.023756980679436, details={'was_impossible': False}),\n",
       " Prediction(uid=611, iid=1170, r_ui=3.501143337144457, est=4.023756980679436, details={'was_impossible': False}),\n",
       " Prediction(uid=611, iid=1171, r_ui=3.501143337144457, est=4.023756980679436, details={'was_impossible': False}),\n",
       " Prediction(uid=611, iid=1172, r_ui=3.501143337144457, est=4.023756980679436, details={'was_impossible': False}),\n",
       " Prediction(uid=611, iid=1173, r_ui=3.501143337144457, est=4.023756980679436, details={'was_impossible': False}),\n",
       " Prediction(uid=611, iid=1175, r_ui=3.501143337144457, est=4.023756980679436, details={'was_impossible': False}),\n",
       " Prediction(uid=611, iid=1176, r_ui=3.501143337144457, est=4.023756980679436, details={'was_impossible': False}),\n",
       " Prediction(uid=611, iid=1177, r_ui=3.501143337144457, est=4.023756980679436, details={'was_impossible': False}),\n",
       " Prediction(uid=611, iid=1178, r_ui=3.501143337144457, est=4.023756980679436, details={'was_impossible': False}),\n",
       " Prediction(uid=611, iid=1179, r_ui=3.501143337144457, est=4.023756980679436, details={'was_impossible': False}),\n",
       " Prediction(uid=611, iid=1180, r_ui=3.501143337144457, est=4.023756980679436, details={'was_impossible': False}),\n",
       " Prediction(uid=611, iid=1183, r_ui=3.501143337144457, est=4.023756980679436, details={'was_impossible': False}),\n",
       " Prediction(uid=611, iid=1184, r_ui=3.501143337144457, est=4.023756980679436, details={'was_impossible': False}),\n",
       " Prediction(uid=611, iid=1185, r_ui=3.501143337144457, est=4.023756980679436, details={'was_impossible': False}),\n",
       " Prediction(uid=611, iid=1186, r_ui=3.501143337144457, est=4.023756980679436, details={'was_impossible': False}),\n",
       " Prediction(uid=611, iid=1187, r_ui=3.501143337144457, est=4.023756980679436, details={'was_impossible': False}),\n",
       " Prediction(uid=611, iid=1188, r_ui=3.501143337144457, est=4.023756980679436, details={'was_impossible': False}),\n",
       " Prediction(uid=611, iid=1189, r_ui=3.501143337144457, est=4.023756980679436, details={'was_impossible': False}),\n",
       " Prediction(uid=611, iid=1190, r_ui=3.501143337144457, est=4.023756980679436, details={'was_impossible': False}),\n",
       " Prediction(uid=611, iid=1191, r_ui=3.501143337144457, est=4.023756980679436, details={'was_impossible': False}),\n",
       " Prediction(uid=611, iid=1192, r_ui=3.501143337144457, est=4.023756980679436, details={'was_impossible': False}),\n",
       " Prediction(uid=611, iid=1193, r_ui=3.501143337144457, est=4.023756980679436, details={'was_impossible': False}),\n",
       " Prediction(uid=611, iid=1194, r_ui=3.501143337144457, est=4.023756980679436, details={'was_impossible': False}),\n",
       " Prediction(uid=611, iid=1197, r_ui=3.501143337144457, est=4.023756980679436, details={'was_impossible': False}),\n",
       " Prediction(uid=611, iid=1198, r_ui=3.501143337144457, est=4.023756980679436, details={'was_impossible': False}),\n",
       " Prediction(uid=611, iid=1199, r_ui=3.501143337144457, est=4.023756980679436, details={'was_impossible': False}),\n",
       " Prediction(uid=611, iid=1200, r_ui=3.501143337144457, est=4.023756980679436, details={'was_impossible': False}),\n",
       " Prediction(uid=611, iid=1201, r_ui=3.501143337144457, est=4.023756980679436, details={'was_impossible': False}),\n",
       " Prediction(uid=611, iid=1202, r_ui=3.501143337144457, est=4.023756980679436, details={'was_impossible': False}),\n",
       " Prediction(uid=611, iid=1203, r_ui=3.501143337144457, est=4.023756980679436, details={'was_impossible': False}),\n",
       " Prediction(uid=611, iid=1204, r_ui=3.501143337144457, est=4.023756980679436, details={'was_impossible': False}),\n",
       " Prediction(uid=611, iid=1206, r_ui=3.501143337144457, est=4.023756980679436, details={'was_impossible': False}),\n",
       " Prediction(uid=611, iid=1207, r_ui=3.501143337144457, est=4.023756980679436, details={'was_impossible': False}),\n",
       " Prediction(uid=611, iid=1208, r_ui=3.501143337144457, est=4.023756980679436, details={'was_impossible': False}),\n",
       " Prediction(uid=611, iid=1209, r_ui=3.501143337144457, est=4.023756980679436, details={'was_impossible': False}),\n",
       " Prediction(uid=611, iid=1210, r_ui=3.501143337144457, est=4.023756980679436, details={'was_impossible': False}),\n",
       " Prediction(uid=611, iid=1211, r_ui=3.501143337144457, est=4.023756980679436, details={'was_impossible': False}),\n",
       " Prediction(uid=611, iid=1212, r_ui=3.501143337144457, est=4.023756980679436, details={'was_impossible': False}),\n",
       " Prediction(uid=611, iid=1213, r_ui=3.501143337144457, est=4.023756980679436, details={'was_impossible': False}),\n",
       " Prediction(uid=611, iid=1214, r_ui=3.501143337144457, est=4.023756980679436, details={'was_impossible': False}),\n",
       " Prediction(uid=611, iid=1215, r_ui=3.501143337144457, est=4.023756980679436, details={'was_impossible': False}),\n",
       " Prediction(uid=611, iid=1216, r_ui=3.501143337144457, est=4.023756980679436, details={'was_impossible': False}),\n",
       " Prediction(uid=611, iid=1217, r_ui=3.501143337144457, est=4.023756980679436, details={'was_impossible': False}),\n",
       " Prediction(uid=611, iid=1218, r_ui=3.501143337144457, est=4.023756980679436, details={'was_impossible': False}),\n",
       " Prediction(uid=611, iid=1219, r_ui=3.501143337144457, est=4.023756980679436, details={'was_impossible': False}),\n",
       " Prediction(uid=611, iid=1220, r_ui=3.501143337144457, est=4.023756980679436, details={'was_impossible': False}),\n",
       " Prediction(uid=611, iid=1221, r_ui=3.501143337144457, est=4.023756980679436, details={'was_impossible': False}),\n",
       " Prediction(uid=611, iid=1222, r_ui=3.501143337144457, est=4.023756980679436, details={'was_impossible': False}),\n",
       " Prediction(uid=611, iid=1223, r_ui=3.501143337144457, est=4.023756980679436, details={'was_impossible': False}),\n",
       " Prediction(uid=611, iid=1224, r_ui=3.501143337144457, est=4.023756980679436, details={'was_impossible': False}),\n",
       " Prediction(uid=611, iid=1225, r_ui=3.501143337144457, est=4.023756980679436, details={'was_impossible': False}),\n",
       " Prediction(uid=611, iid=1226, r_ui=3.501143337144457, est=4.023756980679436, details={'was_impossible': False}),\n",
       " Prediction(uid=611, iid=1227, r_ui=3.501143337144457, est=4.023756980679436, details={'was_impossible': False}),\n",
       " Prediction(uid=611, iid=1228, r_ui=3.501143337144457, est=4.023756980679436, details={'was_impossible': False}),\n",
       " Prediction(uid=611, iid=1230, r_ui=3.501143337144457, est=4.023756980679436, details={'was_impossible': False}),\n",
       " Prediction(uid=611, iid=1231, r_ui=3.501143337144457, est=4.023756980679436, details={'was_impossible': False}),\n",
       " Prediction(uid=611, iid=1232, r_ui=3.501143337144457, est=4.023756980679436, details={'was_impossible': False}),\n",
       " Prediction(uid=611, iid=1233, r_ui=3.501143337144457, est=4.023756980679436, details={'was_impossible': False}),\n",
       " Prediction(uid=611, iid=1234, r_ui=3.501143337144457, est=4.023756980679436, details={'was_impossible': False}),\n",
       " Prediction(uid=611, iid=1235, r_ui=3.501143337144457, est=4.023756980679436, details={'was_impossible': False}),\n",
       " Prediction(uid=611, iid=1236, r_ui=3.501143337144457, est=4.023756980679436, details={'was_impossible': False}),\n",
       " Prediction(uid=611, iid=1237, r_ui=3.501143337144457, est=4.023756980679436, details={'was_impossible': False}),\n",
       " Prediction(uid=611, iid=1238, r_ui=3.501143337144457, est=4.023756980679436, details={'was_impossible': False}),\n",
       " Prediction(uid=611, iid=1240, r_ui=3.501143337144457, est=4.023756980679436, details={'was_impossible': False}),\n",
       " Prediction(uid=611, iid=1241, r_ui=3.501143337144457, est=4.023756980679436, details={'was_impossible': False}),\n",
       " Prediction(uid=611, iid=1242, r_ui=3.501143337144457, est=4.023756980679436, details={'was_impossible': False}),\n",
       " Prediction(uid=611, iid=1243, r_ui=3.501143337144457, est=4.023756980679436, details={'was_impossible': False}),\n",
       " Prediction(uid=611, iid=1244, r_ui=3.501143337144457, est=4.023756980679436, details={'was_impossible': False}),\n",
       " Prediction(uid=611, iid=1245, r_ui=3.501143337144457, est=4.023756980679436, details={'was_impossible': False}),\n",
       " Prediction(uid=611, iid=1246, r_ui=3.501143337144457, est=4.023756980679436, details={'was_impossible': False}),\n",
       " Prediction(uid=611, iid=1247, r_ui=3.501143337144457, est=4.023756980679436, details={'was_impossible': False}),\n",
       " Prediction(uid=611, iid=1248, r_ui=3.501143337144457, est=4.023756980679436, details={'was_impossible': False}),\n",
       " Prediction(uid=611, iid=1249, r_ui=3.501143337144457, est=4.023756980679436, details={'was_impossible': False}),\n",
       " Prediction(uid=611, iid=1250, r_ui=3.501143337144457, est=4.023756980679436, details={'was_impossible': False}),\n",
       " Prediction(uid=611, iid=1251, r_ui=3.501143337144457, est=4.023756980679436, details={'was_impossible': False}),\n",
       " Prediction(uid=611, iid=1252, r_ui=3.501143337144457, est=4.023756980679436, details={'was_impossible': False}),\n",
       " Prediction(uid=611, iid=1253, r_ui=3.501143337144457, est=4.023756980679436, details={'was_impossible': False}),\n",
       " Prediction(uid=611, iid=1254, r_ui=3.501143337144457, est=4.023756980679436, details={'was_impossible': False}),\n",
       " Prediction(uid=611, iid=1255, r_ui=3.501143337144457, est=4.023756980679436, details={'was_impossible': False}),\n",
       " Prediction(uid=611, iid=1256, r_ui=3.501143337144457, est=4.023756980679436, details={'was_impossible': False}),\n",
       " Prediction(uid=611, iid=1257, r_ui=3.501143337144457, est=4.023756980679436, details={'was_impossible': False}),\n",
       " Prediction(uid=611, iid=1258, r_ui=3.501143337144457, est=4.023756980679436, details={'was_impossible': False}),\n",
       " Prediction(uid=611, iid=1259, r_ui=3.501143337144457, est=4.023756980679436, details={'was_impossible': False}),\n",
       " Prediction(uid=611, iid=1260, r_ui=3.501143337144457, est=4.023756980679436, details={'was_impossible': False}),\n",
       " Prediction(uid=611, iid=1261, r_ui=3.501143337144457, est=4.023756980679436, details={'was_impossible': False}),\n",
       " Prediction(uid=611, iid=1262, r_ui=3.501143337144457, est=4.023756980679436, details={'was_impossible': False}),\n",
       " Prediction(uid=611, iid=1263, r_ui=3.501143337144457, est=4.023756980679436, details={'was_impossible': False}),\n",
       " Prediction(uid=611, iid=1264, r_ui=3.501143337144457, est=4.023756980679436, details={'was_impossible': False}),\n",
       " Prediction(uid=611, iid=1265, r_ui=3.501143337144457, est=4.023756980679436, details={'was_impossible': False}),\n",
       " Prediction(uid=611, iid=1266, r_ui=3.501143337144457, est=4.023756980679436, details={'was_impossible': False}),\n",
       " Prediction(uid=611, iid=1267, r_ui=3.501143337144457, est=4.023756980679436, details={'was_impossible': False}),\n",
       " Prediction(uid=611, iid=1268, r_ui=3.501143337144457, est=4.023756980679436, details={'was_impossible': False}),\n",
       " Prediction(uid=611, iid=1269, r_ui=3.501143337144457, est=4.023756980679436, details={'was_impossible': False}),\n",
       " Prediction(uid=611, iid=1270, r_ui=3.501143337144457, est=4.023756980679436, details={'was_impossible': False}),\n",
       " Prediction(uid=611, iid=1271, r_ui=3.501143337144457, est=4.023756980679436, details={'was_impossible': False}),\n",
       " Prediction(uid=611, iid=1272, r_ui=3.501143337144457, est=4.023756980679436, details={'was_impossible': False}),\n",
       " Prediction(uid=611, iid=1273, r_ui=3.501143337144457, est=4.023756980679436, details={'was_impossible': False}),\n",
       " Prediction(uid=611, iid=1274, r_ui=3.501143337144457, est=4.023756980679436, details={'was_impossible': False}),\n",
       " Prediction(uid=611, iid=1275, r_ui=3.501143337144457, est=4.023756980679436, details={'was_impossible': False}),\n",
       " Prediction(uid=611, iid=1276, r_ui=3.501143337144457, est=4.023756980679436, details={'was_impossible': False}),\n",
       " Prediction(uid=611, iid=1277, r_ui=3.501143337144457, est=4.023756980679436, details={'was_impossible': False}),\n",
       " Prediction(uid=611, iid=1278, r_ui=3.501143337144457, est=4.023756980679436, details={'was_impossible': False}),\n",
       " Prediction(uid=611, iid=1279, r_ui=3.501143337144457, est=4.023756980679436, details={'was_impossible': False}),\n",
       " Prediction(uid=611, iid=1280, r_ui=3.501143337144457, est=4.023756980679436, details={'was_impossible': False}),\n",
       " Prediction(uid=611, iid=1281, r_ui=3.501143337144457, est=4.023756980679436, details={'was_impossible': False}),\n",
       " Prediction(uid=611, iid=1282, r_ui=3.501143337144457, est=4.023756980679436, details={'was_impossible': False}),\n",
       " Prediction(uid=611, iid=1283, r_ui=3.501143337144457, est=4.023756980679436, details={'was_impossible': False}),\n",
       " Prediction(uid=611, iid=1284, r_ui=3.501143337144457, est=4.023756980679436, details={'was_impossible': False}),\n",
       " Prediction(uid=611, iid=1285, r_ui=3.501143337144457, est=4.023756980679436, details={'was_impossible': False}),\n",
       " Prediction(uid=611, iid=1286, r_ui=3.501143337144457, est=4.023756980679436, details={'was_impossible': False}),\n",
       " Prediction(uid=611, iid=1287, r_ui=3.501143337144457, est=4.023756980679436, details={'was_impossible': False}),\n",
       " Prediction(uid=611, iid=1288, r_ui=3.501143337144457, est=4.023756980679436, details={'was_impossible': False}),\n",
       " Prediction(uid=611, iid=1289, r_ui=3.501143337144457, est=4.023756980679436, details={'was_impossible': False}),\n",
       " Prediction(uid=611, iid=1290, r_ui=3.501143337144457, est=4.023756980679436, details={'was_impossible': False}),\n",
       " Prediction(uid=611, iid=1291, r_ui=3.501143337144457, est=4.023756980679436, details={'was_impossible': False}),\n",
       " Prediction(uid=611, iid=1292, r_ui=3.501143337144457, est=4.023756980679436, details={'was_impossible': False}),\n",
       " Prediction(uid=611, iid=1293, r_ui=3.501143337144457, est=4.023756980679436, details={'was_impossible': False}),\n",
       " Prediction(uid=611, iid=1295, r_ui=3.501143337144457, est=4.023756980679436, details={'was_impossible': False}),\n",
       " Prediction(uid=611, iid=1296, r_ui=3.501143337144457, est=4.023756980679436, details={'was_impossible': False}),\n",
       " Prediction(uid=611, iid=1297, r_ui=3.501143337144457, est=4.023756980679436, details={'was_impossible': False}),\n",
       " Prediction(uid=611, iid=1298, r_ui=3.501143337144457, est=4.023756980679436, details={'was_impossible': False}),\n",
       " Prediction(uid=611, iid=1299, r_ui=3.501143337144457, est=4.023756980679436, details={'was_impossible': False}),\n",
       " Prediction(uid=611, iid=1300, r_ui=3.501143337144457, est=4.023756980679436, details={'was_impossible': False}),\n",
       " Prediction(uid=611, iid=1301, r_ui=3.501143337144457, est=4.023756980679436, details={'was_impossible': False}),\n",
       " Prediction(uid=611, iid=1302, r_ui=3.501143337144457, est=4.023756980679436, details={'was_impossible': False}),\n",
       " Prediction(uid=611, iid=1303, r_ui=3.501143337144457, est=4.023756980679436, details={'was_impossible': False}),\n",
       " ...]"
      ]
     },
     "execution_count": 207,
     "metadata": {},
     "output_type": "execute_result"
    }
   ],
   "source": [
    "pred_for_new_vec"
   ]
  },
  {
   "cell_type": "code",
   "execution_count": 210,
   "metadata": {},
   "outputs": [
    {
     "data": {
      "text/plain": [
       "userId       2.983697e+02\n",
       "movieId      1.196000e+03\n",
       "rating       4.215640e+00\n",
       "timestamp    1.197440e+09\n",
       "dtype: float64"
      ]
     },
     "execution_count": 210,
     "metadata": {},
     "output_type": "execute_result"
    }
   ],
   "source": [
    "ratings[ratings.movieId == 1196].mean()"
   ]
  },
  {
   "cell_type": "code",
   "execution_count": 224,
   "metadata": {},
   "outputs": [],
   "source": [
    "def add_new_user(userId, movieId, rating,df):\n",
    "    new_users = pd.DataFrame({'userId':userId, 'movieId':movieId,'rating':rating} )\n",
    "    new_rat = new_users.merge(movies, on='movieId')\n",
    "    df = df.append(new_rat, ignore_index=True)\n",
    "    return df"
   ]
  },
  {
   "cell_type": "code",
   "execution_count": 289,
   "metadata": {},
   "outputs": [],
   "source": [
    "def predict_new_user(gs,new_users_id,df,n=20):\n",
    "    \n",
    "    dataset = pd.DataFrame({\n",
    "    'uid': df.userId,\n",
    "    'iid': df.title,\n",
    "    'rating': df.rating\n",
    "    })\n",
    "    \n",
    "    reader = Reader(rating_scale=(0.5, 5.0))\n",
    "    data = Dataset.load_from_df(dataset, reader)\n",
    "    \n",
    "    new_model = SVD(**gs.best_params['rmse'])\n",
    "    trainset = data.build_full_trainset()\n",
    "    new_model.fit(trainset)\n",
    "    \n",
    "    movies_user =df[df.userId == new_users_id].movieId.unique()\n",
    "    \n",
    "    vec = []\n",
    "    for movieId in df.movieId.unique():\n",
    "        if movieId in movies_user:\n",
    "            continue\n",
    "        vec.append((new_users_id,movieId,new_model.default_prediction()))\n",
    "    pred_for_new_vec = new_model.test(vec)    \n",
    "    \n",
    "    movies_for_new_vec = []\n",
    "    for uid, iid, true_r, est, _ in pred_for_new_vec:\n",
    "        movies_for_new_vec.append((iid, est))\n",
    "\n",
    "    movies_for_new_vec = sorted(movies_for_new_vec,reverse=True)[:n]\n",
    "    \n",
    "    for t in movies_for_new_vec:\n",
    "        print(movies_dict['title'][t[0]], t[1], movies_dict['genres'][t[0]])"
   ]
  },
  {
   "cell_type": "markdown",
   "metadata": {},
   "source": [
    "# 9. Поставьте оценку какому-нибудь фильму (который вы знаете и можете поставить оценку) и получите рекомендации, насколько они качественные по вашим ощущениям? Сделайте это для фильма с негативной оценкой и для фильма с позитивной оценкой.\n",
    "10. Добавляйте оценки и посмотрите, как изменяются рекомендации фильмов. Соответствуют ли они вашим предпочтениям? Есть ли недостатки у системы? "
   ]
  },
  {
   "cell_type": "code",
   "execution_count": 214,
   "metadata": {},
   "outputs": [
    {
     "data": {
      "text/plain": [
       "['Shawshank Redemption, The (1994)',\n",
       " 'Forrest Gump (1994)',\n",
       " 'Pulp Fiction (1994)',\n",
       " 'Matrix, The (1999)',\n",
       " 'Silence of the Lambs, The (1991)',\n",
       " 'Star Wars: Episode IV - A New Hope (1977)',\n",
       " 'Braveheart (1995)',\n",
       " 'Fight Club (1999)',\n",
       " \"Schindler's List (1993)\",\n",
       " 'Jurassic Park (1993)',\n",
       " 'Terminator 2: Judgment Day (1991)',\n",
       " 'Star Wars: Episode V - The Empire Strikes Back (1980)',\n",
       " 'Usual Suspects, The (1995)',\n",
       " 'Toy Story (1995)',\n",
       " 'Raiders of the Lost Ark (Indiana Jones and the Raiders of the Lost Ark) (1981)',\n",
       " 'American Beauty (1999)',\n",
       " 'Godfather, The (1972)',\n",
       " 'Lord of the Rings: The Fellowship of the Ring, The (2001)',\n",
       " 'Star Wars: Episode VI - Return of the Jedi (1983)',\n",
       " 'Seven (a.k.a. Se7en) (1995)']"
      ]
     },
     "execution_count": 214,
     "metadata": {},
     "output_type": "execute_result"
    }
   ],
   "source": [
    "top_films"
   ]
  },
  {
   "cell_type": "code",
   "execution_count": 222,
   "metadata": {},
   "outputs": [
    {
     "name": "stdout",
     "output_type": "stream",
     "text": [
      "Shawshank Redemption, The (1994) 318\n",
      "Forrest Gump (1994) 356\n",
      "Pulp Fiction (1994) 296\n",
      "Matrix, The (1999) 2571\n",
      "Silence of the Lambs, The (1991) 593\n",
      "Star Wars: Episode IV - A New Hope (1977) 260\n",
      "Braveheart (1995) 110\n",
      "Fight Club (1999) 2959\n",
      "Schindler's List (1993) 527\n",
      "Jurassic Park (1993) 480\n",
      "Terminator 2: Judgment Day (1991) 589\n",
      "Star Wars: Episode V - The Empire Strikes Back (1980) 1196\n",
      "Usual Suspects, The (1995) 50\n",
      "Toy Story (1995) 1\n",
      "Raiders of the Lost Ark (Indiana Jones and the Raiders of the Lost Ark) (1981) 1198\n",
      "American Beauty (1999) 2858\n",
      "Godfather, The (1972) 858\n",
      "Lord of the Rings: The Fellowship of the Ring, The (2001) 4993\n",
      "Star Wars: Episode VI - Return of the Jedi (1983) 1210\n",
      "Seven (a.k.a. Se7en) (1995) 47\n"
     ]
    }
   ],
   "source": [
    "for movie in top_films:\n",
    "    print(movie, movies.loc[movies['title'] == movie,'movieId'].values[0])"
   ]
  },
  {
   "cell_type": "code",
   "execution_count": 228,
   "metadata": {},
   "outputs": [],
   "source": [
    "movie_rat = add_new_user([612,612,612,612,612,612,612], [318,2571,593,2959,480,1,47], [4,4.5,5,5,4.3,4.7,4],movie_rat)"
   ]
  },
  {
   "cell_type": "code",
   "execution_count": 230,
   "metadata": {},
   "outputs": [
    {
     "data": {
      "text/html": [
       "<div>\n",
       "<style scoped>\n",
       "    .dataframe tbody tr th:only-of-type {\n",
       "        vertical-align: middle;\n",
       "    }\n",
       "\n",
       "    .dataframe tbody tr th {\n",
       "        vertical-align: top;\n",
       "    }\n",
       "\n",
       "    .dataframe thead th {\n",
       "        text-align: right;\n",
       "    }\n",
       "</style>\n",
       "<table border=\"1\" class=\"dataframe\">\n",
       "  <thead>\n",
       "    <tr style=\"text-align: right;\">\n",
       "      <th></th>\n",
       "      <th>genres</th>\n",
       "      <th>movieId</th>\n",
       "      <th>rating</th>\n",
       "      <th>timestamp</th>\n",
       "      <th>title</th>\n",
       "      <th>userId</th>\n",
       "    </tr>\n",
       "  </thead>\n",
       "  <tbody>\n",
       "    <tr>\n",
       "      <th>100836</th>\n",
       "      <td>Crime|Drama</td>\n",
       "      <td>318</td>\n",
       "      <td>4.0</td>\n",
       "      <td>NaN</td>\n",
       "      <td>Shawshank Redemption, The (1994)</td>\n",
       "      <td>612</td>\n",
       "    </tr>\n",
       "    <tr>\n",
       "      <th>100837</th>\n",
       "      <td>Action|Sci-Fi|Thriller</td>\n",
       "      <td>2571</td>\n",
       "      <td>4.5</td>\n",
       "      <td>NaN</td>\n",
       "      <td>Matrix, The (1999)</td>\n",
       "      <td>612</td>\n",
       "    </tr>\n",
       "    <tr>\n",
       "      <th>100838</th>\n",
       "      <td>Crime|Horror|Thriller</td>\n",
       "      <td>593</td>\n",
       "      <td>5.0</td>\n",
       "      <td>NaN</td>\n",
       "      <td>Silence of the Lambs, The (1991)</td>\n",
       "      <td>612</td>\n",
       "    </tr>\n",
       "    <tr>\n",
       "      <th>100839</th>\n",
       "      <td>Action|Crime|Drama|Thriller</td>\n",
       "      <td>2959</td>\n",
       "      <td>5.0</td>\n",
       "      <td>NaN</td>\n",
       "      <td>Fight Club (1999)</td>\n",
       "      <td>612</td>\n",
       "    </tr>\n",
       "    <tr>\n",
       "      <th>100840</th>\n",
       "      <td>Action|Adventure|Sci-Fi|Thriller</td>\n",
       "      <td>480</td>\n",
       "      <td>4.3</td>\n",
       "      <td>NaN</td>\n",
       "      <td>Jurassic Park (1993)</td>\n",
       "      <td>612</td>\n",
       "    </tr>\n",
       "    <tr>\n",
       "      <th>100841</th>\n",
       "      <td>Adventure|Animation|Children|Comedy|Fantasy</td>\n",
       "      <td>1</td>\n",
       "      <td>4.7</td>\n",
       "      <td>NaN</td>\n",
       "      <td>Toy Story (1995)</td>\n",
       "      <td>612</td>\n",
       "    </tr>\n",
       "    <tr>\n",
       "      <th>100842</th>\n",
       "      <td>Mystery|Thriller</td>\n",
       "      <td>47</td>\n",
       "      <td>4.0</td>\n",
       "      <td>NaN</td>\n",
       "      <td>Seven (a.k.a. Se7en) (1995)</td>\n",
       "      <td>612</td>\n",
       "    </tr>\n",
       "  </tbody>\n",
       "</table>\n",
       "</div>"
      ],
      "text/plain": [
       "                                             genres  movieId  rating  \\\n",
       "100836                                  Crime|Drama      318     4.0   \n",
       "100837                       Action|Sci-Fi|Thriller     2571     4.5   \n",
       "100838                        Crime|Horror|Thriller      593     5.0   \n",
       "100839                  Action|Crime|Drama|Thriller     2959     5.0   \n",
       "100840             Action|Adventure|Sci-Fi|Thriller      480     4.3   \n",
       "100841  Adventure|Animation|Children|Comedy|Fantasy        1     4.7   \n",
       "100842                             Mystery|Thriller       47     4.0   \n",
       "\n",
       "        timestamp                             title  userId  \n",
       "100836        NaN  Shawshank Redemption, The (1994)     612  \n",
       "100837        NaN                Matrix, The (1999)     612  \n",
       "100838        NaN  Silence of the Lambs, The (1991)     612  \n",
       "100839        NaN                 Fight Club (1999)     612  \n",
       "100840        NaN              Jurassic Park (1993)     612  \n",
       "100841        NaN                  Toy Story (1995)     612  \n",
       "100842        NaN       Seven (a.k.a. Se7en) (1995)     612  "
      ]
     },
     "execution_count": 230,
     "metadata": {},
     "output_type": "execute_result"
    }
   ],
   "source": [
    "movie_rat[movie_rat['userId'] == 612]"
   ]
  },
  {
   "cell_type": "code",
   "execution_count": 290,
   "metadata": {},
   "outputs": [
    {
     "name": "stdout",
     "output_type": "stream",
     "text": [
      "Andrew Dice Clay: Dice Rules (1991) 3.501556983616962 Comedy\n",
      "Bungo Stray Dogs: Dead Apple (2018) 3.501556983616962 Action|Animation\n",
      "Flint (2017) 3.501556983616962 Drama\n",
      "No Game No Life: Zero (2017) 3.501556983616962 Animation|Comedy|Fantasy\n",
      "Black Butler: Book of the Atlantic (2017) 3.501556983616962 Action|Animation|Comedy|Fantasy\n",
      "Jon Stewart Has Left the Building (2015) 3.501556983616962 Documentary\n",
      "Love Live! The School Idol Movie (2015) 3.501556983616962 Animation\n",
      "Silver Spoon (2014) 3.501556983616962 Comedy|Drama\n",
      "anohana: The Flower We Saw That Day - The Movie (2013) 3.501556983616962 Animation|Drama\n",
      "Gintama: The Movie (2010) 3.501556983616962 Action|Animation|Comedy|Sci-Fi\n",
      "Gintama (2017) 3.501556983616962 Action|Adventure|Comedy|Sci-Fi\n",
      "Hommage à Zgougou (et salut à Sabine Mamou) (2002) 3.501556983616962 Documentary\n",
      "Bunny (1998) 3.501556983616962 Animation\n",
      "Liquid Truth (2017) 3.501556983616962 Drama\n",
      "John From (2015) 3.501556983616962 Drama\n",
      "Jeff Ross Roasts the Border (2017) 3.501556983616962 Comedy\n",
      "Tilt (2011) 3.501556983616962 Drama|Romance\n",
      "The Darkest Minds (2018) 3.501556983616962 Sci-Fi|Thriller\n",
      "BlacKkKlansman (2018) 3.501556983616962 Comedy|Crime|Drama\n",
      "Iron Soldier (2010) 3.501556983616962 Action|Sci-Fi\n"
     ]
    }
   ],
   "source": [
    "predict_new_user(gs,612,movie_rat,n=20)"
   ]
  },
  {
   "cell_type": "markdown",
   "metadata": {},
   "source": [
    "При увеличении оценок для юзера, рекомендации стали больше походить на правду. Жанры рекомендуют достаточно релевантные для пользователя. Попробуем добавить оценок для плохих фильмов"
   ]
  },
  {
   "cell_type": "code",
   "execution_count": 232,
   "metadata": {},
   "outputs": [],
   "source": [
    "bottom_films = [x[0] for x in list(sorted(film_with_our_mark, key=lambda x: x[1]))[:20]]"
   ]
  },
  {
   "cell_type": "code",
   "execution_count": 233,
   "metadata": {},
   "outputs": [
    {
     "data": {
      "text/plain": [
       "[\"'Salem's Lot (2004)\",\n",
       " '12 Angry Men (1997)',\n",
       " '12 Chairs (1976)',\n",
       " '20 Million Miles to Earth (1957)',\n",
       " '61* (2001)',\n",
       " '7 Faces of Dr. Lao (1964)',\n",
       " '9/11 (2002)',\n",
       " 'A Detective Story (2003)',\n",
       " 'A Flintstones Christmas Carol (1994)',\n",
       " 'A Perfect Day (2015)',\n",
       " 'A Plasticine Crow (1981)',\n",
       " 'Act of Killing, The (2012)',\n",
       " 'Adventures Of Sherlock Holmes And Dr. Watson: The Twentieth Century Approaches (1986)',\n",
       " 'Advise and Consent (1962)',\n",
       " 'Alesha Popovich and Tugarin the Dragon (2004)',\n",
       " 'Alien Contamination (1980)',\n",
       " 'All Yours (2016)',\n",
       " 'All the Vermeers in New York (1990)',\n",
       " 'American Friend, The (Amerikanische Freund, Der) (1977)',\n",
       " 'Animals are Beautiful People (1974)']"
      ]
     },
     "execution_count": 233,
     "metadata": {},
     "output_type": "execute_result"
    }
   ],
   "source": [
    "bottom_films"
   ]
  },
  {
   "cell_type": "code",
   "execution_count": 234,
   "metadata": {},
   "outputs": [
    {
     "name": "stdout",
     "output_type": "stream",
     "text": [
      "'Salem's Lot (2004) 27751\n",
      "12 Angry Men (1997) 77846\n",
      "12 Chairs (1976) 141816\n",
      "20 Million Miles to Earth (1957) 5468\n",
      "61* (2001) 27373\n",
      "7 Faces of Dr. Lao (1964) 42556\n",
      "9/11 (2002) 44943\n",
      "A Detective Story (2003) 172875\n",
      "A Flintstones Christmas Carol (1994) 126088\n",
      "A Perfect Day (2015) 147410\n",
      "A Plasticine Crow (1981) 170597\n",
      "Act of Killing, The (2012) 100556\n",
      "Adventures Of Sherlock Holmes And Dr. Watson: The Twentieth Century Approaches (1986) 147300\n",
      "Advise and Consent (1962) 26078\n",
      "Alesha Popovich and Tugarin the Dragon (2004) 165959\n",
      "Alien Contamination (1980) 6835\n",
      "All Yours (2016) 158882\n",
      "All the Vermeers in New York (1990) 3531\n",
      "American Friend, The (Amerikanische Freund, Der) (1977) 6021\n",
      "Animals are Beautiful People (1974) 6408\n"
     ]
    }
   ],
   "source": [
    "for movie in bottom_films:\n",
    "    print(movie, movies.loc[movies['title'] == movie,'movieId'].values[0])"
   ]
  },
  {
   "cell_type": "code",
   "execution_count": 235,
   "metadata": {},
   "outputs": [],
   "source": [
    "movie_rat = add_new_user([612,612,612,612,612,612,612], [27751,77846,141816,5468,27373,172875,126088], [3,2.1,2,1,3.3,3.7,4],movie_rat)"
   ]
  },
  {
   "cell_type": "code",
   "execution_count": 236,
   "metadata": {},
   "outputs": [
    {
     "data": {
      "text/html": [
       "<div>\n",
       "<style scoped>\n",
       "    .dataframe tbody tr th:only-of-type {\n",
       "        vertical-align: middle;\n",
       "    }\n",
       "\n",
       "    .dataframe tbody tr th {\n",
       "        vertical-align: top;\n",
       "    }\n",
       "\n",
       "    .dataframe thead th {\n",
       "        text-align: right;\n",
       "    }\n",
       "</style>\n",
       "<table border=\"1\" class=\"dataframe\">\n",
       "  <thead>\n",
       "    <tr style=\"text-align: right;\">\n",
       "      <th></th>\n",
       "      <th>genres</th>\n",
       "      <th>movieId</th>\n",
       "      <th>rating</th>\n",
       "      <th>timestamp</th>\n",
       "      <th>title</th>\n",
       "      <th>userId</th>\n",
       "    </tr>\n",
       "  </thead>\n",
       "  <tbody>\n",
       "    <tr>\n",
       "      <th>100836</th>\n",
       "      <td>Crime|Drama</td>\n",
       "      <td>318</td>\n",
       "      <td>4.0</td>\n",
       "      <td>NaN</td>\n",
       "      <td>Shawshank Redemption, The (1994)</td>\n",
       "      <td>612</td>\n",
       "    </tr>\n",
       "    <tr>\n",
       "      <th>100837</th>\n",
       "      <td>Action|Sci-Fi|Thriller</td>\n",
       "      <td>2571</td>\n",
       "      <td>4.5</td>\n",
       "      <td>NaN</td>\n",
       "      <td>Matrix, The (1999)</td>\n",
       "      <td>612</td>\n",
       "    </tr>\n",
       "    <tr>\n",
       "      <th>100838</th>\n",
       "      <td>Crime|Horror|Thriller</td>\n",
       "      <td>593</td>\n",
       "      <td>5.0</td>\n",
       "      <td>NaN</td>\n",
       "      <td>Silence of the Lambs, The (1991)</td>\n",
       "      <td>612</td>\n",
       "    </tr>\n",
       "    <tr>\n",
       "      <th>100839</th>\n",
       "      <td>Action|Crime|Drama|Thriller</td>\n",
       "      <td>2959</td>\n",
       "      <td>5.0</td>\n",
       "      <td>NaN</td>\n",
       "      <td>Fight Club (1999)</td>\n",
       "      <td>612</td>\n",
       "    </tr>\n",
       "    <tr>\n",
       "      <th>100840</th>\n",
       "      <td>Action|Adventure|Sci-Fi|Thriller</td>\n",
       "      <td>480</td>\n",
       "      <td>4.3</td>\n",
       "      <td>NaN</td>\n",
       "      <td>Jurassic Park (1993)</td>\n",
       "      <td>612</td>\n",
       "    </tr>\n",
       "    <tr>\n",
       "      <th>100841</th>\n",
       "      <td>Adventure|Animation|Children|Comedy|Fantasy</td>\n",
       "      <td>1</td>\n",
       "      <td>4.7</td>\n",
       "      <td>NaN</td>\n",
       "      <td>Toy Story (1995)</td>\n",
       "      <td>612</td>\n",
       "    </tr>\n",
       "    <tr>\n",
       "      <th>100842</th>\n",
       "      <td>Mystery|Thriller</td>\n",
       "      <td>47</td>\n",
       "      <td>4.0</td>\n",
       "      <td>NaN</td>\n",
       "      <td>Seven (a.k.a. Se7en) (1995)</td>\n",
       "      <td>612</td>\n",
       "    </tr>\n",
       "    <tr>\n",
       "      <th>100843</th>\n",
       "      <td>Drama|Horror|Mystery|Thriller</td>\n",
       "      <td>27751</td>\n",
       "      <td>3.0</td>\n",
       "      <td>NaN</td>\n",
       "      <td>'Salem's Lot (2004)</td>\n",
       "      <td>612</td>\n",
       "    </tr>\n",
       "    <tr>\n",
       "      <th>100844</th>\n",
       "      <td>Crime|Drama</td>\n",
       "      <td>77846</td>\n",
       "      <td>2.1</td>\n",
       "      <td>NaN</td>\n",
       "      <td>12 Angry Men (1997)</td>\n",
       "      <td>612</td>\n",
       "    </tr>\n",
       "    <tr>\n",
       "      <th>100845</th>\n",
       "      <td>Adventure|Comedy</td>\n",
       "      <td>141816</td>\n",
       "      <td>2.0</td>\n",
       "      <td>NaN</td>\n",
       "      <td>12 Chairs (1976)</td>\n",
       "      <td>612</td>\n",
       "    </tr>\n",
       "    <tr>\n",
       "      <th>100846</th>\n",
       "      <td>Sci-Fi</td>\n",
       "      <td>5468</td>\n",
       "      <td>1.0</td>\n",
       "      <td>NaN</td>\n",
       "      <td>20 Million Miles to Earth (1957)</td>\n",
       "      <td>612</td>\n",
       "    </tr>\n",
       "    <tr>\n",
       "      <th>100847</th>\n",
       "      <td>Drama</td>\n",
       "      <td>27373</td>\n",
       "      <td>3.3</td>\n",
       "      <td>NaN</td>\n",
       "      <td>61* (2001)</td>\n",
       "      <td>612</td>\n",
       "    </tr>\n",
       "    <tr>\n",
       "      <th>100848</th>\n",
       "      <td>Animation|Sci-Fi</td>\n",
       "      <td>172875</td>\n",
       "      <td>3.7</td>\n",
       "      <td>NaN</td>\n",
       "      <td>A Detective Story (2003)</td>\n",
       "      <td>612</td>\n",
       "    </tr>\n",
       "    <tr>\n",
       "      <th>100849</th>\n",
       "      <td>Animation|Children|Comedy</td>\n",
       "      <td>126088</td>\n",
       "      <td>4.0</td>\n",
       "      <td>NaN</td>\n",
       "      <td>A Flintstones Christmas Carol (1994)</td>\n",
       "      <td>612</td>\n",
       "    </tr>\n",
       "  </tbody>\n",
       "</table>\n",
       "</div>"
      ],
      "text/plain": [
       "                                             genres  movieId  rating  \\\n",
       "100836                                  Crime|Drama      318     4.0   \n",
       "100837                       Action|Sci-Fi|Thriller     2571     4.5   \n",
       "100838                        Crime|Horror|Thriller      593     5.0   \n",
       "100839                  Action|Crime|Drama|Thriller     2959     5.0   \n",
       "100840             Action|Adventure|Sci-Fi|Thriller      480     4.3   \n",
       "100841  Adventure|Animation|Children|Comedy|Fantasy        1     4.7   \n",
       "100842                             Mystery|Thriller       47     4.0   \n",
       "100843                Drama|Horror|Mystery|Thriller    27751     3.0   \n",
       "100844                                  Crime|Drama    77846     2.1   \n",
       "100845                             Adventure|Comedy   141816     2.0   \n",
       "100846                                       Sci-Fi     5468     1.0   \n",
       "100847                                        Drama    27373     3.3   \n",
       "100848                             Animation|Sci-Fi   172875     3.7   \n",
       "100849                    Animation|Children|Comedy   126088     4.0   \n",
       "\n",
       "        timestamp                                 title  userId  \n",
       "100836        NaN      Shawshank Redemption, The (1994)     612  \n",
       "100837        NaN                    Matrix, The (1999)     612  \n",
       "100838        NaN      Silence of the Lambs, The (1991)     612  \n",
       "100839        NaN                     Fight Club (1999)     612  \n",
       "100840        NaN                  Jurassic Park (1993)     612  \n",
       "100841        NaN                      Toy Story (1995)     612  \n",
       "100842        NaN           Seven (a.k.a. Se7en) (1995)     612  \n",
       "100843        NaN                   'Salem's Lot (2004)     612  \n",
       "100844        NaN                   12 Angry Men (1997)     612  \n",
       "100845        NaN                      12 Chairs (1976)     612  \n",
       "100846        NaN      20 Million Miles to Earth (1957)     612  \n",
       "100847        NaN                            61* (2001)     612  \n",
       "100848        NaN              A Detective Story (2003)     612  \n",
       "100849        NaN  A Flintstones Christmas Carol (1994)     612  "
      ]
     },
     "execution_count": 236,
     "metadata": {},
     "output_type": "execute_result"
    }
   ],
   "source": [
    "movie_rat[movie_rat['userId'] == 612]"
   ]
  },
  {
   "cell_type": "code",
   "execution_count": 237,
   "metadata": {},
   "outputs": [
    {
     "name": "stdout",
     "output_type": "stream",
     "text": [
      "Andrew Dice Clay: Dice Rules (1991) 3.3497029959213624 Comedy\n",
      "Bungo Stray Dogs: Dead Apple (2018) 3.3497029959213624 Action|Animation\n",
      "Flint (2017) 3.3497029959213624 Drama\n",
      "No Game No Life: Zero (2017) 3.3497029959213624 Animation|Comedy|Fantasy\n",
      "Black Butler: Book of the Atlantic (2017) 3.3497029959213624 Action|Animation|Comedy|Fantasy\n",
      "Jon Stewart Has Left the Building (2015) 3.3497029959213624 Documentary\n",
      "Love Live! The School Idol Movie (2015) 3.3497029959213624 Animation\n",
      "Silver Spoon (2014) 3.3497029959213624 Comedy|Drama\n",
      "anohana: The Flower We Saw That Day - The Movie (2013) 3.3497029959213624 Animation|Drama\n",
      "Gintama: The Movie (2010) 3.3497029959213624 Action|Animation|Comedy|Sci-Fi\n",
      "Gintama (2017) 3.3497029959213624 Action|Adventure|Comedy|Sci-Fi\n",
      "Hommage à Zgougou (et salut à Sabine Mamou) (2002) 3.3497029959213624 Documentary\n",
      "Bunny (1998) 3.3497029959213624 Animation\n",
      "Liquid Truth (2017) 3.3497029959213624 Drama\n",
      "John From (2015) 3.3497029959213624 Drama\n",
      "Jeff Ross Roasts the Border (2017) 3.3497029959213624 Comedy\n",
      "Tilt (2011) 3.3497029959213624 Drama|Romance\n",
      "The Darkest Minds (2018) 3.3497029959213624 Sci-Fi|Thriller\n",
      "BlacKkKlansman (2018) 3.3497029959213624 Comedy|Crime|Drama\n",
      "Iron Soldier (2010) 3.3497029959213624 Action|Sci-Fi\n"
     ]
    }
   ],
   "source": [
    "predict_new_user(gs,612,movie_rat,n=20)"
   ]
  },
  {
   "cell_type": "markdown",
   "metadata": {},
   "source": [
    "Оценки у предложенных фильмов упали, на это повлияло то, что мы добавили данные к пользователю с низкими оценками. Жанры все также остаются достаточно релевантными. Однако сами фильмы скорее всего будут не очень релевантны пользователю. Ни одного топ фильма в списке нет. Система достаточно неплохо реагирует на общий настрой пользователя (позитивные/негативные оценки в целом),  неплохо отбирает жанры, но сами фильмы рекомендует достаточно плохо."
   ]
  },
  {
   "cell_type": "code",
   "execution_count": 238,
   "metadata": {},
   "outputs": [],
   "source": [
    "middle_films = [x[0] for x in list(sorted(film_with_our_mark, key=lambda x: x[1], reverse=True))[20:40]]"
   ]
  },
  {
   "cell_type": "code",
   "execution_count": 239,
   "metadata": {},
   "outputs": [
    {
     "data": {
      "text/plain": [
       "['Saving Private Ryan (1998)',\n",
       " 'Apollo 13 (1995)',\n",
       " 'Lord of the Rings: The Return of the King, The (2003)',\n",
       " 'Fugitive, The (1993)',\n",
       " 'Lord of the Rings: The Two Towers, The (2002)',\n",
       " 'Fargo (1996)',\n",
       " 'Twelve Monkeys (a.k.a. 12 Monkeys) (1995)',\n",
       " 'Independence Day (a.k.a. ID4) (1996)',\n",
       " 'Sixth Sense, The (1999)',\n",
       " 'Aladdin (1992)',\n",
       " 'Back to the Future (1985)',\n",
       " 'Lion King, The (1994)',\n",
       " 'Gladiator (2000)',\n",
       " 'Shrek (2001)',\n",
       " 'Memento (2000)',\n",
       " 'Batman (1989)',\n",
       " 'Dances with Wolves (1990)',\n",
       " 'Dark Knight, The (2008)',\n",
       " 'True Lies (1994)',\n",
       " 'Speed (1994)']"
      ]
     },
     "execution_count": 239,
     "metadata": {},
     "output_type": "execute_result"
    }
   ],
   "source": [
    "middle_films"
   ]
  },
  {
   "cell_type": "code",
   "execution_count": 240,
   "metadata": {},
   "outputs": [
    {
     "name": "stdout",
     "output_type": "stream",
     "text": [
      "Saving Private Ryan (1998) 2028\n",
      "Apollo 13 (1995) 150\n",
      "Lord of the Rings: The Return of the King, The (2003) 7153\n",
      "Fugitive, The (1993) 457\n",
      "Lord of the Rings: The Two Towers, The (2002) 5952\n",
      "Fargo (1996) 608\n",
      "Twelve Monkeys (a.k.a. 12 Monkeys) (1995) 32\n",
      "Independence Day (a.k.a. ID4) (1996) 780\n",
      "Sixth Sense, The (1999) 2762\n",
      "Aladdin (1992) 588\n",
      "Back to the Future (1985) 1270\n",
      "Lion King, The (1994) 364\n",
      "Gladiator (2000) 3578\n",
      "Shrek (2001) 4306\n",
      "Memento (2000) 4226\n",
      "Batman (1989) 592\n",
      "Dances with Wolves (1990) 590\n",
      "Dark Knight, The (2008) 58559\n",
      "True Lies (1994) 380\n",
      "Speed (1994) 377\n"
     ]
    }
   ],
   "source": [
    "for movie in middle_films:\n",
    "    print(movie, movies.loc[movies['title'] == movie,'movieId'].values[0])"
   ]
  },
  {
   "cell_type": "code",
   "execution_count": 241,
   "metadata": {},
   "outputs": [],
   "source": [
    "movie_rat = add_new_user([612,612,612,612,612,612,612], [2028,150,7153,457,5952,608,32], [4,4,4,4.5,4.5,5,4.3],movie_rat)"
   ]
  },
  {
   "cell_type": "code",
   "execution_count": 242,
   "metadata": {},
   "outputs": [
    {
     "name": "stdout",
     "output_type": "stream",
     "text": [
      "Andrew Dice Clay: Dice Rules (1991) 3.5417675552068757 Comedy\n",
      "Bungo Stray Dogs: Dead Apple (2018) 3.5417675552068757 Action|Animation\n",
      "Flint (2017) 3.5417675552068757 Drama\n",
      "No Game No Life: Zero (2017) 3.5417675552068757 Animation|Comedy|Fantasy\n",
      "Black Butler: Book of the Atlantic (2017) 3.5417675552068757 Action|Animation|Comedy|Fantasy\n",
      "Jon Stewart Has Left the Building (2015) 3.5417675552068757 Documentary\n",
      "Love Live! The School Idol Movie (2015) 3.5417675552068757 Animation\n",
      "Silver Spoon (2014) 3.5417675552068757 Comedy|Drama\n",
      "anohana: The Flower We Saw That Day - The Movie (2013) 3.5417675552068757 Animation|Drama\n",
      "Gintama: The Movie (2010) 3.5417675552068757 Action|Animation|Comedy|Sci-Fi\n",
      "Gintama (2017) 3.5417675552068757 Action|Adventure|Comedy|Sci-Fi\n",
      "Hommage à Zgougou (et salut à Sabine Mamou) (2002) 3.5417675552068757 Documentary\n",
      "Bunny (1998) 3.5417675552068757 Animation\n",
      "Liquid Truth (2017) 3.5417675552068757 Drama\n",
      "John From (2015) 3.5417675552068757 Drama\n",
      "Jeff Ross Roasts the Border (2017) 3.5417675552068757 Comedy\n",
      "Tilt (2011) 3.5417675552068757 Drama|Romance\n",
      "The Darkest Minds (2018) 3.5417675552068757 Sci-Fi|Thriller\n",
      "BlacKkKlansman (2018) 3.5417675552068757 Comedy|Crime|Drama\n",
      "Iron Soldier (2010) 3.5417675552068757 Action|Sci-Fi\n"
     ]
    }
   ],
   "source": [
    "predict_new_user(gs,612,movie_rat,n=20)"
   ]
  },
  {
   "cell_type": "markdown",
   "metadata": {},
   "source": [
    "При добавлении новых оценок , рекомендации повысились, но все также упорно нет ни одного известного фильма в рекомендациях."
   ]
  },
  {
   "cell_type": "markdown",
   "metadata": {},
   "source": [
    "# 11. Построить рекомендательную систему по подвыборке - выбрать интересный вам жанр. Изменились ли рекомендации? Стали лучше\\хуже?"
   ]
  },
  {
   "cell_type": "code",
   "execution_count": 291,
   "metadata": {},
   "outputs": [],
   "source": [
    "movie_rat_new = movie_rat[movie_rat['genres'].str.contains('Action')]"
   ]
  },
  {
   "cell_type": "code",
   "execution_count": 293,
   "metadata": {},
   "outputs": [
    {
     "name": "stdout",
     "output_type": "stream",
     "text": [
      "Bungo Stray Dogs: Dead Apple (2018) 3.447984331646809 Action|Animation\n",
      "Black Butler: Book of the Atlantic (2017) 3.447984331646809 Action|Animation|Comedy|Fantasy\n",
      "Gintama: The Movie (2010) 3.447984331646809 Action|Animation|Comedy|Sci-Fi\n",
      "Gintama (2017) 3.447984331646809 Action|Adventure|Comedy|Sci-Fi\n",
      "Iron Soldier (2010) 3.447984331646809 Action|Sci-Fi\n",
      "SuperFly (2018) 3.447984331646809 Action|Crime|Thriller\n",
      "Mission: Impossible - Fallout (2018) 3.447984331646809 Action|Adventure|Thriller\n",
      "Ant-Man and the Wasp (2018) 3.447984331646809 Action|Adventure|Comedy|Fantasy|Sci-Fi\n",
      "Solo: A Star Wars Story (2018) 3.447984331646809 Action|Adventure|Children|Sci-Fi\n",
      "Deadpool 2 (2018) 3.447984331646809 Action|Comedy|Sci-Fi\n",
      "Incredibles 2 (2018) 3.447984331646809 Action|Adventure|Animation|Children\n",
      "Jurassic World: Fallen Kingdom (2018) 3.447984331646809 Action|Adventure|Drama|Sci-Fi|Thriller\n",
      "Rampage (2018) 3.447984331646809 Action|Adventure|Sci-Fi\n",
      "Pacific Rim: Uprising (2018) 3.447984331646809 Action|Fantasy|Sci-Fi\n",
      "Game Over, Man! (2018) 3.447984331646809 Action|Comedy\n",
      "Death Wish (2018) 3.447984331646809 Action|Crime|Drama|Thriller\n",
      "Fullmetal Alchemist 2018 (2017) 3.447984331646809 Action|Adventure|Fantasy\n",
      "Tomb Raider (2018) 3.447984331646809 Action|Adventure|Fantasy\n",
      "Battle Planet (2008) 3.447984331646809 Action|Sci-Fi\n",
      "Maze Runner: The Death Cure (2018) 3.447984331646809 Action|Mystery|Sci-Fi|Thriller\n"
     ]
    }
   ],
   "source": [
    "predict_new_user(gs,612,movie_rat_new,n=20)"
   ]
  },
  {
   "cell_type": "markdown",
   "metadata": {},
   "source": [
    "Рекомендации стали лучше - появились известные фильмы в выборке."
   ]
  },
  {
   "cell_type": "code",
   "execution_count": null,
   "metadata": {},
   "outputs": [],
   "source": []
  }
 ],
 "metadata": {
  "kernelspec": {
   "display_name": "Python 3",
   "language": "python",
   "name": "python3"
  },
  "language_info": {
   "codemirror_mode": {
    "name": "ipython",
    "version": 3
   },
   "file_extension": ".py",
   "mimetype": "text/x-python",
   "name": "python",
   "nbconvert_exporter": "python",
   "pygments_lexer": "ipython3",
   "version": "3.7.3"
  }
 },
 "nbformat": 4,
 "nbformat_minor": 2
}
